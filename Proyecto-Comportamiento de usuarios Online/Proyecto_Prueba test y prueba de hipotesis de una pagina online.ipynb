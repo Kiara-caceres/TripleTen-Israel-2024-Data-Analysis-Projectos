{
 "cells": [
  {
   "cell_type": "markdown",
   "metadata": {},
   "source": [
    "# PROYECTO 11: Comportamiento de los usuarios en tienda online\n",
    "**DESCRIPCION**\n",
    "Trabajas en una empresa emergente que vende productos alimenticios. Debes investigar el comportamiento del usuario para la aplicación de la empresa."
   ]
  },
  {
   "cell_type": "markdown",
   "metadata": {},
   "source": [
    "Los usuarios se dividen en tres grupos: dos grupos de control obtienen las fuentes antiguas y un grupo de prueba obtiene las nuevas. Descubre qué conjunto de fuentes produce mejores resultados."
   ]
  },
  {
   "cell_type": "markdown",
   "metadata": {},
   "source": [
    "## Descripción de los datos\n",
    "Cada entrada de registro es una acción de usuario o un evento.\n",
    "\n",
    "* EventName : nombre del evento.\n",
    "* DeviceIDHash: identificador de usuario unívoco.\n",
    "* EventTimestamp: hora del evento.\n",
    "* ExpId: número de experimento: 246 y 247 son los grupos de control, 248 es el grupo de prueba."
   ]
  },
  {
   "cell_type": "markdown",
   "metadata": {},
   "source": [
    "## Abrir el archivo de datos y leer la información general"
   ]
  },
  {
   "cell_type": "markdown",
   "metadata": {},
   "source": [
    "### Importación de librerías"
   ]
  },
  {
   "cell_type": "code",
   "execution_count": 1,
   "metadata": {},
   "outputs": [],
   "source": [
    "import pandas as pd\n",
    "import datetime as dt\n",
    "import matplotlib.pyplot as plt\n",
    "from scipy import stats as st\n",
    "import numpy as np"
   ]
  },
  {
   "cell_type": "code",
   "execution_count": 2,
   "metadata": {},
   "outputs": [],
   "source": [
    "data= pd.read_csv('/datasets/logs_exp_us.csv', sep='\\t')\n"
   ]
  },
  {
   "cell_type": "markdown",
   "metadata": {},
   "source": [
    "### Importación de datos"
   ]
  },
  {
   "cell_type": "code",
   "execution_count": 3,
   "metadata": {},
   "outputs": [
    {
     "data": {
      "text/html": [
       "<div>\n",
       "<style scoped>\n",
       "    .dataframe tbody tr th:only-of-type {\n",
       "        vertical-align: middle;\n",
       "    }\n",
       "\n",
       "    .dataframe tbody tr th {\n",
       "        vertical-align: top;\n",
       "    }\n",
       "\n",
       "    .dataframe thead th {\n",
       "        text-align: right;\n",
       "    }\n",
       "</style>\n",
       "<table border=\"1\" class=\"dataframe\">\n",
       "  <thead>\n",
       "    <tr style=\"text-align: right;\">\n",
       "      <th></th>\n",
       "      <th>EventName</th>\n",
       "      <th>DeviceIDHash</th>\n",
       "      <th>EventTimestamp</th>\n",
       "      <th>ExpId</th>\n",
       "    </tr>\n",
       "  </thead>\n",
       "  <tbody>\n",
       "    <tr>\n",
       "      <th>0</th>\n",
       "      <td>MainScreenAppear</td>\n",
       "      <td>4575588528974610257</td>\n",
       "      <td>1564029816</td>\n",
       "      <td>246</td>\n",
       "    </tr>\n",
       "    <tr>\n",
       "      <th>1</th>\n",
       "      <td>MainScreenAppear</td>\n",
       "      <td>7416695313311560658</td>\n",
       "      <td>1564053102</td>\n",
       "      <td>246</td>\n",
       "    </tr>\n",
       "    <tr>\n",
       "      <th>2</th>\n",
       "      <td>PaymentScreenSuccessful</td>\n",
       "      <td>3518123091307005509</td>\n",
       "      <td>1564054127</td>\n",
       "      <td>248</td>\n",
       "    </tr>\n",
       "    <tr>\n",
       "      <th>3</th>\n",
       "      <td>CartScreenAppear</td>\n",
       "      <td>3518123091307005509</td>\n",
       "      <td>1564054127</td>\n",
       "      <td>248</td>\n",
       "    </tr>\n",
       "    <tr>\n",
       "      <th>4</th>\n",
       "      <td>PaymentScreenSuccessful</td>\n",
       "      <td>6217807653094995999</td>\n",
       "      <td>1564055322</td>\n",
       "      <td>248</td>\n",
       "    </tr>\n",
       "    <tr>\n",
       "      <th>...</th>\n",
       "      <td>...</td>\n",
       "      <td>...</td>\n",
       "      <td>...</td>\n",
       "      <td>...</td>\n",
       "    </tr>\n",
       "    <tr>\n",
       "      <th>244121</th>\n",
       "      <td>MainScreenAppear</td>\n",
       "      <td>4599628364049201812</td>\n",
       "      <td>1565212345</td>\n",
       "      <td>247</td>\n",
       "    </tr>\n",
       "    <tr>\n",
       "      <th>244122</th>\n",
       "      <td>MainScreenAppear</td>\n",
       "      <td>5849806612437486590</td>\n",
       "      <td>1565212439</td>\n",
       "      <td>246</td>\n",
       "    </tr>\n",
       "    <tr>\n",
       "      <th>244123</th>\n",
       "      <td>MainScreenAppear</td>\n",
       "      <td>5746969938801999050</td>\n",
       "      <td>1565212483</td>\n",
       "      <td>246</td>\n",
       "    </tr>\n",
       "    <tr>\n",
       "      <th>244124</th>\n",
       "      <td>MainScreenAppear</td>\n",
       "      <td>5746969938801999050</td>\n",
       "      <td>1565212498</td>\n",
       "      <td>246</td>\n",
       "    </tr>\n",
       "    <tr>\n",
       "      <th>244125</th>\n",
       "      <td>OffersScreenAppear</td>\n",
       "      <td>5746969938801999050</td>\n",
       "      <td>1565212517</td>\n",
       "      <td>246</td>\n",
       "    </tr>\n",
       "  </tbody>\n",
       "</table>\n",
       "<p>244126 rows × 4 columns</p>\n",
       "</div>"
      ],
      "text/plain": [
       "                      EventName         DeviceIDHash  EventTimestamp  ExpId\n",
       "0              MainScreenAppear  4575588528974610257      1564029816    246\n",
       "1              MainScreenAppear  7416695313311560658      1564053102    246\n",
       "2       PaymentScreenSuccessful  3518123091307005509      1564054127    248\n",
       "3              CartScreenAppear  3518123091307005509      1564054127    248\n",
       "4       PaymentScreenSuccessful  6217807653094995999      1564055322    248\n",
       "...                         ...                  ...             ...    ...\n",
       "244121         MainScreenAppear  4599628364049201812      1565212345    247\n",
       "244122         MainScreenAppear  5849806612437486590      1565212439    246\n",
       "244123         MainScreenAppear  5746969938801999050      1565212483    246\n",
       "244124         MainScreenAppear  5746969938801999050      1565212498    246\n",
       "244125       OffersScreenAppear  5746969938801999050      1565212517    246\n",
       "\n",
       "[244126 rows x 4 columns]"
      ]
     },
     "execution_count": 3,
     "metadata": {},
     "output_type": "execute_result"
    }
   ],
   "source": [
    "data"
   ]
  },
  {
   "cell_type": "markdown",
   "metadata": {},
   "source": [
    "## Preparar los datos"
   ]
  },
  {
   "cell_type": "markdown",
   "metadata": {},
   "source": [
    "### Cambiar nombre de las columnas "
   ]
  },
  {
   "cell_type": "code",
   "execution_count": 4,
   "metadata": {},
   "outputs": [],
   "source": [
    "data.columns=['evento','user_id','fecha','Prueba']"
   ]
  },
  {
   "cell_type": "markdown",
   "metadata": {},
   "source": [
    "### Comprobar datos ausentes y corregir tipo de datos si es necesario"
   ]
  },
  {
   "cell_type": "code",
   "execution_count": 5,
   "metadata": {},
   "outputs": [
    {
     "name": "stdout",
     "output_type": "stream",
     "text": [
      "<class 'pandas.core.frame.DataFrame'>\n",
      "RangeIndex: 244126 entries, 0 to 244125\n",
      "Data columns (total 4 columns):\n",
      " #   Column   Non-Null Count   Dtype \n",
      "---  ------   --------------   ----- \n",
      " 0   evento   244126 non-null  object\n",
      " 1   user_id  244126 non-null  int64 \n",
      " 2   fecha    244126 non-null  int64 \n",
      " 3   Prueba   244126 non-null  int64 \n",
      "dtypes: int64(3), object(1)\n",
      "memory usage: 7.5+ MB\n"
     ]
    }
   ],
   "source": [
    "data.info()"
   ]
  },
  {
   "cell_type": "markdown",
   "metadata": {},
   "source": [
    "La columna Timestamps(marcas de tiempo) esta en un formato de fecha de la epoca Unix.\n",
    "* convertir la columna fecha a objeto datetime\n",
    "* No hay valores ausentes\n",
    "* Verificar si hay duplicados"
   ]
  },
  {
   "cell_type": "code",
   "execution_count": 6,
   "metadata": {},
   "outputs": [],
   "source": [
    "# Convierte la columna 'fecha' de timestamp a datetime\n",
    "data['fecha'] = pd.to_datetime(data['fecha'], unit='s')"
   ]
  },
  {
   "cell_type": "code",
   "execution_count": 7,
   "metadata": {},
   "outputs": [
    {
     "name": "stdout",
     "output_type": "stream",
     "text": [
      "Tienes 413 duplicados\n"
     ]
    },
    {
     "data": {
      "text/html": [
       "<div>\n",
       "<style scoped>\n",
       "    .dataframe tbody tr th:only-of-type {\n",
       "        vertical-align: middle;\n",
       "    }\n",
       "\n",
       "    .dataframe tbody tr th {\n",
       "        vertical-align: top;\n",
       "    }\n",
       "\n",
       "    .dataframe thead th {\n",
       "        text-align: right;\n",
       "    }\n",
       "</style>\n",
       "<table border=\"1\" class=\"dataframe\">\n",
       "  <thead>\n",
       "    <tr style=\"text-align: right;\">\n",
       "      <th></th>\n",
       "      <th>evento</th>\n",
       "      <th>user_id</th>\n",
       "      <th>fecha</th>\n",
       "      <th>Prueba</th>\n",
       "    </tr>\n",
       "  </thead>\n",
       "  <tbody>\n",
       "    <tr>\n",
       "      <th>0</th>\n",
       "      <td>MainScreenAppear</td>\n",
       "      <td>4575588528974610257</td>\n",
       "      <td>2019-07-25 04:43:36</td>\n",
       "      <td>246</td>\n",
       "    </tr>\n",
       "    <tr>\n",
       "      <th>1</th>\n",
       "      <td>MainScreenAppear</td>\n",
       "      <td>7416695313311560658</td>\n",
       "      <td>2019-07-25 11:11:42</td>\n",
       "      <td>246</td>\n",
       "    </tr>\n",
       "    <tr>\n",
       "      <th>2</th>\n",
       "      <td>PaymentScreenSuccessful</td>\n",
       "      <td>3518123091307005509</td>\n",
       "      <td>2019-07-25 11:28:47</td>\n",
       "      <td>248</td>\n",
       "    </tr>\n",
       "    <tr>\n",
       "      <th>3</th>\n",
       "      <td>CartScreenAppear</td>\n",
       "      <td>3518123091307005509</td>\n",
       "      <td>2019-07-25 11:28:47</td>\n",
       "      <td>248</td>\n",
       "    </tr>\n",
       "    <tr>\n",
       "      <th>4</th>\n",
       "      <td>PaymentScreenSuccessful</td>\n",
       "      <td>6217807653094995999</td>\n",
       "      <td>2019-07-25 11:48:42</td>\n",
       "      <td>248</td>\n",
       "    </tr>\n",
       "    <tr>\n",
       "      <th>...</th>\n",
       "      <td>...</td>\n",
       "      <td>...</td>\n",
       "      <td>...</td>\n",
       "      <td>...</td>\n",
       "    </tr>\n",
       "    <tr>\n",
       "      <th>244121</th>\n",
       "      <td>MainScreenAppear</td>\n",
       "      <td>4599628364049201812</td>\n",
       "      <td>2019-08-07 21:12:25</td>\n",
       "      <td>247</td>\n",
       "    </tr>\n",
       "    <tr>\n",
       "      <th>244122</th>\n",
       "      <td>MainScreenAppear</td>\n",
       "      <td>5849806612437486590</td>\n",
       "      <td>2019-08-07 21:13:59</td>\n",
       "      <td>246</td>\n",
       "    </tr>\n",
       "    <tr>\n",
       "      <th>244123</th>\n",
       "      <td>MainScreenAppear</td>\n",
       "      <td>5746969938801999050</td>\n",
       "      <td>2019-08-07 21:14:43</td>\n",
       "      <td>246</td>\n",
       "    </tr>\n",
       "    <tr>\n",
       "      <th>244124</th>\n",
       "      <td>MainScreenAppear</td>\n",
       "      <td>5746969938801999050</td>\n",
       "      <td>2019-08-07 21:14:58</td>\n",
       "      <td>246</td>\n",
       "    </tr>\n",
       "    <tr>\n",
       "      <th>244125</th>\n",
       "      <td>OffersScreenAppear</td>\n",
       "      <td>5746969938801999050</td>\n",
       "      <td>2019-08-07 21:15:17</td>\n",
       "      <td>246</td>\n",
       "    </tr>\n",
       "  </tbody>\n",
       "</table>\n",
       "<p>243713 rows × 4 columns</p>\n",
       "</div>"
      ],
      "text/plain": [
       "                         evento              user_id               fecha  \\\n",
       "0              MainScreenAppear  4575588528974610257 2019-07-25 04:43:36   \n",
       "1              MainScreenAppear  7416695313311560658 2019-07-25 11:11:42   \n",
       "2       PaymentScreenSuccessful  3518123091307005509 2019-07-25 11:28:47   \n",
       "3              CartScreenAppear  3518123091307005509 2019-07-25 11:28:47   \n",
       "4       PaymentScreenSuccessful  6217807653094995999 2019-07-25 11:48:42   \n",
       "...                         ...                  ...                 ...   \n",
       "244121         MainScreenAppear  4599628364049201812 2019-08-07 21:12:25   \n",
       "244122         MainScreenAppear  5849806612437486590 2019-08-07 21:13:59   \n",
       "244123         MainScreenAppear  5746969938801999050 2019-08-07 21:14:43   \n",
       "244124         MainScreenAppear  5746969938801999050 2019-08-07 21:14:58   \n",
       "244125       OffersScreenAppear  5746969938801999050 2019-08-07 21:15:17   \n",
       "\n",
       "        Prueba  \n",
       "0          246  \n",
       "1          246  \n",
       "2          248  \n",
       "3          248  \n",
       "4          248  \n",
       "...        ...  \n",
       "244121     247  \n",
       "244122     246  \n",
       "244123     246  \n",
       "244124     246  \n",
       "244125     246  \n",
       "\n",
       "[243713 rows x 4 columns]"
      ]
     },
     "execution_count": 7,
     "metadata": {},
     "output_type": "execute_result"
    }
   ],
   "source": [
    "# verificar si hay duplicado\n",
    "info_duplicado=data.duplicated().sum()\n",
    "print(f'Tienes {info_duplicado} duplicados')\n",
    " # se procedera a eliminar los duplicados y mantener la primera aparición \n",
    "data=data.drop_duplicates()\n",
    "data"
   ]
  },
  {
   "cell_type": "markdown",
   "metadata": {},
   "source": [
    "### Agregar una columna de fecha y hora , y una columna separada para las fechas"
   ]
  },
  {
   "cell_type": "code",
   "execution_count": 8,
   "metadata": {},
   "outputs": [
    {
     "name": "stderr",
     "output_type": "stream",
     "text": [
      "/tmp/ipykernel_257/2827123356.py:2: SettingWithCopyWarning: \n",
      "A value is trying to be set on a copy of a slice from a DataFrame.\n",
      "Try using .loc[row_indexer,col_indexer] = value instead\n",
      "\n",
      "See the caveats in the documentation: https://pandas.pydata.org/pandas-docs/stable/user_guide/indexing.html#returning-a-view-versus-a-copy\n",
      "  data['date']=data['fecha'].dt.date\n",
      "/tmp/ipykernel_257/2827123356.py:4: SettingWithCopyWarning: \n",
      "A value is trying to be set on a copy of a slice from a DataFrame.\n",
      "Try using .loc[row_indexer,col_indexer] = value instead\n",
      "\n",
      "See the caveats in the documentation: https://pandas.pydata.org/pandas-docs/stable/user_guide/indexing.html#returning-a-view-versus-a-copy\n",
      "  data['hora'] = data['fecha'].dt.strftime('%H:%M:%S')\n",
      "/tmp/ipykernel_257/2827123356.py:6: SettingWithCopyWarning: \n",
      "A value is trying to be set on a copy of a slice from a DataFrame.\n",
      "Try using .loc[row_indexer,col_indexer] = value instead\n",
      "\n",
      "See the caveats in the documentation: https://pandas.pydata.org/pandas-docs/stable/user_guide/indexing.html#returning-a-view-versus-a-copy\n",
      "  data['date'] = pd.to_datetime(data['fecha']).dt.normalize()\n"
     ]
    }
   ],
   "source": [
    "# Extrae solo la fecha\n",
    "data['date']=data['fecha'].dt.date\n",
    "# Extrae solo la hora en formato 'HH:MM:SS'\n",
    "data['hora'] = data['fecha'].dt.strftime('%H:%M:%S')\n",
    "# Asegúrar de que 'date' esté en formato datetime\n",
    "data['date'] = pd.to_datetime(data['fecha']).dt.normalize()"
   ]
  },
  {
   "cell_type": "code",
   "execution_count": 9,
   "metadata": {},
   "outputs": [
    {
     "data": {
      "text/html": [
       "<div>\n",
       "<style scoped>\n",
       "    .dataframe tbody tr th:only-of-type {\n",
       "        vertical-align: middle;\n",
       "    }\n",
       "\n",
       "    .dataframe tbody tr th {\n",
       "        vertical-align: top;\n",
       "    }\n",
       "\n",
       "    .dataframe thead th {\n",
       "        text-align: right;\n",
       "    }\n",
       "</style>\n",
       "<table border=\"1\" class=\"dataframe\">\n",
       "  <thead>\n",
       "    <tr style=\"text-align: right;\">\n",
       "      <th></th>\n",
       "      <th>evento</th>\n",
       "      <th>user_id</th>\n",
       "      <th>fecha</th>\n",
       "      <th>Prueba</th>\n",
       "      <th>date</th>\n",
       "      <th>hora</th>\n",
       "    </tr>\n",
       "  </thead>\n",
       "  <tbody>\n",
       "    <tr>\n",
       "      <th>0</th>\n",
       "      <td>MainScreenAppear</td>\n",
       "      <td>4575588528974610257</td>\n",
       "      <td>2019-07-25 04:43:36</td>\n",
       "      <td>246</td>\n",
       "      <td>2019-07-25</td>\n",
       "      <td>04:43:36</td>\n",
       "    </tr>\n",
       "    <tr>\n",
       "      <th>1</th>\n",
       "      <td>MainScreenAppear</td>\n",
       "      <td>7416695313311560658</td>\n",
       "      <td>2019-07-25 11:11:42</td>\n",
       "      <td>246</td>\n",
       "      <td>2019-07-25</td>\n",
       "      <td>11:11:42</td>\n",
       "    </tr>\n",
       "    <tr>\n",
       "      <th>2</th>\n",
       "      <td>PaymentScreenSuccessful</td>\n",
       "      <td>3518123091307005509</td>\n",
       "      <td>2019-07-25 11:28:47</td>\n",
       "      <td>248</td>\n",
       "      <td>2019-07-25</td>\n",
       "      <td>11:28:47</td>\n",
       "    </tr>\n",
       "    <tr>\n",
       "      <th>3</th>\n",
       "      <td>CartScreenAppear</td>\n",
       "      <td>3518123091307005509</td>\n",
       "      <td>2019-07-25 11:28:47</td>\n",
       "      <td>248</td>\n",
       "      <td>2019-07-25</td>\n",
       "      <td>11:28:47</td>\n",
       "    </tr>\n",
       "    <tr>\n",
       "      <th>4</th>\n",
       "      <td>PaymentScreenSuccessful</td>\n",
       "      <td>6217807653094995999</td>\n",
       "      <td>2019-07-25 11:48:42</td>\n",
       "      <td>248</td>\n",
       "      <td>2019-07-25</td>\n",
       "      <td>11:48:42</td>\n",
       "    </tr>\n",
       "    <tr>\n",
       "      <th>...</th>\n",
       "      <td>...</td>\n",
       "      <td>...</td>\n",
       "      <td>...</td>\n",
       "      <td>...</td>\n",
       "      <td>...</td>\n",
       "      <td>...</td>\n",
       "    </tr>\n",
       "    <tr>\n",
       "      <th>244121</th>\n",
       "      <td>MainScreenAppear</td>\n",
       "      <td>4599628364049201812</td>\n",
       "      <td>2019-08-07 21:12:25</td>\n",
       "      <td>247</td>\n",
       "      <td>2019-08-07</td>\n",
       "      <td>21:12:25</td>\n",
       "    </tr>\n",
       "    <tr>\n",
       "      <th>244122</th>\n",
       "      <td>MainScreenAppear</td>\n",
       "      <td>5849806612437486590</td>\n",
       "      <td>2019-08-07 21:13:59</td>\n",
       "      <td>246</td>\n",
       "      <td>2019-08-07</td>\n",
       "      <td>21:13:59</td>\n",
       "    </tr>\n",
       "    <tr>\n",
       "      <th>244123</th>\n",
       "      <td>MainScreenAppear</td>\n",
       "      <td>5746969938801999050</td>\n",
       "      <td>2019-08-07 21:14:43</td>\n",
       "      <td>246</td>\n",
       "      <td>2019-08-07</td>\n",
       "      <td>21:14:43</td>\n",
       "    </tr>\n",
       "    <tr>\n",
       "      <th>244124</th>\n",
       "      <td>MainScreenAppear</td>\n",
       "      <td>5746969938801999050</td>\n",
       "      <td>2019-08-07 21:14:58</td>\n",
       "      <td>246</td>\n",
       "      <td>2019-08-07</td>\n",
       "      <td>21:14:58</td>\n",
       "    </tr>\n",
       "    <tr>\n",
       "      <th>244125</th>\n",
       "      <td>OffersScreenAppear</td>\n",
       "      <td>5746969938801999050</td>\n",
       "      <td>2019-08-07 21:15:17</td>\n",
       "      <td>246</td>\n",
       "      <td>2019-08-07</td>\n",
       "      <td>21:15:17</td>\n",
       "    </tr>\n",
       "  </tbody>\n",
       "</table>\n",
       "<p>243713 rows × 6 columns</p>\n",
       "</div>"
      ],
      "text/plain": [
       "                         evento              user_id               fecha  \\\n",
       "0              MainScreenAppear  4575588528974610257 2019-07-25 04:43:36   \n",
       "1              MainScreenAppear  7416695313311560658 2019-07-25 11:11:42   \n",
       "2       PaymentScreenSuccessful  3518123091307005509 2019-07-25 11:28:47   \n",
       "3              CartScreenAppear  3518123091307005509 2019-07-25 11:28:47   \n",
       "4       PaymentScreenSuccessful  6217807653094995999 2019-07-25 11:48:42   \n",
       "...                         ...                  ...                 ...   \n",
       "244121         MainScreenAppear  4599628364049201812 2019-08-07 21:12:25   \n",
       "244122         MainScreenAppear  5849806612437486590 2019-08-07 21:13:59   \n",
       "244123         MainScreenAppear  5746969938801999050 2019-08-07 21:14:43   \n",
       "244124         MainScreenAppear  5746969938801999050 2019-08-07 21:14:58   \n",
       "244125       OffersScreenAppear  5746969938801999050 2019-08-07 21:15:17   \n",
       "\n",
       "        Prueba       date      hora  \n",
       "0          246 2019-07-25  04:43:36  \n",
       "1          246 2019-07-25  11:11:42  \n",
       "2          248 2019-07-25  11:28:47  \n",
       "3          248 2019-07-25  11:28:47  \n",
       "4          248 2019-07-25  11:48:42  \n",
       "...        ...        ...       ...  \n",
       "244121     247 2019-08-07  21:12:25  \n",
       "244122     246 2019-08-07  21:13:59  \n",
       "244123     246 2019-08-07  21:14:43  \n",
       "244124     246 2019-08-07  21:14:58  \n",
       "244125     246 2019-08-07  21:15:17  \n",
       "\n",
       "[243713 rows x 6 columns]"
      ]
     },
     "execution_count": 9,
     "metadata": {},
     "output_type": "execute_result"
    }
   ],
   "source": [
    "# Verificar la columnas agregadas\n",
    "data"
   ]
  },
  {
   "cell_type": "markdown",
   "metadata": {},
   "source": [
    "## Estudiar y comprobar los datos"
   ]
  },
  {
   "cell_type": "markdown",
   "metadata": {},
   "source": [
    "### ¿Cuántos eventos hay en los registros?"
   ]
  },
  {
   "cell_type": "code",
   "execution_count": 10,
   "metadata": {},
   "outputs": [
    {
     "name": "stdout",
     "output_type": "stream",
     "text": [
      "Numero de eventos totales es 243713\n"
     ]
    },
    {
     "data": {
      "text/plain": [
       "evento\n",
       "CartScreenAppear           3749\n",
       "MainScreenAppear           7439\n",
       "OffersScreenAppear         4613\n",
       "PaymentScreenSuccessful    3547\n",
       "Tutorial                    847\n",
       "Name: user_id, dtype: int64"
      ]
     },
     "execution_count": 10,
     "metadata": {},
     "output_type": "execute_result"
    }
   ],
   "source": [
    "\n",
    "print(f'Numero de eventos totales es {len(data)}')\n",
    "data.groupby('evento')['user_id'].nunique()\n"
   ]
  },
  {
   "cell_type": "markdown",
   "metadata": {},
   "source": [
    "Son 5 eventos que realizan los usuarios"
   ]
  },
  {
   "cell_type": "markdown",
   "metadata": {},
   "source": [
    "### ¿Cuántos usuarios y usuarias hay en los registros?"
   ]
  },
  {
   "cell_type": "code",
   "execution_count": 11,
   "metadata": {},
   "outputs": [
    {
     "name": "stdout",
     "output_type": "stream",
     "text": [
      "Hay 7551 usuarios unicos.\n"
     ]
    }
   ],
   "source": [
    "print(f'Hay {data[\"user_id\"].nunique()} usuarios unicos.')"
   ]
  },
  {
   "cell_type": "code",
   "execution_count": 12,
   "metadata": {},
   "outputs": [
    {
     "name": "stdout",
     "output_type": "stream",
     "text": [
      "Un usuario promedio tiene 32.2756 eventos durante el experimento.\n"
     ]
    }
   ],
   "source": [
    "print(f'Un usuario promedio tiene {round(data.groupby(\"user_id\")[\"evento\"].count().mean(),4)} eventos durante el experimento.')\n"
   ]
  },
  {
   "cell_type": "markdown",
   "metadata": {},
   "source": [
    "### ¿Qué periodo de tiempo cubren los datos? Encuentra la fecha máxima y mínima."
   ]
  },
  {
   "cell_type": "code",
   "execution_count": 13,
   "metadata": {},
   "outputs": [
    {
     "data": {
      "text/html": [
       "<div>\n",
       "<style scoped>\n",
       "    .dataframe tbody tr th:only-of-type {\n",
       "        vertical-align: middle;\n",
       "    }\n",
       "\n",
       "    .dataframe tbody tr th {\n",
       "        vertical-align: top;\n",
       "    }\n",
       "\n",
       "    .dataframe thead th {\n",
       "        text-align: right;\n",
       "    }\n",
       "</style>\n",
       "<table border=\"1\" class=\"dataframe\">\n",
       "  <thead>\n",
       "    <tr style=\"text-align: right;\">\n",
       "      <th></th>\n",
       "      <th>evento</th>\n",
       "    </tr>\n",
       "    <tr>\n",
       "      <th>date</th>\n",
       "      <th></th>\n",
       "    </tr>\n",
       "  </thead>\n",
       "  <tbody>\n",
       "    <tr>\n",
       "      <th>2019-07-25</th>\n",
       "      <td>9</td>\n",
       "    </tr>\n",
       "    <tr>\n",
       "      <th>2019-07-26</th>\n",
       "      <td>31</td>\n",
       "    </tr>\n",
       "    <tr>\n",
       "      <th>2019-07-27</th>\n",
       "      <td>55</td>\n",
       "    </tr>\n",
       "    <tr>\n",
       "      <th>2019-07-28</th>\n",
       "      <td>105</td>\n",
       "    </tr>\n",
       "    <tr>\n",
       "      <th>2019-07-29</th>\n",
       "      <td>184</td>\n",
       "    </tr>\n",
       "    <tr>\n",
       "      <th>2019-07-30</th>\n",
       "      <td>412</td>\n",
       "    </tr>\n",
       "    <tr>\n",
       "      <th>2019-07-31</th>\n",
       "      <td>2030</td>\n",
       "    </tr>\n",
       "    <tr>\n",
       "      <th>2019-08-01</th>\n",
       "      <td>36141</td>\n",
       "    </tr>\n",
       "    <tr>\n",
       "      <th>2019-08-02</th>\n",
       "      <td>35554</td>\n",
       "    </tr>\n",
       "    <tr>\n",
       "      <th>2019-08-03</th>\n",
       "      <td>33282</td>\n",
       "    </tr>\n",
       "    <tr>\n",
       "      <th>2019-08-04</th>\n",
       "      <td>32968</td>\n",
       "    </tr>\n",
       "    <tr>\n",
       "      <th>2019-08-05</th>\n",
       "      <td>36058</td>\n",
       "    </tr>\n",
       "    <tr>\n",
       "      <th>2019-08-06</th>\n",
       "      <td>35788</td>\n",
       "    </tr>\n",
       "    <tr>\n",
       "      <th>2019-08-07</th>\n",
       "      <td>31096</td>\n",
       "    </tr>\n",
       "  </tbody>\n",
       "</table>\n",
       "</div>"
      ],
      "text/plain": [
       "            evento\n",
       "date              \n",
       "2019-07-25       9\n",
       "2019-07-26      31\n",
       "2019-07-27      55\n",
       "2019-07-28     105\n",
       "2019-07-29     184\n",
       "2019-07-30     412\n",
       "2019-07-31    2030\n",
       "2019-08-01   36141\n",
       "2019-08-02   35554\n",
       "2019-08-03   33282\n",
       "2019-08-04   32968\n",
       "2019-08-05   36058\n",
       "2019-08-06   35788\n",
       "2019-08-07   31096"
      ]
     },
     "execution_count": 13,
     "metadata": {},
     "output_type": "execute_result"
    }
   ],
   "source": [
    "data.groupby('date').agg({'evento':'count'})"
   ]
  },
  {
   "cell_type": "code",
   "execution_count": 14,
   "metadata": {},
   "outputs": [
    {
     "name": "stdout",
     "output_type": "stream",
     "text": [
      "\n",
      "Fecha min :2019-07-25 00:00:00\n",
      "Fecha max :2019-08-07 00:00:00 \n",
      "\n"
     ]
    },
    {
     "data": {
      "image/png": "[encoded data removed]",
      "text/plain": [
       "<Figure size 640x480 with 1 Axes>"
      ]
     },
     "metadata": {},
     "output_type": "display_data"
    }
   ],
   "source": [
    "print(f\"\"\"\n",
    "Fecha min :{data[\"date\"].min()}\n",
    "Fecha max :{data[\"date\"].max()} \n",
    "\"\"\")\n",
    "data['date'].hist()\n",
    "plt.title('Evento por fecha')\n",
    "plt.xlabel('date')\n",
    "plt.ylabel('count')\n",
    "plt.xticks(rotation=45)\n",
    "plt.show()"
   ]
  },
  {
   "cell_type": "markdown",
   "metadata": {},
   "source": [
    "* A partir del 1 de agosto hasta el 7  que realizaron mas eventos"
   ]
  },
  {
   "cell_type": "markdown",
   "metadata": {},
   "source": [
    "### Traza un histograma por fecha y hora. "
   ]
  },
  {
   "cell_type": "code",
   "execution_count": 15,
   "metadata": {},
   "outputs": [
    {
     "data": {
      "text/plain": [
       "(array([18102., 18104., 18106., 18108., 18109., 18111., 18113., 18115.]),\n",
       " [Text(0, 0, ''),\n",
       "  Text(0, 0, ''),\n",
       "  Text(0, 0, ''),\n",
       "  Text(0, 0, ''),\n",
       "  Text(0, 0, ''),\n",
       "  Text(0, 0, ''),\n",
       "  Text(0, 0, ''),\n",
       "  Text(0, 0, '')])"
      ]
     },
     "execution_count": 15,
     "metadata": {},
     "output_type": "execute_result"
    },
    {
     "data": {
      "image/png": "[encoded data removed]",
      "text/plain": [
       "<Figure size 1200x700 with 1 Axes>"
      ]
     },
     "metadata": {},
     "output_type": "display_data"
    }
   ],
   "source": [
    "plt.figure(figsize=(12,7))\n",
    "data['fecha'].hist(bins=100)\n",
    "plt.title('Eventos por fecha y hora')\n",
    "plt.xlabel('fehca')\n",
    "plt.ylabel('cantidad de evento')\n",
    "plt.xticks(rotation=45)\n"
   ]
  },
  {
   "cell_type": "markdown",
   "metadata": {},
   "source": [
    "### ¿Puedes tener seguridad de que tienes datos igualmente completos para todo el periodo?\n",
    "Los eventos más antiguos podrían terminar en los registros de algunos usuarios o usuarias por razones técnicas y esto podría sesgar el panorama general.\n",
    "\n",
    "* Puede que algunos usuarios no lograron terminar el proceso en la primera interación(en las primeras fechas).Es decir no habia muchos eventos.Para tener datos completos podemos empezar desde el 1 de agosto donde se puede mayor comportamiento de usuarios."
   ]
  },
  {
   "cell_type": "markdown",
   "metadata": {},
   "source": [
    "### Encuentra el momento en el que los datos comienzan a estar completos e ignora la sección anterior. ¿Qué periodo representan realmente los datos?"
   ]
  },
  {
   "cell_type": "code",
   "execution_count": 16,
   "metadata": {},
   "outputs": [
    {
     "data": {
      "text/html": [
       "<div>\n",
       "<style scoped>\n",
       "    .dataframe tbody tr th:only-of-type {\n",
       "        vertical-align: middle;\n",
       "    }\n",
       "\n",
       "    .dataframe tbody tr th {\n",
       "        vertical-align: top;\n",
       "    }\n",
       "\n",
       "    .dataframe thead th {\n",
       "        text-align: right;\n",
       "    }\n",
       "</style>\n",
       "<table border=\"1\" class=\"dataframe\">\n",
       "  <thead>\n",
       "    <tr style=\"text-align: right;\">\n",
       "      <th></th>\n",
       "      <th>evento</th>\n",
       "      <th>user_id</th>\n",
       "      <th>fecha</th>\n",
       "      <th>Prueba</th>\n",
       "      <th>date</th>\n",
       "      <th>hora</th>\n",
       "    </tr>\n",
       "  </thead>\n",
       "  <tbody>\n",
       "    <tr>\n",
       "      <th>2828</th>\n",
       "      <td>Tutorial</td>\n",
       "      <td>3737462046622621720</td>\n",
       "      <td>2019-08-01 00:07:28</td>\n",
       "      <td>246</td>\n",
       "      <td>2019-08-01</td>\n",
       "      <td>00:07:28</td>\n",
       "    </tr>\n",
       "    <tr>\n",
       "      <th>2829</th>\n",
       "      <td>MainScreenAppear</td>\n",
       "      <td>3737462046622621720</td>\n",
       "      <td>2019-08-01 00:08:00</td>\n",
       "      <td>246</td>\n",
       "      <td>2019-08-01</td>\n",
       "      <td>00:08:00</td>\n",
       "    </tr>\n",
       "    <tr>\n",
       "      <th>2830</th>\n",
       "      <td>MainScreenAppear</td>\n",
       "      <td>3737462046622621720</td>\n",
       "      <td>2019-08-01 00:08:55</td>\n",
       "      <td>246</td>\n",
       "      <td>2019-08-01</td>\n",
       "      <td>00:08:55</td>\n",
       "    </tr>\n",
       "    <tr>\n",
       "      <th>2831</th>\n",
       "      <td>OffersScreenAppear</td>\n",
       "      <td>3737462046622621720</td>\n",
       "      <td>2019-08-01 00:08:58</td>\n",
       "      <td>246</td>\n",
       "      <td>2019-08-01</td>\n",
       "      <td>00:08:58</td>\n",
       "    </tr>\n",
       "    <tr>\n",
       "      <th>2832</th>\n",
       "      <td>MainScreenAppear</td>\n",
       "      <td>1433840883824088890</td>\n",
       "      <td>2019-08-01 00:08:59</td>\n",
       "      <td>247</td>\n",
       "      <td>2019-08-01</td>\n",
       "      <td>00:08:59</td>\n",
       "    </tr>\n",
       "    <tr>\n",
       "      <th>...</th>\n",
       "      <td>...</td>\n",
       "      <td>...</td>\n",
       "      <td>...</td>\n",
       "      <td>...</td>\n",
       "      <td>...</td>\n",
       "      <td>...</td>\n",
       "    </tr>\n",
       "    <tr>\n",
       "      <th>244121</th>\n",
       "      <td>MainScreenAppear</td>\n",
       "      <td>4599628364049201812</td>\n",
       "      <td>2019-08-07 21:12:25</td>\n",
       "      <td>247</td>\n",
       "      <td>2019-08-07</td>\n",
       "      <td>21:12:25</td>\n",
       "    </tr>\n",
       "    <tr>\n",
       "      <th>244122</th>\n",
       "      <td>MainScreenAppear</td>\n",
       "      <td>5849806612437486590</td>\n",
       "      <td>2019-08-07 21:13:59</td>\n",
       "      <td>246</td>\n",
       "      <td>2019-08-07</td>\n",
       "      <td>21:13:59</td>\n",
       "    </tr>\n",
       "    <tr>\n",
       "      <th>244123</th>\n",
       "      <td>MainScreenAppear</td>\n",
       "      <td>5746969938801999050</td>\n",
       "      <td>2019-08-07 21:14:43</td>\n",
       "      <td>246</td>\n",
       "      <td>2019-08-07</td>\n",
       "      <td>21:14:43</td>\n",
       "    </tr>\n",
       "    <tr>\n",
       "      <th>244124</th>\n",
       "      <td>MainScreenAppear</td>\n",
       "      <td>5746969938801999050</td>\n",
       "      <td>2019-08-07 21:14:58</td>\n",
       "      <td>246</td>\n",
       "      <td>2019-08-07</td>\n",
       "      <td>21:14:58</td>\n",
       "    </tr>\n",
       "    <tr>\n",
       "      <th>244125</th>\n",
       "      <td>OffersScreenAppear</td>\n",
       "      <td>5746969938801999050</td>\n",
       "      <td>2019-08-07 21:15:17</td>\n",
       "      <td>246</td>\n",
       "      <td>2019-08-07</td>\n",
       "      <td>21:15:17</td>\n",
       "    </tr>\n",
       "  </tbody>\n",
       "</table>\n",
       "<p>240887 rows × 6 columns</p>\n",
       "</div>"
      ],
      "text/plain": [
       "                    evento              user_id               fecha  Prueba  \\\n",
       "2828              Tutorial  3737462046622621720 2019-08-01 00:07:28     246   \n",
       "2829      MainScreenAppear  3737462046622621720 2019-08-01 00:08:00     246   \n",
       "2830      MainScreenAppear  3737462046622621720 2019-08-01 00:08:55     246   \n",
       "2831    OffersScreenAppear  3737462046622621720 2019-08-01 00:08:58     246   \n",
       "2832      MainScreenAppear  1433840883824088890 2019-08-01 00:08:59     247   \n",
       "...                    ...                  ...                 ...     ...   \n",
       "244121    MainScreenAppear  4599628364049201812 2019-08-07 21:12:25     247   \n",
       "244122    MainScreenAppear  5849806612437486590 2019-08-07 21:13:59     246   \n",
       "244123    MainScreenAppear  5746969938801999050 2019-08-07 21:14:43     246   \n",
       "244124    MainScreenAppear  5746969938801999050 2019-08-07 21:14:58     246   \n",
       "244125  OffersScreenAppear  5746969938801999050 2019-08-07 21:15:17     246   \n",
       "\n",
       "             date      hora  \n",
       "2828   2019-08-01  00:07:28  \n",
       "2829   2019-08-01  00:08:00  \n",
       "2830   2019-08-01  00:08:55  \n",
       "2831   2019-08-01  00:08:58  \n",
       "2832   2019-08-01  00:08:59  \n",
       "...           ...       ...  \n",
       "244121 2019-08-07  21:12:25  \n",
       "244122 2019-08-07  21:13:59  \n",
       "244123 2019-08-07  21:14:43  \n",
       "244124 2019-08-07  21:14:58  \n",
       "244125 2019-08-07  21:15:17  \n",
       "\n",
       "[240887 rows x 6 columns]"
      ]
     },
     "execution_count": 16,
     "metadata": {},
     "output_type": "execute_result"
    }
   ],
   "source": [
    "# Considerar los datos a partir del 01 de agosto\n",
    "data_filtrado=data.query(\"date>='2019-08-01'\")\n",
    "data_filtrado"
   ]
  },
  {
   "cell_type": "markdown",
   "metadata": {},
   "source": [
    "### ¿Perdiste muchos eventos y usuarios al excluir los datos más antiguos?"
   ]
  },
  {
   "cell_type": "code",
   "execution_count": 17,
   "metadata": {},
   "outputs": [
    {
     "data": {
      "text/plain": [
       "2826"
      ]
     },
     "execution_count": 17,
     "metadata": {},
     "output_type": "execute_result"
    }
   ],
   "source": [
    "# Calcular la diferencia\n",
    "len(data) - len(data_filtrado)"
   ]
  },
  {
   "cell_type": "markdown",
   "metadata": {},
   "source": [
    "* Si se perdio una considerable cantidad de datos"
   ]
  },
  {
   "cell_type": "code",
   "execution_count": 19,
   "metadata": {},
   "outputs": [
    {
     "data": {
      "text/plain": [
       "0.988404393692581"
      ]
     },
     "execution_count": 19,
     "metadata": {},
     "output_type": "execute_result"
    }
   ],
   "source": [
    "len(data_filtrado)/len(data)"
   ]
  },
  {
   "cell_type": "markdown",
   "metadata": {},
   "source": [
    "### Asegúrate de tener usuarios y usuarias de los tres grupos experimentales."
   ]
  },
  {
   "cell_type": "code",
   "execution_count": 20,
   "metadata": {},
   "outputs": [
    {
     "data": {
      "text/html": [
       "<div>\n",
       "<style scoped>\n",
       "    .dataframe tbody tr th:only-of-type {\n",
       "        vertical-align: middle;\n",
       "    }\n",
       "\n",
       "    .dataframe tbody tr th {\n",
       "        vertical-align: top;\n",
       "    }\n",
       "\n",
       "    .dataframe thead th {\n",
       "        text-align: right;\n",
       "    }\n",
       "</style>\n",
       "<table border=\"1\" class=\"dataframe\">\n",
       "  <thead>\n",
       "    <tr style=\"text-align: right;\">\n",
       "      <th></th>\n",
       "      <th>Prueba</th>\n",
       "      <th>user_id</th>\n",
       "    </tr>\n",
       "  </thead>\n",
       "  <tbody>\n",
       "    <tr>\n",
       "      <th>0</th>\n",
       "      <td>246</td>\n",
       "      <td>2484</td>\n",
       "    </tr>\n",
       "    <tr>\n",
       "      <th>1</th>\n",
       "      <td>247</td>\n",
       "      <td>2513</td>\n",
       "    </tr>\n",
       "    <tr>\n",
       "      <th>2</th>\n",
       "      <td>248</td>\n",
       "      <td>2537</td>\n",
       "    </tr>\n",
       "  </tbody>\n",
       "</table>\n",
       "</div>"
      ],
      "text/plain": [
       "   Prueba  user_id\n",
       "0     246     2484\n",
       "1     247     2513\n",
       "2     248     2537"
      ]
     },
     "execution_count": 20,
     "metadata": {},
     "output_type": "execute_result"
    }
   ],
   "source": [
    "df_grupo=data_filtrado.groupby('Prueba')['user_id'].nunique().reset_index()\n",
    "df_grupo"
   ]
  },
  {
   "cell_type": "markdown",
   "metadata": {},
   "source": [
    "En cada prueba tiene casi la misma cantidad de usuarios que tuvieron interación"
   ]
  },
  {
   "cell_type": "markdown",
   "metadata": {},
   "source": [
    "## Estudiar el embudo de eventos"
   ]
  },
  {
   "cell_type": "markdown",
   "metadata": {},
   "source": [
    "### Observa qué eventos hay en los registros y su frecuencia de suceso. Ordénalos por frecuencia."
   ]
  },
  {
   "cell_type": "code",
   "execution_count": 21,
   "metadata": {},
   "outputs": [
    {
     "data": {
      "text/html": [
       "<div>\n",
       "<style scoped>\n",
       "    .dataframe tbody tr th:only-of-type {\n",
       "        vertical-align: middle;\n",
       "    }\n",
       "\n",
       "    .dataframe tbody tr th {\n",
       "        vertical-align: top;\n",
       "    }\n",
       "\n",
       "    .dataframe thead th {\n",
       "        text-align: right;\n",
       "    }\n",
       "</style>\n",
       "<table border=\"1\" class=\"dataframe\">\n",
       "  <thead>\n",
       "    <tr style=\"text-align: right;\">\n",
       "      <th></th>\n",
       "      <th>evento</th>\n",
       "      <th>count</th>\n",
       "    </tr>\n",
       "  </thead>\n",
       "  <tbody>\n",
       "    <tr>\n",
       "      <th>1</th>\n",
       "      <td>MainScreenAppear</td>\n",
       "      <td>117328</td>\n",
       "    </tr>\n",
       "    <tr>\n",
       "      <th>2</th>\n",
       "      <td>OffersScreenAppear</td>\n",
       "      <td>46333</td>\n",
       "    </tr>\n",
       "    <tr>\n",
       "      <th>0</th>\n",
       "      <td>CartScreenAppear</td>\n",
       "      <td>42303</td>\n",
       "    </tr>\n",
       "    <tr>\n",
       "      <th>3</th>\n",
       "      <td>PaymentScreenSuccessful</td>\n",
       "      <td>33918</td>\n",
       "    </tr>\n",
       "    <tr>\n",
       "      <th>4</th>\n",
       "      <td>Tutorial</td>\n",
       "      <td>1005</td>\n",
       "    </tr>\n",
       "  </tbody>\n",
       "</table>\n",
       "</div>"
      ],
      "text/plain": [
       "                    evento   count\n",
       "1         MainScreenAppear  117328\n",
       "2       OffersScreenAppear   46333\n",
       "0         CartScreenAppear   42303\n",
       "3  PaymentScreenSuccessful   33918\n",
       "4                 Tutorial    1005"
      ]
     },
     "execution_count": 21,
     "metadata": {},
     "output_type": "execute_result"
    }
   ],
   "source": [
    "registro_eventos=data_filtrado.groupby('evento')['user_id'].count().reset_index().sort_values(by='user_id',ascending=False)\n",
    "registro_eventos.columns=['evento','count']\n",
    "registro_eventos"
   ]
  },
  {
   "cell_type": "markdown",
   "metadata": {},
   "source": [
    "Se muestra el proceso del comportamiento del usuario"
   ]
  },
  {
   "cell_type": "markdown",
   "metadata": {},
   "source": [
    "### Encuentra la cantidad de usuarios y usuarias que realizaron cada una de estas acciones. Ordena los eventos por el número de usuarios y usuarias. Calcula la proporción de usuarios y usuarias que realizaron la acción al menos una vez."
   ]
  },
  {
   "cell_type": "code",
   "execution_count": 22,
   "metadata": {},
   "outputs": [
    {
     "data": {
      "text/html": [
       "<div>\n",
       "<style scoped>\n",
       "    .dataframe tbody tr th:only-of-type {\n",
       "        vertical-align: middle;\n",
       "    }\n",
       "\n",
       "    .dataframe tbody tr th {\n",
       "        vertical-align: top;\n",
       "    }\n",
       "\n",
       "    .dataframe thead th {\n",
       "        text-align: right;\n",
       "    }\n",
       "</style>\n",
       "<table border=\"1\" class=\"dataframe\">\n",
       "  <thead>\n",
       "    <tr style=\"text-align: right;\">\n",
       "      <th></th>\n",
       "      <th>evento</th>\n",
       "      <th>cant_user</th>\n",
       "      <th>porcentaje_user</th>\n",
       "    </tr>\n",
       "  </thead>\n",
       "  <tbody>\n",
       "    <tr>\n",
       "      <th>1</th>\n",
       "      <td>MainScreenAppear</td>\n",
       "      <td>7419</td>\n",
       "      <td>98.473586</td>\n",
       "    </tr>\n",
       "    <tr>\n",
       "      <th>2</th>\n",
       "      <td>OffersScreenAppear</td>\n",
       "      <td>4593</td>\n",
       "      <td>60.963632</td>\n",
       "    </tr>\n",
       "    <tr>\n",
       "      <th>0</th>\n",
       "      <td>CartScreenAppear</td>\n",
       "      <td>3734</td>\n",
       "      <td>49.561986</td>\n",
       "    </tr>\n",
       "    <tr>\n",
       "      <th>3</th>\n",
       "      <td>PaymentScreenSuccessful</td>\n",
       "      <td>3539</td>\n",
       "      <td>46.973719</td>\n",
       "    </tr>\n",
       "    <tr>\n",
       "      <th>4</th>\n",
       "      <td>Tutorial</td>\n",
       "      <td>840</td>\n",
       "      <td>11.149456</td>\n",
       "    </tr>\n",
       "  </tbody>\n",
       "</table>\n",
       "</div>"
      ],
      "text/plain": [
       "                    evento  cant_user  porcentaje_user\n",
       "1         MainScreenAppear       7419        98.473586\n",
       "2       OffersScreenAppear       4593        60.963632\n",
       "0         CartScreenAppear       3734        49.561986\n",
       "3  PaymentScreenSuccessful       3539        46.973719\n",
       "4                 Tutorial        840        11.149456"
      ]
     },
     "execution_count": 22,
     "metadata": {},
     "output_type": "execute_result"
    }
   ],
   "source": [
    "\n",
    "evento_por_cantUsuario=data_filtrado.groupby('evento')['user_id'].nunique().reset_index().sort_values(by='user_id',ascending=False)\n",
    "evento_por_cantUsuario.columns=['evento','cant_user']\n",
    "evento_por_cantUsuario['porcentaje_user']=evento_por_cantUsuario['cant_user'] / data_filtrado['user_id'].nunique()*100\n",
    "\n",
    "evento_por_cantUsuario"
   ]
  },
  {
   "cell_type": "markdown",
   "metadata": {},
   "source": [
    "### ¿En qué orden crees que ocurrieron las acciones? ¿Todas son parte de una sola secuencia? No es necesario tenerlas en cuenta al calcular el embudo."
   ]
  },
  {
   "cell_type": "markdown",
   "metadata": {},
   "source": [
    "'MainScreenAppear' : Página principal de la tienda.\n",
    "\n",
    "**No siempre ocurre porque vemos que no se cumple el 100% de que los usuarios ingresaron primero a este paso.**\n",
    "\n",
    "'OffersScreenAppear':Página de ofertas del momento.\n",
    "\n",
    "**Normalmente por los anuncios los usuarios llegan primero a las promociones , porque hay mayor interes.**\n",
    "\n",
    "'CartScreenAppear' :Carrito de compras previo al pago.\n",
    "\n",
    "**Este proceso si debe cumplir una secuencia** \n",
    "\n",
    "'PaymentScreenSuccesful': La compra ha sido exitosa, paso final.\n",
    "\n",
    "**Si debe ir antes al carrito para proceder el pago asi que si cumple una secuencia.**\n",
    "\n",
    "'Tutorial' Es un tutorial de como comprar.\n",
    "\n",
    "**Este paso no es obligatorio pero en esta prueba si dan este paso al ultimo de su compra.**"
   ]
  },
  {
   "cell_type": "markdown",
   "metadata": {},
   "source": [
    "### Utiliza el embudo de eventos para encontrar la proporción de usuarios y usuarias que pasan de una etapa a la siguiente. (Por ejemplo, para la secuencia de eventos A → B → C, calcula la proporción de usuarios en la etapa B a la cantidad de usuarios en la etapa A y la proporción de usuarios en la etapa C a la cantidad en la etapa B)."
   ]
  },
  {
   "cell_type": "code",
   "execution_count": 23,
   "metadata": {},
   "outputs": [
    {
     "data": {
      "text/html": [
       "<div>\n",
       "<style scoped>\n",
       "    .dataframe tbody tr th:only-of-type {\n",
       "        vertical-align: middle;\n",
       "    }\n",
       "\n",
       "    .dataframe tbody tr th {\n",
       "        vertical-align: top;\n",
       "    }\n",
       "\n",
       "    .dataframe thead th {\n",
       "        text-align: right;\n",
       "    }\n",
       "</style>\n",
       "<table border=\"1\" class=\"dataframe\">\n",
       "  <thead>\n",
       "    <tr style=\"text-align: right;\">\n",
       "      <th></th>\n",
       "      <th>evento</th>\n",
       "      <th>cant_user</th>\n",
       "      <th>porcentaje_user</th>\n",
       "      <th>proporcion_evento</th>\n",
       "    </tr>\n",
       "  </thead>\n",
       "  <tbody>\n",
       "    <tr>\n",
       "      <th>1</th>\n",
       "      <td>MainScreenAppear</td>\n",
       "      <td>7419</td>\n",
       "      <td>98.473586</td>\n",
       "      <td>NaN</td>\n",
       "    </tr>\n",
       "    <tr>\n",
       "      <th>2</th>\n",
       "      <td>OffersScreenAppear</td>\n",
       "      <td>4593</td>\n",
       "      <td>60.963632</td>\n",
       "      <td>61.908613</td>\n",
       "    </tr>\n",
       "    <tr>\n",
       "      <th>0</th>\n",
       "      <td>CartScreenAppear</td>\n",
       "      <td>3734</td>\n",
       "      <td>49.561986</td>\n",
       "      <td>81.297627</td>\n",
       "    </tr>\n",
       "    <tr>\n",
       "      <th>3</th>\n",
       "      <td>PaymentScreenSuccessful</td>\n",
       "      <td>3539</td>\n",
       "      <td>46.973719</td>\n",
       "      <td>94.777718</td>\n",
       "    </tr>\n",
       "    <tr>\n",
       "      <th>4</th>\n",
       "      <td>Tutorial</td>\n",
       "      <td>840</td>\n",
       "      <td>11.149456</td>\n",
       "      <td>23.735519</td>\n",
       "    </tr>\n",
       "  </tbody>\n",
       "</table>\n",
       "</div>"
      ],
      "text/plain": [
       "                    evento  cant_user  porcentaje_user  proporcion_evento\n",
       "1         MainScreenAppear       7419        98.473586                NaN\n",
       "2       OffersScreenAppear       4593        60.963632          61.908613\n",
       "0         CartScreenAppear       3734        49.561986          81.297627\n",
       "3  PaymentScreenSuccessful       3539        46.973719          94.777718\n",
       "4                 Tutorial        840        11.149456          23.735519"
      ]
     },
     "execution_count": 23,
     "metadata": {},
     "output_type": "execute_result"
    }
   ],
   "source": [
    "evento_por_cantUsuario['proporcion_evento']=evento_por_cantUsuario['porcentaje_user']/evento_por_cantUsuario['porcentaje_user'].shift(1)\n",
    "evento_por_cantUsuario['proporcion_evento']=evento_por_cantUsuario['proporcion_evento']*100\n",
    "evento_por_cantUsuario"
   ]
  },
  {
   "cell_type": "markdown",
   "metadata": {},
   "source": [
    "### ¿En qué etapa pierdes más usuarios y usuarias?\n"
   ]
  },
  {
   "cell_type": "markdown",
   "metadata": {},
   "source": [
    "* En la segunda etapa, hay una gran perdida de usuario a comparcion de la segunda etapa,con un 61% de los usuarios iniciales.\n",
    "* En la etapa de compra un 23% de usuario que realizaron la compra se interesa ingresar a la ultima etapa (tutorial)"
   ]
  },
  {
   "cell_type": "markdown",
   "metadata": {},
   "source": [
    "### ¿Qué porcentaje de usuarios y usuarias hace todo el viaje desde su primer evento hasta el pago?"
   ]
  },
  {
   "cell_type": "code",
   "execution_count": 24,
   "metadata": {},
   "outputs": [
    {
     "data": {
      "text/plain": [
       "47.70184661005526"
      ]
     },
     "execution_count": 24,
     "metadata": {},
     "output_type": "execute_result"
    }
   ],
   "source": [
    "(evento_por_cantUsuario['cant_user'].iloc[3] / evento_por_cantUsuario['cant_user'].iloc[0]) * 100"
   ]
  },
  {
   "cell_type": "markdown",
   "metadata": {},
   "source": [
    "* Desde un inicio hay un proporcion de usuario que ingresaron y cuanto terminaron en el proceso de pago.Esta proporcion fue de un 47.7%"
   ]
  },
  {
   "cell_type": "markdown",
   "metadata": {},
   "source": [
    "## Estudiar los resultados del experimento"
   ]
  },
  {
   "cell_type": "markdown",
   "metadata": {},
   "source": [
    "### ¿Cuántos usuarios y usuarias hay en cada grupo?"
   ]
  },
  {
   "cell_type": "code",
   "execution_count": 25,
   "metadata": {},
   "outputs": [
    {
     "data": {
      "text/html": [
       "<div>\n",
       "<style scoped>\n",
       "    .dataframe tbody tr th:only-of-type {\n",
       "        vertical-align: middle;\n",
       "    }\n",
       "\n",
       "    .dataframe tbody tr th {\n",
       "        vertical-align: top;\n",
       "    }\n",
       "\n",
       "    .dataframe thead th {\n",
       "        text-align: right;\n",
       "    }\n",
       "</style>\n",
       "<table border=\"1\" class=\"dataframe\">\n",
       "  <thead>\n",
       "    <tr style=\"text-align: right;\">\n",
       "      <th></th>\n",
       "      <th>Prueba</th>\n",
       "      <th>cant_usuario_prueba</th>\n",
       "    </tr>\n",
       "  </thead>\n",
       "  <tbody>\n",
       "    <tr>\n",
       "      <th>0</th>\n",
       "      <td>246</td>\n",
       "      <td>2484</td>\n",
       "    </tr>\n",
       "    <tr>\n",
       "      <th>1</th>\n",
       "      <td>247</td>\n",
       "      <td>2513</td>\n",
       "    </tr>\n",
       "    <tr>\n",
       "      <th>2</th>\n",
       "      <td>248</td>\n",
       "      <td>2537</td>\n",
       "    </tr>\n",
       "  </tbody>\n",
       "</table>\n",
       "</div>"
      ],
      "text/plain": [
       "   Prueba  cant_usuario_prueba\n",
       "0     246                 2484\n",
       "1     247                 2513\n",
       "2     248                 2537"
      ]
     },
     "execution_count": 25,
     "metadata": {},
     "output_type": "execute_result"
    }
   ],
   "source": [
    "df_grupo=df_grupo.rename(columns={'user_id':'cant_usuario_prueba'})\n",
    "df_grupo"
   ]
  },
  {
   "cell_type": "markdown",
   "metadata": {},
   "source": [
    "* El grupo 248(B) tiene mayor cantidad de usuarios"
   ]
  },
  {
   "cell_type": "markdown",
   "metadata": {},
   "source": [
    "### Tenemos dos grupos de control en el test A/A, donde comprobamos nuestros mecanismos y cálculos. Observa si hay una diferencia estadísticamente significativa entre las muestras 246 y 247."
   ]
  },
  {
   "cell_type": "code",
   "execution_count": 26,
   "metadata": {},
   "outputs": [
    {
     "data": {
      "text/html": [
       "<div>\n",
       "<style scoped>\n",
       "    .dataframe tbody tr th:only-of-type {\n",
       "        vertical-align: middle;\n",
       "    }\n",
       "\n",
       "    .dataframe tbody tr th {\n",
       "        vertical-align: top;\n",
       "    }\n",
       "\n",
       "    .dataframe thead th {\n",
       "        text-align: right;\n",
       "    }\n",
       "</style>\n",
       "<table border=\"1\" class=\"dataframe\">\n",
       "  <thead>\n",
       "    <tr style=\"text-align: right;\">\n",
       "      <th></th>\n",
       "      <th>user_id</th>\n",
       "      <th>Prueba</th>\n",
       "      <th>converted</th>\n",
       "    </tr>\n",
       "  </thead>\n",
       "  <tbody>\n",
       "    <tr>\n",
       "      <th>0</th>\n",
       "      <td>3737462046622621720</td>\n",
       "      <td>246</td>\n",
       "      <td>1.0</td>\n",
       "    </tr>\n",
       "    <tr>\n",
       "      <th>1</th>\n",
       "      <td>1433840883824088890</td>\n",
       "      <td>247</td>\n",
       "      <td>0.0</td>\n",
       "    </tr>\n",
       "    <tr>\n",
       "      <th>2</th>\n",
       "      <td>4899590676214355127</td>\n",
       "      <td>247</td>\n",
       "      <td>1.0</td>\n",
       "    </tr>\n",
       "    <tr>\n",
       "      <th>3</th>\n",
       "      <td>1182179323890311443</td>\n",
       "      <td>246</td>\n",
       "      <td>0.0</td>\n",
       "    </tr>\n",
       "    <tr>\n",
       "      <th>4</th>\n",
       "      <td>4613461174774205834</td>\n",
       "      <td>248</td>\n",
       "      <td>1.0</td>\n",
       "    </tr>\n",
       "    <tr>\n",
       "      <th>5</th>\n",
       "      <td>205293431553451771</td>\n",
       "      <td>246</td>\n",
       "      <td>1.0</td>\n",
       "    </tr>\n",
       "    <tr>\n",
       "      <th>6</th>\n",
       "      <td>6121366368901703338</td>\n",
       "      <td>248</td>\n",
       "      <td>1.0</td>\n",
       "    </tr>\n",
       "    <tr>\n",
       "      <th>7</th>\n",
       "      <td>6022375714473447159</td>\n",
       "      <td>248</td>\n",
       "      <td>0.0</td>\n",
       "    </tr>\n",
       "    <tr>\n",
       "      <th>8</th>\n",
       "      <td>2712290788139738557</td>\n",
       "      <td>247</td>\n",
       "      <td>1.0</td>\n",
       "    </tr>\n",
       "    <tr>\n",
       "      <th>9</th>\n",
       "      <td>6049698452889664846</td>\n",
       "      <td>247</td>\n",
       "      <td>1.0</td>\n",
       "    </tr>\n",
       "  </tbody>\n",
       "</table>\n",
       "</div>"
      ],
      "text/plain": [
       "               user_id  Prueba  converted\n",
       "0  3737462046622621720     246        1.0\n",
       "1  1433840883824088890     247        0.0\n",
       "2  4899590676214355127     247        1.0\n",
       "3  1182179323890311443     246        0.0\n",
       "4  4613461174774205834     248        1.0\n",
       "5   205293431553451771     246        1.0\n",
       "6  6121366368901703338     248        1.0\n",
       "7  6022375714473447159     248        0.0\n",
       "8  2712290788139738557     247        1.0\n",
       "9  6049698452889664846     247        1.0"
      ]
     },
     "execution_count": 26,
     "metadata": {},
     "output_type": "execute_result"
    }
   ],
   "source": [
    "#Eliminamos los usuarios duplicados en cada prueba\n",
    "conversions = data_filtrado[[\"user_id\", \"Prueba\"]].drop_duplicates()\n",
    "\n",
    "#Se creao una df de usuarios unicos que realizaron el pago\n",
    "converted = pd.DataFrame(data={\n",
    "    \"user_id\": data_filtrado[data_filtrado[\"evento\"] == \"PaymentScreenSuccessful\"][\"user_id\"].unique(),\n",
    "    \"converted\": 1\n",
    "})\n",
    "#unir ambas tablas\n",
    "conversions = conversions.merge(converted, on=\"user_id\", how=\"left\")\n",
    "conversions[\"converted\"] = conversions[\"converted\"].fillna(0)\n",
    "\n",
    "conversions.head(10)\n"
   ]
  },
  {
   "cell_type": "code",
   "execution_count": 27,
   "metadata": {},
   "outputs": [],
   "source": [
    "# Filtrar el df convertido por prueba\n",
    "control_A1 = conversions[conversions['Prueba'] == 246]\n",
    "control_A2 = conversions[conversions['Prueba'] == 247]\n",
    "control_B = conversions[conversions['Prueba'] == 248]"
   ]
  },
  {
   "cell_type": "code",
   "execution_count": 28,
   "metadata": {},
   "outputs": [
    {
     "name": "stdout",
     "output_type": "stream",
     "text": [
      "No hay significancia estadística\n",
      "p-value: 0.11461233163248476\n"
     ]
    }
   ],
   "source": [
    "#Hipotesis de la igualdad de las medias de cada grupo 246 y 247\n",
    "stat, p_value = st.ttest_ind(\n",
    "    control_A1[\"converted\"],\n",
    "    control_A2[\"converted\"]\n",
    ")\n",
    "\n",
    "p_value\n",
    "\n",
    "alpha = 0.05\n",
    "if p_value < alpha:\n",
    "    print(\"Si hay significancia\")\n",
    "else:\n",
    "    print(\"No hay significancia estadística\")\n",
    "    \n",
    "print(f\"p-value: {p_value}\")"
   ]
  },
  {
   "cell_type": "markdown",
   "metadata": {},
   "source": [
    "### Selecciona el evento más popular. \n"
   ]
  },
  {
   "cell_type": "markdown",
   "metadata": {},
   "source": [
    "* el evento mas popular y logico el primer paso: MainScreenAppear"
   ]
  },
  {
   "cell_type": "markdown",
   "metadata": {},
   "source": [
    " ### En cada uno de los grupos de control, encuentra la cantidad de usuarios y usuarias que realizaron esta acción.Encuentra su proporción"
   ]
  },
  {
   "cell_type": "code",
   "execution_count": 29,
   "metadata": {},
   "outputs": [
    {
     "data": {
      "text/html": [
       "<div>\n",
       "<style scoped>\n",
       "    .dataframe tbody tr th:only-of-type {\n",
       "        vertical-align: middle;\n",
       "    }\n",
       "\n",
       "    .dataframe tbody tr th {\n",
       "        vertical-align: top;\n",
       "    }\n",
       "\n",
       "    .dataframe thead th {\n",
       "        text-align: right;\n",
       "    }\n",
       "</style>\n",
       "<table border=\"1\" class=\"dataframe\">\n",
       "  <thead>\n",
       "    <tr style=\"text-align: right;\">\n",
       "      <th></th>\n",
       "      <th>Prueba</th>\n",
       "      <th>user_id</th>\n",
       "    </tr>\n",
       "  </thead>\n",
       "  <tbody>\n",
       "    <tr>\n",
       "      <th>0</th>\n",
       "      <td>246</td>\n",
       "      <td>2450</td>\n",
       "    </tr>\n",
       "    <tr>\n",
       "      <th>1</th>\n",
       "      <td>247</td>\n",
       "      <td>2476</td>\n",
       "    </tr>\n",
       "  </tbody>\n",
       "</table>\n",
       "</div>"
      ],
      "text/plain": [
       "   Prueba  user_id\n",
       "0     246     2450\n",
       "1     247     2476"
      ]
     },
     "execution_count": 29,
     "metadata": {},
     "output_type": "execute_result"
    }
   ],
   "source": [
    "mainscreen = data_filtrado[(data_filtrado['evento'] == 'MainScreenAppear') & (data_filtrado['Prueba'].isin([246, 247]))]\n",
    "mainscreen_users = mainscreen.groupby('Prueba')['user_id'].nunique().reset_index()\n",
    "mainscreen_users"
   ]
  },
  {
   "cell_type": "code",
   "execution_count": 30,
   "metadata": {},
   "outputs": [
    {
     "data": {
      "text/html": [
       "<div>\n",
       "<style scoped>\n",
       "    .dataframe tbody tr th:only-of-type {\n",
       "        vertical-align: middle;\n",
       "    }\n",
       "\n",
       "    .dataframe tbody tr th {\n",
       "        vertical-align: top;\n",
       "    }\n",
       "\n",
       "    .dataframe thead th {\n",
       "        text-align: right;\n",
       "    }\n",
       "</style>\n",
       "<table border=\"1\" class=\"dataframe\">\n",
       "  <thead>\n",
       "    <tr style=\"text-align: right;\">\n",
       "      <th></th>\n",
       "      <th>Prueba</th>\n",
       "      <th>user_id</th>\n",
       "      <th>proporcion</th>\n",
       "    </tr>\n",
       "  </thead>\n",
       "  <tbody>\n",
       "    <tr>\n",
       "      <th>0</th>\n",
       "      <td>246</td>\n",
       "      <td>2450</td>\n",
       "      <td>0.325192</td>\n",
       "    </tr>\n",
       "    <tr>\n",
       "      <th>1</th>\n",
       "      <td>247</td>\n",
       "      <td>2476</td>\n",
       "      <td>0.328643</td>\n",
       "    </tr>\n",
       "  </tbody>\n",
       "</table>\n",
       "</div>"
      ],
      "text/plain": [
       "   Prueba  user_id  proporcion\n",
       "0     246     2450    0.325192\n",
       "1     247     2476    0.328643"
      ]
     },
     "execution_count": 30,
     "metadata": {},
     "output_type": "execute_result"
    }
   ],
   "source": [
    "mainscreen_users['proporcion'] = mainscreen_users['user_id'] / data_filtrado['user_id'].nunique()\n",
    "mainscreen_users"
   ]
  },
  {
   "cell_type": "markdown",
   "metadata": {},
   "source": [
    "### Comprueba si la diferencia entre los grupos es estadísticamente significativa. Comprueba si la diferencia entre los grupos es estadísticamente significativa."
   ]
  },
  {
   "cell_type": "code",
   "execution_count": 31,
   "metadata": {
    "scrolled": false
   },
   "outputs": [
    {
     "name": "stdout",
     "output_type": "stream",
     "text": [
      "No hay significancia estadística\n",
      "\n",
      "Statistic: 0.30928523442542466\n",
      "p-value: 0.7571174621103072\n",
      "\n"
     ]
    },
    {
     "name": "stderr",
     "output_type": "stream",
     "text": [
      "/tmp/ipykernel_257/4201238275.py:2: SettingWithCopyWarning: \n",
      "A value is trying to be set on a copy of a slice from a DataFrame.\n",
      "Try using .loc[row_indexer,col_indexer] = value instead\n",
      "\n",
      "See the caveats in the documentation: https://pandas.pydata.org/pandas-docs/stable/user_guide/indexing.html#returning-a-view-versus-a-copy\n",
      "  data_filtrado['mainscreen_flag'] = data_filtrado['evento'].apply(lambda x: 1 if x == 'MainScreenAppear' else 0)\n"
     ]
    }
   ],
   "source": [
    "#Crear una columna de valores binarios(1, se realizo la acción, 0 : no )\n",
    "data_filtrado['mainscreen_flag'] = data_filtrado['evento'].apply(lambda x: 1 if x == 'MainScreenAppear' else 0)\n",
    "\n",
    "# Agrupar los datos por usuario para obtener un solo valor por usuario en cada grupo\n",
    "group_246 = data_filtrado[data_filtrado['Prueba'] == 246].groupby('user_id')['mainscreen_flag'].max()\n",
    "group_247 = data_filtrado[data_filtrado['Prueba'] == 247].groupby('user_id')['mainscreen_flag'].max()\n",
    "\n",
    "# Realizar el t-test entre los dos grupos\n",
    "\n",
    "import scipy.stats as stats\n",
    "stat, p_value = st.ttest_ind(group_246, group_247)\n",
    "\n",
    "#deteminamos alfa\n",
    "alpha = 0.05\n",
    "\n",
    "if p_value < alpha:\n",
    "    print(\"Si hay significancia\")\n",
    "else:\n",
    "    print(\"No hay significancia estadística\")\n",
    "print(f\"\"\"\n",
    "Statistic: {stat}\n",
    "p-value: {p_value}\n",
    "\"\"\")"
   ]
  },
  {
   "cell_type": "markdown",
   "metadata": {},
   "source": [
    "### Repite el procedimiento para todos los demás eventos (ahorrarás tiempo si creas una función especial para esta prueba). ¿Puedes confirmar que los grupos se dividieron correctamente?"
   ]
  },
  {
   "cell_type": "code",
   "execution_count": 32,
   "metadata": {},
   "outputs": [],
   "source": [
    "# Se realizara una funcion para probar las hipotesis\n",
    "def test_event_proportions_ttest(df_ago, tipo_evento, group1, group2):\n",
    "    # Crear columnas con valores 1 y 0\n",
    "    data_filtrado['event_example'] = data_filtrado['evento'].apply(lambda x: 1 if x == tipo_evento else 0)\n",
    "    \n",
    "    # Agrupar los datos por usuario para obtener un solo valor por usuario en cada grupo(2 grupo de comparación)\n",
    "    group1_data = data_filtrado[data_filtrado['Prueba'] == group1].groupby('user_id')['event_example'].max()\n",
    "    group2_data = data_filtrado[data_filtrado['Prueba'] == group2].groupby('user_id')['event_example'].max()\n",
    "    \n",
    "    # Realizar el t-test entre los dos grupos\n",
    "    stat, p_value = st.ttest_ind(group1_data, group2_data)\n",
    "     #deteminamos que el alpha se dividira entre el numero de pruebas\n",
    "    alpha = 0.05 /20 # ya que en las siguiente prueba se compara grupos(4*5)\n",
    "    print(f\"Evento: {tipo_evento}\") \n",
    "    print(f\"Statistic: {stat}\")\n",
    "    print(f\"p-value: {p_value}\")\n",
    "    if p_value < alpha:\n",
    "        print(\"Si hay significancia\")\n",
    "    else:\n",
    "        print(\"No hay significancia estadística\")"
   ]
  },
  {
   "cell_type": "markdown",
   "metadata": {},
   "source": [
    "* Son 5 eventos pero se compara entre los 3 grupos , 2 grupos de control se tomara como un solo grupo"
   ]
  },
  {
   "cell_type": "code",
   "execution_count": 33,
   "metadata": {},
   "outputs": [
    {
     "name": "stderr",
     "output_type": "stream",
     "text": [
      "/tmp/ipykernel_257/2813179359.py:4: SettingWithCopyWarning: \n",
      "A value is trying to be set on a copy of a slice from a DataFrame.\n",
      "Try using .loc[row_indexer,col_indexer] = value instead\n",
      "\n",
      "See the caveats in the documentation: https://pandas.pydata.org/pandas-docs/stable/user_guide/indexing.html#returning-a-view-versus-a-copy\n",
      "  data_filtrado['event_example'] = data_filtrado['evento'].apply(lambda x: 1 if x == tipo_evento else 0)\n",
      "/tmp/ipykernel_257/2813179359.py:4: SettingWithCopyWarning: \n",
      "A value is trying to be set on a copy of a slice from a DataFrame.\n",
      "Try using .loc[row_indexer,col_indexer] = value instead\n",
      "\n",
      "See the caveats in the documentation: https://pandas.pydata.org/pandas-docs/stable/user_guide/indexing.html#returning-a-view-versus-a-copy\n",
      "  data_filtrado['event_example'] = data_filtrado['evento'].apply(lambda x: 1 if x == tipo_evento else 0)\n",
      "/tmp/ipykernel_257/2813179359.py:4: SettingWithCopyWarning: \n",
      "A value is trying to be set on a copy of a slice from a DataFrame.\n",
      "Try using .loc[row_indexer,col_indexer] = value instead\n",
      "\n",
      "See the caveats in the documentation: https://pandas.pydata.org/pandas-docs/stable/user_guide/indexing.html#returning-a-view-versus-a-copy\n",
      "  data_filtrado['event_example'] = data_filtrado['evento'].apply(lambda x: 1 if x == tipo_evento else 0)\n",
      "/tmp/ipykernel_257/2813179359.py:4: SettingWithCopyWarning: \n",
      "A value is trying to be set on a copy of a slice from a DataFrame.\n",
      "Try using .loc[row_indexer,col_indexer] = value instead\n",
      "\n",
      "See the caveats in the documentation: https://pandas.pydata.org/pandas-docs/stable/user_guide/indexing.html#returning-a-view-versus-a-copy\n",
      "  data_filtrado['event_example'] = data_filtrado['evento'].apply(lambda x: 1 if x == tipo_evento else 0)\n"
     ]
    },
    {
     "name": "stdout",
     "output_type": "stream",
     "text": [
      "Evento: MainScreenAppear\n",
      "Statistic: 0.30928523442542466\n",
      "p-value: 0.7571174621103072\n",
      "No hay significancia estadística\n",
      "Evento: OffersScreenAppear\n",
      "Statistic: 1.154910721737677\n",
      "p-value: 0.24818223444867904\n",
      "No hay significancia estadística\n",
      "Evento: CartScreenAppear\n",
      "Statistic: 1.203302101112663\n",
      "p-value: 0.22891646330485427\n",
      "No hay significancia estadística\n",
      "Evento: PaymentScreenSuccessful\n",
      "Statistic: 1.5780722647036525\n",
      "p-value: 0.11461233163248476\n",
      "No hay significancia estadística\n",
      "Evento: Tutorial\n",
      "Statistic: -0.07814586418903402\n",
      "p-value: 0.9377151544645461\n",
      "No hay significancia estadística\n"
     ]
    },
    {
     "name": "stderr",
     "output_type": "stream",
     "text": [
      "/tmp/ipykernel_257/2813179359.py:4: SettingWithCopyWarning: \n",
      "A value is trying to be set on a copy of a slice from a DataFrame.\n",
      "Try using .loc[row_indexer,col_indexer] = value instead\n",
      "\n",
      "See the caveats in the documentation: https://pandas.pydata.org/pandas-docs/stable/user_guide/indexing.html#returning-a-view-versus-a-copy\n",
      "  data_filtrado['event_example'] = data_filtrado['evento'].apply(lambda x: 1 if x == tipo_evento else 0)\n"
     ]
    }
   ],
   "source": [
    "# se crea una lista de los eventos\n",
    "eventos = ['MainScreenAppear', 'OffersScreenAppear', 'CartScreenAppear', 'PaymentScreenSuccessful', 'Tutorial']\n",
    "for evento in eventos:\n",
    "    test_event_proportions_ttest(data_filtrado, evento, 246, 247)"
   ]
  },
  {
   "cell_type": "markdown",
   "metadata": {},
   "source": [
    "### Haz lo mismo para el grupo con fuentes alteradas. "
   ]
  },
  {
   "cell_type": "markdown",
   "metadata": {},
   "source": [
    "### Compara los resultados con los de cada uno de los grupos de control para cada evento de forma aislada. "
   ]
  },
  {
   "cell_type": "code",
   "execution_count": 34,
   "metadata": {},
   "outputs": [
    {
     "name": "stderr",
     "output_type": "stream",
     "text": [
      "/tmp/ipykernel_257/2813179359.py:4: SettingWithCopyWarning: \n",
      "A value is trying to be set on a copy of a slice from a DataFrame.\n",
      "Try using .loc[row_indexer,col_indexer] = value instead\n",
      "\n",
      "See the caveats in the documentation: https://pandas.pydata.org/pandas-docs/stable/user_guide/indexing.html#returning-a-view-versus-a-copy\n",
      "  data_filtrado['event_example'] = data_filtrado['evento'].apply(lambda x: 1 if x == tipo_evento else 0)\n",
      "/tmp/ipykernel_257/2813179359.py:4: SettingWithCopyWarning: \n",
      "A value is trying to be set on a copy of a slice from a DataFrame.\n",
      "Try using .loc[row_indexer,col_indexer] = value instead\n",
      "\n",
      "See the caveats in the documentation: https://pandas.pydata.org/pandas-docs/stable/user_guide/indexing.html#returning-a-view-versus-a-copy\n",
      "  data_filtrado['event_example'] = data_filtrado['evento'].apply(lambda x: 1 if x == tipo_evento else 0)\n",
      "/tmp/ipykernel_257/2813179359.py:4: SettingWithCopyWarning: \n",
      "A value is trying to be set on a copy of a slice from a DataFrame.\n",
      "Try using .loc[row_indexer,col_indexer] = value instead\n",
      "\n",
      "See the caveats in the documentation: https://pandas.pydata.org/pandas-docs/stable/user_guide/indexing.html#returning-a-view-versus-a-copy\n",
      "  data_filtrado['event_example'] = data_filtrado['evento'].apply(lambda x: 1 if x == tipo_evento else 0)\n",
      "/tmp/ipykernel_257/2813179359.py:4: SettingWithCopyWarning: \n",
      "A value is trying to be set on a copy of a slice from a DataFrame.\n",
      "Try using .loc[row_indexer,col_indexer] = value instead\n",
      "\n",
      "See the caveats in the documentation: https://pandas.pydata.org/pandas-docs/stable/user_guide/indexing.html#returning-a-view-versus-a-copy\n",
      "  data_filtrado['event_example'] = data_filtrado['evento'].apply(lambda x: 1 if x == tipo_evento else 0)\n"
     ]
    },
    {
     "name": "stdout",
     "output_type": "stream",
     "text": [
      "Evento: MainScreenAppear\n",
      "Statistic: 1.0471820148439273\n",
      "p-value: 0.2950660646567914\n",
      "No hay significancia estadística\n",
      "Evento: OffersScreenAppear\n",
      "Statistic: 1.2580298446630087\n",
      "p-value: 0.20843948636199391\n",
      "No hay significancia estadística\n",
      "Evento: CartScreenAppear\n",
      "Statistic: 1.7600660335120504\n",
      "p-value: 0.0784575175226791\n",
      "No hay significancia estadística\n",
      "Evento: PaymentScreenSuccessful\n",
      "Statistic: 1.2473326540860652\n",
      "p-value: 0.2123337471133262\n",
      "No hay significancia estadística\n",
      "Evento: Tutorial\n",
      "Statistic: 0.219240632444837\n",
      "p-value: 0.8264715202653616\n",
      "No hay significancia estadística\n"
     ]
    },
    {
     "name": "stderr",
     "output_type": "stream",
     "text": [
      "/tmp/ipykernel_257/2813179359.py:4: SettingWithCopyWarning: \n",
      "A value is trying to be set on a copy of a slice from a DataFrame.\n",
      "Try using .loc[row_indexer,col_indexer] = value instead\n",
      "\n",
      "See the caveats in the documentation: https://pandas.pydata.org/pandas-docs/stable/user_guide/indexing.html#returning-a-view-versus-a-copy\n",
      "  data_filtrado['event_example'] = data_filtrado['evento'].apply(lambda x: 1 if x == tipo_evento else 0)\n"
     ]
    }
   ],
   "source": [
    "#Corremos nuevamente la función, ahora comparando cada grupo de control con el experimental\n",
    "#Grupo 246 y 248\n",
    "eventos = ['MainScreenAppear', 'OffersScreenAppear', 'CartScreenAppear', 'PaymentScreenSuccessful', 'Tutorial']\n",
    "for evento in eventos:\n",
    "    test_event_proportions_ttest(data_filtrado, evento, 246, 248)"
   ]
  },
  {
   "cell_type": "code",
   "execution_count": 35,
   "metadata": {},
   "outputs": [
    {
     "name": "stderr",
     "output_type": "stream",
     "text": [
      "/tmp/ipykernel_257/2813179359.py:4: SettingWithCopyWarning: \n",
      "A value is trying to be set on a copy of a slice from a DataFrame.\n",
      "Try using .loc[row_indexer,col_indexer] = value instead\n",
      "\n",
      "See the caveats in the documentation: https://pandas.pydata.org/pandas-docs/stable/user_guide/indexing.html#returning-a-view-versus-a-copy\n",
      "  data_filtrado['event_example'] = data_filtrado['evento'].apply(lambda x: 1 if x == tipo_evento else 0)\n",
      "/tmp/ipykernel_257/2813179359.py:4: SettingWithCopyWarning: \n",
      "A value is trying to be set on a copy of a slice from a DataFrame.\n",
      "Try using .loc[row_indexer,col_indexer] = value instead\n",
      "\n",
      "See the caveats in the documentation: https://pandas.pydata.org/pandas-docs/stable/user_guide/indexing.html#returning-a-view-versus-a-copy\n",
      "  data_filtrado['event_example'] = data_filtrado['evento'].apply(lambda x: 1 if x == tipo_evento else 0)\n",
      "/tmp/ipykernel_257/2813179359.py:4: SettingWithCopyWarning: \n",
      "A value is trying to be set on a copy of a slice from a DataFrame.\n",
      "Try using .loc[row_indexer,col_indexer] = value instead\n",
      "\n",
      "See the caveats in the documentation: https://pandas.pydata.org/pandas-docs/stable/user_guide/indexing.html#returning-a-view-versus-a-copy\n",
      "  data_filtrado['event_example'] = data_filtrado['evento'].apply(lambda x: 1 if x == tipo_evento else 0)\n",
      "/tmp/ipykernel_257/2813179359.py:4: SettingWithCopyWarning: \n",
      "A value is trying to be set on a copy of a slice from a DataFrame.\n",
      "Try using .loc[row_indexer,col_indexer] = value instead\n",
      "\n",
      "See the caveats in the documentation: https://pandas.pydata.org/pandas-docs/stable/user_guide/indexing.html#returning-a-view-versus-a-copy\n",
      "  data_filtrado['event_example'] = data_filtrado['evento'].apply(lambda x: 1 if x == tipo_evento else 0)\n"
     ]
    },
    {
     "name": "stdout",
     "output_type": "stream",
     "text": [
      "Evento: MainScreenAppear\n",
      "Statistic: 0.7408738714939229\n",
      "p-value: 0.45880437959723175\n",
      "No hay significancia estadística\n",
      "Evento: OffersScreenAppear\n",
      "Statistic: 0.10068875836751069\n",
      "p-value: 0.9198015341631126\n",
      "No hay significancia estadística\n",
      "Evento: CartScreenAppear\n",
      "Statistic: 0.5553088766823087\n",
      "p-value: 0.5787080147829398\n",
      "No hay significancia estadística\n",
      "Evento: PaymentScreenSuccessful\n",
      "Statistic: -0.3353132695021712\n",
      "p-value: 0.7374027184332623\n",
      "No hay significancia estadística\n",
      "Evento: Tutorial\n",
      "Statistic: 0.29844044394554403\n",
      "p-value: 0.7653793082832738\n",
      "No hay significancia estadística\n"
     ]
    },
    {
     "name": "stderr",
     "output_type": "stream",
     "text": [
      "/tmp/ipykernel_257/2813179359.py:4: SettingWithCopyWarning: \n",
      "A value is trying to be set on a copy of a slice from a DataFrame.\n",
      "Try using .loc[row_indexer,col_indexer] = value instead\n",
      "\n",
      "See the caveats in the documentation: https://pandas.pydata.org/pandas-docs/stable/user_guide/indexing.html#returning-a-view-versus-a-copy\n",
      "  data_filtrado['event_example'] = data_filtrado['evento'].apply(lambda x: 1 if x == tipo_evento else 0)\n"
     ]
    }
   ],
   "source": [
    "#Corremos nuevamente la función, ahora comparando cada grupo de control con el experimental\n",
    "#Grupo 247 y 248\n",
    "eventos = ['MainScreenAppear', 'OffersScreenAppear', 'CartScreenAppear', 'PaymentScreenSuccessful', 'Tutorial']\n",
    "for evento in eventos:\n",
    "    test_event_proportions_ttest(data_filtrado, evento, 247, 248)"
   ]
  },
  {
   "cell_type": "markdown",
   "metadata": {},
   "source": [
    "### Compara los resultados con los resultados combinados de los grupos de control. ¿Qué conclusiones puedes sacar del experimento?"
   ]
  },
  {
   "cell_type": "code",
   "execution_count": 36,
   "metadata": {},
   "outputs": [
    {
     "name": "stderr",
     "output_type": "stream",
     "text": [
      "/tmp/ipykernel_257/2813179359.py:4: SettingWithCopyWarning: \n",
      "A value is trying to be set on a copy of a slice from a DataFrame.\n",
      "Try using .loc[row_indexer,col_indexer] = value instead\n",
      "\n",
      "See the caveats in the documentation: https://pandas.pydata.org/pandas-docs/stable/user_guide/indexing.html#returning-a-view-versus-a-copy\n",
      "  data_filtrado['event_example'] = data_filtrado['evento'].apply(lambda x: 1 if x == tipo_evento else 0)\n",
      "/tmp/ipykernel_257/2813179359.py:4: SettingWithCopyWarning: \n",
      "A value is trying to be set on a copy of a slice from a DataFrame.\n",
      "Try using .loc[row_indexer,col_indexer] = value instead\n",
      "\n",
      "See the caveats in the documentation: https://pandas.pydata.org/pandas-docs/stable/user_guide/indexing.html#returning-a-view-versus-a-copy\n",
      "  data_filtrado['event_example'] = data_filtrado['evento'].apply(lambda x: 1 if x == tipo_evento else 0)\n",
      "/tmp/ipykernel_257/2813179359.py:4: SettingWithCopyWarning: \n",
      "A value is trying to be set on a copy of a slice from a DataFrame.\n",
      "Try using .loc[row_indexer,col_indexer] = value instead\n",
      "\n",
      "See the caveats in the documentation: https://pandas.pydata.org/pandas-docs/stable/user_guide/indexing.html#returning-a-view-versus-a-copy\n",
      "  data_filtrado['event_example'] = data_filtrado['evento'].apply(lambda x: 1 if x == tipo_evento else 0)\n"
     ]
    },
    {
     "name": "stdout",
     "output_type": "stream",
     "text": [
      "Evento: MainScreenAppear\n",
      "Statistic: 0.7408738714939229\n",
      "p-value: 0.45880437959723175\n",
      "No hay significancia estadística\n",
      "Evento: OffersScreenAppear\n",
      "Statistic: 0.10068875836751069\n",
      "p-value: 0.9198015341631126\n",
      "No hay significancia estadística\n",
      "Evento: CartScreenAppear\n",
      "Statistic: 0.5553088766823087\n",
      "p-value: 0.5787080147829398\n",
      "No hay significancia estadística\n",
      "Evento: PaymentScreenSuccessful\n",
      "Statistic: -0.3353132695021712\n",
      "p-value: 0.7374027184332623\n",
      "No hay significancia estadística\n",
      "Evento: Tutorial\n",
      "Statistic: 0.29844044394554403\n",
      "p-value: 0.7653793082832738\n",
      "No hay significancia estadística\n"
     ]
    },
    {
     "name": "stderr",
     "output_type": "stream",
     "text": [
      "/tmp/ipykernel_257/2813179359.py:4: SettingWithCopyWarning: \n",
      "A value is trying to be set on a copy of a slice from a DataFrame.\n",
      "Try using .loc[row_indexer,col_indexer] = value instead\n",
      "\n",
      "See the caveats in the documentation: https://pandas.pydata.org/pandas-docs/stable/user_guide/indexing.html#returning-a-view-versus-a-copy\n",
      "  data_filtrado['event_example'] = data_filtrado['evento'].apply(lambda x: 1 if x == tipo_evento else 0)\n",
      "/tmp/ipykernel_257/2813179359.py:4: SettingWithCopyWarning: \n",
      "A value is trying to be set on a copy of a slice from a DataFrame.\n",
      "Try using .loc[row_indexer,col_indexer] = value instead\n",
      "\n",
      "See the caveats in the documentation: https://pandas.pydata.org/pandas-docs/stable/user_guide/indexing.html#returning-a-view-versus-a-copy\n",
      "  data_filtrado['event_example'] = data_filtrado['evento'].apply(lambda x: 1 if x == tipo_evento else 0)\n"
     ]
    }
   ],
   "source": [
    "#Corremos nuevamente la función, ahora comparando los grupos de control con el experimental\n",
    "eventos = ['MainScreenAppear', 'OffersScreenAppear', 'CartScreenAppear', 'PaymentScreenSuccessful', 'Tutorial']\n",
    "for evento in eventos:\n",
    "    test_event_proportions_ttest(data_filtrado, evento, 246 and 247, 248)"
   ]
  },
  {
   "cell_type": "markdown",
   "metadata": {},
   "source": [
    "### ¿Qué nivel de significación has establecido para probar las hipótesis estadísticas mencionadas anteriormente? "
   ]
  },
  {
   "cell_type": "markdown",
   "metadata": {},
   "source": [
    "* Inicialmente consideré dicha corrección como 0.05/5 ya que al correr la función se ejecutaba 5 veces por prueba(Eventos)"
   ]
  },
  {
   "cell_type": "markdown",
   "metadata": {},
   "source": [
    "### Calcula cuántas pruebas de hipótesis estadísticas has realizado. Con un nivel de significancia estadística de 0.1, uno de cada 10 resultados podría ser falso. ¿Cuál debería ser el nivel de significación? Si deseas cambiarlo, vuelve a ejecutar los pasos anteriores y comprueba tus conclusiones."
   ]
  },
  {
   "cell_type": "markdown",
   "metadata": {},
   "source": [
    "* Se ha realizado 20 pruebas. Para realizar las pruebas multiples se ha tomado los 5 eventos diferentes para 3 muestras (2 grupos de control y una prueba).Los grupos de control se tomaron como grupo independiente .Por el cual el numero de pruba fueron 15 pero los grupos de control se tomó como uno solo y en total se añadio 5 pruebas mas. \n",
    "En total se realizó 20 pruebas .\n",
    "* Se tomo el metodo mas conocido el de 'Bonferroni'.Por el cual se dividió 0.05 / 20 (0.0025) , y tener menor probabilidad de obterner falso positivos,Porque con cada prueba aumentaria cada prueba y no estaria arrojando una informacion o conclusion verdadera.\n",
    "Pero no hay una diferencia cambiando el alpha .Los resultados se mantiene."
   ]
  },
  {
   "cell_type": "markdown",
   "metadata": {},
   "source": [
    "## Conclusiones"
   ]
  },
  {
   "cell_type": "markdown",
   "metadata": {},
   "source": [
    "* Se han tomado igual de proporcion de usuarios unicos en cada grupo\n",
    "* Al estar familiarizado los usuarios revisan constatntemente la pagina y posiblemente las oferta.\n",
    "* Entre la etapa del usuario al entrar a la pagina principal para ir a ver las ofertas hay mayor desinterés.en una perdiad de 30% de usuarios que no sigue ese paso.Finalmente los qu compra la mayoria se queda conforme con su compra y no ve el tutorial.un 80% de los usuarios que realiza la compra se retira.\n",
    "* Se han tomado 3 grupos para las pruebas multiples de cada eventos y tomado el ajuste necesario de los p.value y haber realizado la pruebas test A/A/B  NO HAY UNA CAMBIO SIGNIFICATIVO entre los grupos por el cual se puede aprobar el cambio de diseño de las fuentes.No perderia o no habria cambio del comportamiento de los usuarios."
   ]
  }
 ],
 "metadata": {
  "ExecuteTimeLog": [
   {
    "duration": 321,
    "start_time": "2024-11-06T22:28:02.504Z"
   },
   {
    "duration": 217,
    "start_time": "2024-11-06T22:28:18.317Z"
   },
   {
    "duration": 236,
    "start_time": "2024-11-06T22:28:25.416Z"
   },
   {
    "duration": 12,
    "start_time": "2024-11-06T22:28:32.111Z"
   },
   {
    "duration": 6,
    "start_time": "2024-11-06T22:29:04.849Z"
   },
   {
    "duration": 230,
    "start_time": "2024-11-06T22:29:49.852Z"
   },
   {
    "duration": 11,
    "start_time": "2024-11-06T22:29:52.444Z"
   },
   {
    "duration": 538,
    "start_time": "2024-11-06T22:30:02.565Z"
   },
   {
    "duration": 4,
    "start_time": "2024-11-06T22:30:11.768Z"
   },
   {
    "duration": 4,
    "start_time": "2024-11-06T22:30:37.090Z"
   },
   {
    "duration": 164,
    "start_time": "2024-11-07T03:24:15.767Z"
   },
   {
    "duration": 302,
    "start_time": "2024-11-07T03:24:25.346Z"
   },
   {
    "duration": 520,
    "start_time": "2024-11-07T03:24:27.167Z"
   },
   {
    "duration": 129,
    "start_time": "2024-11-07T03:25:33.111Z"
   },
   {
    "duration": 11,
    "start_time": "2024-11-07T03:25:37.209Z"
   },
   {
    "duration": 13,
    "start_time": "2024-11-07T03:25:51.624Z"
   },
   {
    "duration": 102,
    "start_time": "2024-11-07T03:25:54.244Z"
   },
   {
    "duration": 12,
    "start_time": "2024-11-07T03:25:55.882Z"
   },
   {
    "duration": 173,
    "start_time": "2024-11-07T03:29:05.939Z"
   },
   {
    "duration": 7,
    "start_time": "2024-11-07T03:29:07.894Z"
   },
   {
    "duration": 93,
    "start_time": "2024-11-07T03:29:17.301Z"
   },
   {
    "duration": 11,
    "start_time": "2024-11-07T03:29:21.638Z"
   },
   {
    "duration": 15,
    "start_time": "2024-11-07T03:29:37.497Z"
   },
   {
    "duration": 9,
    "start_time": "2024-11-07T03:29:47.836Z"
   },
   {
    "duration": 5,
    "start_time": "2024-11-07T03:32:55.961Z"
   },
   {
    "duration": 233,
    "start_time": "2024-11-07T03:33:13.922Z"
   },
   {
    "duration": 7,
    "start_time": "2024-11-07T03:41:04.554Z"
   },
   {
    "duration": 10,
    "start_time": "2024-11-07T03:41:09.326Z"
   },
   {
    "duration": 302,
    "start_time": "2024-11-07T15:25:38.291Z"
   },
   {
    "duration": 132,
    "start_time": "2024-11-07T15:25:39.014Z"
   },
   {
    "duration": 14,
    "start_time": "2024-11-07T15:25:42.353Z"
   },
   {
    "duration": 309,
    "start_time": "2024-11-07T15:25:49.307Z"
   },
   {
    "duration": 3,
    "start_time": "2024-11-07T15:26:13.519Z"
   },
   {
    "duration": 52,
    "start_time": "2024-11-07T15:26:21.109Z"
   },
   {
    "duration": 16,
    "start_time": "2024-11-07T15:26:48.462Z"
   },
   {
    "duration": 8,
    "start_time": "2024-11-07T15:28:04.317Z"
   },
   {
    "duration": 10,
    "start_time": "2024-11-07T15:28:10.519Z"
   },
   {
    "duration": 3,
    "start_time": "2024-11-07T15:30:18.786Z"
   },
   {
    "duration": 3,
    "start_time": "2024-11-07T15:30:25.307Z"
   },
   {
    "duration": 11,
    "start_time": "2024-11-07T15:30:32.109Z"
   },
   {
    "duration": 15,
    "start_time": "2024-11-07T15:35:10.522Z"
   },
   {
    "duration": 3,
    "start_time": "2024-11-07T15:35:20.307Z"
   },
   {
    "duration": 135,
    "start_time": "2024-11-07T15:35:20.312Z"
   },
   {
    "duration": 10,
    "start_time": "2024-11-07T15:35:20.448Z"
   },
   {
    "duration": 3,
    "start_time": "2024-11-07T15:35:20.459Z"
   },
   {
    "duration": 15,
    "start_time": "2024-11-07T15:35:20.465Z"
   },
   {
    "duration": 416,
    "start_time": "2024-11-07T15:35:20.482Z"
   },
   {
    "duration": 0,
    "start_time": "2024-11-07T15:35:20.909Z"
   },
   {
    "duration": 51,
    "start_time": "2024-11-07T15:37:35.348Z"
   },
   {
    "duration": 5,
    "start_time": "2024-11-07T15:37:51.621Z"
   },
   {
    "duration": 8,
    "start_time": "2024-11-07T15:37:58.566Z"
   },
   {
    "duration": 12,
    "start_time": "2024-11-07T15:38:09.104Z"
   },
   {
    "duration": 13,
    "start_time": "2024-11-07T15:41:01.954Z"
   },
   {
    "duration": 42,
    "start_time": "2024-11-07T15:41:08.875Z"
   },
   {
    "duration": 41,
    "start_time": "2024-11-07T15:41:13.939Z"
   },
   {
    "duration": 48,
    "start_time": "2024-11-07T15:41:32.788Z"
   },
   {
    "duration": 135,
    "start_time": "2024-11-07T15:43:34.029Z"
   },
   {
    "duration": 49,
    "start_time": "2024-11-07T15:44:05.468Z"
   },
   {
    "duration": 6,
    "start_time": "2024-11-07T15:46:00.453Z"
   },
   {
    "duration": 3,
    "start_time": "2024-11-07T15:46:20.948Z"
   },
   {
    "duration": 6,
    "start_time": "2024-11-07T15:46:44.321Z"
   },
   {
    "duration": 15,
    "start_time": "2024-11-07T15:46:54.468Z"
   },
   {
    "duration": 139,
    "start_time": "2024-11-07T15:47:14.233Z"
   },
   {
    "duration": 8,
    "start_time": "2024-11-07T15:47:27.850Z"
   },
   {
    "duration": 3,
    "start_time": "2024-11-07T15:48:02.342Z"
   },
   {
    "duration": 64,
    "start_time": "2024-11-07T15:48:17.191Z"
   },
   {
    "duration": 11,
    "start_time": "2024-11-07T15:48:35.652Z"
   },
   {
    "duration": 8,
    "start_time": "2024-11-07T15:48:57.978Z"
   },
   {
    "duration": 11,
    "start_time": "2024-11-07T15:49:30.864Z"
   },
   {
    "duration": 10,
    "start_time": "2024-11-07T15:50:10.184Z"
   },
   {
    "duration": 10,
    "start_time": "2024-11-07T15:52:02.718Z"
   },
   {
    "duration": 11,
    "start_time": "2024-11-07T15:53:12.857Z"
   },
   {
    "duration": 11,
    "start_time": "2024-11-07T15:53:43.962Z"
   },
   {
    "duration": 54,
    "start_time": "2024-11-07T16:05:35.603Z"
   },
   {
    "duration": 39,
    "start_time": "2024-11-07T16:06:21.431Z"
   },
   {
    "duration": 40,
    "start_time": "2024-11-07T16:06:51.407Z"
   },
   {
    "duration": 39,
    "start_time": "2024-11-07T16:07:07.457Z"
   },
   {
    "duration": 51,
    "start_time": "2024-11-07T16:08:16.242Z"
   },
   {
    "duration": 87,
    "start_time": "2024-11-07T16:08:35.428Z"
   },
   {
    "duration": 87,
    "start_time": "2024-11-07T16:10:04.073Z"
   },
   {
    "duration": 111,
    "start_time": "2024-11-07T16:10:36.933Z"
   },
   {
    "duration": 92,
    "start_time": "2024-11-07T16:11:19.573Z"
   },
   {
    "duration": 87,
    "start_time": "2024-11-07T16:11:40.343Z"
   },
   {
    "duration": 89,
    "start_time": "2024-11-07T16:11:42.542Z"
   },
   {
    "duration": 3,
    "start_time": "2024-11-07T16:11:44.401Z"
   },
   {
    "duration": 130,
    "start_time": "2024-11-07T16:11:44.406Z"
   },
   {
    "duration": 9,
    "start_time": "2024-11-07T16:11:44.538Z"
   },
   {
    "duration": 3,
    "start_time": "2024-11-07T16:11:44.549Z"
   },
   {
    "duration": 19,
    "start_time": "2024-11-07T16:11:44.554Z"
   },
   {
    "duration": 7,
    "start_time": "2024-11-07T16:11:44.576Z"
   },
   {
    "duration": 108,
    "start_time": "2024-11-07T16:11:44.585Z"
   },
   {
    "duration": 114,
    "start_time": "2024-11-07T16:12:57.871Z"
   },
   {
    "duration": 43,
    "start_time": "2024-11-07T16:15:10.118Z"
   },
   {
    "duration": 45,
    "start_time": "2024-11-07T16:15:19.359Z"
   },
   {
    "duration": 3,
    "start_time": "2024-11-07T16:15:26.230Z"
   },
   {
    "duration": 11,
    "start_time": "2024-11-07T16:15:56.238Z"
   },
   {
    "duration": 16,
    "start_time": "2024-11-07T16:17:09.023Z"
   },
   {
    "duration": 12,
    "start_time": "2024-11-07T16:17:48.500Z"
   },
   {
    "duration": 11,
    "start_time": "2024-11-07T16:17:54.848Z"
   },
   {
    "duration": 519,
    "start_time": "2024-11-07T16:19:11.740Z"
   },
   {
    "duration": 9,
    "start_time": "2024-11-07T16:24:27.001Z"
   },
   {
    "duration": 8,
    "start_time": "2024-11-07T16:25:17.731Z"
   },
   {
    "duration": 78,
    "start_time": "2024-11-07T16:25:25.046Z"
   },
   {
    "duration": 99,
    "start_time": "2024-11-07T16:25:39.555Z"
   },
   {
    "duration": 11,
    "start_time": "2024-11-07T16:25:46.517Z"
   },
   {
    "duration": 46,
    "start_time": "2024-11-07T16:26:29.470Z"
   },
   {
    "duration": 48,
    "start_time": "2024-11-07T16:26:39.451Z"
   },
   {
    "duration": 2,
    "start_time": "2024-11-07T16:26:43.000Z"
   },
   {
    "duration": 95,
    "start_time": "2024-11-07T16:26:43.004Z"
   },
   {
    "duration": 10,
    "start_time": "2024-11-07T16:26:43.101Z"
   },
   {
    "duration": 3,
    "start_time": "2024-11-07T16:26:43.112Z"
   },
   {
    "duration": 14,
    "start_time": "2024-11-07T16:26:43.117Z"
   },
   {
    "duration": 5,
    "start_time": "2024-11-07T16:26:43.133Z"
   },
   {
    "duration": 109,
    "start_time": "2024-11-07T16:26:43.139Z"
   },
   {
    "duration": 47,
    "start_time": "2024-11-07T16:26:43.250Z"
   },
   {
    "duration": 3,
    "start_time": "2024-11-07T16:26:46.229Z"
   },
   {
    "duration": 99,
    "start_time": "2024-11-07T16:26:46.234Z"
   },
   {
    "duration": 9,
    "start_time": "2024-11-07T16:26:46.334Z"
   },
   {
    "duration": 3,
    "start_time": "2024-11-07T16:26:46.346Z"
   },
   {
    "duration": 15,
    "start_time": "2024-11-07T16:26:46.351Z"
   },
   {
    "duration": 7,
    "start_time": "2024-11-07T16:26:46.367Z"
   },
   {
    "duration": 105,
    "start_time": "2024-11-07T16:26:46.376Z"
   },
   {
    "duration": 55,
    "start_time": "2024-11-07T16:26:46.482Z"
   },
   {
    "duration": 49,
    "start_time": "2024-11-07T16:26:49.044Z"
   },
   {
    "duration": 89,
    "start_time": "2024-11-07T16:27:01.776Z"
   },
   {
    "duration": 14,
    "start_time": "2024-11-07T16:27:50.549Z"
   },
   {
    "duration": 11,
    "start_time": "2024-11-07T16:28:03.995Z"
   },
   {
    "duration": 5,
    "start_time": "2024-11-07T16:28:31.500Z"
   },
   {
    "duration": 47,
    "start_time": "2024-11-07T16:29:26.234Z"
   },
   {
    "duration": 44,
    "start_time": "2024-11-07T16:31:24.476Z"
   },
   {
    "duration": 45,
    "start_time": "2024-11-07T16:31:37.613Z"
   },
   {
    "duration": 91,
    "start_time": "2024-11-07T16:32:00.142Z"
   },
   {
    "duration": 43,
    "start_time": "2024-11-07T16:32:08.586Z"
   },
   {
    "duration": 3,
    "start_time": "2024-11-07T16:32:29.321Z"
   },
   {
    "duration": 99,
    "start_time": "2024-11-07T16:32:29.481Z"
   },
   {
    "duration": 8,
    "start_time": "2024-11-07T16:32:29.850Z"
   },
   {
    "duration": 3,
    "start_time": "2024-11-07T16:32:30.409Z"
   },
   {
    "duration": 15,
    "start_time": "2024-11-07T16:32:30.785Z"
   },
   {
    "duration": 5,
    "start_time": "2024-11-07T16:32:31.156Z"
   },
   {
    "duration": 87,
    "start_time": "2024-11-07T16:32:31.352Z"
   },
   {
    "duration": 43,
    "start_time": "2024-11-07T16:32:32.229Z"
   },
   {
    "duration": 43,
    "start_time": "2024-11-07T16:32:49.819Z"
   },
   {
    "duration": 43,
    "start_time": "2024-11-07T16:32:56.895Z"
   },
   {
    "duration": 92,
    "start_time": "2024-11-07T16:34:20.201Z"
   },
   {
    "duration": 65,
    "start_time": "2024-11-07T16:34:52.817Z"
   },
   {
    "duration": 49,
    "start_time": "2024-11-07T16:35:05.807Z"
   },
   {
    "duration": 12,
    "start_time": "2024-11-07T16:35:50.495Z"
   },
   {
    "duration": 11,
    "start_time": "2024-11-07T16:36:25.585Z"
   },
   {
    "duration": 5,
    "start_time": "2024-11-07T16:38:24.095Z"
   },
   {
    "duration": 56,
    "start_time": "2024-11-07T16:39:07.165Z"
   },
   {
    "duration": 42,
    "start_time": "2024-11-07T16:43:08.532Z"
   },
   {
    "duration": 44,
    "start_time": "2024-11-07T16:43:33.603Z"
   },
   {
    "duration": 88,
    "start_time": "2024-11-07T16:45:27.091Z"
   },
   {
    "duration": 43,
    "start_time": "2024-11-07T16:45:31.716Z"
   },
   {
    "duration": 43,
    "start_time": "2024-11-07T16:45:42.026Z"
   },
   {
    "duration": 45,
    "start_time": "2024-11-07T16:45:52.414Z"
   },
   {
    "duration": 123,
    "start_time": "2024-11-07T16:48:53.896Z"
   },
   {
    "duration": 45,
    "start_time": "2024-11-07T16:49:02.013Z"
   },
   {
    "duration": 47,
    "start_time": "2024-11-07T16:49:57.450Z"
   },
   {
    "duration": 55,
    "start_time": "2024-11-07T16:50:14.732Z"
   },
   {
    "duration": 50,
    "start_time": "2024-11-07T16:56:08.559Z"
   },
   {
    "duration": 8,
    "start_time": "2024-11-07T17:00:33.856Z"
   },
   {
    "duration": 14,
    "start_time": "2024-11-07T17:01:19.074Z"
   },
   {
    "duration": 841,
    "start_time": "2024-11-07T17:01:55.891Z"
   },
   {
    "duration": 786,
    "start_time": "2024-11-07T17:02:32.524Z"
   },
   {
    "duration": 103,
    "start_time": "2024-11-07T17:03:25.442Z"
   },
   {
    "duration": 161,
    "start_time": "2024-11-07T17:03:50.458Z"
   },
   {
    "duration": 65,
    "start_time": "2024-11-07T17:04:55.184Z"
   },
   {
    "duration": 10,
    "start_time": "2024-11-07T17:08:03.724Z"
   },
   {
    "duration": 99,
    "start_time": "2024-11-07T17:08:08.010Z"
   },
   {
    "duration": 66,
    "start_time": "2024-11-07T17:08:13.424Z"
   },
   {
    "duration": 70,
    "start_time": "2024-11-07T17:12:29.305Z"
   },
   {
    "duration": 49,
    "start_time": "2024-11-07T17:13:10.806Z"
   },
   {
    "duration": 51,
    "start_time": "2024-11-07T17:13:51.017Z"
   },
   {
    "duration": 21,
    "start_time": "2024-11-07T17:16:16.906Z"
   },
   {
    "duration": 74,
    "start_time": "2024-11-07T17:16:56.940Z"
   },
   {
    "duration": 50,
    "start_time": "2024-11-07T17:17:06.106Z"
   },
   {
    "duration": 57,
    "start_time": "2024-11-07T17:17:14.054Z"
   },
   {
    "duration": 58,
    "start_time": "2024-11-07T17:17:28.201Z"
   },
   {
    "duration": 59,
    "start_time": "2024-11-07T17:17:32.352Z"
   },
   {
    "duration": 125,
    "start_time": "2024-11-07T17:18:10.722Z"
   },
   {
    "duration": 16,
    "start_time": "2024-11-07T17:18:25.234Z"
   },
   {
    "duration": 2,
    "start_time": "2024-11-07T17:18:41.465Z"
   },
   {
    "duration": 99,
    "start_time": "2024-11-07T17:18:41.469Z"
   },
   {
    "duration": 9,
    "start_time": "2024-11-07T17:18:41.569Z"
   },
   {
    "duration": 3,
    "start_time": "2024-11-07T17:18:41.580Z"
   },
   {
    "duration": 32,
    "start_time": "2024-11-07T17:18:41.585Z"
   },
   {
    "duration": 9,
    "start_time": "2024-11-07T17:18:41.619Z"
   },
   {
    "duration": 100,
    "start_time": "2024-11-07T17:18:41.634Z"
   },
   {
    "duration": 14,
    "start_time": "2024-11-07T17:18:41.736Z"
   },
   {
    "duration": 84,
    "start_time": "2024-11-07T17:18:41.753Z"
   },
   {
    "duration": 18,
    "start_time": "2024-11-07T17:18:44.075Z"
   },
   {
    "duration": 20,
    "start_time": "2024-11-07T17:19:11.529Z"
   },
   {
    "duration": 47,
    "start_time": "2024-11-07T17:19:29.249Z"
   },
   {
    "duration": 48,
    "start_time": "2024-11-07T17:20:03.334Z"
   },
   {
    "duration": 160,
    "start_time": "2024-11-07T17:20:19.551Z"
   },
   {
    "duration": 302,
    "start_time": "2024-11-07T17:22:48.945Z"
   },
   {
    "duration": 103,
    "start_time": "2024-11-07T17:22:49.249Z"
   },
   {
    "duration": 13,
    "start_time": "2024-11-07T17:22:49.354Z"
   },
   {
    "duration": 4,
    "start_time": "2024-11-07T17:22:49.368Z"
   },
   {
    "duration": 16,
    "start_time": "2024-11-07T17:22:49.374Z"
   },
   {
    "duration": 25,
    "start_time": "2024-11-07T17:22:49.391Z"
   },
   {
    "duration": 97,
    "start_time": "2024-11-07T17:22:49.417Z"
   },
   {
    "duration": 15,
    "start_time": "2024-11-07T17:23:20.851Z"
   },
   {
    "duration": 16,
    "start_time": "2024-11-07T17:23:32.050Z"
   },
   {
    "duration": 54,
    "start_time": "2024-11-07T17:23:56.554Z"
   },
   {
    "duration": 45,
    "start_time": "2024-11-07T17:24:05.154Z"
   },
   {
    "duration": 43,
    "start_time": "2024-11-07T17:24:22.459Z"
   },
   {
    "duration": 272,
    "start_time": "2024-11-07T17:24:49.875Z"
   },
   {
    "duration": 99,
    "start_time": "2024-11-07T17:24:50.150Z"
   },
   {
    "duration": 11,
    "start_time": "2024-11-07T17:24:50.251Z"
   },
   {
    "duration": 3,
    "start_time": "2024-11-07T17:24:50.264Z"
   },
   {
    "duration": 15,
    "start_time": "2024-11-07T17:24:50.269Z"
   },
   {
    "duration": 24,
    "start_time": "2024-11-07T17:24:50.286Z"
   },
   {
    "duration": 97,
    "start_time": "2024-11-07T17:24:50.312Z"
   },
   {
    "duration": 43,
    "start_time": "2024-11-07T17:24:56.781Z"
   },
   {
    "duration": 21,
    "start_time": "2024-11-07T17:25:30.590Z"
   },
   {
    "duration": 11,
    "start_time": "2024-11-07T17:26:10.020Z"
   },
   {
    "duration": 3,
    "start_time": "2024-11-07T17:26:52.092Z"
   },
   {
    "duration": 99,
    "start_time": "2024-11-07T17:26:52.338Z"
   },
   {
    "duration": 8,
    "start_time": "2024-11-07T17:26:52.710Z"
   },
   {
    "duration": 3,
    "start_time": "2024-11-07T17:26:53.280Z"
   },
   {
    "duration": 15,
    "start_time": "2024-11-07T17:26:53.777Z"
   },
   {
    "duration": 6,
    "start_time": "2024-11-07T17:26:54.432Z"
   },
   {
    "duration": 83,
    "start_time": "2024-11-07T17:26:54.634Z"
   },
   {
    "duration": 42,
    "start_time": "2024-11-07T17:26:56.191Z"
   },
   {
    "duration": 47,
    "start_time": "2024-11-07T17:27:00.838Z"
   },
   {
    "duration": 52,
    "start_time": "2024-11-07T17:28:29.084Z"
   },
   {
    "duration": 2,
    "start_time": "2024-11-07T17:28:32.383Z"
   },
   {
    "duration": 50,
    "start_time": "2024-11-07T17:28:38.666Z"
   },
   {
    "duration": 420,
    "start_time": "2024-11-07T17:31:22.550Z"
   },
   {
    "duration": 715,
    "start_time": "2024-11-07T17:32:02.648Z"
   },
   {
    "duration": 294,
    "start_time": "2024-11-07T18:57:15.567Z"
   },
   {
    "duration": 131,
    "start_time": "2024-11-07T18:57:15.863Z"
   },
   {
    "duration": 12,
    "start_time": "2024-11-07T18:57:16.120Z"
   },
   {
    "duration": 3,
    "start_time": "2024-11-07T18:57:17.076Z"
   },
   {
    "duration": 19,
    "start_time": "2024-11-07T18:57:17.506Z"
   },
   {
    "duration": 9,
    "start_time": "2024-11-07T18:57:17.965Z"
   },
   {
    "duration": 89,
    "start_time": "2024-11-07T18:57:18.156Z"
   },
   {
    "duration": 2,
    "start_time": "2024-11-07T18:57:18.867Z"
   },
   {
    "duration": 43,
    "start_time": "2024-11-07T18:57:41.793Z"
   },
   {
    "duration": 172,
    "start_time": "2024-11-07T18:57:49.794Z"
   },
   {
    "duration": 131,
    "start_time": "2024-11-07T18:57:57.328Z"
   },
   {
    "duration": 44,
    "start_time": "2024-11-07T18:58:03.649Z"
   },
   {
    "duration": 2,
    "start_time": "2024-11-07T18:58:21.219Z"
   },
   {
    "duration": 11,
    "start_time": "2024-11-07T18:58:50.626Z"
   },
   {
    "duration": 65,
    "start_time": "2024-11-07T18:59:37.691Z"
   },
   {
    "duration": 818,
    "start_time": "2024-11-07T18:59:46.835Z"
   },
   {
    "duration": 757,
    "start_time": "2024-11-07T19:00:46.137Z"
   },
   {
    "duration": 770,
    "start_time": "2024-11-07T19:00:57.684Z"
   },
   {
    "duration": 14,
    "start_time": "2024-11-07T19:01:01.992Z"
   },
   {
    "duration": 10,
    "start_time": "2024-11-07T19:01:58.755Z"
   },
   {
    "duration": 2,
    "start_time": "2024-11-07T19:15:52.502Z"
   },
   {
    "duration": 100,
    "start_time": "2024-11-07T19:15:52.506Z"
   },
   {
    "duration": 8,
    "start_time": "2024-11-07T19:15:52.608Z"
   },
   {
    "duration": 2,
    "start_time": "2024-11-07T19:15:52.618Z"
   },
   {
    "duration": 14,
    "start_time": "2024-11-07T19:15:52.624Z"
   },
   {
    "duration": 5,
    "start_time": "2024-11-07T19:15:52.639Z"
   },
   {
    "duration": 109,
    "start_time": "2024-11-07T19:15:52.646Z"
   },
   {
    "duration": 765,
    "start_time": "2024-11-07T19:15:52.757Z"
   },
   {
    "duration": 2,
    "start_time": "2024-11-07T19:15:53.524Z"
   },
   {
    "duration": 12,
    "start_time": "2024-11-07T19:15:53.528Z"
   },
   {
    "duration": 3,
    "start_time": "2024-11-07T19:16:02.149Z"
   },
   {
    "duration": 98,
    "start_time": "2024-11-07T19:16:02.158Z"
   },
   {
    "duration": 9,
    "start_time": "2024-11-07T19:16:02.258Z"
   },
   {
    "duration": 2,
    "start_time": "2024-11-07T19:16:02.268Z"
   },
   {
    "duration": 14,
    "start_time": "2024-11-07T19:16:02.272Z"
   },
   {
    "duration": 20,
    "start_time": "2024-11-07T19:16:02.289Z"
   },
   {
    "duration": 90,
    "start_time": "2024-11-07T19:16:02.310Z"
   },
   {
    "duration": 808,
    "start_time": "2024-11-07T19:16:02.401Z"
   },
   {
    "duration": 2,
    "start_time": "2024-11-07T19:16:03.211Z"
   },
   {
    "duration": 12,
    "start_time": "2024-11-07T19:16:03.215Z"
   },
   {
    "duration": 13,
    "start_time": "2024-11-07T19:16:17.887Z"
   },
   {
    "duration": 3,
    "start_time": "2024-11-07T19:16:29.772Z"
   },
   {
    "duration": 103,
    "start_time": "2024-11-07T19:16:29.777Z"
   },
   {
    "duration": 12,
    "start_time": "2024-11-07T19:16:29.882Z"
   },
   {
    "duration": 13,
    "start_time": "2024-11-07T19:16:29.896Z"
   },
   {
    "duration": 16,
    "start_time": "2024-11-07T19:16:29.911Z"
   },
   {
    "duration": 5,
    "start_time": "2024-11-07T19:16:29.930Z"
   },
   {
    "duration": 112,
    "start_time": "2024-11-07T19:16:29.937Z"
   },
   {
    "duration": 792,
    "start_time": "2024-11-07T19:16:30.051Z"
   },
   {
    "duration": 2,
    "start_time": "2024-11-07T19:16:30.846Z"
   },
   {
    "duration": 15,
    "start_time": "2024-11-07T19:16:30.852Z"
   },
   {
    "duration": 12,
    "start_time": "2024-11-07T19:16:50.040Z"
   },
   {
    "duration": 2,
    "start_time": "2024-11-07T19:17:09.498Z"
   },
   {
    "duration": 97,
    "start_time": "2024-11-07T19:17:09.502Z"
   },
   {
    "duration": 10,
    "start_time": "2024-11-07T19:17:09.601Z"
   },
   {
    "duration": 3,
    "start_time": "2024-11-07T19:17:09.612Z"
   },
   {
    "duration": 14,
    "start_time": "2024-11-07T19:17:09.617Z"
   },
   {
    "duration": 5,
    "start_time": "2024-11-07T19:17:09.633Z"
   },
   {
    "duration": 9,
    "start_time": "2024-11-07T19:17:09.640Z"
   },
   {
    "duration": 127,
    "start_time": "2024-11-07T19:17:09.650Z"
   },
   {
    "duration": 770,
    "start_time": "2024-11-07T19:17:09.779Z"
   },
   {
    "duration": 2,
    "start_time": "2024-11-07T19:17:10.551Z"
   },
   {
    "duration": 14,
    "start_time": "2024-11-07T19:17:10.555Z"
   },
   {
    "duration": 139,
    "start_time": "2024-11-07T19:17:19.577Z"
   },
   {
    "duration": 3,
    "start_time": "2024-11-07T19:17:27.026Z"
   },
   {
    "duration": 95,
    "start_time": "2024-11-07T19:17:27.031Z"
   },
   {
    "duration": 8,
    "start_time": "2024-11-07T19:17:27.128Z"
   },
   {
    "duration": 3,
    "start_time": "2024-11-07T19:17:27.138Z"
   },
   {
    "duration": 14,
    "start_time": "2024-11-07T19:17:27.143Z"
   },
   {
    "duration": 5,
    "start_time": "2024-11-07T19:17:27.158Z"
   },
   {
    "duration": 10,
    "start_time": "2024-11-07T19:17:27.164Z"
   },
   {
    "duration": 123,
    "start_time": "2024-11-07T19:17:27.175Z"
   },
   {
    "duration": 807,
    "start_time": "2024-11-07T19:17:27.309Z"
   },
   {
    "duration": 2,
    "start_time": "2024-11-07T19:17:28.118Z"
   },
   {
    "duration": 13,
    "start_time": "2024-11-07T19:17:28.123Z"
   },
   {
    "duration": 3,
    "start_time": "2024-11-07T19:17:47.971Z"
   },
   {
    "duration": 97,
    "start_time": "2024-11-07T19:17:47.976Z"
   },
   {
    "duration": 8,
    "start_time": "2024-11-07T19:17:48.075Z"
   },
   {
    "duration": 2,
    "start_time": "2024-11-07T19:17:48.085Z"
   },
   {
    "duration": 26,
    "start_time": "2024-11-07T19:17:48.090Z"
   },
   {
    "duration": 4,
    "start_time": "2024-11-07T19:17:48.118Z"
   },
   {
    "duration": 11,
    "start_time": "2024-11-07T19:17:48.123Z"
   },
   {
    "duration": 103,
    "start_time": "2024-11-07T19:17:48.135Z"
   },
   {
    "duration": 769,
    "start_time": "2024-11-07T19:17:48.240Z"
   },
   {
    "duration": 2,
    "start_time": "2024-11-07T19:17:49.011Z"
   },
   {
    "duration": 13,
    "start_time": "2024-11-07T19:17:49.014Z"
   },
   {
    "duration": 16,
    "start_time": "2024-11-07T19:18:01.587Z"
   },
   {
    "duration": 2,
    "start_time": "2024-11-07T19:18:06.578Z"
   },
   {
    "duration": 96,
    "start_time": "2024-11-07T19:18:06.582Z"
   },
   {
    "duration": 8,
    "start_time": "2024-11-07T19:18:06.680Z"
   },
   {
    "duration": 2,
    "start_time": "2024-11-07T19:18:06.689Z"
   },
   {
    "duration": 23,
    "start_time": "2024-11-07T19:18:06.694Z"
   },
   {
    "duration": 5,
    "start_time": "2024-11-07T19:18:06.718Z"
   },
   {
    "duration": 12,
    "start_time": "2024-11-07T19:18:06.724Z"
   },
   {
    "duration": 108,
    "start_time": "2024-11-07T19:18:06.738Z"
   },
   {
    "duration": 904,
    "start_time": "2024-11-07T19:18:06.848Z"
   },
   {
    "duration": 2,
    "start_time": "2024-11-07T19:18:07.755Z"
   },
   {
    "duration": 12,
    "start_time": "2024-11-07T19:18:07.759Z"
   },
   {
    "duration": 60,
    "start_time": "2024-11-07T19:18:24.888Z"
   },
   {
    "duration": 59,
    "start_time": "2024-11-07T19:18:30.367Z"
   },
   {
    "duration": 2,
    "start_time": "2024-11-07T19:18:36.330Z"
   },
   {
    "duration": 105,
    "start_time": "2024-11-07T19:18:36.334Z"
   },
   {
    "duration": 8,
    "start_time": "2024-11-07T19:18:36.441Z"
   },
   {
    "duration": 3,
    "start_time": "2024-11-07T19:18:36.450Z"
   },
   {
    "duration": 14,
    "start_time": "2024-11-07T19:18:36.455Z"
   },
   {
    "duration": 5,
    "start_time": "2024-11-07T19:18:36.471Z"
   },
   {
    "duration": 62,
    "start_time": "2024-11-07T19:18:36.477Z"
   },
   {
    "duration": 94,
    "start_time": "2024-11-07T19:18:36.541Z"
   },
   {
    "duration": 846,
    "start_time": "2024-11-07T19:18:36.637Z"
   },
   {
    "duration": 2,
    "start_time": "2024-11-07T19:18:37.485Z"
   },
   {
    "duration": 25,
    "start_time": "2024-11-07T19:18:37.489Z"
   },
   {
    "duration": 74,
    "start_time": "2024-11-07T19:20:01.243Z"
   },
   {
    "duration": 60,
    "start_time": "2024-11-07T19:20:24.731Z"
   },
   {
    "duration": 2,
    "start_time": "2024-11-07T19:20:30.763Z"
   },
   {
    "duration": 93,
    "start_time": "2024-11-07T19:20:30.768Z"
   },
   {
    "duration": 8,
    "start_time": "2024-11-07T19:20:30.862Z"
   },
   {
    "duration": 2,
    "start_time": "2024-11-07T19:20:30.872Z"
   },
   {
    "duration": 32,
    "start_time": "2024-11-07T19:20:30.877Z"
   },
   {
    "duration": 4,
    "start_time": "2024-11-07T19:20:30.911Z"
   },
   {
    "duration": 40,
    "start_time": "2024-11-07T19:20:30.917Z"
   },
   {
    "duration": 102,
    "start_time": "2024-11-07T19:20:30.959Z"
   },
   {
    "duration": 762,
    "start_time": "2024-11-07T19:20:31.063Z"
   },
   {
    "duration": 2,
    "start_time": "2024-11-07T19:20:31.827Z"
   },
   {
    "duration": 12,
    "start_time": "2024-11-07T19:20:31.831Z"
   },
   {
    "duration": 482,
    "start_time": "2024-11-07T19:20:46.888Z"
   },
   {
    "duration": 67,
    "start_time": "2024-11-07T19:20:55.993Z"
   },
   {
    "duration": 2,
    "start_time": "2024-11-07T19:21:24.835Z"
   },
   {
    "duration": 95,
    "start_time": "2024-11-07T19:21:25.008Z"
   },
   {
    "duration": 9,
    "start_time": "2024-11-07T19:21:25.945Z"
   },
   {
    "duration": 3,
    "start_time": "2024-11-07T19:21:27.144Z"
   },
   {
    "duration": 15,
    "start_time": "2024-11-07T19:21:28.161Z"
   },
   {
    "duration": 5,
    "start_time": "2024-11-07T19:21:29.614Z"
   },
   {
    "duration": 47,
    "start_time": "2024-11-07T19:21:51.716Z"
   },
   {
    "duration": 197,
    "start_time": "2024-11-07T19:22:33.760Z"
   },
   {
    "duration": 7,
    "start_time": "2024-11-07T19:23:40.634Z"
   },
   {
    "duration": 9,
    "start_time": "2024-11-07T19:23:50.138Z"
   },
   {
    "duration": 7,
    "start_time": "2024-11-07T19:23:59.445Z"
   },
   {
    "duration": 8,
    "start_time": "2024-11-07T19:24:32.804Z"
   },
   {
    "duration": 7,
    "start_time": "2024-11-07T19:24:44.687Z"
   },
   {
    "duration": 9,
    "start_time": "2024-11-07T19:24:55.801Z"
   },
   {
    "duration": 9,
    "start_time": "2024-11-07T19:25:11.265Z"
   },
   {
    "duration": 10,
    "start_time": "2024-11-07T19:25:25.398Z"
   },
   {
    "duration": 307,
    "start_time": "2024-11-08T15:21:02.400Z"
   },
   {
    "duration": 197,
    "start_time": "2024-11-08T15:21:02.711Z"
   },
   {
    "duration": 13,
    "start_time": "2024-11-08T15:21:03.555Z"
   },
   {
    "duration": 3,
    "start_time": "2024-11-08T15:21:04.837Z"
   },
   {
    "duration": 18,
    "start_time": "2024-11-08T15:21:05.960Z"
   },
   {
    "duration": 8,
    "start_time": "2024-11-08T15:21:07.549Z"
   },
   {
    "duration": 16,
    "start_time": "2024-11-08T15:21:08.056Z"
   },
   {
    "duration": 87,
    "start_time": "2024-11-08T15:21:08.943Z"
   },
   {
    "duration": 747,
    "start_time": "2024-11-08T15:21:10.956Z"
   },
   {
    "duration": 13,
    "start_time": "2024-11-08T15:21:26.468Z"
   },
   {
    "duration": 741,
    "start_time": "2024-11-08T15:22:23.294Z"
   },
   {
    "duration": 2,
    "start_time": "2024-11-08T15:22:32.623Z"
   },
   {
    "duration": 110,
    "start_time": "2024-11-08T15:22:32.627Z"
   },
   {
    "duration": 10,
    "start_time": "2024-11-08T15:22:32.739Z"
   },
   {
    "duration": 3,
    "start_time": "2024-11-08T15:22:32.751Z"
   },
   {
    "duration": 15,
    "start_time": "2024-11-08T15:22:32.755Z"
   },
   {
    "duration": 6,
    "start_time": "2024-11-08T15:22:32.772Z"
   },
   {
    "duration": 11,
    "start_time": "2024-11-08T15:22:32.779Z"
   },
   {
    "duration": 120,
    "start_time": "2024-11-08T15:22:32.791Z"
   },
   {
    "duration": 760,
    "start_time": "2024-11-08T15:22:32.914Z"
   },
   {
    "duration": 2,
    "start_time": "2024-11-08T15:22:33.676Z"
   },
   {
    "duration": 13,
    "start_time": "2024-11-08T15:22:33.679Z"
   },
   {
    "duration": 789,
    "start_time": "2024-11-08T15:22:38.508Z"
   },
   {
    "duration": 2,
    "start_time": "2024-11-08T15:24:46.173Z"
   },
   {
    "duration": 95,
    "start_time": "2024-11-08T15:24:46.177Z"
   },
   {
    "duration": 9,
    "start_time": "2024-11-08T15:24:46.274Z"
   },
   {
    "duration": 4,
    "start_time": "2024-11-08T15:24:46.284Z"
   },
   {
    "duration": 20,
    "start_time": "2024-11-08T15:24:46.291Z"
   },
   {
    "duration": 31,
    "start_time": "2024-11-08T15:24:46.312Z"
   },
   {
    "duration": 10,
    "start_time": "2024-11-08T15:24:46.345Z"
   },
   {
    "duration": 99,
    "start_time": "2024-11-08T15:24:46.356Z"
   },
   {
    "duration": 751,
    "start_time": "2024-11-08T15:24:46.457Z"
   },
   {
    "duration": 2,
    "start_time": "2024-11-08T15:24:47.211Z"
   },
   {
    "duration": 30,
    "start_time": "2024-11-08T15:24:47.216Z"
   },
   {
    "duration": 151,
    "start_time": "2024-11-08T15:24:51.778Z"
   },
   {
    "duration": 2,
    "start_time": "2024-11-08T15:24:56.088Z"
   },
   {
    "duration": 102,
    "start_time": "2024-11-08T15:24:56.093Z"
   },
   {
    "duration": 9,
    "start_time": "2024-11-08T15:24:56.196Z"
   },
   {
    "duration": 2,
    "start_time": "2024-11-08T15:24:56.207Z"
   },
   {
    "duration": 14,
    "start_time": "2024-11-08T15:24:56.211Z"
   },
   {
    "duration": 5,
    "start_time": "2024-11-08T15:24:56.242Z"
   },
   {
    "duration": 10,
    "start_time": "2024-11-08T15:24:56.249Z"
   },
   {
    "duration": 111,
    "start_time": "2024-11-08T15:24:56.260Z"
   },
   {
    "duration": 744,
    "start_time": "2024-11-08T15:24:56.373Z"
   },
   {
    "duration": 2,
    "start_time": "2024-11-08T15:24:57.119Z"
   },
   {
    "duration": 25,
    "start_time": "2024-11-08T15:24:57.123Z"
   },
   {
    "duration": 145,
    "start_time": "2024-11-08T15:25:03.509Z"
   },
   {
    "duration": 2,
    "start_time": "2024-11-08T15:25:26.262Z"
   },
   {
    "duration": 98,
    "start_time": "2024-11-08T15:25:26.266Z"
   },
   {
    "duration": 10,
    "start_time": "2024-11-08T15:25:26.365Z"
   },
   {
    "duration": 3,
    "start_time": "2024-11-08T15:25:26.376Z"
   },
   {
    "duration": 14,
    "start_time": "2024-11-08T15:25:26.382Z"
   },
   {
    "duration": 4,
    "start_time": "2024-11-08T15:25:26.398Z"
   },
   {
    "duration": 114,
    "start_time": "2024-11-08T15:25:26.404Z"
   },
   {
    "duration": 814,
    "start_time": "2024-11-08T15:25:26.520Z"
   },
   {
    "duration": 8,
    "start_time": "2024-11-08T15:25:27.336Z"
   },
   {
    "duration": 13,
    "start_time": "2024-11-08T15:25:27.345Z"
   },
   {
    "duration": 141,
    "start_time": "2024-11-08T15:25:32.366Z"
   },
   {
    "duration": 3,
    "start_time": "2024-11-08T15:25:38.560Z"
   },
   {
    "duration": 99,
    "start_time": "2024-11-08T15:25:38.565Z"
   },
   {
    "duration": 7,
    "start_time": "2024-11-08T15:25:38.666Z"
   },
   {
    "duration": 3,
    "start_time": "2024-11-08T15:25:38.676Z"
   },
   {
    "duration": 15,
    "start_time": "2024-11-08T15:25:38.680Z"
   },
   {
    "duration": 6,
    "start_time": "2024-11-08T15:25:38.696Z"
   },
   {
    "duration": 109,
    "start_time": "2024-11-08T15:25:38.703Z"
   },
   {
    "duration": 861,
    "start_time": "2024-11-08T15:25:38.814Z"
   },
   {
    "duration": 2,
    "start_time": "2024-11-08T15:25:39.679Z"
   },
   {
    "duration": 13,
    "start_time": "2024-11-08T15:25:39.683Z"
   },
   {
    "duration": 8,
    "start_time": "2024-11-08T15:25:47.283Z"
   },
   {
    "duration": 2,
    "start_time": "2024-11-08T15:26:04.421Z"
   },
   {
    "duration": 99,
    "start_time": "2024-11-08T15:26:04.952Z"
   },
   {
    "duration": 9,
    "start_time": "2024-11-08T15:26:06.249Z"
   },
   {
    "duration": 3,
    "start_time": "2024-11-08T15:26:08.302Z"
   },
   {
    "duration": 15,
    "start_time": "2024-11-08T15:26:09.553Z"
   },
   {
    "duration": 6,
    "start_time": "2024-11-08T15:26:11.660Z"
   },
   {
    "duration": 85,
    "start_time": "2024-11-08T15:26:14.819Z"
   },
   {
    "duration": 737,
    "start_time": "2024-11-08T15:26:19.228Z"
   },
   {
    "duration": 43,
    "start_time": "2024-11-08T15:27:02.842Z"
   },
   {
    "duration": 45,
    "start_time": "2024-11-08T15:27:09.665Z"
   },
   {
    "duration": 3,
    "start_time": "2024-11-08T15:27:14.782Z"
   },
   {
    "duration": 100,
    "start_time": "2024-11-08T15:27:14.787Z"
   },
   {
    "duration": 9,
    "start_time": "2024-11-08T15:27:14.889Z"
   },
   {
    "duration": 3,
    "start_time": "2024-11-08T15:27:14.899Z"
   },
   {
    "duration": 15,
    "start_time": "2024-11-08T15:27:14.904Z"
   },
   {
    "duration": 26,
    "start_time": "2024-11-08T15:27:14.920Z"
   },
   {
    "duration": 102,
    "start_time": "2024-11-08T15:27:14.948Z"
   },
   {
    "duration": 43,
    "start_time": "2024-11-08T15:27:19.432Z"
   },
   {
    "duration": 116,
    "start_time": "2024-11-08T15:27:28.314Z"
   },
   {
    "duration": 3,
    "start_time": "2024-11-08T15:27:37.052Z"
   },
   {
    "duration": 91,
    "start_time": "2024-11-08T15:27:37.057Z"
   },
   {
    "duration": 9,
    "start_time": "2024-11-08T15:27:37.150Z"
   },
   {
    "duration": 2,
    "start_time": "2024-11-08T15:27:37.161Z"
   },
   {
    "duration": 14,
    "start_time": "2024-11-08T15:27:37.164Z"
   },
   {
    "duration": 4,
    "start_time": "2024-11-08T15:27:37.180Z"
   },
   {
    "duration": 85,
    "start_time": "2024-11-08T15:27:41.633Z"
   },
   {
    "duration": 10,
    "start_time": "2024-11-08T15:27:53.185Z"
   },
   {
    "duration": 44,
    "start_time": "2024-11-08T15:28:38.287Z"
   },
   {
    "duration": 11,
    "start_time": "2024-11-08T15:28:43.472Z"
   },
   {
    "duration": 47,
    "start_time": "2024-11-08T15:29:03.396Z"
   },
   {
    "duration": 44,
    "start_time": "2024-11-08T15:29:17.540Z"
   },
   {
    "duration": 749,
    "start_time": "2024-11-08T15:29:23.819Z"
   },
   {
    "duration": 15,
    "start_time": "2024-11-08T15:29:29.548Z"
   },
   {
    "duration": 15,
    "start_time": "2024-11-08T15:36:29.391Z"
   },
   {
    "duration": 23,
    "start_time": "2024-11-08T15:36:35.271Z"
   },
   {
    "duration": 35,
    "start_time": "2024-11-08T15:38:18.586Z"
   },
   {
    "duration": 3,
    "start_time": "2024-11-08T15:47:28.033Z"
   },
   {
    "duration": 3,
    "start_time": "2024-11-08T15:47:33.215Z"
   },
   {
    "duration": 93,
    "start_time": "2024-11-08T15:48:41.415Z"
   },
   {
    "duration": 8,
    "start_time": "2024-11-08T15:48:49.441Z"
   },
   {
    "duration": 3,
    "start_time": "2024-11-08T15:48:56.961Z"
   },
   {
    "duration": 15,
    "start_time": "2024-11-08T15:49:15.113Z"
   },
   {
    "duration": 5,
    "start_time": "2024-11-08T15:49:29.147Z"
   },
   {
    "duration": 88,
    "start_time": "2024-11-08T15:50:05.547Z"
   },
   {
    "duration": 759,
    "start_time": "2024-11-08T15:50:51.235Z"
   },
   {
    "duration": 13,
    "start_time": "2024-11-08T15:50:57.744Z"
   },
   {
    "duration": 4,
    "start_time": "2024-11-08T15:51:06.490Z"
   },
   {
    "duration": 40,
    "start_time": "2024-11-08T15:51:56.538Z"
   },
   {
    "duration": 9,
    "start_time": "2024-11-08T15:55:20.537Z"
   },
   {
    "duration": 8,
    "start_time": "2024-11-08T15:57:48.953Z"
   },
   {
    "duration": 3,
    "start_time": "2024-11-08T15:58:41.169Z"
   },
   {
    "duration": 4,
    "start_time": "2024-11-08T16:01:17.896Z"
   },
   {
    "duration": 7,
    "start_time": "2024-11-08T16:01:27.023Z"
   },
   {
    "duration": 5,
    "start_time": "2024-11-08T16:01:50.949Z"
   },
   {
    "duration": 4,
    "start_time": "2024-11-08T16:02:16.483Z"
   },
   {
    "duration": 6,
    "start_time": "2024-11-08T16:03:29.822Z"
   },
   {
    "duration": 5,
    "start_time": "2024-11-08T16:04:14.393Z"
   },
   {
    "duration": 3,
    "start_time": "2024-11-08T16:04:18.958Z"
   },
   {
    "duration": 4,
    "start_time": "2024-11-08T16:04:46.246Z"
   },
   {
    "duration": 5,
    "start_time": "2024-11-08T16:05:43.913Z"
   },
   {
    "duration": 5,
    "start_time": "2024-11-08T16:06:05.980Z"
   },
   {
    "duration": 4,
    "start_time": "2024-11-08T16:06:37.886Z"
   },
   {
    "duration": 6,
    "start_time": "2024-11-08T16:06:47.378Z"
   },
   {
    "duration": 8,
    "start_time": "2024-11-08T16:07:15.269Z"
   },
   {
    "duration": 176,
    "start_time": "2024-11-08T16:10:14.968Z"
   },
   {
    "duration": 41,
    "start_time": "2024-11-08T16:10:46.301Z"
   },
   {
    "duration": 41,
    "start_time": "2024-11-08T16:10:56.321Z"
   },
   {
    "duration": 51,
    "start_time": "2024-11-08T16:11:11.754Z"
   },
   {
    "duration": 43,
    "start_time": "2024-11-08T16:11:25.418Z"
   },
   {
    "duration": 52,
    "start_time": "2024-11-08T16:11:40.752Z"
   },
   {
    "duration": 14,
    "start_time": "2024-11-08T16:12:12.746Z"
   },
   {
    "duration": 308,
    "start_time": "2024-11-08T16:13:04.871Z"
   },
   {
    "duration": 298,
    "start_time": "2024-11-08T16:13:27.417Z"
   },
   {
    "duration": 5,
    "start_time": "2024-11-08T16:13:50.233Z"
   },
   {
    "duration": 165,
    "start_time": "2024-11-08T16:14:06.032Z"
   },
   {
    "duration": 48,
    "start_time": "2024-11-08T16:15:19.805Z"
   },
   {
    "duration": 5,
    "start_time": "2024-11-08T16:16:31.051Z"
   },
   {
    "duration": 49,
    "start_time": "2024-11-08T16:16:37.438Z"
   },
   {
    "duration": 104,
    "start_time": "2024-11-08T16:18:16.717Z"
   },
   {
    "duration": 13,
    "start_time": "2024-11-08T16:21:16.745Z"
   },
   {
    "duration": 15,
    "start_time": "2024-11-08T16:21:28.114Z"
   },
   {
    "duration": 14,
    "start_time": "2024-11-08T16:24:52.429Z"
   },
   {
    "duration": 15,
    "start_time": "2024-11-08T16:25:09.752Z"
   },
   {
    "duration": 21,
    "start_time": "2024-11-08T16:25:33.878Z"
   },
   {
    "duration": 5,
    "start_time": "2024-11-08T16:26:05.746Z"
   },
   {
    "duration": 3,
    "start_time": "2024-11-08T16:26:23.119Z"
   },
   {
    "duration": 894,
    "start_time": "2024-11-08T16:26:28.510Z"
   },
   {
    "duration": 872,
    "start_time": "2024-11-08T16:26:42.701Z"
   },
   {
    "duration": 872,
    "start_time": "2024-11-08T16:27:04.515Z"
   },
   {
    "duration": 18,
    "start_time": "2024-11-08T16:27:31.357Z"
   },
   {
    "duration": 19,
    "start_time": "2024-11-08T16:28:08.491Z"
   },
   {
    "duration": 4,
    "start_time": "2024-11-08T16:34:10.765Z"
   },
   {
    "duration": 5,
    "start_time": "2024-11-08T16:34:24.226Z"
   },
   {
    "duration": 13,
    "start_time": "2024-11-08T16:34:48.016Z"
   },
   {
    "duration": 13,
    "start_time": "2024-11-08T16:39:56.067Z"
   },
   {
    "duration": 15,
    "start_time": "2024-11-08T16:40:17.497Z"
   },
   {
    "duration": 5,
    "start_time": "2024-11-08T16:40:32.775Z"
   },
   {
    "duration": 4,
    "start_time": "2024-11-08T16:45:43.445Z"
   },
   {
    "duration": 5,
    "start_time": "2024-11-08T16:47:15.011Z"
   },
   {
    "duration": 2103,
    "start_time": "2024-11-08T16:47:52.047Z"
   },
   {
    "duration": 227,
    "start_time": "2024-11-08T16:48:13.534Z"
   },
   {
    "duration": 2,
    "start_time": "2024-11-08T16:48:40.630Z"
   },
   {
    "duration": 264,
    "start_time": "2024-11-08T16:48:49.109Z"
   },
   {
    "duration": 204,
    "start_time": "2024-11-08T16:49:00.431Z"
   },
   {
    "duration": 197,
    "start_time": "2024-11-08T16:50:08.979Z"
   },
   {
    "duration": 186,
    "start_time": "2024-11-08T16:50:37.168Z"
   },
   {
    "duration": 208,
    "start_time": "2024-11-08T16:51:02.897Z"
   },
   {
    "duration": 118,
    "start_time": "2024-11-08T16:51:10.030Z"
   },
   {
    "duration": 152,
    "start_time": "2024-11-08T16:51:18.108Z"
   },
   {
    "duration": 214,
    "start_time": "2024-11-08T16:52:23.363Z"
   },
   {
    "duration": 146,
    "start_time": "2024-11-08T16:53:00.905Z"
   },
   {
    "duration": 206,
    "start_time": "2024-11-08T16:56:54.781Z"
   },
   {
    "duration": 205,
    "start_time": "2024-11-08T16:58:38.279Z"
   },
   {
    "duration": 33,
    "start_time": "2024-11-08T16:59:45.543Z"
   },
   {
    "duration": 3,
    "start_time": "2024-11-08T17:00:01.739Z"
   },
   {
    "duration": 16,
    "start_time": "2024-11-08T17:00:08.802Z"
   },
   {
    "duration": 124,
    "start_time": "2024-11-08T17:00:39.871Z"
   },
   {
    "duration": 130,
    "start_time": "2024-11-08T17:01:17.176Z"
   },
   {
    "duration": 277,
    "start_time": "2024-11-08T17:04:58.158Z"
   },
   {
    "duration": 60,
    "start_time": "2024-11-08T17:05:38.211Z"
   },
   {
    "duration": 144,
    "start_time": "2024-11-08T17:06:49.403Z"
   },
   {
    "duration": 141,
    "start_time": "2024-11-08T17:07:37.552Z"
   },
   {
    "duration": 141,
    "start_time": "2024-11-08T17:07:46.010Z"
   },
   {
    "duration": 196,
    "start_time": "2024-11-08T17:11:01.177Z"
   },
   {
    "duration": 253,
    "start_time": "2024-11-08T17:13:02.090Z"
   },
   {
    "duration": 39,
    "start_time": "2024-11-08T17:13:57.033Z"
   },
   {
    "duration": 237,
    "start_time": "2024-11-08T17:14:16.631Z"
   },
   {
    "duration": 231,
    "start_time": "2024-11-08T17:14:25.272Z"
   },
   {
    "duration": 247,
    "start_time": "2024-11-08T17:14:44.234Z"
   },
   {
    "duration": 251,
    "start_time": "2024-11-08T17:15:30.583Z"
   },
   {
    "duration": 333,
    "start_time": "2024-11-08T17:15:48.443Z"
   },
   {
    "duration": 2407,
    "start_time": "2024-11-08T19:56:26.844Z"
   },
   {
    "duration": 136,
    "start_time": "2024-11-08T19:56:29.253Z"
   },
   {
    "duration": 11,
    "start_time": "2024-11-08T19:56:29.391Z"
   },
   {
    "duration": 2,
    "start_time": "2024-11-08T19:56:29.405Z"
   },
   {
    "duration": 35,
    "start_time": "2024-11-08T19:56:29.408Z"
   },
   {
    "duration": 11,
    "start_time": "2024-11-08T19:56:29.444Z"
   },
   {
    "duration": 91,
    "start_time": "2024-11-08T19:56:29.456Z"
   },
   {
    "duration": 886,
    "start_time": "2024-11-08T19:56:29.549Z"
   },
   {
    "duration": 2,
    "start_time": "2024-11-08T19:56:30.451Z"
   },
   {
    "duration": 13,
    "start_time": "2024-11-08T19:56:30.456Z"
   },
   {
    "duration": 38,
    "start_time": "2024-11-08T19:56:30.470Z"
   },
   {
    "duration": 5,
    "start_time": "2024-11-08T19:56:30.653Z"
   },
   {
    "duration": 36,
    "start_time": "2024-11-08T19:56:30.821Z"
   },
   {
    "duration": 17,
    "start_time": "2024-11-08T19:56:31.186Z"
   },
   {
    "duration": 165,
    "start_time": "2024-11-08T19:56:31.362Z"
   },
   {
    "duration": 271,
    "start_time": "2024-11-08T19:56:31.915Z"
   },
   {
    "duration": 150,
    "start_time": "2024-11-08T20:06:32.667Z"
   },
   {
    "duration": 13,
    "start_time": "2024-11-08T20:06:42.944Z"
   },
   {
    "duration": 57,
    "start_time": "2024-11-08T20:07:04.995Z"
   },
   {
    "duration": 14,
    "start_time": "2024-11-08T20:07:24.496Z"
   },
   {
    "duration": 24,
    "start_time": "2024-11-08T20:07:30.676Z"
   },
   {
    "duration": 3,
    "start_time": "2024-11-08T20:11:09.720Z"
   },
   {
    "duration": 5,
    "start_time": "2024-11-08T20:11:27.294Z"
   },
   {
    "duration": 105,
    "start_time": "2024-11-08T20:11:27.303Z"
   },
   {
    "duration": 36,
    "start_time": "2024-11-08T20:11:27.411Z"
   },
   {
    "duration": 2,
    "start_time": "2024-11-08T20:11:27.451Z"
   },
   {
    "duration": 15,
    "start_time": "2024-11-08T20:11:27.455Z"
   },
   {
    "duration": 4,
    "start_time": "2024-11-08T20:11:27.472Z"
   },
   {
    "duration": 103,
    "start_time": "2024-11-08T20:11:27.478Z"
   },
   {
    "duration": 889,
    "start_time": "2024-11-08T20:11:27.583Z"
   },
   {
    "duration": 3,
    "start_time": "2024-11-08T20:11:28.473Z"
   },
   {
    "duration": 13,
    "start_time": "2024-11-08T20:11:28.477Z"
   },
   {
    "duration": 66,
    "start_time": "2024-11-08T20:11:28.491Z"
   },
   {
    "duration": 5,
    "start_time": "2024-11-08T20:11:28.558Z"
   },
   {
    "duration": 13,
    "start_time": "2024-11-08T20:11:28.565Z"
   },
   {
    "duration": 15,
    "start_time": "2024-11-08T20:11:28.580Z"
   },
   {
    "duration": 176,
    "start_time": "2024-11-08T20:11:28.598Z"
   },
   {
    "duration": 268,
    "start_time": "2024-11-08T20:11:28.775Z"
   },
   {
    "duration": 4,
    "start_time": "2024-11-08T20:11:29.086Z"
   },
   {
    "duration": 21,
    "start_time": "2024-11-08T20:11:30.177Z"
   },
   {
    "duration": 3,
    "start_time": "2024-11-08T20:11:56.296Z"
   },
   {
    "duration": 106,
    "start_time": "2024-11-08T20:11:56.301Z"
   },
   {
    "duration": 23,
    "start_time": "2024-11-08T20:11:56.408Z"
   },
   {
    "duration": 3,
    "start_time": "2024-11-08T20:11:56.432Z"
   },
   {
    "duration": 24,
    "start_time": "2024-11-08T20:11:56.439Z"
   },
   {
    "duration": 5,
    "start_time": "2024-11-08T20:11:56.464Z"
   },
   {
    "duration": 93,
    "start_time": "2024-11-08T20:11:56.471Z"
   },
   {
    "duration": 872,
    "start_time": "2024-11-08T20:11:56.565Z"
   },
   {
    "duration": 4,
    "start_time": "2024-11-08T20:11:57.441Z"
   },
   {
    "duration": 12,
    "start_time": "2024-11-08T20:11:57.449Z"
   },
   {
    "duration": 38,
    "start_time": "2024-11-08T20:11:57.463Z"
   },
   {
    "duration": 7,
    "start_time": "2024-11-08T20:11:57.502Z"
   },
   {
    "duration": 40,
    "start_time": "2024-11-08T20:11:57.511Z"
   },
   {
    "duration": 18,
    "start_time": "2024-11-08T20:11:57.553Z"
   },
   {
    "duration": 167,
    "start_time": "2024-11-08T20:11:57.572Z"
   },
   {
    "duration": 262,
    "start_time": "2024-11-08T20:11:57.741Z"
   },
   {
    "duration": 54,
    "start_time": "2024-11-08T20:11:58.005Z"
   },
   {
    "duration": 4,
    "start_time": "2024-11-08T20:11:58.061Z"
   },
   {
    "duration": 23,
    "start_time": "2024-11-08T20:12:00.345Z"
   },
   {
    "duration": 3,
    "start_time": "2024-11-08T20:12:13.055Z"
   },
   {
    "duration": 3,
    "start_time": "2024-11-08T20:12:34.144Z"
   },
   {
    "duration": 522,
    "start_time": "2024-11-08T20:18:05.276Z"
   },
   {
    "duration": 113,
    "start_time": "2024-11-08T20:18:09.647Z"
   },
   {
    "duration": 51,
    "start_time": "2024-11-08T20:18:12.853Z"
   },
   {
    "duration": 6,
    "start_time": "2024-11-08T20:18:23.815Z"
   },
   {
    "duration": 177,
    "start_time": "2024-11-08T20:21:47.020Z"
   },
   {
    "duration": 27,
    "start_time": "2024-11-08T20:21:59.945Z"
   },
   {
    "duration": 5,
    "start_time": "2024-11-08T20:22:49.118Z"
   },
   {
    "duration": 16,
    "start_time": "2024-11-08T20:25:15.845Z"
   },
   {
    "duration": 12,
    "start_time": "2024-11-08T20:25:31.398Z"
   },
   {
    "duration": 13,
    "start_time": "2024-11-08T20:25:39.668Z"
   },
   {
    "duration": 12,
    "start_time": "2024-11-08T20:25:47.109Z"
   },
   {
    "duration": 125,
    "start_time": "2024-11-08T20:26:07.994Z"
   },
   {
    "duration": 44,
    "start_time": "2024-11-08T20:29:01.653Z"
   },
   {
    "duration": 22,
    "start_time": "2024-11-08T20:29:13.047Z"
   },
   {
    "duration": 31,
    "start_time": "2024-11-08T20:30:48.508Z"
   },
   {
    "duration": 30,
    "start_time": "2024-11-08T20:30:56.449Z"
   },
   {
    "duration": 31,
    "start_time": "2024-11-08T20:31:28.232Z"
   },
   {
    "duration": 38,
    "start_time": "2024-11-08T20:35:59.654Z"
   },
   {
    "duration": 39,
    "start_time": "2024-11-08T20:36:20.248Z"
   },
   {
    "duration": 20,
    "start_time": "2024-11-08T20:36:41.762Z"
   },
   {
    "duration": 44,
    "start_time": "2024-11-08T20:37:14.536Z"
   },
   {
    "duration": 39,
    "start_time": "2024-11-08T20:37:42.453Z"
   },
   {
    "duration": 20,
    "start_time": "2024-11-08T20:38:22.087Z"
   },
   {
    "duration": 52,
    "start_time": "2024-11-08T20:39:54.882Z"
   },
   {
    "duration": 302,
    "start_time": "2024-11-08T20:40:02.199Z"
   },
   {
    "duration": 55,
    "start_time": "2024-11-08T20:41:14.098Z"
   },
   {
    "duration": 45,
    "start_time": "2024-11-08T20:43:12.286Z"
   },
   {
    "duration": 40,
    "start_time": "2024-11-08T20:43:41.347Z"
   },
   {
    "duration": 39,
    "start_time": "2024-11-08T20:46:14.160Z"
   },
   {
    "duration": 42,
    "start_time": "2024-11-08T20:46:20.761Z"
   },
   {
    "duration": 50,
    "start_time": "2024-11-08T20:46:37.938Z"
   },
   {
    "duration": 5,
    "start_time": "2024-11-08T20:52:31.447Z"
   },
   {
    "duration": 3,
    "start_time": "2024-11-08T20:52:36.062Z"
   },
   {
    "duration": 2,
    "start_time": "2024-11-08T21:03:59.368Z"
   },
   {
    "duration": 108,
    "start_time": "2024-11-08T21:03:59.372Z"
   },
   {
    "duration": 8,
    "start_time": "2024-11-08T21:03:59.482Z"
   },
   {
    "duration": 3,
    "start_time": "2024-11-08T21:03:59.492Z"
   },
   {
    "duration": 27,
    "start_time": "2024-11-08T21:03:59.497Z"
   },
   {
    "duration": 4,
    "start_time": "2024-11-08T21:03:59.525Z"
   },
   {
    "duration": 108,
    "start_time": "2024-11-08T21:03:59.531Z"
   },
   {
    "duration": 856,
    "start_time": "2024-11-08T21:03:59.641Z"
   },
   {
    "duration": 2,
    "start_time": "2024-11-08T21:04:00.499Z"
   },
   {
    "duration": 45,
    "start_time": "2024-11-08T21:04:00.503Z"
   },
   {
    "duration": 38,
    "start_time": "2024-11-08T21:04:00.550Z"
   },
   {
    "duration": 5,
    "start_time": "2024-11-08T21:04:00.590Z"
   },
   {
    "duration": 13,
    "start_time": "2024-11-08T21:04:00.597Z"
   },
   {
    "duration": 37,
    "start_time": "2024-11-08T21:04:00.611Z"
   },
   {
    "duration": 149,
    "start_time": "2024-11-08T21:04:00.650Z"
   },
   {
    "duration": 361,
    "start_time": "2024-11-08T21:04:00.801Z"
   },
   {
    "duration": 32,
    "start_time": "2024-11-08T21:04:01.164Z"
   },
   {
    "duration": 5,
    "start_time": "2024-11-08T21:04:01.198Z"
   },
   {
    "duration": 46,
    "start_time": "2024-11-08T21:04:01.206Z"
   },
   {
    "duration": 20,
    "start_time": "2024-11-08T21:04:01.253Z"
   },
   {
    "duration": 108,
    "start_time": "2024-11-08T21:04:01.275Z"
   },
   {
    "duration": 99,
    "start_time": "2024-11-08T21:04:07.648Z"
   },
   {
    "duration": 50,
    "start_time": "2024-11-08T21:04:33.794Z"
   },
   {
    "duration": 15,
    "start_time": "2024-11-08T21:05:53.840Z"
   },
   {
    "duration": 12,
    "start_time": "2024-11-08T21:06:19.083Z"
   },
   {
    "duration": 16,
    "start_time": "2024-11-08T21:09:46.821Z"
   },
   {
    "duration": 26,
    "start_time": "2024-11-08T21:09:54.319Z"
   },
   {
    "duration": 12,
    "start_time": "2024-11-08T21:11:05.440Z"
   },
   {
    "duration": 6,
    "start_time": "2024-11-08T21:12:21.151Z"
   },
   {
    "duration": 5,
    "start_time": "2024-11-08T21:25:31.473Z"
   },
   {
    "duration": 21,
    "start_time": "2024-11-08T21:27:22.320Z"
   },
   {
    "duration": 8,
    "start_time": "2024-11-08T21:27:33.257Z"
   },
   {
    "duration": 3,
    "start_time": "2024-11-08T21:28:12.701Z"
   },
   {
    "duration": 22,
    "start_time": "2024-11-08T21:28:23.246Z"
   },
   {
    "duration": 7,
    "start_time": "2024-11-08T21:29:05.148Z"
   },
   {
    "duration": 158,
    "start_time": "2024-11-08T21:29:15.585Z"
   },
   {
    "duration": 92,
    "start_time": "2024-11-08T21:29:37.567Z"
   },
   {
    "duration": 61,
    "start_time": "2024-11-08T21:29:58.116Z"
   },
   {
    "duration": 78,
    "start_time": "2024-11-08T21:30:16.612Z"
   },
   {
    "duration": 3,
    "start_time": "2024-11-08T21:30:21.252Z"
   },
   {
    "duration": 115,
    "start_time": "2024-11-08T21:30:21.257Z"
   },
   {
    "duration": 13,
    "start_time": "2024-11-08T21:30:21.374Z"
   },
   {
    "duration": 2,
    "start_time": "2024-11-08T21:30:21.389Z"
   },
   {
    "duration": 38,
    "start_time": "2024-11-08T21:30:21.393Z"
   },
   {
    "duration": 10,
    "start_time": "2024-11-08T21:30:21.433Z"
   },
   {
    "duration": 127,
    "start_time": "2024-11-08T21:30:21.444Z"
   },
   {
    "duration": 1028,
    "start_time": "2024-11-08T21:30:21.572Z"
   },
   {
    "duration": 2,
    "start_time": "2024-11-08T21:30:22.603Z"
   },
   {
    "duration": 30,
    "start_time": "2024-11-08T21:30:22.607Z"
   },
   {
    "duration": 60,
    "start_time": "2024-11-08T21:30:22.638Z"
   },
   {
    "duration": 5,
    "start_time": "2024-11-08T21:30:22.701Z"
   },
   {
    "duration": 27,
    "start_time": "2024-11-08T21:30:22.708Z"
   },
   {
    "duration": 19,
    "start_time": "2024-11-08T21:30:22.736Z"
   },
   {
    "duration": 162,
    "start_time": "2024-11-08T21:30:22.757Z"
   },
   {
    "duration": 270,
    "start_time": "2024-11-08T21:30:22.922Z"
   },
   {
    "duration": 41,
    "start_time": "2024-11-08T21:30:23.194Z"
   },
   {
    "duration": 6,
    "start_time": "2024-11-08T21:30:23.237Z"
   },
   {
    "duration": 31,
    "start_time": "2024-11-08T21:30:23.244Z"
   },
   {
    "duration": 21,
    "start_time": "2024-11-08T21:30:23.277Z"
   },
   {
    "duration": 69,
    "start_time": "2024-11-08T21:30:23.300Z"
   },
   {
    "duration": 9,
    "start_time": "2024-11-08T21:30:23.370Z"
   },
   {
    "duration": 9,
    "start_time": "2024-11-08T21:30:24.390Z"
   },
   {
    "duration": 12,
    "start_time": "2024-11-08T21:30:32.315Z"
   },
   {
    "duration": 62,
    "start_time": "2024-11-08T21:31:53.856Z"
   },
   {
    "duration": 32,
    "start_time": "2024-11-08T21:33:12.023Z"
   },
   {
    "duration": 27,
    "start_time": "2024-11-08T21:33:33.721Z"
   },
   {
    "duration": 15,
    "start_time": "2024-11-08T22:11:04.460Z"
   },
   {
    "duration": 254,
    "start_time": "2024-11-08T22:13:06.212Z"
   },
   {
    "duration": 63,
    "start_time": "2024-11-08T22:13:18.492Z"
   },
   {
    "duration": 12,
    "start_time": "2024-11-08T22:16:16.099Z"
   },
   {
    "duration": 4,
    "start_time": "2024-11-08T22:24:37.369Z"
   },
   {
    "duration": 4,
    "start_time": "2024-11-08T22:24:47.579Z"
   },
   {
    "duration": 5,
    "start_time": "2024-11-08T22:25:56.623Z"
   },
   {
    "duration": 7,
    "start_time": "2024-11-08T22:26:01.943Z"
   },
   {
    "duration": 4,
    "start_time": "2024-11-08T22:26:06.905Z"
   },
   {
    "duration": 4,
    "start_time": "2024-11-08T22:26:13.512Z"
   },
   {
    "duration": 5,
    "start_time": "2024-11-08T22:26:17.953Z"
   },
   {
    "duration": 8,
    "start_time": "2024-11-08T22:34:24.692Z"
   },
   {
    "duration": 10,
    "start_time": "2024-11-08T22:34:35.080Z"
   },
   {
    "duration": 24,
    "start_time": "2024-11-08T22:34:53.240Z"
   },
   {
    "duration": 33,
    "start_time": "2024-11-08T22:35:12.222Z"
   },
   {
    "duration": 32,
    "start_time": "2024-11-08T22:36:50.140Z"
   },
   {
    "duration": 31,
    "start_time": "2024-11-08T22:36:57.191Z"
   },
   {
    "duration": 3,
    "start_time": "2024-11-08T22:38:22.798Z"
   },
   {
    "duration": 6,
    "start_time": "2024-11-08T22:38:29.886Z"
   },
   {
    "duration": 315,
    "start_time": "2024-11-08T22:41:51.052Z"
   },
   {
    "duration": 2427,
    "start_time": "2024-11-09T02:57:57.537Z"
   },
   {
    "duration": 131,
    "start_time": "2024-11-09T02:57:59.966Z"
   },
   {
    "duration": 10,
    "start_time": "2024-11-09T02:58:00.099Z"
   },
   {
    "duration": 3,
    "start_time": "2024-11-09T02:58:00.111Z"
   },
   {
    "duration": 15,
    "start_time": "2024-11-09T02:58:00.115Z"
   },
   {
    "duration": 7,
    "start_time": "2024-11-09T02:58:00.131Z"
   },
   {
    "duration": 111,
    "start_time": "2024-11-09T02:58:00.140Z"
   },
   {
    "duration": 756,
    "start_time": "2024-11-09T02:58:00.376Z"
   },
   {
    "duration": 2,
    "start_time": "2024-11-09T02:58:01.134Z"
   },
   {
    "duration": 13,
    "start_time": "2024-11-09T02:58:01.156Z"
   },
   {
    "duration": 39,
    "start_time": "2024-11-09T02:58:02.251Z"
   },
   {
    "duration": 5,
    "start_time": "2024-11-09T02:58:03.386Z"
   },
   {
    "duration": 14,
    "start_time": "2024-11-09T02:58:03.587Z"
   },
   {
    "duration": 16,
    "start_time": "2024-11-09T02:58:03.996Z"
   },
   {
    "duration": 151,
    "start_time": "2024-11-09T02:58:04.196Z"
   },
   {
    "duration": 236,
    "start_time": "2024-11-09T02:58:04.992Z"
   },
   {
    "duration": 30,
    "start_time": "2024-11-09T02:58:05.620Z"
   },
   {
    "duration": 4,
    "start_time": "2024-11-09T02:58:06.400Z"
   },
   {
    "duration": 25,
    "start_time": "2024-11-09T02:58:07.330Z"
   },
   {
    "duration": 22,
    "start_time": "2024-11-09T02:58:08.145Z"
   },
   {
    "duration": 44,
    "start_time": "2024-11-09T02:58:08.770Z"
   },
   {
    "duration": 8,
    "start_time": "2024-11-09T02:58:10.625Z"
   },
   {
    "duration": 4,
    "start_time": "2024-11-09T02:58:12.530Z"
   },
   {
    "duration": 6,
    "start_time": "2024-11-09T02:58:13.800Z"
   },
   {
    "duration": 5,
    "start_time": "2024-11-09T02:58:14.579Z"
   },
   {
    "duration": 31,
    "start_time": "2024-11-09T02:59:14.255Z"
   },
   {
    "duration": 31,
    "start_time": "2024-11-09T03:00:07.544Z"
   },
   {
    "duration": 32,
    "start_time": "2024-11-09T03:01:24.677Z"
   },
   {
    "duration": 5,
    "start_time": "2024-11-09T03:05:08.755Z"
   },
   {
    "duration": 5,
    "start_time": "2024-11-09T03:05:55.524Z"
   },
   {
    "duration": 219,
    "start_time": "2024-11-09T03:07:28.408Z"
   },
   {
    "duration": 4,
    "start_time": "2024-11-09T03:08:38.633Z"
   },
   {
    "duration": 4,
    "start_time": "2024-11-09T03:09:10.112Z"
   },
   {
    "duration": 5,
    "start_time": "2024-11-09T03:09:23.790Z"
   },
   {
    "duration": 4,
    "start_time": "2024-11-09T03:09:35.017Z"
   },
   {
    "duration": 5,
    "start_time": "2024-11-09T03:09:43.339Z"
   },
   {
    "duration": 50,
    "start_time": "2024-11-09T03:19:45.959Z"
   },
   {
    "duration": 57,
    "start_time": "2024-11-09T03:20:04.280Z"
   },
   {
    "duration": 52,
    "start_time": "2024-11-09T03:21:00.522Z"
   },
   {
    "duration": 56,
    "start_time": "2024-11-09T03:21:08.775Z"
   },
   {
    "duration": 4,
    "start_time": "2024-11-09T03:28:43.766Z"
   },
   {
    "duration": 15,
    "start_time": "2024-11-09T03:31:50.247Z"
   },
   {
    "duration": 68,
    "start_time": "2024-11-09T03:32:38.574Z"
   },
   {
    "duration": 26,
    "start_time": "2024-11-09T03:32:49.324Z"
   },
   {
    "duration": 30,
    "start_time": "2024-11-09T03:33:00.429Z"
   },
   {
    "duration": 8,
    "start_time": "2024-11-09T03:35:45.672Z"
   },
   {
    "duration": 8,
    "start_time": "2024-11-09T03:36:04.980Z"
   },
   {
    "duration": 8,
    "start_time": "2024-11-09T03:36:36.863Z"
   },
   {
    "duration": 10,
    "start_time": "2024-11-09T03:36:52.445Z"
   },
   {
    "duration": 9,
    "start_time": "2024-11-09T03:36:59.232Z"
   },
   {
    "duration": 2451,
    "start_time": "2024-11-09T15:16:50.226Z"
   },
   {
    "duration": 134,
    "start_time": "2024-11-09T15:16:52.680Z"
   },
   {
    "duration": 11,
    "start_time": "2024-11-09T15:16:52.816Z"
   },
   {
    "duration": 15,
    "start_time": "2024-11-09T15:16:52.829Z"
   },
   {
    "duration": 15,
    "start_time": "2024-11-09T15:16:52.845Z"
   },
   {
    "duration": 7,
    "start_time": "2024-11-09T15:16:52.861Z"
   },
   {
    "duration": 110,
    "start_time": "2024-11-09T15:16:52.869Z"
   },
   {
    "duration": 780,
    "start_time": "2024-11-09T15:16:52.981Z"
   },
   {
    "duration": 3,
    "start_time": "2024-11-09T15:16:53.763Z"
   },
   {
    "duration": 12,
    "start_time": "2024-11-09T15:16:53.768Z"
   },
   {
    "duration": 61,
    "start_time": "2024-11-09T15:16:53.782Z"
   },
   {
    "duration": 6,
    "start_time": "2024-11-09T15:16:53.982Z"
   },
   {
    "duration": 15,
    "start_time": "2024-11-09T15:16:54.171Z"
   },
   {
    "duration": 16,
    "start_time": "2024-11-09T15:16:54.560Z"
   },
   {
    "duration": 153,
    "start_time": "2024-11-09T15:16:54.753Z"
   },
   {
    "duration": 241,
    "start_time": "2024-11-09T15:16:55.829Z"
   },
   {
    "duration": 30,
    "start_time": "2024-11-09T15:16:56.383Z"
   },
   {
    "duration": 3,
    "start_time": "2024-11-09T15:16:56.757Z"
   },
   {
    "duration": 26,
    "start_time": "2024-11-09T15:16:57.329Z"
   },
   {
    "duration": 20,
    "start_time": "2024-11-09T15:16:58.100Z"
   },
   {
    "duration": 42,
    "start_time": "2024-11-09T15:16:58.712Z"
   },
   {
    "duration": 8,
    "start_time": "2024-11-09T15:16:59.614Z"
   },
   {
    "duration": 4,
    "start_time": "2024-11-09T15:17:03.106Z"
   },
   {
    "duration": 6,
    "start_time": "2024-11-09T15:17:03.916Z"
   },
   {
    "duration": 31,
    "start_time": "2024-11-09T15:17:04.938Z"
   },
   {
    "duration": 5,
    "start_time": "2024-11-09T15:17:05.583Z"
   },
   {
    "duration": 4,
    "start_time": "2024-11-09T15:17:06.121Z"
   },
   {
    "duration": 54,
    "start_time": "2024-11-09T15:17:07.915Z"
   },
   {
    "duration": 30,
    "start_time": "2024-11-09T15:17:09.163Z"
   },
   {
    "duration": 12,
    "start_time": "2024-11-09T15:17:09.661Z"
   },
   {
    "duration": 11,
    "start_time": "2024-11-09T15:29:44.695Z"
   },
   {
    "duration": 10,
    "start_time": "2024-11-09T15:30:10.529Z"
   },
   {
    "duration": 22,
    "start_time": "2024-11-09T15:30:21.357Z"
   },
   {
    "duration": 686,
    "start_time": "2024-11-09T15:32:59.773Z"
   },
   {
    "duration": 48,
    "start_time": "2024-11-09T15:33:13.181Z"
   },
   {
    "duration": 46,
    "start_time": "2024-11-09T15:35:04.160Z"
   },
   {
    "duration": 48,
    "start_time": "2024-11-09T15:35:20.205Z"
   },
   {
    "duration": 44,
    "start_time": "2024-11-09T15:36:05.804Z"
   },
   {
    "duration": 241,
    "start_time": "2024-11-09T15:36:33.689Z"
   },
   {
    "duration": 47,
    "start_time": "2024-11-09T15:36:53.416Z"
   },
   {
    "duration": 78,
    "start_time": "2024-11-09T15:37:04.459Z"
   },
   {
    "duration": 46,
    "start_time": "2024-11-09T15:37:17.287Z"
   },
   {
    "duration": 57,
    "start_time": "2024-11-09T15:39:33.390Z"
   },
   {
    "duration": 52,
    "start_time": "2024-11-09T15:39:47.880Z"
   },
   {
    "duration": 53,
    "start_time": "2024-11-09T15:40:09.742Z"
   },
   {
    "duration": 54,
    "start_time": "2024-11-09T15:40:43.614Z"
   },
   {
    "duration": 4,
    "start_time": "2024-11-09T15:41:00.245Z"
   },
   {
    "duration": 62,
    "start_time": "2024-11-09T15:41:06.254Z"
   },
   {
    "duration": 56,
    "start_time": "2024-11-09T15:41:34.500Z"
   },
   {
    "duration": 55,
    "start_time": "2024-11-09T15:45:17.725Z"
   },
   {
    "duration": 20,
    "start_time": "2024-11-09T15:45:39.139Z"
   },
   {
    "duration": 69,
    "start_time": "2024-11-09T15:46:27.862Z"
   },
   {
    "duration": 7,
    "start_time": "2024-11-09T15:49:47.085Z"
   },
   {
    "duration": 4,
    "start_time": "2024-11-09T15:50:13.740Z"
   },
   {
    "duration": 141,
    "start_time": "2024-11-09T15:50:40.788Z"
   },
   {
    "duration": 77,
    "start_time": "2024-11-09T15:50:53.134Z"
   },
   {
    "duration": 5,
    "start_time": "2024-11-09T15:51:05.815Z"
   },
   {
    "duration": 6,
    "start_time": "2024-11-09T15:51:17.070Z"
   },
   {
    "duration": 5,
    "start_time": "2024-11-09T15:51:30.953Z"
   },
   {
    "duration": 78,
    "start_time": "2024-11-09T15:51:47.716Z"
   },
   {
    "duration": 74,
    "start_time": "2024-11-09T15:52:05.694Z"
   },
   {
    "duration": 66,
    "start_time": "2024-11-09T15:52:12.261Z"
   },
   {
    "duration": 64,
    "start_time": "2024-11-09T15:53:39.000Z"
   },
   {
    "duration": 63,
    "start_time": "2024-11-09T15:54:47.343Z"
   },
   {
    "duration": 6,
    "start_time": "2024-11-09T16:02:08.672Z"
   },
   {
    "duration": 491,
    "start_time": "2024-11-09T16:02:45.699Z"
   },
   {
    "duration": 223,
    "start_time": "2024-11-09T16:03:18.899Z"
   },
   {
    "duration": 169,
    "start_time": "2024-11-09T16:03:45.851Z"
   },
   {
    "duration": 187,
    "start_time": "2024-11-09T16:11:58.406Z"
   },
   {
    "duration": 172,
    "start_time": "2024-11-09T16:13:53.306Z"
   },
   {
    "duration": 192,
    "start_time": "2024-11-09T16:14:55.411Z"
   },
   {
    "duration": 168,
    "start_time": "2024-11-09T16:34:24.652Z"
   },
   {
    "duration": 64,
    "start_time": "2024-11-09T16:47:21.521Z"
   },
   {
    "duration": 63,
    "start_time": "2024-11-09T16:48:10.909Z"
   },
   {
    "duration": 63,
    "start_time": "2024-11-09T16:48:22.830Z"
   },
   {
    "duration": 61,
    "start_time": "2024-11-09T16:48:44.329Z"
   },
   {
    "duration": 4,
    "start_time": "2024-11-09T16:49:07.525Z"
   },
   {
    "duration": 66,
    "start_time": "2024-11-09T16:49:13.230Z"
   },
   {
    "duration": 61,
    "start_time": "2024-11-09T16:49:16.730Z"
   },
   {
    "duration": 98,
    "start_time": "2024-11-09T16:49:31.889Z"
   },
   {
    "duration": 98,
    "start_time": "2024-11-09T16:49:43.781Z"
   },
   {
    "duration": 113,
    "start_time": "2024-11-09T16:49:58.481Z"
   },
   {
    "duration": 158,
    "start_time": "2024-11-09T16:50:22.330Z"
   },
   {
    "duration": 97,
    "start_time": "2024-11-09T16:50:42.212Z"
   },
   {
    "duration": 101,
    "start_time": "2024-11-09T16:51:08.194Z"
   },
   {
    "duration": 3,
    "start_time": "2024-11-09T16:51:14.712Z"
   },
   {
    "duration": 99,
    "start_time": "2024-11-09T16:51:14.717Z"
   },
   {
    "duration": 9,
    "start_time": "2024-11-09T16:51:14.818Z"
   },
   {
    "duration": 15,
    "start_time": "2024-11-09T16:51:14.829Z"
   },
   {
    "duration": 19,
    "start_time": "2024-11-09T16:51:14.848Z"
   },
   {
    "duration": 4,
    "start_time": "2024-11-09T16:51:14.869Z"
   },
   {
    "duration": 112,
    "start_time": "2024-11-09T16:51:14.875Z"
   },
   {
    "duration": 812,
    "start_time": "2024-11-09T16:51:14.990Z"
   },
   {
    "duration": 2,
    "start_time": "2024-11-09T16:51:15.805Z"
   },
   {
    "duration": 15,
    "start_time": "2024-11-09T16:51:15.809Z"
   },
   {
    "duration": 57,
    "start_time": "2024-11-09T16:51:15.845Z"
   },
   {
    "duration": 6,
    "start_time": "2024-11-09T16:51:15.904Z"
   },
   {
    "duration": 31,
    "start_time": "2024-11-09T16:51:15.912Z"
   },
   {
    "duration": 16,
    "start_time": "2024-11-09T16:51:15.944Z"
   },
   {
    "duration": 164,
    "start_time": "2024-11-09T16:51:15.962Z"
   },
   {
    "duration": 255,
    "start_time": "2024-11-09T16:51:16.129Z"
   },
   {
    "duration": 34,
    "start_time": "2024-11-09T16:51:16.386Z"
   },
   {
    "duration": 22,
    "start_time": "2024-11-09T16:51:16.421Z"
   },
   {
    "duration": 35,
    "start_time": "2024-11-09T16:51:16.445Z"
   },
   {
    "duration": 29,
    "start_time": "2024-11-09T16:51:16.484Z"
   },
   {
    "duration": 58,
    "start_time": "2024-11-09T16:51:16.515Z"
   },
   {
    "duration": 9,
    "start_time": "2024-11-09T16:51:16.575Z"
   },
   {
    "duration": 4,
    "start_time": "2024-11-09T16:51:16.587Z"
   },
   {
    "duration": 7,
    "start_time": "2024-11-09T16:51:16.592Z"
   },
   {
    "duration": 68,
    "start_time": "2024-11-09T16:51:16.601Z"
   },
   {
    "duration": 5,
    "start_time": "2024-11-09T16:51:16.670Z"
   },
   {
    "duration": 6,
    "start_time": "2024-11-09T16:51:16.677Z"
   },
   {
    "duration": 130,
    "start_time": "2024-11-09T16:51:16.684Z"
   },
   {
    "duration": 0,
    "start_time": "2024-11-09T16:51:16.817Z"
   },
   {
    "duration": 0,
    "start_time": "2024-11-09T16:51:16.818Z"
   },
   {
    "duration": 101,
    "start_time": "2024-11-09T16:51:21.134Z"
   },
   {
    "duration": 7,
    "start_time": "2024-11-09T16:51:29.389Z"
   },
   {
    "duration": 98,
    "start_time": "2024-11-09T16:56:08.807Z"
   },
   {
    "duration": 108,
    "start_time": "2024-11-09T16:56:41.064Z"
   },
   {
    "duration": 15,
    "start_time": "2024-11-09T17:08:29.258Z"
   },
   {
    "duration": 16,
    "start_time": "2024-11-09T17:08:46.917Z"
   },
   {
    "duration": 15,
    "start_time": "2024-11-09T17:09:32.677Z"
   },
   {
    "duration": 4,
    "start_time": "2024-11-09T17:09:56.117Z"
   },
   {
    "duration": 49,
    "start_time": "2024-11-09T17:13:29.489Z"
   },
   {
    "duration": 55,
    "start_time": "2024-11-09T17:13:45.157Z"
   },
   {
    "duration": 49,
    "start_time": "2024-11-09T17:13:58.923Z"
   },
   {
    "duration": 101,
    "start_time": "2024-11-09T17:14:13.022Z"
   },
   {
    "duration": 107,
    "start_time": "2024-11-09T17:14:30.462Z"
   },
   {
    "duration": 93,
    "start_time": "2024-11-09T17:15:17.541Z"
   },
   {
    "duration": 141,
    "start_time": "2024-11-09T17:16:04.778Z"
   },
   {
    "duration": 3,
    "start_time": "2024-11-09T17:16:11.139Z"
   },
   {
    "duration": 15,
    "start_time": "2024-11-09T17:17:06.384Z"
   },
   {
    "duration": 15,
    "start_time": "2024-11-09T17:17:24.493Z"
   },
   {
    "duration": 5,
    "start_time": "2024-11-09T17:17:43.377Z"
   },
   {
    "duration": 4,
    "start_time": "2024-11-09T17:18:09.451Z"
   },
   {
    "duration": 5,
    "start_time": "2024-11-09T17:20:15.112Z"
   },
   {
    "duration": 4,
    "start_time": "2024-11-09T17:20:33.919Z"
   },
   {
    "duration": 16,
    "start_time": "2024-11-09T17:20:36.209Z"
   },
   {
    "duration": 4,
    "start_time": "2024-11-09T17:20:50.715Z"
   },
   {
    "duration": 4,
    "start_time": "2024-11-09T17:20:58.319Z"
   },
   {
    "duration": 4,
    "start_time": "2024-11-09T17:21:22.096Z"
   },
   {
    "duration": 5,
    "start_time": "2024-11-09T17:23:31.284Z"
   },
   {
    "duration": 2406,
    "start_time": "2024-11-10T15:34:57.601Z"
   },
   {
    "duration": 129,
    "start_time": "2024-11-10T15:35:00.009Z"
   },
   {
    "duration": 10,
    "start_time": "2024-11-10T15:35:00.140Z"
   },
   {
    "duration": 3,
    "start_time": "2024-11-10T15:35:00.152Z"
   },
   {
    "duration": 16,
    "start_time": "2024-11-10T15:35:00.156Z"
   },
   {
    "duration": 10,
    "start_time": "2024-11-10T15:35:00.173Z"
   },
   {
    "duration": 112,
    "start_time": "2024-11-10T15:35:00.184Z"
   },
   {
    "duration": 787,
    "start_time": "2024-11-10T15:35:00.298Z"
   },
   {
    "duration": 2,
    "start_time": "2024-11-10T15:35:01.089Z"
   },
   {
    "duration": 12,
    "start_time": "2024-11-10T15:35:01.093Z"
   },
   {
    "duration": 39,
    "start_time": "2024-11-10T15:35:01.223Z"
   },
   {
    "duration": 7,
    "start_time": "2024-11-10T15:35:01.793Z"
   },
   {
    "duration": 14,
    "start_time": "2024-11-10T15:35:01.981Z"
   },
   {
    "duration": 15,
    "start_time": "2024-11-10T15:35:02.393Z"
   },
   {
    "duration": 153,
    "start_time": "2024-11-10T15:35:02.801Z"
   },
   {
    "duration": 235,
    "start_time": "2024-11-10T15:35:03.395Z"
   },
   {
    "duration": 32,
    "start_time": "2024-11-10T15:35:04.097Z"
   },
   {
    "duration": 4,
    "start_time": "2024-11-10T15:35:04.530Z"
   },
   {
    "duration": 25,
    "start_time": "2024-11-10T15:35:05.157Z"
   },
   {
    "duration": 20,
    "start_time": "2024-11-10T15:35:05.971Z"
   },
   {
    "duration": 43,
    "start_time": "2024-11-10T15:35:06.585Z"
   },
   {
    "duration": 10,
    "start_time": "2024-11-10T15:35:07.630Z"
   },
   {
    "duration": 4,
    "start_time": "2024-11-10T15:35:10.679Z"
   },
   {
    "duration": 6,
    "start_time": "2024-11-10T15:35:12.029Z"
   },
   {
    "duration": 33,
    "start_time": "2024-11-10T15:35:15.509Z"
   },
   {
    "duration": 5,
    "start_time": "2024-11-10T15:35:16.253Z"
   },
   {
    "duration": 5,
    "start_time": "2024-11-10T15:35:16.798Z"
   },
   {
    "duration": 267,
    "start_time": "2024-11-10T15:37:15.737Z"
   },
   {
    "duration": 34,
    "start_time": "2024-11-10T15:37:29.673Z"
   },
   {
    "duration": 5,
    "start_time": "2024-11-10T15:37:32.393Z"
   },
   {
    "duration": 4,
    "start_time": "2024-11-10T15:37:34.432Z"
   },
   {
    "duration": 146,
    "start_time": "2024-11-10T15:37:38.135Z"
   },
   {
    "duration": 4,
    "start_time": "2024-11-10T15:37:40.753Z"
   },
   {
    "duration": 4,
    "start_time": "2024-11-10T15:37:44.366Z"
   },
   {
    "duration": 5,
    "start_time": "2024-11-10T15:38:26.500Z"
   },
   {
    "duration": 4,
    "start_time": "2024-11-10T15:38:58.937Z"
   },
   {
    "duration": 5,
    "start_time": "2024-11-10T15:42:46.227Z"
   },
   {
    "duration": 2469,
    "start_time": "2024-11-11T16:01:50.816Z"
   },
   {
    "duration": 141,
    "start_time": "2024-11-11T16:01:53.287Z"
   },
   {
    "duration": 10,
    "start_time": "2024-11-11T16:01:53.430Z"
   },
   {
    "duration": 3,
    "start_time": "2024-11-11T16:01:53.442Z"
   },
   {
    "duration": 27,
    "start_time": "2024-11-11T16:01:53.446Z"
   },
   {
    "duration": 9,
    "start_time": "2024-11-11T16:01:53.475Z"
   },
   {
    "duration": 109,
    "start_time": "2024-11-11T16:01:53.485Z"
   },
   {
    "duration": 762,
    "start_time": "2024-11-11T16:01:53.596Z"
   },
   {
    "duration": 2,
    "start_time": "2024-11-11T16:01:54.370Z"
   },
   {
    "duration": 12,
    "start_time": "2024-11-11T16:01:54.375Z"
   },
   {
    "duration": 38,
    "start_time": "2024-11-11T16:01:54.389Z"
   },
   {
    "duration": 7,
    "start_time": "2024-11-11T16:01:54.965Z"
   },
   {
    "duration": 13,
    "start_time": "2024-11-11T16:01:55.417Z"
   },
   {
    "duration": 15,
    "start_time": "2024-11-11T16:01:56.277Z"
   },
   {
    "duration": 169,
    "start_time": "2024-11-11T16:01:56.464Z"
   },
   {
    "duration": 251,
    "start_time": "2024-11-11T16:01:57.017Z"
   },
   {
    "duration": 33,
    "start_time": "2024-11-11T16:01:57.560Z"
   },
   {
    "duration": 3,
    "start_time": "2024-11-11T16:01:57.939Z"
   },
   {
    "duration": 25,
    "start_time": "2024-11-11T16:01:58.529Z"
   },
   {
    "duration": 21,
    "start_time": "2024-11-11T16:01:59.314Z"
   },
   {
    "duration": 42,
    "start_time": "2024-11-11T16:01:59.936Z"
   },
   {
    "duration": 8,
    "start_time": "2024-11-11T16:02:00.760Z"
   },
   {
    "duration": 4,
    "start_time": "2024-11-11T16:02:01.600Z"
   },
   {
    "duration": 6,
    "start_time": "2024-11-11T16:02:02.392Z"
   },
   {
    "duration": 32,
    "start_time": "2024-11-11T16:02:02.999Z"
   },
   {
    "duration": 5,
    "start_time": "2024-11-11T16:02:03.215Z"
   },
   {
    "duration": 4,
    "start_time": "2024-11-11T16:02:03.431Z"
   },
   {
    "duration": 68,
    "start_time": "2024-11-11T16:04:37.706Z"
   },
   {
    "duration": 4,
    "start_time": "2024-11-11T16:09:22.100Z"
   },
   {
    "duration": 258,
    "start_time": "2024-11-11T16:09:35.417Z"
   },
   {
    "duration": 306,
    "start_time": "2024-11-11T16:09:50.472Z"
   },
   {
    "duration": 14,
    "start_time": "2024-11-11T16:15:51.264Z"
   },
   {
    "duration": 300,
    "start_time": "2024-11-11T16:16:06.160Z"
   },
   {
    "duration": 300,
    "start_time": "2024-11-11T16:16:17.600Z"
   },
   {
    "duration": 302,
    "start_time": "2024-11-11T16:16:31.826Z"
   },
   {
    "duration": 51,
    "start_time": "2024-11-11T16:17:25.146Z"
   },
   {
    "duration": 14,
    "start_time": "2024-11-11T16:17:41.507Z"
   },
   {
    "duration": 4,
    "start_time": "2024-11-11T16:18:34.039Z"
   },
   {
    "duration": 14,
    "start_time": "2024-11-11T16:18:41.681Z"
   },
   {
    "duration": 4,
    "start_time": "2024-11-11T16:21:34.678Z"
   },
   {
    "duration": 87,
    "start_time": "2024-11-11T16:21:50.968Z"
   },
   {
    "duration": 4,
    "start_time": "2024-11-11T16:22:20.776Z"
   },
   {
    "duration": 82,
    "start_time": "2024-11-11T16:22:23.827Z"
   },
   {
    "duration": 4,
    "start_time": "2024-11-11T16:23:11.677Z"
   },
   {
    "duration": 358,
    "start_time": "2024-11-11T16:23:15.094Z"
   },
   {
    "duration": 310,
    "start_time": "2024-11-11T16:23:28.855Z"
   },
   {
    "duration": 16,
    "start_time": "2024-11-11T16:23:39.160Z"
   },
   {
    "duration": 4,
    "start_time": "2024-11-11T16:24:50.717Z"
   },
   {
    "duration": 4,
    "start_time": "2024-11-11T16:25:25.601Z"
   },
   {
    "duration": 3,
    "start_time": "2024-11-11T16:25:43.833Z"
   },
   {
    "duration": 87,
    "start_time": "2024-11-11T16:25:44.020Z"
   },
   {
    "duration": 9,
    "start_time": "2024-11-11T16:25:44.372Z"
   },
   {
    "duration": 3,
    "start_time": "2024-11-11T16:25:44.947Z"
   },
   {
    "duration": 15,
    "start_time": "2024-11-11T16:25:45.337Z"
   },
   {
    "duration": 6,
    "start_time": "2024-11-11T16:25:45.740Z"
   },
   {
    "duration": 79,
    "start_time": "2024-11-11T16:25:45.931Z"
   },
   {
    "duration": 808,
    "start_time": "2024-11-11T16:25:46.347Z"
   },
   {
    "duration": 15,
    "start_time": "2024-11-11T16:25:47.157Z"
   },
   {
    "duration": 12,
    "start_time": "2024-11-11T16:26:00.065Z"
   },
   {
    "duration": 15,
    "start_time": "2024-11-11T16:26:05.865Z"
   },
   {
    "duration": 37,
    "start_time": "2024-11-11T16:26:07.234Z"
   },
   {
    "duration": 6,
    "start_time": "2024-11-11T16:26:08.209Z"
   },
   {
    "duration": 15,
    "start_time": "2024-11-11T16:26:08.437Z"
   },
   {
    "duration": 16,
    "start_time": "2024-11-11T16:26:08.842Z"
   },
   {
    "duration": 143,
    "start_time": "2024-11-11T16:26:09.192Z"
   },
   {
    "duration": 238,
    "start_time": "2024-11-11T16:26:10.102Z"
   },
   {
    "duration": 30,
    "start_time": "2024-11-11T16:26:10.849Z"
   },
   {
    "duration": 4,
    "start_time": "2024-11-11T16:26:11.934Z"
   },
   {
    "duration": 28,
    "start_time": "2024-11-11T16:26:12.735Z"
   },
   {
    "duration": 20,
    "start_time": "2024-11-11T16:26:13.584Z"
   },
   {
    "duration": 42,
    "start_time": "2024-11-11T16:26:14.297Z"
   },
   {
    "duration": 8,
    "start_time": "2024-11-11T16:26:16.224Z"
   },
   {
    "duration": 4,
    "start_time": "2024-11-11T16:26:35.486Z"
   },
   {
    "duration": 6,
    "start_time": "2024-11-11T16:30:18.755Z"
   },
   {
    "duration": 32,
    "start_time": "2024-11-11T16:30:20.006Z"
   },
   {
    "duration": 5,
    "start_time": "2024-11-11T16:30:20.511Z"
   },
   {
    "duration": 5,
    "start_time": "2024-11-11T16:30:21.015Z"
   },
   {
    "duration": 6,
    "start_time": "2024-11-11T16:31:55.664Z"
   },
   {
    "duration": 440,
    "start_time": "2024-11-11T16:35:01.363Z"
   },
   {
    "duration": 25,
    "start_time": "2024-11-11T16:35:20.779Z"
   },
   {
    "duration": 29,
    "start_time": "2024-11-11T16:35:29.632Z"
   },
   {
    "duration": 9,
    "start_time": "2024-11-11T16:39:47.229Z"
   },
   {
    "duration": 10,
    "start_time": "2024-11-11T16:40:56.308Z"
   },
   {
    "duration": 67,
    "start_time": "2024-11-11T16:42:43.269Z"
   },
   {
    "duration": 311,
    "start_time": "2024-11-11T16:47:44.613Z"
   },
   {
    "duration": 5,
    "start_time": "2024-11-11T16:49:00.432Z"
   },
   {
    "duration": 296,
    "start_time": "2024-11-11T16:49:03.039Z"
   },
   {
    "duration": 298,
    "start_time": "2024-11-11T16:50:19.846Z"
   },
   {
    "duration": 298,
    "start_time": "2024-11-11T16:50:24.722Z"
   },
   {
    "duration": 305,
    "start_time": "2024-11-11T16:50:29.792Z"
   },
   {
    "duration": 2,
    "start_time": "2024-11-11T16:58:01.620Z"
   },
   {
    "duration": 2,
    "start_time": "2024-11-11T17:20:50.216Z"
   },
   {
    "duration": 97,
    "start_time": "2024-11-11T17:20:50.402Z"
   },
   {
    "duration": 9,
    "start_time": "2024-11-11T17:20:50.755Z"
   },
   {
    "duration": 3,
    "start_time": "2024-11-11T17:20:51.264Z"
   },
   {
    "duration": 15,
    "start_time": "2024-11-11T17:20:51.669Z"
   },
   {
    "duration": 5,
    "start_time": "2024-11-11T17:20:52.060Z"
   },
   {
    "duration": 76,
    "start_time": "2024-11-11T17:20:52.243Z"
   },
   {
    "duration": 770,
    "start_time": "2024-11-11T17:20:52.619Z"
   },
   {
    "duration": 13,
    "start_time": "2024-11-11T17:20:53.391Z"
   },
   {
    "duration": 41,
    "start_time": "2024-11-11T17:20:53.405Z"
   },
   {
    "duration": 6,
    "start_time": "2024-11-11T17:20:53.890Z"
   },
   {
    "duration": 13,
    "start_time": "2024-11-11T17:20:54.075Z"
   },
   {
    "duration": 16,
    "start_time": "2024-11-11T17:20:54.451Z"
   },
   {
    "duration": 142,
    "start_time": "2024-11-11T17:20:54.644Z"
   },
   {
    "duration": 237,
    "start_time": "2024-11-11T17:20:55.194Z"
   },
   {
    "duration": 29,
    "start_time": "2024-11-11T17:20:55.755Z"
   },
   {
    "duration": 4,
    "start_time": "2024-11-11T17:20:56.124Z"
   },
   {
    "duration": 25,
    "start_time": "2024-11-11T17:20:56.699Z"
   },
   {
    "duration": 21,
    "start_time": "2024-11-11T17:20:57.446Z"
   },
   {
    "duration": 40,
    "start_time": "2024-11-11T17:20:58.021Z"
   },
   {
    "duration": 8,
    "start_time": "2024-11-11T17:20:58.816Z"
   },
   {
    "duration": 4,
    "start_time": "2024-11-11T17:20:59.598Z"
   },
   {
    "duration": 6,
    "start_time": "2024-11-11T17:21:00.387Z"
   },
   {
    "duration": 32,
    "start_time": "2024-11-11T17:21:00.957Z"
   },
   {
    "duration": 5,
    "start_time": "2024-11-11T17:21:01.166Z"
   },
   {
    "duration": 4,
    "start_time": "2024-11-11T17:21:01.354Z"
   },
   {
    "duration": 30,
    "start_time": "2024-11-11T17:21:02.152Z"
   },
   {
    "duration": 10,
    "start_time": "2024-11-11T17:21:02.375Z"
   },
   {
    "duration": 66,
    "start_time": "2024-11-11T17:21:02.745Z"
   },
   {
    "duration": 4,
    "start_time": "2024-11-11T17:21:03.164Z"
   },
   {
    "duration": 309,
    "start_time": "2024-11-11T17:21:03.574Z"
   },
   {
    "duration": 307,
    "start_time": "2024-11-11T17:21:04.180Z"
   },
   {
    "duration": 318,
    "start_time": "2024-11-11T17:21:04.489Z"
   },
   {
    "duration": 328,
    "start_time": "2024-11-11T17:21:04.809Z"
   },
   {
    "duration": 878,
    "start_time": "2024-11-11T23:38:30.200Z"
   },
   {
    "duration": 141,
    "start_time": "2024-11-11T23:38:31.080Z"
   },
   {
    "duration": 12,
    "start_time": "2024-11-11T23:38:40.069Z"
   },
   {
    "duration": 3,
    "start_time": "2024-11-11T23:38:55.126Z"
   },
   {
    "duration": 16,
    "start_time": "2024-11-11T23:38:55.765Z"
   },
   {
    "duration": 7,
    "start_time": "2024-11-11T23:38:58.107Z"
   },
   {
    "duration": 87,
    "start_time": "2024-11-11T23:38:59.489Z"
   },
   {
    "duration": 824,
    "start_time": "2024-11-11T23:39:04.269Z"
   },
   {
    "duration": 14,
    "start_time": "2024-11-11T23:39:05.473Z"
   },
   {
    "duration": 40,
    "start_time": "2024-11-11T23:39:32.198Z"
   },
   {
    "duration": 6,
    "start_time": "2024-11-11T23:39:46.148Z"
   },
   {
    "duration": 15,
    "start_time": "2024-11-11T23:39:46.656Z"
   },
   {
    "duration": 21,
    "start_time": "2024-11-11T23:41:15.014Z"
   },
   {
    "duration": 186,
    "start_time": "2024-11-11T23:41:15.218Z"
   },
   {
    "duration": 249,
    "start_time": "2024-11-11T23:41:27.857Z"
   },
   {
    "duration": 77,
    "start_time": "2024-11-11T23:41:56.203Z"
   },
   {
    "duration": 5,
    "start_time": "2024-11-11T23:41:57.891Z"
   },
   {
    "duration": 3,
    "start_time": "2024-11-11T23:42:47.274Z"
   },
   {
    "duration": 3,
    "start_time": "2024-11-11T23:43:46.302Z"
   },
   {
    "duration": 23,
    "start_time": "2024-11-11T23:43:47.991Z"
   },
   {
    "duration": 25,
    "start_time": "2024-11-11T23:43:51.179Z"
   },
   {
    "duration": 85,
    "start_time": "2024-11-11T23:44:08.453Z"
   },
   {
    "duration": 9,
    "start_time": "2024-11-11T23:44:21.447Z"
   },
   {
    "duration": 4,
    "start_time": "2024-11-11T23:44:24.498Z"
   },
   {
    "duration": 6,
    "start_time": "2024-11-11T23:44:27.758Z"
   },
   {
    "duration": 33,
    "start_time": "2024-11-11T23:44:30.706Z"
   },
   {
    "duration": 5,
    "start_time": "2024-11-11T23:44:43.563Z"
   },
   {
    "duration": 4,
    "start_time": "2024-11-11T23:44:49.393Z"
   },
   {
    "duration": 31,
    "start_time": "2024-11-11T23:45:25.394Z"
   },
   {
    "duration": 9,
    "start_time": "2024-11-11T23:45:25.926Z"
   },
   {
    "duration": 106,
    "start_time": "2024-11-11T23:45:29.217Z"
   },
   {
    "duration": 4,
    "start_time": "2024-11-11T23:45:45.971Z"
   },
   {
    "duration": 312,
    "start_time": "2024-11-11T23:46:09.489Z"
   },
   {
    "duration": 314,
    "start_time": "2024-11-11T23:46:20.018Z"
   },
   {
    "duration": 319,
    "start_time": "2024-11-11T23:46:21.672Z"
   },
   {
    "duration": 505,
    "start_time": "2024-11-11T23:46:29.275Z"
   }
  ],
  "kernelspec": {
   "display_name": "Python 3 (ipykernel)",
   "language": "python",
   "name": "python3"
  },
  "language_info": {
   "codemirror_mode": {
    "name": "ipython",
    "version": 3
   },
   "file_extension": ".py",
   "mimetype": "text/x-python",
   "name": "python",
   "nbconvert_exporter": "python",
   "pygments_lexer": "ipython3",
   "version": "3.9.19"
  },
  "toc": {
   "base_numbering": 1,
   "nav_menu": {},
   "number_sections": true,
   "sideBar": true,
   "skip_h1_title": true,
   "title_cell": "Table of Contents",
   "title_sidebar": "Contents",
   "toc_cell": false,
   "toc_position": {},
   "toc_section_display": true,
   "toc_window_display": false
  }
 },
 "nbformat": 4,
 "nbformat_minor": 2
}
