{
 "cells": [
  {
   "cell_type": "markdown",
   "metadata": {},
   "source": [
    "# PROYECTO - Decisiones de negocio basadas en datos"
   ]
  },
  {
   "cell_type": "markdown",
   "metadata": {},
   "source": [
    "CONTEXTO: Junto con el departamento de marketing se ha recopilado una lista de hipótesis que pueden ayudar a aumentar los ingresos.\n",
    " * Objectivo del Poryecto:  Priorizar estas hipótesis, lanzar un test A/B y analizar los resultados."
   ]
  },
  {
   "cell_type": "markdown",
   "metadata": {},
   "source": [
    "# Importación de librerías"
   ]
  },
  {
   "cell_type": "code",
   "execution_count": 2,
   "metadata": {},
   "outputs": [],
   "source": [
    "import pandas as pd\n",
    "import datetime as dt\n",
    "import numpy as np\n",
    "import matplotlib.pyplot as plt\n",
    "import scipy.stats as stats"
   ]
  },
  {
   "cell_type": "markdown",
   "metadata": {},
   "source": [
    "# Importación de datos"
   ]
  },
  {
   "cell_type": "code",
   "execution_count": 9,
   "metadata": {},
   "outputs": [],
   "source": [
    "order=pd.read_csv('orders_us.csv')"
   ]
  },
  {
   "cell_type": "code",
   "execution_count": 13,
   "metadata": {},
   "outputs": [],
   "source": [
    "visitas=pd.read_csv('visits_us.csv')"
   ]
  },
  {
   "cell_type": "code",
   "execution_count": 23,
   "metadata": {},
   "outputs": [
    {
     "data": {
      "text/html": [
       "<div>\n",
       "<style scoped>\n",
       "    .dataframe tbody tr th:only-of-type {\n",
       "        vertical-align: middle;\n",
       "    }\n",
       "\n",
       "    .dataframe tbody tr th {\n",
       "        vertical-align: top;\n",
       "    }\n",
       "\n",
       "    .dataframe thead th {\n",
       "        text-align: right;\n",
       "    }\n",
       "</style>\n",
       "<table border=\"1\" class=\"dataframe\">\n",
       "  <thead>\n",
       "    <tr style=\"text-align: right;\">\n",
       "      <th></th>\n",
       "      <th>index</th>\n",
       "      <th>Hypothesis</th>\n",
       "      <th>Reach</th>\n",
       "      <th>Impact</th>\n",
       "      <th>Confidence</th>\n",
       "      <th>Effort</th>\n",
       "    </tr>\n",
       "  </thead>\n",
       "  <tbody>\n",
       "    <tr>\n",
       "      <th>0</th>\n",
       "      <td>0</td>\n",
       "      <td>Add two new channels for attracting traffic. T...</td>\n",
       "      <td>3</td>\n",
       "      <td>10</td>\n",
       "      <td>8</td>\n",
       "      <td>6</td>\n",
       "    </tr>\n",
       "    <tr>\n",
       "      <th>1</th>\n",
       "      <td>1</td>\n",
       "      <td>Launch your own delivery service. This will sh...</td>\n",
       "      <td>2</td>\n",
       "      <td>5</td>\n",
       "      <td>4</td>\n",
       "      <td>10</td>\n",
       "    </tr>\n",
       "    <tr>\n",
       "      <th>2</th>\n",
       "      <td>2</td>\n",
       "      <td>Add product recommendation blocks to the store...</td>\n",
       "      <td>8</td>\n",
       "      <td>3</td>\n",
       "      <td>7</td>\n",
       "      <td>3</td>\n",
       "    </tr>\n",
       "    <tr>\n",
       "      <th>3</th>\n",
       "      <td>3</td>\n",
       "      <td>Change the category structure. This will incre...</td>\n",
       "      <td>8</td>\n",
       "      <td>3</td>\n",
       "      <td>3</td>\n",
       "      <td>8</td>\n",
       "    </tr>\n",
       "    <tr>\n",
       "      <th>4</th>\n",
       "      <td>4</td>\n",
       "      <td>Change the background color on the main page. ...</td>\n",
       "      <td>3</td>\n",
       "      <td>1</td>\n",
       "      <td>1</td>\n",
       "      <td>1</td>\n",
       "    </tr>\n",
       "    <tr>\n",
       "      <th>5</th>\n",
       "      <td>5</td>\n",
       "      <td>Add a customer review page. This will increase...</td>\n",
       "      <td>3</td>\n",
       "      <td>2</td>\n",
       "      <td>2</td>\n",
       "      <td>3</td>\n",
       "    </tr>\n",
       "    <tr>\n",
       "      <th>6</th>\n",
       "      <td>6</td>\n",
       "      <td>Show banners with current offers and sales on ...</td>\n",
       "      <td>5</td>\n",
       "      <td>3</td>\n",
       "      <td>8</td>\n",
       "      <td>3</td>\n",
       "    </tr>\n",
       "    <tr>\n",
       "      <th>7</th>\n",
       "      <td>7</td>\n",
       "      <td>Add a subscription form to all the main pages....</td>\n",
       "      <td>10</td>\n",
       "      <td>7</td>\n",
       "      <td>8</td>\n",
       "      <td>5</td>\n",
       "    </tr>\n",
       "    <tr>\n",
       "      <th>8</th>\n",
       "      <td>8</td>\n",
       "      <td>Launch a promotion that gives users discounts ...</td>\n",
       "      <td>1</td>\n",
       "      <td>9</td>\n",
       "      <td>9</td>\n",
       "      <td>5</td>\n",
       "    </tr>\n",
       "  </tbody>\n",
       "</table>\n",
       "</div>"
      ],
      "text/plain": [
       "   index                                         Hypothesis  Reach  Impact  \\\n",
       "0      0  Add two new channels for attracting traffic. T...      3      10   \n",
       "1      1  Launch your own delivery service. This will sh...      2       5   \n",
       "2      2  Add product recommendation blocks to the store...      8       3   \n",
       "3      3  Change the category structure. This will incre...      8       3   \n",
       "4      4  Change the background color on the main page. ...      3       1   \n",
       "5      5  Add a customer review page. This will increase...      3       2   \n",
       "6      6  Show banners with current offers and sales on ...      5       3   \n",
       "7      7  Add a subscription form to all the main pages....     10       7   \n",
       "8      8  Launch a promotion that gives users discounts ...      1       9   \n",
       "\n",
       "   Confidence  Effort  \n",
       "0           8       6  \n",
       "1           4      10  \n",
       "2           7       3  \n",
       "3           3       8  \n",
       "4           1       1  \n",
       "5           2       3  \n",
       "6           8       3  \n",
       "7           8       5  \n",
       "8           9       5  "
      ]
     },
     "execution_count": 23,
     "metadata": {},
     "output_type": "execute_result"
    }
   ],
   "source": [
    "df_hipotesis=pd.read_csv('hypotheses_us.csv', sep=';').reset_index()\n",
    "df_hipotesis"
   ]
  },
  {
   "cell_type": "markdown",
   "metadata": {},
   "source": [
    "# Prepocesamiento de datos"
   ]
  },
  {
   "cell_type": "markdown",
   "metadata": {},
   "source": [
    "Se revisará algún valor ausente o duplicado , también los tipos de datos"
   ]
  },
  {
   "cell_type": "markdown",
   "metadata": {},
   "source": [
    "##  Hipotesis"
   ]
  },
  {
   "cell_type": "code",
   "execution_count": 16,
   "metadata": {},
   "outputs": [
    {
     "name": "stdout",
     "output_type": "stream",
     "text": [
      "<class 'pandas.core.frame.DataFrame'>\n",
      "RangeIndex: 9 entries, 0 to 8\n",
      "Data columns (total 2 columns):\n",
      " #   Column                                     Non-Null Count  Dtype \n",
      "---  ------                                     --------------  ----- \n",
      " 0   index                                      9 non-null      int64 \n",
      " 1   Hypothesis;Reach;Impact;Confidence;Effort  9 non-null      object\n",
      "dtypes: int64(1), object(1)\n",
      "memory usage: 276.0+ bytes\n"
     ]
    }
   ],
   "source": [
    "df_hipotesis.info()"
   ]
  },
  {
   "cell_type": "code",
   "execution_count": 24,
   "metadata": {},
   "outputs": [],
   "source": [
    "# convertir los nombres de las columnas a minusculas\n",
    "df_hipotesis.columns = ['number', 'hypothesis', 'reach', 'impact', 'confidence', 'effort'] "
   ]
  },
  {
   "cell_type": "code",
   "execution_count": 128,
   "metadata": {},
   "outputs": [
    {
     "data": {
      "text/plain": [
       "0"
      ]
     },
     "execution_count": 128,
     "metadata": {},
     "output_type": "execute_result"
    }
   ],
   "source": [
    "df_hipotesis.duplicated().sum()"
   ]
  },
  {
   "cell_type": "markdown",
   "metadata": {},
   "source": [
    "## Order"
   ]
  },
  {
   "cell_type": "code",
   "execution_count": 129,
   "metadata": {},
   "outputs": [
    {
     "data": {
      "text/html": [
       "<div>\n",
       "<style scoped>\n",
       "    .dataframe tbody tr th:only-of-type {\n",
       "        vertical-align: middle;\n",
       "    }\n",
       "\n",
       "    .dataframe tbody tr th {\n",
       "        vertical-align: top;\n",
       "    }\n",
       "\n",
       "    .dataframe thead th {\n",
       "        text-align: right;\n",
       "    }\n",
       "</style>\n",
       "<table border=\"1\" class=\"dataframe\">\n",
       "  <thead>\n",
       "    <tr style=\"text-align: right;\">\n",
       "      <th></th>\n",
       "      <th>transactionId</th>\n",
       "      <th>visitorId</th>\n",
       "      <th>date</th>\n",
       "      <th>revenue</th>\n",
       "      <th>group</th>\n",
       "    </tr>\n",
       "  </thead>\n",
       "  <tbody>\n",
       "    <tr>\n",
       "      <th>0</th>\n",
       "      <td>3667963787</td>\n",
       "      <td>3312258926</td>\n",
       "      <td>2019-08-15</td>\n",
       "      <td>30.4</td>\n",
       "      <td>B</td>\n",
       "    </tr>\n",
       "    <tr>\n",
       "      <th>1</th>\n",
       "      <td>2804400009</td>\n",
       "      <td>3642806036</td>\n",
       "      <td>2019-08-15</td>\n",
       "      <td>15.2</td>\n",
       "      <td>B</td>\n",
       "    </tr>\n",
       "    <tr>\n",
       "      <th>2</th>\n",
       "      <td>2961555356</td>\n",
       "      <td>4069496402</td>\n",
       "      <td>2019-08-15</td>\n",
       "      <td>10.2</td>\n",
       "      <td>A</td>\n",
       "    </tr>\n",
       "    <tr>\n",
       "      <th>3</th>\n",
       "      <td>3797467345</td>\n",
       "      <td>1196621759</td>\n",
       "      <td>2019-08-15</td>\n",
       "      <td>155.1</td>\n",
       "      <td>B</td>\n",
       "    </tr>\n",
       "    <tr>\n",
       "      <th>4</th>\n",
       "      <td>2282983706</td>\n",
       "      <td>2322279887</td>\n",
       "      <td>2019-08-15</td>\n",
       "      <td>40.5</td>\n",
       "      <td>B</td>\n",
       "    </tr>\n",
       "    <tr>\n",
       "      <th>...</th>\n",
       "      <td>...</td>\n",
       "      <td>...</td>\n",
       "      <td>...</td>\n",
       "      <td>...</td>\n",
       "      <td>...</td>\n",
       "    </tr>\n",
       "    <tr>\n",
       "      <th>1192</th>\n",
       "      <td>2662137336</td>\n",
       "      <td>3733762160</td>\n",
       "      <td>2019-08-14</td>\n",
       "      <td>100.8</td>\n",
       "      <td>B</td>\n",
       "    </tr>\n",
       "    <tr>\n",
       "      <th>1193</th>\n",
       "      <td>2203539145</td>\n",
       "      <td>370388673</td>\n",
       "      <td>2019-08-14</td>\n",
       "      <td>50.1</td>\n",
       "      <td>A</td>\n",
       "    </tr>\n",
       "    <tr>\n",
       "      <th>1194</th>\n",
       "      <td>1807773912</td>\n",
       "      <td>573423106</td>\n",
       "      <td>2019-08-14</td>\n",
       "      <td>165.3</td>\n",
       "      <td>A</td>\n",
       "    </tr>\n",
       "    <tr>\n",
       "      <th>1195</th>\n",
       "      <td>1947021204</td>\n",
       "      <td>1614305549</td>\n",
       "      <td>2019-08-14</td>\n",
       "      <td>5.5</td>\n",
       "      <td>A</td>\n",
       "    </tr>\n",
       "    <tr>\n",
       "      <th>1196</th>\n",
       "      <td>3936777065</td>\n",
       "      <td>2108080724</td>\n",
       "      <td>2019-08-15</td>\n",
       "      <td>3120.1</td>\n",
       "      <td>B</td>\n",
       "    </tr>\n",
       "  </tbody>\n",
       "</table>\n",
       "<p>1197 rows × 5 columns</p>\n",
       "</div>"
      ],
      "text/plain": [
       "      transactionId   visitorId        date  revenue group\n",
       "0        3667963787  3312258926  2019-08-15     30.4     B\n",
       "1        2804400009  3642806036  2019-08-15     15.2     B\n",
       "2        2961555356  4069496402  2019-08-15     10.2     A\n",
       "3        3797467345  1196621759  2019-08-15    155.1     B\n",
       "4        2282983706  2322279887  2019-08-15     40.5     B\n",
       "...             ...         ...         ...      ...   ...\n",
       "1192     2662137336  3733762160  2019-08-14    100.8     B\n",
       "1193     2203539145   370388673  2019-08-14     50.1     A\n",
       "1194     1807773912   573423106  2019-08-14    165.3     A\n",
       "1195     1947021204  1614305549  2019-08-14      5.5     A\n",
       "1196     3936777065  2108080724  2019-08-15   3120.1     B\n",
       "\n",
       "[1197 rows x 5 columns]"
      ]
     },
     "execution_count": 129,
     "metadata": {},
     "output_type": "execute_result"
    }
   ],
   "source": [
    "order"
   ]
  },
  {
   "cell_type": "code",
   "execution_count": 130,
   "metadata": {},
   "outputs": [
    {
     "name": "stdout",
     "output_type": "stream",
     "text": [
      "<class 'pandas.core.frame.DataFrame'>\n",
      "RangeIndex: 1197 entries, 0 to 1196\n",
      "Data columns (total 5 columns):\n",
      " #   Column         Non-Null Count  Dtype  \n",
      "---  ------         --------------  -----  \n",
      " 0   transactionId  1197 non-null   int64  \n",
      " 1   visitorId      1197 non-null   int64  \n",
      " 2   date           1197 non-null   object \n",
      " 3   revenue        1197 non-null   float64\n",
      " 4   group          1197 non-null   object \n",
      "dtypes: float64(1), int64(2), object(2)\n",
      "memory usage: 46.9+ KB\n"
     ]
    }
   ],
   "source": [
    "order.info()"
   ]
  },
  {
   "cell_type": "code",
   "execution_count": 131,
   "metadata": {},
   "outputs": [],
   "source": [
    "order['date']= order['date'].map(lambda x: dt.datetime.strptime(x ,'%Y-%m-%d'))"
   ]
  },
  {
   "cell_type": "code",
   "execution_count": 132,
   "metadata": {},
   "outputs": [
    {
     "data": {
      "text/plain": [
       "0"
      ]
     },
     "execution_count": 132,
     "metadata": {},
     "output_type": "execute_result"
    }
   ],
   "source": [
    "order.duplicated().sum()"
   ]
  },
  {
   "cell_type": "markdown",
   "metadata": {},
   "source": [
    "## Visitas "
   ]
  },
  {
   "cell_type": "code",
   "execution_count": 133,
   "metadata": {},
   "outputs": [
    {
     "name": "stdout",
     "output_type": "stream",
     "text": [
      "<class 'pandas.core.frame.DataFrame'>\n",
      "RangeIndex: 62 entries, 0 to 61\n",
      "Data columns (total 3 columns):\n",
      " #   Column  Non-Null Count  Dtype \n",
      "---  ------  --------------  ----- \n",
      " 0   date    62 non-null     object\n",
      " 1   group   62 non-null     object\n",
      " 2   visits  62 non-null     int64 \n",
      "dtypes: int64(1), object(2)\n",
      "memory usage: 1.6+ KB\n"
     ]
    }
   ],
   "source": [
    "visitas.info()"
   ]
  },
  {
   "cell_type": "code",
   "execution_count": 134,
   "metadata": {},
   "outputs": [],
   "source": [
    "# convertir tipo texto a tipo fecha\n",
    "visitas['date']= visitas['date'].map(lambda x: dt.datetime.strptime(x ,'%Y-%m-%d'))"
   ]
  },
  {
   "cell_type": "code",
   "execution_count": 135,
   "metadata": {},
   "outputs": [
    {
     "data": {
      "text/plain": [
       "0"
      ]
     },
     "execution_count": 135,
     "metadata": {},
     "output_type": "execute_result"
    }
   ],
   "source": [
    "visitas.duplicated().sum()"
   ]
  },
  {
   "cell_type": "markdown",
   "metadata": {},
   "source": [
    "## Revision Inicial\n",
    "* Segun lo revisado no hay duplicados en la tabla de Order(ordenes) y visitas.\n",
    "* No hay nulos ni duplicados en cada tabla individual. \n",
    "* Se ha tratado de darle un formato fecha a los datos 'Date' de las columnas de Order y Visits"
   ]
  },
  {
   "cell_type": "markdown",
   "metadata": {},
   "source": [
    "## Determinación de la igualdad de las proporciones "
   ]
  },
  {
   "cell_type": "code",
   "execution_count": 136,
   "metadata": {},
   "outputs": [
    {
     "data": {
      "text/plain": [
       "group\n",
       "A    503\n",
       "B    586\n",
       "Name: visitorId, dtype: int64"
      ]
     },
     "execution_count": 136,
     "metadata": {},
     "output_type": "execute_result"
    }
   ],
   "source": [
    "# Verificar cuantos usuarios unicos hay por cada grupo\n",
    "order.groupby('group')['visitorId'].nunique()"
   ]
  },
  {
   "cell_type": "code",
   "execution_count": 137,
   "metadata": {},
   "outputs": [
    {
     "name": "stdout",
     "output_type": "stream",
     "text": [
      "     visitorId       date  transactionId  revenue group\n",
      "0      8300375 2019-08-01     3679129301    165.7     B\n",
      "1    199603092 2019-08-02      437656952     55.7     B\n",
      "2    232979603 2019-08-31     2670069237     45.6     B\n",
      "3    232979603 2019-08-31       83566152      5.9     A\n",
      "4    237748145 2019-08-12     3357467820     10.2     A\n",
      "..         ...        ...            ...      ...   ...\n",
      "73  4120364173 2019-08-29     4212256267    615.3     A\n",
      "74  4186807279 2019-08-14     3757656646     80.8     A\n",
      "75  4256040402 2019-08-01     1120327437     90.2     A\n",
      "76  4266935830 2019-08-29     1811671147   1220.2     A\n",
      "77  4266935830 2019-08-29     1216533772   1220.2     B\n",
      "\n",
      "[78 rows x 5 columns]\n",
      "15\n"
     ]
    }
   ],
   "source": [
    "# Identificar cuantos usuarios unicos pertenece a los 2 grupos\n",
    "usuario_por_grupo=order.groupby('visitorId')['group'].nunique().reset_index()\n",
    "usuario_a_b=np.array(usuario_por_grupo.query('group>1')['visitorId'])# crear un array de los Id de los usuarios\n",
    "\n",
    "# Identitificar los primeras fecha de los usuarios que pertence a ambos grupos\n",
    "first_date=order.groupby('visitorId')['date'].min().reset_index()\n",
    "first_usuario=first_date[first_date['visitorId'].isin(usuario_a_b)]\n",
    "first_usuario_group=pd.merge(first_usuario, order)\n",
    "print(first_usuario_group)\n",
    "\n",
    "# Calcular la cantidad de usuarios unicos compraron en ambos grupos la misma fecha que iniciaron a realizar su pedido\n",
    "first_usuario_a_b=first_usuario_group.groupby('visitorId')['group'].nunique().reset_index()\n",
    "usuario_duplicado_a_b=first_usuario_a_b.query('group>1')['visitorId']\n",
    "print(usuario_duplicado_a_b.nunique())"
   ]
  },
  {
   "cell_type": "markdown",
   "metadata": {},
   "source": [
    "   Se puede reflejar que de hay 58 usuarios que hicieron pedido en el grupo A y en el grupo B. inclusive 15 usuarios compraron la primera vez ese y fue considerado en ambos grupos."
   ]
  },
  {
   "cell_type": "markdown",
   "metadata": {},
   "source": [
    "**Los 58 usuarios se va a considerar en la tabla order pero solo de un grupo , tomando en cuenta donde compró primero.No se considerará los 15 usuarios porque no sabemos donde considerarlo ya que compraron ese mismo dia en ambos grupo.**"
   ]
  },
  {
   "cell_type": "markdown",
   "metadata": {},
   "source": [
    "Para poder limpiar nuestra tabla order vamos necesitar:\n",
    "\n",
    "* los Id de usuario y grupo(elegido) "
   ]
  },
  {
   "cell_type": "code",
   "execution_count": 138,
   "metadata": {},
   "outputs": [
    {
     "data": {
      "text/html": [
       "<div>\n",
       "<style scoped>\n",
       "    .dataframe tbody tr th:only-of-type {\n",
       "        vertical-align: middle;\n",
       "    }\n",
       "\n",
       "    .dataframe tbody tr th {\n",
       "        vertical-align: top;\n",
       "    }\n",
       "\n",
       "    .dataframe thead th {\n",
       "        text-align: right;\n",
       "    }\n",
       "</style>\n",
       "<table border=\"1\" class=\"dataframe\">\n",
       "  <thead>\n",
       "    <tr style=\"text-align: right;\">\n",
       "      <th></th>\n",
       "      <th>transactionId</th>\n",
       "      <th>visitorId</th>\n",
       "      <th>date</th>\n",
       "      <th>revenue</th>\n",
       "      <th>group</th>\n",
       "    </tr>\n",
       "  </thead>\n",
       "  <tbody>\n",
       "    <tr>\n",
       "      <th>2</th>\n",
       "      <td>2961555356</td>\n",
       "      <td>4069496402</td>\n",
       "      <td>2019-08-15</td>\n",
       "      <td>10.2</td>\n",
       "      <td>A</td>\n",
       "    </tr>\n",
       "    <tr>\n",
       "      <th>7</th>\n",
       "      <td>2626614568</td>\n",
       "      <td>78758296</td>\n",
       "      <td>2019-08-15</td>\n",
       "      <td>20.1</td>\n",
       "      <td>A</td>\n",
       "    </tr>\n",
       "    <tr>\n",
       "      <th>8</th>\n",
       "      <td>1576988021</td>\n",
       "      <td>295230930</td>\n",
       "      <td>2019-08-15</td>\n",
       "      <td>215.9</td>\n",
       "      <td>A</td>\n",
       "    </tr>\n",
       "    <tr>\n",
       "      <th>10</th>\n",
       "      <td>3649131742</td>\n",
       "      <td>879864040</td>\n",
       "      <td>2019-08-15</td>\n",
       "      <td>65.7</td>\n",
       "      <td>A</td>\n",
       "    </tr>\n",
       "    <tr>\n",
       "      <th>12</th>\n",
       "      <td>2809384911</td>\n",
       "      <td>3213223594</td>\n",
       "      <td>2019-08-15</td>\n",
       "      <td>115.4</td>\n",
       "      <td>A</td>\n",
       "    </tr>\n",
       "    <tr>\n",
       "      <th>...</th>\n",
       "      <td>...</td>\n",
       "      <td>...</td>\n",
       "      <td>...</td>\n",
       "      <td>...</td>\n",
       "      <td>...</td>\n",
       "    </tr>\n",
       "    <tr>\n",
       "      <th>1186</th>\n",
       "      <td>2116724386</td>\n",
       "      <td>2146711261</td>\n",
       "      <td>2019-08-14</td>\n",
       "      <td>240.6</td>\n",
       "      <td>B</td>\n",
       "    </tr>\n",
       "    <tr>\n",
       "      <th>1190</th>\n",
       "      <td>38478481</td>\n",
       "      <td>1197745035</td>\n",
       "      <td>2019-08-14</td>\n",
       "      <td>135.3</td>\n",
       "      <td>B</td>\n",
       "    </tr>\n",
       "    <tr>\n",
       "      <th>1191</th>\n",
       "      <td>3592955527</td>\n",
       "      <td>608641596</td>\n",
       "      <td>2019-08-14</td>\n",
       "      <td>255.7</td>\n",
       "      <td>B</td>\n",
       "    </tr>\n",
       "    <tr>\n",
       "      <th>1192</th>\n",
       "      <td>2662137336</td>\n",
       "      <td>3733762160</td>\n",
       "      <td>2019-08-14</td>\n",
       "      <td>100.8</td>\n",
       "      <td>B</td>\n",
       "    </tr>\n",
       "    <tr>\n",
       "      <th>1196</th>\n",
       "      <td>3936777065</td>\n",
       "      <td>2108080724</td>\n",
       "      <td>2019-08-15</td>\n",
       "      <td>3120.1</td>\n",
       "      <td>B</td>\n",
       "    </tr>\n",
       "  </tbody>\n",
       "</table>\n",
       "<p>1078 rows × 5 columns</p>\n",
       "</div>"
      ],
      "text/plain": [
       "      transactionId   visitorId       date  revenue group\n",
       "2        2961555356  4069496402 2019-08-15     10.2     A\n",
       "7        2626614568    78758296 2019-08-15     20.1     A\n",
       "8        1576988021   295230930 2019-08-15    215.9     A\n",
       "10       3649131742   879864040 2019-08-15     65.7     A\n",
       "12       2809384911  3213223594 2019-08-15    115.4     A\n",
       "...             ...         ...        ...      ...   ...\n",
       "1186     2116724386  2146711261 2019-08-14    240.6     B\n",
       "1190       38478481  1197745035 2019-08-14    135.3     B\n",
       "1191     3592955527   608641596 2019-08-14    255.7     B\n",
       "1192     2662137336  3733762160 2019-08-14    100.8     B\n",
       "1196     3936777065  2108080724 2019-08-15   3120.1     B\n",
       "\n",
       "[1078 rows x 5 columns]"
      ]
     },
     "execution_count": 138,
     "metadata": {},
     "output_type": "execute_result"
    }
   ],
   "source": [
    "# Identificar los id usuarios y grupo a partir de la tabla anterior de las primeros compras de usuarios \n",
    "first_usuario_sin_compra_mismodia=first_usuario_group[~first_usuario_group['visitorId'].isin(usuario_duplicado_a_b)]\n",
    "\n",
    "#filtrar por grupo \n",
    "Usuario_id_grupo_A=first_usuario_sin_compra_mismodia[['visitorId','group']].query(\"group=='A'\")\n",
    "Usuario_id_grupo_B=first_usuario_sin_compra_mismodia[['visitorId','group']].query(\"group=='B'\")\n",
    "\n",
    "\n",
    "#de la tabla Order eliminar los 15 usuarios que ya hemos identificado\n",
    "order_sin_usuariosduplicados_a_b=order[~order['visitorId'].isin(usuario_duplicado_a_b)]\n",
    "\n",
    "#filtrar los id y grupo\n",
    "order_A=order_sin_usuariosduplicados_a_b[np.logical_and(order_sin_usuariosduplicados_a_b['group']=='A',\n",
    "                                                np.logical_not(order_sin_usuariosduplicados_a_b['visitorId']\n",
    "                                                               .isin(Usuario_id_grupo_A['visitorId'])))]\n",
    "\n",
    "order_B=order_sin_usuariosduplicados_a_b[np.logical_and(order_sin_usuariosduplicados_a_b['group']=='B',\n",
    "                                                np.logical_not(order_sin_usuariosduplicados_a_b['visitorId']\n",
    "                                                               .isin(Usuario_id_grupo_B['visitorId'])))]\n",
    "#unir ambos grupo\n",
    "order_=pd.concat([order_A,order_B], axis=0)\n",
    "order_"
   ]
  },
  {
   "cell_type": "markdown",
   "metadata": {},
   "source": [
    "# Priorizar hipótesis\n",
    "El archivo hypotheses_us.csv contiene nueve hipótesis sobre cómo aumentar los ingresos de una tienda online con Reach, Impact, Confidence y Effort especificados para cada una."
   ]
  },
  {
   "cell_type": "markdown",
   "metadata": {},
   "source": [
    "### Aplicar el framework ICE para priorizar hipótesis. Ordenarlas en orden descendente de prioridad."
   ]
  },
  {
   "cell_type": "code",
   "execution_count": 139,
   "metadata": {
    "scrolled": true
   },
   "outputs": [
    {
     "data": {
      "text/html": [
       "<div>\n",
       "<style scoped>\n",
       "    .dataframe tbody tr th:only-of-type {\n",
       "        vertical-align: middle;\n",
       "    }\n",
       "\n",
       "    .dataframe tbody tr th {\n",
       "        vertical-align: top;\n",
       "    }\n",
       "\n",
       "    .dataframe thead th {\n",
       "        text-align: right;\n",
       "    }\n",
       "</style>\n",
       "<table border=\"1\" class=\"dataframe\">\n",
       "  <thead>\n",
       "    <tr style=\"text-align: right;\">\n",
       "      <th></th>\n",
       "      <th>hypothesis</th>\n",
       "      <th>ice</th>\n",
       "    </tr>\n",
       "  </thead>\n",
       "  <tbody>\n",
       "    <tr>\n",
       "      <th>8</th>\n",
       "      <td>Launch a promotion that gives users discounts ...</td>\n",
       "      <td>16.200000</td>\n",
       "    </tr>\n",
       "    <tr>\n",
       "      <th>0</th>\n",
       "      <td>Add two new channels for attracting traffic. T...</td>\n",
       "      <td>13.333333</td>\n",
       "    </tr>\n",
       "    <tr>\n",
       "      <th>7</th>\n",
       "      <td>Add a subscription form to all the main pages....</td>\n",
       "      <td>11.200000</td>\n",
       "    </tr>\n",
       "    <tr>\n",
       "      <th>6</th>\n",
       "      <td>Show banners with current offers and sales on ...</td>\n",
       "      <td>8.000000</td>\n",
       "    </tr>\n",
       "    <tr>\n",
       "      <th>2</th>\n",
       "      <td>Add product recommendation blocks to the store...</td>\n",
       "      <td>7.000000</td>\n",
       "    </tr>\n",
       "    <tr>\n",
       "      <th>1</th>\n",
       "      <td>Launch your own delivery service. This will sh...</td>\n",
       "      <td>2.000000</td>\n",
       "    </tr>\n",
       "    <tr>\n",
       "      <th>5</th>\n",
       "      <td>Add a customer review page. This will increase...</td>\n",
       "      <td>1.333333</td>\n",
       "    </tr>\n",
       "    <tr>\n",
       "      <th>3</th>\n",
       "      <td>Change the category structure. This will incre...</td>\n",
       "      <td>1.125000</td>\n",
       "    </tr>\n",
       "    <tr>\n",
       "      <th>4</th>\n",
       "      <td>Change the background color on the main page. ...</td>\n",
       "      <td>1.000000</td>\n",
       "    </tr>\n",
       "  </tbody>\n",
       "</table>\n",
       "</div>"
      ],
      "text/plain": [
       "                                          hypothesis        ice\n",
       "8  Launch a promotion that gives users discounts ...  16.200000\n",
       "0  Add two new channels for attracting traffic. T...  13.333333\n",
       "7  Add a subscription form to all the main pages....  11.200000\n",
       "6  Show banners with current offers and sales on ...   8.000000\n",
       "2  Add product recommendation blocks to the store...   7.000000\n",
       "1  Launch your own delivery service. This will sh...   2.000000\n",
       "5  Add a customer review page. This will increase...   1.333333\n",
       "3  Change the category structure. This will incre...   1.125000\n",
       "4  Change the background color on the main page. ...   1.000000"
      ]
     },
     "execution_count": 139,
     "metadata": {},
     "output_type": "execute_result"
    }
   ],
   "source": [
    "df_hipotesis['ice']= df_hipotesis['impact']*df_hipotesis['confidence']/df_hipotesis['effort']\n",
    "df_hipotesis[['hypothesis','ice']].sort_values(by='ice',ascending=False)"
   ]
  },
  {
   "cell_type": "markdown",
   "metadata": {},
   "source": [
    "### Aplicar el framework RICE para priorizar hipótesis. Ordenarlas en orden descendente de prioridad."
   ]
  },
  {
   "cell_type": "code",
   "execution_count": 140,
   "metadata": {},
   "outputs": [
    {
     "data": {
      "text/html": [
       "<div>\n",
       "<style scoped>\n",
       "    .dataframe tbody tr th:only-of-type {\n",
       "        vertical-align: middle;\n",
       "    }\n",
       "\n",
       "    .dataframe tbody tr th {\n",
       "        vertical-align: top;\n",
       "    }\n",
       "\n",
       "    .dataframe thead th {\n",
       "        text-align: right;\n",
       "    }\n",
       "</style>\n",
       "<table border=\"1\" class=\"dataframe\">\n",
       "  <thead>\n",
       "    <tr style=\"text-align: right;\">\n",
       "      <th></th>\n",
       "      <th>hypothesis</th>\n",
       "      <th>rice</th>\n",
       "    </tr>\n",
       "  </thead>\n",
       "  <tbody>\n",
       "    <tr>\n",
       "      <th>7</th>\n",
       "      <td>Add a subscription form to all the main pages....</td>\n",
       "      <td>112.0</td>\n",
       "    </tr>\n",
       "    <tr>\n",
       "      <th>2</th>\n",
       "      <td>Add product recommendation blocks to the store...</td>\n",
       "      <td>56.0</td>\n",
       "    </tr>\n",
       "    <tr>\n",
       "      <th>0</th>\n",
       "      <td>Add two new channels for attracting traffic. T...</td>\n",
       "      <td>40.0</td>\n",
       "    </tr>\n",
       "    <tr>\n",
       "      <th>6</th>\n",
       "      <td>Show banners with current offers and sales on ...</td>\n",
       "      <td>40.0</td>\n",
       "    </tr>\n",
       "    <tr>\n",
       "      <th>8</th>\n",
       "      <td>Launch a promotion that gives users discounts ...</td>\n",
       "      <td>16.2</td>\n",
       "    </tr>\n",
       "    <tr>\n",
       "      <th>3</th>\n",
       "      <td>Change the category structure. This will incre...</td>\n",
       "      <td>9.0</td>\n",
       "    </tr>\n",
       "    <tr>\n",
       "      <th>1</th>\n",
       "      <td>Launch your own delivery service. This will sh...</td>\n",
       "      <td>4.0</td>\n",
       "    </tr>\n",
       "    <tr>\n",
       "      <th>5</th>\n",
       "      <td>Add a customer review page. This will increase...</td>\n",
       "      <td>4.0</td>\n",
       "    </tr>\n",
       "    <tr>\n",
       "      <th>4</th>\n",
       "      <td>Change the background color on the main page. ...</td>\n",
       "      <td>3.0</td>\n",
       "    </tr>\n",
       "  </tbody>\n",
       "</table>\n",
       "</div>"
      ],
      "text/plain": [
       "                                          hypothesis   rice\n",
       "7  Add a subscription form to all the main pages....  112.0\n",
       "2  Add product recommendation blocks to the store...   56.0\n",
       "0  Add two new channels for attracting traffic. T...   40.0\n",
       "6  Show banners with current offers and sales on ...   40.0\n",
       "8  Launch a promotion that gives users discounts ...   16.2\n",
       "3  Change the category structure. This will incre...    9.0\n",
       "1  Launch your own delivery service. This will sh...    4.0\n",
       "5  Add a customer review page. This will increase...    4.0\n",
       "4  Change the background color on the main page. ...    3.0"
      ]
     },
     "execution_count": 140,
     "metadata": {},
     "output_type": "execute_result"
    }
   ],
   "source": [
    "df_hipotesis['rice']= (df_hipotesis['reach']*df_hipotesis['impact']*df_hipotesis['confidence'])/df_hipotesis['effort']\n",
    "df_hipotesis[['hypothesis','rice']].sort_values(by='rice',ascending=False)"
   ]
  },
  {
   "cell_type": "markdown",
   "metadata": {},
   "source": [
    "**Mostrar cómo cambia la priorización de hipótesis cuando utilizas RICE en lugar de ICE. Proporcionar una explicación de los cambios."
   ]
  },
  {
   "cell_type": "code",
   "execution_count": 141,
   "metadata": {},
   "outputs": [
    {
     "data": {
      "text/plain": [
       "number                                                        7\n",
       "hypothesis    Add a subscription form to all the main pages....\n",
       "reach                                                        10\n",
       "impact                                                        7\n",
       "confidence                                                    8\n",
       "effort                                                        5\n",
       "ice                                                        11.2\n",
       "rice                                                      112.0\n",
       "Name: 7, dtype: object"
      ]
     },
     "execution_count": 141,
     "metadata": {},
     "output_type": "execute_result"
    }
   ],
   "source": [
    "# Revisar los parametros de la hipoetsis 7\n",
    "df_hipotesis.loc[7]"
   ]
  },
  {
   "cell_type": "code",
   "execution_count": 142,
   "metadata": {},
   "outputs": [
    {
     "data": {
      "text/plain": [
       "array([ 3,  2,  8,  5, 10,  1])"
      ]
     },
     "execution_count": 142,
     "metadata": {},
     "output_type": "execute_result"
    }
   ],
   "source": [
    "# Revisar los puntajes de Alcance\n",
    "df_hipotesis['reach'].unique()"
   ]
  },
  {
   "cell_type": "markdown",
   "metadata": {},
   "source": [
    "Al usar Rice en lugar de Ice , la priorizacion cambió porque Rice considera el alcance (Reach).\n",
    "La hipotesis mas prometedoras son la 8,0,7,6. Sin embrago la Hipótesis 7 en el Rice ocupa el primer lugar.Esto se debe a que su parametro Reach tiene un valor 10 el mayor impacto, las mas alta que la otras hipotesis."
   ]
  },
  {
   "cell_type": "markdown",
   "metadata": {},
   "source": [
    "# Análisis del test A/B\n",
    " "
   ]
  },
  {
   "cell_type": "markdown",
   "metadata": {},
   "source": [
    "## Ejercicio\n",
    "\n",
    "Analiza el test A/B:"
   ]
  },
  {
   "cell_type": "markdown",
   "metadata": {},
   "source": [
    "### Representa gráficamente el ingreso acumulado por grupo. Haz conclusiones y conjeturas."
   ]
  },
  {
   "cell_type": "code",
   "execution_count": 148,
   "metadata": {},
   "outputs": [
    {
     "data": {
      "image/png": "[encoded data removed]",
      "text/plain": [
       "<Figure size 640x480 with 1 Axes>"
      ]
     },
     "metadata": {},
     "output_type": "display_data"
    }
   ],
   "source": [
    "#Identificar las fechas y grupos unicos de la tabla order\n",
    "date_group=order_[['date','group']].drop_duplicates().sort_values(by='date')\n",
    "# \n",
    "order_agregado=date_group.apply(lambda x: order_[np.logical_and(order_['date'] <= x['date'], order_['group']==x['group'])].\n",
    "                                agg({'date':'max',\n",
    "                                     'group':'max',\n",
    "                                     'transactionId':pd.Series.nunique,\n",
    "                                     'visitorId':pd.Series.nunique,\n",
    "                                     'revenue':'sum'}),axis=1).sort_values(by=['date','group'])\n",
    "#Identificar las fechas y grupos unicos de la tabla visitas\n",
    "visitas_agregado=visitorsAggregated = (\n",
    "    date_group.apply(lambda x: visitas[np.logical_and(visitas['date'] <= x['date'], visitas['group'] == x['group'])]\n",
    "                      .agg({'date' : 'max', \n",
    "                            'group' : 'max', \n",
    "                            'visits' : 'sum'}), \n",
    "                      axis=1\n",
    "                     )\n",
    "    .sort_values(by=['date','group'])\n",
    "    \n",
    ")\n",
    "#fusionar las 2 tablas de order_agregado y visitor_agregado\n",
    "data_acumulativa=order_agregado.merge(visitas_agregado, left_on=['date','group'], right_on=['date','group'])\n",
    "data_acumulativa.columns=['date','group','n_orders','buyers','revenue','visitors']\n",
    "# Tomar en cuenta el ingreso acumulado y comparar por grupo mediante una diagrama de línea\n",
    "data_acumulativa.pivot_table(\n",
    "    index='date',\n",
    "    columns='group',\n",
    "    values='revenue',\n",
    "    aggfunc='mean'\n",
    ").plot(kind='line', title='Ingreso acumulado por grupo A-B', xlabel='date', ylabel='ingreso')\n",
    "plt.gca().tick_params(axis='x', rotation=45)\n",
    "plt.show()\n",
    "\n"
   ]
  },
  {
   "cell_type": "markdown",
   "metadata": {},
   "source": [
    "los ingresos acumulativo del grupo B hay un pico en el día 19 de agosto. Esto podía implicar un aumento en el número de pedidos o existencia de pedido muy caros en la muestra. "
   ]
  },
  {
   "cell_type": "markdown",
   "metadata": {},
   "source": [
    "### Representa gráficamente el tamaño de pedido promedio acumulado por grupo. Haz conclusiones y conjeturas."
   ]
  },
  {
   "cell_type": "code",
   "execution_count": 149,
   "metadata": {},
   "outputs": [
    {
     "data": {
      "text/html": [
       "<div>\n",
       "<style scoped>\n",
       "    .dataframe tbody tr th:only-of-type {\n",
       "        vertical-align: middle;\n",
       "    }\n",
       "\n",
       "    .dataframe tbody tr th {\n",
       "        vertical-align: top;\n",
       "    }\n",
       "\n",
       "    .dataframe thead th {\n",
       "        text-align: right;\n",
       "    }\n",
       "</style>\n",
       "<table border=\"1\" class=\"dataframe\">\n",
       "  <thead>\n",
       "    <tr style=\"text-align: right;\">\n",
       "      <th></th>\n",
       "      <th>date</th>\n",
       "      <th>group</th>\n",
       "      <th>n_orders</th>\n",
       "      <th>buyers</th>\n",
       "      <th>revenue</th>\n",
       "      <th>visitors</th>\n",
       "    </tr>\n",
       "  </thead>\n",
       "  <tbody>\n",
       "    <tr>\n",
       "      <th>0</th>\n",
       "      <td>2019-08-01</td>\n",
       "      <td>A</td>\n",
       "      <td>23</td>\n",
       "      <td>19</td>\n",
       "      <td>2266.6</td>\n",
       "      <td>719</td>\n",
       "    </tr>\n",
       "    <tr>\n",
       "      <th>1</th>\n",
       "      <td>2019-08-01</td>\n",
       "      <td>B</td>\n",
       "      <td>17</td>\n",
       "      <td>17</td>\n",
       "      <td>967.2</td>\n",
       "      <td>713</td>\n",
       "    </tr>\n",
       "    <tr>\n",
       "      <th>2</th>\n",
       "      <td>2019-08-02</td>\n",
       "      <td>A</td>\n",
       "      <td>43</td>\n",
       "      <td>37</td>\n",
       "      <td>3770.1</td>\n",
       "      <td>1338</td>\n",
       "    </tr>\n",
       "    <tr>\n",
       "      <th>3</th>\n",
       "      <td>2019-08-02</td>\n",
       "      <td>B</td>\n",
       "      <td>40</td>\n",
       "      <td>39</td>\n",
       "      <td>3535.3</td>\n",
       "      <td>1294</td>\n",
       "    </tr>\n",
       "    <tr>\n",
       "      <th>4</th>\n",
       "      <td>2019-08-03</td>\n",
       "      <td>A</td>\n",
       "      <td>67</td>\n",
       "      <td>61</td>\n",
       "      <td>5585.3</td>\n",
       "      <td>1845</td>\n",
       "    </tr>\n",
       "    <tr>\n",
       "      <th>...</th>\n",
       "      <td>...</td>\n",
       "      <td>...</td>\n",
       "      <td>...</td>\n",
       "      <td>...</td>\n",
       "      <td>...</td>\n",
       "      <td>...</td>\n",
       "    </tr>\n",
       "    <tr>\n",
       "      <th>57</th>\n",
       "      <td>2019-08-29</td>\n",
       "      <td>B</td>\n",
       "      <td>538</td>\n",
       "      <td>509</td>\n",
       "      <td>78939.9</td>\n",
       "      <td>17708</td>\n",
       "    </tr>\n",
       "    <tr>\n",
       "      <th>58</th>\n",
       "      <td>2019-08-30</td>\n",
       "      <td>A</td>\n",
       "      <td>490</td>\n",
       "      <td>459</td>\n",
       "      <td>55821.9</td>\n",
       "      <td>18037</td>\n",
       "    </tr>\n",
       "    <tr>\n",
       "      <th>59</th>\n",
       "      <td>2019-08-30</td>\n",
       "      <td>B</td>\n",
       "      <td>560</td>\n",
       "      <td>530</td>\n",
       "      <td>82262.5</td>\n",
       "      <td>18198</td>\n",
       "    </tr>\n",
       "    <tr>\n",
       "      <th>60</th>\n",
       "      <td>2019-08-31</td>\n",
       "      <td>A</td>\n",
       "      <td>499</td>\n",
       "      <td>468</td>\n",
       "      <td>56716.1</td>\n",
       "      <td>18736</td>\n",
       "    </tr>\n",
       "    <tr>\n",
       "      <th>61</th>\n",
       "      <td>2019-08-31</td>\n",
       "      <td>B</td>\n",
       "      <td>579</td>\n",
       "      <td>548</td>\n",
       "      <td>84321.2</td>\n",
       "      <td>18916</td>\n",
       "    </tr>\n",
       "  </tbody>\n",
       "</table>\n",
       "<p>62 rows × 6 columns</p>\n",
       "</div>"
      ],
      "text/plain": [
       "         date group  n_orders  buyers  revenue  visitors\n",
       "0  2019-08-01     A        23      19   2266.6       719\n",
       "1  2019-08-01     B        17      17    967.2       713\n",
       "2  2019-08-02     A        43      37   3770.1      1338\n",
       "3  2019-08-02     B        40      39   3535.3      1294\n",
       "4  2019-08-03     A        67      61   5585.3      1845\n",
       "..        ...   ...       ...     ...      ...       ...\n",
       "57 2019-08-29     B       538     509  78939.9     17708\n",
       "58 2019-08-30     A       490     459  55821.9     18037\n",
       "59 2019-08-30     B       560     530  82262.5     18198\n",
       "60 2019-08-31     A       499     468  56716.1     18736\n",
       "61 2019-08-31     B       579     548  84321.2     18916\n",
       "\n",
       "[62 rows x 6 columns]"
      ]
     },
     "execution_count": 149,
     "metadata": {},
     "output_type": "execute_result"
    }
   ],
   "source": [
    "data_acumulativa"
   ]
  },
  {
   "cell_type": "code",
   "execution_count": 150,
   "metadata": {},
   "outputs": [
    {
     "data": {
      "text/plain": [
       "<AxesSubplot:title={'center':'Tmaño acumulado por grupo A-B'}, xlabel='date', ylabel='ingreso'>"
      ]
     },
     "execution_count": 150,
     "metadata": {},
     "output_type": "execute_result"
    },
    {
     "data": {
      "image/png": "[encoded data removed]",
      "text/plain": [
       "<Figure size 640x480 with 1 Axes>"
      ]
     },
     "metadata": {},
     "output_type": "display_data"
    }
   ],
   "source": [
    "#agregar una columna de promedio acumulativo\n",
    "data_acumulativa['tamaño_mean_acumulative']=data_acumulativa['revenue']/data_acumulativa['n_orders']\n",
    "# crear frafica de ambos grupos\n",
    "data_acumulativa.pivot_table(index='date',\n",
    "                          columns='group',\n",
    "                          values='tamaño_mean_acumulative',\n",
    "                          aggfunc='mean').plot(kind='line',title='Tmaño acumulado por grupo A-B', xlabel='date', ylabel='ingreso')\n"
   ]
  },
  {
   "cell_type": "markdown",
   "metadata": {},
   "source": [
    "Ambos grupo han estado constante crecimiento en su promedio de compra hasta el dia 18.Apartir del dia 19 hay una diferencia de tamaño de promedio para el grupo B.\n",
    "\n",
    "**Causa de la diferencia en grupo B en el dia 19**\n",
    " - Pedidos costoso\n",
    " - Menor cantidad de pedidos\n",
    "\n",
    "Pero aunque al final de la fecha no podemos suponer que se pueda estabilizar ambos grupo.Podemos notar que hay una caida del promedio del grupo B por el cual los ingreso de los pedidos estan cayendo o se esta realizando mayoy cantidad de pedidos."
   ]
  },
  {
   "cell_type": "markdown",
   "metadata": {},
   "source": [
    "### Representar gráficamente la diferencia relativa en el tamaño de pedido promedio acumulado para el grupo B en comparación con el grupo A. "
   ]
  },
  {
   "cell_type": "code",
   "execution_count": 151,
   "metadata": {},
   "outputs": [
    {
     "data": {
      "image/png": "[encoded data removed]",
      "text/plain": [
       "<Figure size 640x480 with 1 Axes>"
      ]
     },
     "metadata": {},
     "output_type": "display_data"
    }
   ],
   "source": [
    "#Dataframe con tamaño promedio acumulado por dia , grupo A \n",
    "acumulative_revenue_A=data_acumulativa.query(\"group=='A'\")[['date','tamaño_mean_acumulative']]\n",
    "#Dataframe con tamaño promedio acumulado por dia , grupo A \n",
    "acumulative_revenue_B=data_acumulativa.query(\"group=='B'\")[['date','tamaño_mean_acumulative']]\n",
    "#Reunir los datos en un dataframe de ambos grupos A y B\n",
    "mergeacumulativeRevenue=acumulative_revenue_A.merge(acumulative_revenue_B, left_on='date',right_on='date',how='left', suffixes=['A','B'])\n",
    "#Crear la frecuencia en dataFrame \n",
    "mergeacumulativeRevenue['relativa_a_b']=(mergeacumulativeRevenue['tamaño_mean_acumulativeB']/mergeacumulativeRevenue['tamaño_mean_acumulativeA'])-1\n",
    "# Trazar el grafico\n",
    "plt.plot(mergeacumulativeRevenue['date'],mergeacumulativeRevenue['relativa_a_b'])\n",
    "plt.xlabel('date')\n",
    "plt.ylabel('diferencia relativa')\n",
    "plt.title('diferencia relativa de tamaño de compra B y A por fecha')\n",
    "plt.axhline(y=0, color='black',linestyle='--')\n",
    "plt.gca().tick_params(axis='x', rotation=45)"
   ]
  },
  {
   "cell_type": "markdown",
   "metadata": {},
   "source": [
    "La diferencia entre los segmento aumenta en algunos dias siendo los picos mas alto en el dia 19 , pero a partir de esa fecha disminuyó.\n",
    "* los valores picos que aparecen podemos entender que posiblemente hay valores atipicos en los datos de los ingresos de pedido"
   ]
  },
  {
   "cell_type": "markdown",
   "metadata": {},
   "source": [
    "### Calcula la tasa de conversión de cada grupo como la relación entre los pedidos y el número de visitas de cada día. Representa gráficamente las tasas de conversión diarias de los dos grupos y describe la diferencia."
   ]
  },
  {
   "cell_type": "code",
   "execution_count": 152,
   "metadata": {},
   "outputs": [
    {
     "data": {
      "text/plain": [
       "Text(0, 0.5, 'conversion')"
      ]
     },
     "execution_count": 152,
     "metadata": {},
     "output_type": "execute_result"
    },
    {
     "data": {
      "image/png": "[encoded data removed]",
      "text/plain": [
       "<Figure size 640x480 with 1 Axes>"
      ]
     },
     "metadata": {},
     "output_type": "display_data"
    }
   ],
   "source": [
    "data_acumulativa['conversion']=data_acumulativa['n_orders']/data_acumulativa['visitors']\n",
    "data_acumulativa.pivot_table(index='date',\n",
    "                          columns='group',\n",
    "                          values='conversion',\n",
    "                          aggfunc='mean').plot(kind='line')\n",
    "plt.title('conversion de cada grupo por dia')\n",
    "plt.xlabel('date')\n",
    "plt.ylabel('conversion')"
   ]
  },
  {
   "cell_type": "markdown",
   "metadata": {},
   "source": [
    "**Grupo A:** Fue disminuyendo a la conversion acumulada desde el 3 de agosto.\n",
    "             Hay una conversion acumulado alrededor del 3%.\n",
    "\n",
    "**Grupo B:** \n",
    "Aumento relativamente la conversion acumulada a partir del 4 de agosto.A partir del 7 de octubre han tenido una conversión acumulado mayor que  3.3 %.  \n",
    "\n",
    "Hay una pequeña diferencia en ambos grupos. Podemos resaltar que el grupo B hay una mayor conversion en casi todas la fechas. Es decir que hubo mayor interes en comprar en los usuarios del grupo B."
   ]
  },
  {
   "cell_type": "markdown",
   "metadata": {},
   "source": [
    "### Traza un gráfico de dispersión del número de pedidos por usuario"
   ]
  },
  {
   "cell_type": "code",
   "execution_count": 153,
   "metadata": {},
   "outputs": [
    {
     "data": {
      "text/plain": [
       "Text(0, 0.5, 'Número de pedidos')"
      ]
     },
     "execution_count": 153,
     "metadata": {},
     "output_type": "execute_result"
    },
    {
     "data": {
      "image/png": "[encoded data removed]",
      "text/plain": [
       "<Figure size 640x480 with 1 Axes>"
      ]
     },
     "metadata": {},
     "output_type": "display_data"
    }
   ],
   "source": [
    "#De la tabla Order agrupar por usuario y sumar los cantidad de pedidos\n",
    "orderbyUsuario=order_.drop(['date','revenue','group'], axis=1).groupby('visitorId',as_index=False)['transactionId'].nunique()\n",
    "#Trazar grafico\n",
    "plt.scatter(orderbyUsuario.index ,orderbyUsuario['transactionId'])\n",
    "plt.title('Número de pedidos por usuario')\n",
    "plt.ylabel('Número de pedidos')"
   ]
  },
  {
   "cell_type": "markdown",
   "metadata": {},
   "source": [
    "* Hay muchos usuario que realizaron mas 6 o 8 pedidos durante el mes de agosto."
   ]
  },
  {
   "cell_type": "markdown",
   "metadata": {},
   "source": [
    "### Calculo de  los percentiles 95 y 99 del número de pedidos por usuario. Definir el punto en el cual un punto de datos se convierte en una anomalía."
   ]
  },
  {
   "cell_type": "code",
   "execution_count": 154,
   "metadata": {},
   "outputs": [
    {
     "name": "stdout",
     "output_type": "stream",
     "text": [
      "El percentil 95 del número de pedidos por usuaros es 1.0\n",
      "El percentil 99 del número de pedidos por usuaros es 2.8500000000000227\n"
     ]
    }
   ],
   "source": [
    "percentile_95=np.percentile(orderbyUsuario['transactionId'],[95,99])[0]\n",
    "percentile_99=np.percentile(orderbyUsuario['transactionId'],[95,99])[1]\n",
    "print(f'El percentil 95 del número de pedidos por usuaros es {percentile_95}')\n",
    "print(f'El percentil 99 del número de pedidos por usuaros es {percentile_99}')"
   ]
  },
  {
   "cell_type": "markdown",
   "metadata": {},
   "source": [
    "No mas de 1% de los usuarios realizaron mas de 3 pedidos y el 5% de los usuarios realizaron un pedido.Seria razonable fijar un umbral de 2 pedidos por usuario como limite superior para un comportamiento normal  y utilizarlo para filtrar cualquier anomalía."
   ]
  },
  {
   "cell_type": "markdown",
   "metadata": {},
   "source": [
    "### Trazar un gráfico de dispersión de los precios de los pedidos."
   ]
  },
  {
   "cell_type": "code",
   "execution_count": 155,
   "metadata": {},
   "outputs": [
    {
     "data": {
      "text/plain": [
       "Text(0, 0.5, 'precios')"
      ]
     },
     "execution_count": 155,
     "metadata": {},
     "output_type": "execute_result"
    },
    {
     "data": {
      "image/png": "[encoded data removed]",
      "text/plain": [
       "<Figure size 1200x700 with 1 Axes>"
      ]
     },
     "metadata": {},
     "output_type": "display_data"
    }
   ],
   "source": [
    "#utilizar la tabla order y filtra el precio de lso pedidos\n",
    "plt.figure(figsize=(12,7))\n",
    "plt.scatter(order_.index ,order_['revenue'])\n",
    "plt.title('Precio por pedido')\n",
    "plt.xlabel('orden de pedido')\n",
    "plt.ylabel('precios')"
   ]
  },
  {
   "cell_type": "markdown",
   "metadata": {},
   "source": [
    "* Hay un 1 pedido que cuesta 20000 por el cual se le podia considera como valor atípico.\n",
    "* Los demas datos son mucho mas pequeños menos 2500 "
   ]
  },
  {
   "cell_type": "markdown",
   "metadata": {},
   "source": [
    "### Calcula los percentiles 95 y 99 de los precios de los pedidos. Define el punto en el cual un punto de datos se convierte en una anomalía."
   ]
  },
  {
   "cell_type": "code",
   "execution_count": 156,
   "metadata": {},
   "outputs": [
    {
     "name": "stdout",
     "output_type": "stream",
     "text": [
      "El percentil 95 de los precios de los pedidos es 435.54\n",
      "El percentil 99 de los precios de los pedidos es 900.9039999999999\n"
     ]
    }
   ],
   "source": [
    "percentile_95=np.percentile(order['revenue'],[95,99])[0]\n",
    "percentile_99=np.percentile(order['revenue'],[95,99])[1]\n",
    "print(f'El percentil 95 de los precios de los pedidos es {percentile_95}')\n",
    "print(f'El percentil 99 de los precios de los pedidos es {percentile_99}')"
   ]
  },
  {
   "cell_type": "markdown",
   "metadata": {},
   "source": [
    "* No mas del 5% de los pedidos cuestan 435.54 y no mas del 1% cuestan mas de 900"
   ]
  },
  {
   "cell_type": "markdown",
   "metadata": {},
   "source": [
    "### Encuentra la significancia estadística de la diferencia en la conversión entre los grupos utilizando los datos en bruto."
   ]
  },
  {
   "cell_type": "code",
   "execution_count": 157,
   "metadata": {},
   "outputs": [
    {
     "name": "stdout",
     "output_type": "stream",
     "text": [
      "     group   visitorId  orders\n",
      "468      B     5114589       1\n",
      "469      B     6958315       1\n",
      "470      B    39475350       1\n",
      "471      B    47206413       1\n",
      "472      B    48147722       1\n",
      "...    ...         ...     ...\n",
      "1011     B  4256040402       4\n",
      "1012     B  4258103007       1\n",
      "1013     B  4279090005       1\n",
      "1014     B  4281247801       1\n",
      "1015     B  4283872382       1\n",
      "\n",
      "[548 rows x 3 columns]\n",
      "    group   visitorId  orders\n",
      "0       A     8300375       1\n",
      "1       A    11685486       1\n",
      "2       A    54447517       1\n",
      "3       A    66685450       1\n",
      "4       A    78758296       1\n",
      "..    ...         ...     ...\n",
      "463     A  4227830084       1\n",
      "464     A  4237561104       1\n",
      "465     A  4243832526       1\n",
      "466     A  4259830713       1\n",
      "467     A  4278982564       1\n",
      "\n",
      "[468 rows x 3 columns]\n"
     ]
    }
   ],
   "source": [
    "# Agrupar de la tabla Order por grupo y usuario y sumar su numero de pedido\n",
    "order_usuario=order_.groupby(['group','visitorId'])['transactionId'].nunique().reset_index()\n",
    "order_usuario=order_usuario.rename(columns={'transactionId':'orders'})\n",
    "# Filtrar del DataFrame los pedidos de cada usuarios del grupo A\n",
    "order_usuario_A=order_usuario.query(\"group=='A'\")\n",
    "# Filtrar del DataFrame los pedidos de cada usuarios del grupo A\n",
    "order_usuario_B=order_usuario.query(\"group=='B'\")\n",
    "print(order_usuario_B)\n",
    "print(order_usuario_A)"
   ]
  },
  {
   "cell_type": "code",
   "execution_count": 158,
   "metadata": {},
   "outputs": [
    {
     "name": "stdout",
     "output_type": "stream",
     "text": [
      "0.934\n",
      "-0.005\n"
     ]
    }
   ],
   "source": [
    "# Crear una serie de O a las Visitas del grupo A que no hicieron ningun pedido\n",
    "pd.Series(0,index=np.arange(visitas[visitas['group']=='A']['visits'].sum()-len(order_usuario_A['orders'])))\n",
    "\n",
    "# Crear una serie de O a las Visitas del grupo A que no hicieron ningun pedido\n",
    "pd.Series(0,index=np.arange(visitas[visitas['group']=='B']['visits'].sum()-len(order_usuario_B['orders'])))\n",
    "\n",
    "#Pasar cada argumento a una lista de pedidos por usuario y por cada grupo \n",
    "lista_orders_A=pd.concat([order_usuario_A['orders'],pd.Series(0,index=np.arange(visitas[visitas['group']=='A']['visits'].sum()-len(order_usuario_A['orders'])),name='orders')],axis=0)\n",
    "lista_orders_B=pd.concat([order_usuario_A['orders'],pd.Series(0,index=np.arange(visitas[visitas['group']=='B']['visits'].sum()-len(order_usuario_B['orders'])),name='orders')],axis=0)\n",
    "\n",
    "# Probar estadisticamente si hay una diferencia entre la cantidad de pedidos por usuario de cada grupo\n",
    "print(\"{0:.3f}\".format(stats.mannwhitneyu(lista_orders_A,lista_orders_B)[1]))\n",
    "\n",
    "print(\"{0:.3f}\".format(lista_orders_B.mean()/lista_orders_A.mean()-1))"
   ]
  },
  {
   "cell_type": "markdown",
   "metadata": {},
   "source": [
    "El valor pvalue es  mayor que 0.05. Entonces no podemos rechazar la hipotesis nula, ya que no hay diferencia estadistica significativa en la coversión.Pero hay una perdida relativa del grupo B de 0.5%, no es mucha la diferencia. "
   ]
  },
  {
   "cell_type": "markdown",
   "metadata": {},
   "source": [
    "### Encuentra la significancia estadística de la diferencia en el tamaño promedio de pedido entre los grupos utilizando los datos en bruto."
   ]
  },
  {
   "cell_type": "code",
   "execution_count": 159,
   "metadata": {},
   "outputs": [
    {
     "name": "stdout",
     "output_type": "stream",
     "text": [
      "0.989\n",
      "0.281304645735\n"
     ]
    }
   ],
   "source": [
    "print('{0:.3f}'.format(stats.mannwhitneyu(order_[order_['group']=='A']['revenue'],order_[order_['group']=='B']['revenue'])[1]))\n",
    "print('{0:.12f}'.format(order_[order_['group']=='B']['revenue'].mean()/order_[order_['group']=='A']['revenue'].mean()-1))"
   ]
  },
  {
   "cell_type": "markdown",
   "metadata": {},
   "source": [
    "No se puede rechazar la hipotesis nula : No hay una diferencia estadistica significativa en el tamaño del promedio de pedido en ambos grupo.Hay una ganancia relativa del 28% del grupo B sobre su tamaño de promedio."
   ]
  },
  {
   "cell_type": "markdown",
   "metadata": {},
   "source": [
    "### Encuentra la significancia estadística de la diferencia en la conversión entre los grupos utilizando los datos filtrados."
   ]
  },
  {
   "cell_type": "markdown",
   "metadata": {},
   "source": [
    " Se va a definir los usuarios anómalos \n",
    "- Los que realizaron mas de 4 pedidos\n",
    "- los que compraron pedidos mas de 900 $"
   ]
  },
  {
   "cell_type": "code",
   "execution_count": 160,
   "metadata": {},
   "outputs": [
    {
     "name": "stdout",
     "output_type": "stream",
     "text": [
      "1099     148427295\n",
      "949      887908475\n",
      "744      888512513\n",
      "1103    1164614297\n",
      "1136    1307669133\n",
      "425     1920142716\n",
      "1196    2108080724\n",
      "1029    2378935119\n",
      "793     2458001652\n",
      "940     4003628586\n",
      "743     4133034833\n",
      "873     4256040402\n",
      "Name: visitorId, dtype: int64\n",
      "(12,)\n"
     ]
    }
   ],
   "source": [
    "#Definir los usuarios con mayor de 4 pedidos y mas de 900 por pedido\n",
    "usuario_ManyOrders=order_usuario[order_usuario['orders']>4]['visitorId']\n",
    "usuario_expensiveRevenue=order_[order_['revenue']>900]['visitorId']\n",
    "anomalias_usuarios = pd.concat([usuario_ManyOrders,usuario_expensiveRevenue], axis=0).drop_duplicates().sort_values()\n",
    "print(anomalias_usuarios)\n",
    "print(anomalias_usuarios.shape)"
   ]
  },
  {
   "cell_type": "markdown",
   "metadata": {},
   "source": [
    "* Son 12 usuarios que cumple estas anomalias"
   ]
  },
  {
   "cell_type": "code",
   "execution_count": 161,
   "metadata": {},
   "outputs": [
    {
     "name": "stdout",
     "output_type": "stream",
     "text": [
      "0.016\n",
      "0.142\n"
     ]
    }
   ],
   "source": [
    "#filtrar y tomar en consideracion los usuarios que presenta anomalia en el grupo A\n",
    "lista_orders_A_filtrada=pd.concat([order_usuario_A[~order_usuario_A['visitorId'].isin(anomalias_usuarios)]['orders'],pd.Series(0,index=np.arange(visitas[visitas['group']=='A']['visits'].sum()-len(order_usuario_A['orders'])),name='orders')],axis=0)\n",
    "#filtrar y tomar en consideracion los usuarios que presenta anomalia en el grupo B\n",
    "lista_orders_B_filtrada=pd.concat([order_usuario_B[~order_usuario_B['visitorId'].isin(anomalias_usuarios)]['orders'],pd.Series(0,index=np.arange(visitas[visitas['group']=='B']['visits'].sum()-len(order_usuario_B['orders'])),name='orders')],axis=0)\n",
    "\n",
    "#Aplicar el metodo estadistico de Mann-Whitney a las muestras\n",
    "print(\"{0:.3f}\".format(stats.mannwhitneyu(lista_orders_A_filtrada,lista_orders_B_filtrada)[1]))\n",
    "print(\"{0:.3f}\".format(lista_orders_B_filtrada.mean()/lista_orders_A_filtrada.mean()-1))"
   ]
  },
  {
   "cell_type": "markdown",
   "metadata": {},
   "source": [
    "* Se rechaza la hipótesis nula: Ambos grupos son diferentes , hay una significancia estadística.\n",
    "* La conversion del grupo B tiene una ganancia relativa del 14%  mayor que el grupo A"
   ]
  },
  {
   "cell_type": "markdown",
   "metadata": {},
   "source": [
    "### Encuentra la significancia estadística de la diferencia en el tamaño promedio de pedido entre los grupos utilizando los datos filtrados."
   ]
  },
  {
   "cell_type": "code",
   "execution_count": 162,
   "metadata": {},
   "outputs": [
    {
     "name": "stdout",
     "output_type": "stream",
     "text": [
      "0.935\n",
      "-0.02385091857954702\n"
     ]
    }
   ],
   "source": [
    "print('{0:.3f}'.format(stats.mannwhitneyu(\n",
    "    order_[np.logical_and(order_['group']=='A', np.logical_not(order_['visitorId']\n",
    "                                                             .isin(anomalias_usuarios)))]['revenue'],\n",
    "    order_[np.logical_and(order_['group']=='B', np.logical_not(order_['visitorId']\n",
    "                                                             .isin(anomalias_usuarios)))]['revenue'])[1]))\n",
    "#Mostrar la diferencia relativa en el ingreso medio entre los grupos B y A\n",
    "print(order_[np.logical_and(order_['group']=='B', np.logical_not(order_['visitorId']\n",
    "                                                             .isin(anomalias_usuarios)))]['revenue'].mean()\n",
    "     /order_[np.logical_and(order_['group']=='A', np.logical_not(order_['visitorId']\n",
    "                                                             .isin(anomalias_usuarios)))]['revenue'].mean() -1\n",
    "     )"
   ]
  },
  {
   "cell_type": "markdown",
   "metadata": {},
   "source": [
    "* No podemos rechazar la hipotesis Nula: No podemos decir que haya una diferencia de significancia estadistica.\n",
    "* Con respecto a la tamaño relativo del grupo B hay perdida de 2.3 % muy pequeño a comparcion al grupo A"
   ]
  },
  {
   "cell_type": "markdown",
   "metadata": {},
   "source": [
    "### Toma una decisión basada en los resultados de la prueba. Las decisiones posibles son: 1. Parar la prueba, considerar a uno de los grupos como líder. 2. Parar la prueba, concluir que no hay diferencia entre los grupos. 3. Continuar la prueba."
   ]
  },
  {
   "cell_type": "markdown",
   "metadata": {},
   "source": [
    "* Los datos filtrados muestra una diferencia estadistica significativa en la conversión entre los grupos, y podemos entender que ese grupo que tiene una mayor conversion es del grupo B con 14%, es decir hubo mayor usuario que hicieron pedidos.\n",
    "* Ni los datos sin procesar ni los filtrados muestra una diferencia estadística significativa en el tamaño promedio de los pedidos en ambos grupos.\n",
    "\n",
    "* La prueba no fue tan exitosa ya que no hay una diferencia significativa entre ambos grupo. Despues de filtrar los datos  del grupo B hubo una **mayor** conversion es decir hubo mayor usuario que visitaron y lograron comprar pero sus pedidos no fueron costoso.\n",
    "* Con respecto a la tamaño promedio relativo entre los grupos nos dice que el promedio de tamño del grupo B va cayendo dia a dia no hay un tendencia de subida.\n",
    "* Podemos concluir hasta el dia de hoy hay ligera diferencia en conversion mas en el grupo B pero en tamaño no hay mucha diferencia.Hasta el dia de hoy va disminuyendo en tamaño con un  \n",
    "\n",
    "**Podemos concluir la prueba.**"
   ]
  }
 ],
 "metadata": {
  "ExecuteTimeLog": [
   {
    "duration": 9,
    "start_time": "2024-11-02T15:00:01.971Z"
   },
   {
    "duration": 285,
    "start_time": "2024-11-02T15:00:11.244Z"
   },
   {
    "duration": 10,
    "start_time": "2024-11-02T15:00:13.313Z"
   },
   {
    "duration": 9,
    "start_time": "2024-11-02T15:00:22.348Z"
   },
   {
    "duration": 5,
    "start_time": "2024-11-02T15:00:37.239Z"
   },
   {
    "duration": 7,
    "start_time": "2024-11-02T15:00:40.500Z"
   },
   {
    "duration": 11,
    "start_time": "2024-11-02T15:19:13.319Z"
   },
   {
    "duration": 5,
    "start_time": "2024-11-02T15:19:21.036Z"
   },
   {
    "duration": 5,
    "start_time": "2024-11-02T15:19:38.034Z"
   },
   {
    "duration": 5,
    "start_time": "2024-11-02T15:20:03.570Z"
   },
   {
    "duration": 3,
    "start_time": "2024-11-02T15:20:49.290Z"
   },
   {
    "duration": 8,
    "start_time": "2024-11-02T15:24:20.269Z"
   },
   {
    "duration": 91,
    "start_time": "2024-11-02T15:25:36.065Z"
   },
   {
    "duration": 9,
    "start_time": "2024-11-02T15:25:42.604Z"
   },
   {
    "duration": 7,
    "start_time": "2024-11-02T15:25:54.170Z"
   },
   {
    "duration": 3,
    "start_time": "2024-11-02T15:26:12.547Z"
   },
   {
    "duration": 7,
    "start_time": "2024-11-02T15:26:13.099Z"
   },
   {
    "duration": 7,
    "start_time": "2024-11-02T15:26:13.793Z"
   },
   {
    "duration": 9,
    "start_time": "2024-11-02T15:26:17.402Z"
   },
   {
    "duration": 6,
    "start_time": "2024-11-02T15:26:29.892Z"
   },
   {
    "duration": 3,
    "start_time": "2024-11-02T15:29:20.703Z"
   },
   {
    "duration": 8,
    "start_time": "2024-11-02T15:29:58.402Z"
   },
   {
    "duration": 7,
    "start_time": "2024-11-02T15:30:28.614Z"
   },
   {
    "duration": 462,
    "start_time": "2024-11-02T15:50:55.636Z"
   },
   {
    "duration": 4,
    "start_time": "2024-11-02T15:51:01.315Z"
   },
   {
    "duration": 4,
    "start_time": "2024-11-02T15:51:46.682Z"
   },
   {
    "duration": 9,
    "start_time": "2024-11-02T16:41:36.108Z"
   },
   {
    "duration": 14,
    "start_time": "2024-11-02T16:41:43.244Z"
   },
   {
    "duration": 10,
    "start_time": "2024-11-02T16:46:39.532Z"
   },
   {
    "duration": 7,
    "start_time": "2024-11-02T16:46:43.508Z"
   },
   {
    "duration": 5,
    "start_time": "2024-11-02T16:46:51.549Z"
   },
   {
    "duration": 10,
    "start_time": "2024-11-02T16:47:04.051Z"
   },
   {
    "duration": 8,
    "start_time": "2024-11-02T16:48:10.873Z"
   },
   {
    "duration": 6,
    "start_time": "2024-11-02T16:48:54.076Z"
   },
   {
    "duration": 12,
    "start_time": "2024-11-02T16:49:12.888Z"
   },
   {
    "duration": 20,
    "start_time": "2024-11-02T16:49:46.053Z"
   },
   {
    "duration": 10,
    "start_time": "2024-11-02T16:49:58.723Z"
   },
   {
    "duration": 5,
    "start_time": "2024-11-02T16:50:34.427Z"
   },
   {
    "duration": 5,
    "start_time": "2024-11-02T16:50:42.881Z"
   },
   {
    "duration": 5,
    "start_time": "2024-11-02T16:50:47.697Z"
   },
   {
    "duration": 4,
    "start_time": "2024-11-02T16:51:01.328Z"
   },
   {
    "duration": 11,
    "start_time": "2024-11-02T16:51:22.476Z"
   },
   {
    "duration": 5,
    "start_time": "2024-11-02T16:51:35.181Z"
   },
   {
    "duration": 6,
    "start_time": "2024-11-02T16:51:42.188Z"
   },
   {
    "duration": 6,
    "start_time": "2024-11-02T16:51:58.475Z"
   },
   {
    "duration": 11,
    "start_time": "2024-11-02T16:53:07.714Z"
   },
   {
    "duration": 4,
    "start_time": "2024-11-02T16:56:17.766Z"
   },
   {
    "duration": 6,
    "start_time": "2024-11-02T16:56:46.122Z"
   },
   {
    "duration": 12,
    "start_time": "2024-11-02T16:57:19.341Z"
   },
   {
    "duration": 10,
    "start_time": "2024-11-02T16:58:05.358Z"
   },
   {
    "duration": 114,
    "start_time": "2024-11-02T16:59:43.963Z"
   },
   {
    "duration": 9,
    "start_time": "2024-11-02T16:59:54.781Z"
   },
   {
    "duration": 51,
    "start_time": "2024-11-02T17:00:43.155Z"
   },
   {
    "duration": 9,
    "start_time": "2024-11-02T17:00:51.012Z"
   },
   {
    "duration": 5,
    "start_time": "2024-11-02T17:01:10.604Z"
   },
   {
    "duration": 5,
    "start_time": "2024-11-02T17:01:16.424Z"
   },
   {
    "duration": 48,
    "start_time": "2024-11-02T17:01:20.871Z"
   },
   {
    "duration": 9,
    "start_time": "2024-11-02T17:01:26.788Z"
   },
   {
    "duration": 12,
    "start_time": "2024-11-02T17:34:18.193Z"
   },
   {
    "duration": 326,
    "start_time": "2024-11-02T19:34:15.164Z"
   },
   {
    "duration": 10,
    "start_time": "2024-11-02T19:34:15.494Z"
   },
   {
    "duration": 10,
    "start_time": "2024-11-02T19:34:15.506Z"
   },
   {
    "duration": 12,
    "start_time": "2024-11-02T19:34:18.853Z"
   },
   {
    "duration": 10,
    "start_time": "2024-11-02T19:34:21.350Z"
   },
   {
    "duration": 5,
    "start_time": "2024-11-02T19:37:32.611Z"
   },
   {
    "duration": 4,
    "start_time": "2024-11-02T19:37:34.994Z"
   },
   {
    "duration": 20,
    "start_time": "2024-11-02T19:37:37.869Z"
   },
   {
    "duration": 10,
    "start_time": "2024-11-02T19:37:49.697Z"
   },
   {
    "duration": 7,
    "start_time": "2024-11-02T20:05:11.122Z"
   },
   {
    "duration": 18,
    "start_time": "2024-11-02T20:05:32.569Z"
   },
   {
    "duration": 4,
    "start_time": "2024-11-02T20:18:08.052Z"
   },
   {
    "duration": 6,
    "start_time": "2024-11-02T20:19:18.881Z"
   },
   {
    "duration": 9,
    "start_time": "2024-11-02T20:19:25.473Z"
   },
   {
    "duration": 177,
    "start_time": "2024-11-02T20:20:22.155Z"
   },
   {
    "duration": 13,
    "start_time": "2024-11-02T20:20:30.998Z"
   },
   {
    "duration": 8,
    "start_time": "2024-11-02T20:20:33.949Z"
   },
   {
    "duration": 12,
    "start_time": "2024-11-02T20:20:37.590Z"
   },
   {
    "duration": 11,
    "start_time": "2024-11-02T20:21:19.820Z"
   },
   {
    "duration": 8,
    "start_time": "2024-11-02T20:21:25.082Z"
   },
   {
    "duration": 13,
    "start_time": "2024-11-02T20:21:27.363Z"
   },
   {
    "duration": 3,
    "start_time": "2024-11-02T20:21:43.693Z"
   },
   {
    "duration": 2,
    "start_time": "2024-11-02T20:21:47.166Z"
   },
   {
    "duration": 3,
    "start_time": "2024-11-02T20:23:30.187Z"
   },
   {
    "duration": 2,
    "start_time": "2024-11-02T20:23:56.723Z"
   },
   {
    "duration": 8,
    "start_time": "2024-11-02T20:35:51.758Z"
   },
   {
    "duration": 5,
    "start_time": "2024-11-02T20:44:54.113Z"
   },
   {
    "duration": 2,
    "start_time": "2024-11-02T20:46:26.984Z"
   },
   {
    "duration": 15,
    "start_time": "2024-11-02T20:46:27.404Z"
   },
   {
    "duration": 10,
    "start_time": "2024-11-02T20:46:28.169Z"
   },
   {
    "duration": 3,
    "start_time": "2024-11-02T20:46:28.347Z"
   },
   {
    "duration": 10,
    "start_time": "2024-11-02T20:46:28.810Z"
   },
   {
    "duration": 3,
    "start_time": "2024-11-02T20:46:29.488Z"
   },
   {
    "duration": 8,
    "start_time": "2024-11-02T20:46:30.367Z"
   },
   {
    "duration": 4,
    "start_time": "2024-11-02T20:46:34.121Z"
   },
   {
    "duration": 3,
    "start_time": "2024-11-02T20:46:45.910Z"
   },
   {
    "duration": 4,
    "start_time": "2024-11-02T20:46:56.497Z"
   },
   {
    "duration": 14,
    "start_time": "2024-11-02T20:47:04.122Z"
   },
   {
    "duration": 9,
    "start_time": "2024-11-02T20:47:29.184Z"
   },
   {
    "duration": 13,
    "start_time": "2024-11-02T20:47:32.687Z"
   },
   {
    "duration": 11,
    "start_time": "2024-11-02T20:48:25.690Z"
   },
   {
    "duration": 12,
    "start_time": "2024-11-02T20:49:56.988Z"
   },
   {
    "duration": 144,
    "start_time": "2024-11-02T20:50:06.053Z"
   },
   {
    "duration": 72,
    "start_time": "2024-11-02T20:51:21.441Z"
   },
   {
    "duration": 32,
    "start_time": "2024-11-02T20:51:26.092Z"
   },
   {
    "duration": 30,
    "start_time": "2024-11-02T20:51:41.288Z"
   },
   {
    "duration": 30,
    "start_time": "2024-11-02T20:51:50.650Z"
   },
   {
    "duration": 31,
    "start_time": "2024-11-02T20:52:26.742Z"
   },
   {
    "duration": 32,
    "start_time": "2024-11-02T21:01:20.765Z"
   },
   {
    "duration": 9,
    "start_time": "2024-11-02T21:02:09.456Z"
   },
   {
    "duration": 32,
    "start_time": "2024-11-02T21:04:14.292Z"
   },
   {
    "duration": 30,
    "start_time": "2024-11-02T21:04:23.661Z"
   },
   {
    "duration": 30,
    "start_time": "2024-11-02T21:04:38.739Z"
   },
   {
    "duration": 30,
    "start_time": "2024-11-02T21:04:51.361Z"
   },
   {
    "duration": 32,
    "start_time": "2024-11-02T21:08:21.996Z"
   },
   {
    "duration": 29,
    "start_time": "2024-11-02T21:08:29.719Z"
   },
   {
    "duration": 32,
    "start_time": "2024-11-02T21:09:21.439Z"
   },
   {
    "duration": 9,
    "start_time": "2024-11-02T21:09:25.326Z"
   },
   {
    "duration": 10,
    "start_time": "2024-11-02T21:09:29.064Z"
   },
   {
    "duration": 31,
    "start_time": "2024-11-02T21:09:48.280Z"
   },
   {
    "duration": 2,
    "start_time": "2024-11-02T21:10:43.986Z"
   },
   {
    "duration": 15,
    "start_time": "2024-11-02T21:10:47.243Z"
   },
   {
    "duration": 10,
    "start_time": "2024-11-02T21:10:49.449Z"
   },
   {
    "duration": 2,
    "start_time": "2024-11-02T21:37:01.923Z"
   },
   {
    "duration": 15,
    "start_time": "2024-11-02T21:37:04.380Z"
   },
   {
    "duration": 8,
    "start_time": "2024-11-02T21:37:05.975Z"
   },
   {
    "duration": 3,
    "start_time": "2024-11-02T21:37:06.344Z"
   },
   {
    "duration": 11,
    "start_time": "2024-11-02T21:37:07.115Z"
   },
   {
    "duration": 9,
    "start_time": "2024-11-02T21:37:07.459Z"
   },
   {
    "duration": 10,
    "start_time": "2024-11-02T21:37:08.280Z"
   },
   {
    "duration": 10,
    "start_time": "2024-11-02T21:43:07.831Z"
   },
   {
    "duration": 3,
    "start_time": "2024-11-02T21:43:08.099Z"
   },
   {
    "duration": 11,
    "start_time": "2024-11-02T21:43:09.520Z"
   },
   {
    "duration": 16,
    "start_time": "2024-11-02T21:43:10.404Z"
   },
   {
    "duration": 33,
    "start_time": "2024-11-02T21:43:11.138Z"
   },
   {
    "duration": 11,
    "start_time": "2024-11-02T21:43:25.758Z"
   },
   {
    "duration": 8,
    "start_time": "2024-11-02T21:43:31.003Z"
   },
   {
    "duration": 55,
    "start_time": "2024-11-02T21:43:43.161Z"
   },
   {
    "duration": 32,
    "start_time": "2024-11-02T21:44:00.665Z"
   },
   {
    "duration": 10,
    "start_time": "2024-11-02T21:45:20.459Z"
   },
   {
    "duration": 8,
    "start_time": "2024-11-02T21:45:31.677Z"
   },
   {
    "duration": 4,
    "start_time": "2024-11-02T21:46:33.814Z"
   },
   {
    "duration": 5,
    "start_time": "2024-11-02T21:46:59.321Z"
   },
   {
    "duration": 5,
    "start_time": "2024-11-02T21:51:33.429Z"
   },
   {
    "duration": 5,
    "start_time": "2024-11-02T21:54:37.003Z"
   },
   {
    "duration": 6,
    "start_time": "2024-11-02T21:54:43.827Z"
   },
   {
    "duration": 3,
    "start_time": "2024-11-02T22:02:37.625Z"
   },
   {
    "duration": 2,
    "start_time": "2024-11-02T22:02:45.883Z"
   },
   {
    "duration": 14,
    "start_time": "2024-11-02T22:02:46.892Z"
   },
   {
    "duration": 8,
    "start_time": "2024-11-02T22:02:49.162Z"
   },
   {
    "duration": 7,
    "start_time": "2024-11-02T22:02:49.783Z"
   },
   {
    "duration": 5,
    "start_time": "2024-11-02T22:02:50.141Z"
   },
   {
    "duration": 10,
    "start_time": "2024-11-02T22:02:50.597Z"
   },
   {
    "duration": 8,
    "start_time": "2024-11-02T22:02:50.784Z"
   },
   {
    "duration": 9,
    "start_time": "2024-11-02T22:02:51.016Z"
   },
   {
    "duration": 6,
    "start_time": "2024-11-02T22:02:51.278Z"
   },
   {
    "duration": 8,
    "start_time": "2024-11-02T22:02:52.301Z"
   },
   {
    "duration": 4,
    "start_time": "2024-11-02T22:02:52.483Z"
   },
   {
    "duration": 4,
    "start_time": "2024-11-02T22:02:52.836Z"
   },
   {
    "duration": 5,
    "start_time": "2024-11-02T22:22:58.641Z"
   },
   {
    "duration": 11,
    "start_time": "2024-11-02T22:23:28.712Z"
   },
   {
    "duration": 4,
    "start_time": "2024-11-02T22:26:14.533Z"
   },
   {
    "duration": 6,
    "start_time": "2024-11-02T22:28:05.557Z"
   },
   {
    "duration": 11,
    "start_time": "2024-11-02T22:28:20.966Z"
   },
   {
    "duration": 6,
    "start_time": "2024-11-02T22:28:42.612Z"
   },
   {
    "duration": 7,
    "start_time": "2024-11-02T22:29:37.999Z"
   },
   {
    "duration": 17,
    "start_time": "2024-11-02T22:31:30.022Z"
   },
   {
    "duration": 5,
    "start_time": "2024-11-02T22:32:21.577Z"
   },
   {
    "duration": 6,
    "start_time": "2024-11-02T22:32:24.313Z"
   },
   {
    "duration": 7,
    "start_time": "2024-11-02T22:32:32.007Z"
   },
   {
    "duration": 11,
    "start_time": "2024-11-02T22:32:43.396Z"
   },
   {
    "duration": 5,
    "start_time": "2024-11-02T22:33:29.470Z"
   },
   {
    "duration": 10,
    "start_time": "2024-11-02T22:33:37.655Z"
   },
   {
    "duration": 5,
    "start_time": "2024-11-02T22:35:00.036Z"
   },
   {
    "duration": 6,
    "start_time": "2024-11-02T22:35:05.747Z"
   },
   {
    "duration": 5,
    "start_time": "2024-11-02T22:35:30.955Z"
   },
   {
    "duration": 7,
    "start_time": "2024-11-02T22:35:36.315Z"
   },
   {
    "duration": 4,
    "start_time": "2024-11-02T22:39:03.365Z"
   },
   {
    "duration": 4,
    "start_time": "2024-11-02T22:39:17.867Z"
   },
   {
    "duration": 4,
    "start_time": "2024-11-02T22:41:47.482Z"
   },
   {
    "duration": 12,
    "start_time": "2024-11-02T22:41:58.486Z"
   },
   {
    "duration": 11,
    "start_time": "2024-11-02T22:46:15.850Z"
   },
   {
    "duration": 435,
    "start_time": "2024-11-02T22:46:42.925Z"
   },
   {
    "duration": 6,
    "start_time": "2024-11-02T22:47:02.846Z"
   },
   {
    "duration": 13,
    "start_time": "2024-11-02T22:47:50.038Z"
   },
   {
    "duration": 6,
    "start_time": "2024-11-02T22:47:55.044Z"
   },
   {
    "duration": 11,
    "start_time": "2024-11-02T22:52:37.432Z"
   },
   {
    "duration": 7,
    "start_time": "2024-11-02T22:55:49.443Z"
   },
   {
    "duration": 7,
    "start_time": "2024-11-02T22:55:55.320Z"
   },
   {
    "duration": 11,
    "start_time": "2024-11-02T22:56:02.970Z"
   },
   {
    "duration": 13,
    "start_time": "2024-11-02T23:00:47.583Z"
   },
   {
    "duration": 7,
    "start_time": "2024-11-02T23:01:48.904Z"
   },
   {
    "duration": 130,
    "start_time": "2024-11-02T23:02:01.404Z"
   },
   {
    "duration": 4,
    "start_time": "2024-11-02T23:02:16.229Z"
   },
   {
    "duration": 5,
    "start_time": "2024-11-02T23:04:37.197Z"
   },
   {
    "duration": 11,
    "start_time": "2024-11-02T23:05:12.061Z"
   },
   {
    "duration": 120,
    "start_time": "2024-11-02T23:05:32.236Z"
   },
   {
    "duration": 12,
    "start_time": "2024-11-02T23:06:02.184Z"
   },
   {
    "duration": 113,
    "start_time": "2024-11-02T23:06:07.628Z"
   },
   {
    "duration": 11,
    "start_time": "2024-11-02T23:06:43.063Z"
   },
   {
    "duration": 7,
    "start_time": "2024-11-02T23:07:02.701Z"
   },
   {
    "duration": 33,
    "start_time": "2024-11-02T23:07:14.055Z"
   },
   {
    "duration": 13,
    "start_time": "2024-11-02T23:07:50.942Z"
   },
   {
    "duration": 7,
    "start_time": "2024-11-02T23:17:55.898Z"
   },
   {
    "duration": 9,
    "start_time": "2024-11-02T23:18:09.284Z"
   },
   {
    "duration": 7,
    "start_time": "2024-11-02T23:18:41.839Z"
   },
   {
    "duration": 7,
    "start_time": "2024-11-02T23:18:51.563Z"
   },
   {
    "duration": 9,
    "start_time": "2024-11-02T23:19:03.909Z"
   },
   {
    "duration": 10,
    "start_time": "2024-11-02T23:19:16.885Z"
   },
   {
    "duration": 9,
    "start_time": "2024-11-02T23:19:33.416Z"
   },
   {
    "duration": 12,
    "start_time": "2024-11-02T23:19:42.063Z"
   },
   {
    "duration": 39,
    "start_time": "2024-11-02T23:19:55.158Z"
   },
   {
    "duration": 6,
    "start_time": "2024-11-02T23:20:04.889Z"
   },
   {
    "duration": 12,
    "start_time": "2024-11-02T23:20:13.612Z"
   },
   {
    "duration": 14,
    "start_time": "2024-11-02T23:20:27.057Z"
   },
   {
    "duration": 6,
    "start_time": "2024-11-02T23:21:18.316Z"
   },
   {
    "duration": 5,
    "start_time": "2024-11-02T23:21:30.248Z"
   },
   {
    "duration": 6,
    "start_time": "2024-11-02T23:21:58.092Z"
   },
   {
    "duration": 4,
    "start_time": "2024-11-02T23:22:32.226Z"
   },
   {
    "duration": 177,
    "start_time": "2024-11-02T23:24:41.316Z"
   },
   {
    "duration": 14,
    "start_time": "2024-11-02T23:24:50.186Z"
   },
   {
    "duration": 8,
    "start_time": "2024-11-02T23:25:35.548Z"
   },
   {
    "duration": 34,
    "start_time": "2024-11-02T23:25:54.741Z"
   },
   {
    "duration": 15,
    "start_time": "2024-11-02T23:26:20.549Z"
   },
   {
    "duration": 14,
    "start_time": "2024-11-02T23:26:31.386Z"
   },
   {
    "duration": 7,
    "start_time": "2024-11-02T23:26:54.159Z"
   },
   {
    "duration": 14,
    "start_time": "2024-11-02T23:27:08.703Z"
   },
   {
    "duration": 9,
    "start_time": "2024-11-02T23:27:23.161Z"
   },
   {
    "duration": 6,
    "start_time": "2024-11-02T23:28:09.729Z"
   },
   {
    "duration": 34,
    "start_time": "2024-11-02T23:28:23.469Z"
   },
   {
    "duration": 8,
    "start_time": "2024-11-02T23:28:28.610Z"
   },
   {
    "duration": 9,
    "start_time": "2024-11-02T23:28:32.277Z"
   },
   {
    "duration": 9,
    "start_time": "2024-11-02T23:32:45.175Z"
   },
   {
    "duration": 4,
    "start_time": "2024-11-02T23:34:23.859Z"
   },
   {
    "duration": 10,
    "start_time": "2024-11-02T23:34:29.729Z"
   },
   {
    "duration": 13,
    "start_time": "2024-11-02T23:37:19.749Z"
   },
   {
    "duration": 7,
    "start_time": "2024-11-02T23:37:39.853Z"
   },
   {
    "duration": 9,
    "start_time": "2024-11-02T23:38:29.759Z"
   },
   {
    "duration": 35,
    "start_time": "2024-11-02T23:38:49.948Z"
   },
   {
    "duration": 34,
    "start_time": "2024-11-02T23:39:38.162Z"
   },
   {
    "duration": 8,
    "start_time": "2024-11-02T23:39:48.447Z"
   },
   {
    "duration": 34,
    "start_time": "2024-11-02T23:43:14.855Z"
   },
   {
    "duration": 35,
    "start_time": "2024-11-02T23:50:25.465Z"
   },
   {
    "duration": 8,
    "start_time": "2024-11-02T23:57:21.136Z"
   },
   {
    "duration": 16,
    "start_time": "2024-11-02T23:57:44.044Z"
   },
   {
    "duration": 10,
    "start_time": "2024-11-02T23:58:07.486Z"
   },
   {
    "duration": 6,
    "start_time": "2024-11-02T23:59:10.910Z"
   },
   {
    "duration": 13,
    "start_time": "2024-11-02T23:59:16.794Z"
   },
   {
    "duration": 8,
    "start_time": "2024-11-02T23:59:29.982Z"
   },
   {
    "duration": 2,
    "start_time": "2024-11-03T00:02:39.104Z"
   },
   {
    "duration": 7,
    "start_time": "2024-11-03T00:02:48.003Z"
   },
   {
    "duration": 7,
    "start_time": "2024-11-03T00:02:55.858Z"
   },
   {
    "duration": 18,
    "start_time": "2024-11-03T00:03:42.291Z"
   },
   {
    "duration": 8,
    "start_time": "2024-11-03T00:03:54.149Z"
   },
   {
    "duration": 19,
    "start_time": "2024-11-03T00:04:13.045Z"
   },
   {
    "duration": 8,
    "start_time": "2024-11-03T00:04:21.020Z"
   },
   {
    "duration": 5,
    "start_time": "2024-11-03T00:06:40.818Z"
   },
   {
    "duration": 10,
    "start_time": "2024-11-03T00:06:47.915Z"
   },
   {
    "duration": 10,
    "start_time": "2024-11-03T00:07:31.022Z"
   },
   {
    "duration": 13,
    "start_time": "2024-11-03T00:07:54.052Z"
   },
   {
    "duration": 8,
    "start_time": "2024-11-03T00:23:59.142Z"
   },
   {
    "duration": 9,
    "start_time": "2024-11-03T00:24:07.777Z"
   },
   {
    "duration": 273,
    "start_time": "2024-11-03T15:06:38.265Z"
   },
   {
    "duration": 22,
    "start_time": "2024-11-03T15:06:38.918Z"
   },
   {
    "duration": 3,
    "start_time": "2024-11-03T15:08:31.488Z"
   },
   {
    "duration": 11,
    "start_time": "2024-11-03T15:08:31.839Z"
   },
   {
    "duration": 10,
    "start_time": "2024-11-03T15:08:32.591Z"
   },
   {
    "duration": 2,
    "start_time": "2024-11-03T15:08:32.774Z"
   },
   {
    "duration": 7,
    "start_time": "2024-11-03T15:08:32.961Z"
   },
   {
    "duration": 12,
    "start_time": "2024-11-03T15:08:33.339Z"
   },
   {
    "duration": 9,
    "start_time": "2024-11-03T15:08:33.516Z"
   },
   {
    "duration": 9,
    "start_time": "2024-11-03T15:08:33.709Z"
   },
   {
    "duration": 6,
    "start_time": "2024-11-03T15:08:33.900Z"
   },
   {
    "duration": 8,
    "start_time": "2024-11-03T15:08:34.287Z"
   },
   {
    "duration": 4,
    "start_time": "2024-11-03T15:08:34.513Z"
   },
   {
    "duration": 4,
    "start_time": "2024-11-03T15:08:34.749Z"
   },
   {
    "duration": 6,
    "start_time": "2024-11-03T15:08:35.379Z"
   },
   {
    "duration": 12,
    "start_time": "2024-11-03T15:08:35.637Z"
   },
   {
    "duration": 5,
    "start_time": "2024-11-03T15:23:33.160Z"
   },
   {
    "duration": 12,
    "start_time": "2024-11-03T15:23:40.745Z"
   },
   {
    "duration": 11,
    "start_time": "2024-11-03T15:27:29.158Z"
   },
   {
    "duration": 6,
    "start_time": "2024-11-03T15:28:01.549Z"
   },
   {
    "duration": 5,
    "start_time": "2024-11-03T15:29:17.097Z"
   },
   {
    "duration": 86,
    "start_time": "2024-11-03T15:37:44.246Z"
   },
   {
    "duration": 11,
    "start_time": "2024-11-03T15:38:41.240Z"
   },
   {
    "duration": 11,
    "start_time": "2024-11-03T15:39:16.655Z"
   },
   {
    "duration": 541,
    "start_time": "2024-11-03T15:40:10.798Z"
   },
   {
    "duration": 14,
    "start_time": "2024-11-03T15:41:50.807Z"
   },
   {
    "duration": 7,
    "start_time": "2024-11-03T15:42:09.183Z"
   },
   {
    "duration": 4,
    "start_time": "2024-11-03T15:43:01.799Z"
   },
   {
    "duration": 7,
    "start_time": "2024-11-03T15:43:18.830Z"
   },
   {
    "duration": 10,
    "start_time": "2024-11-03T15:43:29.383Z"
   },
   {
    "duration": 9,
    "start_time": "2024-11-03T15:43:44.560Z"
   },
   {
    "duration": 10,
    "start_time": "2024-11-03T15:44:08.375Z"
   },
   {
    "duration": 11,
    "start_time": "2024-11-03T15:45:03.217Z"
   },
   {
    "duration": 10,
    "start_time": "2024-11-03T15:45:22.733Z"
   },
   {
    "duration": 117,
    "start_time": "2024-11-03T15:45:46.649Z"
   },
   {
    "duration": 11,
    "start_time": "2024-11-03T15:46:08.087Z"
   },
   {
    "duration": 12,
    "start_time": "2024-11-03T15:47:12.970Z"
   },
   {
    "duration": 10,
    "start_time": "2024-11-03T15:47:25.700Z"
   },
   {
    "duration": 11,
    "start_time": "2024-11-03T15:48:06.583Z"
   },
   {
    "duration": 11,
    "start_time": "2024-11-03T15:48:12.614Z"
   },
   {
    "duration": 7,
    "start_time": "2024-11-03T15:49:35.130Z"
   },
   {
    "duration": 9,
    "start_time": "2024-11-03T15:49:50.770Z"
   },
   {
    "duration": 8,
    "start_time": "2024-11-03T15:50:13.801Z"
   },
   {
    "duration": 8,
    "start_time": "2024-11-03T15:50:39.859Z"
   },
   {
    "duration": 8,
    "start_time": "2024-11-03T15:52:01.696Z"
   },
   {
    "duration": 4,
    "start_time": "2024-11-03T15:54:57.034Z"
   },
   {
    "duration": 6,
    "start_time": "2024-11-03T15:55:03.659Z"
   },
   {
    "duration": 7,
    "start_time": "2024-11-03T15:55:19.137Z"
   },
   {
    "duration": 6,
    "start_time": "2024-11-03T15:55:30.879Z"
   },
   {
    "duration": 6,
    "start_time": "2024-11-03T15:55:39.708Z"
   },
   {
    "duration": 7,
    "start_time": "2024-11-03T15:56:06.927Z"
   },
   {
    "duration": 317,
    "start_time": "2024-11-03T15:56:26.084Z"
   },
   {
    "duration": 7,
    "start_time": "2024-11-03T15:56:44.710Z"
   },
   {
    "duration": 9,
    "start_time": "2024-11-03T15:56:57.038Z"
   },
   {
    "duration": 7,
    "start_time": "2024-11-03T15:57:01.386Z"
   },
   {
    "duration": 10,
    "start_time": "2024-11-03T15:57:14.287Z"
   },
   {
    "duration": 16,
    "start_time": "2024-11-03T16:01:19.130Z"
   },
   {
    "duration": 16,
    "start_time": "2024-11-03T16:01:26.404Z"
   },
   {
    "duration": 11,
    "start_time": "2024-11-03T16:03:19.137Z"
   },
   {
    "duration": 9,
    "start_time": "2024-11-03T16:04:21.891Z"
   },
   {
    "duration": 11,
    "start_time": "2024-11-03T16:04:28.966Z"
   },
   {
    "duration": 22,
    "start_time": "2024-11-03T16:05:13.689Z"
   },
   {
    "duration": 15,
    "start_time": "2024-11-03T16:06:24.280Z"
   },
   {
    "duration": 18,
    "start_time": "2024-11-03T16:14:35.325Z"
   },
   {
    "duration": 4,
    "start_time": "2024-11-03T17:22:03.698Z"
   },
   {
    "duration": 12,
    "start_time": "2024-11-03T17:30:08.196Z"
   },
   {
    "duration": 14,
    "start_time": "2024-11-03T17:30:35.082Z"
   },
   {
    "duration": 18,
    "start_time": "2024-11-03T17:30:48.771Z"
   },
   {
    "duration": 12,
    "start_time": "2024-11-03T17:31:12.024Z"
   },
   {
    "duration": 20,
    "start_time": "2024-11-03T17:31:57.208Z"
   },
   {
    "duration": 15,
    "start_time": "2024-11-03T17:33:17.019Z"
   },
   {
    "duration": 379,
    "start_time": "2024-11-03T17:33:32.676Z"
   },
   {
    "duration": 123,
    "start_time": "2024-11-03T17:33:58.446Z"
   },
   {
    "duration": 19,
    "start_time": "2024-11-03T17:34:04.513Z"
   },
   {
    "duration": 16,
    "start_time": "2024-11-03T17:34:21.047Z"
   },
   {
    "duration": 16,
    "start_time": "2024-11-03T17:35:06.852Z"
   },
   {
    "duration": 11,
    "start_time": "2024-11-03T17:37:27.447Z"
   },
   {
    "duration": 18,
    "start_time": "2024-11-03T17:37:37.579Z"
   },
   {
    "duration": 25,
    "start_time": "2024-11-03T17:47:30.589Z"
   },
   {
    "duration": 16,
    "start_time": "2024-11-03T17:47:39.713Z"
   },
   {
    "duration": 18,
    "start_time": "2024-11-03T17:47:47.113Z"
   },
   {
    "duration": 337,
    "start_time": "2024-11-03T20:07:29.122Z"
   },
   {
    "duration": 23,
    "start_time": "2024-11-03T20:07:29.492Z"
   },
   {
    "duration": 10,
    "start_time": "2024-11-03T20:07:30.612Z"
   },
   {
    "duration": 3,
    "start_time": "2024-11-03T20:07:31.242Z"
   },
   {
    "duration": 7,
    "start_time": "2024-11-03T20:07:31.476Z"
   },
   {
    "duration": 14,
    "start_time": "2024-11-03T20:07:31.864Z"
   },
   {
    "duration": 10,
    "start_time": "2024-11-03T20:07:32.030Z"
   },
   {
    "duration": 12,
    "start_time": "2024-11-03T20:07:32.213Z"
   },
   {
    "duration": 7,
    "start_time": "2024-11-03T20:07:32.409Z"
   },
   {
    "duration": 12,
    "start_time": "2024-11-03T20:07:32.810Z"
   },
   {
    "duration": 3,
    "start_time": "2024-11-03T20:07:33.032Z"
   },
   {
    "duration": 5,
    "start_time": "2024-11-03T20:07:33.237Z"
   },
   {
    "duration": 6,
    "start_time": "2024-11-03T20:07:34.218Z"
   },
   {
    "duration": 18,
    "start_time": "2024-11-03T20:07:34.772Z"
   },
   {
    "duration": 20,
    "start_time": "2024-11-03T20:07:47.296Z"
   },
   {
    "duration": 16,
    "start_time": "2024-11-03T20:07:52.887Z"
   },
   {
    "duration": 588,
    "start_time": "2024-11-03T20:08:54.866Z"
   },
   {
    "duration": 9,
    "start_time": "2024-11-03T20:10:00.933Z"
   },
   {
    "duration": 16,
    "start_time": "2024-11-03T20:10:40.882Z"
   },
   {
    "duration": 12,
    "start_time": "2024-11-03T20:11:08.255Z"
   },
   {
    "duration": 4,
    "start_time": "2024-11-03T20:11:20.644Z"
   },
   {
    "duration": 58,
    "start_time": "2024-11-03T20:11:26.486Z"
   },
   {
    "duration": 5,
    "start_time": "2024-11-03T20:11:33.526Z"
   },
   {
    "duration": 5,
    "start_time": "2024-11-03T20:25:24.105Z"
   },
   {
    "duration": 10,
    "start_time": "2024-11-03T20:28:21.938Z"
   },
   {
    "duration": 14,
    "start_time": "2024-11-03T20:29:35.519Z"
   },
   {
    "duration": 11,
    "start_time": "2024-11-03T20:29:47.056Z"
   },
   {
    "duration": 10,
    "start_time": "2024-11-03T20:29:58.270Z"
   },
   {
    "duration": 11,
    "start_time": "2024-11-03T20:31:28.068Z"
   },
   {
    "duration": 6,
    "start_time": "2024-11-03T20:39:08.690Z"
   },
   {
    "duration": 142,
    "start_time": "2024-11-03T20:46:18.609Z"
   },
   {
    "duration": 152,
    "start_time": "2024-11-03T20:46:28.691Z"
   },
   {
    "duration": 2230,
    "start_time": "2024-11-03T20:53:50.659Z"
   },
   {
    "duration": 3,
    "start_time": "2024-11-03T20:54:23.115Z"
   },
   {
    "duration": 298,
    "start_time": "2024-11-03T20:54:31.519Z"
   },
   {
    "duration": 293,
    "start_time": "2024-11-03T20:56:41.744Z"
   },
   {
    "duration": 297,
    "start_time": "2024-11-03T20:57:31.938Z"
   },
   {
    "duration": 292,
    "start_time": "2024-11-03T20:58:05.322Z"
   },
   {
    "duration": 356,
    "start_time": "2024-11-03T21:02:06.871Z"
   },
   {
    "duration": 301,
    "start_time": "2024-11-03T21:02:59.662Z"
   },
   {
    "duration": 295,
    "start_time": "2024-11-03T21:03:31.876Z"
   },
   {
    "duration": 313,
    "start_time": "2024-11-03T21:03:54.297Z"
   },
   {
    "duration": 294,
    "start_time": "2024-11-03T21:06:20.318Z"
   },
   {
    "duration": 13,
    "start_time": "2024-11-03T21:07:22.901Z"
   },
   {
    "duration": 294,
    "start_time": "2024-11-03T21:08:55.245Z"
   },
   {
    "duration": 8,
    "start_time": "2024-11-03T21:09:18.363Z"
   },
   {
    "duration": 5,
    "start_time": "2024-11-03T21:09:49.366Z"
   },
   {
    "duration": 305,
    "start_time": "2024-11-03T21:10:56.355Z"
   },
   {
    "duration": 3,
    "start_time": "2024-11-03T21:11:10.964Z"
   },
   {
    "duration": 13,
    "start_time": "2024-11-03T21:11:11.300Z"
   },
   {
    "duration": 9,
    "start_time": "2024-11-03T21:11:12.031Z"
   },
   {
    "duration": 3,
    "start_time": "2024-11-03T21:11:12.211Z"
   },
   {
    "duration": 4,
    "start_time": "2024-11-03T21:11:12.390Z"
   },
   {
    "duration": 10,
    "start_time": "2024-11-03T21:11:12.762Z"
   },
   {
    "duration": 8,
    "start_time": "2024-11-03T21:11:12.941Z"
   },
   {
    "duration": 10,
    "start_time": "2024-11-03T21:11:13.122Z"
   },
   {
    "duration": 6,
    "start_time": "2024-11-03T21:11:13.310Z"
   },
   {
    "duration": 8,
    "start_time": "2024-11-03T21:11:13.708Z"
   },
   {
    "duration": 3,
    "start_time": "2024-11-03T21:11:13.903Z"
   },
   {
    "duration": 5,
    "start_time": "2024-11-03T21:11:14.106Z"
   },
   {
    "duration": 5,
    "start_time": "2024-11-03T21:11:14.689Z"
   },
   {
    "duration": 15,
    "start_time": "2024-11-03T21:11:14.891Z"
   },
   {
    "duration": 9,
    "start_time": "2024-11-03T21:11:15.912Z"
   },
   {
    "duration": 8,
    "start_time": "2024-11-03T21:11:16.308Z"
   },
   {
    "duration": 5,
    "start_time": "2024-11-03T21:11:16.703Z"
   },
   {
    "duration": 4,
    "start_time": "2024-11-03T21:11:16.917Z"
   },
   {
    "duration": 6,
    "start_time": "2024-11-03T21:11:18.044Z"
   },
   {
    "duration": 313,
    "start_time": "2024-11-03T21:11:18.266Z"
   },
   {
    "duration": 11,
    "start_time": "2024-11-03T21:11:40.288Z"
   },
   {
    "duration": 148,
    "start_time": "2024-11-03T21:12:12.725Z"
   },
   {
    "duration": 148,
    "start_time": "2024-11-03T21:12:23.466Z"
   },
   {
    "duration": 9,
    "start_time": "2024-11-03T21:12:32.434Z"
   },
   {
    "duration": 276,
    "start_time": "2024-11-03T21:12:39.473Z"
   },
   {
    "duration": 146,
    "start_time": "2024-11-03T21:12:53.278Z"
   },
   {
    "duration": 147,
    "start_time": "2024-11-03T21:13:03.175Z"
   },
   {
    "duration": 307,
    "start_time": "2024-11-03T21:13:52.162Z"
   },
   {
    "duration": 147,
    "start_time": "2024-11-03T21:14:10.015Z"
   },
   {
    "duration": 300,
    "start_time": "2024-11-03T21:14:19.129Z"
   },
   {
    "duration": 18,
    "start_time": "2024-11-03T21:17:59.409Z"
   },
   {
    "duration": 16,
    "start_time": "2024-11-03T21:18:15.804Z"
   },
   {
    "duration": 16,
    "start_time": "2024-11-03T21:18:34.592Z"
   },
   {
    "duration": 18,
    "start_time": "2024-11-03T21:18:54.739Z"
   },
   {
    "duration": 21,
    "start_time": "2024-11-03T21:19:11.779Z"
   },
   {
    "duration": 20,
    "start_time": "2024-11-03T21:19:19.709Z"
   },
   {
    "duration": 19,
    "start_time": "2024-11-03T21:19:27.425Z"
   },
   {
    "duration": 17,
    "start_time": "2024-11-03T21:19:37.056Z"
   },
   {
    "duration": 15,
    "start_time": "2024-11-03T21:19:45.545Z"
   },
   {
    "duration": 17,
    "start_time": "2024-11-03T21:20:03.740Z"
   },
   {
    "duration": 17,
    "start_time": "2024-11-03T21:20:10.111Z"
   },
   {
    "duration": 17,
    "start_time": "2024-11-03T21:21:04.913Z"
   },
   {
    "duration": 165,
    "start_time": "2024-11-03T21:21:18.214Z"
   },
   {
    "duration": 2119,
    "start_time": "2024-11-04T03:23:00.927Z"
   },
   {
    "duration": 22,
    "start_time": "2024-11-04T03:23:03.050Z"
   },
   {
    "duration": 8,
    "start_time": "2024-11-04T03:23:03.074Z"
   },
   {
    "duration": 2,
    "start_time": "2024-11-04T03:23:03.085Z"
   },
   {
    "duration": 5,
    "start_time": "2024-11-04T03:23:03.089Z"
   },
   {
    "duration": 10,
    "start_time": "2024-11-04T03:23:03.096Z"
   },
   {
    "duration": 8,
    "start_time": "2024-11-04T03:23:03.186Z"
   },
   {
    "duration": 9,
    "start_time": "2024-11-04T03:23:03.407Z"
   },
   {
    "duration": 7,
    "start_time": "2024-11-04T03:23:03.612Z"
   },
   {
    "duration": 8,
    "start_time": "2024-11-04T03:23:04.018Z"
   },
   {
    "duration": 5,
    "start_time": "2024-11-04T03:23:04.200Z"
   },
   {
    "duration": 6,
    "start_time": "2024-11-04T03:23:04.400Z"
   },
   {
    "duration": 6,
    "start_time": "2024-11-04T03:23:05.156Z"
   },
   {
    "duration": 17,
    "start_time": "2024-11-04T03:23:05.342Z"
   },
   {
    "duration": 10,
    "start_time": "2024-11-04T03:23:06.586Z"
   },
   {
    "duration": 10,
    "start_time": "2024-11-04T03:23:08.358Z"
   },
   {
    "duration": 4,
    "start_time": "2024-11-04T03:23:09.118Z"
   },
   {
    "duration": 5,
    "start_time": "2024-11-04T03:23:09.430Z"
   },
   {
    "duration": 5,
    "start_time": "2024-11-04T03:24:10.509Z"
   },
   {
    "duration": 11,
    "start_time": "2024-11-04T03:24:21.839Z"
   },
   {
    "duration": 7,
    "start_time": "2024-11-04T03:25:03.852Z"
   },
   {
    "duration": 10,
    "start_time": "2024-11-04T03:25:46.212Z"
   },
   {
    "duration": 8,
    "start_time": "2024-11-04T03:26:00.775Z"
   },
   {
    "duration": 10,
    "start_time": "2024-11-04T03:26:10.321Z"
   },
   {
    "duration": 15,
    "start_time": "2024-11-04T03:26:43.301Z"
   },
   {
    "duration": 9,
    "start_time": "2024-11-04T03:36:19.459Z"
   },
   {
    "duration": 10,
    "start_time": "2024-11-04T03:36:58.085Z"
   },
   {
    "duration": 11,
    "start_time": "2024-11-04T03:40:09.344Z"
   },
   {
    "duration": 11,
    "start_time": "2024-11-04T03:40:49.226Z"
   },
   {
    "duration": 11,
    "start_time": "2024-11-04T03:42:06.266Z"
   },
   {
    "duration": 9,
    "start_time": "2024-11-04T03:42:55.947Z"
   },
   {
    "duration": 10,
    "start_time": "2024-11-04T03:44:08.711Z"
   },
   {
    "duration": 10,
    "start_time": "2024-11-04T03:46:12.036Z"
   },
   {
    "duration": 11,
    "start_time": "2024-11-04T03:46:22.683Z"
   },
   {
    "duration": 10,
    "start_time": "2024-11-04T03:46:29.762Z"
   },
   {
    "duration": 10,
    "start_time": "2024-11-04T03:46:50.480Z"
   },
   {
    "duration": 11,
    "start_time": "2024-11-04T03:49:56.645Z"
   },
   {
    "duration": 10,
    "start_time": "2024-11-04T03:51:15.766Z"
   },
   {
    "duration": 326,
    "start_time": "2024-11-04T03:58:47.294Z"
   },
   {
    "duration": 305,
    "start_time": "2024-11-04T04:00:57.415Z"
   },
   {
    "duration": 11,
    "start_time": "2024-11-04T04:05:53.439Z"
   },
   {
    "duration": 344,
    "start_time": "2024-11-04T04:08:02.147Z"
   },
   {
    "duration": 12,
    "start_time": "2024-11-04T04:08:16.389Z"
   },
   {
    "duration": 4,
    "start_time": "2024-11-04T04:10:51.597Z"
   },
   {
    "duration": 12,
    "start_time": "2024-11-04T04:10:59.192Z"
   },
   {
    "duration": 13,
    "start_time": "2024-11-04T04:11:12.968Z"
   },
   {
    "duration": 187,
    "start_time": "2024-11-04T04:12:09.372Z"
   },
   {
    "duration": 169,
    "start_time": "2024-11-04T04:13:39.019Z"
   },
   {
    "duration": 2145,
    "start_time": "2024-11-04T14:27:47.216Z"
   },
   {
    "duration": 18,
    "start_time": "2024-11-04T14:27:49.363Z"
   },
   {
    "duration": 10,
    "start_time": "2024-11-04T14:27:50.219Z"
   },
   {
    "duration": 3,
    "start_time": "2024-11-04T14:27:50.572Z"
   },
   {
    "duration": 5,
    "start_time": "2024-11-04T14:27:51.037Z"
   },
   {
    "duration": 13,
    "start_time": "2024-11-04T14:27:52.012Z"
   },
   {
    "duration": 9,
    "start_time": "2024-11-04T14:27:52.876Z"
   },
   {
    "duration": 10,
    "start_time": "2024-11-04T14:27:53.789Z"
   },
   {
    "duration": 7,
    "start_time": "2024-11-04T14:27:53.987Z"
   },
   {
    "duration": 9,
    "start_time": "2024-11-04T14:27:54.397Z"
   },
   {
    "duration": 6,
    "start_time": "2024-11-04T14:27:54.858Z"
   },
   {
    "duration": 5,
    "start_time": "2024-11-04T14:27:55.395Z"
   },
   {
    "duration": 5,
    "start_time": "2024-11-04T14:27:59.305Z"
   },
   {
    "duration": 16,
    "start_time": "2024-11-04T14:27:59.739Z"
   },
   {
    "duration": 8,
    "start_time": "2024-11-04T14:28:02.123Z"
   },
   {
    "duration": 10,
    "start_time": "2024-11-04T14:28:04.178Z"
   },
   {
    "duration": 5,
    "start_time": "2024-11-04T14:28:05.289Z"
   },
   {
    "duration": 4,
    "start_time": "2024-11-04T14:28:05.960Z"
   },
   {
    "duration": 183,
    "start_time": "2024-11-04T14:28:21.466Z"
   },
   {
    "duration": 13,
    "start_time": "2024-11-04T14:28:25.557Z"
   },
   {
    "duration": 370,
    "start_time": "2024-11-04T14:28:38.467Z"
   },
   {
    "duration": 173,
    "start_time": "2024-11-04T14:28:43.463Z"
   },
   {
    "duration": 11,
    "start_time": "2024-11-04T15:33:15.800Z"
   },
   {
    "duration": 4,
    "start_time": "2024-11-04T15:35:37.817Z"
   },
   {
    "duration": 17,
    "start_time": "2024-11-04T15:35:42.619Z"
   },
   {
    "duration": 12,
    "start_time": "2024-11-04T15:37:03.314Z"
   },
   {
    "duration": 6,
    "start_time": "2024-11-04T15:38:57.821Z"
   },
   {
    "duration": 9,
    "start_time": "2024-11-04T15:39:07.465Z"
   },
   {
    "duration": 6,
    "start_time": "2024-11-04T15:39:17.868Z"
   },
   {
    "duration": 8,
    "start_time": "2024-11-04T15:39:29.745Z"
   },
   {
    "duration": 11,
    "start_time": "2024-11-04T15:40:28.257Z"
   },
   {
    "duration": 9,
    "start_time": "2024-11-04T15:43:43.996Z"
   },
   {
    "duration": 16,
    "start_time": "2024-11-04T15:43:53.279Z"
   },
   {
    "duration": 11,
    "start_time": "2024-11-04T15:46:02.280Z"
   },
   {
    "duration": 16,
    "start_time": "2024-11-04T15:46:24.417Z"
   },
   {
    "duration": 135,
    "start_time": "2024-11-04T15:47:02.436Z"
   },
   {
    "duration": 17,
    "start_time": "2024-11-04T15:47:16.641Z"
   },
   {
    "duration": 108,
    "start_time": "2024-11-04T15:47:46.884Z"
   },
   {
    "duration": 137,
    "start_time": "2024-11-04T15:48:31.589Z"
   },
   {
    "duration": 236,
    "start_time": "2024-11-04T15:49:08.323Z"
   },
   {
    "duration": 199,
    "start_time": "2024-11-04T15:49:22.655Z"
   },
   {
    "duration": 218,
    "start_time": "2024-11-04T15:49:52.432Z"
   },
   {
    "duration": 831,
    "start_time": "2024-11-04T15:50:35.016Z"
   },
   {
    "duration": 285,
    "start_time": "2024-11-04T16:21:27.707Z"
   },
   {
    "duration": 203,
    "start_time": "2024-11-04T16:21:44.465Z"
   },
   {
    "duration": 217,
    "start_time": "2024-11-04T16:22:18.253Z"
   },
   {
    "duration": 258,
    "start_time": "2024-11-04T16:23:14.004Z"
   },
   {
    "duration": 451,
    "start_time": "2024-11-04T17:02:15.167Z"
   },
   {
    "duration": 188,
    "start_time": "2024-11-04T17:02:31.193Z"
   },
   {
    "duration": 388,
    "start_time": "2024-11-04T17:03:04.611Z"
   },
   {
    "duration": 207,
    "start_time": "2024-11-04T17:03:18.064Z"
   },
   {
    "duration": 10,
    "start_time": "2024-11-04T17:05:18.065Z"
   },
   {
    "duration": 386,
    "start_time": "2024-11-04T17:06:29.867Z"
   },
   {
    "duration": 51,
    "start_time": "2024-11-04T17:06:38.239Z"
   },
   {
    "duration": 38,
    "start_time": "2024-11-04T17:06:54.587Z"
   },
   {
    "duration": 11,
    "start_time": "2024-11-04T17:07:03.662Z"
   },
   {
    "duration": 164,
    "start_time": "2024-11-04T17:08:06.856Z"
   },
   {
    "duration": 23,
    "start_time": "2024-11-04T17:08:41.085Z"
   },
   {
    "duration": 240,
    "start_time": "2024-11-04T17:09:28.276Z"
   },
   {
    "duration": 12,
    "start_time": "2024-11-04T17:09:46.963Z"
   },
   {
    "duration": 3,
    "start_time": "2024-11-04T17:12:14.083Z"
   },
   {
    "duration": 18,
    "start_time": "2024-11-04T17:12:53.166Z"
   },
   {
    "duration": 187,
    "start_time": "2024-11-04T17:13:53.192Z"
   },
   {
    "duration": 2171,
    "start_time": "2024-11-04T20:04:29.971Z"
   },
   {
    "duration": 24,
    "start_time": "2024-11-04T20:04:32.144Z"
   },
   {
    "duration": 9,
    "start_time": "2024-11-04T20:04:32.169Z"
   },
   {
    "duration": 3,
    "start_time": "2024-11-04T20:04:32.180Z"
   },
   {
    "duration": 8,
    "start_time": "2024-11-04T20:04:32.184Z"
   },
   {
    "duration": 12,
    "start_time": "2024-11-04T20:04:32.614Z"
   },
   {
    "duration": 8,
    "start_time": "2024-11-04T20:04:32.835Z"
   },
   {
    "duration": 11,
    "start_time": "2024-11-04T20:04:33.086Z"
   },
   {
    "duration": 6,
    "start_time": "2024-11-04T20:04:33.305Z"
   },
   {
    "duration": 9,
    "start_time": "2024-11-04T20:04:33.879Z"
   },
   {
    "duration": 4,
    "start_time": "2024-11-04T20:04:34.132Z"
   },
   {
    "duration": 8,
    "start_time": "2024-11-04T20:04:34.404Z"
   },
   {
    "duration": 6,
    "start_time": "2024-11-04T20:04:35.262Z"
   },
   {
    "duration": 17,
    "start_time": "2024-11-04T20:04:35.635Z"
   },
   {
    "duration": 9,
    "start_time": "2024-11-04T20:04:36.776Z"
   },
   {
    "duration": 10,
    "start_time": "2024-11-04T20:04:37.219Z"
   },
   {
    "duration": 5,
    "start_time": "2024-11-04T20:04:37.818Z"
   },
   {
    "duration": 4,
    "start_time": "2024-11-04T20:04:38.269Z"
   },
   {
    "duration": 400,
    "start_time": "2024-11-04T20:04:41.386Z"
   },
   {
    "duration": 12,
    "start_time": "2024-11-04T20:04:42.899Z"
   },
   {
    "duration": 165,
    "start_time": "2024-11-04T20:04:43.367Z"
   },
   {
    "duration": 271,
    "start_time": "2024-11-04T20:04:45.558Z"
   },
   {
    "duration": 180,
    "start_time": "2024-11-04T20:04:47.371Z"
   },
   {
    "duration": 16,
    "start_time": "2024-11-04T20:24:22.839Z"
   },
   {
    "duration": 12,
    "start_time": "2024-11-04T20:37:06.291Z"
   },
   {
    "duration": 422,
    "start_time": "2024-11-04T20:37:54.029Z"
   },
   {
    "duration": 162,
    "start_time": "2024-11-04T20:38:21.768Z"
   },
   {
    "duration": 230,
    "start_time": "2024-11-04T20:38:43.020Z"
   },
   {
    "duration": 179,
    "start_time": "2024-11-04T20:38:59.027Z"
   },
   {
    "duration": 15,
    "start_time": "2024-11-04T20:39:05.692Z"
   },
   {
    "duration": 577,
    "start_time": "2024-11-04T20:49:08.229Z"
   },
   {
    "duration": 41,
    "start_time": "2024-11-04T20:49:22.854Z"
   },
   {
    "duration": 14,
    "start_time": "2024-11-04T20:49:37.662Z"
   },
   {
    "duration": 6,
    "start_time": "2024-11-04T20:50:02.817Z"
   },
   {
    "duration": 219,
    "start_time": "2024-11-04T20:50:21.784Z"
   },
   {
    "duration": 5,
    "start_time": "2024-11-04T20:50:46.310Z"
   },
   {
    "duration": 13,
    "start_time": "2024-11-04T20:51:19.476Z"
   },
   {
    "duration": 326,
    "start_time": "2024-11-04T20:54:20.435Z"
   },
   {
    "duration": 16,
    "start_time": "2024-11-04T20:55:04.325Z"
   },
   {
    "duration": 18,
    "start_time": "2024-11-04T20:55:58.962Z"
   },
   {
    "duration": 18,
    "start_time": "2024-11-04T20:56:11.259Z"
   },
   {
    "duration": 12,
    "start_time": "2024-11-04T21:02:22.952Z"
   },
   {
    "duration": 4,
    "start_time": "2024-11-04T21:05:00.239Z"
   },
   {
    "duration": 6,
    "start_time": "2024-11-04T21:05:14.869Z"
   },
   {
    "duration": 5,
    "start_time": "2024-11-04T21:05:46.737Z"
   },
   {
    "duration": 190,
    "start_time": "2024-11-04T21:05:53.658Z"
   },
   {
    "duration": 12,
    "start_time": "2024-11-04T21:06:27.738Z"
   },
   {
    "duration": 6,
    "start_time": "2024-11-04T21:17:27.303Z"
   },
   {
    "duration": 16,
    "start_time": "2024-11-04T21:18:51.643Z"
   },
   {
    "duration": 16,
    "start_time": "2024-11-04T21:19:04.612Z"
   },
   {
    "duration": 9,
    "start_time": "2024-11-04T21:20:39.735Z"
   },
   {
    "duration": 8,
    "start_time": "2024-11-04T21:20:54.099Z"
   },
   {
    "duration": 45,
    "start_time": "2024-11-04T21:21:06.928Z"
   },
   {
    "duration": 32,
    "start_time": "2024-11-04T21:22:36.436Z"
   },
   {
    "duration": 13,
    "start_time": "2024-11-04T21:22:43.639Z"
   },
   {
    "duration": 6,
    "start_time": "2024-11-04T21:22:53.942Z"
   },
   {
    "duration": 7,
    "start_time": "2024-11-04T21:24:03.731Z"
   },
   {
    "duration": 17,
    "start_time": "2024-11-04T21:24:42.681Z"
   },
   {
    "duration": 101,
    "start_time": "2024-11-04T21:24:49.030Z"
   },
   {
    "duration": 13,
    "start_time": "2024-11-04T21:26:32.342Z"
   },
   {
    "duration": 5,
    "start_time": "2024-11-04T21:26:36.968Z"
   },
   {
    "duration": 5,
    "start_time": "2024-11-04T21:51:09.001Z"
   },
   {
    "duration": 46,
    "start_time": "2024-11-04T22:04:53.643Z"
   },
   {
    "duration": 111,
    "start_time": "2024-11-04T22:05:20.005Z"
   },
   {
    "duration": 14,
    "start_time": "2024-11-04T22:11:58.654Z"
   },
   {
    "duration": 4,
    "start_time": "2024-11-04T22:12:05.966Z"
   },
   {
    "duration": 5,
    "start_time": "2024-11-04T22:12:39.975Z"
   },
   {
    "duration": 4,
    "start_time": "2024-11-04T22:13:29.070Z"
   },
   {
    "duration": 8,
    "start_time": "2024-11-04T22:14:18.232Z"
   },
   {
    "duration": 129,
    "start_time": "2024-11-04T22:20:11.867Z"
   },
   {
    "duration": 136,
    "start_time": "2024-11-04T22:20:20.880Z"
   },
   {
    "duration": 124,
    "start_time": "2024-11-04T22:20:27.403Z"
   },
   {
    "duration": 127,
    "start_time": "2024-11-04T22:20:35.355Z"
   },
   {
    "duration": 138,
    "start_time": "2024-11-04T22:20:41.681Z"
   },
   {
    "duration": 101,
    "start_time": "2024-11-04T22:22:53.819Z"
   },
   {
    "duration": 205,
    "start_time": "2024-11-04T22:23:53.477Z"
   },
   {
    "duration": 205,
    "start_time": "2024-11-04T22:24:35.546Z"
   },
   {
    "duration": 181,
    "start_time": "2024-11-04T22:24:51.457Z"
   },
   {
    "duration": 141,
    "start_time": "2024-11-04T22:25:55.704Z"
   },
   {
    "duration": 142,
    "start_time": "2024-11-04T22:27:05.969Z"
   },
   {
    "duration": 10,
    "start_time": "2024-11-04T23:01:41.929Z"
   },
   {
    "duration": 5,
    "start_time": "2024-11-04T23:04:57.196Z"
   },
   {
    "duration": 4,
    "start_time": "2024-11-04T23:05:17.783Z"
   },
   {
    "duration": 14,
    "start_time": "2024-11-04T23:05:40.859Z"
   },
   {
    "duration": 13,
    "start_time": "2024-11-04T23:05:47.179Z"
   },
   {
    "duration": 14,
    "start_time": "2024-11-04T23:12:55.758Z"
   },
   {
    "duration": 347,
    "start_time": "2024-11-04T23:14:02.752Z"
   },
   {
    "duration": 11,
    "start_time": "2024-11-04T23:14:36.323Z"
   },
   {
    "duration": 11,
    "start_time": "2024-11-04T23:17:26.146Z"
   },
   {
    "duration": 9,
    "start_time": "2024-11-04T23:27:18.248Z"
   },
   {
    "duration": 10,
    "start_time": "2024-11-04T23:27:23.020Z"
   },
   {
    "duration": 8,
    "start_time": "2024-11-04T23:28:06.535Z"
   },
   {
    "duration": 7,
    "start_time": "2024-11-04T23:29:06.605Z"
   },
   {
    "duration": 10,
    "start_time": "2024-11-04T23:29:16.474Z"
   },
   {
    "duration": 8,
    "start_time": "2024-11-04T23:29:39.760Z"
   },
   {
    "duration": 9,
    "start_time": "2024-11-04T23:30:15.985Z"
   },
   {
    "duration": 3,
    "start_time": "2024-11-04T23:30:38.747Z"
   },
   {
    "duration": 12,
    "start_time": "2024-11-04T23:31:28.927Z"
   },
   {
    "duration": 4,
    "start_time": "2024-11-04T23:31:42.552Z"
   },
   {
    "duration": 4,
    "start_time": "2024-11-04T23:32:06.921Z"
   },
   {
    "duration": 14,
    "start_time": "2024-11-04T23:34:47.838Z"
   },
   {
    "duration": 5,
    "start_time": "2024-11-04T23:40:42.936Z"
   },
   {
    "duration": 8,
    "start_time": "2024-11-04T23:40:51.020Z"
   },
   {
    "duration": 5,
    "start_time": "2024-11-04T23:42:26.141Z"
   },
   {
    "duration": 40,
    "start_time": "2024-11-04T23:43:24.081Z"
   },
   {
    "duration": 11,
    "start_time": "2024-11-04T23:43:44.896Z"
   },
   {
    "duration": 9,
    "start_time": "2024-11-04T23:43:50.622Z"
   },
   {
    "duration": 16,
    "start_time": "2024-11-04T23:44:00.751Z"
   },
   {
    "duration": 14,
    "start_time": "2024-11-04T23:44:29.892Z"
   },
   {
    "duration": 2141,
    "start_time": "2024-11-05T01:28:32.120Z"
   },
   {
    "duration": 18,
    "start_time": "2024-11-05T01:28:34.263Z"
   },
   {
    "duration": 9,
    "start_time": "2024-11-05T01:28:34.283Z"
   },
   {
    "duration": 2,
    "start_time": "2024-11-05T01:28:34.295Z"
   },
   {
    "duration": 6,
    "start_time": "2024-11-05T01:28:34.299Z"
   },
   {
    "duration": 10,
    "start_time": "2024-11-05T01:28:34.307Z"
   },
   {
    "duration": 19,
    "start_time": "2024-11-05T01:28:34.329Z"
   },
   {
    "duration": 9,
    "start_time": "2024-11-05T01:28:34.511Z"
   },
   {
    "duration": 5,
    "start_time": "2024-11-05T01:28:34.875Z"
   },
   {
    "duration": 7,
    "start_time": "2024-11-05T01:28:35.243Z"
   },
   {
    "duration": 4,
    "start_time": "2024-11-05T01:28:35.442Z"
   },
   {
    "duration": 5,
    "start_time": "2024-11-05T01:28:35.638Z"
   },
   {
    "duration": 6,
    "start_time": "2024-11-05T01:28:36.227Z"
   },
   {
    "duration": 16,
    "start_time": "2024-11-05T01:28:36.423Z"
   },
   {
    "duration": 11,
    "start_time": "2024-11-05T01:28:37.167Z"
   },
   {
    "duration": 8,
    "start_time": "2024-11-05T01:28:37.556Z"
   },
   {
    "duration": 5,
    "start_time": "2024-11-05T01:28:37.932Z"
   },
   {
    "duration": 3,
    "start_time": "2024-11-05T01:28:38.128Z"
   },
   {
    "duration": 414,
    "start_time": "2024-11-05T01:28:39.059Z"
   },
   {
    "duration": 219,
    "start_time": "2024-11-05T01:28:39.666Z"
   },
   {
    "duration": 0,
    "start_time": "2024-11-05T01:28:39.886Z"
   },
   {
    "duration": 276,
    "start_time": "2024-11-05T01:28:40.490Z"
   },
   {
    "duration": 221,
    "start_time": "2024-11-05T01:28:41.122Z"
   },
   {
    "duration": 156,
    "start_time": "2024-11-05T01:28:41.731Z"
   },
   {
    "duration": 5,
    "start_time": "2024-11-05T01:28:42.358Z"
   },
   {
    "duration": 149,
    "start_time": "2024-11-05T01:28:42.949Z"
   },
   {
    "duration": 4,
    "start_time": "2024-11-05T01:28:43.574Z"
   },
   {
    "duration": 14,
    "start_time": "2024-11-05T01:28:44.225Z"
   },
   {
    "duration": 203,
    "start_time": "2024-11-05T01:28:44.457Z"
   },
   {
    "duration": 40,
    "start_time": "2024-11-05T01:29:06.602Z"
   },
   {
    "duration": 14,
    "start_time": "2024-11-05T01:29:23.707Z"
   },
   {
    "duration": 5,
    "start_time": "2024-11-05T01:29:27.134Z"
   },
   {
    "duration": 7,
    "start_time": "2024-11-05T01:30:00.951Z"
   },
   {
    "duration": 4,
    "start_time": "2024-11-05T01:30:26.481Z"
   },
   {
    "duration": 5,
    "start_time": "2024-11-05T01:30:51.140Z"
   },
   {
    "duration": 3,
    "start_time": "2024-11-05T01:30:56.534Z"
   },
   {
    "duration": 5,
    "start_time": "2024-11-05T01:31:48.036Z"
   },
   {
    "duration": 5,
    "start_time": "2024-11-05T01:32:36.484Z"
   },
   {
    "duration": 4,
    "start_time": "2024-11-05T01:33:01.031Z"
   },
   {
    "duration": 6,
    "start_time": "2024-11-05T01:33:07.461Z"
   },
   {
    "duration": 7,
    "start_time": "2024-11-05T01:35:00.610Z"
   },
   {
    "duration": 8,
    "start_time": "2024-11-05T01:35:27.618Z"
   },
   {
    "duration": 13,
    "start_time": "2024-11-05T01:44:26.516Z"
   },
   {
    "duration": 11,
    "start_time": "2024-11-05T01:45:30.488Z"
   },
   {
    "duration": 7,
    "start_time": "2024-11-05T01:49:15.134Z"
   },
   {
    "duration": 9,
    "start_time": "2024-11-05T01:49:31.755Z"
   },
   {
    "duration": 6,
    "start_time": "2024-11-05T01:49:46.292Z"
   },
   {
    "duration": 5,
    "start_time": "2024-11-05T01:49:58.414Z"
   },
   {
    "duration": 17,
    "start_time": "2024-11-05T01:50:05.042Z"
   },
   {
    "duration": 4,
    "start_time": "2024-11-05T01:50:10.547Z"
   },
   {
    "duration": 6,
    "start_time": "2024-11-05T01:50:49.448Z"
   },
   {
    "duration": 9,
    "start_time": "2024-11-05T01:55:57.453Z"
   },
   {
    "duration": 21,
    "start_time": "2024-11-05T01:59:17.391Z"
   },
   {
    "duration": 384,
    "start_time": "2024-11-05T01:59:55.873Z"
   },
   {
    "duration": 47,
    "start_time": "2024-11-05T02:00:00.887Z"
   },
   {
    "duration": 21,
    "start_time": "2024-11-05T02:00:50.788Z"
   },
   {
    "duration": 22,
    "start_time": "2024-11-05T02:01:20.199Z"
   },
   {
    "duration": 22,
    "start_time": "2024-11-05T02:02:01.357Z"
   },
   {
    "duration": 3,
    "start_time": "2024-11-05T02:02:22.164Z"
   },
   {
    "duration": 22,
    "start_time": "2024-11-05T02:02:29.741Z"
   },
   {
    "duration": 21,
    "start_time": "2024-11-05T02:02:40.517Z"
   },
   {
    "duration": 22,
    "start_time": "2024-11-05T02:03:00.219Z"
   },
   {
    "duration": 50,
    "start_time": "2024-11-05T02:03:24.490Z"
   },
   {
    "duration": 21,
    "start_time": "2024-11-05T02:03:43.575Z"
   },
   {
    "duration": 21,
    "start_time": "2024-11-05T02:04:28.743Z"
   },
   {
    "duration": 20,
    "start_time": "2024-11-05T02:04:38.229Z"
   },
   {
    "duration": 24,
    "start_time": "2024-11-05T02:05:24.092Z"
   },
   {
    "duration": 15,
    "start_time": "2024-11-05T02:09:13.301Z"
   },
   {
    "duration": 12,
    "start_time": "2024-11-05T02:44:50.939Z"
   },
   {
    "duration": 18,
    "start_time": "2024-11-05T02:45:43.218Z"
   },
   {
    "duration": 10,
    "start_time": "2024-11-05T02:47:13.531Z"
   },
   {
    "duration": 9,
    "start_time": "2024-11-05T02:47:24.644Z"
   },
   {
    "duration": 8,
    "start_time": "2024-11-05T02:47:33.698Z"
   },
   {
    "duration": 8,
    "start_time": "2024-11-05T02:47:39.183Z"
   },
   {
    "duration": 8,
    "start_time": "2024-11-05T02:47:44.062Z"
   },
   {
    "duration": 9,
    "start_time": "2024-11-05T02:47:49.372Z"
   },
   {
    "duration": 8,
    "start_time": "2024-11-05T02:48:31.795Z"
   },
   {
    "duration": 5,
    "start_time": "2024-11-05T02:48:59.651Z"
   },
   {
    "duration": 9,
    "start_time": "2024-11-05T02:49:19.705Z"
   },
   {
    "duration": 8,
    "start_time": "2024-11-05T03:03:37.602Z"
   },
   {
    "duration": 12,
    "start_time": "2024-11-05T03:40:03.823Z"
   },
   {
    "duration": 7,
    "start_time": "2024-11-05T03:41:05.148Z"
   },
   {
    "duration": 5,
    "start_time": "2024-11-05T03:41:22.021Z"
   },
   {
    "duration": 6,
    "start_time": "2024-11-05T03:44:07.887Z"
   },
   {
    "duration": 5,
    "start_time": "2024-11-05T03:44:42.493Z"
   },
   {
    "duration": 10,
    "start_time": "2024-11-05T03:44:54.461Z"
   },
   {
    "duration": 7,
    "start_time": "2024-11-05T03:45:12.085Z"
   },
   {
    "duration": 9,
    "start_time": "2024-11-05T03:46:29.620Z"
   },
   {
    "duration": 6,
    "start_time": "2024-11-05T03:47:16.943Z"
   },
   {
    "duration": 56,
    "start_time": "2024-11-05T04:51:53.125Z"
   },
   {
    "duration": 14,
    "start_time": "2024-11-05T04:55:15.457Z"
   },
   {
    "duration": 7,
    "start_time": "2024-11-05T04:55:37.640Z"
   },
   {
    "duration": 7,
    "start_time": "2024-11-05T04:57:23.410Z"
   },
   {
    "duration": 5,
    "start_time": "2024-11-05T04:57:50.615Z"
   },
   {
    "duration": 5,
    "start_time": "2024-11-05T04:58:41.651Z"
   },
   {
    "duration": 7,
    "start_time": "2024-11-05T04:58:50.703Z"
   },
   {
    "duration": 2389,
    "start_time": "2024-11-05T15:20:23.080Z"
   },
   {
    "duration": 25,
    "start_time": "2024-11-05T15:20:25.471Z"
   },
   {
    "duration": 10,
    "start_time": "2024-11-05T15:20:26.310Z"
   },
   {
    "duration": 2,
    "start_time": "2024-11-05T15:20:27.083Z"
   },
   {
    "duration": 5,
    "start_time": "2024-11-05T15:20:27.596Z"
   },
   {
    "duration": 11,
    "start_time": "2024-11-05T15:20:28.730Z"
   },
   {
    "duration": 8,
    "start_time": "2024-11-05T15:20:29.557Z"
   },
   {
    "duration": 11,
    "start_time": "2024-11-05T15:20:30.349Z"
   },
   {
    "duration": 5,
    "start_time": "2024-11-05T15:20:31.167Z"
   },
   {
    "duration": 8,
    "start_time": "2024-11-05T15:20:32.584Z"
   },
   {
    "duration": 8,
    "start_time": "2024-11-05T15:20:33.417Z"
   },
   {
    "duration": 4,
    "start_time": "2024-11-05T15:20:34.070Z"
   },
   {
    "duration": 5,
    "start_time": "2024-11-05T15:20:36.168Z"
   },
   {
    "duration": 17,
    "start_time": "2024-11-05T15:20:37.180Z"
   },
   {
    "duration": 9,
    "start_time": "2024-11-05T15:20:40.676Z"
   },
   {
    "duration": 9,
    "start_time": "2024-11-05T15:20:43.055Z"
   },
   {
    "duration": 4,
    "start_time": "2024-11-05T15:20:44.733Z"
   },
   {
    "duration": 4,
    "start_time": "2024-11-05T15:20:45.493Z"
   },
   {
    "duration": 401,
    "start_time": "2024-11-05T15:20:48.167Z"
   },
   {
    "duration": 206,
    "start_time": "2024-11-05T15:20:50.261Z"
   },
   {
    "duration": 10,
    "start_time": "2024-11-05T15:20:57.940Z"
   },
   {
    "duration": 172,
    "start_time": "2024-11-05T15:21:01.114Z"
   },
   {
    "duration": 245,
    "start_time": "2024-11-05T15:21:06.837Z"
   },
   {
    "duration": 250,
    "start_time": "2024-11-05T15:21:11.437Z"
   },
   {
    "duration": 184,
    "start_time": "2024-11-05T15:21:15.954Z"
   },
   {
    "duration": 102,
    "start_time": "2024-11-05T15:21:19.973Z"
   },
   {
    "duration": 4,
    "start_time": "2024-11-05T15:21:25.436Z"
   },
   {
    "duration": 144,
    "start_time": "2024-11-05T15:21:28.140Z"
   },
   {
    "duration": 4,
    "start_time": "2024-11-05T15:21:31.940Z"
   },
   {
    "duration": 13,
    "start_time": "2024-11-05T15:21:36.449Z"
   },
   {
    "duration": 21,
    "start_time": "2024-11-05T15:21:39.532Z"
   },
   {
    "duration": 9,
    "start_time": "2024-11-05T15:21:42.598Z"
   },
   {
    "duration": 6,
    "start_time": "2024-11-05T15:21:47.176Z"
   },
   {
    "duration": 8,
    "start_time": "2024-11-05T15:24:22.012Z"
   },
   {
    "duration": 8,
    "start_time": "2024-11-05T15:24:33.703Z"
   },
   {
    "duration": 6,
    "start_time": "2024-11-05T15:24:53.510Z"
   },
   {
    "duration": 5,
    "start_time": "2024-11-05T15:32:36.655Z"
   },
   {
    "duration": 12,
    "start_time": "2024-11-05T15:32:48.713Z"
   },
   {
    "duration": 11,
    "start_time": "2024-11-05T15:33:04.680Z"
   },
   {
    "duration": 10,
    "start_time": "2024-11-05T15:38:28.710Z"
   },
   {
    "duration": 6,
    "start_time": "2024-11-05T15:39:45.656Z"
   },
   {
    "duration": 6,
    "start_time": "2024-11-05T15:39:53.500Z"
   },
   {
    "duration": 8,
    "start_time": "2024-11-05T15:40:30.405Z"
   },
   {
    "duration": 9,
    "start_time": "2024-11-05T15:42:17.514Z"
   },
   {
    "duration": 6,
    "start_time": "2024-11-05T15:43:05.589Z"
   },
   {
    "duration": 8,
    "start_time": "2024-11-05T15:43:44.328Z"
   },
   {
    "duration": 7,
    "start_time": "2024-11-05T15:45:41.981Z"
   },
   {
    "duration": 6,
    "start_time": "2024-11-05T15:46:27.640Z"
   },
   {
    "duration": 7,
    "start_time": "2024-11-05T15:48:52.001Z"
   },
   {
    "duration": 4,
    "start_time": "2024-11-05T15:51:15.606Z"
   },
   {
    "duration": 4,
    "start_time": "2024-11-05T15:51:36.613Z"
   },
   {
    "duration": 19,
    "start_time": "2024-11-05T15:53:02.675Z"
   },
   {
    "duration": 8,
    "start_time": "2024-11-05T16:13:13.824Z"
   },
   {
    "duration": 332,
    "start_time": "2024-11-05T16:18:19.956Z"
   },
   {
    "duration": 33,
    "start_time": "2024-11-05T16:18:33.627Z"
   },
   {
    "duration": 32,
    "start_time": "2024-11-05T16:18:40.730Z"
   },
   {
    "duration": 7,
    "start_time": "2024-11-05T16:18:51.370Z"
   },
   {
    "duration": 42,
    "start_time": "2024-11-05T16:19:12.422Z"
   },
   {
    "duration": 7,
    "start_time": "2024-11-05T16:19:40.567Z"
   },
   {
    "duration": 3,
    "start_time": "2024-11-05T16:19:53.810Z"
   },
   {
    "duration": 7,
    "start_time": "2024-11-05T16:20:00.276Z"
   },
   {
    "duration": 34,
    "start_time": "2024-11-05T16:20:15.255Z"
   },
   {
    "duration": 4,
    "start_time": "2024-11-05T16:20:43.972Z"
   },
   {
    "duration": 7,
    "start_time": "2024-11-05T16:20:57.606Z"
   },
   {
    "duration": 34,
    "start_time": "2024-11-05T16:21:06.834Z"
   },
   {
    "duration": 12,
    "start_time": "2024-11-05T16:25:47.940Z"
   },
   {
    "duration": 6,
    "start_time": "2024-11-05T16:26:22.389Z"
   },
   {
    "duration": 11,
    "start_time": "2024-11-05T16:26:30.039Z"
   },
   {
    "duration": 11,
    "start_time": "2024-11-05T16:26:43.387Z"
   },
   {
    "duration": 7,
    "start_time": "2024-11-05T16:27:08.546Z"
   },
   {
    "duration": 8,
    "start_time": "2024-11-05T16:28:21.265Z"
   },
   {
    "duration": 7,
    "start_time": "2024-11-05T16:28:38.092Z"
   },
   {
    "duration": 16,
    "start_time": "2024-11-05T16:33:17.507Z"
   },
   {
    "duration": 14,
    "start_time": "2024-11-05T16:33:40.322Z"
   },
   {
    "duration": 16,
    "start_time": "2024-11-05T16:33:47.562Z"
   },
   {
    "duration": 15,
    "start_time": "2024-11-05T16:33:59.342Z"
   },
   {
    "duration": 17,
    "start_time": "2024-11-05T16:34:04.556Z"
   },
   {
    "duration": 8,
    "start_time": "2024-11-05T16:34:11.317Z"
   },
   {
    "duration": 37,
    "start_time": "2024-11-05T16:34:58.842Z"
   },
   {
    "duration": 34,
    "start_time": "2024-11-05T16:36:21.626Z"
   },
   {
    "duration": 9,
    "start_time": "2024-11-05T16:36:51.794Z"
   },
   {
    "duration": 9,
    "start_time": "2024-11-05T16:37:03.651Z"
   },
   {
    "duration": 8,
    "start_time": "2024-11-05T16:37:43.599Z"
   },
   {
    "duration": 9,
    "start_time": "2024-11-05T16:39:27.451Z"
   },
   {
    "duration": 11,
    "start_time": "2024-11-05T16:39:56.893Z"
   },
   {
    "duration": 262,
    "start_time": "2024-11-05T16:47:32.918Z"
   },
   {
    "duration": 12,
    "start_time": "2024-11-05T17:00:37.998Z"
   },
   {
    "duration": 3,
    "start_time": "2024-11-05T17:06:57.319Z"
   },
   {
    "duration": 4,
    "start_time": "2024-11-05T17:19:59.220Z"
   },
   {
    "duration": 2498,
    "start_time": "2024-11-05T19:51:21.662Z"
   },
   {
    "duration": 25,
    "start_time": "2024-11-05T19:51:24.163Z"
   },
   {
    "duration": 10,
    "start_time": "2024-11-05T19:51:24.189Z"
   },
   {
    "duration": 2,
    "start_time": "2024-11-05T19:51:27.770Z"
   },
   {
    "duration": 6,
    "start_time": "2024-11-05T19:51:28.000Z"
   },
   {
    "duration": 14,
    "start_time": "2024-11-05T19:51:29.602Z"
   },
   {
    "duration": 9,
    "start_time": "2024-11-05T19:51:30.861Z"
   },
   {
    "duration": 10,
    "start_time": "2024-11-05T19:51:31.487Z"
   },
   {
    "duration": 6,
    "start_time": "2024-11-05T19:51:31.682Z"
   },
   {
    "duration": 9,
    "start_time": "2024-11-05T19:51:32.493Z"
   },
   {
    "duration": 3,
    "start_time": "2024-11-05T19:51:32.849Z"
   },
   {
    "duration": 6,
    "start_time": "2024-11-05T19:51:33.299Z"
   },
   {
    "duration": 5,
    "start_time": "2024-11-05T19:51:41.683Z"
   },
   {
    "duration": 17,
    "start_time": "2024-11-05T19:51:56.054Z"
   },
   {
    "duration": 20,
    "start_time": "2024-11-05T19:52:44.167Z"
   },
   {
    "duration": 21,
    "start_time": "2024-11-05T20:04:45.025Z"
   },
   {
    "duration": 38,
    "start_time": "2024-11-05T20:13:38.896Z"
   },
   {
    "duration": 19,
    "start_time": "2024-11-05T20:13:53.047Z"
   },
   {
    "duration": 20,
    "start_time": "2024-11-05T20:14:12.251Z"
   },
   {
    "duration": 25,
    "start_time": "2024-11-05T20:14:28.729Z"
   },
   {
    "duration": 5,
    "start_time": "2024-11-05T20:16:40.143Z"
   },
   {
    "duration": 5,
    "start_time": "2024-11-05T20:17:11.778Z"
   },
   {
    "duration": 6,
    "start_time": "2024-11-05T20:18:50.950Z"
   },
   {
    "duration": 25,
    "start_time": "2024-11-05T20:19:00.207Z"
   },
   {
    "duration": 14,
    "start_time": "2024-11-05T20:19:05.522Z"
   },
   {
    "duration": 7,
    "start_time": "2024-11-05T20:19:16.083Z"
   },
   {
    "duration": 4,
    "start_time": "2024-11-05T20:24:09.093Z"
   },
   {
    "duration": 11,
    "start_time": "2024-11-05T20:24:21.458Z"
   },
   {
    "duration": 12,
    "start_time": "2024-11-05T20:24:52.559Z"
   },
   {
    "duration": 11,
    "start_time": "2024-11-05T20:27:46.438Z"
   },
   {
    "duration": 18,
    "start_time": "2024-11-05T20:28:01.029Z"
   },
   {
    "duration": 12,
    "start_time": "2024-11-05T20:29:17.538Z"
   },
   {
    "duration": 12,
    "start_time": "2024-11-05T20:29:30.529Z"
   },
   {
    "duration": 13,
    "start_time": "2024-11-05T20:29:42.432Z"
   },
   {
    "duration": 13,
    "start_time": "2024-11-05T20:29:50.057Z"
   },
   {
    "duration": 19,
    "start_time": "2024-11-05T20:34:35.309Z"
   },
   {
    "duration": 12,
    "start_time": "2024-11-05T20:35:27.855Z"
   },
   {
    "duration": 20,
    "start_time": "2024-11-05T20:52:19.777Z"
   },
   {
    "duration": 26,
    "start_time": "2024-11-05T20:53:06.215Z"
   },
   {
    "duration": 14,
    "start_time": "2024-11-05T20:53:43.778Z"
   },
   {
    "duration": 16,
    "start_time": "2024-11-05T20:54:48.439Z"
   },
   {
    "duration": 21,
    "start_time": "2024-11-05T20:56:08.699Z"
   },
   {
    "duration": 19,
    "start_time": "2024-11-05T20:56:21.532Z"
   },
   {
    "duration": 4,
    "start_time": "2024-11-05T20:57:24.731Z"
   },
   {
    "duration": 11,
    "start_time": "2024-11-05T20:57:27.550Z"
   },
   {
    "duration": 9,
    "start_time": "2024-11-05T20:57:59.048Z"
   },
   {
    "duration": 230,
    "start_time": "2024-11-05T20:58:22.229Z"
   },
   {
    "duration": 17,
    "start_time": "2024-11-05T20:58:33.330Z"
   },
   {
    "duration": 12,
    "start_time": "2024-11-05T20:58:51.563Z"
   },
   {
    "duration": 25,
    "start_time": "2024-11-05T20:59:54.818Z"
   },
   {
    "duration": 15,
    "start_time": "2024-11-05T21:02:51.844Z"
   },
   {
    "duration": 15,
    "start_time": "2024-11-05T21:03:33.147Z"
   },
   {
    "duration": 20,
    "start_time": "2024-11-05T21:04:07.500Z"
   },
   {
    "duration": 17,
    "start_time": "2024-11-05T21:05:30.168Z"
   },
   {
    "duration": 4,
    "start_time": "2024-11-05T21:06:29.580Z"
   },
   {
    "duration": 21,
    "start_time": "2024-11-05T21:06:37.860Z"
   },
   {
    "duration": 14,
    "start_time": "2024-11-05T21:07:17.989Z"
   },
   {
    "duration": 35,
    "start_time": "2024-11-05T21:07:20.598Z"
   },
   {
    "duration": 21,
    "start_time": "2024-11-05T21:07:32.233Z"
   },
   {
    "duration": 18,
    "start_time": "2024-11-05T21:07:53.506Z"
   },
   {
    "duration": 358,
    "start_time": "2024-11-05T21:10:49.701Z"
   },
   {
    "duration": 17,
    "start_time": "2024-11-05T21:12:59.065Z"
   },
   {
    "duration": 18,
    "start_time": "2024-11-05T21:14:10.029Z"
   },
   {
    "duration": 13,
    "start_time": "2024-11-05T21:14:52.540Z"
   },
   {
    "duration": 19,
    "start_time": "2024-11-05T21:18:34.361Z"
   },
   {
    "duration": 17,
    "start_time": "2024-11-05T21:19:23.633Z"
   },
   {
    "duration": 31,
    "start_time": "2024-11-05T21:19:52.313Z"
   },
   {
    "duration": 17,
    "start_time": "2024-11-05T21:20:19.160Z"
   },
   {
    "duration": 12,
    "start_time": "2024-11-05T21:22:18.256Z"
   },
   {
    "duration": 13,
    "start_time": "2024-11-05T21:22:28.133Z"
   },
   {
    "duration": 25,
    "start_time": "2024-11-05T21:22:36.872Z"
   },
   {
    "duration": 39,
    "start_time": "2024-11-05T21:23:51.504Z"
   },
   {
    "duration": 37,
    "start_time": "2024-11-05T21:24:07.006Z"
   },
   {
    "duration": 21,
    "start_time": "2024-11-05T21:24:18.770Z"
   },
   {
    "duration": 21,
    "start_time": "2024-11-05T21:25:21.417Z"
   },
   {
    "duration": 15,
    "start_time": "2024-11-05T21:25:53.721Z"
   },
   {
    "duration": 21,
    "start_time": "2024-11-05T21:26:02.910Z"
   },
   {
    "duration": 41,
    "start_time": "2024-11-05T21:26:19.691Z"
   },
   {
    "duration": 19,
    "start_time": "2024-11-05T21:26:32.769Z"
   },
   {
    "duration": 19,
    "start_time": "2024-11-05T21:26:46.433Z"
   },
   {
    "duration": 18,
    "start_time": "2024-11-05T21:27:27.574Z"
   },
   {
    "duration": 19,
    "start_time": "2024-11-05T21:27:44.257Z"
   },
   {
    "duration": 25,
    "start_time": "2024-11-05T21:28:05.690Z"
   },
   {
    "duration": 44,
    "start_time": "2024-11-05T21:28:57.593Z"
   },
   {
    "duration": 29,
    "start_time": "2024-11-05T21:29:17.491Z"
   },
   {
    "duration": 18,
    "start_time": "2024-11-05T21:29:21.888Z"
   },
   {
    "duration": 12,
    "start_time": "2024-11-05T21:29:48.678Z"
   },
   {
    "duration": 19,
    "start_time": "2024-11-05T21:29:55.136Z"
   },
   {
    "duration": 18,
    "start_time": "2024-11-05T21:30:21.953Z"
   },
   {
    "duration": 6,
    "start_time": "2024-11-05T21:30:56.869Z"
   },
   {
    "duration": 5,
    "start_time": "2024-11-05T21:31:04.675Z"
   },
   {
    "duration": 5,
    "start_time": "2024-11-05T21:31:11.386Z"
   },
   {
    "duration": 5,
    "start_time": "2024-11-05T21:31:18.781Z"
   },
   {
    "duration": 21,
    "start_time": "2024-11-05T21:31:23.129Z"
   },
   {
    "duration": 19,
    "start_time": "2024-11-05T21:31:31.754Z"
   },
   {
    "duration": 26,
    "start_time": "2024-11-05T21:31:37.229Z"
   },
   {
    "duration": 424,
    "start_time": "2024-11-05T21:48:15.358Z"
   },
   {
    "duration": 478,
    "start_time": "2024-11-05T21:49:04.165Z"
   },
   {
    "duration": 20,
    "start_time": "2024-11-05T21:49:10.521Z"
   },
   {
    "duration": 195,
    "start_time": "2024-11-05T21:49:18.944Z"
   },
   {
    "duration": 269,
    "start_time": "2024-11-05T21:49:58.563Z"
   },
   {
    "duration": 200,
    "start_time": "2024-11-05T21:50:20.744Z"
   },
   {
    "duration": 110,
    "start_time": "2024-11-05T21:50:43.470Z"
   },
   {
    "duration": 5,
    "start_time": "2024-11-05T21:50:55.783Z"
   },
   {
    "duration": 162,
    "start_time": "2024-11-05T21:52:08.198Z"
   },
   {
    "duration": 4,
    "start_time": "2024-11-05T21:52:16.951Z"
   },
   {
    "duration": 149,
    "start_time": "2024-11-05T21:52:34.449Z"
   },
   {
    "duration": 20,
    "start_time": "2024-11-05T21:53:14.016Z"
   },
   {
    "duration": 116,
    "start_time": "2024-11-05T21:53:45.364Z"
   },
   {
    "duration": 10,
    "start_time": "2024-11-05T21:54:33.114Z"
   },
   {
    "duration": 14,
    "start_time": "2024-11-05T21:56:13.793Z"
   },
   {
    "duration": 6,
    "start_time": "2024-11-05T21:57:09.676Z"
   },
   {
    "duration": 21,
    "start_time": "2024-11-05T21:58:00.210Z"
   },
   {
    "duration": 11,
    "start_time": "2024-11-05T21:59:40.182Z"
   },
   {
    "duration": 7,
    "start_time": "2024-11-05T22:09:56.177Z"
   },
   {
    "duration": 14,
    "start_time": "2024-11-05T22:10:23.926Z"
   },
   {
    "duration": 14,
    "start_time": "2024-11-05T22:10:46.907Z"
   },
   {
    "duration": 189,
    "start_time": "2024-11-05T22:17:10.066Z"
   },
   {
    "duration": 9,
    "start_time": "2024-11-05T22:25:02.289Z"
   },
   {
    "duration": 23,
    "start_time": "2024-11-05T22:26:58.741Z"
   },
   {
    "duration": 8,
    "start_time": "2024-11-05T22:27:05.751Z"
   },
   {
    "duration": 6,
    "start_time": "2024-11-05T22:27:14.446Z"
   },
   {
    "duration": 20,
    "start_time": "2024-11-05T22:27:17.975Z"
   },
   {
    "duration": 2,
    "start_time": "2024-11-05T22:34:54.975Z"
   },
   {
    "duration": 33,
    "start_time": "2024-11-05T22:34:55.311Z"
   },
   {
    "duration": 9,
    "start_time": "2024-11-05T22:34:55.978Z"
   },
   {
    "duration": 3,
    "start_time": "2024-11-05T22:34:56.148Z"
   },
   {
    "duration": 6,
    "start_time": "2024-11-05T22:34:56.342Z"
   },
   {
    "duration": 10,
    "start_time": "2024-11-05T22:34:56.688Z"
   },
   {
    "duration": 10,
    "start_time": "2024-11-05T22:34:56.894Z"
   },
   {
    "duration": 9,
    "start_time": "2024-11-05T22:34:57.095Z"
   },
   {
    "duration": 13,
    "start_time": "2024-11-05T22:34:57.324Z"
   },
   {
    "duration": 8,
    "start_time": "2024-11-05T22:34:57.853Z"
   },
   {
    "duration": 19,
    "start_time": "2024-11-05T22:34:58.105Z"
   },
   {
    "duration": 14,
    "start_time": "2024-11-05T22:34:58.321Z"
   },
   {
    "duration": 6,
    "start_time": "2024-11-05T22:34:59.088Z"
   },
   {
    "duration": 19,
    "start_time": "2024-11-05T22:34:59.349Z"
   },
   {
    "duration": 27,
    "start_time": "2024-11-05T22:35:00.963Z"
   },
   {
    "duration": 25,
    "start_time": "2024-11-05T22:35:02.810Z"
   },
   {
    "duration": 10,
    "start_time": "2024-11-05T22:35:03.460Z"
   },
   {
    "duration": 5,
    "start_time": "2024-11-05T22:35:04.038Z"
   },
   {
    "duration": 4,
    "start_time": "2024-11-05T22:35:04.237Z"
   },
   {
    "duration": 391,
    "start_time": "2024-11-05T22:35:05.425Z"
   },
   {
    "duration": 11,
    "start_time": "2024-11-05T22:35:06.125Z"
   },
   {
    "duration": 189,
    "start_time": "2024-11-05T22:35:06.481Z"
   },
   {
    "duration": 220,
    "start_time": "2024-11-05T22:35:09.074Z"
   },
   {
    "duration": 207,
    "start_time": "2024-11-05T22:35:11.675Z"
   },
   {
    "duration": 409,
    "start_time": "2024-11-05T22:36:43.679Z"
   },
   {
    "duration": 11,
    "start_time": "2024-11-05T22:40:03.542Z"
   },
   {
    "duration": 192,
    "start_time": "2024-11-05T22:40:03.703Z"
   },
   {
    "duration": 253,
    "start_time": "2024-11-05T22:40:04.185Z"
   },
   {
    "duration": 194,
    "start_time": "2024-11-05T22:40:04.873Z"
   },
   {
    "duration": 110,
    "start_time": "2024-11-05T22:40:05.365Z"
   },
   {
    "duration": 4,
    "start_time": "2024-11-05T22:40:05.859Z"
   },
   {
    "duration": 177,
    "start_time": "2024-11-05T22:40:06.379Z"
   },
   {
    "duration": 5,
    "start_time": "2024-11-05T22:40:06.897Z"
   },
   {
    "duration": 13,
    "start_time": "2024-11-05T22:40:07.444Z"
   },
   {
    "duration": 38,
    "start_time": "2024-11-05T22:40:07.616Z"
   },
   {
    "duration": 11,
    "start_time": "2024-11-05T22:40:08.122Z"
   },
   {
    "duration": 6,
    "start_time": "2024-11-05T22:40:08.834Z"
   },
   {
    "duration": 30,
    "start_time": "2024-11-05T22:40:09.210Z"
   },
   {
    "duration": 13,
    "start_time": "2024-11-05T22:40:10.140Z"
   }
  ],
  "kernelspec": {
   "display_name": "cohorte-23",
   "language": "python",
   "name": "python3"
  },
  "language_info": {
   "codemirror_mode": {
    "name": "ipython",
    "version": 3
   },
   "file_extension": ".py",
   "mimetype": "text/x-python",
   "name": "python",
   "nbconvert_exporter": "python",
   "pygments_lexer": "ipython3",
   "version": "3.12.4"
  },
  "toc": {
   "base_numbering": 1,
   "nav_menu": {},
   "number_sections": true,
   "sideBar": true,
   "skip_h1_title": true,
   "title_cell": "Table of Contents",
   "title_sidebar": "Contents",
   "toc_cell": false,
   "toc_position": {},
   "toc_section_display": true,
   "toc_window_display": false
  }
 },
 "nbformat": 4,
 "nbformat_minor": 2
}
