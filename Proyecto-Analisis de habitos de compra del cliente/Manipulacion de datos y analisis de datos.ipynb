{
 "cells": [
  {
   "cell_type": "markdown",
   "id": "3Xg_RQfnafXz",
   "metadata": {
    "id": "3Xg_RQfnafXz"
   },
   "source": [
    "# ¡Llena ese carrito!"
   ]
  },
  {
   "cell_type": "markdown",
   "id": "mhIvmmkW414q",
   "metadata": {
    "id": "mhIvmmkW414q"
   },
   "source": [
    "# Introducción\n",
    "\n",
    "Instacart es una plataforma de entregas de comestibles donde la clientela puede registrar un pedido y hacer que se lo entreguen, similar a Uber Eats y Door Dash.\n",
    "El conjunto de datos que te hemos proporcionado tiene modificaciones del original. Redujimos el tamaño del conjunto para que tus cálculos se hicieran más rápido e introdujimos valores ausentes y duplicados. Tuvimos cuidado de conservar las distribuciones de los datos originales cuando hicimos los cambios.\n",
    "\n",
    "Debes completar tres pasos. Para cada uno de ellos, escribe una breve introducción que refleje con claridad cómo pretendes resolver cada paso, y escribe párrafos explicatorios que justifiquen tus decisiones al tiempo que avanzas en tu solución.  También escribe una conclusión que resuma tus hallazgos y elecciones.\n"
   ]
  },
  {
   "cell_type": "markdown",
   "id": "3MbyzpOQZ5Or",
   "metadata": {
    "id": "3MbyzpOQZ5Or"
   },
   "source": [
    "## Diccionario de datos\n",
    "\n",
    "Hay cinco tablas en el conjunto de datos, y tendrás que usarlas todas para hacer el preprocesamiento de datos y el análisis exploratorio de datos. A continuación se muestra un diccionario de datos que enumera las columnas de cada tabla y describe los datos que contienen.\n",
    "\n",
    "- `instacart_orders.csv`: cada fila corresponde a un pedido en la aplicación Instacart.\n",
    "    - `'order_id'`: número de ID que identifica de manera única cada pedido.\n",
    "    - `'user_id'`: número de ID que identifica de manera única la cuenta de cada cliente.\n",
    "    - `'order_number'`: el número de veces que este cliente ha hecho un pedido.\n",
    "    - `'order_dow'`: día de la semana en que se hizo el pedido (0 si es domingo).\n",
    "    - `'order_hour_of_day'`: hora del día en que se hizo el pedido.\n",
    "    - `'days_since_prior_order'`: número de días transcurridos desde que este cliente hizo su pedido anterior.\n",
    "- `products.csv`: cada fila corresponde a un producto único que pueden comprar los clientes.\n",
    "    - `'product_id'`: número ID que identifica de manera única cada producto.\n",
    "    - `'product_name'`: nombre del producto.\n",
    "    - `'aisle_id'`: número ID que identifica de manera única cada categoría de pasillo de víveres.\n",
    "    - `'department_id'`: número ID que identifica de manera única cada departamento de víveres.\n",
    "- `order_products.csv`: cada fila corresponde a un artículo pedido en un pedido.\n",
    "    - `'order_id'`: número de ID que identifica de manera única cada pedido.\n",
    "    - `'product_id'`: número ID que identifica de manera única cada producto.\n",
    "    - `'add_to_cart_order'`: el orden secuencial en el que se añadió cada artículo en el carrito.\n",
    "    - `'reordered'`: 0 si el cliente nunca ha pedido este producto antes, 1 si lo ha pedido.\n",
    "- `aisles.csv`\n",
    "    - `'aisle_id'`: número ID que identifica de manera única cada categoría de pasillo de víveres.\n",
    "    - `'aisle'`: nombre del pasillo.\n",
    "- `departments.csv`\n",
    "    - `'department_id'`: número ID que identifica de manera única cada departamento de víveres.\n",
    "    - `'department'`: nombre del departamento."
   ]
  },
  {
   "cell_type": "markdown",
   "id": "n3Ha_cNSZ8lK",
   "metadata": {
    "id": "n3Ha_cNSZ8lK"
   },
   "source": [
    "# Paso 1. Descripción de los datos\n",
    "\n",
    "Lee los archivos de datos (`/datasets/instacart_orders.csv`, `/datasets/products.csv`, `/datasets/aisles.csv`, `/datasets/departments.csv` y `/datasets/order_products.csv`) con `pd.read_csv()` usando los parámetros adecuados para leer los datos correctamente. Verifica la información para cada DataFrame creado.\n"
   ]
  },
  {
   "cell_type": "markdown",
   "id": "OmlQPLlyaAfR",
   "metadata": {
    "id": "OmlQPLlyaAfR"
   },
   "source": [
    "## Plan de solución\n",
    "\n",
    "Escribe aquí tu plan de solución para el Paso 1. Descripción de los datos.\n",
    "Es importar pandas para leer los dataframes y mostrar el cuerpo de cada tabla"
   ]
  },
  {
   "cell_type": "code",
   "execution_count": 31,
   "id": "fbf1adab",
   "metadata": {
    "id": "fbf1adab"
   },
   "outputs": [],
   "source": [
    "import pandas as pd# importar librerías"
   ]
  },
  {
   "cell_type": "code",
   "execution_count": 32,
   "id": "ad36396d",
   "metadata": {
    "id": "ad36396d"
   },
   "outputs": [],
   "source": [
    "pedidos=pd.read_csv(\"/datasets/instacart_orders.csv\",sep=\";\")\n",
    "products=pd.read_csv(\"/datasets/products.csv\", sep=\";\")\n",
    "aisles=pd.read_csv(\"/datasets/aisles.csv\",sep=\";\")\n",
    "departments=pd.read_csv(\"/datasets/departments.csv\",sep=\";\")\n",
    "order_products=pd.read_csv(\"/datasets/order_products.csv\",sep=\";\")# leer conjuntos de datos en los DataFrames"
   ]
  },
  {
   "cell_type": "markdown",
   "id": "ee907294",
   "metadata": {},
   "source": [
    "<div class=\"alert alert-block alert-success\">\n",
    "<b>Comentario del revisor</b> <a class=\"tocSkip\"></a>\n",
    "    \n",
    "Bien importado los datasets!\n",
    "</div>"
   ]
  },
  {
   "cell_type": "code",
   "execution_count": 33,
   "id": "ad6a1efa",
   "metadata": {
    "id": "ad6a1efa"
   },
   "outputs": [
    {
     "data": {
      "text/html": [
       "<div>\n",
       "<style scoped>\n",
       "    .dataframe tbody tr th:only-of-type {\n",
       "        vertical-align: middle;\n",
       "    }\n",
       "\n",
       "    .dataframe tbody tr th {\n",
       "        vertical-align: top;\n",
       "    }\n",
       "\n",
       "    .dataframe thead th {\n",
       "        text-align: right;\n",
       "    }\n",
       "</style>\n",
       "<table border=\"1\" class=\"dataframe\">\n",
       "  <thead>\n",
       "    <tr style=\"text-align: right;\">\n",
       "      <th></th>\n",
       "      <th>order_id</th>\n",
       "      <th>user_id</th>\n",
       "      <th>order_number</th>\n",
       "      <th>order_dow</th>\n",
       "      <th>order_hour_of_day</th>\n",
       "      <th>days_since_prior_order</th>\n",
       "    </tr>\n",
       "  </thead>\n",
       "  <tbody>\n",
       "    <tr>\n",
       "      <th>0</th>\n",
       "      <td>1515936</td>\n",
       "      <td>183418</td>\n",
       "      <td>11</td>\n",
       "      <td>6</td>\n",
       "      <td>13</td>\n",
       "      <td>30.0</td>\n",
       "    </tr>\n",
       "    <tr>\n",
       "      <th>1</th>\n",
       "      <td>1690866</td>\n",
       "      <td>163593</td>\n",
       "      <td>5</td>\n",
       "      <td>5</td>\n",
       "      <td>12</td>\n",
       "      <td>9.0</td>\n",
       "    </tr>\n",
       "    <tr>\n",
       "      <th>2</th>\n",
       "      <td>1454967</td>\n",
       "      <td>39980</td>\n",
       "      <td>4</td>\n",
       "      <td>5</td>\n",
       "      <td>19</td>\n",
       "      <td>2.0</td>\n",
       "    </tr>\n",
       "    <tr>\n",
       "      <th>3</th>\n",
       "      <td>1768857</td>\n",
       "      <td>82516</td>\n",
       "      <td>56</td>\n",
       "      <td>0</td>\n",
       "      <td>20</td>\n",
       "      <td>10.0</td>\n",
       "    </tr>\n",
       "    <tr>\n",
       "      <th>4</th>\n",
       "      <td>3007858</td>\n",
       "      <td>196724</td>\n",
       "      <td>2</td>\n",
       "      <td>4</td>\n",
       "      <td>12</td>\n",
       "      <td>17.0</td>\n",
       "    </tr>\n",
       "  </tbody>\n",
       "</table>\n",
       "</div>"
      ],
      "text/plain": [
       "   order_id  user_id  order_number  order_dow  order_hour_of_day  \\\n",
       "0   1515936   183418            11          6                 13   \n",
       "1   1690866   163593             5          5                 12   \n",
       "2   1454967    39980             4          5                 19   \n",
       "3   1768857    82516            56          0                 20   \n",
       "4   3007858   196724             2          4                 12   \n",
       "\n",
       "   days_since_prior_order  \n",
       "0                    30.0  \n",
       "1                     9.0  \n",
       "2                     2.0  \n",
       "3                    10.0  \n",
       "4                    17.0  "
      ]
     },
     "execution_count": 33,
     "metadata": {},
     "output_type": "execute_result"
    }
   ],
   "source": [
    "pedidos.head()# mostrar información del DataFrame"
   ]
  },
  {
   "cell_type": "code",
   "execution_count": 34,
   "id": "5130e05e",
   "metadata": {
    "id": "5130e05e"
   },
   "outputs": [
    {
     "data": {
      "text/html": [
       "<div>\n",
       "<style scoped>\n",
       "    .dataframe tbody tr th:only-of-type {\n",
       "        vertical-align: middle;\n",
       "    }\n",
       "\n",
       "    .dataframe tbody tr th {\n",
       "        vertical-align: top;\n",
       "    }\n",
       "\n",
       "    .dataframe thead th {\n",
       "        text-align: right;\n",
       "    }\n",
       "</style>\n",
       "<table border=\"1\" class=\"dataframe\">\n",
       "  <thead>\n",
       "    <tr style=\"text-align: right;\">\n",
       "      <th></th>\n",
       "      <th>product_id</th>\n",
       "      <th>product_name</th>\n",
       "      <th>aisle_id</th>\n",
       "      <th>department_id</th>\n",
       "    </tr>\n",
       "  </thead>\n",
       "  <tbody>\n",
       "    <tr>\n",
       "      <th>0</th>\n",
       "      <td>1</td>\n",
       "      <td>Chocolate Sandwich Cookies</td>\n",
       "      <td>61</td>\n",
       "      <td>19</td>\n",
       "    </tr>\n",
       "    <tr>\n",
       "      <th>1</th>\n",
       "      <td>2</td>\n",
       "      <td>All-Seasons Salt</td>\n",
       "      <td>104</td>\n",
       "      <td>13</td>\n",
       "    </tr>\n",
       "    <tr>\n",
       "      <th>2</th>\n",
       "      <td>3</td>\n",
       "      <td>Robust Golden Unsweetened Oolong Tea</td>\n",
       "      <td>94</td>\n",
       "      <td>7</td>\n",
       "    </tr>\n",
       "    <tr>\n",
       "      <th>3</th>\n",
       "      <td>4</td>\n",
       "      <td>Smart Ones Classic Favorites Mini Rigatoni Wit...</td>\n",
       "      <td>38</td>\n",
       "      <td>1</td>\n",
       "    </tr>\n",
       "    <tr>\n",
       "      <th>4</th>\n",
       "      <td>5</td>\n",
       "      <td>Green Chile Anytime Sauce</td>\n",
       "      <td>5</td>\n",
       "      <td>13</td>\n",
       "    </tr>\n",
       "  </tbody>\n",
       "</table>\n",
       "</div>"
      ],
      "text/plain": [
       "   product_id                                       product_name  aisle_id  \\\n",
       "0           1                         Chocolate Sandwich Cookies        61   \n",
       "1           2                                   All-Seasons Salt       104   \n",
       "2           3               Robust Golden Unsweetened Oolong Tea        94   \n",
       "3           4  Smart Ones Classic Favorites Mini Rigatoni Wit...        38   \n",
       "4           5                          Green Chile Anytime Sauce         5   \n",
       "\n",
       "   department_id  \n",
       "0             19  \n",
       "1             13  \n",
       "2              7  \n",
       "3              1  \n",
       "4             13  "
      ]
     },
     "execution_count": 34,
     "metadata": {},
     "output_type": "execute_result"
    }
   ],
   "source": [
    "products.head()# mostrar información del DataFrame"
   ]
  },
  {
   "cell_type": "code",
   "execution_count": 35,
   "id": "d8370c05",
   "metadata": {
    "id": "d8370c05"
   },
   "outputs": [
    {
     "data": {
      "text/html": [
       "<div>\n",
       "<style scoped>\n",
       "    .dataframe tbody tr th:only-of-type {\n",
       "        vertical-align: middle;\n",
       "    }\n",
       "\n",
       "    .dataframe tbody tr th {\n",
       "        vertical-align: top;\n",
       "    }\n",
       "\n",
       "    .dataframe thead th {\n",
       "        text-align: right;\n",
       "    }\n",
       "</style>\n",
       "<table border=\"1\" class=\"dataframe\">\n",
       "  <thead>\n",
       "    <tr style=\"text-align: right;\">\n",
       "      <th></th>\n",
       "      <th>aisle_id</th>\n",
       "      <th>aisle</th>\n",
       "    </tr>\n",
       "  </thead>\n",
       "  <tbody>\n",
       "    <tr>\n",
       "      <th>0</th>\n",
       "      <td>1</td>\n",
       "      <td>prepared soups salads</td>\n",
       "    </tr>\n",
       "    <tr>\n",
       "      <th>1</th>\n",
       "      <td>2</td>\n",
       "      <td>specialty cheeses</td>\n",
       "    </tr>\n",
       "    <tr>\n",
       "      <th>2</th>\n",
       "      <td>3</td>\n",
       "      <td>energy granola bars</td>\n",
       "    </tr>\n",
       "    <tr>\n",
       "      <th>3</th>\n",
       "      <td>4</td>\n",
       "      <td>instant foods</td>\n",
       "    </tr>\n",
       "    <tr>\n",
       "      <th>4</th>\n",
       "      <td>5</td>\n",
       "      <td>marinades meat preparation</td>\n",
       "    </tr>\n",
       "  </tbody>\n",
       "</table>\n",
       "</div>"
      ],
      "text/plain": [
       "   aisle_id                       aisle\n",
       "0         1       prepared soups salads\n",
       "1         2           specialty cheeses\n",
       "2         3         energy granola bars\n",
       "3         4               instant foods\n",
       "4         5  marinades meat preparation"
      ]
     },
     "execution_count": 35,
     "metadata": {},
     "output_type": "execute_result"
    }
   ],
   "source": [
    "aisles.head()# mostrar información del DataFrame"
   ]
  },
  {
   "cell_type": "code",
   "execution_count": 36,
   "id": "59e2090f",
   "metadata": {
    "id": "59e2090f"
   },
   "outputs": [
    {
     "data": {
      "text/html": [
       "<div>\n",
       "<style scoped>\n",
       "    .dataframe tbody tr th:only-of-type {\n",
       "        vertical-align: middle;\n",
       "    }\n",
       "\n",
       "    .dataframe tbody tr th {\n",
       "        vertical-align: top;\n",
       "    }\n",
       "\n",
       "    .dataframe thead th {\n",
       "        text-align: right;\n",
       "    }\n",
       "</style>\n",
       "<table border=\"1\" class=\"dataframe\">\n",
       "  <thead>\n",
       "    <tr style=\"text-align: right;\">\n",
       "      <th></th>\n",
       "      <th>department_id</th>\n",
       "      <th>department</th>\n",
       "    </tr>\n",
       "  </thead>\n",
       "  <tbody>\n",
       "    <tr>\n",
       "      <th>0</th>\n",
       "      <td>1</td>\n",
       "      <td>frozen</td>\n",
       "    </tr>\n",
       "    <tr>\n",
       "      <th>1</th>\n",
       "      <td>2</td>\n",
       "      <td>other</td>\n",
       "    </tr>\n",
       "    <tr>\n",
       "      <th>2</th>\n",
       "      <td>3</td>\n",
       "      <td>bakery</td>\n",
       "    </tr>\n",
       "    <tr>\n",
       "      <th>3</th>\n",
       "      <td>4</td>\n",
       "      <td>produce</td>\n",
       "    </tr>\n",
       "    <tr>\n",
       "      <th>4</th>\n",
       "      <td>5</td>\n",
       "      <td>alcohol</td>\n",
       "    </tr>\n",
       "  </tbody>\n",
       "</table>\n",
       "</div>"
      ],
      "text/plain": [
       "   department_id department\n",
       "0              1     frozen\n",
       "1              2      other\n",
       "2              3     bakery\n",
       "3              4    produce\n",
       "4              5    alcohol"
      ]
     },
     "execution_count": 36,
     "metadata": {},
     "output_type": "execute_result"
    }
   ],
   "source": [
    "departments.head()# mostrar información del DataFrame"
   ]
  },
  {
   "cell_type": "code",
   "execution_count": 37,
   "id": "6fc81694",
   "metadata": {
    "id": "6fc81694"
   },
   "outputs": [
    {
     "data": {
      "text/html": [
       "<div>\n",
       "<style scoped>\n",
       "    .dataframe tbody tr th:only-of-type {\n",
       "        vertical-align: middle;\n",
       "    }\n",
       "\n",
       "    .dataframe tbody tr th {\n",
       "        vertical-align: top;\n",
       "    }\n",
       "\n",
       "    .dataframe thead th {\n",
       "        text-align: right;\n",
       "    }\n",
       "</style>\n",
       "<table border=\"1\" class=\"dataframe\">\n",
       "  <thead>\n",
       "    <tr style=\"text-align: right;\">\n",
       "      <th></th>\n",
       "      <th>order_id</th>\n",
       "      <th>product_id</th>\n",
       "      <th>add_to_cart_order</th>\n",
       "      <th>reordered</th>\n",
       "    </tr>\n",
       "  </thead>\n",
       "  <tbody>\n",
       "    <tr>\n",
       "      <th>0</th>\n",
       "      <td>2141543</td>\n",
       "      <td>11440</td>\n",
       "      <td>17.0</td>\n",
       "      <td>0</td>\n",
       "    </tr>\n",
       "    <tr>\n",
       "      <th>1</th>\n",
       "      <td>567889</td>\n",
       "      <td>1560</td>\n",
       "      <td>1.0</td>\n",
       "      <td>1</td>\n",
       "    </tr>\n",
       "    <tr>\n",
       "      <th>2</th>\n",
       "      <td>2261212</td>\n",
       "      <td>26683</td>\n",
       "      <td>1.0</td>\n",
       "      <td>1</td>\n",
       "    </tr>\n",
       "    <tr>\n",
       "      <th>3</th>\n",
       "      <td>491251</td>\n",
       "      <td>8670</td>\n",
       "      <td>35.0</td>\n",
       "      <td>1</td>\n",
       "    </tr>\n",
       "    <tr>\n",
       "      <th>4</th>\n",
       "      <td>2571142</td>\n",
       "      <td>1940</td>\n",
       "      <td>5.0</td>\n",
       "      <td>1</td>\n",
       "    </tr>\n",
       "  </tbody>\n",
       "</table>\n",
       "</div>"
      ],
      "text/plain": [
       "   order_id  product_id  add_to_cart_order  reordered\n",
       "0   2141543       11440               17.0          0\n",
       "1    567889        1560                1.0          1\n",
       "2   2261212       26683                1.0          1\n",
       "3    491251        8670               35.0          1\n",
       "4   2571142        1940                5.0          1"
      ]
     },
     "execution_count": 37,
     "metadata": {},
     "output_type": "execute_result"
    }
   ],
   "source": [
    "order_products.head()# mostrar información del DataFrame"
   ]
  },
  {
   "cell_type": "markdown",
   "id": "t75BD19oaR5f",
   "metadata": {
    "id": "t75BD19oaR5f"
   },
   "source": [
    "## Conclusiones\n",
    "\n",
    "Escribe aquí tus conclusiones intermedias sobre el Paso 1. Descripción de los datos.\n",
    "Los dataframes se relaciona entre uno a otros.Y cada dataframes tiene sus propios detalles de los datos.Hay una tabla de ordenes que solo detalla la hora y el dia de cada pedido pero tambien hay una tabla de orden de produtos que detalla cuantos productos se lleno en el carrito y si se volvio a pedir tambien esta la tabla de productos, pasillos y departamentos que describe o identitifica cada uno con su nombre y codigo. "
   ]
  },
  {
   "cell_type": "markdown",
   "id": "8RJHqxVmaVsF",
   "metadata": {
    "id": "8RJHqxVmaVsF"
   },
   "source": [
    "# Paso 2. Preprocesamiento de los datos\n",
    "\n",
    "Preprocesa los datos de la siguiente manera:\n",
    "\n",
    "- Verifica y corrige los tipos de datos (por ejemplo, asegúrate de que las columnas de ID sean números enteros).\n",
    "- Identifica y completa los valores ausentes.\n",
    "- Identifica y elimina los valores duplicados.\n",
    "\n",
    "Asegúrate de explicar qué tipos de valores ausentes y duplicados encontraste, cómo los completaste o eliminaste y por qué usaste esos métodos. ¿Por qué crees que estos valores ausentes y duplicados pueden haber estado presentes en el conjunto de datos?"
   ]
  },
  {
   "cell_type": "markdown",
   "id": "07357848-dc64-4156-9cc3-01ff4365226d",
   "metadata": {
    "id": "07357848-dc64-4156-9cc3-01ff4365226d"
   },
   "source": [
    "## Encuentra y elimina los valores duplicados (y describe cómo tomaste tus decisiones)."
   ]
  },
  {
   "cell_type": "markdown",
   "id": "f179f0a9",
   "metadata": {
    "id": "f179f0a9"
   },
   "source": [
    "### `instacart_orders` data frame"
   ]
  },
  {
   "cell_type": "code",
   "execution_count": 38,
   "id": "b99297a5-405a-463d-8535-9adc3da4ad74",
   "metadata": {
    "id": "b99297a5-405a-463d-8535-9adc3da4ad74"
   },
   "outputs": [
    {
     "data": {
      "text/html": [
       "<div>\n",
       "<style scoped>\n",
       "    .dataframe tbody tr th:only-of-type {\n",
       "        vertical-align: middle;\n",
       "    }\n",
       "\n",
       "    .dataframe tbody tr th {\n",
       "        vertical-align: top;\n",
       "    }\n",
       "\n",
       "    .dataframe thead th {\n",
       "        text-align: right;\n",
       "    }\n",
       "</style>\n",
       "<table border=\"1\" class=\"dataframe\">\n",
       "  <thead>\n",
       "    <tr style=\"text-align: right;\">\n",
       "      <th></th>\n",
       "      <th>order_id</th>\n",
       "      <th>user_id</th>\n",
       "      <th>order_number</th>\n",
       "      <th>order_dow</th>\n",
       "      <th>order_hour_of_day</th>\n",
       "      <th>days_since_prior_order</th>\n",
       "    </tr>\n",
       "  </thead>\n",
       "  <tbody>\n",
       "    <tr>\n",
       "      <th>145574</th>\n",
       "      <td>794638</td>\n",
       "      <td>50898</td>\n",
       "      <td>24</td>\n",
       "      <td>3</td>\n",
       "      <td>2</td>\n",
       "      <td>2.0</td>\n",
       "    </tr>\n",
       "    <tr>\n",
       "      <th>223105</th>\n",
       "      <td>2160484</td>\n",
       "      <td>107525</td>\n",
       "      <td>16</td>\n",
       "      <td>3</td>\n",
       "      <td>2</td>\n",
       "      <td>30.0</td>\n",
       "    </tr>\n",
       "    <tr>\n",
       "      <th>230807</th>\n",
       "      <td>1918001</td>\n",
       "      <td>188546</td>\n",
       "      <td>14</td>\n",
       "      <td>3</td>\n",
       "      <td>2</td>\n",
       "      <td>16.0</td>\n",
       "    </tr>\n",
       "    <tr>\n",
       "      <th>266232</th>\n",
       "      <td>1782114</td>\n",
       "      <td>106752</td>\n",
       "      <td>1</td>\n",
       "      <td>3</td>\n",
       "      <td>2</td>\n",
       "      <td>NaN</td>\n",
       "    </tr>\n",
       "    <tr>\n",
       "      <th>273805</th>\n",
       "      <td>1112182</td>\n",
       "      <td>202304</td>\n",
       "      <td>84</td>\n",
       "      <td>3</td>\n",
       "      <td>2</td>\n",
       "      <td>6.0</td>\n",
       "    </tr>\n",
       "    <tr>\n",
       "      <th>284038</th>\n",
       "      <td>2845099</td>\n",
       "      <td>31189</td>\n",
       "      <td>11</td>\n",
       "      <td>3</td>\n",
       "      <td>2</td>\n",
       "      <td>7.0</td>\n",
       "    </tr>\n",
       "    <tr>\n",
       "      <th>311713</th>\n",
       "      <td>1021560</td>\n",
       "      <td>53767</td>\n",
       "      <td>3</td>\n",
       "      <td>3</td>\n",
       "      <td>2</td>\n",
       "      <td>9.0</td>\n",
       "    </tr>\n",
       "    <tr>\n",
       "      <th>321100</th>\n",
       "      <td>408114</td>\n",
       "      <td>68324</td>\n",
       "      <td>4</td>\n",
       "      <td>3</td>\n",
       "      <td>2</td>\n",
       "      <td>18.0</td>\n",
       "    </tr>\n",
       "    <tr>\n",
       "      <th>323900</th>\n",
       "      <td>1919531</td>\n",
       "      <td>191501</td>\n",
       "      <td>32</td>\n",
       "      <td>3</td>\n",
       "      <td>2</td>\n",
       "      <td>7.0</td>\n",
       "    </tr>\n",
       "    <tr>\n",
       "      <th>345917</th>\n",
       "      <td>2232988</td>\n",
       "      <td>82565</td>\n",
       "      <td>1</td>\n",
       "      <td>3</td>\n",
       "      <td>2</td>\n",
       "      <td>NaN</td>\n",
       "    </tr>\n",
       "    <tr>\n",
       "      <th>371905</th>\n",
       "      <td>391768</td>\n",
       "      <td>57671</td>\n",
       "      <td>19</td>\n",
       "      <td>3</td>\n",
       "      <td>2</td>\n",
       "      <td>10.0</td>\n",
       "    </tr>\n",
       "    <tr>\n",
       "      <th>394347</th>\n",
       "      <td>467134</td>\n",
       "      <td>63189</td>\n",
       "      <td>21</td>\n",
       "      <td>3</td>\n",
       "      <td>2</td>\n",
       "      <td>2.0</td>\n",
       "    </tr>\n",
       "    <tr>\n",
       "      <th>411408</th>\n",
       "      <td>1286742</td>\n",
       "      <td>183220</td>\n",
       "      <td>48</td>\n",
       "      <td>3</td>\n",
       "      <td>2</td>\n",
       "      <td>4.0</td>\n",
       "    </tr>\n",
       "    <tr>\n",
       "      <th>415163</th>\n",
       "      <td>2282673</td>\n",
       "      <td>86751</td>\n",
       "      <td>49</td>\n",
       "      <td>3</td>\n",
       "      <td>2</td>\n",
       "      <td>2.0</td>\n",
       "    </tr>\n",
       "    <tr>\n",
       "      <th>441599</th>\n",
       "      <td>2125197</td>\n",
       "      <td>14050</td>\n",
       "      <td>48</td>\n",
       "      <td>3</td>\n",
       "      <td>2</td>\n",
       "      <td>3.0</td>\n",
       "    </tr>\n",
       "  </tbody>\n",
       "</table>\n",
       "</div>"
      ],
      "text/plain": [
       "        order_id  user_id  order_number  order_dow  order_hour_of_day  \\\n",
       "145574    794638    50898            24          3                  2   \n",
       "223105   2160484   107525            16          3                  2   \n",
       "230807   1918001   188546            14          3                  2   \n",
       "266232   1782114   106752             1          3                  2   \n",
       "273805   1112182   202304            84          3                  2   \n",
       "284038   2845099    31189            11          3                  2   \n",
       "311713   1021560    53767             3          3                  2   \n",
       "321100    408114    68324             4          3                  2   \n",
       "323900   1919531   191501            32          3                  2   \n",
       "345917   2232988    82565             1          3                  2   \n",
       "371905    391768    57671            19          3                  2   \n",
       "394347    467134    63189            21          3                  2   \n",
       "411408   1286742   183220            48          3                  2   \n",
       "415163   2282673    86751            49          3                  2   \n",
       "441599   2125197    14050            48          3                  2   \n",
       "\n",
       "        days_since_prior_order  \n",
       "145574                     2.0  \n",
       "223105                    30.0  \n",
       "230807                    16.0  \n",
       "266232                     NaN  \n",
       "273805                     6.0  \n",
       "284038                     7.0  \n",
       "311713                     9.0  \n",
       "321100                    18.0  \n",
       "323900                     7.0  \n",
       "345917                     NaN  \n",
       "371905                    10.0  \n",
       "394347                     2.0  \n",
       "411408                     4.0  \n",
       "415163                     2.0  \n",
       "441599                     3.0  "
      ]
     },
     "execution_count": 38,
     "metadata": {},
     "output_type": "execute_result"
    }
   ],
   "source": [
    "pedidos[pedidos.duplicated()]# Revisa si hay pedidos duplicados\n"
   ]
  },
  {
   "cell_type": "code",
   "execution_count": 39,
   "id": "dce2460f",
   "metadata": {},
   "outputs": [
    {
     "data": {
      "text/plain": [
       "15"
      ]
     },
     "execution_count": 39,
     "metadata": {},
     "output_type": "execute_result"
    }
   ],
   "source": [
    "pedidos.duplicated().sum()"
   ]
  },
  {
   "cell_type": "markdown",
   "id": "PEkwUX_gvt5A",
   "metadata": {
    "id": "PEkwUX_gvt5A"
   },
   "source": [
    "¿Tienes líneas duplicadas? Si sí, ¿qué tienen en común? \n",
    "Tienen en comun 2 columnas order_dow y order_hour_of_day el cual se repite los dias miercoles y 2 de la mañana"
   ]
  },
  {
   "cell_type": "markdown",
   "id": "d44f920f",
   "metadata": {},
   "source": [
    "<div class=\"alert alert-block alert-warning\">\n",
    "<b>Comentario del revisor</b> <a class=\"tocSkip\"></a>\n",
    "    \n",
    "Que día y hora se producen los duplicados?\n",
    "</div>"
   ]
  },
  {
   "cell_type": "code",
   "execution_count": 40,
   "id": "0d44de5d",
   "metadata": {
    "id": "0d44de5d"
   },
   "outputs": [
    {
     "data": {
      "text/html": [
       "<div>\n",
       "<style scoped>\n",
       "    .dataframe tbody tr th:only-of-type {\n",
       "        vertical-align: middle;\n",
       "    }\n",
       "\n",
       "    .dataframe tbody tr th {\n",
       "        vertical-align: top;\n",
       "    }\n",
       "\n",
       "    .dataframe thead th {\n",
       "        text-align: right;\n",
       "    }\n",
       "</style>\n",
       "<table border=\"1\" class=\"dataframe\">\n",
       "  <thead>\n",
       "    <tr style=\"text-align: right;\">\n",
       "      <th></th>\n",
       "      <th>order_id</th>\n",
       "      <th>user_id</th>\n",
       "      <th>order_number</th>\n",
       "      <th>order_dow</th>\n",
       "      <th>order_hour_of_day</th>\n",
       "      <th>days_since_prior_order</th>\n",
       "    </tr>\n",
       "  </thead>\n",
       "  <tbody>\n",
       "    <tr>\n",
       "      <th>4838</th>\n",
       "      <td>2766110</td>\n",
       "      <td>162084</td>\n",
       "      <td>41</td>\n",
       "      <td>3</td>\n",
       "      <td>2</td>\n",
       "      <td>16.0</td>\n",
       "    </tr>\n",
       "    <tr>\n",
       "      <th>5156</th>\n",
       "      <td>2190225</td>\n",
       "      <td>138285</td>\n",
       "      <td>18</td>\n",
       "      <td>3</td>\n",
       "      <td>2</td>\n",
       "      <td>11.0</td>\n",
       "    </tr>\n",
       "    <tr>\n",
       "      <th>15506</th>\n",
       "      <td>553049</td>\n",
       "      <td>58599</td>\n",
       "      <td>13</td>\n",
       "      <td>3</td>\n",
       "      <td>2</td>\n",
       "      <td>7.0</td>\n",
       "    </tr>\n",
       "    <tr>\n",
       "      <th>18420</th>\n",
       "      <td>382357</td>\n",
       "      <td>120200</td>\n",
       "      <td>19</td>\n",
       "      <td>3</td>\n",
       "      <td>2</td>\n",
       "      <td>11.0</td>\n",
       "    </tr>\n",
       "    <tr>\n",
       "      <th>24691</th>\n",
       "      <td>690242</td>\n",
       "      <td>77357</td>\n",
       "      <td>2</td>\n",
       "      <td>3</td>\n",
       "      <td>2</td>\n",
       "      <td>9.0</td>\n",
       "    </tr>\n",
       "    <tr>\n",
       "      <th>...</th>\n",
       "      <td>...</td>\n",
       "      <td>...</td>\n",
       "      <td>...</td>\n",
       "      <td>...</td>\n",
       "      <td>...</td>\n",
       "      <td>...</td>\n",
       "    </tr>\n",
       "    <tr>\n",
       "      <th>457013</th>\n",
       "      <td>3384021</td>\n",
       "      <td>14881</td>\n",
       "      <td>6</td>\n",
       "      <td>3</td>\n",
       "      <td>2</td>\n",
       "      <td>30.0</td>\n",
       "    </tr>\n",
       "    <tr>\n",
       "      <th>458816</th>\n",
       "      <td>910166</td>\n",
       "      <td>164782</td>\n",
       "      <td>18</td>\n",
       "      <td>3</td>\n",
       "      <td>2</td>\n",
       "      <td>4.0</td>\n",
       "    </tr>\n",
       "    <tr>\n",
       "      <th>459635</th>\n",
       "      <td>1680532</td>\n",
       "      <td>106435</td>\n",
       "      <td>6</td>\n",
       "      <td>3</td>\n",
       "      <td>2</td>\n",
       "      <td>21.0</td>\n",
       "    </tr>\n",
       "    <tr>\n",
       "      <th>468324</th>\n",
       "      <td>222962</td>\n",
       "      <td>54979</td>\n",
       "      <td>59</td>\n",
       "      <td>3</td>\n",
       "      <td>2</td>\n",
       "      <td>3.0</td>\n",
       "    </tr>\n",
       "    <tr>\n",
       "      <th>477526</th>\n",
       "      <td>2592344</td>\n",
       "      <td>46860</td>\n",
       "      <td>38</td>\n",
       "      <td>3</td>\n",
       "      <td>2</td>\n",
       "      <td>3.0</td>\n",
       "    </tr>\n",
       "  </tbody>\n",
       "</table>\n",
       "<p>121 rows × 6 columns</p>\n",
       "</div>"
      ],
      "text/plain": [
       "        order_id  user_id  order_number  order_dow  order_hour_of_day  \\\n",
       "4838     2766110   162084            41          3                  2   \n",
       "5156     2190225   138285            18          3                  2   \n",
       "15506     553049    58599            13          3                  2   \n",
       "18420     382357   120200            19          3                  2   \n",
       "24691     690242    77357             2          3                  2   \n",
       "...          ...      ...           ...        ...                ...   \n",
       "457013   3384021    14881             6          3                  2   \n",
       "458816    910166   164782            18          3                  2   \n",
       "459635   1680532   106435             6          3                  2   \n",
       "468324    222962    54979            59          3                  2   \n",
       "477526   2592344    46860            38          3                  2   \n",
       "\n",
       "        days_since_prior_order  \n",
       "4838                      16.0  \n",
       "5156                      11.0  \n",
       "15506                      7.0  \n",
       "18420                     11.0  \n",
       "24691                      9.0  \n",
       "...                        ...  \n",
       "457013                    30.0  \n",
       "458816                     4.0  \n",
       "459635                    21.0  \n",
       "468324                     3.0  \n",
       "477526                     3.0  \n",
       "\n",
       "[121 rows x 6 columns]"
      ]
     },
     "execution_count": 40,
     "metadata": {},
     "output_type": "execute_result"
    }
   ],
   "source": [
    "# Basándote en tus hallazgos,\n",
    "# Verifica todos los pedidos que se hicieron el miércoles a las 2:00 a.m.\n",
    "pedidos[(pedidos[\"order_dow\"]==3) & (pedidos[\"order_hour_of_day\"]==2)]"
   ]
  },
  {
   "cell_type": "markdown",
   "id": "vu2OWyoqwOx5",
   "metadata": {
    "id": "vu2OWyoqwOx5"
   },
   "source": [
    "¿Qué sugiere este resultado? De los 121 , 15 filas se estan repitiendo "
   ]
  },
  {
   "cell_type": "code",
   "execution_count": 41,
   "id": "480563c7",
   "metadata": {
    "id": "480563c7"
   },
   "outputs": [
    {
     "data": {
      "text/html": [
       "<div>\n",
       "<style scoped>\n",
       "    .dataframe tbody tr th:only-of-type {\n",
       "        vertical-align: middle;\n",
       "    }\n",
       "\n",
       "    .dataframe tbody tr th {\n",
       "        vertical-align: top;\n",
       "    }\n",
       "\n",
       "    .dataframe thead th {\n",
       "        text-align: right;\n",
       "    }\n",
       "</style>\n",
       "<table border=\"1\" class=\"dataframe\">\n",
       "  <thead>\n",
       "    <tr style=\"text-align: right;\">\n",
       "      <th></th>\n",
       "      <th>order_id</th>\n",
       "      <th>user_id</th>\n",
       "      <th>order_number</th>\n",
       "      <th>order_dow</th>\n",
       "      <th>order_hour_of_day</th>\n",
       "      <th>days_since_prior_order</th>\n",
       "    </tr>\n",
       "  </thead>\n",
       "  <tbody>\n",
       "    <tr>\n",
       "      <th>0</th>\n",
       "      <td>1515936</td>\n",
       "      <td>183418</td>\n",
       "      <td>11</td>\n",
       "      <td>6</td>\n",
       "      <td>13</td>\n",
       "      <td>30.0</td>\n",
       "    </tr>\n",
       "    <tr>\n",
       "      <th>1</th>\n",
       "      <td>1690866</td>\n",
       "      <td>163593</td>\n",
       "      <td>5</td>\n",
       "      <td>5</td>\n",
       "      <td>12</td>\n",
       "      <td>9.0</td>\n",
       "    </tr>\n",
       "    <tr>\n",
       "      <th>2</th>\n",
       "      <td>1454967</td>\n",
       "      <td>39980</td>\n",
       "      <td>4</td>\n",
       "      <td>5</td>\n",
       "      <td>19</td>\n",
       "      <td>2.0</td>\n",
       "    </tr>\n",
       "    <tr>\n",
       "      <th>3</th>\n",
       "      <td>1768857</td>\n",
       "      <td>82516</td>\n",
       "      <td>56</td>\n",
       "      <td>0</td>\n",
       "      <td>20</td>\n",
       "      <td>10.0</td>\n",
       "    </tr>\n",
       "    <tr>\n",
       "      <th>4</th>\n",
       "      <td>3007858</td>\n",
       "      <td>196724</td>\n",
       "      <td>2</td>\n",
       "      <td>4</td>\n",
       "      <td>12</td>\n",
       "      <td>17.0</td>\n",
       "    </tr>\n",
       "    <tr>\n",
       "      <th>...</th>\n",
       "      <td>...</td>\n",
       "      <td>...</td>\n",
       "      <td>...</td>\n",
       "      <td>...</td>\n",
       "      <td>...</td>\n",
       "      <td>...</td>\n",
       "    </tr>\n",
       "    <tr>\n",
       "      <th>478962</th>\n",
       "      <td>3210681</td>\n",
       "      <td>5617</td>\n",
       "      <td>5</td>\n",
       "      <td>1</td>\n",
       "      <td>14</td>\n",
       "      <td>7.0</td>\n",
       "    </tr>\n",
       "    <tr>\n",
       "      <th>478963</th>\n",
       "      <td>3270802</td>\n",
       "      <td>112087</td>\n",
       "      <td>2</td>\n",
       "      <td>3</td>\n",
       "      <td>13</td>\n",
       "      <td>6.0</td>\n",
       "    </tr>\n",
       "    <tr>\n",
       "      <th>478964</th>\n",
       "      <td>885349</td>\n",
       "      <td>82944</td>\n",
       "      <td>16</td>\n",
       "      <td>2</td>\n",
       "      <td>11</td>\n",
       "      <td>6.0</td>\n",
       "    </tr>\n",
       "    <tr>\n",
       "      <th>478965</th>\n",
       "      <td>216274</td>\n",
       "      <td>4391</td>\n",
       "      <td>3</td>\n",
       "      <td>3</td>\n",
       "      <td>8</td>\n",
       "      <td>8.0</td>\n",
       "    </tr>\n",
       "    <tr>\n",
       "      <th>478966</th>\n",
       "      <td>2071924</td>\n",
       "      <td>1730</td>\n",
       "      <td>18</td>\n",
       "      <td>1</td>\n",
       "      <td>14</td>\n",
       "      <td>15.0</td>\n",
       "    </tr>\n",
       "  </tbody>\n",
       "</table>\n",
       "<p>478952 rows × 6 columns</p>\n",
       "</div>"
      ],
      "text/plain": [
       "        order_id  user_id  order_number  order_dow  order_hour_of_day  \\\n",
       "0        1515936   183418            11          6                 13   \n",
       "1        1690866   163593             5          5                 12   \n",
       "2        1454967    39980             4          5                 19   \n",
       "3        1768857    82516            56          0                 20   \n",
       "4        3007858   196724             2          4                 12   \n",
       "...          ...      ...           ...        ...                ...   \n",
       "478962   3210681     5617             5          1                 14   \n",
       "478963   3270802   112087             2          3                 13   \n",
       "478964    885349    82944            16          2                 11   \n",
       "478965    216274     4391             3          3                  8   \n",
       "478966   2071924     1730            18          1                 14   \n",
       "\n",
       "        days_since_prior_order  \n",
       "0                         30.0  \n",
       "1                          9.0  \n",
       "2                          2.0  \n",
       "3                         10.0  \n",
       "4                         17.0  \n",
       "...                        ...  \n",
       "478962                     7.0  \n",
       "478963                     6.0  \n",
       "478964                     6.0  \n",
       "478965                     8.0  \n",
       "478966                    15.0  \n",
       "\n",
       "[478952 rows x 6 columns]"
      ]
     },
     "execution_count": 41,
     "metadata": {},
     "output_type": "execute_result"
    }
   ],
   "source": [
    "pedidos=pedidos.drop_duplicates()# Elimina los pedidos duplicados\n",
    "pedidos"
   ]
  },
  {
   "cell_type": "code",
   "execution_count": 42,
   "id": "0b2396a2",
   "metadata": {
    "id": "0b2396a2"
   },
   "outputs": [
    {
     "data": {
      "text/plain": [
       "0"
      ]
     },
     "execution_count": 42,
     "metadata": {},
     "output_type": "execute_result"
    }
   ],
   "source": [
    "pedidos.duplicated().sum()# Vuelve a verificar si hay filas duplicadas\n"
   ]
  },
  {
   "cell_type": "code",
   "execution_count": 43,
   "id": "f6113ef1",
   "metadata": {
    "id": "f6113ef1"
   },
   "outputs": [
    {
     "data": {
      "text/plain": [
       "0"
      ]
     },
     "execution_count": 43,
     "metadata": {},
     "output_type": "execute_result"
    }
   ],
   "source": [
    "pedidos[\"order_id\"].duplicated().sum()# Vuelve a verificar únicamente si hay IDs duplicados de pedidos\n"
   ]
  },
  {
   "cell_type": "markdown",
   "id": "5e8905ae",
   "metadata": {
    "id": "5e8905ae"
   },
   "source": [
    "Describe brevemente tus hallazgos y lo que hiciste con ellos\n",
    "Se eliminó las filas duplicados y atraves de ellos también se quiso averiguar sitambien habia order_id duplicados por el cual no habia."
   ]
  },
  {
   "cell_type": "markdown",
   "id": "45e6bc46",
   "metadata": {
    "id": "45e6bc46"
   },
   "source": [
    "### `products` data frame"
   ]
  },
  {
   "cell_type": "code",
   "execution_count": 44,
   "id": "5f526b5b-8175-46fa-a0fd-441767d50e64",
   "metadata": {
    "id": "5f526b5b-8175-46fa-a0fd-441767d50e64"
   },
   "outputs": [
    {
     "data": {
      "text/plain": [
       "0"
      ]
     },
     "execution_count": 44,
     "metadata": {},
     "output_type": "execute_result"
    }
   ],
   "source": [
    "# Verifica si hay filas totalmente duplicadas\n",
    "products.duplicated().sum()"
   ]
  },
  {
   "cell_type": "code",
   "execution_count": 45,
   "id": "88daa4f4",
   "metadata": {
    "id": "88daa4f4"
   },
   "outputs": [
    {
     "data": {
      "text/plain": [
       "49673"
      ]
     },
     "execution_count": 45,
     "metadata": {},
     "output_type": "execute_result"
    }
   ],
   "source": [
    "products[\"department_id\"].duplicated().sum()# Revisa únicamente si hay ID de departamentos duplicados\n"
   ]
  },
  {
   "cell_type": "code",
   "execution_count": 46,
   "id": "c773f0bf",
   "metadata": {
    "id": "c773f0bf"
   },
   "outputs": [
    {
     "data": {
      "text/plain": [
       "1361"
      ]
     },
     "execution_count": 46,
     "metadata": {},
     "output_type": "execute_result"
    }
   ],
   "source": [
    "products[\"product_name\"].str.upper().duplicated().sum()# Revisa únicamente si hay nombres duplicados de productos (convierte los nombres a letras mayúsculas para compararlos mejor)\n"
   ]
  },
  {
   "cell_type": "code",
   "execution_count": 47,
   "id": "01efd02e",
   "metadata": {
    "id": "01efd02e"
   },
   "outputs": [
    {
     "data": {
      "text/plain": [
       "104"
      ]
     },
     "execution_count": 47,
     "metadata": {},
     "output_type": "execute_result"
    }
   ],
   "source": [
    "products[~products[\"product_name\"].isna()][\"product_name\"].str.upper().duplicated().sum()# Revisa si hay nombres duplicados de productos no faltantes\n"
   ]
  },
  {
   "cell_type": "markdown",
   "id": "9da8d293",
   "metadata": {
    "id": "9da8d293"
   },
   "source": [
    "Describe brevemente tus hallazgos y lo que hiciste con ellos.\n",
    "Vemos que esta tabla datalla los productos unicos y varios productos estan ubicados en el mismo departamento es por eso que hay valores duplicados en la columna de departamentos y tambien vemos que se han registrados los nombres de los productos en mayuscula y en minuscula por eso tamben vemos duplicados de algunos en la columna de nombre muy aoarte de los valores ausentes."
   ]
  },
  {
   "cell_type": "markdown",
   "id": "614296d2",
   "metadata": {},
   "source": [
    "<div class=\"alert alert-block alert-danger\">\n",
    "<b>Comentario del revisor</b> <a class=\"tocSkip\"></a>\n",
    "    \n",
    "Por que si hay duplicados en department_id y product_name?\n",
    "</div>"
   ]
  },
  {
   "cell_type": "markdown",
   "id": "60f30db1",
   "metadata": {
    "id": "60f30db1"
   },
   "source": [
    "### `departments` data frame"
   ]
  },
  {
   "cell_type": "code",
   "execution_count": 49,
   "id": "fb410ad4-0fbf-4b80-bb09-23fdea79afe3",
   "metadata": {
    "id": "fb410ad4-0fbf-4b80-bb09-23fdea79afe3"
   },
   "outputs": [
    {
     "data": {
      "text/plain": [
       "0"
      ]
     },
     "execution_count": 49,
     "metadata": {},
     "output_type": "execute_result"
    }
   ],
   "source": [
    "departments.duplicated().sum()# Revisa si hay filas totalmente duplicadas"
   ]
  },
  {
   "cell_type": "code",
   "execution_count": 50,
   "id": "332b12bb",
   "metadata": {
    "id": "332b12bb"
   },
   "outputs": [
    {
     "data": {
      "text/plain": [
       "0"
      ]
     },
     "execution_count": 50,
     "metadata": {},
     "output_type": "execute_result"
    }
   ],
   "source": [
    "departments[\"department\"].duplicated().sum()# Revisa únicamente si hay IDs duplicadas de productos"
   ]
  },
  {
   "cell_type": "markdown",
   "id": "bd30d78e",
   "metadata": {
    "id": "bd30d78e"
   },
   "source": [
    "Describe brevemente tus hallazgos y lo que hiciste con ellos.\n",
    "Al no haber totalmente duplicados en filas en ninguna de las columnas se encuentra duplicados.  "
   ]
  },
  {
   "cell_type": "markdown",
   "id": "889349c1",
   "metadata": {
    "id": "889349c1"
   },
   "source": [
    "### `aisles` data frame"
   ]
  },
  {
   "cell_type": "code",
   "execution_count": 51,
   "id": "9da89fb9-4679-40f5-ad0d-c34df753a3f8",
   "metadata": {
    "id": "9da89fb9-4679-40f5-ad0d-c34df753a3f8"
   },
   "outputs": [
    {
     "data": {
      "text/plain": [
       "0"
      ]
     },
     "execution_count": 51,
     "metadata": {},
     "output_type": "execute_result"
    }
   ],
   "source": [
    "aisles.duplicated().sum()# Revisa si hay filas totalmente duplicadas"
   ]
  },
  {
   "cell_type": "code",
   "execution_count": 52,
   "id": "da7c2822",
   "metadata": {
    "id": "da7c2822"
   },
   "outputs": [
    {
     "data": {
      "text/plain": [
       "0"
      ]
     },
     "execution_count": 52,
     "metadata": {},
     "output_type": "execute_result"
    }
   ],
   "source": [
    "aisles[\"aisle\"].duplicated().sum()# Revisa únicamente si hay IDs duplicadas de productos"
   ]
  },
  {
   "cell_type": "markdown",
   "id": "ac63826f",
   "metadata": {
    "id": "ac63826f"
   },
   "source": [
    "Describe brevemente tus hallazgos y lo que hiciste con ellos.\n",
    "no hay duplicados en su totalidad ni por columna"
   ]
  },
  {
   "cell_type": "markdown",
   "id": "274cd06a",
   "metadata": {
    "id": "274cd06a"
   },
   "source": [
    "### `order_products` data frame"
   ]
  },
  {
   "cell_type": "code",
   "execution_count": 53,
   "id": "52326689-84a8-4b8f-a881-7c68780f62c9",
   "metadata": {
    "id": "52326689-84a8-4b8f-a881-7c68780f62c9"
   },
   "outputs": [
    {
     "data": {
      "text/plain": [
       "0"
      ]
     },
     "execution_count": 53,
     "metadata": {},
     "output_type": "execute_result"
    }
   ],
   "source": [
    "order_products.duplicated().sum()# Revisa si hay filas totalmente duplicadas\n"
   ]
  },
  {
   "cell_type": "code",
   "execution_count": 54,
   "id": "7b861391",
   "metadata": {
    "id": "7b861391"
   },
   "outputs": [
    {
     "data": {
      "text/plain": [
       "0"
      ]
     },
     "execution_count": 54,
     "metadata": {},
     "output_type": "execute_result"
    }
   ],
   "source": [
    "order_products.loc[:,\"order_id\":\"product_id\"].duplicated().sum()# Vuelve a verificar si hay cualquier otro duplicado engañoso\n"
   ]
  },
  {
   "cell_type": "markdown",
   "id": "0b890492",
   "metadata": {
    "id": "0b890492"
   },
   "source": [
    "Describe brevemente tus hallazgos y lo que hiciste con ellos.\n",
    "no hay duplicados en su totalidad ni por columna"
   ]
  },
  {
   "cell_type": "markdown",
   "id": "1e46de76",
   "metadata": {
    "id": "1e46de76"
   },
   "source": [
    "## Encuentra y elimina los valores ausentes\n",
    "\n",
    "Al trabajar con valores duplicados, pudimos observar que también nos falta investigar valores ausentes:\n",
    "\n",
    "* La columna `'product_name'` de la tabla products.\n",
    "* La columna `'days_since_prior_order'` de la tabla orders.\n",
    "* La columna `'add_to_cart_order'` de la tabla order_productos."
   ]
  },
  {
   "cell_type": "markdown",
   "id": "c0aebd78",
   "metadata": {
    "id": "c0aebd78"
   },
   "source": [
    "### `products` data frame"
   ]
  },
  {
   "cell_type": "code",
   "execution_count": 55,
   "id": "fe4a8b0f",
   "metadata": {
    "id": "fe4a8b0f"
   },
   "outputs": [
    {
     "data": {
      "text/html": [
       "<div>\n",
       "<style scoped>\n",
       "    .dataframe tbody tr th:only-of-type {\n",
       "        vertical-align: middle;\n",
       "    }\n",
       "\n",
       "    .dataframe tbody tr th {\n",
       "        vertical-align: top;\n",
       "    }\n",
       "\n",
       "    .dataframe thead th {\n",
       "        text-align: right;\n",
       "    }\n",
       "</style>\n",
       "<table border=\"1\" class=\"dataframe\">\n",
       "  <thead>\n",
       "    <tr style=\"text-align: right;\">\n",
       "      <th></th>\n",
       "      <th>product_id</th>\n",
       "      <th>product_name</th>\n",
       "      <th>aisle_id</th>\n",
       "      <th>department_id</th>\n",
       "    </tr>\n",
       "  </thead>\n",
       "  <tbody>\n",
       "    <tr>\n",
       "      <th>37</th>\n",
       "      <td>38</td>\n",
       "      <td>NaN</td>\n",
       "      <td>100</td>\n",
       "      <td>21</td>\n",
       "    </tr>\n",
       "    <tr>\n",
       "      <th>71</th>\n",
       "      <td>72</td>\n",
       "      <td>NaN</td>\n",
       "      <td>100</td>\n",
       "      <td>21</td>\n",
       "    </tr>\n",
       "    <tr>\n",
       "      <th>109</th>\n",
       "      <td>110</td>\n",
       "      <td>NaN</td>\n",
       "      <td>100</td>\n",
       "      <td>21</td>\n",
       "    </tr>\n",
       "    <tr>\n",
       "      <th>296</th>\n",
       "      <td>297</td>\n",
       "      <td>NaN</td>\n",
       "      <td>100</td>\n",
       "      <td>21</td>\n",
       "    </tr>\n",
       "    <tr>\n",
       "      <th>416</th>\n",
       "      <td>417</td>\n",
       "      <td>NaN</td>\n",
       "      <td>100</td>\n",
       "      <td>21</td>\n",
       "    </tr>\n",
       "    <tr>\n",
       "      <th>...</th>\n",
       "      <td>...</td>\n",
       "      <td>...</td>\n",
       "      <td>...</td>\n",
       "      <td>...</td>\n",
       "    </tr>\n",
       "    <tr>\n",
       "      <th>49552</th>\n",
       "      <td>49553</td>\n",
       "      <td>NaN</td>\n",
       "      <td>100</td>\n",
       "      <td>21</td>\n",
       "    </tr>\n",
       "    <tr>\n",
       "      <th>49574</th>\n",
       "      <td>49575</td>\n",
       "      <td>NaN</td>\n",
       "      <td>100</td>\n",
       "      <td>21</td>\n",
       "    </tr>\n",
       "    <tr>\n",
       "      <th>49640</th>\n",
       "      <td>49641</td>\n",
       "      <td>NaN</td>\n",
       "      <td>100</td>\n",
       "      <td>21</td>\n",
       "    </tr>\n",
       "    <tr>\n",
       "      <th>49663</th>\n",
       "      <td>49664</td>\n",
       "      <td>NaN</td>\n",
       "      <td>100</td>\n",
       "      <td>21</td>\n",
       "    </tr>\n",
       "    <tr>\n",
       "      <th>49668</th>\n",
       "      <td>49669</td>\n",
       "      <td>NaN</td>\n",
       "      <td>100</td>\n",
       "      <td>21</td>\n",
       "    </tr>\n",
       "  </tbody>\n",
       "</table>\n",
       "<p>1258 rows × 4 columns</p>\n",
       "</div>"
      ],
      "text/plain": [
       "       product_id product_name  aisle_id  department_id\n",
       "37             38          NaN       100             21\n",
       "71             72          NaN       100             21\n",
       "109           110          NaN       100             21\n",
       "296           297          NaN       100             21\n",
       "416           417          NaN       100             21\n",
       "...           ...          ...       ...            ...\n",
       "49552       49553          NaN       100             21\n",
       "49574       49575          NaN       100             21\n",
       "49640       49641          NaN       100             21\n",
       "49663       49664          NaN       100             21\n",
       "49668       49669          NaN       100             21\n",
       "\n",
       "[1258 rows x 4 columns]"
      ]
     },
     "execution_count": 55,
     "metadata": {},
     "output_type": "execute_result"
    }
   ],
   "source": [
    "products[products[\"product_name\"].isna()]# Encuentra los valores ausentes en la columna 'product_name'"
   ]
  },
  {
   "cell_type": "markdown",
   "id": "-A6x1AbJhjkp",
   "metadata": {
    "id": "-A6x1AbJhjkp"
   },
   "source": [
    "Describe brevemente cuáles son tus hallazgos.Aparentemente estan relacionados con id de pasillo 100 e id de departamento 21 , en total son 1258 filas de valores ausentes."
   ]
  },
  {
   "cell_type": "code",
   "execution_count": 56,
   "id": "e96167bc",
   "metadata": {
    "id": "e96167bc"
   },
   "outputs": [
    {
     "data": {
      "text/plain": [
       "0"
      ]
     },
     "execution_count": 56,
     "metadata": {},
     "output_type": "execute_result"
    }
   ],
   "source": [
    "#  ¿Todos los nombres de productos ausentes están relacionados con el pasillo con ID 100?\n",
    "(products[~products[\"product_name\"].isna()][\"aisle_id\"]==100).sum()"
   ]
  },
  {
   "cell_type": "markdown",
   "id": "WRpIfXRphpSL",
   "metadata": {
    "id": "WRpIfXRphpSL"
   },
   "source": [
    "Describe brevemente cuáles son tus hallazgos.\n",
    "Efectivamente todos los pasillos con id 100 esta relacionado con los valores ausentes de los productos ya que en todos los pasillos 100 no hay valores que no son ausentes."
   ]
  },
  {
   "cell_type": "code",
   "execution_count": 58,
   "id": "8fd0a541",
   "metadata": {
    "id": "8fd0a541"
   },
   "outputs": [
    {
     "data": {
      "text/plain": [
       "0"
      ]
     },
     "execution_count": 58,
     "metadata": {},
     "output_type": "execute_result"
    }
   ],
   "source": [
    "# ¿Todos los nombres de productos ausentes están relacionados con el departamento con ID 21?\n",
    "(products[~products[\"product_name\"].isna()][\"department_id\"]==21).sum()"
   ]
  },
  {
   "cell_type": "markdown",
   "id": "qDpdYn1Fht_I",
   "metadata": {
    "id": "qDpdYn1Fht_I"
   },
   "source": [
    "Describe brevemente cuáles son tus hallazgos.\n",
    "Efectivamente todos los departamento con id 21 esta relacionado con los valores ausentes de los productos ya que en todos los pasillos 21 no estan relacionada con nombre de productos."
   ]
  },
  {
   "cell_type": "code",
   "execution_count": 59,
   "id": "325c3464",
   "metadata": {
    "id": "325c3464"
   },
   "outputs": [
    {
     "data": {
      "text/html": [
       "<div>\n",
       "<style scoped>\n",
       "    .dataframe tbody tr th:only-of-type {\n",
       "        vertical-align: middle;\n",
       "    }\n",
       "\n",
       "    .dataframe tbody tr th {\n",
       "        vertical-align: top;\n",
       "    }\n",
       "\n",
       "    .dataframe thead th {\n",
       "        text-align: right;\n",
       "    }\n",
       "</style>\n",
       "<table border=\"1\" class=\"dataframe\">\n",
       "  <thead>\n",
       "    <tr style=\"text-align: right;\">\n",
       "      <th></th>\n",
       "      <th>aisle_id</th>\n",
       "      <th>aisle</th>\n",
       "    </tr>\n",
       "  </thead>\n",
       "  <tbody>\n",
       "    <tr>\n",
       "      <th>99</th>\n",
       "      <td>100</td>\n",
       "      <td>missing</td>\n",
       "    </tr>\n",
       "  </tbody>\n",
       "</table>\n",
       "</div>"
      ],
      "text/plain": [
       "    aisle_id    aisle\n",
       "99       100  missing"
      ]
     },
     "execution_count": 59,
     "metadata": {},
     "output_type": "execute_result"
    }
   ],
   "source": [
    "# Usa las tablas department y aisle para revisar los datos del pasillo con ID 100 y el departamento con ID 21.\n",
    "#departments[departments[\"department_id\"]==21] \n",
    "aisles[aisles[\"aisle_id\"]==100]"
   ]
  },
  {
   "cell_type": "markdown",
   "id": "nqhSTUPhhvEJ",
   "metadata": {
    "id": "nqhSTUPhhvEJ"
   },
   "source": [
    "Describe brevemente cuáles son tus hallazgos. comparte tanto el pasillo y department MISSING, indica que es un pasillo desaparecido por que al no identificar que productos son, se le asigna a pasillo y departamento no identificable y por eso estan en \"DESAPARECIDO\""
   ]
  },
  {
   "cell_type": "code",
   "execution_count": 60,
   "id": "6b295120",
   "metadata": {
    "id": "6b295120"
   },
   "outputs": [
    {
     "data": {
      "text/plain": [
       "product_id       0\n",
       "product_name     0\n",
       "aisle_id         0\n",
       "department_id    0\n",
       "dtype: int64"
      ]
     },
     "execution_count": 60,
     "metadata": {},
     "output_type": "execute_result"
    }
   ],
   "source": [
    "products[\"product_name\"]=products[\"product_name\"].fillna(\"Unknown\")\n",
    "products.isna().sum()# Completa los nombres de productos ausentes con 'Unknown'\n"
   ]
  },
  {
   "cell_type": "markdown",
   "id": "fc70e5ad",
   "metadata": {
    "id": "fc70e5ad"
   },
   "source": [
    "Describe brevemente tus hallazgos y lo que hiciste con ellos.\n",
    "Se volvio asignar la variable de la columna de los nombre de los productos para rellenar los valores ausentes  y al volver mostrar ya no indicaba ningun NA  \n"
   ]
  },
  {
   "cell_type": "markdown",
   "id": "7eb45c86",
   "metadata": {
    "id": "7eb45c86"
   },
   "source": [
    "### `orders` data frame"
   ]
  },
  {
   "cell_type": "code",
   "execution_count": 61,
   "id": "93e41d96",
   "metadata": {
    "id": "93e41d96"
   },
   "outputs": [
    {
     "data": {
      "text/plain": [
       "order_id                      0\n",
       "user_id                       0\n",
       "order_number                  0\n",
       "order_dow                     0\n",
       "order_hour_of_day             0\n",
       "days_since_prior_order    28817\n",
       "dtype: int64"
      ]
     },
     "execution_count": 61,
     "metadata": {},
     "output_type": "execute_result"
    }
   ],
   "source": [
    "pedidos.isna().sum()# Encuentra los valores ausentes"
   ]
  },
  {
   "cell_type": "code",
   "execution_count": 95,
   "id": "3270407e",
   "metadata": {},
   "outputs": [
    {
     "data": {
      "text/html": [
       "<div>\n",
       "<style scoped>\n",
       "    .dataframe tbody tr th:only-of-type {\n",
       "        vertical-align: middle;\n",
       "    }\n",
       "\n",
       "    .dataframe tbody tr th {\n",
       "        vertical-align: top;\n",
       "    }\n",
       "\n",
       "    .dataframe thead th {\n",
       "        text-align: right;\n",
       "    }\n",
       "</style>\n",
       "<table border=\"1\" class=\"dataframe\">\n",
       "  <thead>\n",
       "    <tr style=\"text-align: right;\">\n",
       "      <th></th>\n",
       "      <th>order_id</th>\n",
       "      <th>user_id</th>\n",
       "      <th>order_number</th>\n",
       "      <th>order_dow</th>\n",
       "      <th>order_hour_of_day</th>\n",
       "      <th>days_since_prior_order</th>\n",
       "    </tr>\n",
       "  </thead>\n",
       "  <tbody>\n",
       "    <tr>\n",
       "      <th>28</th>\n",
       "      <td>133707</td>\n",
       "      <td>182261</td>\n",
       "      <td>1</td>\n",
       "      <td>3</td>\n",
       "      <td>10</td>\n",
       "      <td>NaN</td>\n",
       "    </tr>\n",
       "    <tr>\n",
       "      <th>96</th>\n",
       "      <td>787445</td>\n",
       "      <td>25685</td>\n",
       "      <td>1</td>\n",
       "      <td>6</td>\n",
       "      <td>18</td>\n",
       "      <td>NaN</td>\n",
       "    </tr>\n",
       "    <tr>\n",
       "      <th>100</th>\n",
       "      <td>294410</td>\n",
       "      <td>111449</td>\n",
       "      <td>1</td>\n",
       "      <td>0</td>\n",
       "      <td>19</td>\n",
       "      <td>NaN</td>\n",
       "    </tr>\n",
       "    <tr>\n",
       "      <th>103</th>\n",
       "      <td>2869915</td>\n",
       "      <td>123958</td>\n",
       "      <td>1</td>\n",
       "      <td>4</td>\n",
       "      <td>16</td>\n",
       "      <td>NaN</td>\n",
       "    </tr>\n",
       "    <tr>\n",
       "      <th>104</th>\n",
       "      <td>2521921</td>\n",
       "      <td>42286</td>\n",
       "      <td>1</td>\n",
       "      <td>3</td>\n",
       "      <td>18</td>\n",
       "      <td>NaN</td>\n",
       "    </tr>\n",
       "    <tr>\n",
       "      <th>...</th>\n",
       "      <td>...</td>\n",
       "      <td>...</td>\n",
       "      <td>...</td>\n",
       "      <td>...</td>\n",
       "      <td>...</td>\n",
       "      <td>...</td>\n",
       "    </tr>\n",
       "    <tr>\n",
       "      <th>478895</th>\n",
       "      <td>2589657</td>\n",
       "      <td>205028</td>\n",
       "      <td>1</td>\n",
       "      <td>0</td>\n",
       "      <td>16</td>\n",
       "      <td>NaN</td>\n",
       "    </tr>\n",
       "    <tr>\n",
       "      <th>478896</th>\n",
       "      <td>2222353</td>\n",
       "      <td>141211</td>\n",
       "      <td>1</td>\n",
       "      <td>2</td>\n",
       "      <td>13</td>\n",
       "      <td>NaN</td>\n",
       "    </tr>\n",
       "    <tr>\n",
       "      <th>478922</th>\n",
       "      <td>2272807</td>\n",
       "      <td>204154</td>\n",
       "      <td>1</td>\n",
       "      <td>1</td>\n",
       "      <td>15</td>\n",
       "      <td>NaN</td>\n",
       "    </tr>\n",
       "    <tr>\n",
       "      <th>478926</th>\n",
       "      <td>2499542</td>\n",
       "      <td>68810</td>\n",
       "      <td>1</td>\n",
       "      <td>4</td>\n",
       "      <td>19</td>\n",
       "      <td>NaN</td>\n",
       "    </tr>\n",
       "    <tr>\n",
       "      <th>478945</th>\n",
       "      <td>1387033</td>\n",
       "      <td>22496</td>\n",
       "      <td>1</td>\n",
       "      <td>5</td>\n",
       "      <td>14</td>\n",
       "      <td>NaN</td>\n",
       "    </tr>\n",
       "  </tbody>\n",
       "</table>\n",
       "<p>28817 rows × 6 columns</p>\n",
       "</div>"
      ],
      "text/plain": [
       "        order_id  user_id  order_number  order_dow  order_hour_of_day  \\\n",
       "28        133707   182261             1          3                 10   \n",
       "96        787445    25685             1          6                 18   \n",
       "100       294410   111449             1          0                 19   \n",
       "103      2869915   123958             1          4                 16   \n",
       "104      2521921    42286             1          3                 18   \n",
       "...          ...      ...           ...        ...                ...   \n",
       "478895   2589657   205028             1          0                 16   \n",
       "478896   2222353   141211             1          2                 13   \n",
       "478922   2272807   204154             1          1                 15   \n",
       "478926   2499542    68810             1          4                 19   \n",
       "478945   1387033    22496             1          5                 14   \n",
       "\n",
       "        days_since_prior_order  \n",
       "28                         NaN  \n",
       "96                         NaN  \n",
       "100                        NaN  \n",
       "103                        NaN  \n",
       "104                        NaN  \n",
       "...                        ...  \n",
       "478895                     NaN  \n",
       "478896                     NaN  \n",
       "478922                     NaN  \n",
       "478926                     NaN  \n",
       "478945                     NaN  \n",
       "\n",
       "[28817 rows x 6 columns]"
      ]
     },
     "execution_count": 95,
     "metadata": {},
     "output_type": "execute_result"
    }
   ],
   "source": [
    "pedidos[pedidos[\"order_number\"]==1]#.value_counts()"
   ]
  },
  {
   "cell_type": "code",
   "execution_count": 62,
   "id": "166e5a86",
   "metadata": {
    "id": "166e5a86"
   },
   "outputs": [
    {
     "data": {
      "text/plain": [
       "order_id                  0\n",
       "user_id                   0\n",
       "order_number              0\n",
       "order_dow                 0\n",
       "order_hour_of_day         0\n",
       "days_since_prior_order    0\n",
       "dtype: int64"
      ]
     },
     "execution_count": 62,
     "metadata": {},
     "output_type": "execute_result"
    }
   ],
   "source": [
    "# ¿Hay algún valor ausente que no sea el primer pedido del cliente?\n",
    "pedidos.query(\"order_number>=2\").isna().sum()"
   ]
  },
  {
   "cell_type": "markdown",
   "id": "4e23d089",
   "metadata": {
    "id": "4e23d089"
   },
   "source": [
    "Describe brevemente tus hallazgos y lo que hiciste con ellos.\n",
    "Sabemos que al ser primer pedido se indica que no hay dias transcurrido de un pedido anterior ya que es un cliente nuevo que esta comprando por primera vez."
   ]
  },
  {
   "cell_type": "markdown",
   "id": "69dc9ca4",
   "metadata": {
    "id": "69dc9ca4"
   },
   "source": [
    "### `order_products` data frame"
   ]
  },
  {
   "cell_type": "code",
   "execution_count": 96,
   "id": "b8240253",
   "metadata": {
    "id": "b8240253"
   },
   "outputs": [
    {
     "data": {
      "text/plain": [
       "order_id               0\n",
       "product_id             0\n",
       "add_to_cart_order    836\n",
       "reordered              0\n",
       "dtype: int64"
      ]
     },
     "execution_count": 96,
     "metadata": {},
     "output_type": "execute_result"
    }
   ],
   "source": [
    "order_products.isna().sum()# Encuentra los valores ausentes"
   ]
  },
  {
   "cell_type": "code",
   "execution_count": 97,
   "id": "9a78e5ee",
   "metadata": {
    "id": "9a78e5ee"
   },
   "outputs": [
    {
     "data": {
      "text/plain": [
       "(64.0, 1.0)"
      ]
     },
     "execution_count": 97,
     "metadata": {},
     "output_type": "execute_result"
    }
   ],
   "source": [
    "# ¿Cuáles son los valores mínimos y máximos en esta columna?\n",
    "order_prod_max=order_products[\"add_to_cart_order\"].max()\n",
    "order_prod_min=order_products[\"add_to_cart_order\"].min()\n",
    "order_prod_max, order_prod_min"
   ]
  },
  {
   "cell_type": "markdown",
   "id": "-Z2Ja215jW78",
   "metadata": {
    "id": "-Z2Ja215jW78"
   },
   "source": [
    "Describe brevemente cuáles son tus hallazgos.\n",
    "Hubo ordenes de 64 pedidos y una orden de un producto segun lo que arroja los datos.."
   ]
  },
  {
   "cell_type": "code",
   "execution_count": 98,
   "id": "ab9d0c2b",
   "metadata": {
    "id": "ab9d0c2b"
   },
   "outputs": [
    {
     "data": {
      "text/plain": [
       "737        2449164\n",
       "9926       1968313\n",
       "14394      2926893\n",
       "16418      1717990\n",
       "30114      1959075\n",
       "            ...   \n",
       "4505662    1800005\n",
       "4511400    1633337\n",
       "4517562     404157\n",
       "4534112    1673227\n",
       "4535739    1832957\n",
       "Name: order_id, Length: 836, dtype: int64"
      ]
     },
     "execution_count": 98,
     "metadata": {},
     "output_type": "execute_result"
    }
   ],
   "source": [
    "# Guarda todas las IDs de pedidos que tengan un valor ausente en 'add_to_cart_order'\n",
    "order_id_isna=order_products[order_products[\"add_to_cart_order\"].isna()][\"order_id\"]\n",
    "order_id_isna"
   ]
  },
  {
   "cell_type": "code",
   "execution_count": null,
   "id": "54c31695",
   "metadata": {
    "id": "54c31695"
   },
   "outputs": [
    {
     "data": {
      "text/html": [
       "<div>\n",
       "<style scoped>\n",
       "    .dataframe tbody tr th:only-of-type {\n",
       "        vertical-align: middle;\n",
       "    }\n",
       "\n",
       "    .dataframe tbody tr th {\n",
       "        vertical-align: top;\n",
       "    }\n",
       "\n",
       "    .dataframe thead th {\n",
       "        text-align: right;\n",
       "    }\n",
       "</style>\n",
       "<table border=\"1\" class=\"dataframe\">\n",
       "  <thead>\n",
       "    <tr style=\"text-align: right;\">\n",
       "      <th></th>\n",
       "      <th>product_id</th>\n",
       "      <th>add_to_cart_order</th>\n",
       "      <th>reordered</th>\n",
       "    </tr>\n",
       "    <tr>\n",
       "      <th>order_id</th>\n",
       "      <th></th>\n",
       "      <th></th>\n",
       "      <th></th>\n",
       "    </tr>\n",
       "  </thead>\n",
       "  <tbody>\n",
       "    <tr>\n",
       "      <th>9310</th>\n",
       "      <td>65</td>\n",
       "      <td>64</td>\n",
       "      <td>65</td>\n",
       "    </tr>\n",
       "    <tr>\n",
       "      <th>61355</th>\n",
       "      <td>127</td>\n",
       "      <td>64</td>\n",
       "      <td>127</td>\n",
       "    </tr>\n",
       "    <tr>\n",
       "      <th>102236</th>\n",
       "      <td>95</td>\n",
       "      <td>64</td>\n",
       "      <td>95</td>\n",
       "    </tr>\n",
       "    <tr>\n",
       "      <th>129627</th>\n",
       "      <td>69</td>\n",
       "      <td>64</td>\n",
       "      <td>69</td>\n",
       "    </tr>\n",
       "    <tr>\n",
       "      <th>165801</th>\n",
       "      <td>70</td>\n",
       "      <td>64</td>\n",
       "      <td>70</td>\n",
       "    </tr>\n",
       "    <tr>\n",
       "      <th>...</th>\n",
       "      <td>...</td>\n",
       "      <td>...</td>\n",
       "      <td>...</td>\n",
       "    </tr>\n",
       "    <tr>\n",
       "      <th>2999801</th>\n",
       "      <td>70</td>\n",
       "      <td>64</td>\n",
       "      <td>70</td>\n",
       "    </tr>\n",
       "    <tr>\n",
       "      <th>3125735</th>\n",
       "      <td>86</td>\n",
       "      <td>64</td>\n",
       "      <td>86</td>\n",
       "    </tr>\n",
       "    <tr>\n",
       "      <th>3308010</th>\n",
       "      <td>115</td>\n",
       "      <td>64</td>\n",
       "      <td>115</td>\n",
       "    </tr>\n",
       "    <tr>\n",
       "      <th>3347453</th>\n",
       "      <td>71</td>\n",
       "      <td>64</td>\n",
       "      <td>71</td>\n",
       "    </tr>\n",
       "    <tr>\n",
       "      <th>3383594</th>\n",
       "      <td>69</td>\n",
       "      <td>64</td>\n",
       "      <td>69</td>\n",
       "    </tr>\n",
       "  </tbody>\n",
       "</table>\n",
       "<p>70 rows × 3 columns</p>\n",
       "</div>"
      ],
      "text/plain": [
       "          product_id  add_to_cart_order  reordered\n",
       "order_id                                          \n",
       "9310              65                 64         65\n",
       "61355            127                 64        127\n",
       "102236            95                 64         95\n",
       "129627            69                 64         69\n",
       "165801            70                 64         70\n",
       "...              ...                ...        ...\n",
       "2999801           70                 64         70\n",
       "3125735           86                 64         86\n",
       "3308010          115                 64        115\n",
       "3347453           71                 64         71\n",
       "3383594           69                 64         69\n",
       "\n",
       "[70 rows x 3 columns]"
      ]
     },
     "execution_count": 100,
     "metadata": {},
     "output_type": "execute_result"
    }
   ],
   "source": [
    "# ¿Todos los pedidos con valores ausentes tienen más de 64 productos?\n",
    "# Agrupa todos los pedidos con datos ausentes por su ID de pedido.\n",
    "# Cuenta el número de 'product_id' en cada pedido y revisa el valor mínimo del conteo.\n",
    "order_id_group=order_products[order_products[\"order_id\"].isin(order_id_isna)].groupby(\"order_id\").count()\n",
    "order_id_group"
   ]
  },
  {
   "cell_type": "code",
   "execution_count": 101,
   "id": "7bb41b2f",
   "metadata": {},
   "outputs": [
    {
     "data": {
      "text/plain": [
       "65"
      ]
     },
     "execution_count": 101,
     "metadata": {},
     "output_type": "execute_result"
    }
   ],
   "source": [
    "order_id_group[\"product_id\"].min()"
   ]
  },
  {
   "cell_type": "code",
   "execution_count": 105,
   "id": "d3f0e407",
   "metadata": {},
   "outputs": [
    {
     "data": {
      "text/plain": [
       "127"
      ]
     },
     "execution_count": 105,
     "metadata": {},
     "output_type": "execute_result"
    }
   ],
   "source": [
    "order_id_group[\"product_id\"].max()"
   ]
  },
  {
   "cell_type": "markdown",
   "id": "p9V6pddtjglj",
   "metadata": {
    "id": "p9V6pddtjglj"
   },
   "source": [
    "Describe brevemente cuáles son tus hallazgos.\n",
    "Todas las ordenes donde habia valores nulos, se añadio en cada orden mas de 65 productos pero en el sistema no se registro ya sea por que llegaron a un limite maximo."
   ]
  },
  {
   "cell_type": "code",
   "execution_count": 106,
   "id": "7a987d08",
   "metadata": {
    "id": "7a987d08"
   },
   "outputs": [
    {
     "data": {
      "text/plain": [
       "0          17\n",
       "1           1\n",
       "2           1\n",
       "3          35\n",
       "4           5\n",
       "           ..\n",
       "4545002    12\n",
       "4545003     9\n",
       "4545004     4\n",
       "4545005     8\n",
       "4545006     9\n",
       "Name: add_to_cart_order, Length: 4545007, dtype: int64"
      ]
     },
     "execution_count": 106,
     "metadata": {},
     "output_type": "execute_result"
    }
   ],
   "source": [
    "# Remplaza los valores ausentes en la columna 'add_to_cart? con 999 y convierte la columna al tipo entero.\n",
    "order_products[\"add_to_cart_order\"]=order_products[\"add_to_cart_order\"].fillna(999).astype(int)\n",
    "order_products[\"add_to_cart_order\"]"
   ]
  },
  {
   "cell_type": "markdown",
   "id": "fea4bcc7",
   "metadata": {
    "id": "fea4bcc7"
   },
   "source": [
    "Describe brevemente tus hallazgos y lo que hiciste con ellos.\n",
    "Al no saber en que orden  se añadio los productos al carrito se reemplazo por 999 y ser valor las cantidades de orden se convirtió en enteros.\n"
   ]
  },
  {
   "cell_type": "markdown",
   "id": "RnplPFY1gSrb",
   "metadata": {
    "id": "RnplPFY1gSrb"
   },
   "source": [
    "## Conclusiones\n",
    "\n",
    "Escribe aquí tus conclusiones intermedias sobre el Paso 2. Preprocesamiento de los datos\n",
    "Este paso nos ayudo a verificar los valores ausente y  poder identificar y reemplazarlo para tener datos limpios. "
   ]
  },
  {
   "cell_type": "markdown",
   "id": "UjrOIwTcz3ri",
   "metadata": {
    "id": "UjrOIwTcz3ri"
   },
   "source": [
    "# Paso 3. Análisis de los datos\n",
    "\n",
    "Una vez los datos estén procesados y listos, haz el siguiente análisis:"
   ]
  },
  {
   "cell_type": "markdown",
   "id": "turkish-kidney",
   "metadata": {
    "id": "turkish-kidney"
   },
   "source": [
    "# [A] Fácil (deben completarse todos para aprobar)\n",
    "\n",
    "1. Verifica que los valores en las columnas `'order_hour_of_day'` y `'order_dow'` en la tabla orders sean razonables (es decir, `'order_hour_of_day'` oscile entre 0 y 23 y `'order_dow'` oscile entre 0 y 6).\n",
    "2. Crea un gráfico que muestre el número de personas que hacen pedidos dependiendo de la hora del día.\n",
    "3. Crea un gráfico que muestre qué día de la semana la gente hace sus compras.\n",
    "4. Crea un gráfico que muestre el tiempo que la gente espera hasta hacer su siguiente pedido, y comenta sobre los valores mínimos y máximos."
   ]
  },
  {
   "cell_type": "markdown",
   "id": "short-capability",
   "metadata": {
    "id": "short-capability"
   },
   "source": [
    "### [A1] Verifica que los valores sean sensibles"
   ]
  },
  {
   "cell_type": "code",
   "execution_count": 107,
   "id": "growing-fruit",
   "metadata": {
    "id": "growing-fruit"
   },
   "outputs": [
    {
     "data": {
      "text/plain": [
       "array([ 0,  1,  2,  3,  4,  5,  6,  7,  8,  9, 10, 11, 12, 13, 14, 15, 16,\n",
       "       17, 18, 19, 20, 21, 22, 23])"
      ]
     },
     "execution_count": 107,
     "metadata": {},
     "output_type": "execute_result"
    }
   ],
   "source": [
    "pedidos[\"order_hour_of_day\"].sort_values().unique()"
   ]
  },
  {
   "cell_type": "code",
   "execution_count": 108,
   "id": "accessory-malaysia",
   "metadata": {
    "id": "accessory-malaysia"
   },
   "outputs": [
    {
     "data": {
      "text/plain": [
       "array([0, 1, 2, 3, 4, 5, 6])"
      ]
     },
     "execution_count": 108,
     "metadata": {},
     "output_type": "execute_result"
    }
   ],
   "source": [
    "pedidos[\"order_dow\"].sort_values().unique()"
   ]
  },
  {
   "cell_type": "markdown",
   "id": "hmR2GNQ6lCsX",
   "metadata": {
    "id": "hmR2GNQ6lCsX"
   },
   "source": [
    "Escribe aquí tus conclusiones\n",
    "Se confirma las 24 horas del dia que y los dias de la semana en la tabla de Order."
   ]
  },
  {
   "cell_type": "markdown",
   "id": "a6743a70",
   "metadata": {
    "id": "a6743a70"
   },
   "source": [
    "### [A2] Para cada hora del día, ¿cuántas personas hacen órdenes?"
   ]
  },
  {
   "cell_type": "code",
   "execution_count": 109,
   "id": "a36cca27",
   "metadata": {
    "id": "a36cca27"
   },
   "outputs": [
    {
     "data": {
      "text/plain": [
       "<function matplotlib.pyplot.show(close=None, block=None)>"
      ]
     },
     "execution_count": 109,
     "metadata": {},
     "output_type": "execute_result"
    },
    {
     "data": {
      "image/png": "[encoded data removed]",
      "text/plain": [
       "<Figure size 640x480 with 1 Axes>"
      ]
     },
     "metadata": {},
     "output_type": "display_data"
    }
   ],
   "source": [
    "from matplotlib import pyplot as plt\n",
    "count_per_hour=pedidos.groupby('order_hour_of_day')[\"order_id\"].count()\n",
    "count_per_hour.plot(xlabel= \"horas\",ylabel=\"personas\",kind=\"bar\", title=\"cantidad de personas vs cada hora de compra\")\n",
    "plt.show"
   ]
  },
  {
   "cell_type": "markdown",
   "id": "11270eed",
   "metadata": {
    "id": "11270eed"
   },
   "source": [
    "Escribe aquí tus conclusiones\n",
    "Que entre la hora 10am hasta las 5pm hay mas ordenes que realizan por el cual deberia haber mas personal para la atencion de las ordenes."
   ]
  },
  {
   "cell_type": "markdown",
   "id": "documented-command",
   "metadata": {
    "id": "documented-command"
   },
   "source": [
    "### [A3] ¿Qué día de la semana compran víveres las personas?"
   ]
  },
  {
   "cell_type": "code",
   "execution_count": 110,
   "id": "chief-digit",
   "metadata": {
    "id": "chief-digit"
   },
   "outputs": [
    {
     "data": {
      "image/png": "[encoded data removed]",
      "text/plain": [
       "<Figure size 640x480 with 1 Axes>"
      ]
     },
     "metadata": {},
     "output_type": "display_data"
    }
   ],
   "source": [
    "count_per_day=pedidos[\"order_dow\"].value_counts().sort_index()\n",
    "count_per_day.plot(xlabel= \"dia\",ylabel=\"personas\",kind=\"bar\", title=\"cantidad de personas vs cada dia de la semana\",ylim=50000)\n",
    "plt.show()"
   ]
  },
  {
   "cell_type": "markdown",
   "id": "dominant-lightning",
   "metadata": {
    "id": "dominant-lightning"
   },
   "source": [
    "Escribe aquí tus conclusiones\n",
    "Los fines de semana como el domingo y el dia Lunes son las que hay mas ordenes ya sea porque prefieren gastar ya que algunos se le pagan semanalmente o las familias aprovechan comprar para el hogar.y las amas de casa compra para toda la semana."
   ]
  },
  {
   "cell_type": "markdown",
   "id": "cutting-concert",
   "metadata": {
    "id": "cutting-concert"
   },
   "source": [
    "### [A4] ¿Cuánto tiempo esperan las personas hasta hacer otro pedido? Comenta sobre los valores mínimos y máximos."
   ]
  },
  {
   "cell_type": "code",
   "execution_count": 111,
   "id": "c231f523",
   "metadata": {
    "id": "c231f523",
    "scrolled": true
   },
   "outputs": [
    {
     "data": {
      "text/plain": [
       "<function matplotlib.pyplot.show(close=None, block=None)>"
      ]
     },
     "execution_count": 111,
     "metadata": {},
     "output_type": "execute_result"
    },
    {
     "data": {
      "image/png": "[encoded data removed]",
      "text/plain": [
       "<Figure size 640x480 with 1 Axes>"
      ]
     },
     "metadata": {},
     "output_type": "display_data"
    }
   ],
   "source": [
    "per_days_ped=pedidos.groupby(\"order_id\")[\"days_since_prior_order\"].mean()\n",
    "per_days_ped.plot(kind=\"hist\",title=\"dias de espera para otro pedido\", bins=30)\n",
    "plt.show\n"
   ]
  },
  {
   "cell_type": "markdown",
   "id": "discrete-vertex",
   "metadata": {
    "id": "discrete-vertex"
   },
   "source": [
    "Escribe aquí tus conclusiones\n",
    "El tiempo maximo que ha esperado un cliente fue de 30 dias para realizar otro pedido y la mayor parte de los pedidos fue despues de los 30 dias y tambien vemos que hay mayor numero de pedidos despues de 8 dias desde la ultima compra.Podemos notar que hubo muchos que regresaron en los primeros dias despues de su ultima compra. De ahi muy pocos regresaron despues de los 8 dias hasta los 29 dias. La mayoria regresaron despues de los 30 dias."
   ]
  },
  {
   "cell_type": "markdown",
   "id": "tight-staff",
   "metadata": {
    "id": "tight-staff"
   },
   "source": [
    "# [B] Intermedio (deben completarse todos para aprobar)\n",
    "\n",
    "1. ¿Existe alguna diferencia entre las distribuciones `'order_hour_of_day'` de los miércoles y los sábados? Traza gráficos de barra de `'order_hour_of_day'` para ambos días en la misma figura y describe las diferencias que observes.\n",
    "2. Grafica la distribución para el número de órdenes que hacen los clientes (es decir, cuántos clientes hicieron solo 1 pedido, cuántos hicieron 2, cuántos 3, y así sucesivamente...).\n",
    "3. ¿Cuáles son los 20 principales productos que se piden con más frecuencia (muestra su identificación y nombre)?"
   ]
  },
  {
   "cell_type": "markdown",
   "id": "packed-classic",
   "metadata": {
    "id": "packed-classic"
   },
   "source": [
    "### [B1] Diferencia entre miércoles y sábados para  `'order_hour_of_day'`. Traza gráficos de barra para los dos días y describe las diferencias que veas."
   ]
  },
  {
   "cell_type": "code",
   "execution_count": 112,
   "id": "d89b8403",
   "metadata": {
    "id": "d89b8403",
    "scrolled": true
   },
   "outputs": [
    {
     "data": {
      "text/plain": [
       "0      373\n",
       "1      215\n",
       "2      106\n",
       "3      101\n",
       "4      108\n",
       "5      170\n",
       "6      643\n",
       "7     1732\n",
       "8     3125\n",
       "9     4490\n",
       "10    5026\n",
       "11    5004\n",
       "12    4688\n",
       "13    4674\n",
       "14    4774\n",
       "15    5163\n",
       "16    4976\n",
       "17    4175\n",
       "18    3463\n",
       "19    2652\n",
       "20    1917\n",
       "21    1450\n",
       "22    1154\n",
       "23     718\n",
       "Name: order_hour_of_day, dtype: int64"
      ]
     },
     "execution_count": 112,
     "metadata": {},
     "output_type": "execute_result"
    }
   ],
   "source": [
    "cuenta_miercoles_horas=pedidos[pedidos[\"order_dow\"]==3][\"order_hour_of_day\"].value_counts().sort_index()\n",
    "cuenta_miercoles_horas"
   ]
  },
  {
   "cell_type": "code",
   "execution_count": 113,
   "id": "94e54e8a",
   "metadata": {
    "id": "94e54e8a",
    "scrolled": true
   },
   "outputs": [
    {
     "data": {
      "text/plain": [
       "0      464\n",
       "1      254\n",
       "2      177\n",
       "3      125\n",
       "4      118\n",
       "5      161\n",
       "6      451\n",
       "7     1619\n",
       "8     3246\n",
       "9     4311\n",
       "10    4919\n",
       "11    5116\n",
       "12    5132\n",
       "13    5323\n",
       "14    5375\n",
       "15    5188\n",
       "16    5029\n",
       "17    4295\n",
       "18    3338\n",
       "19    2610\n",
       "20    1847\n",
       "21    1473\n",
       "22    1185\n",
       "23     893\n",
       "Name: order_hour_of_day, dtype: int64"
      ]
     },
     "execution_count": 113,
     "metadata": {},
     "output_type": "execute_result"
    }
   ],
   "source": [
    "cuenta_sabado_horas=pedidos[pedidos[\"order_dow\"]==6][\"order_hour_of_day\"].value_counts().sort_index()\n",
    "cuenta_sabado_horas"
   ]
  },
  {
   "cell_type": "code",
   "execution_count": 114,
   "id": "35bcea30",
   "metadata": {
    "id": "35bcea30"
   },
   "outputs": [
    {
     "data": {
      "image/png": "[encoded data removed]",
      "text/plain": [
       "<Figure size 640x480 with 1 Axes>"
      ]
     },
     "metadata": {},
     "output_type": "display_data"
    }
   ],
   "source": [
    "total_cuenta_miercoles_sabado=pd.concat([cuenta_miercoles_horas,cuenta_sabado_horas],axis=1)\n",
    "total_cuenta_miercoles_sabado.columns=[\"miercoles\",\"sabado\"]\n",
    "total_cuenta_miercoles_sabado.plot(kind=\"bar\",ylabel=\"cantidad de ordenes\",xlabel=\"horas de pedido\",title=\"hora de pedidos del dia miercoles vs sabado\")\n",
    "plt.show()"
   ]
  },
  {
   "cell_type": "markdown",
   "id": "charitable-congo",
   "metadata": {
    "id": "charitable-congo"
   },
   "source": [
    "Escribe aquí tus conclusiones\n",
    "    Que entre las 11 am hasta las 15 los dias miercoles baja el numero de ordenes a comparacion de los sabados que tiene los picos mas altos por el cual se necesitaria mas personal y a comparacion de los miercoles se pod dejandoles horas libre o contratar poco personal."
   ]
  },
  {
   "cell_type": "markdown",
   "id": "e3891143",
   "metadata": {
    "id": "e3891143"
   },
   "source": [
    "### [B2] ¿Cuál es la distribución para el número de pedidos por cliente?"
   ]
  },
  {
   "cell_type": "code",
   "execution_count": 115,
   "id": "d8c26c23",
   "metadata": {
    "id": "d8c26c23"
   },
   "outputs": [
    {
     "data": {
      "text/plain": [
       "user_id\n",
       "2         2\n",
       "4         2\n",
       "5         1\n",
       "6         2\n",
       "7         2\n",
       "         ..\n",
       "206203    1\n",
       "206206    7\n",
       "206207    5\n",
       "206208    9\n",
       "206209    2\n",
       "Name: order_id, Length: 157437, dtype: int64"
      ]
     },
     "execution_count": 115,
     "metadata": {},
     "output_type": "execute_result"
    }
   ],
   "source": [
    "pedidos_cliente=pedidos.groupby(\"user_id\")[\"order_id\"].count()\n",
    "pedidos_cliente"
   ]
  },
  {
   "cell_type": "code",
   "execution_count": 116,
   "id": "00e69a66",
   "metadata": {
    "id": "00e69a66"
   },
   "outputs": [
    {
     "data": {
      "image/png": "[encoded data removed]",
      "text/plain": [
       "<Figure size 640x480 with 1 Axes>"
      ]
     },
     "metadata": {},
     "output_type": "display_data"
    }
   ],
   "source": [
    "pedidos_cliente.plot(kind=\"hist\",bins=25, xlabel=\"cantidad de orden\",ylabel=\"cantidad de usurio\")\n",
    "plt.show()"
   ]
  },
  {
   "cell_type": "markdown",
   "id": "d2eff7d5",
   "metadata": {
    "id": "d2eff7d5"
   },
   "source": [
    "Escribe aquí tus conclusiones\n",
    "Podemos decir hubo una buena acogida en la primera compra ya se por promocion o oferta pero en la recompra bajo demasiado ya se por la mala experiencia o lugar , precios, etc."
   ]
  },
  {
   "cell_type": "markdown",
   "id": "54a0319c",
   "metadata": {
    "id": "54a0319c"
   },
   "source": [
    "### [B3] ¿Cuáles son los 20 productos más populares (muestra su ID y nombre)?"
   ]
  },
  {
   "cell_type": "code",
   "execution_count": 117,
   "id": "exterior-arizona",
   "metadata": {
    "id": "exterior-arizona",
    "scrolled": true
   },
   "outputs": [
    {
     "data": {
      "text/html": [
       "<div>\n",
       "<style scoped>\n",
       "    .dataframe tbody tr th:only-of-type {\n",
       "        vertical-align: middle;\n",
       "    }\n",
       "\n",
       "    .dataframe tbody tr th {\n",
       "        vertical-align: top;\n",
       "    }\n",
       "\n",
       "    .dataframe thead th {\n",
       "        text-align: right;\n",
       "    }\n",
       "</style>\n",
       "<table border=\"1\" class=\"dataframe\">\n",
       "  <thead>\n",
       "    <tr style=\"text-align: right;\">\n",
       "      <th></th>\n",
       "      <th>order_id</th>\n",
       "      <th>product_id</th>\n",
       "      <th>add_to_cart_order</th>\n",
       "      <th>reordered</th>\n",
       "      <th>product_name</th>\n",
       "      <th>aisle_id</th>\n",
       "      <th>department_id</th>\n",
       "    </tr>\n",
       "  </thead>\n",
       "  <tbody>\n",
       "    <tr>\n",
       "      <th>0</th>\n",
       "      <td>2141543</td>\n",
       "      <td>11440</td>\n",
       "      <td>17</td>\n",
       "      <td>0</td>\n",
       "      <td>Chicken Breast Tenders Breaded</td>\n",
       "      <td>129</td>\n",
       "      <td>1</td>\n",
       "    </tr>\n",
       "    <tr>\n",
       "      <th>1</th>\n",
       "      <td>147172</td>\n",
       "      <td>11440</td>\n",
       "      <td>7</td>\n",
       "      <td>1</td>\n",
       "      <td>Chicken Breast Tenders Breaded</td>\n",
       "      <td>129</td>\n",
       "      <td>1</td>\n",
       "    </tr>\n",
       "    <tr>\n",
       "      <th>2</th>\n",
       "      <td>3341719</td>\n",
       "      <td>11440</td>\n",
       "      <td>4</td>\n",
       "      <td>1</td>\n",
       "      <td>Chicken Breast Tenders Breaded</td>\n",
       "      <td>129</td>\n",
       "      <td>1</td>\n",
       "    </tr>\n",
       "    <tr>\n",
       "      <th>3</th>\n",
       "      <td>1938779</td>\n",
       "      <td>11440</td>\n",
       "      <td>8</td>\n",
       "      <td>1</td>\n",
       "      <td>Chicken Breast Tenders Breaded</td>\n",
       "      <td>129</td>\n",
       "      <td>1</td>\n",
       "    </tr>\n",
       "    <tr>\n",
       "      <th>4</th>\n",
       "      <td>1728338</td>\n",
       "      <td>11440</td>\n",
       "      <td>23</td>\n",
       "      <td>0</td>\n",
       "      <td>Chicken Breast Tenders Breaded</td>\n",
       "      <td>129</td>\n",
       "      <td>1</td>\n",
       "    </tr>\n",
       "    <tr>\n",
       "      <th>...</th>\n",
       "      <td>...</td>\n",
       "      <td>...</td>\n",
       "      <td>...</td>\n",
       "      <td>...</td>\n",
       "      <td>...</td>\n",
       "      <td>...</td>\n",
       "      <td>...</td>\n",
       "    </tr>\n",
       "    <tr>\n",
       "      <th>4545002</th>\n",
       "      <td>267402</td>\n",
       "      <td>45226</td>\n",
       "      <td>14</td>\n",
       "      <td>0</td>\n",
       "      <td>Sweet Teriyaki Chicken Oven Sauce</td>\n",
       "      <td>5</td>\n",
       "      <td>13</td>\n",
       "    </tr>\n",
       "    <tr>\n",
       "      <th>4545003</th>\n",
       "      <td>2621676</td>\n",
       "      <td>25201</td>\n",
       "      <td>10</td>\n",
       "      <td>0</td>\n",
       "      <td>Crisp Waters Candle Scents</td>\n",
       "      <td>101</td>\n",
       "      <td>17</td>\n",
       "    </tr>\n",
       "    <tr>\n",
       "      <th>4545004</th>\n",
       "      <td>937623</td>\n",
       "      <td>49153</td>\n",
       "      <td>2</td>\n",
       "      <td>0</td>\n",
       "      <td>Shine Collection Brillance Shampoo</td>\n",
       "      <td>22</td>\n",
       "      <td>11</td>\n",
       "    </tr>\n",
       "    <tr>\n",
       "      <th>4545005</th>\n",
       "      <td>532895</td>\n",
       "      <td>8182</td>\n",
       "      <td>1</td>\n",
       "      <td>0</td>\n",
       "      <td>Total Mint Stripe Gel Toothpaste</td>\n",
       "      <td>20</td>\n",
       "      <td>11</td>\n",
       "    </tr>\n",
       "    <tr>\n",
       "      <th>4545006</th>\n",
       "      <td>3132243</td>\n",
       "      <td>40024</td>\n",
       "      <td>1</td>\n",
       "      <td>0</td>\n",
       "      <td>Egg Replacer Powder</td>\n",
       "      <td>17</td>\n",
       "      <td>13</td>\n",
       "    </tr>\n",
       "  </tbody>\n",
       "</table>\n",
       "<p>4545007 rows × 7 columns</p>\n",
       "</div>"
      ],
      "text/plain": [
       "         order_id  product_id  add_to_cart_order  reordered  \\\n",
       "0         2141543       11440                 17          0   \n",
       "1          147172       11440                  7          1   \n",
       "2         3341719       11440                  4          1   \n",
       "3         1938779       11440                  8          1   \n",
       "4         1728338       11440                 23          0   \n",
       "...           ...         ...                ...        ...   \n",
       "4545002    267402       45226                 14          0   \n",
       "4545003   2621676       25201                 10          0   \n",
       "4545004    937623       49153                  2          0   \n",
       "4545005    532895        8182                  1          0   \n",
       "4545006   3132243       40024                  1          0   \n",
       "\n",
       "                               product_name  aisle_id  department_id  \n",
       "0            Chicken Breast Tenders Breaded       129              1  \n",
       "1            Chicken Breast Tenders Breaded       129              1  \n",
       "2            Chicken Breast Tenders Breaded       129              1  \n",
       "3            Chicken Breast Tenders Breaded       129              1  \n",
       "4            Chicken Breast Tenders Breaded       129              1  \n",
       "...                                     ...       ...            ...  \n",
       "4545002   Sweet Teriyaki Chicken Oven Sauce         5             13  \n",
       "4545003          Crisp Waters Candle Scents       101             17  \n",
       "4545004  Shine Collection Brillance Shampoo        22             11  \n",
       "4545005    Total Mint Stripe Gel Toothpaste        20             11  \n",
       "4545006                 Egg Replacer Powder        17             13  \n",
       "\n",
       "[4545007 rows x 7 columns]"
      ]
     },
     "execution_count": 117,
     "metadata": {},
     "output_type": "execute_result"
    }
   ],
   "source": [
    "order_products_merge=order_products.merge(products,on=\"product_id\")\n",
    "order_products_merge"
   ]
  },
  {
   "cell_type": "code",
   "execution_count": 118,
   "id": "universal-facial",
   "metadata": {
    "id": "universal-facial"
   },
   "outputs": [
    {
     "data": {
      "text/plain": [
       "product_id  product_name                                          \n",
       "24852       Banana                                                    66050\n",
       "13176       Bag of Organic Bananas                                    53297\n",
       "21137       Organic Strawberries                                      37039\n",
       "21903       Organic Baby Spinach                                      33971\n",
       "47209       Organic Hass Avocado                                      29773\n",
       "                                                                      ...  \n",
       "5836        Arctic D Cod Liver Oil Lemon                                  1\n",
       "43573       Whisk- 10 Inch                                                1\n",
       "43570       Queso Cotija                                                  1\n",
       "36174       Whole Pinto Beans                                             1\n",
       "41403       Extra Rich & Thick Spaghetti Sauce Spices & Seasonings        1\n",
       "Name: order_id, Length: 45573, dtype: int64"
      ]
     },
     "execution_count": 118,
     "metadata": {},
     "output_type": "execute_result"
    }
   ],
   "source": [
    "top_products=order_products_merge.groupby([\"product_id\",\"product_name\"])[\"order_id\"].count().sort_values(ascending=False)\n",
    "top_products"
   ]
  },
  {
   "cell_type": "code",
   "execution_count": 119,
   "id": "bbcdd20b",
   "metadata": {
    "id": "bbcdd20b"
   },
   "outputs": [
    {
     "data": {
      "image/png": "[encoded data removed]",
      "text/plain": [
       "<Figure size 640x480 with 1 Axes>"
      ]
     },
     "metadata": {},
     "output_type": "display_data"
    }
   ],
   "source": [
    "top_products.head(20).plot(kind=\"bar\")\n",
    "plt.show()"
   ]
  },
  {
   "cell_type": "markdown",
   "id": "7df00f47",
   "metadata": {
    "id": "7df00f47"
   },
   "source": [
    "Escribe aquí tus conclusiones\n",
    "Que en la mayoria de cada pedido dentro de su carrito estaba la banana y la banana organica."
   ]
  },
  {
   "cell_type": "markdown",
   "id": "gross-theme",
   "metadata": {
    "id": "gross-theme"
   },
   "source": [
    "# [C] Difícil (deben completarse todos para aprobar)\n",
    "\n",
    "1. ¿Cuántos artículos suelen comprar las personas en un pedido? ¿Cómo es la distribución?\n",
    "2. ¿Cuáles son los 20 principales artículos que vuelven a pedirse con mayor frecuencia (muestra sus nombres e IDs de los productos)?\n",
    "3. Para cada producto, ¿cuál es la tasa de repetición del pedido (número de repeticiones de pedido/total de pedidos?\n",
    "4. Para cada cliente, ¿qué proporción de los productos que pidió ya los había pedido? Calcula la tasa de repetición de pedido para cada usuario en lugar de para cada producto.\n",
    "5. ¿Cuáles son los 20 principales artículos que la gente pone primero en sus carritos (muestra las IDs de los productos, sus nombres, y el número de veces en que fueron el primer artículo en añadirse al carrito)?"
   ]
  },
  {
   "cell_type": "markdown",
   "id": "romantic-deposit",
   "metadata": {
    "id": "romantic-deposit"
   },
   "source": [
    "### [C1] ¿Cuántos artículos compran normalmente las personas en un pedido? ¿Cómo es la distribución?"
   ]
  },
  {
   "cell_type": "code",
   "execution_count": 120,
   "id": "virtual-punch",
   "metadata": {
    "id": "virtual-punch"
   },
   "outputs": [
    {
     "data": {
      "text/plain": [
       "order_id\n",
       "4          13\n",
       "9          15\n",
       "11          5\n",
       "19          3\n",
       "20          8\n",
       "           ..\n",
       "3421034    17\n",
       "3421053     9\n",
       "3421071     5\n",
       "3421077     4\n",
       "3421079     1\n",
       "Name: product_id, Length: 450046, dtype: int64"
      ]
     },
     "execution_count": 120,
     "metadata": {},
     "output_type": "execute_result"
    }
   ],
   "source": [
    "cant_product_orden=order_products.groupby(\"order_id\")[\"product_id\"].count()\n",
    "cant_product_orden"
   ]
  },
  {
   "cell_type": "code",
   "execution_count": 121,
   "id": "sensitive-breathing",
   "metadata": {
    "id": "sensitive-breathing"
   },
   "outputs": [
    {
     "data": {
      "text/plain": [
       "<AxesSubplot:ylabel='Frequency'>"
      ]
     },
     "execution_count": 121,
     "metadata": {},
     "output_type": "execute_result"
    },
    {
     "data": {
      "image/png": "[encoded data removed]",
      "text/plain": [
       "<Figure size 640x480 with 1 Axes>"
      ]
     },
     "metadata": {},
     "output_type": "display_data"
    }
   ],
   "source": [
    "cant_product_orden.plot(kind=\"hist\",bins=30, x= \"cant de product\")"
   ]
  },
  {
   "cell_type": "markdown",
   "id": "designed-mortality",
   "metadata": {
    "id": "designed-mortality"
   },
   "source": [
    "Escribe aquí tus conclusiones\n",
    "En la mayoria de las ordenes solo pidieron menos de 9 products en cada pedido y el punto mas pico es pirque solo compran 5 product ya sea por el precio o tal vez no encuentra lo que necesitan o hay muy pocos productos de promoción."
   ]
  },
  {
   "cell_type": "markdown",
   "id": "5e6b5537",
   "metadata": {
    "id": "5e6b5537"
   },
   "source": [
    "### [C2] ¿Cuáles son los 20 principales artículos que vuelven a pedirse con mayor frecuencia (muestra sus nombres e IDs de los productos)?"
   ]
  },
  {
   "cell_type": "code",
   "execution_count": 122,
   "id": "9374e55a",
   "metadata": {
    "id": "9374e55a"
   },
   "outputs": [
    {
     "data": {
      "text/plain": [
       "product_id  product_name                           \n",
       "24852       Banana                                     55763\n",
       "13176       Bag of Organic Bananas                     44450\n",
       "21137       Organic Strawberries                       28639\n",
       "21903       Organic Baby Spinach                       26233\n",
       "47209       Organic Hass Avocado                       23629\n",
       "                                                       ...  \n",
       "37593       Medicated Calamine Lotion                      0\n",
       "14775       FreshBurst® Antiseptic Adult Mouthwash         0\n",
       "37596       Shredded Chicken & Chicken Liver Recipe        0\n",
       "14774       Ready Rice Red Beans & Rice                    0\n",
       "13714       Oregano- Ground                                0\n",
       "Name: reordered, Length: 45573, dtype: int64"
      ]
     },
     "execution_count": 122,
     "metadata": {},
     "output_type": "execute_result"
    }
   ],
   "source": [
    "product_repite=order_products_merge.groupby([\"product_id\",\"product_name\"])[\"reordered\"].sum().sort_values(ascending=False)\n",
    "product_repite"
   ]
  },
  {
   "cell_type": "code",
   "execution_count": 123,
   "id": "possible-change",
   "metadata": {
    "id": "possible-change",
    "scrolled": true
   },
   "outputs": [
    {
     "data": {
      "text/plain": [
       "<AxesSubplot:xlabel='product_id,product_name'>"
      ]
     },
     "execution_count": 123,
     "metadata": {},
     "output_type": "execute_result"
    },
    {
     "data": {
      "image/png": "[encoded data removed]",
      "text/plain": [
       "<Figure size 640x480 with 1 Axes>"
      ]
     },
     "metadata": {},
     "output_type": "display_data"
    }
   ],
   "source": [
    "product_repite.head(20).plot(kind=\"bar\")"
   ]
  },
  {
   "cell_type": "markdown",
   "id": "80e70c74",
   "metadata": {
    "id": "80e70c74"
   },
   "source": [
    "Escribe aquí tus conclusiones\n",
    "El prodcuto que se ha pedido luego de pedir la primera vez desde su primera compra es la banana y la banana organica."
   ]
  },
  {
   "cell_type": "markdown",
   "id": "9d312b14",
   "metadata": {
    "id": "9d312b14"
   },
   "source": [
    "### [C3] Para cada producto, ¿cuál es la proporción de las veces que se pide y que se vuelve a pedir?"
   ]
  },
  {
   "cell_type": "code",
   "execution_count": 124,
   "id": "8ae9f4b1",
   "metadata": {
    "id": "8ae9f4b1"
   },
   "outputs": [
    {
     "data": {
      "text/plain": [
       "product_id  product_name                                                     \n",
       "1           Chocolate Sandwich Cookies                                           0.564286\n",
       "2           All-Seasons Salt                                                     0.000000\n",
       "3           Robust Golden Unsweetened Oolong Tea                                 0.738095\n",
       "4           Smart Ones Classic Favorites Mini Rigatoni With Vodka Cream Sauce    0.510204\n",
       "7           Pure Coconut Water With Orange                                       0.500000\n",
       "                                                                                   ...   \n",
       "49690       HIGH PERFORMANCE ENERGY DRINK                                        0.800000\n",
       "49691       ORIGINAL PANCAKE & WAFFLE MIX                                        0.430556\n",
       "49692       ORGANIC INSTANT OATMEAL LIGHT MAPLE BROWN SUGAR                      0.416667\n",
       "49693       SPRING WATER BODY WASH                                               0.440000\n",
       "49694       BURRITO- STEAK & CHEESE                                              0.333333\n",
       "Name: reordered, Length: 45573, dtype: float64"
      ]
     },
     "execution_count": 124,
     "metadata": {},
     "output_type": "execute_result"
    }
   ],
   "source": [
    "ratio_reordenes=order_products_merge.groupby([\"product_id\",\"product_name\"])[\"reordered\"].mean()\n",
    "ratio_reordenes"
   ]
  },
  {
   "cell_type": "code",
   "execution_count": 125,
   "id": "social-individual",
   "metadata": {
    "id": "social-individual"
   },
   "outputs": [
    {
     "data": {
      "image/png": "[encoded data removed]",
      "text/plain": [
       "<Figure size 640x480 with 1 Axes>"
      ]
     },
     "metadata": {},
     "output_type": "display_data"
    }
   ],
   "source": [
    "ratio_reordenes.plot(kind=\"hist\")\n",
    "plt.show()"
   ]
  },
  {
   "cell_type": "markdown",
   "id": "I10dEIAyldcO",
   "metadata": {
    "id": "I10dEIAyldcO"
   },
   "source": [
    "Escribe aquí tus conclusiones\n",
    "Se sacaron las proporciones por cual se puede notar que hubo muchos productos que se pidieron por primera vez pero ya no volvieron a comprar, tambien habia algunos productos que se ordenaron y les gusto porque volvieron a pedir en su 50%.Se puede entender que en su primera compra es porque habia oferta o era algo novedoso o estaba de temporada."
   ]
  },
  {
   "cell_type": "markdown",
   "id": "subject-boxing",
   "metadata": {
    "id": "subject-boxing"
   },
   "source": [
    "### [C4] Para cada cliente, ¿qué proporción de sus productos ya los había pedido?"
   ]
  },
  {
   "cell_type": "code",
   "execution_count": 126,
   "id": "medical-couple",
   "metadata": {
    "id": "medical-couple",
    "scrolled": true
   },
   "outputs": [
    {
     "data": {
      "text/html": [
       "<div>\n",
       "<style scoped>\n",
       "    .dataframe tbody tr th:only-of-type {\n",
       "        vertical-align: middle;\n",
       "    }\n",
       "\n",
       "    .dataframe tbody tr th {\n",
       "        vertical-align: top;\n",
       "    }\n",
       "\n",
       "    .dataframe thead th {\n",
       "        text-align: right;\n",
       "    }\n",
       "</style>\n",
       "<table border=\"1\" class=\"dataframe\">\n",
       "  <thead>\n",
       "    <tr style=\"text-align: right;\">\n",
       "      <th></th>\n",
       "      <th>order_id</th>\n",
       "      <th>product_id</th>\n",
       "      <th>add_to_cart_order</th>\n",
       "      <th>reordered</th>\n",
       "      <th>user_id</th>\n",
       "      <th>order_number</th>\n",
       "      <th>order_dow</th>\n",
       "      <th>order_hour_of_day</th>\n",
       "      <th>days_since_prior_order</th>\n",
       "    </tr>\n",
       "  </thead>\n",
       "  <tbody>\n",
       "    <tr>\n",
       "      <th>0</th>\n",
       "      <td>2141543</td>\n",
       "      <td>11440</td>\n",
       "      <td>17</td>\n",
       "      <td>0</td>\n",
       "      <td>58454</td>\n",
       "      <td>25</td>\n",
       "      <td>0</td>\n",
       "      <td>15</td>\n",
       "      <td>8.0</td>\n",
       "    </tr>\n",
       "    <tr>\n",
       "      <th>1</th>\n",
       "      <td>2141543</td>\n",
       "      <td>31869</td>\n",
       "      <td>15</td>\n",
       "      <td>1</td>\n",
       "      <td>58454</td>\n",
       "      <td>25</td>\n",
       "      <td>0</td>\n",
       "      <td>15</td>\n",
       "      <td>8.0</td>\n",
       "    </tr>\n",
       "    <tr>\n",
       "      <th>2</th>\n",
       "      <td>2141543</td>\n",
       "      <td>30233</td>\n",
       "      <td>9</td>\n",
       "      <td>1</td>\n",
       "      <td>58454</td>\n",
       "      <td>25</td>\n",
       "      <td>0</td>\n",
       "      <td>15</td>\n",
       "      <td>8.0</td>\n",
       "    </tr>\n",
       "    <tr>\n",
       "      <th>3</th>\n",
       "      <td>2141543</td>\n",
       "      <td>27966</td>\n",
       "      <td>20</td>\n",
       "      <td>1</td>\n",
       "      <td>58454</td>\n",
       "      <td>25</td>\n",
       "      <td>0</td>\n",
       "      <td>15</td>\n",
       "      <td>8.0</td>\n",
       "    </tr>\n",
       "    <tr>\n",
       "      <th>4</th>\n",
       "      <td>2141543</td>\n",
       "      <td>13176</td>\n",
       "      <td>2</td>\n",
       "      <td>1</td>\n",
       "      <td>58454</td>\n",
       "      <td>25</td>\n",
       "      <td>0</td>\n",
       "      <td>15</td>\n",
       "      <td>8.0</td>\n",
       "    </tr>\n",
       "    <tr>\n",
       "      <th>...</th>\n",
       "      <td>...</td>\n",
       "      <td>...</td>\n",
       "      <td>...</td>\n",
       "      <td>...</td>\n",
       "      <td>...</td>\n",
       "      <td>...</td>\n",
       "      <td>...</td>\n",
       "      <td>...</td>\n",
       "      <td>...</td>\n",
       "    </tr>\n",
       "    <tr>\n",
       "      <th>4545002</th>\n",
       "      <td>1790509</td>\n",
       "      <td>43739</td>\n",
       "      <td>1</td>\n",
       "      <td>1</td>\n",
       "      <td>60894</td>\n",
       "      <td>9</td>\n",
       "      <td>2</td>\n",
       "      <td>21</td>\n",
       "      <td>18.0</td>\n",
       "    </tr>\n",
       "    <tr>\n",
       "      <th>4545003</th>\n",
       "      <td>1274005</td>\n",
       "      <td>38275</td>\n",
       "      <td>1</td>\n",
       "      <td>1</td>\n",
       "      <td>32958</td>\n",
       "      <td>7</td>\n",
       "      <td>5</td>\n",
       "      <td>17</td>\n",
       "      <td>1.0</td>\n",
       "    </tr>\n",
       "    <tr>\n",
       "      <th>4545004</th>\n",
       "      <td>812418</td>\n",
       "      <td>46149</td>\n",
       "      <td>1</td>\n",
       "      <td>1</td>\n",
       "      <td>130466</td>\n",
       "      <td>34</td>\n",
       "      <td>1</td>\n",
       "      <td>14</td>\n",
       "      <td>0.0</td>\n",
       "    </tr>\n",
       "    <tr>\n",
       "      <th>4545005</th>\n",
       "      <td>2666881</td>\n",
       "      <td>196</td>\n",
       "      <td>1</td>\n",
       "      <td>1</td>\n",
       "      <td>33946</td>\n",
       "      <td>12</td>\n",
       "      <td>1</td>\n",
       "      <td>8</td>\n",
       "      <td>17.0</td>\n",
       "    </tr>\n",
       "    <tr>\n",
       "      <th>4545006</th>\n",
       "      <td>1461911</td>\n",
       "      <td>33198</td>\n",
       "      <td>1</td>\n",
       "      <td>1</td>\n",
       "      <td>54019</td>\n",
       "      <td>10</td>\n",
       "      <td>5</td>\n",
       "      <td>11</td>\n",
       "      <td>23.0</td>\n",
       "    </tr>\n",
       "  </tbody>\n",
       "</table>\n",
       "<p>4545007 rows × 9 columns</p>\n",
       "</div>"
      ],
      "text/plain": [
       "         order_id  product_id  add_to_cart_order  reordered  user_id  \\\n",
       "0         2141543       11440                 17          0    58454   \n",
       "1         2141543       31869                 15          1    58454   \n",
       "2         2141543       30233                  9          1    58454   \n",
       "3         2141543       27966                 20          1    58454   \n",
       "4         2141543       13176                  2          1    58454   \n",
       "...           ...         ...                ...        ...      ...   \n",
       "4545002   1790509       43739                  1          1    60894   \n",
       "4545003   1274005       38275                  1          1    32958   \n",
       "4545004    812418       46149                  1          1   130466   \n",
       "4545005   2666881         196                  1          1    33946   \n",
       "4545006   1461911       33198                  1          1    54019   \n",
       "\n",
       "         order_number  order_dow  order_hour_of_day  days_since_prior_order  \n",
       "0                  25          0                 15                     8.0  \n",
       "1                  25          0                 15                     8.0  \n",
       "2                  25          0                 15                     8.0  \n",
       "3                  25          0                 15                     8.0  \n",
       "4                  25          0                 15                     8.0  \n",
       "...               ...        ...                ...                     ...  \n",
       "4545002             9          2                 21                    18.0  \n",
       "4545003             7          5                 17                     1.0  \n",
       "4545004            34          1                 14                     0.0  \n",
       "4545005            12          1                  8                    17.0  \n",
       "4545006            10          5                 11                    23.0  \n",
       "\n",
       "[4545007 rows x 9 columns]"
      ]
     },
     "execution_count": 126,
     "metadata": {},
     "output_type": "execute_result"
    }
   ],
   "source": [
    "order_cliente_merge=order_products.merge(pedidos,on=\"order_id\")\n",
    "order_cliente_merge"
   ]
  },
  {
   "cell_type": "code",
   "execution_count": 127,
   "id": "8892e4b4",
   "metadata": {
    "id": "8892e4b4"
   },
   "outputs": [
    {
     "data": {
      "text/plain": [
       "<AxesSubplot:ylabel='Frequency'>"
      ]
     },
     "execution_count": 127,
     "metadata": {},
     "output_type": "execute_result"
    },
    {
     "data": {
      "image/png": "[encoded data removed]",
      "text/plain": [
       "<Figure size 640x480 with 1 Axes>"
      ]
     },
     "metadata": {},
     "output_type": "display_data"
    }
   ],
   "source": [
    "order_cliente_merge.groupby(\"user_id\")[\"reordered\"].mean().plot(kind=\"hist\")"
   ]
  },
  {
   "cell_type": "markdown",
   "id": "BgJSvXDsleXz",
   "metadata": {
    "id": "BgJSvXDsleXz"
   },
   "source": [
    "Escribe aquí tus conclusiones\n",
    "Se puede notar que hubo muchos usuarios que compraron productos que no volvieron a comprar productos nuevamente,la mayoria de sus productos son productos nuevos y tambien se refleja que hubo muchos usuarios que la mitad de sus productos comprados fueron nuevamente pedido."
   ]
  },
  {
   "cell_type": "markdown",
   "id": "92d35137",
   "metadata": {
    "id": "92d35137"
   },
   "source": [
    "### [C5] ¿Cuáles son los 20 principales artículos que las personas ponen primero en sus carritos?"
   ]
  },
  {
   "cell_type": "code",
   "execution_count": 128,
   "id": "0ae57274",
   "metadata": {
    "id": "0ae57274",
    "scrolled": true
   },
   "outputs": [
    {
     "data": {
      "text/html": [
       "<div>\n",
       "<style scoped>\n",
       "    .dataframe tbody tr th:only-of-type {\n",
       "        vertical-align: middle;\n",
       "    }\n",
       "\n",
       "    .dataframe tbody tr th {\n",
       "        vertical-align: top;\n",
       "    }\n",
       "\n",
       "    .dataframe thead th {\n",
       "        text-align: right;\n",
       "    }\n",
       "</style>\n",
       "<table border=\"1\" class=\"dataframe\">\n",
       "  <thead>\n",
       "    <tr style=\"text-align: right;\">\n",
       "      <th></th>\n",
       "      <th>order_id</th>\n",
       "      <th>product_id</th>\n",
       "      <th>add_to_cart_order</th>\n",
       "      <th>reordered</th>\n",
       "      <th>product_name</th>\n",
       "      <th>aisle_id</th>\n",
       "      <th>department_id</th>\n",
       "    </tr>\n",
       "  </thead>\n",
       "  <tbody>\n",
       "    <tr>\n",
       "      <th>6</th>\n",
       "      <td>1463503</td>\n",
       "      <td>11440</td>\n",
       "      <td>1</td>\n",
       "      <td>0</td>\n",
       "      <td>Chicken Breast Tenders Breaded</td>\n",
       "      <td>129</td>\n",
       "      <td>1</td>\n",
       "    </tr>\n",
       "    <tr>\n",
       "      <th>17</th>\n",
       "      <td>2201430</td>\n",
       "      <td>11440</td>\n",
       "      <td>1</td>\n",
       "      <td>1</td>\n",
       "      <td>Chicken Breast Tenders Breaded</td>\n",
       "      <td>129</td>\n",
       "      <td>1</td>\n",
       "    </tr>\n",
       "    <tr>\n",
       "      <th>21</th>\n",
       "      <td>1036054</td>\n",
       "      <td>11440</td>\n",
       "      <td>1</td>\n",
       "      <td>1</td>\n",
       "      <td>Chicken Breast Tenders Breaded</td>\n",
       "      <td>129</td>\n",
       "      <td>1</td>\n",
       "    </tr>\n",
       "    <tr>\n",
       "      <th>50</th>\n",
       "      <td>3008652</td>\n",
       "      <td>11440</td>\n",
       "      <td>1</td>\n",
       "      <td>1</td>\n",
       "      <td>Chicken Breast Tenders Breaded</td>\n",
       "      <td>129</td>\n",
       "      <td>1</td>\n",
       "    </tr>\n",
       "    <tr>\n",
       "      <th>62</th>\n",
       "      <td>2946144</td>\n",
       "      <td>11440</td>\n",
       "      <td>1</td>\n",
       "      <td>1</td>\n",
       "      <td>Chicken Breast Tenders Breaded</td>\n",
       "      <td>129</td>\n",
       "      <td>1</td>\n",
       "    </tr>\n",
       "    <tr>\n",
       "      <th>...</th>\n",
       "      <td>...</td>\n",
       "      <td>...</td>\n",
       "      <td>...</td>\n",
       "      <td>...</td>\n",
       "      <td>...</td>\n",
       "      <td>...</td>\n",
       "      <td>...</td>\n",
       "    </tr>\n",
       "    <tr>\n",
       "      <th>4544972</th>\n",
       "      <td>1518168</td>\n",
       "      <td>16952</td>\n",
       "      <td>1</td>\n",
       "      <td>0</td>\n",
       "      <td>Sensitive Night Cream</td>\n",
       "      <td>73</td>\n",
       "      <td>11</td>\n",
       "    </tr>\n",
       "    <tr>\n",
       "      <th>4544977</th>\n",
       "      <td>1776450</td>\n",
       "      <td>21507</td>\n",
       "      <td>1</td>\n",
       "      <td>0</td>\n",
       "      <td>Gluten Free All-Purpose Rice Flour Blend</td>\n",
       "      <td>17</td>\n",
       "      <td>13</td>\n",
       "    </tr>\n",
       "    <tr>\n",
       "      <th>4544995</th>\n",
       "      <td>2333206</td>\n",
       "      <td>25467</td>\n",
       "      <td>1</td>\n",
       "      <td>0</td>\n",
       "      <td>Madagascar Pure Vanilla</td>\n",
       "      <td>17</td>\n",
       "      <td>13</td>\n",
       "    </tr>\n",
       "    <tr>\n",
       "      <th>4545005</th>\n",
       "      <td>532895</td>\n",
       "      <td>8182</td>\n",
       "      <td>1</td>\n",
       "      <td>0</td>\n",
       "      <td>Total Mint Stripe Gel Toothpaste</td>\n",
       "      <td>20</td>\n",
       "      <td>11</td>\n",
       "    </tr>\n",
       "    <tr>\n",
       "      <th>4545006</th>\n",
       "      <td>3132243</td>\n",
       "      <td>40024</td>\n",
       "      <td>1</td>\n",
       "      <td>0</td>\n",
       "      <td>Egg Replacer Powder</td>\n",
       "      <td>17</td>\n",
       "      <td>13</td>\n",
       "    </tr>\n",
       "  </tbody>\n",
       "</table>\n",
       "<p>450046 rows × 7 columns</p>\n",
       "</div>"
      ],
      "text/plain": [
       "         order_id  product_id  add_to_cart_order  reordered  \\\n",
       "6         1463503       11440                  1          0   \n",
       "17        2201430       11440                  1          1   \n",
       "21        1036054       11440                  1          1   \n",
       "50        3008652       11440                  1          1   \n",
       "62        2946144       11440                  1          1   \n",
       "...           ...         ...                ...        ...   \n",
       "4544972   1518168       16952                  1          0   \n",
       "4544977   1776450       21507                  1          0   \n",
       "4544995   2333206       25467                  1          0   \n",
       "4545005    532895        8182                  1          0   \n",
       "4545006   3132243       40024                  1          0   \n",
       "\n",
       "                                     product_name  aisle_id  department_id  \n",
       "6                  Chicken Breast Tenders Breaded       129              1  \n",
       "17                 Chicken Breast Tenders Breaded       129              1  \n",
       "21                 Chicken Breast Tenders Breaded       129              1  \n",
       "50                 Chicken Breast Tenders Breaded       129              1  \n",
       "62                 Chicken Breast Tenders Breaded       129              1  \n",
       "...                                           ...       ...            ...  \n",
       "4544972                     Sensitive Night Cream        73             11  \n",
       "4544977  Gluten Free All-Purpose Rice Flour Blend        17             13  \n",
       "4544995                   Madagascar Pure Vanilla        17             13  \n",
       "4545005          Total Mint Stripe Gel Toothpaste        20             11  \n",
       "4545006                       Egg Replacer Powder        17             13  \n",
       "\n",
       "[450046 rows x 7 columns]"
      ]
     },
     "execution_count": 128,
     "metadata": {},
     "output_type": "execute_result"
    }
   ],
   "source": [
    "carrito_product_primero=order_products_merge[order_products_merge[\"add_to_cart_order\"]==1]\n",
    "carrito_product_primero"
   ]
  },
  {
   "cell_type": "code",
   "execution_count": 129,
   "id": "forty-netherlands",
   "metadata": {
    "id": "forty-netherlands",
    "scrolled": true
   },
   "outputs": [
    {
     "data": {
      "text/plain": [
       "product_id  product_name               \n",
       "24852       Banana                         15562\n",
       "13176       Bag of Organic Bananas         11026\n",
       "27845       Organic Whole Milk              4363\n",
       "21137       Organic Strawberries            3946\n",
       "47209       Organic Hass Avocado            3390\n",
       "21903       Organic Baby Spinach            3336\n",
       "47766       Organic Avocado                 3044\n",
       "19660       Spring Water                    2336\n",
       "16797       Strawberries                    2308\n",
       "27966       Organic Raspberries             2024\n",
       "44632       Sparkling Water Grapefruit      1914\n",
       "49235       Organic Half & Half             1797\n",
       "47626       Large Lemon                     1737\n",
       "196         Soda                            1733\n",
       "38689       Organic Reduced Fat Milk        1397\n",
       "26209       Limes                           1370\n",
       "12341       Hass Avocados                   1340\n",
       "5785        Organic Reduced Fat 2% Milk     1310\n",
       "27086       Half & Half                     1309\n",
       "43352       Raspberries                     1246\n",
       "Name: order_id, dtype: int64"
      ]
     },
     "execution_count": 129,
     "metadata": {},
     "output_type": "execute_result"
    }
   ],
   "source": [
    "top_product_carrito_uno=carrito_product_primero.groupby([\"product_id\",\"product_name\"])[\"order_id\"].count().sort_values(ascending=False).head(20)\n",
    "top_product_carrito_uno"
   ]
  },
  {
   "cell_type": "code",
   "execution_count": 130,
   "id": "08e41ec2",
   "metadata": {
    "id": "08e41ec2"
   },
   "outputs": [
    {
     "data": {
      "image/png": "[encoded data removed]",
      "text/plain": [
       "<Figure size 640x480 with 1 Axes>"
      ]
     },
     "metadata": {},
     "output_type": "display_data"
    }
   ],
   "source": [
    "top_product_carrito_uno.plot(kind=\"bar\")\n",
    "plt.show()"
   ]
  },
  {
   "cell_type": "markdown",
   "id": "28ce9872",
   "metadata": {
    "id": "28ce9872"
   },
   "source": [
    "Escribe aquí tus conclusiones\n",
    "Vemos que lo primero que escogen son los platanos y los platanos organicos  se puede pensar que de todas las frutas que se ofrecen, los platanos tiene un precio economico y seguramente la cantidad que ofrece es ilimitada."
   ]
  },
  {
   "cell_type": "markdown",
   "id": "uITbFCEoDosC",
   "metadata": {
    "id": "uITbFCEoDosC"
   },
   "source": [
    "### Conclusion general del proyecto:"
   ]
  },
  {
   "cell_type": "markdown",
   "id": "47fab1a2",
   "metadata": {
    "id": "Nk-4GS7mDwqY"
   },
   "source": [
    "Como los fines de semana , el sabado y lunes se realizan mayores compras ya que van semanalmente y mensualmemte \n",
    "entre las 11am a 4 pm se dispondria en esos dias mayor personal  y tener mayor stock de producto \n",
    "como la banana y la banana organica ya que mucho compran en su primer pedido \n",
    "y es lo primero que agrega a su carrito, se podria ofrecer otros productos que podria acompañar a \n",
    "la banana y ofrecer pack de promocion considerando la banana como producto estrella.Y ofrecer ofertas de otros articulos para una segunda compra.\n",
    "Ya que la mayoria regresan nuevamente a comprar banana , se debe tener stock siempre de este producto.\n"
   ]
  }
 ],
 "metadata": {
  "ExecuteTimeLog": [
   {
    "duration": 423,
    "start_time": "2024-07-14T00:19:08.278Z"
   },
   {
    "duration": 9,
    "start_time": "2024-07-14T00:19:09.574Z"
   },
   {
    "duration": 504,
    "start_time": "2024-07-14T00:19:55.679Z"
   },
   {
    "duration": 3,
    "start_time": "2024-07-14T00:20:02.791Z"
   },
   {
    "duration": 6,
    "start_time": "2024-07-14T00:20:03.297Z"
   },
   {
    "duration": 428,
    "start_time": "2024-07-14T00:20:04.014Z"
   },
   {
    "duration": 1055,
    "start_time": "2024-07-14T00:20:05.087Z"
   },
   {
    "duration": 3,
    "start_time": "2024-07-14T00:20:10.197Z"
   },
   {
    "duration": 4,
    "start_time": "2024-07-14T00:20:10.937Z"
   },
   {
    "duration": 421,
    "start_time": "2024-07-14T00:20:11.739Z"
   },
   {
    "duration": 3,
    "start_time": "2024-07-14T00:21:09.628Z"
   },
   {
    "duration": 547,
    "start_time": "2024-07-14T00:22:50.120Z"
   },
   {
    "duration": 3,
    "start_time": "2024-07-14T00:23:07.124Z"
   },
   {
    "duration": 564,
    "start_time": "2024-07-14T00:23:10.577Z"
   },
   {
    "duration": 4,
    "start_time": "2024-07-14T00:23:31.396Z"
   },
   {
    "duration": 527,
    "start_time": "2024-07-14T00:23:32.431Z"
   },
   {
    "duration": 3,
    "start_time": "2024-07-14T00:24:38.844Z"
   },
   {
    "duration": 552,
    "start_time": "2024-07-14T00:24:41.353Z"
   },
   {
    "duration": 3,
    "start_time": "2024-07-14T00:25:42.667Z"
   },
   {
    "duration": 537,
    "start_time": "2024-07-14T00:25:45.358Z"
   },
   {
    "duration": 540,
    "start_time": "2024-07-14T00:27:20.117Z"
   },
   {
    "duration": 540,
    "start_time": "2024-07-14T00:29:28.868Z"
   },
   {
    "duration": 536,
    "start_time": "2024-07-14T00:38:18.723Z"
   },
   {
    "duration": 3,
    "start_time": "2024-07-14T00:38:38.199Z"
   },
   {
    "duration": 407,
    "start_time": "2024-07-14T00:39:02.429Z"
   },
   {
    "duration": 12,
    "start_time": "2024-07-14T00:39:26.278Z"
   },
   {
    "duration": 182,
    "start_time": "2024-07-14T00:39:37.853Z"
   },
   {
    "duration": 188,
    "start_time": "2024-07-14T00:40:24.831Z"
   },
   {
    "duration": 14,
    "start_time": "2024-07-14T00:40:25.699Z"
   },
   {
    "duration": 4,
    "start_time": "2024-07-14T00:40:43.096Z"
   },
   {
    "duration": 300,
    "start_time": "2024-07-14T00:40:44.078Z"
   },
   {
    "duration": 4,
    "start_time": "2024-07-14T00:40:58.350Z"
   },
   {
    "duration": 299,
    "start_time": "2024-07-14T00:41:01.799Z"
   },
   {
    "duration": 13,
    "start_time": "2024-07-14T00:41:18.654Z"
   },
   {
    "duration": 296,
    "start_time": "2024-07-14T00:41:49.177Z"
   },
   {
    "duration": 13,
    "start_time": "2024-07-14T00:41:55.729Z"
   },
   {
    "duration": 21,
    "start_time": "2024-07-14T00:42:06.864Z"
   },
   {
    "duration": 22,
    "start_time": "2024-07-14T00:42:24.731Z"
   },
   {
    "duration": 13,
    "start_time": "2024-07-14T00:42:29.287Z"
   },
   {
    "duration": 26,
    "start_time": "2024-07-14T00:42:34.146Z"
   },
   {
    "duration": 7,
    "start_time": "2024-07-14T00:42:44.700Z"
   },
   {
    "duration": 306,
    "start_time": "2024-07-14T00:42:47.603Z"
   },
   {
    "duration": 312,
    "start_time": "2024-07-14T00:43:16.436Z"
   },
   {
    "duration": 14,
    "start_time": "2024-07-14T00:43:24.839Z"
   },
   {
    "duration": 21,
    "start_time": "2024-07-14T00:43:28.678Z"
   },
   {
    "duration": 243,
    "start_time": "2024-07-14T00:55:12.912Z"
   },
   {
    "duration": 12,
    "start_time": "2024-07-14T01:00:57.818Z"
   },
   {
    "duration": 10,
    "start_time": "2024-07-14T01:00:58.870Z"
   },
   {
    "duration": 233,
    "start_time": "2024-07-14T01:01:09.171Z"
   },
   {
    "duration": 13,
    "start_time": "2024-07-14T01:01:11.375Z"
   },
   {
    "duration": 11,
    "start_time": "2024-07-14T01:01:12.079Z"
   },
   {
    "duration": 3,
    "start_time": "2024-07-14T01:01:12.871Z"
   },
   {
    "duration": 9,
    "start_time": "2024-07-14T01:01:32.926Z"
   },
   {
    "duration": 225,
    "start_time": "2024-07-14T01:01:47.436Z"
   },
   {
    "duration": 11,
    "start_time": "2024-07-14T01:01:48.378Z"
   },
   {
    "duration": 10,
    "start_time": "2024-07-14T01:01:49.198Z"
   },
   {
    "duration": 10,
    "start_time": "2024-07-14T01:01:50.243Z"
   },
   {
    "duration": 22,
    "start_time": "2024-07-14T01:02:45.462Z"
   },
   {
    "duration": 4,
    "start_time": "2024-07-14T01:03:11.497Z"
   },
   {
    "duration": 232,
    "start_time": "2024-07-14T01:03:12.085Z"
   },
   {
    "duration": 11,
    "start_time": "2024-07-14T01:03:13.143Z"
   },
   {
    "duration": 10,
    "start_time": "2024-07-14T01:03:13.928Z"
   },
   {
    "duration": 11,
    "start_time": "2024-07-14T01:03:14.741Z"
   },
   {
    "duration": 9,
    "start_time": "2024-07-14T01:03:16.221Z"
   },
   {
    "duration": 1581,
    "start_time": "2024-07-14T01:14:55.252Z"
   },
   {
    "duration": 12,
    "start_time": "2024-07-14T01:14:56.836Z"
   },
   {
    "duration": 11,
    "start_time": "2024-07-14T01:14:57.086Z"
   },
   {
    "duration": 10,
    "start_time": "2024-07-14T01:14:58.119Z"
   },
   {
    "duration": 10,
    "start_time": "2024-07-14T01:14:58.841Z"
   },
   {
    "duration": 3,
    "start_time": "2024-07-14T01:14:59.711Z"
   },
   {
    "duration": 11,
    "start_time": "2024-07-14T01:15:37.128Z"
   },
   {
    "duration": 142,
    "start_time": "2024-07-14T01:33:26.376Z"
   },
   {
    "duration": 139,
    "start_time": "2024-07-14T01:33:36.328Z"
   },
   {
    "duration": 156,
    "start_time": "2024-07-14T01:34:00.585Z"
   },
   {
    "duration": 141,
    "start_time": "2024-07-14T01:34:18.491Z"
   },
   {
    "duration": 24,
    "start_time": "2024-07-14T01:46:12.805Z"
   },
   {
    "duration": 28,
    "start_time": "2024-07-14T02:06:12.605Z"
   },
   {
    "duration": 10,
    "start_time": "2024-07-14T02:06:51.451Z"
   },
   {
    "duration": 18,
    "start_time": "2024-07-14T02:07:51.466Z"
   },
   {
    "duration": 430,
    "start_time": "2024-07-15T02:57:16.467Z"
   },
   {
    "duration": 1674,
    "start_time": "2024-07-15T02:57:17.104Z"
   },
   {
    "duration": 31,
    "start_time": "2024-07-15T02:57:18.782Z"
   },
   {
    "duration": 12,
    "start_time": "2024-07-15T02:57:18.816Z"
   },
   {
    "duration": 9,
    "start_time": "2024-07-15T02:57:18.967Z"
   },
   {
    "duration": 9,
    "start_time": "2024-07-15T02:57:23.746Z"
   },
   {
    "duration": 11,
    "start_time": "2024-07-15T02:57:24.122Z"
   },
   {
    "duration": 186,
    "start_time": "2024-07-15T02:57:26.183Z"
   },
   {
    "duration": 19,
    "start_time": "2024-07-15T02:57:27.012Z"
   },
   {
    "duration": 208,
    "start_time": "2024-07-15T02:57:28.593Z"
   },
   {
    "duration": 17,
    "start_time": "2024-07-15T02:58:45.348Z"
   },
   {
    "duration": 462,
    "start_time": "2024-07-16T03:48:22.186Z"
   },
   {
    "duration": 1715,
    "start_time": "2024-07-16T03:48:22.749Z"
   },
   {
    "duration": 19,
    "start_time": "2024-07-16T03:48:24.468Z"
   },
   {
    "duration": 26,
    "start_time": "2024-07-16T03:48:24.490Z"
   },
   {
    "duration": 8,
    "start_time": "2024-07-16T03:48:24.607Z"
   },
   {
    "duration": 9,
    "start_time": "2024-07-16T03:48:25.126Z"
   },
   {
    "duration": 11,
    "start_time": "2024-07-16T03:48:25.651Z"
   },
   {
    "duration": 181,
    "start_time": "2024-07-16T03:48:28.398Z"
   },
   {
    "duration": 24,
    "start_time": "2024-07-16T03:48:29.341Z"
   },
   {
    "duration": 192,
    "start_time": "2024-07-16T03:48:30.220Z"
   },
   {
    "duration": 3,
    "start_time": "2024-07-16T03:48:31.340Z"
   },
   {
    "duration": 470,
    "start_time": "2024-07-20T15:49:32.471Z"
   },
   {
    "duration": 1797,
    "start_time": "2024-07-20T15:49:33.942Z"
   },
   {
    "duration": 18,
    "start_time": "2024-07-20T15:49:35.743Z"
   },
   {
    "duration": 11,
    "start_time": "2024-07-20T15:49:37.034Z"
   },
   {
    "duration": 10,
    "start_time": "2024-07-20T15:49:37.892Z"
   },
   {
    "duration": 9,
    "start_time": "2024-07-20T15:49:38.564Z"
   },
   {
    "duration": 11,
    "start_time": "2024-07-20T15:49:39.760Z"
   },
   {
    "duration": 209,
    "start_time": "2024-07-20T15:49:45.736Z"
   },
   {
    "duration": 21,
    "start_time": "2024-07-20T15:49:47.872Z"
   },
   {
    "duration": 235,
    "start_time": "2024-07-20T15:49:49.645Z"
   },
   {
    "duration": 4,
    "start_time": "2024-07-20T15:49:50.951Z"
   },
   {
    "duration": 250,
    "start_time": "2024-07-20T15:53:24.916Z"
   },
   {
    "duration": 225,
    "start_time": "2024-07-20T17:00:26.038Z"
   },
   {
    "duration": 148,
    "start_time": "2024-07-20T17:01:10.526Z"
   },
   {
    "duration": 184,
    "start_time": "2024-07-20T17:01:58.973Z"
   },
   {
    "duration": 238,
    "start_time": "2024-07-20T17:11:30.946Z"
   },
   {
    "duration": 20,
    "start_time": "2024-07-20T17:12:03.010Z"
   },
   {
    "duration": 49,
    "start_time": "2024-07-20T17:13:50.667Z"
   },
   {
    "duration": 24,
    "start_time": "2024-07-20T17:25:09.428Z"
   },
   {
    "duration": 8,
    "start_time": "2024-07-20T17:28:05.277Z"
   },
   {
    "duration": 15,
    "start_time": "2024-07-20T17:31:58.363Z"
   },
   {
    "duration": 28,
    "start_time": "2024-07-20T17:33:18.758Z"
   },
   {
    "duration": 41,
    "start_time": "2024-07-20T17:33:38.056Z"
   },
   {
    "duration": 416,
    "start_time": "2024-07-21T02:26:04.597Z"
   },
   {
    "duration": 1659,
    "start_time": "2024-07-21T02:26:05.260Z"
   },
   {
    "duration": 22,
    "start_time": "2024-07-21T02:26:06.923Z"
   },
   {
    "duration": 10,
    "start_time": "2024-07-21T02:26:06.949Z"
   },
   {
    "duration": 10,
    "start_time": "2024-07-21T02:26:09.924Z"
   },
   {
    "duration": 10,
    "start_time": "2024-07-21T02:26:10.756Z"
   },
   {
    "duration": 11,
    "start_time": "2024-07-21T02:26:11.407Z"
   },
   {
    "duration": 184,
    "start_time": "2024-07-21T02:26:14.750Z"
   },
   {
    "duration": 164,
    "start_time": "2024-07-21T02:26:15.141Z"
   },
   {
    "duration": 19,
    "start_time": "2024-07-21T02:26:15.654Z"
   },
   {
    "duration": 188,
    "start_time": "2024-07-21T02:26:16.067Z"
   },
   {
    "duration": 169,
    "start_time": "2024-07-21T02:26:16.280Z"
   },
   {
    "duration": 46,
    "start_time": "2024-07-21T02:26:16.497Z"
   },
   {
    "duration": 23,
    "start_time": "2024-07-21T02:26:17.490Z"
   },
   {
    "duration": 15,
    "start_time": "2024-07-21T02:26:18.076Z"
   },
   {
    "duration": 7,
    "start_time": "2024-07-21T02:26:18.533Z"
   },
   {
    "duration": 40,
    "start_time": "2024-07-21T02:26:18.952Z"
   },
   {
    "duration": 8,
    "start_time": "2024-07-21T02:34:23.933Z"
   },
   {
    "duration": 10,
    "start_time": "2024-07-21T02:34:51.472Z"
   },
   {
    "duration": 5,
    "start_time": "2024-07-21T02:36:25.745Z"
   },
   {
    "duration": 7,
    "start_time": "2024-07-21T02:36:55.236Z"
   },
   {
    "duration": 33,
    "start_time": "2024-07-21T02:37:07.724Z"
   },
   {
    "duration": 6,
    "start_time": "2024-07-21T02:37:09.308Z"
   },
   {
    "duration": 7,
    "start_time": "2024-07-21T02:37:43.019Z"
   },
   {
    "duration": 20,
    "start_time": "2024-07-21T02:38:19.711Z"
   },
   {
    "duration": 13,
    "start_time": "2024-07-21T02:41:16.474Z"
   },
   {
    "duration": 16,
    "start_time": "2024-07-21T02:44:04.512Z"
   },
   {
    "duration": 8,
    "start_time": "2024-07-21T02:52:14.443Z"
   },
   {
    "duration": 7,
    "start_time": "2024-07-21T02:52:22.947Z"
   },
   {
    "duration": 7,
    "start_time": "2024-07-21T02:57:58.106Z"
   },
   {
    "duration": 8,
    "start_time": "2024-07-21T02:58:06.814Z"
   },
   {
    "duration": 7,
    "start_time": "2024-07-21T03:04:03.511Z"
   },
   {
    "duration": 1179,
    "start_time": "2024-07-21T03:07:36.665Z"
   },
   {
    "duration": 7,
    "start_time": "2024-07-21T03:08:09.985Z"
   },
   {
    "duration": 23,
    "start_time": "2024-07-21T03:10:22.907Z"
   },
   {
    "duration": 1386,
    "start_time": "2024-07-21T03:13:34.274Z"
   },
   {
    "duration": 23,
    "start_time": "2024-07-21T03:17:22.505Z"
   },
   {
    "duration": 21,
    "start_time": "2024-07-21T03:17:27.349Z"
   },
   {
    "duration": 312,
    "start_time": "2024-07-21T03:17:42.925Z"
   },
   {
    "duration": 107,
    "start_time": "2024-07-21T03:20:48.975Z"
   },
   {
    "duration": 6996,
    "start_time": "2024-07-21T03:21:18.715Z"
   },
   {
    "duration": 7,
    "start_time": "2024-07-21T03:22:08.494Z"
   },
   {
    "duration": 5,
    "start_time": "2024-07-21T03:24:11.832Z"
   },
   {
    "duration": 5,
    "start_time": "2024-07-21T03:24:16.320Z"
   },
   {
    "duration": 30,
    "start_time": "2024-07-21T03:24:47.059Z"
   },
   {
    "duration": 1209,
    "start_time": "2024-07-21T03:25:06.733Z"
   },
   {
    "duration": 1208,
    "start_time": "2024-07-21T03:25:55.957Z"
   },
   {
    "duration": 21,
    "start_time": "2024-07-21T03:46:36.300Z"
   },
   {
    "duration": 7,
    "start_time": "2024-07-21T03:47:41.874Z"
   },
   {
    "duration": 22,
    "start_time": "2024-07-21T03:47:49.271Z"
   },
   {
    "duration": 20,
    "start_time": "2024-07-21T03:55:15.457Z"
   },
   {
    "duration": 21,
    "start_time": "2024-07-21T03:59:43.429Z"
   },
   {
    "duration": 25,
    "start_time": "2024-07-21T04:11:01.221Z"
   },
   {
    "duration": 25,
    "start_time": "2024-07-21T04:11:22.925Z"
   },
   {
    "duration": 23,
    "start_time": "2024-07-21T04:11:36.706Z"
   },
   {
    "duration": 23,
    "start_time": "2024-07-21T04:13:11.894Z"
   },
   {
    "duration": 23,
    "start_time": "2024-07-21T04:14:11.745Z"
   },
   {
    "duration": 9,
    "start_time": "2024-07-21T04:14:24.264Z"
   },
   {
    "duration": 10,
    "start_time": "2024-07-21T04:14:39.795Z"
   },
   {
    "duration": 24,
    "start_time": "2024-07-21T04:15:08.864Z"
   },
   {
    "duration": 22,
    "start_time": "2024-07-21T04:15:15.218Z"
   },
   {
    "duration": 12,
    "start_time": "2024-07-21T04:15:37.036Z"
   },
   {
    "duration": 9,
    "start_time": "2024-07-21T04:17:07.894Z"
   },
   {
    "duration": 104,
    "start_time": "2024-07-21T04:19:06.684Z"
   },
   {
    "duration": 22,
    "start_time": "2024-07-21T04:19:58.809Z"
   },
   {
    "duration": 10,
    "start_time": "2024-07-21T04:20:35.698Z"
   },
   {
    "duration": 421,
    "start_time": "2024-07-22T15:17:43.380Z"
   },
   {
    "duration": 1635,
    "start_time": "2024-07-22T15:17:44.128Z"
   },
   {
    "duration": 20,
    "start_time": "2024-07-22T15:17:45.766Z"
   },
   {
    "duration": 11,
    "start_time": "2024-07-22T15:17:45.789Z"
   },
   {
    "duration": 9,
    "start_time": "2024-07-22T15:17:46.244Z"
   },
   {
    "duration": 9,
    "start_time": "2024-07-22T15:17:46.712Z"
   },
   {
    "duration": 10,
    "start_time": "2024-07-22T15:17:46.993Z"
   },
   {
    "duration": 190,
    "start_time": "2024-07-22T15:17:48.281Z"
   },
   {
    "duration": 178,
    "start_time": "2024-07-22T15:17:48.479Z"
   },
   {
    "duration": 19,
    "start_time": "2024-07-22T15:17:48.878Z"
   },
   {
    "duration": 203,
    "start_time": "2024-07-22T15:17:49.302Z"
   },
   {
    "duration": 168,
    "start_time": "2024-07-22T15:17:49.519Z"
   },
   {
    "duration": 48,
    "start_time": "2024-07-22T15:17:50.051Z"
   },
   {
    "duration": 23,
    "start_time": "2024-07-22T15:17:52.157Z"
   },
   {
    "duration": 7,
    "start_time": "2024-07-22T15:17:52.609Z"
   },
   {
    "duration": 35,
    "start_time": "2024-07-22T15:17:53.129Z"
   },
   {
    "duration": 18,
    "start_time": "2024-07-22T15:17:53.621Z"
   },
   {
    "duration": 7,
    "start_time": "2024-07-22T15:17:54.853Z"
   },
   {
    "duration": 7,
    "start_time": "2024-07-22T15:17:55.307Z"
   },
   {
    "duration": 6,
    "start_time": "2024-07-22T15:17:56.817Z"
   },
   {
    "duration": 6,
    "start_time": "2024-07-22T15:17:57.308Z"
   },
   {
    "duration": 1343,
    "start_time": "2024-07-22T15:17:58.731Z"
   },
   {
    "duration": 1187,
    "start_time": "2024-07-22T15:18:00.077Z"
   },
   {
    "duration": 18,
    "start_time": "2024-07-22T15:18:03.290Z"
   },
   {
    "duration": 19,
    "start_time": "2024-07-22T15:18:04.412Z"
   },
   {
    "duration": 19,
    "start_time": "2024-07-22T15:18:05.592Z"
   },
   {
    "duration": 11,
    "start_time": "2024-07-22T15:18:07.032Z"
   },
   {
    "duration": 13,
    "start_time": "2024-07-22T15:18:22.928Z"
   },
   {
    "duration": 11,
    "start_time": "2024-07-22T15:19:58.818Z"
   },
   {
    "duration": 15,
    "start_time": "2024-07-22T15:34:48.283Z"
   },
   {
    "duration": 15,
    "start_time": "2024-07-22T15:35:09.348Z"
   },
   {
    "duration": 9,
    "start_time": "2024-07-22T15:35:50.237Z"
   },
   {
    "duration": 11,
    "start_time": "2024-07-22T15:35:54.103Z"
   },
   {
    "duration": 10,
    "start_time": "2024-07-22T15:36:45.050Z"
   },
   {
    "duration": 19,
    "start_time": "2024-07-22T15:37:24.659Z"
   },
   {
    "duration": 14,
    "start_time": "2024-07-22T15:42:03.441Z"
   },
   {
    "duration": 11,
    "start_time": "2024-07-22T15:43:49.783Z"
   },
   {
    "duration": 617,
    "start_time": "2024-07-22T15:44:37.087Z"
   },
   {
    "duration": 54,
    "start_time": "2024-07-22T15:44:52.908Z"
   },
   {
    "duration": 101,
    "start_time": "2024-07-22T15:45:59.164Z"
   },
   {
    "duration": 50,
    "start_time": "2024-07-22T15:46:19.923Z"
   },
   {
    "duration": 53,
    "start_time": "2024-07-22T15:46:35.239Z"
   },
   {
    "duration": 49,
    "start_time": "2024-07-22T15:47:38.588Z"
   },
   {
    "duration": 51,
    "start_time": "2024-07-22T15:48:05.211Z"
   },
   {
    "duration": 51,
    "start_time": "2024-07-22T15:49:17.159Z"
   },
   {
    "duration": 10,
    "start_time": "2024-07-22T15:49:24.205Z"
   },
   {
    "duration": 62,
    "start_time": "2024-07-22T15:49:31.728Z"
   },
   {
    "duration": 51,
    "start_time": "2024-07-22T15:49:44.508Z"
   },
   {
    "duration": 52,
    "start_time": "2024-07-22T15:49:48.533Z"
   },
   {
    "duration": 57,
    "start_time": "2024-07-22T15:49:56.923Z"
   },
   {
    "duration": 7,
    "start_time": "2024-07-22T15:50:15.189Z"
   },
   {
    "duration": 12,
    "start_time": "2024-07-22T15:50:31.551Z"
   },
   {
    "duration": 7,
    "start_time": "2024-07-22T15:50:54.147Z"
   },
   {
    "duration": 9,
    "start_time": "2024-07-22T15:50:58.986Z"
   },
   {
    "duration": 8,
    "start_time": "2024-07-22T15:51:02.277Z"
   },
   {
    "duration": 10,
    "start_time": "2024-07-22T15:51:07.442Z"
   },
   {
    "duration": 7,
    "start_time": "2024-07-22T15:51:43.132Z"
   },
   {
    "duration": 4,
    "start_time": "2024-07-22T15:52:12.260Z"
   },
   {
    "duration": 1484,
    "start_time": "2024-07-22T15:52:12.848Z"
   },
   {
    "duration": 12,
    "start_time": "2024-07-22T15:52:14.336Z"
   },
   {
    "duration": 10,
    "start_time": "2024-07-22T15:52:14.680Z"
   },
   {
    "duration": 9,
    "start_time": "2024-07-22T15:52:17.279Z"
   },
   {
    "duration": 9,
    "start_time": "2024-07-22T15:52:17.905Z"
   },
   {
    "duration": 10,
    "start_time": "2024-07-22T15:52:18.352Z"
   },
   {
    "duration": 167,
    "start_time": "2024-07-22T15:52:20.057Z"
   },
   {
    "duration": 163,
    "start_time": "2024-07-22T15:52:20.274Z"
   },
   {
    "duration": 18,
    "start_time": "2024-07-22T15:52:20.808Z"
   },
   {
    "duration": 189,
    "start_time": "2024-07-22T15:52:21.623Z"
   },
   {
    "duration": 170,
    "start_time": "2024-07-22T15:52:22.312Z"
   },
   {
    "duration": 43,
    "start_time": "2024-07-22T15:52:22.771Z"
   },
   {
    "duration": 24,
    "start_time": "2024-07-22T15:52:24.133Z"
   },
   {
    "duration": 7,
    "start_time": "2024-07-22T15:52:24.372Z"
   },
   {
    "duration": 38,
    "start_time": "2024-07-22T15:52:25.210Z"
   },
   {
    "duration": 17,
    "start_time": "2024-07-22T15:52:25.404Z"
   },
   {
    "duration": 7,
    "start_time": "2024-07-22T15:52:26.164Z"
   },
   {
    "duration": 7,
    "start_time": "2024-07-22T15:52:26.437Z"
   },
   {
    "duration": 8,
    "start_time": "2024-07-22T15:52:27.124Z"
   },
   {
    "duration": 7,
    "start_time": "2024-07-22T15:52:27.339Z"
   },
   {
    "duration": 1329,
    "start_time": "2024-07-22T15:52:28.010Z"
   },
   {
    "duration": 1190,
    "start_time": "2024-07-22T15:52:29.343Z"
   },
   {
    "duration": 20,
    "start_time": "2024-07-22T15:52:30.535Z"
   },
   {
    "duration": 20,
    "start_time": "2024-07-22T15:52:30.558Z"
   },
   {
    "duration": 22,
    "start_time": "2024-07-22T15:52:37.171Z"
   },
   {
    "duration": 11,
    "start_time": "2024-07-22T15:52:39.013Z"
   },
   {
    "duration": 16,
    "start_time": "2024-07-22T15:52:59.529Z"
   },
   {
    "duration": 23,
    "start_time": "2024-07-22T15:57:44.019Z"
   },
   {
    "duration": 11,
    "start_time": "2024-07-22T15:58:18.136Z"
   },
   {
    "duration": 19,
    "start_time": "2024-07-22T16:34:06.691Z"
   },
   {
    "duration": 6,
    "start_time": "2024-07-22T16:34:25.213Z"
   },
   {
    "duration": 18,
    "start_time": "2024-07-22T16:35:01.623Z"
   },
   {
    "duration": 8,
    "start_time": "2024-07-22T16:35:16.620Z"
   },
   {
    "duration": 34,
    "start_time": "2024-07-22T16:44:05.408Z"
   },
   {
    "duration": 31,
    "start_time": "2024-07-22T16:44:23.746Z"
   },
   {
    "duration": 39,
    "start_time": "2024-07-22T16:51:24.871Z"
   },
   {
    "duration": 65,
    "start_time": "2024-07-22T17:03:34.988Z"
   },
   {
    "duration": 48,
    "start_time": "2024-07-22T17:03:44.725Z"
   },
   {
    "duration": 49,
    "start_time": "2024-07-22T17:03:59.757Z"
   },
   {
    "duration": 834,
    "start_time": "2024-07-22T17:13:18.515Z"
   },
   {
    "duration": 72,
    "start_time": "2024-07-22T17:13:36.575Z"
   },
   {
    "duration": 75,
    "start_time": "2024-07-22T17:15:52.877Z"
   },
   {
    "duration": 101,
    "start_time": "2024-07-22T17:16:33.229Z"
   },
   {
    "duration": 71,
    "start_time": "2024-07-22T17:16:46.257Z"
   },
   {
    "duration": 76,
    "start_time": "2024-07-22T17:17:01.435Z"
   },
   {
    "duration": 10,
    "start_time": "2024-07-22T17:17:31.921Z"
   },
   {
    "duration": 459,
    "start_time": "2024-07-22T19:07:52.752Z"
   },
   {
    "duration": 1642,
    "start_time": "2024-07-22T19:07:53.415Z"
   },
   {
    "duration": 20,
    "start_time": "2024-07-22T19:07:55.061Z"
   },
   {
    "duration": 11,
    "start_time": "2024-07-22T19:07:55.083Z"
   },
   {
    "duration": 38,
    "start_time": "2024-07-22T19:07:55.098Z"
   },
   {
    "duration": 9,
    "start_time": "2024-07-22T19:07:55.140Z"
   },
   {
    "duration": 10,
    "start_time": "2024-07-22T19:07:55.365Z"
   },
   {
    "duration": 188,
    "start_time": "2024-07-22T19:07:58.314Z"
   },
   {
    "duration": 168,
    "start_time": "2024-07-22T19:07:58.738Z"
   },
   {
    "duration": 21,
    "start_time": "2024-07-22T19:07:59.601Z"
   },
   {
    "duration": 208,
    "start_time": "2024-07-22T19:08:00.372Z"
   },
   {
    "duration": 168,
    "start_time": "2024-07-22T19:08:00.763Z"
   },
   {
    "duration": 48,
    "start_time": "2024-07-22T19:08:01.144Z"
   },
   {
    "duration": 22,
    "start_time": "2024-07-22T19:08:02.342Z"
   },
   {
    "duration": 7,
    "start_time": "2024-07-22T19:08:02.846Z"
   },
   {
    "duration": 36,
    "start_time": "2024-07-22T19:08:03.605Z"
   },
   {
    "duration": 16,
    "start_time": "2024-07-22T19:08:04.082Z"
   },
   {
    "duration": 8,
    "start_time": "2024-07-22T19:08:05.377Z"
   },
   {
    "duration": 7,
    "start_time": "2024-07-22T19:08:05.620Z"
   },
   {
    "duration": 7,
    "start_time": "2024-07-22T19:08:06.630Z"
   },
   {
    "duration": 7,
    "start_time": "2024-07-22T19:08:07.323Z"
   },
   {
    "duration": 1357,
    "start_time": "2024-07-22T19:08:08.568Z"
   },
   {
    "duration": 1200,
    "start_time": "2024-07-22T19:08:09.932Z"
   },
   {
    "duration": 20,
    "start_time": "2024-07-22T19:08:11.135Z"
   },
   {
    "duration": 20,
    "start_time": "2024-07-22T19:08:11.526Z"
   },
   {
    "duration": 19,
    "start_time": "2024-07-22T19:08:12.392Z"
   },
   {
    "duration": 10,
    "start_time": "2024-07-22T19:08:13.351Z"
   },
   {
    "duration": 18,
    "start_time": "2024-07-22T19:08:14.310Z"
   },
   {
    "duration": 13,
    "start_time": "2024-07-22T19:08:15.758Z"
   },
   {
    "duration": 29,
    "start_time": "2024-07-22T19:08:16.268Z"
   },
   {
    "duration": 31,
    "start_time": "2024-07-22T19:08:17.421Z"
   },
   {
    "duration": 51,
    "start_time": "2024-07-22T19:08:17.884Z"
   },
   {
    "duration": 7,
    "start_time": "2024-07-22T19:08:18.608Z"
   },
   {
    "duration": 3,
    "start_time": "2024-07-22T19:08:18.936Z"
   },
   {
    "duration": 4,
    "start_time": "2024-07-22T19:08:19.896Z"
   },
   {
    "duration": 4,
    "start_time": "2024-07-22T19:08:50.534Z"
   },
   {
    "duration": 22,
    "start_time": "2024-07-22T19:08:59.965Z"
   },
   {
    "duration": 14,
    "start_time": "2024-07-22T19:09:25.224Z"
   },
   {
    "duration": 19,
    "start_time": "2024-07-22T19:18:21.857Z"
   },
   {
    "duration": 12,
    "start_time": "2024-07-22T19:54:23.062Z"
   },
   {
    "duration": 722,
    "start_time": "2024-07-22T20:03:16.743Z"
   },
   {
    "duration": 46,
    "start_time": "2024-07-22T20:04:19.207Z"
   },
   {
    "duration": 21,
    "start_time": "2024-07-22T20:05:56.160Z"
   },
   {
    "duration": 48,
    "start_time": "2024-07-22T20:06:06.728Z"
   },
   {
    "duration": 47,
    "start_time": "2024-07-22T20:06:49.249Z"
   },
   {
    "duration": 45,
    "start_time": "2024-07-22T20:07:13.379Z"
   },
   {
    "duration": 511,
    "start_time": "2024-07-22T20:50:36.179Z"
   },
   {
    "duration": 1709,
    "start_time": "2024-07-22T20:50:36.694Z"
   },
   {
    "duration": 22,
    "start_time": "2024-07-22T20:50:38.406Z"
   },
   {
    "duration": 11,
    "start_time": "2024-07-22T20:50:38.432Z"
   },
   {
    "duration": 9,
    "start_time": "2024-07-22T20:50:38.448Z"
   },
   {
    "duration": 12,
    "start_time": "2024-07-22T20:50:38.492Z"
   },
   {
    "duration": 11,
    "start_time": "2024-07-22T20:50:38.507Z"
   },
   {
    "duration": 224,
    "start_time": "2024-07-22T20:50:42.622Z"
   },
   {
    "duration": 206,
    "start_time": "2024-07-22T20:50:42.850Z"
   },
   {
    "duration": 20,
    "start_time": "2024-07-22T20:50:43.204Z"
   },
   {
    "duration": 222,
    "start_time": "2024-07-22T20:50:43.593Z"
   },
   {
    "duration": 222,
    "start_time": "2024-07-22T20:50:43.819Z"
   },
   {
    "duration": 70,
    "start_time": "2024-07-22T20:50:44.047Z"
   },
   {
    "duration": 24,
    "start_time": "2024-07-22T20:50:44.708Z"
   },
   {
    "duration": 7,
    "start_time": "2024-07-22T20:50:44.946Z"
   },
   {
    "duration": 36,
    "start_time": "2024-07-22T20:50:45.179Z"
   },
   {
    "duration": 18,
    "start_time": "2024-07-22T20:50:45.508Z"
   },
   {
    "duration": 7,
    "start_time": "2024-07-22T20:50:46.863Z"
   },
   {
    "duration": 6,
    "start_time": "2024-07-22T20:50:47.383Z"
   },
   {
    "duration": 11,
    "start_time": "2024-07-22T20:50:48.113Z"
   },
   {
    "duration": 6,
    "start_time": "2024-07-22T20:50:48.340Z"
   },
   {
    "duration": 1376,
    "start_time": "2024-07-22T20:50:48.989Z"
   },
   {
    "duration": 1226,
    "start_time": "2024-07-22T20:50:50.368Z"
   },
   {
    "duration": 20,
    "start_time": "2024-07-22T20:50:51.597Z"
   },
   {
    "duration": 21,
    "start_time": "2024-07-22T20:50:51.621Z"
   },
   {
    "duration": 18,
    "start_time": "2024-07-22T20:50:51.954Z"
   },
   {
    "duration": 10,
    "start_time": "2024-07-22T20:50:52.770Z"
   },
   {
    "duration": 18,
    "start_time": "2024-07-22T20:50:53.731Z"
   },
   {
    "duration": 12,
    "start_time": "2024-07-22T20:50:54.921Z"
   },
   {
    "duration": 30,
    "start_time": "2024-07-22T20:50:55.168Z"
   },
   {
    "duration": 29,
    "start_time": "2024-07-22T20:50:55.845Z"
   },
   {
    "duration": 50,
    "start_time": "2024-07-22T20:50:56.062Z"
   },
   {
    "duration": 23,
    "start_time": "2024-07-22T20:50:56.512Z"
   },
   {
    "duration": 715,
    "start_time": "2024-07-22T20:50:56.768Z"
   },
   {
    "duration": 48,
    "start_time": "2024-07-22T20:58:43.474Z"
   },
   {
    "duration": 40,
    "start_time": "2024-07-22T21:05:48.678Z"
   },
   {
    "duration": 48,
    "start_time": "2024-07-22T21:08:06.795Z"
   },
   {
    "duration": 49,
    "start_time": "2024-07-22T21:20:47.312Z"
   },
   {
    "duration": 220,
    "start_time": "2024-07-22T21:34:13.739Z"
   },
   {
    "duration": 250,
    "start_time": "2024-07-22T21:34:24.831Z"
   },
   {
    "duration": 49,
    "start_time": "2024-07-22T21:34:41.083Z"
   },
   {
    "duration": 7,
    "start_time": "2024-07-22T21:52:00.955Z"
   },
   {
    "duration": 38,
    "start_time": "2024-07-22T21:53:50.986Z"
   },
   {
    "duration": 46,
    "start_time": "2024-07-22T21:54:38.297Z"
   },
   {
    "duration": 9,
    "start_time": "2024-07-22T21:54:42.134Z"
   },
   {
    "duration": 47,
    "start_time": "2024-07-22T21:54:51.788Z"
   },
   {
    "duration": 6,
    "start_time": "2024-07-22T21:54:55.089Z"
   },
   {
    "duration": 882,
    "start_time": "2024-07-22T22:12:52.629Z"
   },
   {
    "duration": 76,
    "start_time": "2024-07-22T22:19:54.588Z"
   },
   {
    "duration": 75,
    "start_time": "2024-07-22T22:20:20.290Z"
   },
   {
    "duration": 767,
    "start_time": "2024-07-22T22:20:42.314Z"
   },
   {
    "duration": 39,
    "start_time": "2024-07-22T22:20:51.832Z"
   },
   {
    "duration": 44,
    "start_time": "2024-07-22T22:25:47.436Z"
   },
   {
    "duration": 430,
    "start_time": "2024-07-23T00:22:09.928Z"
   },
   {
    "duration": 1648,
    "start_time": "2024-07-23T00:22:10.361Z"
   },
   {
    "duration": 22,
    "start_time": "2024-07-23T00:22:12.011Z"
   },
   {
    "duration": 11,
    "start_time": "2024-07-23T00:22:12.035Z"
   },
   {
    "duration": 9,
    "start_time": "2024-07-23T00:22:12.050Z"
   },
   {
    "duration": 9,
    "start_time": "2024-07-23T00:22:12.091Z"
   },
   {
    "duration": 10,
    "start_time": "2024-07-23T00:22:12.104Z"
   },
   {
    "duration": 183,
    "start_time": "2024-07-23T00:22:13.542Z"
   },
   {
    "duration": 197,
    "start_time": "2024-07-23T00:22:15.706Z"
   },
   {
    "duration": 21,
    "start_time": "2024-07-23T00:22:16.632Z"
   },
   {
    "duration": 199,
    "start_time": "2024-07-23T00:22:17.324Z"
   },
   {
    "duration": 174,
    "start_time": "2024-07-23T00:22:17.582Z"
   },
   {
    "duration": 56,
    "start_time": "2024-07-23T00:22:17.934Z"
   },
   {
    "duration": 26,
    "start_time": "2024-07-23T00:22:18.826Z"
   },
   {
    "duration": 7,
    "start_time": "2024-07-23T00:22:19.145Z"
   },
   {
    "duration": 39,
    "start_time": "2024-07-23T00:22:19.448Z"
   },
   {
    "duration": 18,
    "start_time": "2024-07-23T00:22:19.779Z"
   },
   {
    "duration": 7,
    "start_time": "2024-07-23T00:22:20.438Z"
   },
   {
    "duration": 6,
    "start_time": "2024-07-23T00:22:20.670Z"
   },
   {
    "duration": 8,
    "start_time": "2024-07-23T00:22:21.556Z"
   },
   {
    "duration": 7,
    "start_time": "2024-07-23T00:22:21.794Z"
   },
   {
    "duration": 1498,
    "start_time": "2024-07-23T00:22:22.519Z"
   },
   {
    "duration": 1373,
    "start_time": "2024-07-23T00:22:24.021Z"
   },
   {
    "duration": 25,
    "start_time": "2024-07-23T00:22:25.397Z"
   },
   {
    "duration": 25,
    "start_time": "2024-07-23T00:22:25.426Z"
   },
   {
    "duration": 53,
    "start_time": "2024-07-23T00:22:25.455Z"
   },
   {
    "duration": 10,
    "start_time": "2024-07-23T00:22:26.032Z"
   },
   {
    "duration": 17,
    "start_time": "2024-07-23T00:22:27.073Z"
   },
   {
    "duration": 12,
    "start_time": "2024-07-23T00:22:28.082Z"
   },
   {
    "duration": 33,
    "start_time": "2024-07-23T00:22:28.495Z"
   },
   {
    "duration": 32,
    "start_time": "2024-07-23T00:22:29.663Z"
   },
   {
    "duration": 51,
    "start_time": "2024-07-23T00:22:29.891Z"
   },
   {
    "duration": 22,
    "start_time": "2024-07-23T00:22:30.327Z"
   },
   {
    "duration": 248,
    "start_time": "2024-07-23T00:22:30.559Z"
   },
   {
    "duration": 49,
    "start_time": "2024-07-23T00:22:30.811Z"
   },
   {
    "duration": 6,
    "start_time": "2024-07-23T00:22:30.999Z"
   },
   {
    "duration": 50,
    "start_time": "2024-07-23T00:22:31.690Z"
   },
   {
    "duration": 10,
    "start_time": "2024-07-23T00:33:12.145Z"
   },
   {
    "duration": 346,
    "start_time": "2024-07-23T00:35:56.863Z"
   },
   {
    "duration": 24,
    "start_time": "2024-07-23T00:37:52.951Z"
   },
   {
    "duration": 10,
    "start_time": "2024-07-23T00:38:01.145Z"
   },
   {
    "duration": 24,
    "start_time": "2024-07-23T00:38:15.926Z"
   },
   {
    "duration": 10,
    "start_time": "2024-07-23T00:38:23.272Z"
   },
   {
    "duration": 8,
    "start_time": "2024-07-23T00:39:37.072Z"
   },
   {
    "duration": 480,
    "start_time": "2024-07-23T01:33:21.385Z"
   },
   {
    "duration": 1707,
    "start_time": "2024-07-23T01:33:22.013Z"
   },
   {
    "duration": 18,
    "start_time": "2024-07-23T01:33:23.723Z"
   },
   {
    "duration": 11,
    "start_time": "2024-07-23T01:33:23.746Z"
   },
   {
    "duration": 35,
    "start_time": "2024-07-23T01:33:23.761Z"
   },
   {
    "duration": 11,
    "start_time": "2024-07-23T01:33:23.799Z"
   },
   {
    "duration": 10,
    "start_time": "2024-07-23T01:33:23.814Z"
   },
   {
    "duration": 188,
    "start_time": "2024-07-23T01:33:25.006Z"
   },
   {
    "duration": 171,
    "start_time": "2024-07-23T01:33:25.304Z"
   },
   {
    "duration": 19,
    "start_time": "2024-07-23T01:33:26.191Z"
   },
   {
    "duration": 221,
    "start_time": "2024-07-23T01:33:26.802Z"
   },
   {
    "duration": 178,
    "start_time": "2024-07-23T01:33:27.072Z"
   },
   {
    "duration": 49,
    "start_time": "2024-07-23T01:33:27.324Z"
   },
   {
    "duration": 26,
    "start_time": "2024-07-23T01:33:28.097Z"
   },
   {
    "duration": 8,
    "start_time": "2024-07-23T01:33:28.345Z"
   },
   {
    "duration": 38,
    "start_time": "2024-07-23T01:33:28.603Z"
   },
   {
    "duration": 17,
    "start_time": "2024-07-23T01:33:28.865Z"
   },
   {
    "duration": 8,
    "start_time": "2024-07-23T01:33:29.838Z"
   },
   {
    "duration": 6,
    "start_time": "2024-07-23T01:33:30.160Z"
   },
   {
    "duration": 7,
    "start_time": "2024-07-23T01:33:30.894Z"
   },
   {
    "duration": 7,
    "start_time": "2024-07-23T01:33:31.142Z"
   },
   {
    "duration": 1457,
    "start_time": "2024-07-23T01:33:32.105Z"
   },
   {
    "duration": 1272,
    "start_time": "2024-07-23T01:33:33.566Z"
   },
   {
    "duration": 19,
    "start_time": "2024-07-23T01:33:34.843Z"
   },
   {
    "duration": 19,
    "start_time": "2024-07-23T01:33:34.890Z"
   },
   {
    "duration": 21,
    "start_time": "2024-07-23T01:33:34.991Z"
   },
   {
    "duration": 10,
    "start_time": "2024-07-23T01:33:35.618Z"
   },
   {
    "duration": 19,
    "start_time": "2024-07-23T01:33:36.123Z"
   },
   {
    "duration": 10,
    "start_time": "2024-07-23T01:33:36.868Z"
   },
   {
    "duration": 32,
    "start_time": "2024-07-23T01:33:37.367Z"
   },
   {
    "duration": 30,
    "start_time": "2024-07-23T01:33:38.561Z"
   },
   {
    "duration": 49,
    "start_time": "2024-07-23T01:33:38.808Z"
   },
   {
    "duration": 22,
    "start_time": "2024-07-23T01:33:39.513Z"
   },
   {
    "duration": 217,
    "start_time": "2024-07-23T01:33:40.011Z"
   },
   {
    "duration": 50,
    "start_time": "2024-07-23T01:33:40.506Z"
   },
   {
    "duration": 6,
    "start_time": "2024-07-23T01:33:41.199Z"
   },
   {
    "duration": 45,
    "start_time": "2024-07-23T01:33:41.606Z"
   },
   {
    "duration": 10,
    "start_time": "2024-07-23T01:33:44.636Z"
   },
   {
    "duration": 9,
    "start_time": "2024-07-23T01:33:44.888Z"
   },
   {
    "duration": 397,
    "start_time": "2024-07-23T15:03:19.370Z"
   },
   {
    "duration": 1677,
    "start_time": "2024-07-23T15:03:20.124Z"
   },
   {
    "duration": 19,
    "start_time": "2024-07-23T15:03:21.804Z"
   },
   {
    "duration": 11,
    "start_time": "2024-07-23T15:03:21.827Z"
   },
   {
    "duration": 11,
    "start_time": "2024-07-23T15:03:21.841Z"
   },
   {
    "duration": 9,
    "start_time": "2024-07-23T15:03:21.968Z"
   },
   {
    "duration": 12,
    "start_time": "2024-07-23T15:03:22.199Z"
   },
   {
    "duration": 192,
    "start_time": "2024-07-23T15:03:57.997Z"
   },
   {
    "duration": 169,
    "start_time": "2024-07-23T15:03:59.375Z"
   },
   {
    "duration": 19,
    "start_time": "2024-07-23T15:04:01.402Z"
   },
   {
    "duration": 226,
    "start_time": "2024-07-23T15:04:02.836Z"
   },
   {
    "duration": 169,
    "start_time": "2024-07-23T15:04:03.802Z"
   },
   {
    "duration": 48,
    "start_time": "2024-07-23T15:04:04.695Z"
   },
   {
    "duration": 24,
    "start_time": "2024-07-23T15:04:06.634Z"
   },
   {
    "duration": 7,
    "start_time": "2024-07-23T15:04:07.136Z"
   },
   {
    "duration": 37,
    "start_time": "2024-07-23T15:04:07.856Z"
   },
   {
    "duration": 20,
    "start_time": "2024-07-23T15:04:08.313Z"
   },
   {
    "duration": 8,
    "start_time": "2024-07-23T15:04:09.738Z"
   },
   {
    "duration": 6,
    "start_time": "2024-07-23T15:04:10.193Z"
   },
   {
    "duration": 8,
    "start_time": "2024-07-23T15:04:11.278Z"
   },
   {
    "duration": 6,
    "start_time": "2024-07-23T15:04:11.796Z"
   },
   {
    "duration": 1362,
    "start_time": "2024-07-23T15:04:12.645Z"
   },
   {
    "duration": 1223,
    "start_time": "2024-07-23T15:04:14.010Z"
   },
   {
    "duration": 19,
    "start_time": "2024-07-23T15:04:15.237Z"
   },
   {
    "duration": 18,
    "start_time": "2024-07-23T15:04:15.486Z"
   },
   {
    "duration": 20,
    "start_time": "2024-07-23T15:04:16.185Z"
   },
   {
    "duration": 9,
    "start_time": "2024-07-23T15:04:16.835Z"
   },
   {
    "duration": 21,
    "start_time": "2024-07-23T15:04:17.700Z"
   },
   {
    "duration": 12,
    "start_time": "2024-07-23T15:04:18.889Z"
   },
   {
    "duration": 36,
    "start_time": "2024-07-23T15:04:19.370Z"
   },
   {
    "duration": 34,
    "start_time": "2024-07-23T15:04:20.530Z"
   },
   {
    "duration": 57,
    "start_time": "2024-07-23T15:04:20.796Z"
   },
   {
    "duration": 23,
    "start_time": "2024-07-23T15:04:21.520Z"
   },
   {
    "duration": 215,
    "start_time": "2024-07-23T15:04:22.029Z"
   },
   {
    "duration": 48,
    "start_time": "2024-07-23T15:04:22.478Z"
   },
   {
    "duration": 6,
    "start_time": "2024-07-23T15:04:22.965Z"
   },
   {
    "duration": 45,
    "start_time": "2024-07-23T15:04:24.269Z"
   },
   {
    "duration": 340,
    "start_time": "2024-07-23T15:04:43.553Z"
   },
   {
    "duration": 26,
    "start_time": "2024-07-23T15:05:04.435Z"
   },
   {
    "duration": 9,
    "start_time": "2024-07-23T15:05:24.481Z"
   },
   {
    "duration": 9,
    "start_time": "2024-07-23T15:05:28.521Z"
   },
   {
    "duration": 20,
    "start_time": "2024-07-23T15:08:38.097Z"
   },
   {
    "duration": 30,
    "start_time": "2024-07-23T15:09:07.853Z"
   },
   {
    "duration": 6,
    "start_time": "2024-07-23T15:09:23.337Z"
   },
   {
    "duration": 16,
    "start_time": "2024-07-23T15:09:34.254Z"
   },
   {
    "duration": 15,
    "start_time": "2024-07-23T15:24:44.500Z"
   },
   {
    "duration": 37,
    "start_time": "2024-07-23T15:28:01.372Z"
   },
   {
    "duration": 12,
    "start_time": "2024-07-23T15:28:31.351Z"
   },
   {
    "duration": 37,
    "start_time": "2024-07-23T15:33:36.007Z"
   },
   {
    "duration": 15,
    "start_time": "2024-07-23T15:34:02.745Z"
   },
   {
    "duration": 14,
    "start_time": "2024-07-23T15:37:22.843Z"
   },
   {
    "duration": 848,
    "start_time": "2024-07-23T16:00:04.439Z"
   },
   {
    "duration": 149,
    "start_time": "2024-07-23T16:01:58.347Z"
   },
   {
    "duration": 86,
    "start_time": "2024-07-23T16:02:20.109Z"
   },
   {
    "duration": 13,
    "start_time": "2024-07-23T16:03:38.328Z"
   },
   {
    "duration": 15,
    "start_time": "2024-07-23T16:04:06.354Z"
   },
   {
    "duration": 77,
    "start_time": "2024-07-23T16:04:44.782Z"
   },
   {
    "duration": 14,
    "start_time": "2024-07-23T16:06:05.777Z"
   },
   {
    "duration": 19,
    "start_time": "2024-07-23T16:07:12.443Z"
   },
   {
    "duration": 33,
    "start_time": "2024-07-23T16:21:05.726Z"
   },
   {
    "duration": 31,
    "start_time": "2024-07-23T16:21:19.074Z"
   },
   {
    "duration": 232,
    "start_time": "2024-07-23T16:21:34.946Z"
   },
   {
    "duration": 15,
    "start_time": "2024-07-23T16:23:53.750Z"
   },
   {
    "duration": 12,
    "start_time": "2024-07-23T16:23:58.532Z"
   },
   {
    "duration": 15,
    "start_time": "2024-07-23T16:24:07.250Z"
   },
   {
    "duration": 333,
    "start_time": "2024-07-23T16:31:30.241Z"
   },
   {
    "duration": 341,
    "start_time": "2024-07-23T16:33:34.331Z"
   },
   {
    "duration": 334,
    "start_time": "2024-07-23T16:33:51.986Z"
   },
   {
    "duration": 215,
    "start_time": "2024-07-23T16:45:39.283Z"
   },
   {
    "duration": 485,
    "start_time": "2024-07-23T19:11:38.101Z"
   },
   {
    "duration": 1676,
    "start_time": "2024-07-23T19:11:38.724Z"
   },
   {
    "duration": 20,
    "start_time": "2024-07-23T19:11:40.404Z"
   },
   {
    "duration": 13,
    "start_time": "2024-07-23T19:11:40.427Z"
   },
   {
    "duration": 9,
    "start_time": "2024-07-23T19:11:41.042Z"
   },
   {
    "duration": 10,
    "start_time": "2024-07-23T19:11:41.502Z"
   },
   {
    "duration": 11,
    "start_time": "2024-07-23T19:11:41.697Z"
   },
   {
    "duration": 190,
    "start_time": "2024-07-23T19:11:53.485Z"
   },
   {
    "duration": 185,
    "start_time": "2024-07-23T19:11:54.141Z"
   },
   {
    "duration": 22,
    "start_time": "2024-07-23T19:11:55.168Z"
   },
   {
    "duration": 192,
    "start_time": "2024-07-23T19:11:56.070Z"
   },
   {
    "duration": 173,
    "start_time": "2024-07-23T19:11:56.563Z"
   },
   {
    "duration": 50,
    "start_time": "2024-07-23T19:11:57.593Z"
   },
   {
    "duration": 26,
    "start_time": "2024-07-23T19:11:59.869Z"
   },
   {
    "duration": 9,
    "start_time": "2024-07-23T19:12:00.949Z"
   },
   {
    "duration": 40,
    "start_time": "2024-07-23T19:12:01.707Z"
   },
   {
    "duration": 16,
    "start_time": "2024-07-23T19:12:02.311Z"
   },
   {
    "duration": 10,
    "start_time": "2024-07-23T19:12:03.688Z"
   },
   {
    "duration": 6,
    "start_time": "2024-07-23T19:12:04.175Z"
   },
   {
    "duration": 7,
    "start_time": "2024-07-23T19:12:05.685Z"
   },
   {
    "duration": 6,
    "start_time": "2024-07-23T19:12:06.118Z"
   },
   {
    "duration": 1374,
    "start_time": "2024-07-23T19:12:09.248Z"
   },
   {
    "duration": 1246,
    "start_time": "2024-07-23T19:12:10.625Z"
   },
   {
    "duration": 26,
    "start_time": "2024-07-23T19:12:11.874Z"
   },
   {
    "duration": 18,
    "start_time": "2024-07-23T19:12:12.282Z"
   },
   {
    "duration": 19,
    "start_time": "2024-07-23T19:12:13.245Z"
   },
   {
    "duration": 10,
    "start_time": "2024-07-23T19:12:14.175Z"
   },
   {
    "duration": 17,
    "start_time": "2024-07-23T19:12:15.341Z"
   },
   {
    "duration": 11,
    "start_time": "2024-07-23T19:12:16.612Z"
   },
   {
    "duration": 29,
    "start_time": "2024-07-23T19:12:16.991Z"
   },
   {
    "duration": 30,
    "start_time": "2024-07-23T19:12:18.486Z"
   },
   {
    "duration": 51,
    "start_time": "2024-07-23T19:12:18.950Z"
   },
   {
    "duration": 24,
    "start_time": "2024-07-23T19:12:19.899Z"
   },
   {
    "duration": 247,
    "start_time": "2024-07-23T19:12:20.371Z"
   },
   {
    "duration": 49,
    "start_time": "2024-07-23T19:12:20.847Z"
   },
   {
    "duration": 7,
    "start_time": "2024-07-23T19:12:21.346Z"
   },
   {
    "duration": 47,
    "start_time": "2024-07-23T19:12:22.325Z"
   },
   {
    "duration": 24,
    "start_time": "2024-07-23T19:12:24.814Z"
   },
   {
    "duration": 11,
    "start_time": "2024-07-23T19:12:25.051Z"
   },
   {
    "duration": 4323,
    "start_time": "2024-07-23T19:12:25.953Z"
   },
   {
    "duration": 243,
    "start_time": "2024-07-23T19:12:30.280Z"
   },
   {
    "duration": 22,
    "start_time": "2024-07-23T19:18:38.507Z"
   },
   {
    "duration": 26,
    "start_time": "2024-07-23T19:19:12.046Z"
   },
   {
    "duration": 228,
    "start_time": "2024-07-23T19:20:01.318Z"
   },
   {
    "duration": 471,
    "start_time": "2024-07-23T19:38:15.448Z"
   },
   {
    "duration": 418,
    "start_time": "2024-07-23T19:40:15.067Z"
   },
   {
    "duration": 54,
    "start_time": "2024-07-23T19:40:31.038Z"
   },
   {
    "duration": 47,
    "start_time": "2024-07-23T19:40:43.351Z"
   },
   {
    "duration": 491,
    "start_time": "2024-07-23T19:42:12.327Z"
   },
   {
    "duration": 520,
    "start_time": "2024-07-23T19:42:29.061Z"
   },
   {
    "duration": 1664,
    "start_time": "2024-07-23T19:43:43.877Z"
   },
   {
    "duration": 464,
    "start_time": "2024-07-23T19:44:29.177Z"
   },
   {
    "duration": 496,
    "start_time": "2024-07-23T19:48:25.453Z"
   },
   {
    "duration": 604,
    "start_time": "2024-07-23T19:48:36.520Z"
   },
   {
    "duration": 510,
    "start_time": "2024-07-23T19:48:46.714Z"
   },
   {
    "duration": 532,
    "start_time": "2024-07-23T19:49:20.781Z"
   },
   {
    "duration": 222,
    "start_time": "2024-07-23T19:52:33.404Z"
   },
   {
    "duration": 240,
    "start_time": "2024-07-23T19:52:57.551Z"
   },
   {
    "duration": 7,
    "start_time": "2024-07-23T19:53:40.790Z"
   },
   {
    "duration": 254,
    "start_time": "2024-07-23T19:54:05.164Z"
   },
   {
    "duration": 235,
    "start_time": "2024-07-23T19:54:39.659Z"
   },
   {
    "duration": 426,
    "start_time": "2024-07-23T20:21:25.748Z"
   },
   {
    "duration": 1708,
    "start_time": "2024-07-23T20:21:26.623Z"
   },
   {
    "duration": 18,
    "start_time": "2024-07-23T20:21:28.336Z"
   },
   {
    "duration": 13,
    "start_time": "2024-07-23T20:28:42.019Z"
   },
   {
    "duration": 10,
    "start_time": "2024-07-23T20:28:42.768Z"
   },
   {
    "duration": 9,
    "start_time": "2024-07-23T20:28:43.308Z"
   },
   {
    "duration": 9,
    "start_time": "2024-07-23T20:28:43.560Z"
   },
   {
    "duration": 14,
    "start_time": "2024-07-23T20:28:44.006Z"
   },
   {
    "duration": 222,
    "start_time": "2024-07-23T20:28:46.646Z"
   },
   {
    "duration": 219,
    "start_time": "2024-07-23T20:28:47.153Z"
   },
   {
    "duration": 25,
    "start_time": "2024-07-23T20:28:47.927Z"
   },
   {
    "duration": 241,
    "start_time": "2024-07-23T20:28:48.620Z"
   },
   {
    "duration": 222,
    "start_time": "2024-07-23T20:28:49.092Z"
   },
   {
    "duration": 64,
    "start_time": "2024-07-23T20:28:49.511Z"
   },
   {
    "duration": 29,
    "start_time": "2024-07-23T20:28:50.236Z"
   },
   {
    "duration": 7,
    "start_time": "2024-07-23T20:28:50.629Z"
   },
   {
    "duration": 43,
    "start_time": "2024-07-23T20:28:50.819Z"
   },
   {
    "duration": 18,
    "start_time": "2024-07-23T20:28:51.015Z"
   },
   {
    "duration": 7,
    "start_time": "2024-07-23T20:28:51.657Z"
   },
   {
    "duration": 9,
    "start_time": "2024-07-23T20:28:51.881Z"
   },
   {
    "duration": 7,
    "start_time": "2024-07-23T20:28:52.806Z"
   },
   {
    "duration": 7,
    "start_time": "2024-07-23T20:28:52.977Z"
   },
   {
    "duration": 1589,
    "start_time": "2024-07-23T20:28:53.603Z"
   },
   {
    "duration": 1356,
    "start_time": "2024-07-23T20:28:55.195Z"
   },
   {
    "duration": 19,
    "start_time": "2024-07-23T20:29:00.346Z"
   },
   {
    "duration": 25,
    "start_time": "2024-07-23T20:29:01.102Z"
   },
   {
    "duration": 18,
    "start_time": "2024-07-23T20:29:01.848Z"
   },
   {
    "duration": 10,
    "start_time": "2024-07-23T20:29:02.255Z"
   },
   {
    "duration": 16,
    "start_time": "2024-07-23T20:29:02.754Z"
   },
   {
    "duration": 11,
    "start_time": "2024-07-23T20:29:04.027Z"
   },
   {
    "duration": 33,
    "start_time": "2024-07-23T20:29:04.231Z"
   },
   {
    "duration": 29,
    "start_time": "2024-07-23T20:29:05.209Z"
   },
   {
    "duration": 53,
    "start_time": "2024-07-23T20:29:05.538Z"
   },
   {
    "duration": 26,
    "start_time": "2024-07-23T20:29:06.381Z"
   },
   {
    "duration": 223,
    "start_time": "2024-07-23T20:29:07.133Z"
   },
   {
    "duration": 50,
    "start_time": "2024-07-23T20:29:07.831Z"
   },
   {
    "duration": 6,
    "start_time": "2024-07-23T20:29:08.590Z"
   },
   {
    "duration": 43,
    "start_time": "2024-07-23T20:29:09.962Z"
   },
   {
    "duration": 47,
    "start_time": "2024-07-23T20:29:12.873Z"
   },
   {
    "duration": 38,
    "start_time": "2024-07-23T20:29:13.302Z"
   },
   {
    "duration": 651,
    "start_time": "2024-07-23T20:29:18.518Z"
   },
   {
    "duration": 215,
    "start_time": "2024-07-23T20:29:23.900Z"
   },
   {
    "duration": 355,
    "start_time": "2024-07-23T20:29:37.762Z"
   },
   {
    "duration": 537,
    "start_time": "2024-07-23T20:29:48.909Z"
   },
   {
    "duration": 267,
    "start_time": "2024-07-23T20:31:34.242Z"
   },
   {
    "duration": 198,
    "start_time": "2024-07-23T20:32:31.900Z"
   },
   {
    "duration": 340,
    "start_time": "2024-07-23T20:32:55.371Z"
   },
   {
    "duration": 282,
    "start_time": "2024-07-23T20:33:21.400Z"
   },
   {
    "duration": 572,
    "start_time": "2024-07-23T20:33:56.729Z"
   },
   {
    "duration": 631,
    "start_time": "2024-07-23T20:34:10.890Z"
   },
   {
    "duration": 543,
    "start_time": "2024-07-23T20:35:12.005Z"
   },
   {
    "duration": 6,
    "start_time": "2024-07-23T21:06:58.279Z"
   },
   {
    "duration": 7,
    "start_time": "2024-07-23T21:07:12.628Z"
   },
   {
    "duration": 206,
    "start_time": "2024-07-23T21:07:41.261Z"
   },
   {
    "duration": 255,
    "start_time": "2024-07-23T21:10:47.304Z"
   },
   {
    "duration": 9,
    "start_time": "2024-07-23T21:11:29.901Z"
   },
   {
    "duration": 18,
    "start_time": "2024-07-23T21:11:42.761Z"
   },
   {
    "duration": 12,
    "start_time": "2024-07-23T21:12:44.872Z"
   },
   {
    "duration": 11,
    "start_time": "2024-07-23T21:13:15.383Z"
   },
   {
    "duration": 19,
    "start_time": "2024-07-23T21:13:28.704Z"
   },
   {
    "duration": 11,
    "start_time": "2024-07-23T21:13:50.526Z"
   },
   {
    "duration": 15,
    "start_time": "2024-07-23T21:14:52.887Z"
   },
   {
    "duration": 11,
    "start_time": "2024-07-23T21:15:37.172Z"
   },
   {
    "duration": 15,
    "start_time": "2024-07-23T21:16:32.256Z"
   },
   {
    "duration": 26,
    "start_time": "2024-07-23T21:17:33.161Z"
   },
   {
    "duration": 17,
    "start_time": "2024-07-23T21:18:46.703Z"
   },
   {
    "duration": 15,
    "start_time": "2024-07-23T21:19:06.410Z"
   },
   {
    "duration": 172,
    "start_time": "2024-07-23T21:34:07.133Z"
   },
   {
    "duration": 422,
    "start_time": "2024-07-23T21:35:56.672Z"
   },
   {
    "duration": 408,
    "start_time": "2024-07-23T21:41:24.092Z"
   },
   {
    "duration": 502,
    "start_time": "2024-07-23T21:42:45.827Z"
   },
   {
    "duration": 297,
    "start_time": "2024-07-23T21:51:48.878Z"
   },
   {
    "duration": 42,
    "start_time": "2024-07-23T21:56:31.026Z"
   },
   {
    "duration": 46,
    "start_time": "2024-07-23T21:57:43.888Z"
   },
   {
    "duration": 35,
    "start_time": "2024-07-23T21:57:46.173Z"
   },
   {
    "duration": 34,
    "start_time": "2024-07-23T21:58:06.142Z"
   },
   {
    "duration": 33,
    "start_time": "2024-07-23T22:00:13.560Z"
   },
   {
    "duration": 521,
    "start_time": "2024-07-23T22:01:21.638Z"
   },
   {
    "duration": 31,
    "start_time": "2024-07-23T22:01:29.199Z"
   },
   {
    "duration": 32,
    "start_time": "2024-07-23T22:03:05.393Z"
   },
   {
    "duration": 26,
    "start_time": "2024-07-23T22:03:38.925Z"
   },
   {
    "duration": 4,
    "start_time": "2024-07-23T22:06:06.012Z"
   },
   {
    "duration": 25,
    "start_time": "2024-07-23T22:06:08.946Z"
   },
   {
    "duration": 22,
    "start_time": "2024-07-23T22:07:06.066Z"
   },
   {
    "duration": 7,
    "start_time": "2024-07-23T22:07:08.313Z"
   },
   {
    "duration": 683,
    "start_time": "2024-07-23T22:07:12.259Z"
   },
   {
    "duration": 3,
    "start_time": "2024-07-23T22:07:37.261Z"
   },
   {
    "duration": 4,
    "start_time": "2024-07-23T22:07:40.120Z"
   },
   {
    "duration": 637,
    "start_time": "2024-07-23T22:07:57.115Z"
   },
   {
    "duration": 24,
    "start_time": "2024-07-23T22:44:46.029Z"
   },
   {
    "duration": 918,
    "start_time": "2024-07-23T22:45:04.295Z"
   },
   {
    "duration": 487,
    "start_time": "2024-07-24T14:44:59.884Z"
   },
   {
    "duration": 1665,
    "start_time": "2024-07-24T14:45:00.672Z"
   },
   {
    "duration": 18,
    "start_time": "2024-07-24T14:45:02.340Z"
   },
   {
    "duration": 29,
    "start_time": "2024-07-24T14:45:02.362Z"
   },
   {
    "duration": 10,
    "start_time": "2024-07-24T14:45:03.233Z"
   },
   {
    "duration": 9,
    "start_time": "2024-07-24T14:45:03.463Z"
   },
   {
    "duration": 11,
    "start_time": "2024-07-24T14:45:03.786Z"
   },
   {
    "duration": 194,
    "start_time": "2024-07-24T14:45:04.990Z"
   },
   {
    "duration": 165,
    "start_time": "2024-07-24T14:45:05.208Z"
   },
   {
    "duration": 20,
    "start_time": "2024-07-24T14:45:05.618Z"
   },
   {
    "duration": 196,
    "start_time": "2024-07-24T14:45:06.043Z"
   },
   {
    "duration": 167,
    "start_time": "2024-07-24T14:45:06.263Z"
   },
   {
    "duration": 58,
    "start_time": "2024-07-24T14:45:06.488Z"
   },
   {
    "duration": 29,
    "start_time": "2024-07-24T14:45:07.742Z"
   },
   {
    "duration": 7,
    "start_time": "2024-07-24T14:45:08.118Z"
   },
   {
    "duration": 39,
    "start_time": "2024-07-24T14:45:08.807Z"
   },
   {
    "duration": 15,
    "start_time": "2024-07-24T14:45:09.278Z"
   },
   {
    "duration": 7,
    "start_time": "2024-07-24T14:45:10.686Z"
   },
   {
    "duration": 7,
    "start_time": "2024-07-24T14:45:10.970Z"
   },
   {
    "duration": 7,
    "start_time": "2024-07-24T14:45:11.996Z"
   },
   {
    "duration": 6,
    "start_time": "2024-07-24T14:45:12.225Z"
   },
   {
    "duration": 1368,
    "start_time": "2024-07-24T14:45:12.908Z"
   },
   {
    "duration": 1256,
    "start_time": "2024-07-24T14:45:14.280Z"
   },
   {
    "duration": 20,
    "start_time": "2024-07-24T14:45:15.540Z"
   },
   {
    "duration": 41,
    "start_time": "2024-07-24T14:45:15.564Z"
   },
   {
    "duration": 21,
    "start_time": "2024-07-24T14:45:15.609Z"
   },
   {
    "duration": 10,
    "start_time": "2024-07-24T14:45:15.741Z"
   },
   {
    "duration": 16,
    "start_time": "2024-07-24T14:45:16.189Z"
   },
   {
    "duration": 11,
    "start_time": "2024-07-24T14:45:16.920Z"
   },
   {
    "duration": 29,
    "start_time": "2024-07-24T14:45:17.178Z"
   },
   {
    "duration": 29,
    "start_time": "2024-07-24T14:45:18.394Z"
   },
   {
    "duration": 50,
    "start_time": "2024-07-24T14:45:18.918Z"
   },
   {
    "duration": 22,
    "start_time": "2024-07-24T14:45:19.889Z"
   },
   {
    "duration": 222,
    "start_time": "2024-07-24T14:45:20.456Z"
   },
   {
    "duration": 49,
    "start_time": "2024-07-24T14:45:21.085Z"
   },
   {
    "duration": 8,
    "start_time": "2024-07-24T14:45:21.656Z"
   },
   {
    "duration": 44,
    "start_time": "2024-07-24T14:46:04.960Z"
   },
   {
    "duration": 48,
    "start_time": "2024-07-24T14:46:13.554Z"
   },
   {
    "duration": 37,
    "start_time": "2024-07-24T14:46:14.928Z"
   },
   {
    "duration": 4343,
    "start_time": "2024-07-24T14:46:20.918Z"
   },
   {
    "duration": 437,
    "start_time": "2024-07-24T14:53:21.025Z"
   },
   {
    "duration": 1673,
    "start_time": "2024-07-24T14:53:21.670Z"
   },
   {
    "duration": 18,
    "start_time": "2024-07-24T14:53:23.347Z"
   },
   {
    "duration": 12,
    "start_time": "2024-07-24T14:53:33.540Z"
   },
   {
    "duration": 9,
    "start_time": "2024-07-24T14:53:37.124Z"
   },
   {
    "duration": 10,
    "start_time": "2024-07-24T14:53:38.315Z"
   },
   {
    "duration": 11,
    "start_time": "2024-07-24T14:53:39.692Z"
   },
   {
    "duration": 207,
    "start_time": "2024-07-24T14:53:41.979Z"
   },
   {
    "duration": 204,
    "start_time": "2024-07-24T14:53:42.208Z"
   },
   {
    "duration": 23,
    "start_time": "2024-07-24T14:53:42.574Z"
   },
   {
    "duration": 204,
    "start_time": "2024-07-24T14:53:42.964Z"
   },
   {
    "duration": 185,
    "start_time": "2024-07-24T14:53:43.173Z"
   },
   {
    "duration": 61,
    "start_time": "2024-07-24T14:53:43.367Z"
   },
   {
    "duration": 26,
    "start_time": "2024-07-24T14:53:43.983Z"
   },
   {
    "duration": 7,
    "start_time": "2024-07-24T14:53:44.208Z"
   },
   {
    "duration": 39,
    "start_time": "2024-07-24T14:53:44.398Z"
   },
   {
    "duration": 16,
    "start_time": "2024-07-24T14:53:44.594Z"
   },
   {
    "duration": 6,
    "start_time": "2024-07-24T14:53:45.453Z"
   },
   {
    "duration": 6,
    "start_time": "2024-07-24T14:53:45.711Z"
   },
   {
    "duration": 10,
    "start_time": "2024-07-24T14:53:46.438Z"
   },
   {
    "duration": 6,
    "start_time": "2024-07-24T14:53:46.683Z"
   },
   {
    "duration": 1388,
    "start_time": "2024-07-24T14:53:47.556Z"
   },
   {
    "duration": 1228,
    "start_time": "2024-07-24T14:53:48.947Z"
   },
   {
    "duration": 20,
    "start_time": "2024-07-24T14:53:51.270Z"
   },
   {
    "duration": 19,
    "start_time": "2024-07-24T14:53:51.691Z"
   },
   {
    "duration": 21,
    "start_time": "2024-07-24T14:53:52.092Z"
   },
   {
    "duration": 11,
    "start_time": "2024-07-24T14:53:52.507Z"
   },
   {
    "duration": 16,
    "start_time": "2024-07-24T14:53:53.070Z"
   },
   {
    "duration": 11,
    "start_time": "2024-07-24T14:53:54.222Z"
   },
   {
    "duration": 31,
    "start_time": "2024-07-24T14:53:54.694Z"
   },
   {
    "duration": 31,
    "start_time": "2024-07-24T14:53:56.083Z"
   },
   {
    "duration": 48,
    "start_time": "2024-07-24T14:53:56.545Z"
   },
   {
    "duration": 23,
    "start_time": "2024-07-24T14:53:57.772Z"
   },
   {
    "duration": 221,
    "start_time": "2024-07-24T14:53:58.447Z"
   },
   {
    "duration": 49,
    "start_time": "2024-07-24T14:53:59.115Z"
   },
   {
    "duration": 6,
    "start_time": "2024-07-24T14:54:00.079Z"
   },
   {
    "duration": 42,
    "start_time": "2024-07-24T14:54:01.294Z"
   },
   {
    "duration": 46,
    "start_time": "2024-07-24T14:54:07.421Z"
   },
   {
    "duration": 39,
    "start_time": "2024-07-24T14:54:24.929Z"
   },
   {
    "duration": 657,
    "start_time": "2024-07-24T14:54:33.254Z"
   },
   {
    "duration": 458,
    "start_time": "2024-07-24T15:00:03.216Z"
   },
   {
    "duration": 1717,
    "start_time": "2024-07-24T15:00:03.925Z"
   },
   {
    "duration": 24,
    "start_time": "2024-07-24T15:00:05.646Z"
   },
   {
    "duration": 10,
    "start_time": "2024-07-24T15:00:05.690Z"
   },
   {
    "duration": 10,
    "start_time": "2024-07-24T15:00:06.594Z"
   },
   {
    "duration": 9,
    "start_time": "2024-07-24T15:00:07.365Z"
   },
   {
    "duration": 10,
    "start_time": "2024-07-24T15:00:07.567Z"
   },
   {
    "duration": 202,
    "start_time": "2024-07-24T15:00:08.686Z"
   },
   {
    "duration": 171,
    "start_time": "2024-07-24T15:00:08.931Z"
   },
   {
    "duration": 19,
    "start_time": "2024-07-24T15:00:09.377Z"
   },
   {
    "duration": 215,
    "start_time": "2024-07-24T15:00:09.788Z"
   },
   {
    "duration": 185,
    "start_time": "2024-07-24T15:00:10.007Z"
   },
   {
    "duration": 48,
    "start_time": "2024-07-24T15:00:10.437Z"
   },
   {
    "duration": 26,
    "start_time": "2024-07-24T15:00:11.033Z"
   },
   {
    "duration": 7,
    "start_time": "2024-07-24T15:00:11.237Z"
   },
   {
    "duration": 36,
    "start_time": "2024-07-24T15:00:11.458Z"
   },
   {
    "duration": 17,
    "start_time": "2024-07-24T15:00:11.663Z"
   },
   {
    "duration": 7,
    "start_time": "2024-07-24T15:00:12.259Z"
   },
   {
    "duration": 7,
    "start_time": "2024-07-24T15:00:12.477Z"
   },
   {
    "duration": 10,
    "start_time": "2024-07-24T15:00:13.088Z"
   },
   {
    "duration": 8,
    "start_time": "2024-07-24T15:00:13.293Z"
   },
   {
    "duration": 1370,
    "start_time": "2024-07-24T15:00:13.889Z"
   },
   {
    "duration": 1241,
    "start_time": "2024-07-24T15:00:15.263Z"
   },
   {
    "duration": 20,
    "start_time": "2024-07-24T15:00:16.507Z"
   },
   {
    "duration": 20,
    "start_time": "2024-07-24T15:00:16.530Z"
   },
   {
    "duration": 55,
    "start_time": "2024-07-24T15:00:16.552Z"
   },
   {
    "duration": 10,
    "start_time": "2024-07-24T15:00:16.609Z"
   },
   {
    "duration": 17,
    "start_time": "2024-07-24T15:00:16.624Z"
   },
   {
    "duration": 12,
    "start_time": "2024-07-24T15:00:17.120Z"
   },
   {
    "duration": 31,
    "start_time": "2024-07-24T15:00:17.337Z"
   },
   {
    "duration": 29,
    "start_time": "2024-07-24T15:00:18.413Z"
   },
   {
    "duration": 51,
    "start_time": "2024-07-24T15:00:18.678Z"
   },
   {
    "duration": 24,
    "start_time": "2024-07-24T15:00:19.117Z"
   },
   {
    "duration": 225,
    "start_time": "2024-07-24T15:00:19.321Z"
   },
   {
    "duration": 56,
    "start_time": "2024-07-24T15:00:19.552Z"
   },
   {
    "duration": 8,
    "start_time": "2024-07-24T15:00:19.761Z"
   },
   {
    "duration": 46,
    "start_time": "2024-07-24T15:00:20.791Z"
   },
   {
    "duration": 51,
    "start_time": "2024-07-24T15:00:22.941Z"
   },
   {
    "duration": 44,
    "start_time": "2024-07-24T15:00:23.163Z"
   },
   {
    "duration": 705,
    "start_time": "2024-07-24T15:00:32.745Z"
   },
   {
    "duration": 483,
    "start_time": "2024-07-24T15:02:51.269Z"
   },
   {
    "duration": 1675,
    "start_time": "2024-07-24T15:02:51.756Z"
   },
   {
    "duration": 19,
    "start_time": "2024-07-24T15:02:53.434Z"
   },
   {
    "duration": 10,
    "start_time": "2024-07-24T15:02:53.458Z"
   },
   {
    "duration": 13,
    "start_time": "2024-07-24T15:02:53.491Z"
   },
   {
    "duration": 10,
    "start_time": "2024-07-24T15:02:53.508Z"
   },
   {
    "duration": 12,
    "start_time": "2024-07-24T15:02:53.522Z"
   },
   {
    "duration": 190,
    "start_time": "2024-07-24T15:02:56.548Z"
   },
   {
    "duration": 229,
    "start_time": "2024-07-24T15:02:56.743Z"
   },
   {
    "duration": 21,
    "start_time": "2024-07-24T15:02:57.223Z"
   },
   {
    "duration": 232,
    "start_time": "2024-07-24T15:02:57.568Z"
   },
   {
    "duration": 211,
    "start_time": "2024-07-24T15:02:57.804Z"
   },
   {
    "duration": 53,
    "start_time": "2024-07-24T15:02:58.018Z"
   },
   {
    "duration": 26,
    "start_time": "2024-07-24T15:02:58.480Z"
   },
   {
    "duration": 7,
    "start_time": "2024-07-24T15:02:58.658Z"
   },
   {
    "duration": 39,
    "start_time": "2024-07-24T15:02:58.839Z"
   },
   {
    "duration": 18,
    "start_time": "2024-07-24T15:02:59.040Z"
   },
   {
    "duration": 8,
    "start_time": "2024-07-24T15:02:59.629Z"
   },
   {
    "duration": 10,
    "start_time": "2024-07-24T15:02:59.831Z"
   },
   {
    "duration": 7,
    "start_time": "2024-07-24T15:03:00.366Z"
   },
   {
    "duration": 6,
    "start_time": "2024-07-24T15:03:00.546Z"
   },
   {
    "duration": 1516,
    "start_time": "2024-07-24T15:03:01.344Z"
   },
   {
    "duration": 1251,
    "start_time": "2024-07-24T15:03:02.867Z"
   },
   {
    "duration": 22,
    "start_time": "2024-07-24T15:03:04.121Z"
   },
   {
    "duration": 54,
    "start_time": "2024-07-24T15:03:04.147Z"
   },
   {
    "duration": 21,
    "start_time": "2024-07-24T15:03:04.204Z"
   },
   {
    "duration": 13,
    "start_time": "2024-07-24T15:03:04.228Z"
   },
   {
    "duration": 24,
    "start_time": "2024-07-24T15:03:04.757Z"
   },
   {
    "duration": 11,
    "start_time": "2024-07-24T15:03:05.386Z"
   },
   {
    "duration": 31,
    "start_time": "2024-07-24T15:03:05.611Z"
   },
   {
    "duration": 29,
    "start_time": "2024-07-24T15:03:06.231Z"
   },
   {
    "duration": 49,
    "start_time": "2024-07-24T15:03:06.464Z"
   },
   {
    "duration": 22,
    "start_time": "2024-07-24T15:03:06.918Z"
   },
   {
    "duration": 202,
    "start_time": "2024-07-24T15:03:07.169Z"
   },
   {
    "duration": 47,
    "start_time": "2024-07-24T15:03:07.401Z"
   },
   {
    "duration": 6,
    "start_time": "2024-07-24T15:03:07.617Z"
   },
   {
    "duration": 43,
    "start_time": "2024-07-24T15:03:08.244Z"
   },
   {
    "duration": 43,
    "start_time": "2024-07-24T15:03:10.244Z"
   },
   {
    "duration": 36,
    "start_time": "2024-07-24T15:03:10.456Z"
   },
   {
    "duration": 737,
    "start_time": "2024-07-24T15:03:13.145Z"
   },
   {
    "duration": 467,
    "start_time": "2024-07-24T15:07:33.332Z"
   },
   {
    "duration": 1723,
    "start_time": "2024-07-24T15:07:33.897Z"
   },
   {
    "duration": 20,
    "start_time": "2024-07-24T15:07:35.624Z"
   },
   {
    "duration": 11,
    "start_time": "2024-07-24T15:07:35.648Z"
   },
   {
    "duration": 9,
    "start_time": "2024-07-24T15:07:36.325Z"
   },
   {
    "duration": 9,
    "start_time": "2024-07-24T15:07:36.517Z"
   },
   {
    "duration": 12,
    "start_time": "2024-07-24T15:07:36.702Z"
   },
   {
    "duration": 205,
    "start_time": "2024-07-24T15:07:37.945Z"
   },
   {
    "duration": 211,
    "start_time": "2024-07-24T15:07:38.153Z"
   },
   {
    "duration": 21,
    "start_time": "2024-07-24T15:07:38.482Z"
   },
   {
    "duration": 213,
    "start_time": "2024-07-24T15:07:38.872Z"
   },
   {
    "duration": 205,
    "start_time": "2024-07-24T15:07:39.091Z"
   },
   {
    "duration": 52,
    "start_time": "2024-07-24T15:07:39.301Z"
   },
   {
    "duration": 26,
    "start_time": "2024-07-24T15:07:39.949Z"
   },
   {
    "duration": 7,
    "start_time": "2024-07-24T15:07:40.150Z"
   },
   {
    "duration": 42,
    "start_time": "2024-07-24T15:07:40.327Z"
   },
   {
    "duration": 21,
    "start_time": "2024-07-24T15:07:40.524Z"
   },
   {
    "duration": 7,
    "start_time": "2024-07-24T15:07:41.093Z"
   },
   {
    "duration": 8,
    "start_time": "2024-07-24T15:07:41.286Z"
   },
   {
    "duration": 7,
    "start_time": "2024-07-24T15:07:41.859Z"
   },
   {
    "duration": 6,
    "start_time": "2024-07-24T15:07:42.068Z"
   },
   {
    "duration": 1593,
    "start_time": "2024-07-24T15:07:42.660Z"
   },
   {
    "duration": 1372,
    "start_time": "2024-07-24T15:07:44.258Z"
   },
   {
    "duration": 20,
    "start_time": "2024-07-24T15:07:45.633Z"
   },
   {
    "duration": 45,
    "start_time": "2024-07-24T15:07:45.657Z"
   },
   {
    "duration": 19,
    "start_time": "2024-07-24T15:07:45.705Z"
   },
   {
    "duration": 10,
    "start_time": "2024-07-24T15:07:45.728Z"
   },
   {
    "duration": 16,
    "start_time": "2024-07-24T15:07:45.953Z"
   },
   {
    "duration": 12,
    "start_time": "2024-07-24T15:07:47.038Z"
   },
   {
    "duration": 33,
    "start_time": "2024-07-24T15:07:47.224Z"
   },
   {
    "duration": 32,
    "start_time": "2024-07-24T15:07:47.803Z"
   },
   {
    "duration": 57,
    "start_time": "2024-07-24T15:07:48.011Z"
   },
   {
    "duration": 24,
    "start_time": "2024-07-24T15:07:48.430Z"
   },
   {
    "duration": 252,
    "start_time": "2024-07-24T15:07:48.683Z"
   },
   {
    "duration": 64,
    "start_time": "2024-07-24T15:07:48.939Z"
   },
   {
    "duration": 6,
    "start_time": "2024-07-24T15:07:49.290Z"
   },
   {
    "duration": 43,
    "start_time": "2024-07-24T15:07:50.544Z"
   },
   {
    "duration": 54,
    "start_time": "2024-07-24T15:07:53.642Z"
   },
   {
    "duration": 39,
    "start_time": "2024-07-24T15:07:53.850Z"
   },
   {
    "duration": 634,
    "start_time": "2024-07-24T15:07:59.356Z"
   },
   {
    "duration": 185,
    "start_time": "2024-07-24T15:08:12.510Z"
   },
   {
    "duration": 13,
    "start_time": "2024-07-24T15:09:53.106Z"
   },
   {
    "duration": 215,
    "start_time": "2024-07-24T15:10:36.511Z"
   },
   {
    "duration": 205,
    "start_time": "2024-07-24T15:11:04.288Z"
   },
   {
    "duration": 229,
    "start_time": "2024-07-24T15:13:02.333Z"
   },
   {
    "duration": 535,
    "start_time": "2024-07-24T15:13:44.632Z"
   },
   {
    "duration": 23,
    "start_time": "2024-07-24T15:14:00.094Z"
   },
   {
    "duration": 10,
    "start_time": "2024-07-24T15:31:37.741Z"
   },
   {
    "duration": 9,
    "start_time": "2024-07-24T15:31:52.278Z"
   },
   {
    "duration": 19,
    "start_time": "2024-07-24T15:33:17.517Z"
   },
   {
    "duration": 28,
    "start_time": "2024-07-24T15:34:02.672Z"
   },
   {
    "duration": 162,
    "start_time": "2024-07-24T15:37:12.380Z"
   },
   {
    "duration": 19,
    "start_time": "2024-07-24T15:37:37.437Z"
   },
   {
    "duration": 15,
    "start_time": "2024-07-24T15:38:03.205Z"
   },
   {
    "duration": 65,
    "start_time": "2024-07-24T15:43:43.038Z"
   },
   {
    "duration": 15,
    "start_time": "2024-07-24T15:45:21.278Z"
   },
   {
    "duration": 15,
    "start_time": "2024-07-24T15:45:40.969Z"
   },
   {
    "duration": 16,
    "start_time": "2024-07-24T15:45:45.114Z"
   },
   {
    "duration": 12,
    "start_time": "2024-07-24T15:45:56.520Z"
   },
   {
    "duration": 12,
    "start_time": "2024-07-24T15:47:23.787Z"
   },
   {
    "duration": 7,
    "start_time": "2024-07-24T15:51:03.596Z"
   },
   {
    "duration": 14,
    "start_time": "2024-07-24T15:52:11.321Z"
   },
   {
    "duration": 403,
    "start_time": "2024-07-24T15:52:48.202Z"
   },
   {
    "duration": 408,
    "start_time": "2024-07-24T15:54:47.799Z"
   },
   {
    "duration": 449,
    "start_time": "2024-07-24T15:55:04.948Z"
   },
   {
    "duration": 414,
    "start_time": "2024-07-24T15:56:56.352Z"
   },
   {
    "duration": 416,
    "start_time": "2024-07-24T15:57:23.462Z"
   },
   {
    "duration": 440,
    "start_time": "2024-07-24T16:44:10.052Z"
   },
   {
    "duration": 1641,
    "start_time": "2024-07-24T16:44:12.338Z"
   },
   {
    "duration": 19,
    "start_time": "2024-07-24T16:44:13.983Z"
   },
   {
    "duration": 10,
    "start_time": "2024-07-24T16:44:14.875Z"
   },
   {
    "duration": 9,
    "start_time": "2024-07-24T16:44:15.714Z"
   },
   {
    "duration": 9,
    "start_time": "2024-07-24T16:44:16.417Z"
   },
   {
    "duration": 9,
    "start_time": "2024-07-24T16:44:17.142Z"
   },
   {
    "duration": 181,
    "start_time": "2024-07-24T16:44:22.196Z"
   },
   {
    "duration": 179,
    "start_time": "2024-07-24T16:44:23.023Z"
   },
   {
    "duration": 19,
    "start_time": "2024-07-24T16:44:27.592Z"
   },
   {
    "duration": 195,
    "start_time": "2024-07-24T16:44:28.953Z"
   },
   {
    "duration": 167,
    "start_time": "2024-07-24T16:44:29.705Z"
   },
   {
    "duration": 48,
    "start_time": "2024-07-24T16:44:30.547Z"
   },
   {
    "duration": 22,
    "start_time": "2024-07-24T16:44:32.707Z"
   },
   {
    "duration": 7,
    "start_time": "2024-07-24T16:44:33.217Z"
   },
   {
    "duration": 41,
    "start_time": "2024-07-24T16:44:36.427Z"
   },
   {
    "duration": 17,
    "start_time": "2024-07-24T16:44:39.465Z"
   },
   {
    "duration": 7,
    "start_time": "2024-07-24T16:44:46.467Z"
   },
   {
    "duration": 7,
    "start_time": "2024-07-24T16:44:46.978Z"
   },
   {
    "duration": 7,
    "start_time": "2024-07-24T16:44:48.304Z"
   },
   {
    "duration": 7,
    "start_time": "2024-07-24T16:44:48.533Z"
   },
   {
    "duration": 1336,
    "start_time": "2024-07-24T16:44:49.784Z"
   },
   {
    "duration": 1240,
    "start_time": "2024-07-24T16:44:51.123Z"
   },
   {
    "duration": 18,
    "start_time": "2024-07-24T16:44:53.743Z"
   },
   {
    "duration": 18,
    "start_time": "2024-07-24T16:44:55.363Z"
   },
   {
    "duration": 24,
    "start_time": "2024-07-24T16:45:02.621Z"
   },
   {
    "duration": 10,
    "start_time": "2024-07-24T16:45:04.666Z"
   },
   {
    "duration": 16,
    "start_time": "2024-07-24T16:45:06.231Z"
   },
   {
    "duration": 12,
    "start_time": "2024-07-24T16:45:08.023Z"
   },
   {
    "duration": 30,
    "start_time": "2024-07-24T16:45:08.531Z"
   },
   {
    "duration": 32,
    "start_time": "2024-07-24T16:45:10.207Z"
   },
   {
    "duration": 49,
    "start_time": "2024-07-24T16:45:10.752Z"
   },
   {
    "duration": 21,
    "start_time": "2024-07-24T16:45:48.201Z"
   },
   {
    "duration": 201,
    "start_time": "2024-07-24T16:45:53.563Z"
   },
   {
    "duration": 49,
    "start_time": "2024-07-24T16:45:54.466Z"
   },
   {
    "duration": 5,
    "start_time": "2024-07-24T16:45:55.269Z"
   },
   {
    "duration": 43,
    "start_time": "2024-07-24T16:45:56.846Z"
   },
   {
    "duration": 45,
    "start_time": "2024-07-24T16:46:00.847Z"
   },
   {
    "duration": 38,
    "start_time": "2024-07-24T16:46:01.943Z"
   },
   {
    "duration": 4194,
    "start_time": "2024-07-24T16:46:20.083Z"
   },
   {
    "duration": 204,
    "start_time": "2024-07-24T16:46:28.759Z"
   },
   {
    "duration": 498,
    "start_time": "2024-07-24T16:46:33.272Z"
   },
   {
    "duration": 15,
    "start_time": "2024-07-24T16:46:40.422Z"
   },
   {
    "duration": 14,
    "start_time": "2024-07-24T16:46:54.742Z"
   },
   {
    "duration": 456,
    "start_time": "2024-07-24T16:47:03.009Z"
   },
   {
    "duration": 52,
    "start_time": "2024-07-24T16:51:18.888Z"
   },
   {
    "duration": 250,
    "start_time": "2024-07-24T16:58:42.142Z"
   },
   {
    "duration": 109,
    "start_time": "2024-07-24T16:59:58.409Z"
   },
   {
    "duration": 56,
    "start_time": "2024-07-24T17:00:38.424Z"
   },
   {
    "duration": 238,
    "start_time": "2024-07-24T17:02:26.622Z"
   },
   {
    "duration": 278,
    "start_time": "2024-07-24T17:09:39.174Z"
   },
   {
    "duration": 293,
    "start_time": "2024-07-24T17:19:11.557Z"
   },
   {
    "duration": 63,
    "start_time": "2024-07-24T17:20:30.300Z"
   },
   {
    "duration": 65,
    "start_time": "2024-07-24T17:20:45.993Z"
   },
   {
    "duration": 211,
    "start_time": "2024-07-24T17:20:51.168Z"
   },
   {
    "duration": 174,
    "start_time": "2024-07-24T17:29:46.358Z"
   },
   {
    "duration": 172,
    "start_time": "2024-07-24T17:30:23.976Z"
   },
   {
    "duration": 181,
    "start_time": "2024-07-24T17:30:39.355Z"
   },
   {
    "duration": 163,
    "start_time": "2024-07-24T17:40:01.503Z"
   },
   {
    "duration": 456,
    "start_time": "2024-07-24T19:32:39.697Z"
   },
   {
    "duration": 1838,
    "start_time": "2024-07-24T19:32:42.735Z"
   },
   {
    "duration": 35,
    "start_time": "2024-07-24T19:32:44.577Z"
   },
   {
    "duration": 14,
    "start_time": "2024-07-24T19:32:44.617Z"
   },
   {
    "duration": 12,
    "start_time": "2024-07-24T19:32:45.422Z"
   },
   {
    "duration": 13,
    "start_time": "2024-07-24T19:32:45.686Z"
   },
   {
    "duration": 19,
    "start_time": "2024-07-24T19:32:45.877Z"
   },
   {
    "duration": 221,
    "start_time": "2024-07-24T19:32:47.260Z"
   },
   {
    "duration": 223,
    "start_time": "2024-07-24T19:32:47.486Z"
   },
   {
    "duration": 26,
    "start_time": "2024-07-24T19:32:47.894Z"
   },
   {
    "duration": 220,
    "start_time": "2024-07-24T19:32:48.414Z"
   },
   {
    "duration": 227,
    "start_time": "2024-07-24T19:32:48.649Z"
   },
   {
    "duration": 63,
    "start_time": "2024-07-24T19:32:48.880Z"
   },
   {
    "duration": 29,
    "start_time": "2024-07-24T19:32:49.526Z"
   },
   {
    "duration": 7,
    "start_time": "2024-07-24T19:32:49.748Z"
   },
   {
    "duration": 53,
    "start_time": "2024-07-24T19:32:50.075Z"
   },
   {
    "duration": 19,
    "start_time": "2024-07-24T19:32:50.332Z"
   },
   {
    "duration": 8,
    "start_time": "2024-07-24T19:32:50.948Z"
   },
   {
    "duration": 6,
    "start_time": "2024-07-24T19:32:51.175Z"
   },
   {
    "duration": 10,
    "start_time": "2024-07-24T19:32:51.851Z"
   },
   {
    "duration": 10,
    "start_time": "2024-07-24T19:32:54.814Z"
   },
   {
    "duration": 1619,
    "start_time": "2024-07-24T19:32:55.916Z"
   },
   {
    "duration": 1391,
    "start_time": "2024-07-24T19:32:57.541Z"
   },
   {
    "duration": 19,
    "start_time": "2024-07-24T19:32:58.935Z"
   },
   {
    "duration": 22,
    "start_time": "2024-07-24T19:33:01.991Z"
   },
   {
    "duration": 24,
    "start_time": "2024-07-24T19:33:03.620Z"
   },
   {
    "duration": 22,
    "start_time": "2024-07-24T19:33:06.735Z"
   },
   {
    "duration": 22,
    "start_time": "2024-07-24T19:33:08.075Z"
   },
   {
    "duration": 16,
    "start_time": "2024-07-24T19:33:10.074Z"
   },
   {
    "duration": 32,
    "start_time": "2024-07-24T19:33:10.564Z"
   },
   {
    "duration": 36,
    "start_time": "2024-07-24T19:33:12.074Z"
   },
   {
    "duration": 55,
    "start_time": "2024-07-24T19:33:12.478Z"
   },
   {
    "duration": 22,
    "start_time": "2024-07-24T19:33:13.249Z"
   },
   {
    "duration": 267,
    "start_time": "2024-07-24T19:33:13.602Z"
   },
   {
    "duration": 58,
    "start_time": "2024-07-24T19:33:13.935Z"
   },
   {
    "duration": 9,
    "start_time": "2024-07-24T19:33:14.312Z"
   },
   {
    "duration": 51,
    "start_time": "2024-07-24T19:33:15.172Z"
   },
   {
    "duration": 49,
    "start_time": "2024-07-24T19:33:19.592Z"
   },
   {
    "duration": 46,
    "start_time": "2024-07-24T19:33:20.385Z"
   },
   {
    "duration": 4672,
    "start_time": "2024-07-24T19:33:23.766Z"
   },
   {
    "duration": 220,
    "start_time": "2024-07-24T19:33:28.446Z"
   },
   {
    "duration": 675,
    "start_time": "2024-07-24T19:33:28.670Z"
   },
   {
    "duration": 17,
    "start_time": "2024-07-24T19:33:29.349Z"
   },
   {
    "duration": 52,
    "start_time": "2024-07-24T19:33:29.369Z"
   },
   {
    "duration": 427,
    "start_time": "2024-07-24T19:33:29.430Z"
   },
   {
    "duration": 89,
    "start_time": "2024-07-24T19:33:29.862Z"
   },
   {
    "duration": 227,
    "start_time": "2024-07-24T19:33:29.958Z"
   },
   {
    "duration": 192,
    "start_time": "2024-07-24T19:33:32.260Z"
   },
   {
    "duration": 1154,
    "start_time": "2024-07-24T19:48:48.315Z"
   },
   {
    "duration": 1606,
    "start_time": "2024-07-24T19:49:09.309Z"
   },
   {
    "duration": 245,
    "start_time": "2024-07-24T19:50:38.431Z"
   },
   {
    "duration": 1250,
    "start_time": "2024-07-24T19:51:03.864Z"
   },
   {
    "duration": 846,
    "start_time": "2024-07-24T19:53:04.462Z"
   },
   {
    "duration": 551,
    "start_time": "2024-07-24T19:54:49.396Z"
   },
   {
    "duration": 1224,
    "start_time": "2024-07-24T20:00:57.405Z"
   },
   {
    "duration": 398,
    "start_time": "2024-07-24T20:17:15.538Z"
   },
   {
    "duration": 462,
    "start_time": "2024-07-24T20:19:35.067Z"
   },
   {
    "duration": 238,
    "start_time": "2024-07-24T20:19:58.731Z"
   },
   {
    "duration": 562,
    "start_time": "2024-07-24T20:21:33.061Z"
   },
   {
    "duration": 674,
    "start_time": "2024-07-24T20:21:51.531Z"
   },
   {
    "duration": 478,
    "start_time": "2024-07-24T20:22:02.206Z"
   },
   {
    "duration": 232,
    "start_time": "2024-07-24T20:22:17.570Z"
   },
   {
    "duration": 669,
    "start_time": "2024-07-24T20:24:59.697Z"
   },
   {
    "duration": 997,
    "start_time": "2024-07-24T20:25:18.585Z"
   },
   {
    "duration": 667,
    "start_time": "2024-07-24T20:29:38.043Z"
   },
   {
    "duration": 315,
    "start_time": "2024-07-24T20:29:59.050Z"
   },
   {
    "duration": 8,
    "start_time": "2024-07-24T20:30:04.249Z"
   },
   {
    "duration": 355,
    "start_time": "2024-07-24T20:32:46.855Z"
   },
   {
    "duration": 306,
    "start_time": "2024-07-24T20:33:27.450Z"
   },
   {
    "duration": 472,
    "start_time": "2024-07-24T20:34:03.642Z"
   },
   {
    "duration": 367,
    "start_time": "2024-07-24T20:34:29.425Z"
   },
   {
    "duration": 530,
    "start_time": "2024-07-24T20:38:38.668Z"
   },
   {
    "duration": 400,
    "start_time": "2024-07-24T20:38:45.527Z"
   },
   {
    "duration": 442,
    "start_time": "2024-07-24T21:26:07.225Z"
   },
   {
    "duration": 1726,
    "start_time": "2024-07-24T21:26:08.080Z"
   },
   {
    "duration": 20,
    "start_time": "2024-07-24T21:26:09.810Z"
   },
   {
    "duration": 36,
    "start_time": "2024-07-24T21:26:09.832Z"
   },
   {
    "duration": 9,
    "start_time": "2024-07-24T21:26:10.443Z"
   },
   {
    "duration": 12,
    "start_time": "2024-07-24T21:26:10.680Z"
   },
   {
    "duration": 11,
    "start_time": "2024-07-24T21:26:11.160Z"
   },
   {
    "duration": 183,
    "start_time": "2024-07-24T21:26:13.643Z"
   },
   {
    "duration": 178,
    "start_time": "2024-07-24T21:26:14.091Z"
   },
   {
    "duration": 23,
    "start_time": "2024-07-24T21:26:15.065Z"
   },
   {
    "duration": 212,
    "start_time": "2024-07-24T21:26:16.405Z"
   },
   {
    "duration": 196,
    "start_time": "2024-07-24T21:26:17.566Z"
   },
   {
    "duration": 51,
    "start_time": "2024-07-24T21:26:18.297Z"
   },
   {
    "duration": 24,
    "start_time": "2024-07-24T21:26:19.927Z"
   },
   {
    "duration": 7,
    "start_time": "2024-07-24T21:26:20.747Z"
   },
   {
    "duration": 37,
    "start_time": "2024-07-24T21:26:21.466Z"
   },
   {
    "duration": 19,
    "start_time": "2024-07-24T21:26:22.464Z"
   },
   {
    "duration": 8,
    "start_time": "2024-07-24T21:26:24.948Z"
   },
   {
    "duration": 7,
    "start_time": "2024-07-24T21:26:25.700Z"
   },
   {
    "duration": 7,
    "start_time": "2024-07-24T21:26:26.906Z"
   },
   {
    "duration": 9,
    "start_time": "2024-07-24T21:26:27.445Z"
   },
   {
    "duration": 1369,
    "start_time": "2024-07-24T21:26:28.951Z"
   },
   {
    "duration": 1238,
    "start_time": "2024-07-24T21:26:30.324Z"
   },
   {
    "duration": 18,
    "start_time": "2024-07-24T21:26:39.653Z"
   },
   {
    "duration": 22,
    "start_time": "2024-07-24T21:26:41.309Z"
   },
   {
    "duration": 19,
    "start_time": "2024-07-24T21:26:43.283Z"
   },
   {
    "duration": 11,
    "start_time": "2024-07-24T21:26:45.357Z"
   },
   {
    "duration": 15,
    "start_time": "2024-07-24T21:26:49.628Z"
   },
   {
    "duration": 11,
    "start_time": "2024-07-24T21:26:57.985Z"
   },
   {
    "duration": 32,
    "start_time": "2024-07-24T21:26:58.650Z"
   },
   {
    "duration": 30,
    "start_time": "2024-07-24T21:27:00.452Z"
   },
   {
    "duration": 59,
    "start_time": "2024-07-24T21:27:01.255Z"
   },
   {
    "duration": 21,
    "start_time": "2024-07-24T21:27:02.792Z"
   },
   {
    "duration": 228,
    "start_time": "2024-07-24T21:27:03.293Z"
   },
   {
    "duration": 48,
    "start_time": "2024-07-24T21:27:03.806Z"
   },
   {
    "duration": 7,
    "start_time": "2024-07-24T21:27:04.572Z"
   },
   {
    "duration": 48,
    "start_time": "2024-07-24T21:27:06.958Z"
   },
   {
    "duration": 49,
    "start_time": "2024-07-24T21:27:13.306Z"
   },
   {
    "duration": 39,
    "start_time": "2024-07-24T21:27:14.072Z"
   },
   {
    "duration": 4257,
    "start_time": "2024-07-24T21:27:17.849Z"
   },
   {
    "duration": 240,
    "start_time": "2024-07-24T21:27:22.110Z"
   },
   {
    "duration": 565,
    "start_time": "2024-07-24T21:27:28.843Z"
   },
   {
    "duration": 15,
    "start_time": "2024-07-24T21:27:31.301Z"
   },
   {
    "duration": 13,
    "start_time": "2024-07-24T21:27:32.012Z"
   },
   {
    "duration": 416,
    "start_time": "2024-07-24T21:27:33.379Z"
   },
   {
    "duration": 68,
    "start_time": "2024-07-24T21:27:35.465Z"
   },
   {
    "duration": 217,
    "start_time": "2024-07-24T21:27:36.057Z"
   },
   {
    "duration": 1137,
    "start_time": "2024-07-24T21:27:37.945Z"
   },
   {
    "duration": 800,
    "start_time": "2024-07-24T21:27:39.085Z"
   },
   {
    "duration": 404,
    "start_time": "2024-07-24T21:27:39.888Z"
   },
   {
    "duration": 534,
    "start_time": "2024-07-24T21:28:19.194Z"
   },
   {
    "duration": 300,
    "start_time": "2024-07-24T21:28:20.171Z"
   },
   {
    "duration": 291,
    "start_time": "2024-07-24T21:36:02.678Z"
   },
   {
    "duration": 15,
    "start_time": "2024-07-24T21:36:58.127Z"
   },
   {
    "duration": 350,
    "start_time": "2024-07-24T21:39:19.544Z"
   },
   {
    "duration": 11,
    "start_time": "2024-07-24T21:39:32.999Z"
   },
   {
    "duration": 269,
    "start_time": "2024-07-24T21:39:53.851Z"
   },
   {
    "duration": 26,
    "start_time": "2024-07-24T21:41:35.639Z"
   },
   {
    "duration": 24,
    "start_time": "2024-07-24T21:42:58.987Z"
   },
   {
    "duration": 24,
    "start_time": "2024-07-24T21:43:03.722Z"
   },
   {
    "duration": 166,
    "start_time": "2024-07-24T21:43:07.771Z"
   },
   {
    "duration": 187,
    "start_time": "2024-07-24T21:43:11.969Z"
   },
   {
    "duration": 186,
    "start_time": "2024-07-24T21:43:32.007Z"
   },
   {
    "duration": 73,
    "start_time": "2024-07-24T21:43:35.999Z"
   },
   {
    "duration": 65,
    "start_time": "2024-07-24T21:44:12.035Z"
   },
   {
    "duration": 23,
    "start_time": "2024-07-24T21:45:11.365Z"
   },
   {
    "duration": 24,
    "start_time": "2024-07-24T21:45:48.752Z"
   },
   {
    "duration": 65,
    "start_time": "2024-07-24T21:45:59.730Z"
   },
   {
    "duration": 78,
    "start_time": "2024-07-24T21:46:09.829Z"
   },
   {
    "duration": 494,
    "start_time": "2024-07-24T21:49:26.370Z"
   },
   {
    "duration": 1698,
    "start_time": "2024-07-24T21:49:26.888Z"
   },
   {
    "duration": 20,
    "start_time": "2024-07-24T21:49:28.590Z"
   },
   {
    "duration": 11,
    "start_time": "2024-07-24T21:49:28.612Z"
   },
   {
    "duration": 41,
    "start_time": "2024-07-24T21:49:28.626Z"
   },
   {
    "duration": 10,
    "start_time": "2024-07-24T21:49:28.680Z"
   },
   {
    "duration": 10,
    "start_time": "2024-07-24T21:49:28.892Z"
   },
   {
    "duration": 180,
    "start_time": "2024-07-24T21:49:31.205Z"
   },
   {
    "duration": 172,
    "start_time": "2024-07-24T21:49:31.642Z"
   },
   {
    "duration": 19,
    "start_time": "2024-07-24T21:49:32.191Z"
   },
   {
    "duration": 199,
    "start_time": "2024-07-24T21:49:32.647Z"
   },
   {
    "duration": 183,
    "start_time": "2024-07-24T21:49:32.924Z"
   },
   {
    "duration": 49,
    "start_time": "2024-07-24T21:49:33.159Z"
   },
   {
    "duration": 24,
    "start_time": "2024-07-24T21:49:33.934Z"
   },
   {
    "duration": 7,
    "start_time": "2024-07-24T21:49:34.147Z"
   },
   {
    "duration": 37,
    "start_time": "2024-07-24T21:49:34.416Z"
   },
   {
    "duration": 17,
    "start_time": "2024-07-24T21:49:34.636Z"
   },
   {
    "duration": 8,
    "start_time": "2024-07-24T21:49:35.275Z"
   },
   {
    "duration": 6,
    "start_time": "2024-07-24T21:49:35.508Z"
   },
   {
    "duration": 8,
    "start_time": "2024-07-24T21:49:36.176Z"
   },
   {
    "duration": 7,
    "start_time": "2024-07-24T21:49:36.420Z"
   },
   {
    "duration": 1416,
    "start_time": "2024-07-24T21:49:37.151Z"
   },
   {
    "duration": 1271,
    "start_time": "2024-07-24T21:49:38.571Z"
   },
   {
    "duration": 26,
    "start_time": "2024-07-24T21:49:39.845Z"
   },
   {
    "duration": 20,
    "start_time": "2024-07-24T21:49:39.875Z"
   },
   {
    "duration": 18,
    "start_time": "2024-07-24T21:49:40.386Z"
   },
   {
    "duration": 9,
    "start_time": "2024-07-24T21:49:41.041Z"
   },
   {
    "duration": 16,
    "start_time": "2024-07-24T21:49:42.056Z"
   },
   {
    "duration": 11,
    "start_time": "2024-07-24T21:49:43.423Z"
   },
   {
    "duration": 30,
    "start_time": "2024-07-24T21:49:43.630Z"
   },
   {
    "duration": 30,
    "start_time": "2024-07-24T21:49:45.786Z"
   },
   {
    "duration": 53,
    "start_time": "2024-07-24T21:49:46.355Z"
   },
   {
    "duration": 23,
    "start_time": "2024-07-24T21:49:49.231Z"
   },
   {
    "duration": 227,
    "start_time": "2024-07-24T21:49:49.966Z"
   },
   {
    "duration": 46,
    "start_time": "2024-07-24T21:49:50.475Z"
   },
   {
    "duration": 6,
    "start_time": "2024-07-24T21:49:51.228Z"
   },
   {
    "duration": 43,
    "start_time": "2024-07-24T21:49:52.488Z"
   },
   {
    "duration": 44,
    "start_time": "2024-07-24T21:49:56.941Z"
   },
   {
    "duration": 42,
    "start_time": "2024-07-24T21:49:57.455Z"
   },
   {
    "duration": 631,
    "start_time": "2024-07-24T21:50:00.947Z"
   },
   {
    "duration": 214,
    "start_time": "2024-07-24T21:50:06.838Z"
   },
   {
    "duration": 492,
    "start_time": "2024-07-24T21:50:13.253Z"
   },
   {
    "duration": 16,
    "start_time": "2024-07-24T21:50:15.944Z"
   },
   {
    "duration": 15,
    "start_time": "2024-07-24T21:50:16.416Z"
   },
   {
    "duration": 429,
    "start_time": "2024-07-24T21:50:17.045Z"
   },
   {
    "duration": 67,
    "start_time": "2024-07-24T21:50:18.120Z"
   },
   {
    "duration": 233,
    "start_time": "2024-07-24T21:50:18.356Z"
   },
   {
    "duration": 1110,
    "start_time": "2024-07-24T21:50:20.959Z"
   },
   {
    "duration": 803,
    "start_time": "2024-07-24T21:50:22.072Z"
   },
   {
    "duration": 387,
    "start_time": "2024-07-24T21:50:28.702Z"
   },
   {
    "duration": 522,
    "start_time": "2024-07-24T21:50:51.382Z"
   },
   {
    "duration": 291,
    "start_time": "2024-07-24T21:50:51.907Z"
   },
   {
    "duration": 437,
    "start_time": "2024-07-24T21:53:06.877Z"
   },
   {
    "duration": 118,
    "start_time": "2024-07-24T21:53:53.158Z"
   },
   {
    "duration": 25,
    "start_time": "2024-07-24T21:55:17.044Z"
   },
   {
    "duration": 22,
    "start_time": "2024-07-24T21:55:23.405Z"
   },
   {
    "duration": 271,
    "start_time": "2024-07-24T21:55:30.542Z"
   },
   {
    "duration": 75,
    "start_time": "2024-07-24T21:55:34.469Z"
   },
   {
    "duration": 83,
    "start_time": "2024-07-24T21:56:26.789Z"
   },
   {
    "duration": 124,
    "start_time": "2024-07-24T21:57:01.994Z"
   },
   {
    "duration": 120,
    "start_time": "2024-07-24T21:58:53.749Z"
   },
   {
    "duration": 119,
    "start_time": "2024-07-24T21:59:07.922Z"
   },
   {
    "duration": 122,
    "start_time": "2024-07-24T21:59:36.489Z"
   },
   {
    "duration": 123,
    "start_time": "2024-07-24T21:59:56.523Z"
   },
   {
    "duration": 289,
    "start_time": "2024-07-24T22:00:25.702Z"
   },
   {
    "duration": 776,
    "start_time": "2024-07-24T22:00:59.030Z"
   },
   {
    "duration": 378,
    "start_time": "2024-07-24T22:01:05.683Z"
   },
   {
    "duration": 253,
    "start_time": "2024-07-24T22:23:19.185Z"
   },
   {
    "duration": 391,
    "start_time": "2024-07-24T22:23:36.247Z"
   },
   {
    "duration": 779,
    "start_time": "2024-07-24T22:23:52.210Z"
   },
   {
    "duration": 194,
    "start_time": "2024-07-24T22:28:45.704Z"
   },
   {
    "duration": 24,
    "start_time": "2024-07-24T23:12:50.997Z"
   },
   {
    "duration": 201,
    "start_time": "2024-07-24T23:13:37.687Z"
   },
   {
    "duration": 40,
    "start_time": "2024-07-24T23:48:25.486Z"
   },
   {
    "duration": 36,
    "start_time": "2024-07-24T23:49:42.519Z"
   },
   {
    "duration": 1746,
    "start_time": "2024-07-24T23:50:17.287Z"
   },
   {
    "duration": 320,
    "start_time": "2024-07-24T23:52:35.960Z"
   },
   {
    "duration": 500,
    "start_time": "2024-07-24T23:53:00.139Z"
   },
   {
    "duration": 1754,
    "start_time": "2024-07-24T23:53:00.643Z"
   },
   {
    "duration": 21,
    "start_time": "2024-07-24T23:53:02.399Z"
   },
   {
    "duration": 11,
    "start_time": "2024-07-24T23:53:02.424Z"
   },
   {
    "duration": 39,
    "start_time": "2024-07-24T23:53:02.438Z"
   },
   {
    "duration": 13,
    "start_time": "2024-07-24T23:53:02.481Z"
   },
   {
    "duration": 13,
    "start_time": "2024-07-24T23:53:02.497Z"
   },
   {
    "duration": 236,
    "start_time": "2024-07-24T23:53:02.515Z"
   },
   {
    "duration": 179,
    "start_time": "2024-07-24T23:53:02.767Z"
   },
   {
    "duration": 19,
    "start_time": "2024-07-24T23:53:03.047Z"
   },
   {
    "duration": 197,
    "start_time": "2024-07-24T23:53:03.412Z"
   },
   {
    "duration": 195,
    "start_time": "2024-07-24T23:53:03.613Z"
   },
   {
    "duration": 69,
    "start_time": "2024-07-24T23:53:03.813Z"
   },
   {
    "duration": 24,
    "start_time": "2024-07-24T23:53:04.313Z"
   },
   {
    "duration": 7,
    "start_time": "2024-07-24T23:53:04.495Z"
   },
   {
    "duration": 46,
    "start_time": "2024-07-24T23:53:04.671Z"
   },
   {
    "duration": 19,
    "start_time": "2024-07-24T23:53:04.869Z"
   },
   {
    "duration": 8,
    "start_time": "2024-07-24T23:53:05.433Z"
   },
   {
    "duration": 6,
    "start_time": "2024-07-24T23:53:05.622Z"
   },
   {
    "duration": 9,
    "start_time": "2024-07-24T23:53:06.207Z"
   },
   {
    "duration": 6,
    "start_time": "2024-07-24T23:53:06.395Z"
   },
   {
    "duration": 1456,
    "start_time": "2024-07-24T23:53:06.972Z"
   },
   {
    "duration": 1214,
    "start_time": "2024-07-24T23:53:08.432Z"
   },
   {
    "duration": 27,
    "start_time": "2024-07-24T23:53:09.649Z"
   },
   {
    "duration": 22,
    "start_time": "2024-07-24T23:53:09.680Z"
   },
   {
    "duration": 20,
    "start_time": "2024-07-24T23:53:09.704Z"
   },
   {
    "duration": 43,
    "start_time": "2024-07-24T23:53:09.727Z"
   },
   {
    "duration": 15,
    "start_time": "2024-07-24T23:53:10.106Z"
   },
   {
    "duration": 11,
    "start_time": "2024-07-24T23:53:10.840Z"
   },
   {
    "duration": 30,
    "start_time": "2024-07-24T23:53:11.081Z"
   },
   {
    "duration": 30,
    "start_time": "2024-07-24T23:53:11.654Z"
   },
   {
    "duration": 51,
    "start_time": "2024-07-24T23:53:11.841Z"
   },
   {
    "duration": 22,
    "start_time": "2024-07-24T23:53:12.221Z"
   },
   {
    "duration": 229,
    "start_time": "2024-07-24T23:53:12.415Z"
   },
   {
    "duration": 55,
    "start_time": "2024-07-24T23:53:12.647Z"
   },
   {
    "duration": 6,
    "start_time": "2024-07-24T23:53:12.809Z"
   },
   {
    "duration": 45,
    "start_time": "2024-07-24T23:53:13.216Z"
   },
   {
    "duration": 47,
    "start_time": "2024-07-24T23:53:14.382Z"
   },
   {
    "duration": 37,
    "start_time": "2024-07-24T23:53:14.582Z"
   },
   {
    "duration": 650,
    "start_time": "2024-07-24T23:53:15.167Z"
   },
   {
    "duration": 225,
    "start_time": "2024-07-24T23:53:15.827Z"
   },
   {
    "duration": 521,
    "start_time": "2024-07-24T23:53:16.991Z"
   },
   {
    "duration": 15,
    "start_time": "2024-07-24T23:53:18.651Z"
   },
   {
    "duration": 15,
    "start_time": "2024-07-24T23:53:19.233Z"
   },
   {
    "duration": 405,
    "start_time": "2024-07-24T23:53:19.951Z"
   },
   {
    "duration": 66,
    "start_time": "2024-07-24T23:53:21.033Z"
   },
   {
    "duration": 213,
    "start_time": "2024-07-24T23:53:21.236Z"
   },
   {
    "duration": 1121,
    "start_time": "2024-07-24T23:53:21.937Z"
   },
   {
    "duration": 793,
    "start_time": "2024-07-24T23:53:23.067Z"
   },
   {
    "duration": 389,
    "start_time": "2024-07-24T23:53:23.863Z"
   },
   {
    "duration": 536,
    "start_time": "2024-07-24T23:53:24.256Z"
   },
   {
    "duration": 375,
    "start_time": "2024-07-24T23:53:24.795Z"
   },
   {
    "duration": 800,
    "start_time": "2024-07-24T23:53:25.319Z"
   },
   {
    "duration": 399,
    "start_time": "2024-07-24T23:53:26.122Z"
   },
   {
    "duration": 791,
    "start_time": "2024-07-24T23:53:35.485Z"
   },
   {
    "duration": 191,
    "start_time": "2024-07-24T23:53:36.522Z"
   },
   {
    "duration": 1704,
    "start_time": "2024-07-24T23:54:29.459Z"
   },
   {
    "duration": 208,
    "start_time": "2024-07-24T23:55:02.034Z"
   },
   {
    "duration": 404,
    "start_time": "2024-07-25T00:01:00.029Z"
   },
   {
    "duration": 124,
    "start_time": "2024-07-25T01:48:37.950Z"
   },
   {
    "duration": 52,
    "start_time": "2024-07-25T01:49:24.787Z"
   },
   {
    "duration": 27,
    "start_time": "2024-07-25T02:11:39.419Z"
   },
   {
    "duration": 23,
    "start_time": "2024-07-25T02:11:54.098Z"
   },
   {
    "duration": 85,
    "start_time": "2024-07-25T02:12:52.988Z"
   },
   {
    "duration": 25,
    "start_time": "2024-07-25T02:13:00.355Z"
   },
   {
    "duration": 24,
    "start_time": "2024-07-25T02:13:10.752Z"
   },
   {
    "duration": 30,
    "start_time": "2024-07-25T02:14:42.180Z"
   },
   {
    "duration": 30,
    "start_time": "2024-07-25T02:14:57.863Z"
   },
   {
    "duration": 26,
    "start_time": "2024-07-25T02:16:08.695Z"
   },
   {
    "duration": 27,
    "start_time": "2024-07-25T02:16:32.206Z"
   },
   {
    "duration": 26,
    "start_time": "2024-07-25T02:16:58.122Z"
   },
   {
    "duration": 166,
    "start_time": "2024-07-25T02:19:51.546Z"
   },
   {
    "duration": 26,
    "start_time": "2024-07-25T02:20:37.002Z"
   },
   {
    "duration": 135,
    "start_time": "2024-07-25T02:21:15.853Z"
   },
   {
    "duration": 132,
    "start_time": "2024-07-25T02:21:59.813Z"
   },
   {
    "duration": 384,
    "start_time": "2024-07-25T02:27:58.556Z"
   },
   {
    "duration": 354,
    "start_time": "2024-07-27T23:54:24.973Z"
   },
   {
    "duration": 441,
    "start_time": "2024-07-27T23:54:35.172Z"
   },
   {
    "duration": 1696,
    "start_time": "2024-07-27T23:54:36.031Z"
   },
   {
    "duration": 18,
    "start_time": "2024-07-27T23:54:37.735Z"
   },
   {
    "duration": 11,
    "start_time": "2024-07-27T23:54:37.756Z"
   },
   {
    "duration": 9,
    "start_time": "2024-07-27T23:54:37.772Z"
   },
   {
    "duration": 9,
    "start_time": "2024-07-27T23:54:37.784Z"
   },
   {
    "duration": 11,
    "start_time": "2024-07-27T23:54:38.624Z"
   },
   {
    "duration": 180,
    "start_time": "2024-07-27T23:54:51.196Z"
   },
   {
    "duration": 169,
    "start_time": "2024-07-27T23:54:51.543Z"
   },
   {
    "duration": 19,
    "start_time": "2024-07-27T23:54:54.582Z"
   },
   {
    "duration": 199,
    "start_time": "2024-07-27T23:54:55.979Z"
   },
   {
    "duration": 183,
    "start_time": "2024-07-27T23:54:56.893Z"
   },
   {
    "duration": 49,
    "start_time": "2024-07-27T23:54:57.920Z"
   },
   {
    "duration": 25,
    "start_time": "2024-07-27T23:55:00.166Z"
   },
   {
    "duration": 8,
    "start_time": "2024-07-27T23:55:00.923Z"
   },
   {
    "duration": 44,
    "start_time": "2024-07-27T23:55:02.078Z"
   },
   {
    "duration": 14,
    "start_time": "2024-07-27T23:55:04.105Z"
   },
   {
    "duration": 11,
    "start_time": "2024-07-27T23:59:52.954Z"
   },
   {
    "duration": 11,
    "start_time": "2024-07-28T00:00:12.844Z"
   },
   {
    "duration": 12,
    "start_time": "2024-07-28T00:00:28.769Z"
   },
   {
    "duration": 15,
    "start_time": "2024-07-28T00:05:31.220Z"
   },
   {
    "duration": 21,
    "start_time": "2024-07-28T00:07:36.459Z"
   },
   {
    "duration": 62,
    "start_time": "2024-07-28T00:08:02.446Z"
   },
   {
    "duration": 52,
    "start_time": "2024-07-28T00:08:17.280Z"
   },
   {
    "duration": 12,
    "start_time": "2024-07-28T00:15:45.853Z"
   },
   {
    "duration": 8,
    "start_time": "2024-07-28T00:16:15.526Z"
   },
   {
    "duration": 12,
    "start_time": "2024-07-28T00:16:33.744Z"
   },
   {
    "duration": 14,
    "start_time": "2024-07-28T00:17:14.293Z"
   },
   {
    "duration": 13,
    "start_time": "2024-07-28T00:17:49.660Z"
   },
   {
    "duration": 3,
    "start_time": "2024-07-28T00:41:51.199Z"
   },
   {
    "duration": 1488,
    "start_time": "2024-07-28T00:41:51.572Z"
   },
   {
    "duration": 12,
    "start_time": "2024-07-28T00:41:53.063Z"
   },
   {
    "duration": 9,
    "start_time": "2024-07-28T00:41:53.534Z"
   },
   {
    "duration": 9,
    "start_time": "2024-07-28T00:41:54.207Z"
   },
   {
    "duration": 8,
    "start_time": "2024-07-28T00:41:54.829Z"
   },
   {
    "duration": 12,
    "start_time": "2024-07-28T00:41:55.513Z"
   },
   {
    "duration": 203,
    "start_time": "2024-07-28T00:47:16.084Z"
   },
   {
    "duration": 174,
    "start_time": "2024-07-28T00:47:16.401Z"
   },
   {
    "duration": 18,
    "start_time": "2024-07-28T00:47:31.709Z"
   },
   {
    "duration": 187,
    "start_time": "2024-07-28T00:47:32.607Z"
   },
   {
    "duration": 181,
    "start_time": "2024-07-28T00:47:33.361Z"
   },
   {
    "duration": 47,
    "start_time": "2024-07-28T00:47:33.938Z"
   },
   {
    "duration": 22,
    "start_time": "2024-07-28T00:47:35.505Z"
   },
   {
    "duration": 7,
    "start_time": "2024-07-28T00:47:35.932Z"
   },
   {
    "duration": 35,
    "start_time": "2024-07-28T00:47:36.753Z"
   },
   {
    "duration": 40,
    "start_time": "2024-07-28T00:47:37.420Z"
   },
   {
    "duration": 17,
    "start_time": "2024-07-28T01:10:34.832Z"
   },
   {
    "duration": 8,
    "start_time": "2024-07-28T01:22:01.515Z"
   },
   {
    "duration": 7,
    "start_time": "2024-07-28T01:22:01.877Z"
   },
   {
    "duration": 7,
    "start_time": "2024-07-28T01:22:03.045Z"
   },
   {
    "duration": 7,
    "start_time": "2024-07-28T01:22:03.226Z"
   },
   {
    "duration": 1379,
    "start_time": "2024-07-28T01:22:03.987Z"
   },
   {
    "duration": 1306,
    "start_time": "2024-07-28T01:22:05.369Z"
   },
   {
    "duration": 19,
    "start_time": "2024-07-28T01:22:06.678Z"
   },
   {
    "duration": 13,
    "start_time": "2024-07-28T01:22:06.732Z"
   },
   {
    "duration": 12,
    "start_time": "2024-07-28T01:22:07.275Z"
   },
   {
    "duration": 13,
    "start_time": "2024-07-28T01:22:22.136Z"
   },
   {
    "duration": 11,
    "start_time": "2024-07-28T01:22:31.757Z"
   },
   {
    "duration": 19,
    "start_time": "2024-07-28T01:23:39.555Z"
   },
   {
    "duration": 11,
    "start_time": "2024-07-28T01:23:40.528Z"
   },
   {
    "duration": 32,
    "start_time": "2024-07-28T01:23:40.849Z"
   },
   {
    "duration": 16,
    "start_time": "2024-07-28T01:27:05.458Z"
   },
   {
    "duration": 15,
    "start_time": "2024-07-28T01:32:25.649Z"
   },
   {
    "duration": 23,
    "start_time": "2024-07-28T01:32:46.191Z"
   },
   {
    "duration": 16,
    "start_time": "2024-07-28T01:33:06.950Z"
   },
   {
    "duration": 15,
    "start_time": "2024-07-28T01:33:22.351Z"
   },
   {
    "duration": 34,
    "start_time": "2024-07-28T01:33:29.315Z"
   },
   {
    "duration": 32,
    "start_time": "2024-07-28T01:33:45.005Z"
   },
   {
    "duration": 30,
    "start_time": "2024-07-28T01:34:03.759Z"
   },
   {
    "duration": 18,
    "start_time": "2024-07-28T01:34:21.221Z"
   },
   {
    "duration": 21,
    "start_time": "2024-07-28T01:34:56.509Z"
   },
   {
    "duration": 8,
    "start_time": "2024-07-28T01:35:08.540Z"
   },
   {
    "duration": 24,
    "start_time": "2024-07-28T01:35:26.343Z"
   },
   {
    "duration": 31,
    "start_time": "2024-07-28T01:35:44.565Z"
   },
   {
    "duration": 31,
    "start_time": "2024-07-28T01:35:53.932Z"
   },
   {
    "duration": 30,
    "start_time": "2024-07-28T01:36:13.163Z"
   },
   {
    "duration": 94,
    "start_time": "2024-07-28T01:36:40.250Z"
   },
   {
    "duration": 17,
    "start_time": "2024-07-28T01:37:58.760Z"
   },
   {
    "duration": 34,
    "start_time": "2024-07-28T01:46:11.125Z"
   },
   {
    "duration": 9,
    "start_time": "2024-07-28T01:46:23.013Z"
   },
   {
    "duration": 30,
    "start_time": "2024-07-28T01:46:45.252Z"
   },
   {
    "duration": 16,
    "start_time": "2024-07-28T01:47:07.913Z"
   },
   {
    "duration": 28,
    "start_time": "2024-07-28T01:47:37.347Z"
   },
   {
    "duration": 15,
    "start_time": "2024-07-28T01:49:34.942Z"
   },
   {
    "duration": 16,
    "start_time": "2024-07-28T01:50:03.653Z"
   },
   {
    "duration": 15,
    "start_time": "2024-07-28T01:50:38.776Z"
   },
   {
    "duration": 27,
    "start_time": "2024-07-28T01:51:19.965Z"
   },
   {
    "duration": 15,
    "start_time": "2024-07-28T01:52:34.940Z"
   },
   {
    "duration": 17,
    "start_time": "2024-07-28T01:53:05.338Z"
   },
   {
    "duration": 8,
    "start_time": "2024-07-28T01:58:37.934Z"
   },
   {
    "duration": 17,
    "start_time": "2024-07-28T01:58:50.551Z"
   },
   {
    "duration": 24,
    "start_time": "2024-07-28T02:00:57.937Z"
   },
   {
    "duration": 12,
    "start_time": "2024-07-28T02:01:27.214Z"
   },
   {
    "duration": 18,
    "start_time": "2024-07-28T02:01:33.691Z"
   },
   {
    "duration": 30,
    "start_time": "2024-07-28T02:30:05.178Z"
   },
   {
    "duration": 50,
    "start_time": "2024-07-28T02:30:05.404Z"
   },
   {
    "duration": 23,
    "start_time": "2024-07-28T02:30:05.924Z"
   },
   {
    "duration": 244,
    "start_time": "2024-07-28T02:30:06.177Z"
   },
   {
    "duration": 46,
    "start_time": "2024-07-28T02:30:06.575Z"
   },
   {
    "duration": 9,
    "start_time": "2024-07-28T02:30:06.835Z"
   },
   {
    "duration": 46,
    "start_time": "2024-07-28T02:30:07.460Z"
   },
   {
    "duration": 7,
    "start_time": "2024-07-28T02:49:48.300Z"
   },
   {
    "duration": 8,
    "start_time": "2024-07-28T02:50:14.575Z"
   },
   {
    "duration": 6,
    "start_time": "2024-07-28T03:26:05.862Z"
   },
   {
    "duration": 40,
    "start_time": "2024-07-28T03:26:28.791Z"
   },
   {
    "duration": 43,
    "start_time": "2024-07-28T03:26:31.770Z"
   },
   {
    "duration": 36,
    "start_time": "2024-07-28T03:26:31.976Z"
   },
   {
    "duration": 4304,
    "start_time": "2024-07-28T03:26:33.145Z"
   },
   {
    "duration": 219,
    "start_time": "2024-07-28T03:26:37.453Z"
   },
   {
    "duration": 499,
    "start_time": "2024-07-28T03:26:37.675Z"
   },
   {
    "duration": 13,
    "start_time": "2024-07-28T03:26:38.178Z"
   },
   {
    "duration": 40,
    "start_time": "2024-07-28T03:26:38.194Z"
   },
   {
    "duration": 406,
    "start_time": "2024-07-28T03:26:38.238Z"
   },
   {
    "duration": 64,
    "start_time": "2024-07-28T03:26:38.768Z"
   },
   {
    "duration": 213,
    "start_time": "2024-07-28T03:26:39.168Z"
   },
   {
    "duration": 1084,
    "start_time": "2024-07-28T03:26:40.141Z"
   },
   {
    "duration": 788,
    "start_time": "2024-07-28T03:26:41.236Z"
   },
   {
    "duration": 404,
    "start_time": "2024-07-28T03:26:42.027Z"
   },
   {
    "duration": 547,
    "start_time": "2024-07-28T03:26:42.746Z"
   },
   {
    "duration": 354,
    "start_time": "2024-07-28T03:26:43.296Z"
   },
   {
    "duration": 785,
    "start_time": "2024-07-28T03:26:44.169Z"
   },
   {
    "duration": 386,
    "start_time": "2024-07-28T03:26:44.958Z"
   },
   {
    "duration": 775,
    "start_time": "2024-07-28T03:26:46.180Z"
   },
   {
    "duration": 198,
    "start_time": "2024-07-28T03:26:46.958Z"
   },
   {
    "duration": 1804,
    "start_time": "2024-07-28T03:26:47.584Z"
   },
   {
    "duration": 426,
    "start_time": "2024-07-28T03:26:49.391Z"
   },
   {
    "duration": 168,
    "start_time": "2024-07-28T03:26:49.820Z"
   },
   {
    "duration": 143,
    "start_time": "2024-07-28T03:26:49.992Z"
   },
   {
    "duration": 397,
    "start_time": "2024-07-28T03:26:50.138Z"
   },
   {
    "duration": 8,
    "start_time": "2024-07-28T03:26:51.902Z"
   },
   {
    "duration": 7,
    "start_time": "2024-07-28T03:27:06.685Z"
   }
  ],
  "colab": {
   "provenance": []
  },
  "kernelspec": {
   "display_name": "Python 3 (ipykernel)",
   "language": "python",
   "name": "python3"
  },
  "language_info": {
   "codemirror_mode": {
    "name": "ipython",
    "version": 3
   },
   "file_extension": ".py",
   "mimetype": "text/x-python",
   "name": "python",
   "nbconvert_exporter": "python",
   "pygments_lexer": "ipython3",
   "version": "3.9.19"
  },
  "toc": {
   "base_numbering": 1,
   "nav_menu": {},
   "number_sections": true,
   "sideBar": true,
   "skip_h1_title": true,
   "title_cell": "Table of Contents",
   "title_sidebar": "Contents",
   "toc_cell": false,
   "toc_position": {},
   "toc_section_display": true,
   "toc_window_display": false
  },
  "vscode": {
   "interpreter": {
    "hash": "01a7be9ec63e704a62cefc5fe7a4756944464ee731be31632bdf42a4cb4688cf"
   }
  }
 },
 "nbformat": 4,
 "nbformat_minor": 5
}
