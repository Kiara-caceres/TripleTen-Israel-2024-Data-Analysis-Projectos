{
 "cells": [
  {
   "cell_type": "markdown",
   "metadata": {
    "id": "3rYiDeEH0q0f"
   },
   "source": [
    "# ¿Cuál es la mejor tarifa?\n",
    "\n",
    "Trabajas como analista para el operador de telecomunicaciones Megaline. La empresa ofrece a sus clientes dos tarifas de prepago, Surf y Ultimate. El departamento comercial quiere saber cuál de las tarifas genera más ingresos para poder ajustar el presupuesto de publicidad.\n",
    "\n",
    "Vas a realizar un análisis preliminar de las tarifas basado en una selección de clientes relativamente pequeña. Tendrás los datos de 500 clientes de Megaline: quiénes son los clientes, de dónde son, qué tarifa usan, así como la cantidad de llamadas que hicieron y los mensajes de texto que enviaron en 2018. Tu trabajo es analizar el comportamiento de los clientes y determinar qué tarifa de prepago genera más ingresos."
   ]
  },
  {
   "cell_type": "markdown",
   "metadata": {
    "id": "VNddPNRQ0q0w"
   },
   "source": [
    "[Te proporcionamos algunos comentarios para orientarte mientras completas este proyecto. Pero debes asegurarte de eliminar todos los comentarios entre corchetes antes de entregar tu proyecto.]\n",
    "\n",
    "[Antes de sumergirte en el análisis de datos, explica por tu propia cuenta el propósito del proyecto y las acciones que planeas realizar.]\n",
    "\n",
    "[Ten en cuenta que estudiar, modificar y analizar datos es un proceso iterativo. Es normal volver a los pasos anteriores y corregirlos/ampliarlos para permitir nuevos pasos.]"
   ]
  },
  {
   "cell_type": "markdown",
   "metadata": {
    "id": "MQi4IPy70q0y"
   },
   "source": [
    "## Inicialización"
   ]
  },
  {
   "cell_type": "code",
   "execution_count": 138,
   "metadata": {
    "id": "MtYIuBxu0q0z"
   },
   "outputs": [],
   "source": [
    "import pandas as pd# Cargar todas las librerías\n",
    "import numpy as np\n",
    "from matplotlib import pyplot as plt\n",
    "import seaborn as sns\n",
    "from scipy import stats as st"
   ]
  },
  {
   "cell_type": "markdown",
   "metadata": {
    "id": "4ysWWC5i0q00"
   },
   "source": [
    "## Cargar datos"
   ]
  },
  {
   "cell_type": "code",
   "execution_count": 139,
   "metadata": {
    "id": "CCqPW7rS0q01"
   },
   "outputs": [],
   "source": [
    "llamadas=pd.read_csv(\"/datasets/megaline_calls.csv\",sep=\",\")# Carga los archivos de datos en diferentes DataFrames\n",
    "datos=pd.read_csv(\"/datasets/megaline_internet.csv\",sep=\",\")\n",
    "mensajes=pd.read_csv(\"/datasets/megaline_messages.csv\",sep=\",\")\n",
    "planes =pd.read_csv(\"/datasets/megaline_plans.csv\", sep=\",\")\n",
    "usuario=pd.read_csv(\"/datasets/megaline_users.csv\",sep=\",\")"
   ]
  },
  {
   "cell_type": "markdown",
   "metadata": {
    "id": "69qqoJ3r0q01"
   },
   "source": [
    "## Preparar los datos"
   ]
  },
  {
   "cell_type": "markdown",
   "metadata": {
    "id": "vUuZw80S0q01"
   },
   "source": [
    "[Los datos para este proyecto se dividen en varias tablas. Explora cada una para tener una comprensión inicial de los datos. Si es necesario, haz las correcciones requeridas en cada tabla.]"
   ]
  },
  {
   "cell_type": "markdown",
   "metadata": {
    "id": "ohBhimvH0q01"
   },
   "source": [
    "## Tarifas"
   ]
  },
  {
   "cell_type": "code",
   "execution_count": 140,
   "metadata": {
    "id": "GptqP3Q40q02"
   },
   "outputs": [
    {
     "name": "stdout",
     "output_type": "stream",
     "text": [
      "<class 'pandas.core.frame.DataFrame'>\n",
      "RangeIndex: 2 entries, 0 to 1\n",
      "Data columns (total 8 columns):\n",
      " #   Column                 Non-Null Count  Dtype  \n",
      "---  ------                 --------------  -----  \n",
      " 0   messages_included      2 non-null      int64  \n",
      " 1   mb_per_month_included  2 non-null      int64  \n",
      " 2   minutes_included       2 non-null      int64  \n",
      " 3   usd_monthly_pay        2 non-null      int64  \n",
      " 4   usd_per_gb             2 non-null      int64  \n",
      " 5   usd_per_message        2 non-null      float64\n",
      " 6   usd_per_minute         2 non-null      float64\n",
      " 7   plan_name              2 non-null      object \n",
      "dtypes: float64(2), int64(5), object(1)\n",
      "memory usage: 256.0+ bytes\n"
     ]
    }
   ],
   "source": [
    "planes.info()# Imprime la información general/resumida sobre el DataFrame de las tarifas\n",
    "\n"
   ]
  },
  {
   "cell_type": "code",
   "execution_count": 141,
   "metadata": {
    "id": "64xzjwL70q02"
   },
   "outputs": [
    {
     "data": {
      "text/html": [
       "<div>\n",
       "<style scoped>\n",
       "    .dataframe tbody tr th:only-of-type {\n",
       "        vertical-align: middle;\n",
       "    }\n",
       "\n",
       "    .dataframe tbody tr th {\n",
       "        vertical-align: top;\n",
       "    }\n",
       "\n",
       "    .dataframe thead th {\n",
       "        text-align: right;\n",
       "    }\n",
       "</style>\n",
       "<table border=\"1\" class=\"dataframe\">\n",
       "  <thead>\n",
       "    <tr style=\"text-align: right;\">\n",
       "      <th></th>\n",
       "      <th>messages_included</th>\n",
       "      <th>mb_per_month_included</th>\n",
       "      <th>minutes_included</th>\n",
       "      <th>usd_monthly_pay</th>\n",
       "      <th>usd_per_gb</th>\n",
       "      <th>usd_per_message</th>\n",
       "      <th>usd_per_minute</th>\n",
       "      <th>plan_name</th>\n",
       "    </tr>\n",
       "  </thead>\n",
       "  <tbody>\n",
       "    <tr>\n",
       "      <th>0</th>\n",
       "      <td>50</td>\n",
       "      <td>15360</td>\n",
       "      <td>500</td>\n",
       "      <td>20</td>\n",
       "      <td>10</td>\n",
       "      <td>0.03</td>\n",
       "      <td>0.03</td>\n",
       "      <td>surf</td>\n",
       "    </tr>\n",
       "    <tr>\n",
       "      <th>1</th>\n",
       "      <td>1000</td>\n",
       "      <td>30720</td>\n",
       "      <td>3000</td>\n",
       "      <td>70</td>\n",
       "      <td>7</td>\n",
       "      <td>0.01</td>\n",
       "      <td>0.01</td>\n",
       "      <td>ultimate</td>\n",
       "    </tr>\n",
       "  </tbody>\n",
       "</table>\n",
       "</div>"
      ],
      "text/plain": [
       "   messages_included  mb_per_month_included  minutes_included  \\\n",
       "0                 50                  15360               500   \n",
       "1               1000                  30720              3000   \n",
       "\n",
       "   usd_monthly_pay  usd_per_gb  usd_per_message  usd_per_minute plan_name  \n",
       "0               20          10             0.03            0.03      surf  \n",
       "1               70           7             0.01            0.01  ultimate  "
      ]
     },
     "execution_count": 141,
     "metadata": {},
     "output_type": "execute_result"
    }
   ],
   "source": [
    "planes# Imprime una muestra de los datos para las tarifas\n",
    "\n"
   ]
  },
  {
   "cell_type": "markdown",
   "metadata": {
    "id": "mEc_3_hs0q02"
   },
   "source": [
    "[Describe lo que ves y observas en la información general y en la muestra de datos impresa para el precio de datos anterior. ¿Hay algún problema (tipos de datos no adecuados, datos ausentes, etc.) que pudieran necesitar investigación y cambios adicionales? ¿Cómo se puede arreglar?]\n",
    " En la tabla de datos veo que hay 2 columnas de float es decir decimales y los datos del mes esta en megabytes"
   ]
  },
  {
   "cell_type": "markdown",
   "metadata": {
    "id": "R3C05i1l0q03"
   },
   "source": [
    "## Corregir datos"
   ]
  },
  {
   "cell_type": "markdown",
   "metadata": {
    "id": "bIi8StZI0q03"
   },
   "source": [
    "[Corrige los problemas obvios con los datos basándote en las observaciones iniciales.]"
   ]
  },
  {
   "cell_type": "code",
   "execution_count": 142,
   "metadata": {
    "id": "Y7SVmjGn0q03"
   },
   "outputs": [
    {
     "data": {
      "text/html": [
       "<div>\n",
       "<style scoped>\n",
       "    .dataframe tbody tr th:only-of-type {\n",
       "        vertical-align: middle;\n",
       "    }\n",
       "\n",
       "    .dataframe tbody tr th {\n",
       "        vertical-align: top;\n",
       "    }\n",
       "\n",
       "    .dataframe thead th {\n",
       "        text-align: right;\n",
       "    }\n",
       "</style>\n",
       "<table border=\"1\" class=\"dataframe\">\n",
       "  <thead>\n",
       "    <tr style=\"text-align: right;\">\n",
       "      <th></th>\n",
       "      <th>messages_included</th>\n",
       "      <th>gb_per_month_included</th>\n",
       "      <th>minutes_included</th>\n",
       "      <th>usd_monthly_pay</th>\n",
       "      <th>usd_per_gb</th>\n",
       "      <th>usd_per_message</th>\n",
       "      <th>usd_per_minute</th>\n",
       "      <th>plan_name</th>\n",
       "    </tr>\n",
       "  </thead>\n",
       "  <tbody>\n",
       "    <tr>\n",
       "      <th>0</th>\n",
       "      <td>50</td>\n",
       "      <td>15.0</td>\n",
       "      <td>500</td>\n",
       "      <td>20</td>\n",
       "      <td>10</td>\n",
       "      <td>0.03</td>\n",
       "      <td>0.03</td>\n",
       "      <td>surf</td>\n",
       "    </tr>\n",
       "    <tr>\n",
       "      <th>1</th>\n",
       "      <td>1000</td>\n",
       "      <td>30.0</td>\n",
       "      <td>3000</td>\n",
       "      <td>70</td>\n",
       "      <td>7</td>\n",
       "      <td>0.01</td>\n",
       "      <td>0.01</td>\n",
       "      <td>ultimate</td>\n",
       "    </tr>\n",
       "  </tbody>\n",
       "</table>\n",
       "</div>"
      ],
      "text/plain": [
       "   messages_included  gb_per_month_included  minutes_included  \\\n",
       "0                 50                   15.0               500   \n",
       "1               1000                   30.0              3000   \n",
       "\n",
       "   usd_monthly_pay  usd_per_gb  usd_per_message  usd_per_minute plan_name  \n",
       "0               20          10             0.03            0.03      surf  \n",
       "1               70           7             0.01            0.01  ultimate  "
      ]
     },
     "execution_count": 142,
     "metadata": {},
     "output_type": "execute_result"
    }
   ],
   "source": [
    "planes[\"mb_per_month_included\"]=planes[\"mb_per_month_included\"]/1024 # convertir de mb a gb\n",
    "planes = planes.rename(columns={\"mb_per_month_included\": \"gb_per_month_included\"})# cambiar nombre la columna\n",
    "planes"
   ]
  },
  {
   "cell_type": "markdown",
   "metadata": {
    "id": "LJir7bml0q03"
   },
   "source": [
    "## Enriquecer los datos"
   ]
  },
  {
   "cell_type": "markdown",
   "metadata": {
    "id": "eqADpCfg0q04"
   },
   "source": [
    "[Agrega factores adicionales a los datos si crees que pudieran ser útiles.]"
   ]
  },
  {
   "cell_type": "code",
   "execution_count": 143,
   "metadata": {
    "id": "gfcIEuXV0q04"
   },
   "outputs": [
    {
     "data": {
      "text/html": [
       "<div>\n",
       "<style scoped>\n",
       "    .dataframe tbody tr th:only-of-type {\n",
       "        vertical-align: middle;\n",
       "    }\n",
       "\n",
       "    .dataframe tbody tr th {\n",
       "        vertical-align: top;\n",
       "    }\n",
       "\n",
       "    .dataframe thead th {\n",
       "        text-align: right;\n",
       "    }\n",
       "</style>\n",
       "<table border=\"1\" class=\"dataframe\">\n",
       "  <thead>\n",
       "    <tr style=\"text-align: right;\">\n",
       "      <th></th>\n",
       "      <th>messages_included</th>\n",
       "      <th>gb_per_month_included</th>\n",
       "      <th>minutes_included</th>\n",
       "      <th>usd_monthly_pay</th>\n",
       "      <th>usd_per_gb</th>\n",
       "      <th>usd_per_message</th>\n",
       "      <th>usd_per_minute</th>\n",
       "      <th>plan_id</th>\n",
       "    </tr>\n",
       "  </thead>\n",
       "  <tbody>\n",
       "    <tr>\n",
       "      <th>0</th>\n",
       "      <td>50</td>\n",
       "      <td>15.0</td>\n",
       "      <td>500</td>\n",
       "      <td>20</td>\n",
       "      <td>10</td>\n",
       "      <td>0.03</td>\n",
       "      <td>0.03</td>\n",
       "      <td>surf</td>\n",
       "    </tr>\n",
       "    <tr>\n",
       "      <th>1</th>\n",
       "      <td>1000</td>\n",
       "      <td>30.0</td>\n",
       "      <td>3000</td>\n",
       "      <td>70</td>\n",
       "      <td>7</td>\n",
       "      <td>0.01</td>\n",
       "      <td>0.01</td>\n",
       "      <td>ultimate</td>\n",
       "    </tr>\n",
       "  </tbody>\n",
       "</table>\n",
       "</div>"
      ],
      "text/plain": [
       "   messages_included  gb_per_month_included  minutes_included  \\\n",
       "0                 50                   15.0               500   \n",
       "1               1000                   30.0              3000   \n",
       "\n",
       "   usd_monthly_pay  usd_per_gb  usd_per_message  usd_per_minute   plan_id  \n",
       "0               20          10             0.03            0.03      surf  \n",
       "1               70           7             0.01            0.01  ultimate  "
      ]
     },
     "execution_count": 143,
     "metadata": {},
     "output_type": "execute_result"
    }
   ],
   "source": [
    "planes.rename(columns={\"plan_name\": \"plan_id\"}, inplace=True)# cambiar el nombre de la columa a plan id ya que varios dataframent tendra algo en comun con el nombre\n",
    "planes"
   ]
  },
  {
   "cell_type": "markdown",
   "metadata": {
    "id": "1n2X6WXf0q04"
   },
   "source": [
    "## Usuarios/as"
   ]
  },
  {
   "cell_type": "code",
   "execution_count": 144,
   "metadata": {
    "id": "2NgjWFqx0q05"
   },
   "outputs": [
    {
     "name": "stdout",
     "output_type": "stream",
     "text": [
      "<class 'pandas.core.frame.DataFrame'>\n",
      "RangeIndex: 500 entries, 0 to 499\n",
      "Data columns (total 8 columns):\n",
      " #   Column      Non-Null Count  Dtype \n",
      "---  ------      --------------  ----- \n",
      " 0   user_id     500 non-null    int64 \n",
      " 1   first_name  500 non-null    object\n",
      " 2   last_name   500 non-null    object\n",
      " 3   age         500 non-null    int64 \n",
      " 4   city        500 non-null    object\n",
      " 5   reg_date    500 non-null    object\n",
      " 6   plan        500 non-null    object\n",
      " 7   churn_date  34 non-null     object\n",
      "dtypes: int64(2), object(6)\n",
      "memory usage: 31.4+ KB\n"
     ]
    }
   ],
   "source": [
    "usuario.info()# Imprime la información general/resumida sobre el DataFrame de usuarios\n",
    "\n"
   ]
  },
  {
   "cell_type": "code",
   "execution_count": 145,
   "metadata": {
    "id": "1IN1L9uh0q05"
   },
   "outputs": [
    {
     "data": {
      "text/html": [
       "<div>\n",
       "<style scoped>\n",
       "    .dataframe tbody tr th:only-of-type {\n",
       "        vertical-align: middle;\n",
       "    }\n",
       "\n",
       "    .dataframe tbody tr th {\n",
       "        vertical-align: top;\n",
       "    }\n",
       "\n",
       "    .dataframe thead th {\n",
       "        text-align: right;\n",
       "    }\n",
       "</style>\n",
       "<table border=\"1\" class=\"dataframe\">\n",
       "  <thead>\n",
       "    <tr style=\"text-align: right;\">\n",
       "      <th></th>\n",
       "      <th>user_id</th>\n",
       "      <th>first_name</th>\n",
       "      <th>last_name</th>\n",
       "      <th>age</th>\n",
       "      <th>city</th>\n",
       "      <th>reg_date</th>\n",
       "      <th>plan</th>\n",
       "      <th>churn_date</th>\n",
       "    </tr>\n",
       "  </thead>\n",
       "  <tbody>\n",
       "    <tr>\n",
       "      <th>0</th>\n",
       "      <td>1000</td>\n",
       "      <td>Anamaria</td>\n",
       "      <td>Bauer</td>\n",
       "      <td>45</td>\n",
       "      <td>Atlanta-Sandy Springs-Roswell, GA MSA</td>\n",
       "      <td>2018-12-24</td>\n",
       "      <td>ultimate</td>\n",
       "      <td>NaN</td>\n",
       "    </tr>\n",
       "    <tr>\n",
       "      <th>1</th>\n",
       "      <td>1001</td>\n",
       "      <td>Mickey</td>\n",
       "      <td>Wilkerson</td>\n",
       "      <td>28</td>\n",
       "      <td>Seattle-Tacoma-Bellevue, WA MSA</td>\n",
       "      <td>2018-08-13</td>\n",
       "      <td>surf</td>\n",
       "      <td>NaN</td>\n",
       "    </tr>\n",
       "    <tr>\n",
       "      <th>2</th>\n",
       "      <td>1002</td>\n",
       "      <td>Carlee</td>\n",
       "      <td>Hoffman</td>\n",
       "      <td>36</td>\n",
       "      <td>Las Vegas-Henderson-Paradise, NV MSA</td>\n",
       "      <td>2018-10-21</td>\n",
       "      <td>surf</td>\n",
       "      <td>NaN</td>\n",
       "    </tr>\n",
       "    <tr>\n",
       "      <th>3</th>\n",
       "      <td>1003</td>\n",
       "      <td>Reynaldo</td>\n",
       "      <td>Jenkins</td>\n",
       "      <td>52</td>\n",
       "      <td>Tulsa, OK MSA</td>\n",
       "      <td>2018-01-28</td>\n",
       "      <td>surf</td>\n",
       "      <td>NaN</td>\n",
       "    </tr>\n",
       "    <tr>\n",
       "      <th>4</th>\n",
       "      <td>1004</td>\n",
       "      <td>Leonila</td>\n",
       "      <td>Thompson</td>\n",
       "      <td>40</td>\n",
       "      <td>Seattle-Tacoma-Bellevue, WA MSA</td>\n",
       "      <td>2018-05-23</td>\n",
       "      <td>surf</td>\n",
       "      <td>NaN</td>\n",
       "    </tr>\n",
       "    <tr>\n",
       "      <th>...</th>\n",
       "      <td>...</td>\n",
       "      <td>...</td>\n",
       "      <td>...</td>\n",
       "      <td>...</td>\n",
       "      <td>...</td>\n",
       "      <td>...</td>\n",
       "      <td>...</td>\n",
       "      <td>...</td>\n",
       "    </tr>\n",
       "    <tr>\n",
       "      <th>495</th>\n",
       "      <td>1495</td>\n",
       "      <td>Fidel</td>\n",
       "      <td>Sharpe</td>\n",
       "      <td>67</td>\n",
       "      <td>New York-Newark-Jersey City, NY-NJ-PA MSA</td>\n",
       "      <td>2018-09-04</td>\n",
       "      <td>surf</td>\n",
       "      <td>NaN</td>\n",
       "    </tr>\n",
       "    <tr>\n",
       "      <th>496</th>\n",
       "      <td>1496</td>\n",
       "      <td>Ariel</td>\n",
       "      <td>Shepherd</td>\n",
       "      <td>49</td>\n",
       "      <td>New Orleans-Metairie, LA MSA</td>\n",
       "      <td>2018-02-20</td>\n",
       "      <td>surf</td>\n",
       "      <td>NaN</td>\n",
       "    </tr>\n",
       "    <tr>\n",
       "      <th>497</th>\n",
       "      <td>1497</td>\n",
       "      <td>Donte</td>\n",
       "      <td>Barrera</td>\n",
       "      <td>49</td>\n",
       "      <td>Los Angeles-Long Beach-Anaheim, CA MSA</td>\n",
       "      <td>2018-12-10</td>\n",
       "      <td>ultimate</td>\n",
       "      <td>NaN</td>\n",
       "    </tr>\n",
       "    <tr>\n",
       "      <th>498</th>\n",
       "      <td>1498</td>\n",
       "      <td>Scot</td>\n",
       "      <td>Williamson</td>\n",
       "      <td>51</td>\n",
       "      <td>New York-Newark-Jersey City, NY-NJ-PA MSA</td>\n",
       "      <td>2018-02-04</td>\n",
       "      <td>surf</td>\n",
       "      <td>NaN</td>\n",
       "    </tr>\n",
       "    <tr>\n",
       "      <th>499</th>\n",
       "      <td>1499</td>\n",
       "      <td>Shena</td>\n",
       "      <td>Dickson</td>\n",
       "      <td>37</td>\n",
       "      <td>Orlando-Kissimmee-Sanford, FL MSA</td>\n",
       "      <td>2018-05-06</td>\n",
       "      <td>surf</td>\n",
       "      <td>NaN</td>\n",
       "    </tr>\n",
       "  </tbody>\n",
       "</table>\n",
       "<p>500 rows × 8 columns</p>\n",
       "</div>"
      ],
      "text/plain": [
       "     user_id first_name   last_name  age  \\\n",
       "0       1000   Anamaria       Bauer   45   \n",
       "1       1001     Mickey   Wilkerson   28   \n",
       "2       1002     Carlee     Hoffman   36   \n",
       "3       1003   Reynaldo     Jenkins   52   \n",
       "4       1004    Leonila    Thompson   40   \n",
       "..       ...        ...         ...  ...   \n",
       "495     1495      Fidel      Sharpe   67   \n",
       "496     1496      Ariel    Shepherd   49   \n",
       "497     1497      Donte     Barrera   49   \n",
       "498     1498       Scot  Williamson   51   \n",
       "499     1499      Shena     Dickson   37   \n",
       "\n",
       "                                          city    reg_date      plan  \\\n",
       "0        Atlanta-Sandy Springs-Roswell, GA MSA  2018-12-24  ultimate   \n",
       "1              Seattle-Tacoma-Bellevue, WA MSA  2018-08-13      surf   \n",
       "2         Las Vegas-Henderson-Paradise, NV MSA  2018-10-21      surf   \n",
       "3                                Tulsa, OK MSA  2018-01-28      surf   \n",
       "4              Seattle-Tacoma-Bellevue, WA MSA  2018-05-23      surf   \n",
       "..                                         ...         ...       ...   \n",
       "495  New York-Newark-Jersey City, NY-NJ-PA MSA  2018-09-04      surf   \n",
       "496               New Orleans-Metairie, LA MSA  2018-02-20      surf   \n",
       "497     Los Angeles-Long Beach-Anaheim, CA MSA  2018-12-10  ultimate   \n",
       "498  New York-Newark-Jersey City, NY-NJ-PA MSA  2018-02-04      surf   \n",
       "499          Orlando-Kissimmee-Sanford, FL MSA  2018-05-06      surf   \n",
       "\n",
       "    churn_date  \n",
       "0          NaN  \n",
       "1          NaN  \n",
       "2          NaN  \n",
       "3          NaN  \n",
       "4          NaN  \n",
       "..         ...  \n",
       "495        NaN  \n",
       "496        NaN  \n",
       "497        NaN  \n",
       "498        NaN  \n",
       "499        NaN  \n",
       "\n",
       "[500 rows x 8 columns]"
      ]
     },
     "execution_count": 145,
     "metadata": {},
     "output_type": "execute_result"
    }
   ],
   "source": [
    "usuario# Imprime una muestra de datos para usuarios\n",
    "\n"
   ]
  },
  {
   "cell_type": "markdown",
   "metadata": {
    "id": "dCZoUq4f0q06"
   },
   "source": [
    "[Describe lo que ves y observas en la información general y en la muestra de datos impresa para el precio de datos anterior. ¿Hay algún problema (tipos de datos no adecuados, datos ausentes, etc.) que pudieran necesitar investigación y cambios adicionales? ¿Cómo se puede arreglar?]\n",
    "\n",
    "El id del usuario se podría convertir a objecto ya que está en número y también es normal que haya valores ausentes en la columna \"churn\" pero lo ideal es ponerlo vacio ya que no hay ningun dato por lo otro en la informacion general nos muestra que solo 34 dejaron de usar la tarifa cuando fue extraida la base datos."
   ]
  },
  {
   "cell_type": "markdown",
   "metadata": {
    "id": "BX5FQh_I0q06"
   },
   "source": [
    "### Corregir los datos"
   ]
  },
  {
   "cell_type": "markdown",
   "metadata": {
    "id": "8OdKMwJv0q06"
   },
   "source": [
    "[Corrige los problemas obvios con los datos basándote en las observaciones iniciales.]"
   ]
  },
  {
   "cell_type": "code",
   "execution_count": 146,
   "metadata": {
    "id": "yUqX-K0C0q07"
   },
   "outputs": [
    {
     "data": {
      "text/html": [
       "<div>\n",
       "<style scoped>\n",
       "    .dataframe tbody tr th:only-of-type {\n",
       "        vertical-align: middle;\n",
       "    }\n",
       "\n",
       "    .dataframe tbody tr th {\n",
       "        vertical-align: top;\n",
       "    }\n",
       "\n",
       "    .dataframe thead th {\n",
       "        text-align: right;\n",
       "    }\n",
       "</style>\n",
       "<table border=\"1\" class=\"dataframe\">\n",
       "  <thead>\n",
       "    <tr style=\"text-align: right;\">\n",
       "      <th></th>\n",
       "      <th>user_id</th>\n",
       "      <th>first_name</th>\n",
       "      <th>last_name</th>\n",
       "      <th>age</th>\n",
       "      <th>city</th>\n",
       "      <th>reg_date</th>\n",
       "      <th>plan_id</th>\n",
       "      <th>churn_date</th>\n",
       "    </tr>\n",
       "  </thead>\n",
       "  <tbody>\n",
       "    <tr>\n",
       "      <th>0</th>\n",
       "      <td>1000</td>\n",
       "      <td>Anamaria</td>\n",
       "      <td>Bauer</td>\n",
       "      <td>45</td>\n",
       "      <td>Atlanta-Sandy Springs-Roswell, GA MSA</td>\n",
       "      <td>2018-12-24</td>\n",
       "      <td>ultimate</td>\n",
       "      <td>NaN</td>\n",
       "    </tr>\n",
       "    <tr>\n",
       "      <th>1</th>\n",
       "      <td>1001</td>\n",
       "      <td>Mickey</td>\n",
       "      <td>Wilkerson</td>\n",
       "      <td>28</td>\n",
       "      <td>Seattle-Tacoma-Bellevue, WA MSA</td>\n",
       "      <td>2018-08-13</td>\n",
       "      <td>surf</td>\n",
       "      <td>NaN</td>\n",
       "    </tr>\n",
       "    <tr>\n",
       "      <th>2</th>\n",
       "      <td>1002</td>\n",
       "      <td>Carlee</td>\n",
       "      <td>Hoffman</td>\n",
       "      <td>36</td>\n",
       "      <td>Las Vegas-Henderson-Paradise, NV MSA</td>\n",
       "      <td>2018-10-21</td>\n",
       "      <td>surf</td>\n",
       "      <td>NaN</td>\n",
       "    </tr>\n",
       "    <tr>\n",
       "      <th>3</th>\n",
       "      <td>1003</td>\n",
       "      <td>Reynaldo</td>\n",
       "      <td>Jenkins</td>\n",
       "      <td>52</td>\n",
       "      <td>Tulsa, OK MSA</td>\n",
       "      <td>2018-01-28</td>\n",
       "      <td>surf</td>\n",
       "      <td>NaN</td>\n",
       "    </tr>\n",
       "    <tr>\n",
       "      <th>4</th>\n",
       "      <td>1004</td>\n",
       "      <td>Leonila</td>\n",
       "      <td>Thompson</td>\n",
       "      <td>40</td>\n",
       "      <td>Seattle-Tacoma-Bellevue, WA MSA</td>\n",
       "      <td>2018-05-23</td>\n",
       "      <td>surf</td>\n",
       "      <td>NaN</td>\n",
       "    </tr>\n",
       "    <tr>\n",
       "      <th>...</th>\n",
       "      <td>...</td>\n",
       "      <td>...</td>\n",
       "      <td>...</td>\n",
       "      <td>...</td>\n",
       "      <td>...</td>\n",
       "      <td>...</td>\n",
       "      <td>...</td>\n",
       "      <td>...</td>\n",
       "    </tr>\n",
       "    <tr>\n",
       "      <th>495</th>\n",
       "      <td>1495</td>\n",
       "      <td>Fidel</td>\n",
       "      <td>Sharpe</td>\n",
       "      <td>67</td>\n",
       "      <td>New York-Newark-Jersey City, NY-NJ-PA MSA</td>\n",
       "      <td>2018-09-04</td>\n",
       "      <td>surf</td>\n",
       "      <td>NaN</td>\n",
       "    </tr>\n",
       "    <tr>\n",
       "      <th>496</th>\n",
       "      <td>1496</td>\n",
       "      <td>Ariel</td>\n",
       "      <td>Shepherd</td>\n",
       "      <td>49</td>\n",
       "      <td>New Orleans-Metairie, LA MSA</td>\n",
       "      <td>2018-02-20</td>\n",
       "      <td>surf</td>\n",
       "      <td>NaN</td>\n",
       "    </tr>\n",
       "    <tr>\n",
       "      <th>497</th>\n",
       "      <td>1497</td>\n",
       "      <td>Donte</td>\n",
       "      <td>Barrera</td>\n",
       "      <td>49</td>\n",
       "      <td>Los Angeles-Long Beach-Anaheim, CA MSA</td>\n",
       "      <td>2018-12-10</td>\n",
       "      <td>ultimate</td>\n",
       "      <td>NaN</td>\n",
       "    </tr>\n",
       "    <tr>\n",
       "      <th>498</th>\n",
       "      <td>1498</td>\n",
       "      <td>Scot</td>\n",
       "      <td>Williamson</td>\n",
       "      <td>51</td>\n",
       "      <td>New York-Newark-Jersey City, NY-NJ-PA MSA</td>\n",
       "      <td>2018-02-04</td>\n",
       "      <td>surf</td>\n",
       "      <td>NaN</td>\n",
       "    </tr>\n",
       "    <tr>\n",
       "      <th>499</th>\n",
       "      <td>1499</td>\n",
       "      <td>Shena</td>\n",
       "      <td>Dickson</td>\n",
       "      <td>37</td>\n",
       "      <td>Orlando-Kissimmee-Sanford, FL MSA</td>\n",
       "      <td>2018-05-06</td>\n",
       "      <td>surf</td>\n",
       "      <td>NaN</td>\n",
       "    </tr>\n",
       "  </tbody>\n",
       "</table>\n",
       "<p>500 rows × 8 columns</p>\n",
       "</div>"
      ],
      "text/plain": [
       "     user_id first_name   last_name  age  \\\n",
       "0       1000   Anamaria       Bauer   45   \n",
       "1       1001     Mickey   Wilkerson   28   \n",
       "2       1002     Carlee     Hoffman   36   \n",
       "3       1003   Reynaldo     Jenkins   52   \n",
       "4       1004    Leonila    Thompson   40   \n",
       "..       ...        ...         ...  ...   \n",
       "495     1495      Fidel      Sharpe   67   \n",
       "496     1496      Ariel    Shepherd   49   \n",
       "497     1497      Donte     Barrera   49   \n",
       "498     1498       Scot  Williamson   51   \n",
       "499     1499      Shena     Dickson   37   \n",
       "\n",
       "                                          city    reg_date   plan_id  \\\n",
       "0        Atlanta-Sandy Springs-Roswell, GA MSA  2018-12-24  ultimate   \n",
       "1              Seattle-Tacoma-Bellevue, WA MSA  2018-08-13      surf   \n",
       "2         Las Vegas-Henderson-Paradise, NV MSA  2018-10-21      surf   \n",
       "3                                Tulsa, OK MSA  2018-01-28      surf   \n",
       "4              Seattle-Tacoma-Bellevue, WA MSA  2018-05-23      surf   \n",
       "..                                         ...         ...       ...   \n",
       "495  New York-Newark-Jersey City, NY-NJ-PA MSA  2018-09-04      surf   \n",
       "496               New Orleans-Metairie, LA MSA  2018-02-20      surf   \n",
       "497     Los Angeles-Long Beach-Anaheim, CA MSA  2018-12-10  ultimate   \n",
       "498  New York-Newark-Jersey City, NY-NJ-PA MSA  2018-02-04      surf   \n",
       "499          Orlando-Kissimmee-Sanford, FL MSA  2018-05-06      surf   \n",
       "\n",
       "    churn_date  \n",
       "0          NaN  \n",
       "1          NaN  \n",
       "2          NaN  \n",
       "3          NaN  \n",
       "4          NaN  \n",
       "..         ...  \n",
       "495        NaN  \n",
       "496        NaN  \n",
       "497        NaN  \n",
       "498        NaN  \n",
       "499        NaN  \n",
       "\n",
       "[500 rows x 8 columns]"
      ]
     },
     "execution_count": 146,
     "metadata": {},
     "output_type": "execute_result"
    }
   ],
   "source": [
    "usuario=usuario.rename( columns={\"plan\":\"plan_id\"})# convertir el id de usuario a objecto ya que no se hara ninguna operacion\n",
    "usuario"
   ]
  },
  {
   "cell_type": "markdown",
   "metadata": {
    "id": "ycwuARJp0q07"
   },
   "source": [
    "### Enriquecer los datos"
   ]
  },
  {
   "cell_type": "markdown",
   "metadata": {
    "id": "96NIh4CJ0q08"
   },
   "source": [
    "[Agrega factores adicionales a los datos si crees que pudieran ser útiles.]"
   ]
  },
  {
   "cell_type": "code",
   "execution_count": 147,
   "metadata": {
    "id": "iq0AaBS90q08"
   },
   "outputs": [
    {
     "data": {
      "text/html": [
       "<div>\n",
       "<style scoped>\n",
       "    .dataframe tbody tr th:only-of-type {\n",
       "        vertical-align: middle;\n",
       "    }\n",
       "\n",
       "    .dataframe tbody tr th {\n",
       "        vertical-align: top;\n",
       "    }\n",
       "\n",
       "    .dataframe thead th {\n",
       "        text-align: right;\n",
       "    }\n",
       "</style>\n",
       "<table border=\"1\" class=\"dataframe\">\n",
       "  <thead>\n",
       "    <tr style=\"text-align: right;\">\n",
       "      <th></th>\n",
       "      <th>user_id</th>\n",
       "      <th>first_name</th>\n",
       "      <th>last_name</th>\n",
       "      <th>age</th>\n",
       "      <th>city</th>\n",
       "      <th>reg_date</th>\n",
       "      <th>plan_id</th>\n",
       "      <th>churn_date</th>\n",
       "    </tr>\n",
       "  </thead>\n",
       "  <tbody>\n",
       "    <tr>\n",
       "      <th>0</th>\n",
       "      <td>1000</td>\n",
       "      <td>Anamaria</td>\n",
       "      <td>Bauer</td>\n",
       "      <td>45</td>\n",
       "      <td>Atlanta-Sandy Springs-Roswell, GA MSA</td>\n",
       "      <td>2018-12-24</td>\n",
       "      <td>ultimate</td>\n",
       "      <td></td>\n",
       "    </tr>\n",
       "    <tr>\n",
       "      <th>1</th>\n",
       "      <td>1001</td>\n",
       "      <td>Mickey</td>\n",
       "      <td>Wilkerson</td>\n",
       "      <td>28</td>\n",
       "      <td>Seattle-Tacoma-Bellevue, WA MSA</td>\n",
       "      <td>2018-08-13</td>\n",
       "      <td>surf</td>\n",
       "      <td></td>\n",
       "    </tr>\n",
       "    <tr>\n",
       "      <th>2</th>\n",
       "      <td>1002</td>\n",
       "      <td>Carlee</td>\n",
       "      <td>Hoffman</td>\n",
       "      <td>36</td>\n",
       "      <td>Las Vegas-Henderson-Paradise, NV MSA</td>\n",
       "      <td>2018-10-21</td>\n",
       "      <td>surf</td>\n",
       "      <td></td>\n",
       "    </tr>\n",
       "    <tr>\n",
       "      <th>3</th>\n",
       "      <td>1003</td>\n",
       "      <td>Reynaldo</td>\n",
       "      <td>Jenkins</td>\n",
       "      <td>52</td>\n",
       "      <td>Tulsa, OK MSA</td>\n",
       "      <td>2018-01-28</td>\n",
       "      <td>surf</td>\n",
       "      <td></td>\n",
       "    </tr>\n",
       "    <tr>\n",
       "      <th>4</th>\n",
       "      <td>1004</td>\n",
       "      <td>Leonila</td>\n",
       "      <td>Thompson</td>\n",
       "      <td>40</td>\n",
       "      <td>Seattle-Tacoma-Bellevue, WA MSA</td>\n",
       "      <td>2018-05-23</td>\n",
       "      <td>surf</td>\n",
       "      <td></td>\n",
       "    </tr>\n",
       "    <tr>\n",
       "      <th>...</th>\n",
       "      <td>...</td>\n",
       "      <td>...</td>\n",
       "      <td>...</td>\n",
       "      <td>...</td>\n",
       "      <td>...</td>\n",
       "      <td>...</td>\n",
       "      <td>...</td>\n",
       "      <td>...</td>\n",
       "    </tr>\n",
       "    <tr>\n",
       "      <th>495</th>\n",
       "      <td>1495</td>\n",
       "      <td>Fidel</td>\n",
       "      <td>Sharpe</td>\n",
       "      <td>67</td>\n",
       "      <td>New York-Newark-Jersey City, NY-NJ-PA MSA</td>\n",
       "      <td>2018-09-04</td>\n",
       "      <td>surf</td>\n",
       "      <td></td>\n",
       "    </tr>\n",
       "    <tr>\n",
       "      <th>496</th>\n",
       "      <td>1496</td>\n",
       "      <td>Ariel</td>\n",
       "      <td>Shepherd</td>\n",
       "      <td>49</td>\n",
       "      <td>New Orleans-Metairie, LA MSA</td>\n",
       "      <td>2018-02-20</td>\n",
       "      <td>surf</td>\n",
       "      <td></td>\n",
       "    </tr>\n",
       "    <tr>\n",
       "      <th>497</th>\n",
       "      <td>1497</td>\n",
       "      <td>Donte</td>\n",
       "      <td>Barrera</td>\n",
       "      <td>49</td>\n",
       "      <td>Los Angeles-Long Beach-Anaheim, CA MSA</td>\n",
       "      <td>2018-12-10</td>\n",
       "      <td>ultimate</td>\n",
       "      <td></td>\n",
       "    </tr>\n",
       "    <tr>\n",
       "      <th>498</th>\n",
       "      <td>1498</td>\n",
       "      <td>Scot</td>\n",
       "      <td>Williamson</td>\n",
       "      <td>51</td>\n",
       "      <td>New York-Newark-Jersey City, NY-NJ-PA MSA</td>\n",
       "      <td>2018-02-04</td>\n",
       "      <td>surf</td>\n",
       "      <td></td>\n",
       "    </tr>\n",
       "    <tr>\n",
       "      <th>499</th>\n",
       "      <td>1499</td>\n",
       "      <td>Shena</td>\n",
       "      <td>Dickson</td>\n",
       "      <td>37</td>\n",
       "      <td>Orlando-Kissimmee-Sanford, FL MSA</td>\n",
       "      <td>2018-05-06</td>\n",
       "      <td>surf</td>\n",
       "      <td></td>\n",
       "    </tr>\n",
       "  </tbody>\n",
       "</table>\n",
       "<p>500 rows × 8 columns</p>\n",
       "</div>"
      ],
      "text/plain": [
       "     user_id first_name   last_name  age  \\\n",
       "0       1000   Anamaria       Bauer   45   \n",
       "1       1001     Mickey   Wilkerson   28   \n",
       "2       1002     Carlee     Hoffman   36   \n",
       "3       1003   Reynaldo     Jenkins   52   \n",
       "4       1004    Leonila    Thompson   40   \n",
       "..       ...        ...         ...  ...   \n",
       "495     1495      Fidel      Sharpe   67   \n",
       "496     1496      Ariel    Shepherd   49   \n",
       "497     1497      Donte     Barrera   49   \n",
       "498     1498       Scot  Williamson   51   \n",
       "499     1499      Shena     Dickson   37   \n",
       "\n",
       "                                          city    reg_date   plan_id  \\\n",
       "0        Atlanta-Sandy Springs-Roswell, GA MSA  2018-12-24  ultimate   \n",
       "1              Seattle-Tacoma-Bellevue, WA MSA  2018-08-13      surf   \n",
       "2         Las Vegas-Henderson-Paradise, NV MSA  2018-10-21      surf   \n",
       "3                                Tulsa, OK MSA  2018-01-28      surf   \n",
       "4              Seattle-Tacoma-Bellevue, WA MSA  2018-05-23      surf   \n",
       "..                                         ...         ...       ...   \n",
       "495  New York-Newark-Jersey City, NY-NJ-PA MSA  2018-09-04      surf   \n",
       "496               New Orleans-Metairie, LA MSA  2018-02-20      surf   \n",
       "497     Los Angeles-Long Beach-Anaheim, CA MSA  2018-12-10  ultimate   \n",
       "498  New York-Newark-Jersey City, NY-NJ-PA MSA  2018-02-04      surf   \n",
       "499          Orlando-Kissimmee-Sanford, FL MSA  2018-05-06      surf   \n",
       "\n",
       "    churn_date  \n",
       "0               \n",
       "1               \n",
       "2               \n",
       "3               \n",
       "4               \n",
       "..         ...  \n",
       "495             \n",
       "496             \n",
       "497             \n",
       "498             \n",
       "499             \n",
       "\n",
       "[500 rows x 8 columns]"
      ]
     },
     "execution_count": 147,
     "metadata": {},
     "output_type": "execute_result"
    }
   ],
   "source": [
    "usuario[\"churn_date\"].fillna(\"\",inplace=True)\n",
    "usuario"
   ]
  },
  {
   "cell_type": "markdown",
   "metadata": {
    "id": "o7MeKCid0q08"
   },
   "source": [
    "## Llamadas"
   ]
  },
  {
   "cell_type": "code",
   "execution_count": 148,
   "metadata": {
    "id": "6dDlnoDm0q08"
   },
   "outputs": [
    {
     "name": "stdout",
     "output_type": "stream",
     "text": [
      "<class 'pandas.core.frame.DataFrame'>\n",
      "RangeIndex: 137735 entries, 0 to 137734\n",
      "Data columns (total 4 columns):\n",
      " #   Column     Non-Null Count   Dtype  \n",
      "---  ------     --------------   -----  \n",
      " 0   id         137735 non-null  object \n",
      " 1   user_id    137735 non-null  int64  \n",
      " 2   call_date  137735 non-null  object \n",
      " 3   duration   137735 non-null  float64\n",
      "dtypes: float64(1), int64(1), object(2)\n",
      "memory usage: 4.2+ MB\n"
     ]
    }
   ],
   "source": [
    "# Imprime la información general/resumida sobre el DataFrame de las llamadas\n",
    "llamadas.info()\n"
   ]
  },
  {
   "cell_type": "code",
   "execution_count": 149,
   "metadata": {
    "id": "kuh1vlNB0q09"
   },
   "outputs": [
    {
     "data": {
      "text/html": [
       "<div>\n",
       "<style scoped>\n",
       "    .dataframe tbody tr th:only-of-type {\n",
       "        vertical-align: middle;\n",
       "    }\n",
       "\n",
       "    .dataframe tbody tr th {\n",
       "        vertical-align: top;\n",
       "    }\n",
       "\n",
       "    .dataframe thead th {\n",
       "        text-align: right;\n",
       "    }\n",
       "</style>\n",
       "<table border=\"1\" class=\"dataframe\">\n",
       "  <thead>\n",
       "    <tr style=\"text-align: right;\">\n",
       "      <th></th>\n",
       "      <th>id</th>\n",
       "      <th>user_id</th>\n",
       "      <th>call_date</th>\n",
       "      <th>duration</th>\n",
       "    </tr>\n",
       "  </thead>\n",
       "  <tbody>\n",
       "    <tr>\n",
       "      <th>0</th>\n",
       "      <td>1000_93</td>\n",
       "      <td>1000</td>\n",
       "      <td>2018-12-27</td>\n",
       "      <td>8.52</td>\n",
       "    </tr>\n",
       "    <tr>\n",
       "      <th>1</th>\n",
       "      <td>1000_145</td>\n",
       "      <td>1000</td>\n",
       "      <td>2018-12-27</td>\n",
       "      <td>13.66</td>\n",
       "    </tr>\n",
       "    <tr>\n",
       "      <th>2</th>\n",
       "      <td>1000_247</td>\n",
       "      <td>1000</td>\n",
       "      <td>2018-12-27</td>\n",
       "      <td>14.48</td>\n",
       "    </tr>\n",
       "    <tr>\n",
       "      <th>3</th>\n",
       "      <td>1000_309</td>\n",
       "      <td>1000</td>\n",
       "      <td>2018-12-28</td>\n",
       "      <td>5.76</td>\n",
       "    </tr>\n",
       "    <tr>\n",
       "      <th>4</th>\n",
       "      <td>1000_380</td>\n",
       "      <td>1000</td>\n",
       "      <td>2018-12-30</td>\n",
       "      <td>4.22</td>\n",
       "    </tr>\n",
       "    <tr>\n",
       "      <th>...</th>\n",
       "      <td>...</td>\n",
       "      <td>...</td>\n",
       "      <td>...</td>\n",
       "      <td>...</td>\n",
       "    </tr>\n",
       "    <tr>\n",
       "      <th>137730</th>\n",
       "      <td>1499_199</td>\n",
       "      <td>1499</td>\n",
       "      <td>2018-11-21</td>\n",
       "      <td>8.72</td>\n",
       "    </tr>\n",
       "    <tr>\n",
       "      <th>137731</th>\n",
       "      <td>1499_200</td>\n",
       "      <td>1499</td>\n",
       "      <td>2018-10-20</td>\n",
       "      <td>10.89</td>\n",
       "    </tr>\n",
       "    <tr>\n",
       "      <th>137732</th>\n",
       "      <td>1499_201</td>\n",
       "      <td>1499</td>\n",
       "      <td>2018-09-21</td>\n",
       "      <td>8.12</td>\n",
       "    </tr>\n",
       "    <tr>\n",
       "      <th>137733</th>\n",
       "      <td>1499_202</td>\n",
       "      <td>1499</td>\n",
       "      <td>2018-10-10</td>\n",
       "      <td>0.37</td>\n",
       "    </tr>\n",
       "    <tr>\n",
       "      <th>137734</th>\n",
       "      <td>1499_203</td>\n",
       "      <td>1499</td>\n",
       "      <td>2018-12-29</td>\n",
       "      <td>13.86</td>\n",
       "    </tr>\n",
       "  </tbody>\n",
       "</table>\n",
       "<p>137735 rows × 4 columns</p>\n",
       "</div>"
      ],
      "text/plain": [
       "              id  user_id   call_date  duration\n",
       "0        1000_93     1000  2018-12-27      8.52\n",
       "1       1000_145     1000  2018-12-27     13.66\n",
       "2       1000_247     1000  2018-12-27     14.48\n",
       "3       1000_309     1000  2018-12-28      5.76\n",
       "4       1000_380     1000  2018-12-30      4.22\n",
       "...          ...      ...         ...       ...\n",
       "137730  1499_199     1499  2018-11-21      8.72\n",
       "137731  1499_200     1499  2018-10-20     10.89\n",
       "137732  1499_201     1499  2018-09-21      8.12\n",
       "137733  1499_202     1499  2018-10-10      0.37\n",
       "137734  1499_203     1499  2018-12-29     13.86\n",
       "\n",
       "[137735 rows x 4 columns]"
      ]
     },
     "execution_count": 149,
     "metadata": {},
     "output_type": "execute_result"
    }
   ],
   "source": [
    "llamadas# Imprime una muestra de datos para las llamadas\n",
    "\n"
   ]
  },
  {
   "cell_type": "markdown",
   "metadata": {
    "id": "DOAxYJSx0q09"
   },
   "source": [
    "[Describe lo que ves y observas en la información general y en la muestra de datos impresa para el precio de datos anterior. ¿Hay algún problema (tipos de datos no adecuados, datos ausentes, etc.) que pudieran necesitar investigación y cambios adicionales? ¿Cómo se puede arreglar?]\n",
    "\n",
    "Vemos que el id de usuario esta en enteros por el cual se convertira en objecto y la duracion de llamadas esta en minutos pero en decimales por el cual se debe redondear y considerarse los minutos enteros."
   ]
  },
  {
   "cell_type": "markdown",
   "metadata": {
    "id": "S7hzxmbX0q0-"
   },
   "source": [
    "### Corregir los datos"
   ]
  },
  {
   "cell_type": "markdown",
   "metadata": {
    "id": "YxWyAjD20q0-"
   },
   "source": [
    "[Corrige los problemas obvios con los datos basándote en las observaciones iniciales.]"
   ]
  },
  {
   "cell_type": "code",
   "execution_count": 150,
   "metadata": {
    "id": "S2r8xA4f0q0-"
   },
   "outputs": [
    {
     "data": {
      "text/html": [
       "<div>\n",
       "<style scoped>\n",
       "    .dataframe tbody tr th:only-of-type {\n",
       "        vertical-align: middle;\n",
       "    }\n",
       "\n",
       "    .dataframe tbody tr th {\n",
       "        vertical-align: top;\n",
       "    }\n",
       "\n",
       "    .dataframe thead th {\n",
       "        text-align: right;\n",
       "    }\n",
       "</style>\n",
       "<table border=\"1\" class=\"dataframe\">\n",
       "  <thead>\n",
       "    <tr style=\"text-align: right;\">\n",
       "      <th></th>\n",
       "      <th>id</th>\n",
       "      <th>user_id</th>\n",
       "      <th>call_date</th>\n",
       "      <th>duration</th>\n",
       "    </tr>\n",
       "  </thead>\n",
       "  <tbody>\n",
       "    <tr>\n",
       "      <th>0</th>\n",
       "      <td>1000_93</td>\n",
       "      <td>1000</td>\n",
       "      <td>2018-12-27</td>\n",
       "      <td>9</td>\n",
       "    </tr>\n",
       "    <tr>\n",
       "      <th>1</th>\n",
       "      <td>1000_145</td>\n",
       "      <td>1000</td>\n",
       "      <td>2018-12-27</td>\n",
       "      <td>14</td>\n",
       "    </tr>\n",
       "    <tr>\n",
       "      <th>2</th>\n",
       "      <td>1000_247</td>\n",
       "      <td>1000</td>\n",
       "      <td>2018-12-27</td>\n",
       "      <td>15</td>\n",
       "    </tr>\n",
       "    <tr>\n",
       "      <th>3</th>\n",
       "      <td>1000_309</td>\n",
       "      <td>1000</td>\n",
       "      <td>2018-12-28</td>\n",
       "      <td>6</td>\n",
       "    </tr>\n",
       "    <tr>\n",
       "      <th>4</th>\n",
       "      <td>1000_380</td>\n",
       "      <td>1000</td>\n",
       "      <td>2018-12-30</td>\n",
       "      <td>5</td>\n",
       "    </tr>\n",
       "    <tr>\n",
       "      <th>...</th>\n",
       "      <td>...</td>\n",
       "      <td>...</td>\n",
       "      <td>...</td>\n",
       "      <td>...</td>\n",
       "    </tr>\n",
       "    <tr>\n",
       "      <th>137730</th>\n",
       "      <td>1499_199</td>\n",
       "      <td>1499</td>\n",
       "      <td>2018-11-21</td>\n",
       "      <td>9</td>\n",
       "    </tr>\n",
       "    <tr>\n",
       "      <th>137731</th>\n",
       "      <td>1499_200</td>\n",
       "      <td>1499</td>\n",
       "      <td>2018-10-20</td>\n",
       "      <td>11</td>\n",
       "    </tr>\n",
       "    <tr>\n",
       "      <th>137732</th>\n",
       "      <td>1499_201</td>\n",
       "      <td>1499</td>\n",
       "      <td>2018-09-21</td>\n",
       "      <td>9</td>\n",
       "    </tr>\n",
       "    <tr>\n",
       "      <th>137733</th>\n",
       "      <td>1499_202</td>\n",
       "      <td>1499</td>\n",
       "      <td>2018-10-10</td>\n",
       "      <td>1</td>\n",
       "    </tr>\n",
       "    <tr>\n",
       "      <th>137734</th>\n",
       "      <td>1499_203</td>\n",
       "      <td>1499</td>\n",
       "      <td>2018-12-29</td>\n",
       "      <td>14</td>\n",
       "    </tr>\n",
       "  </tbody>\n",
       "</table>\n",
       "<p>137735 rows × 4 columns</p>\n",
       "</div>"
      ],
      "text/plain": [
       "              id  user_id   call_date  duration\n",
       "0        1000_93     1000  2018-12-27         9\n",
       "1       1000_145     1000  2018-12-27        14\n",
       "2       1000_247     1000  2018-12-27        15\n",
       "3       1000_309     1000  2018-12-28         6\n",
       "4       1000_380     1000  2018-12-30         5\n",
       "...          ...      ...         ...       ...\n",
       "137730  1499_199     1499  2018-11-21         9\n",
       "137731  1499_200     1499  2018-10-20        11\n",
       "137732  1499_201     1499  2018-09-21         9\n",
       "137733  1499_202     1499  2018-10-10         1\n",
       "137734  1499_203     1499  2018-12-29        14\n",
       "\n",
       "[137735 rows x 4 columns]"
      ]
     },
     "execution_count": 150,
     "metadata": {},
     "output_type": "execute_result"
    }
   ],
   "source": [
    "llamadas[\"duration\"]=np.ceil(llamadas[\"duration\"]).astype(int) # redondear los minutos a enteros al valor maximo segun la indicacion\n",
    "llamadas"
   ]
  },
  {
   "cell_type": "markdown",
   "metadata": {
    "id": "KrMgTrlG0q0_"
   },
   "source": [
    "### Enriquecer los datos"
   ]
  },
  {
   "cell_type": "markdown",
   "metadata": {
    "id": "a9MbmEvE0q0_"
   },
   "source": [
    "[Agrega factores adicionales a los datos si crees que pudieran ser útiles.]"
   ]
  },
  {
   "cell_type": "code",
   "execution_count": 151,
   "metadata": {
    "id": "iZ1avpA_0q0_",
    "scrolled": true
   },
   "outputs": [
    {
     "name": "stdout",
     "output_type": "stream",
     "text": [
      "<class 'pandas.core.frame.DataFrame'>\n",
      "RangeIndex: 137735 entries, 0 to 137734\n",
      "Data columns (total 4 columns):\n",
      " #   Column     Non-Null Count   Dtype         \n",
      "---  ------     --------------   -----         \n",
      " 0   id         137735 non-null  object        \n",
      " 1   user_id    137735 non-null  int64         \n",
      " 2   call_date  137735 non-null  datetime64[ns]\n",
      " 3   duration   137735 non-null  int64         \n",
      "dtypes: datetime64[ns](1), int64(2), object(1)\n",
      "memory usage: 4.2+ MB\n"
     ]
    }
   ],
   "source": [
    "llamadas[\"call_date\"]=pd.to_datetime(llamadas[\"call_date\"],format='%Y-%m-%d' ) # cambiar a fecha la columna con datos de fecha \n",
    "llamadas.info()"
   ]
  },
  {
   "cell_type": "code",
   "execution_count": 152,
   "metadata": {},
   "outputs": [
    {
     "data": {
      "text/html": [
       "<div>\n",
       "<style scoped>\n",
       "    .dataframe tbody tr th:only-of-type {\n",
       "        vertical-align: middle;\n",
       "    }\n",
       "\n",
       "    .dataframe tbody tr th {\n",
       "        vertical-align: top;\n",
       "    }\n",
       "\n",
       "    .dataframe thead th {\n",
       "        text-align: right;\n",
       "    }\n",
       "</style>\n",
       "<table border=\"1\" class=\"dataframe\">\n",
       "  <thead>\n",
       "    <tr style=\"text-align: right;\">\n",
       "      <th></th>\n",
       "      <th>id</th>\n",
       "      <th>user_id</th>\n",
       "      <th>call_date</th>\n",
       "      <th>duration</th>\n",
       "      <th>mes</th>\n",
       "    </tr>\n",
       "  </thead>\n",
       "  <tbody>\n",
       "    <tr>\n",
       "      <th>0</th>\n",
       "      <td>1000_93</td>\n",
       "      <td>1000</td>\n",
       "      <td>2018-12-27</td>\n",
       "      <td>9</td>\n",
       "      <td>12</td>\n",
       "    </tr>\n",
       "    <tr>\n",
       "      <th>1</th>\n",
       "      <td>1000_145</td>\n",
       "      <td>1000</td>\n",
       "      <td>2018-12-27</td>\n",
       "      <td>14</td>\n",
       "      <td>12</td>\n",
       "    </tr>\n",
       "    <tr>\n",
       "      <th>2</th>\n",
       "      <td>1000_247</td>\n",
       "      <td>1000</td>\n",
       "      <td>2018-12-27</td>\n",
       "      <td>15</td>\n",
       "      <td>12</td>\n",
       "    </tr>\n",
       "    <tr>\n",
       "      <th>3</th>\n",
       "      <td>1000_309</td>\n",
       "      <td>1000</td>\n",
       "      <td>2018-12-28</td>\n",
       "      <td>6</td>\n",
       "      <td>12</td>\n",
       "    </tr>\n",
       "    <tr>\n",
       "      <th>4</th>\n",
       "      <td>1000_380</td>\n",
       "      <td>1000</td>\n",
       "      <td>2018-12-30</td>\n",
       "      <td>5</td>\n",
       "      <td>12</td>\n",
       "    </tr>\n",
       "    <tr>\n",
       "      <th>...</th>\n",
       "      <td>...</td>\n",
       "      <td>...</td>\n",
       "      <td>...</td>\n",
       "      <td>...</td>\n",
       "      <td>...</td>\n",
       "    </tr>\n",
       "    <tr>\n",
       "      <th>137730</th>\n",
       "      <td>1499_199</td>\n",
       "      <td>1499</td>\n",
       "      <td>2018-11-21</td>\n",
       "      <td>9</td>\n",
       "      <td>11</td>\n",
       "    </tr>\n",
       "    <tr>\n",
       "      <th>137731</th>\n",
       "      <td>1499_200</td>\n",
       "      <td>1499</td>\n",
       "      <td>2018-10-20</td>\n",
       "      <td>11</td>\n",
       "      <td>10</td>\n",
       "    </tr>\n",
       "    <tr>\n",
       "      <th>137732</th>\n",
       "      <td>1499_201</td>\n",
       "      <td>1499</td>\n",
       "      <td>2018-09-21</td>\n",
       "      <td>9</td>\n",
       "      <td>9</td>\n",
       "    </tr>\n",
       "    <tr>\n",
       "      <th>137733</th>\n",
       "      <td>1499_202</td>\n",
       "      <td>1499</td>\n",
       "      <td>2018-10-10</td>\n",
       "      <td>1</td>\n",
       "      <td>10</td>\n",
       "    </tr>\n",
       "    <tr>\n",
       "      <th>137734</th>\n",
       "      <td>1499_203</td>\n",
       "      <td>1499</td>\n",
       "      <td>2018-12-29</td>\n",
       "      <td>14</td>\n",
       "      <td>12</td>\n",
       "    </tr>\n",
       "  </tbody>\n",
       "</table>\n",
       "<p>137735 rows × 5 columns</p>\n",
       "</div>"
      ],
      "text/plain": [
       "              id  user_id  call_date  duration  mes\n",
       "0        1000_93     1000 2018-12-27         9   12\n",
       "1       1000_145     1000 2018-12-27        14   12\n",
       "2       1000_247     1000 2018-12-27        15   12\n",
       "3       1000_309     1000 2018-12-28         6   12\n",
       "4       1000_380     1000 2018-12-30         5   12\n",
       "...          ...      ...        ...       ...  ...\n",
       "137730  1499_199     1499 2018-11-21         9   11\n",
       "137731  1499_200     1499 2018-10-20        11   10\n",
       "137732  1499_201     1499 2018-09-21         9    9\n",
       "137733  1499_202     1499 2018-10-10         1   10\n",
       "137734  1499_203     1499 2018-12-29        14   12\n",
       "\n",
       "[137735 rows x 5 columns]"
      ]
     },
     "execution_count": 152,
     "metadata": {},
     "output_type": "execute_result"
    }
   ],
   "source": [
    "llamadas[\"mes\"]=pd.DatetimeIndex(llamadas[\"call_date\"]).month # de la columna de dato fecha sacar el indice del mes para crear otra columna porque se utilizará\n",
    "llamadas"
   ]
  },
  {
   "cell_type": "markdown",
   "metadata": {
    "id": "mOUZSi180q0_"
   },
   "source": [
    "## Mensajes"
   ]
  },
  {
   "cell_type": "code",
   "execution_count": 153,
   "metadata": {
    "id": "R-bYJpdV0q1A"
   },
   "outputs": [
    {
     "name": "stdout",
     "output_type": "stream",
     "text": [
      "<class 'pandas.core.frame.DataFrame'>\n",
      "RangeIndex: 76051 entries, 0 to 76050\n",
      "Data columns (total 3 columns):\n",
      " #   Column        Non-Null Count  Dtype \n",
      "---  ------        --------------  ----- \n",
      " 0   id            76051 non-null  object\n",
      " 1   user_id       76051 non-null  int64 \n",
      " 2   message_date  76051 non-null  object\n",
      "dtypes: int64(1), object(2)\n",
      "memory usage: 1.7+ MB\n"
     ]
    }
   ],
   "source": [
    "mensajes.info()# Imprime la información general/resumida sobre el DataFrame de los mensajes\n",
    "\n"
   ]
  },
  {
   "cell_type": "code",
   "execution_count": 154,
   "metadata": {
    "id": "mCEl2iGE0q1A"
   },
   "outputs": [
    {
     "data": {
      "text/html": [
       "<div>\n",
       "<style scoped>\n",
       "    .dataframe tbody tr th:only-of-type {\n",
       "        vertical-align: middle;\n",
       "    }\n",
       "\n",
       "    .dataframe tbody tr th {\n",
       "        vertical-align: top;\n",
       "    }\n",
       "\n",
       "    .dataframe thead th {\n",
       "        text-align: right;\n",
       "    }\n",
       "</style>\n",
       "<table border=\"1\" class=\"dataframe\">\n",
       "  <thead>\n",
       "    <tr style=\"text-align: right;\">\n",
       "      <th></th>\n",
       "      <th>id</th>\n",
       "      <th>user_id</th>\n",
       "      <th>message_date</th>\n",
       "    </tr>\n",
       "  </thead>\n",
       "  <tbody>\n",
       "    <tr>\n",
       "      <th>0</th>\n",
       "      <td>1000_125</td>\n",
       "      <td>1000</td>\n",
       "      <td>2018-12-27</td>\n",
       "    </tr>\n",
       "    <tr>\n",
       "      <th>1</th>\n",
       "      <td>1000_160</td>\n",
       "      <td>1000</td>\n",
       "      <td>2018-12-31</td>\n",
       "    </tr>\n",
       "    <tr>\n",
       "      <th>2</th>\n",
       "      <td>1000_223</td>\n",
       "      <td>1000</td>\n",
       "      <td>2018-12-31</td>\n",
       "    </tr>\n",
       "    <tr>\n",
       "      <th>3</th>\n",
       "      <td>1000_251</td>\n",
       "      <td>1000</td>\n",
       "      <td>2018-12-27</td>\n",
       "    </tr>\n",
       "    <tr>\n",
       "      <th>4</th>\n",
       "      <td>1000_255</td>\n",
       "      <td>1000</td>\n",
       "      <td>2018-12-26</td>\n",
       "    </tr>\n",
       "    <tr>\n",
       "      <th>...</th>\n",
       "      <td>...</td>\n",
       "      <td>...</td>\n",
       "      <td>...</td>\n",
       "    </tr>\n",
       "    <tr>\n",
       "      <th>76046</th>\n",
       "      <td>1497_526</td>\n",
       "      <td>1497</td>\n",
       "      <td>2018-12-24</td>\n",
       "    </tr>\n",
       "    <tr>\n",
       "      <th>76047</th>\n",
       "      <td>1497_536</td>\n",
       "      <td>1497</td>\n",
       "      <td>2018-12-24</td>\n",
       "    </tr>\n",
       "    <tr>\n",
       "      <th>76048</th>\n",
       "      <td>1497_547</td>\n",
       "      <td>1497</td>\n",
       "      <td>2018-12-31</td>\n",
       "    </tr>\n",
       "    <tr>\n",
       "      <th>76049</th>\n",
       "      <td>1497_558</td>\n",
       "      <td>1497</td>\n",
       "      <td>2018-12-24</td>\n",
       "    </tr>\n",
       "    <tr>\n",
       "      <th>76050</th>\n",
       "      <td>1497_613</td>\n",
       "      <td>1497</td>\n",
       "      <td>2018-12-23</td>\n",
       "    </tr>\n",
       "  </tbody>\n",
       "</table>\n",
       "<p>76051 rows × 3 columns</p>\n",
       "</div>"
      ],
      "text/plain": [
       "             id  user_id message_date\n",
       "0      1000_125     1000   2018-12-27\n",
       "1      1000_160     1000   2018-12-31\n",
       "2      1000_223     1000   2018-12-31\n",
       "3      1000_251     1000   2018-12-27\n",
       "4      1000_255     1000   2018-12-26\n",
       "...         ...      ...          ...\n",
       "76046  1497_526     1497   2018-12-24\n",
       "76047  1497_536     1497   2018-12-24\n",
       "76048  1497_547     1497   2018-12-31\n",
       "76049  1497_558     1497   2018-12-24\n",
       "76050  1497_613     1497   2018-12-23\n",
       "\n",
       "[76051 rows x 3 columns]"
      ]
     },
     "execution_count": 154,
     "metadata": {},
     "output_type": "execute_result"
    }
   ],
   "source": [
    "mensajes# Imprime una muestra de datos para los mensajes\n",
    "\n"
   ]
  },
  {
   "cell_type": "markdown",
   "metadata": {
    "id": "04xDj7KH0q1A"
   },
   "source": [
    "[Describe lo que ves y observas en la información general y en la muestra de datos impresa para el precio de datos anterior. ¿Hay algún problema (tipos de datos no adecuados, datos ausentes, etc.) que pudieran necesitar investigación y cambios adicionales? ¿Cómo se puede arreglar?]\n",
    "\n",
    "Que la fecha no esta a objecto y no a dato de fecha"
   ]
  },
  {
   "cell_type": "markdown",
   "metadata": {
    "id": "Sprfak900q1B"
   },
   "source": [
    "### Corregir los datos"
   ]
  },
  {
   "cell_type": "markdown",
   "metadata": {
    "id": "eGw7d9j10q1B"
   },
   "source": [
    "[Corrige los problemas obvios con los datos basándote en las observaciones iniciales.]"
   ]
  },
  {
   "cell_type": "code",
   "execution_count": 155,
   "metadata": {
    "id": "vsllvkoa0q1B"
   },
   "outputs": [
    {
     "name": "stdout",
     "output_type": "stream",
     "text": [
      "<class 'pandas.core.frame.DataFrame'>\n",
      "RangeIndex: 76051 entries, 0 to 76050\n",
      "Data columns (total 3 columns):\n",
      " #   Column        Non-Null Count  Dtype         \n",
      "---  ------        --------------  -----         \n",
      " 0   id            76051 non-null  object        \n",
      " 1   user_id       76051 non-null  int64         \n",
      " 2   message_date  76051 non-null  datetime64[ns]\n",
      "dtypes: datetime64[ns](1), int64(1), object(1)\n",
      "memory usage: 1.7+ MB\n"
     ]
    }
   ],
   "source": [
    "mensajes[\"message_date\"]=pd.to_datetime(mensajes[\"message_date\"],format='%Y-%m-%d')# covertir a columna fecha\n",
    "mensajes.info()"
   ]
  },
  {
   "cell_type": "markdown",
   "metadata": {
    "id": "HvLid7iD0q1B"
   },
   "source": [
    "### Enriquecer los datos"
   ]
  },
  {
   "cell_type": "markdown",
   "metadata": {
    "id": "8nhPFKIe0q1C"
   },
   "source": [
    "[Agrega factores adicionales a los datos si crees que pudieran ser útiles.]"
   ]
  },
  {
   "cell_type": "code",
   "execution_count": 156,
   "metadata": {
    "id": "zYEXZac10q1C"
   },
   "outputs": [
    {
     "data": {
      "text/html": [
       "<div>\n",
       "<style scoped>\n",
       "    .dataframe tbody tr th:only-of-type {\n",
       "        vertical-align: middle;\n",
       "    }\n",
       "\n",
       "    .dataframe tbody tr th {\n",
       "        vertical-align: top;\n",
       "    }\n",
       "\n",
       "    .dataframe thead th {\n",
       "        text-align: right;\n",
       "    }\n",
       "</style>\n",
       "<table border=\"1\" class=\"dataframe\">\n",
       "  <thead>\n",
       "    <tr style=\"text-align: right;\">\n",
       "      <th></th>\n",
       "      <th>id</th>\n",
       "      <th>user_id</th>\n",
       "      <th>message_date</th>\n",
       "      <th>mes</th>\n",
       "    </tr>\n",
       "  </thead>\n",
       "  <tbody>\n",
       "    <tr>\n",
       "      <th>0</th>\n",
       "      <td>1000_125</td>\n",
       "      <td>1000</td>\n",
       "      <td>2018-12-27</td>\n",
       "      <td>12</td>\n",
       "    </tr>\n",
       "    <tr>\n",
       "      <th>1</th>\n",
       "      <td>1000_160</td>\n",
       "      <td>1000</td>\n",
       "      <td>2018-12-31</td>\n",
       "      <td>12</td>\n",
       "    </tr>\n",
       "    <tr>\n",
       "      <th>2</th>\n",
       "      <td>1000_223</td>\n",
       "      <td>1000</td>\n",
       "      <td>2018-12-31</td>\n",
       "      <td>12</td>\n",
       "    </tr>\n",
       "    <tr>\n",
       "      <th>3</th>\n",
       "      <td>1000_251</td>\n",
       "      <td>1000</td>\n",
       "      <td>2018-12-27</td>\n",
       "      <td>12</td>\n",
       "    </tr>\n",
       "    <tr>\n",
       "      <th>4</th>\n",
       "      <td>1000_255</td>\n",
       "      <td>1000</td>\n",
       "      <td>2018-12-26</td>\n",
       "      <td>12</td>\n",
       "    </tr>\n",
       "    <tr>\n",
       "      <th>...</th>\n",
       "      <td>...</td>\n",
       "      <td>...</td>\n",
       "      <td>...</td>\n",
       "      <td>...</td>\n",
       "    </tr>\n",
       "    <tr>\n",
       "      <th>76046</th>\n",
       "      <td>1497_526</td>\n",
       "      <td>1497</td>\n",
       "      <td>2018-12-24</td>\n",
       "      <td>12</td>\n",
       "    </tr>\n",
       "    <tr>\n",
       "      <th>76047</th>\n",
       "      <td>1497_536</td>\n",
       "      <td>1497</td>\n",
       "      <td>2018-12-24</td>\n",
       "      <td>12</td>\n",
       "    </tr>\n",
       "    <tr>\n",
       "      <th>76048</th>\n",
       "      <td>1497_547</td>\n",
       "      <td>1497</td>\n",
       "      <td>2018-12-31</td>\n",
       "      <td>12</td>\n",
       "    </tr>\n",
       "    <tr>\n",
       "      <th>76049</th>\n",
       "      <td>1497_558</td>\n",
       "      <td>1497</td>\n",
       "      <td>2018-12-24</td>\n",
       "      <td>12</td>\n",
       "    </tr>\n",
       "    <tr>\n",
       "      <th>76050</th>\n",
       "      <td>1497_613</td>\n",
       "      <td>1497</td>\n",
       "      <td>2018-12-23</td>\n",
       "      <td>12</td>\n",
       "    </tr>\n",
       "  </tbody>\n",
       "</table>\n",
       "<p>76051 rows × 4 columns</p>\n",
       "</div>"
      ],
      "text/plain": [
       "             id  user_id message_date  mes\n",
       "0      1000_125     1000   2018-12-27   12\n",
       "1      1000_160     1000   2018-12-31   12\n",
       "2      1000_223     1000   2018-12-31   12\n",
       "3      1000_251     1000   2018-12-27   12\n",
       "4      1000_255     1000   2018-12-26   12\n",
       "...         ...      ...          ...  ...\n",
       "76046  1497_526     1497   2018-12-24   12\n",
       "76047  1497_536     1497   2018-12-24   12\n",
       "76048  1497_547     1497   2018-12-31   12\n",
       "76049  1497_558     1497   2018-12-24   12\n",
       "76050  1497_613     1497   2018-12-23   12\n",
       "\n",
       "[76051 rows x 4 columns]"
      ]
     },
     "execution_count": 156,
     "metadata": {},
     "output_type": "execute_result"
    }
   ],
   "source": [
    "mensajes[\"mes\"]=pd.DatetimeIndex(mensajes[\"message_date\"]).month # crear columna mes\n",
    "mensajes"
   ]
  },
  {
   "cell_type": "markdown",
   "metadata": {
    "id": "bStkaxn40q1C"
   },
   "source": [
    "## Internet"
   ]
  },
  {
   "cell_type": "code",
   "execution_count": 157,
   "metadata": {
    "id": "e-Uz5qyn0q1C"
   },
   "outputs": [
    {
     "name": "stdout",
     "output_type": "stream",
     "text": [
      "<class 'pandas.core.frame.DataFrame'>\n",
      "RangeIndex: 104825 entries, 0 to 104824\n",
      "Data columns (total 4 columns):\n",
      " #   Column        Non-Null Count   Dtype  \n",
      "---  ------        --------------   -----  \n",
      " 0   id            104825 non-null  object \n",
      " 1   user_id       104825 non-null  int64  \n",
      " 2   session_date  104825 non-null  object \n",
      " 3   mb_used       104825 non-null  float64\n",
      "dtypes: float64(1), int64(1), object(2)\n",
      "memory usage: 3.2+ MB\n"
     ]
    }
   ],
   "source": [
    "# Imprime la información general/resumida sobre el DataFrame de internet\n",
    "datos.info()\n"
   ]
  },
  {
   "cell_type": "code",
   "execution_count": 158,
   "metadata": {
    "id": "9r3x_XLw0q1C"
   },
   "outputs": [
    {
     "data": {
      "text/html": [
       "<div>\n",
       "<style scoped>\n",
       "    .dataframe tbody tr th:only-of-type {\n",
       "        vertical-align: middle;\n",
       "    }\n",
       "\n",
       "    .dataframe tbody tr th {\n",
       "        vertical-align: top;\n",
       "    }\n",
       "\n",
       "    .dataframe thead th {\n",
       "        text-align: right;\n",
       "    }\n",
       "</style>\n",
       "<table border=\"1\" class=\"dataframe\">\n",
       "  <thead>\n",
       "    <tr style=\"text-align: right;\">\n",
       "      <th></th>\n",
       "      <th>id</th>\n",
       "      <th>user_id</th>\n",
       "      <th>session_date</th>\n",
       "      <th>mb_used</th>\n",
       "    </tr>\n",
       "  </thead>\n",
       "  <tbody>\n",
       "    <tr>\n",
       "      <th>0</th>\n",
       "      <td>1000_13</td>\n",
       "      <td>1000</td>\n",
       "      <td>2018-12-29</td>\n",
       "      <td>89.86</td>\n",
       "    </tr>\n",
       "    <tr>\n",
       "      <th>1</th>\n",
       "      <td>1000_204</td>\n",
       "      <td>1000</td>\n",
       "      <td>2018-12-31</td>\n",
       "      <td>0.00</td>\n",
       "    </tr>\n",
       "    <tr>\n",
       "      <th>2</th>\n",
       "      <td>1000_379</td>\n",
       "      <td>1000</td>\n",
       "      <td>2018-12-28</td>\n",
       "      <td>660.40</td>\n",
       "    </tr>\n",
       "    <tr>\n",
       "      <th>3</th>\n",
       "      <td>1000_413</td>\n",
       "      <td>1000</td>\n",
       "      <td>2018-12-26</td>\n",
       "      <td>270.99</td>\n",
       "    </tr>\n",
       "    <tr>\n",
       "      <th>4</th>\n",
       "      <td>1000_442</td>\n",
       "      <td>1000</td>\n",
       "      <td>2018-12-27</td>\n",
       "      <td>880.22</td>\n",
       "    </tr>\n",
       "    <tr>\n",
       "      <th>...</th>\n",
       "      <td>...</td>\n",
       "      <td>...</td>\n",
       "      <td>...</td>\n",
       "      <td>...</td>\n",
       "    </tr>\n",
       "    <tr>\n",
       "      <th>104820</th>\n",
       "      <td>1499_215</td>\n",
       "      <td>1499</td>\n",
       "      <td>2018-10-20</td>\n",
       "      <td>218.06</td>\n",
       "    </tr>\n",
       "    <tr>\n",
       "      <th>104821</th>\n",
       "      <td>1499_216</td>\n",
       "      <td>1499</td>\n",
       "      <td>2018-12-30</td>\n",
       "      <td>304.72</td>\n",
       "    </tr>\n",
       "    <tr>\n",
       "      <th>104822</th>\n",
       "      <td>1499_217</td>\n",
       "      <td>1499</td>\n",
       "      <td>2018-09-22</td>\n",
       "      <td>292.75</td>\n",
       "    </tr>\n",
       "    <tr>\n",
       "      <th>104823</th>\n",
       "      <td>1499_218</td>\n",
       "      <td>1499</td>\n",
       "      <td>2018-12-07</td>\n",
       "      <td>0.00</td>\n",
       "    </tr>\n",
       "    <tr>\n",
       "      <th>104824</th>\n",
       "      <td>1499_219</td>\n",
       "      <td>1499</td>\n",
       "      <td>2018-12-24</td>\n",
       "      <td>758.31</td>\n",
       "    </tr>\n",
       "  </tbody>\n",
       "</table>\n",
       "<p>104825 rows × 4 columns</p>\n",
       "</div>"
      ],
      "text/plain": [
       "              id  user_id session_date  mb_used\n",
       "0        1000_13     1000   2018-12-29    89.86\n",
       "1       1000_204     1000   2018-12-31     0.00\n",
       "2       1000_379     1000   2018-12-28   660.40\n",
       "3       1000_413     1000   2018-12-26   270.99\n",
       "4       1000_442     1000   2018-12-27   880.22\n",
       "...          ...      ...          ...      ...\n",
       "104820  1499_215     1499   2018-10-20   218.06\n",
       "104821  1499_216     1499   2018-12-30   304.72\n",
       "104822  1499_217     1499   2018-09-22   292.75\n",
       "104823  1499_218     1499   2018-12-07     0.00\n",
       "104824  1499_219     1499   2018-12-24   758.31\n",
       "\n",
       "[104825 rows x 4 columns]"
      ]
     },
     "execution_count": 158,
     "metadata": {},
     "output_type": "execute_result"
    }
   ],
   "source": [
    "datos# Imprime una muestra de datos para el tráfico de internet\n",
    "\n"
   ]
  },
  {
   "cell_type": "markdown",
   "metadata": {
    "id": "EzOG5ik30q1D"
   },
   "source": [
    "[Describe lo que ves y observas en la información general y en la muestra de datos impresa para el precio de datos anterior. ¿Hay algún problema (tipos de datos no adecuados, datos ausentes, etc.) que pudieran necesitar investigación y cambios adicionales? ¿Cómo se puede arreglar?]\n",
    "\n",
    " Cambiar el ID de usuario por texto y convertir el volumen de datos en gigabites"
   ]
  },
  {
   "cell_type": "markdown",
   "metadata": {
    "id": "yA0tkPFg0q1D"
   },
   "source": [
    "### Corregir los datos"
   ]
  },
  {
   "cell_type": "markdown",
   "metadata": {
    "id": "zlZMuIEK0q1D"
   },
   "source": [
    "[Corrige los problemas obvios con los datos basándote en las observaciones iniciales.]"
   ]
  },
  {
   "cell_type": "code",
   "execution_count": 159,
   "metadata": {
    "id": "zVeanzdd0q1E"
   },
   "outputs": [
    {
     "name": "stdout",
     "output_type": "stream",
     "text": [
      "<class 'pandas.core.frame.DataFrame'>\n",
      "RangeIndex: 104825 entries, 0 to 104824\n",
      "Data columns (total 4 columns):\n",
      " #   Column        Non-Null Count   Dtype         \n",
      "---  ------        --------------   -----         \n",
      " 0   id            104825 non-null  object        \n",
      " 1   user_id       104825 non-null  int64         \n",
      " 2   session_date  104825 non-null  datetime64[ns]\n",
      " 3   mb_used       104825 non-null  float64       \n",
      "dtypes: datetime64[ns](1), float64(1), int64(1), object(1)\n",
      "memory usage: 3.2+ MB\n"
     ]
    }
   ],
   "source": [
    "datos[\"session_date\"]= pd.to_datetime(datos[\"session_date\"],format='%Y-%m-%d')# covertir a columna fecha\n",
    "datos.info()"
   ]
  },
  {
   "cell_type": "markdown",
   "metadata": {
    "id": "e8_mLF4a0q1E"
   },
   "source": [
    "### Enriquecer los datos"
   ]
  },
  {
   "cell_type": "markdown",
   "metadata": {
    "id": "xhNdn2tE0q1E"
   },
   "source": [
    "[Agrega factores adicionales a los datos si crees que pudieran ser útiles.]"
   ]
  },
  {
   "cell_type": "code",
   "execution_count": 160,
   "metadata": {
    "scrolled": true
   },
   "outputs": [
    {
     "data": {
      "text/html": [
       "<div>\n",
       "<style scoped>\n",
       "    .dataframe tbody tr th:only-of-type {\n",
       "        vertical-align: middle;\n",
       "    }\n",
       "\n",
       "    .dataframe tbody tr th {\n",
       "        vertical-align: top;\n",
       "    }\n",
       "\n",
       "    .dataframe thead th {\n",
       "        text-align: right;\n",
       "    }\n",
       "</style>\n",
       "<table border=\"1\" class=\"dataframe\">\n",
       "  <thead>\n",
       "    <tr style=\"text-align: right;\">\n",
       "      <th></th>\n",
       "      <th>id</th>\n",
       "      <th>user_id</th>\n",
       "      <th>session_date</th>\n",
       "      <th>mb_used</th>\n",
       "      <th>mes</th>\n",
       "    </tr>\n",
       "  </thead>\n",
       "  <tbody>\n",
       "    <tr>\n",
       "      <th>0</th>\n",
       "      <td>1000_13</td>\n",
       "      <td>1000</td>\n",
       "      <td>2018-12-29</td>\n",
       "      <td>89.86</td>\n",
       "      <td>12</td>\n",
       "    </tr>\n",
       "    <tr>\n",
       "      <th>1</th>\n",
       "      <td>1000_204</td>\n",
       "      <td>1000</td>\n",
       "      <td>2018-12-31</td>\n",
       "      <td>0.00</td>\n",
       "      <td>12</td>\n",
       "    </tr>\n",
       "    <tr>\n",
       "      <th>2</th>\n",
       "      <td>1000_379</td>\n",
       "      <td>1000</td>\n",
       "      <td>2018-12-28</td>\n",
       "      <td>660.40</td>\n",
       "      <td>12</td>\n",
       "    </tr>\n",
       "    <tr>\n",
       "      <th>3</th>\n",
       "      <td>1000_413</td>\n",
       "      <td>1000</td>\n",
       "      <td>2018-12-26</td>\n",
       "      <td>270.99</td>\n",
       "      <td>12</td>\n",
       "    </tr>\n",
       "    <tr>\n",
       "      <th>4</th>\n",
       "      <td>1000_442</td>\n",
       "      <td>1000</td>\n",
       "      <td>2018-12-27</td>\n",
       "      <td>880.22</td>\n",
       "      <td>12</td>\n",
       "    </tr>\n",
       "    <tr>\n",
       "      <th>...</th>\n",
       "      <td>...</td>\n",
       "      <td>...</td>\n",
       "      <td>...</td>\n",
       "      <td>...</td>\n",
       "      <td>...</td>\n",
       "    </tr>\n",
       "    <tr>\n",
       "      <th>104820</th>\n",
       "      <td>1499_215</td>\n",
       "      <td>1499</td>\n",
       "      <td>2018-10-20</td>\n",
       "      <td>218.06</td>\n",
       "      <td>10</td>\n",
       "    </tr>\n",
       "    <tr>\n",
       "      <th>104821</th>\n",
       "      <td>1499_216</td>\n",
       "      <td>1499</td>\n",
       "      <td>2018-12-30</td>\n",
       "      <td>304.72</td>\n",
       "      <td>12</td>\n",
       "    </tr>\n",
       "    <tr>\n",
       "      <th>104822</th>\n",
       "      <td>1499_217</td>\n",
       "      <td>1499</td>\n",
       "      <td>2018-09-22</td>\n",
       "      <td>292.75</td>\n",
       "      <td>9</td>\n",
       "    </tr>\n",
       "    <tr>\n",
       "      <th>104823</th>\n",
       "      <td>1499_218</td>\n",
       "      <td>1499</td>\n",
       "      <td>2018-12-07</td>\n",
       "      <td>0.00</td>\n",
       "      <td>12</td>\n",
       "    </tr>\n",
       "    <tr>\n",
       "      <th>104824</th>\n",
       "      <td>1499_219</td>\n",
       "      <td>1499</td>\n",
       "      <td>2018-12-24</td>\n",
       "      <td>758.31</td>\n",
       "      <td>12</td>\n",
       "    </tr>\n",
       "  </tbody>\n",
       "</table>\n",
       "<p>104825 rows × 5 columns</p>\n",
       "</div>"
      ],
      "text/plain": [
       "              id  user_id session_date  mb_used  mes\n",
       "0        1000_13     1000   2018-12-29    89.86   12\n",
       "1       1000_204     1000   2018-12-31     0.00   12\n",
       "2       1000_379     1000   2018-12-28   660.40   12\n",
       "3       1000_413     1000   2018-12-26   270.99   12\n",
       "4       1000_442     1000   2018-12-27   880.22   12\n",
       "...          ...      ...          ...      ...  ...\n",
       "104820  1499_215     1499   2018-10-20   218.06   10\n",
       "104821  1499_216     1499   2018-12-30   304.72   12\n",
       "104822  1499_217     1499   2018-09-22   292.75    9\n",
       "104823  1499_218     1499   2018-12-07     0.00   12\n",
       "104824  1499_219     1499   2018-12-24   758.31   12\n",
       "\n",
       "[104825 rows x 5 columns]"
      ]
     },
     "execution_count": 160,
     "metadata": {},
     "output_type": "execute_result"
    }
   ],
   "source": [
    "datos[\"mes\"]=pd.DatetimeIndex(datos[\"session_date\"]).month# crear columna mes\n",
    "datos"
   ]
  },
  {
   "cell_type": "markdown",
   "metadata": {
    "id": "3UA2cqIW0q1E"
   },
   "source": [
    "## Estudiar las condiciones de las tarifas"
   ]
  },
  {
   "cell_type": "markdown",
   "metadata": {
    "id": "T86Sqltq0q1F"
   },
   "source": [
    "[Es sumamente importante entender cómo funcionan las tarifas, cómo se les cobra a los usuarios en función de su plan de suscripción. Así que te sugerimos imprimir la información de la tarifa para ver una vez más sus condiciones.]"
   ]
  },
  {
   "cell_type": "code",
   "execution_count": 161,
   "metadata": {
    "id": "i409op8p0q1F"
   },
   "outputs": [
    {
     "data": {
      "text/html": [
       "<div>\n",
       "<style scoped>\n",
       "    .dataframe tbody tr th:only-of-type {\n",
       "        vertical-align: middle;\n",
       "    }\n",
       "\n",
       "    .dataframe tbody tr th {\n",
       "        vertical-align: top;\n",
       "    }\n",
       "\n",
       "    .dataframe thead th {\n",
       "        text-align: right;\n",
       "    }\n",
       "</style>\n",
       "<table border=\"1\" class=\"dataframe\">\n",
       "  <thead>\n",
       "    <tr style=\"text-align: right;\">\n",
       "      <th></th>\n",
       "      <th>messages_included</th>\n",
       "      <th>gb_per_month_included</th>\n",
       "      <th>minutes_included</th>\n",
       "      <th>usd_monthly_pay</th>\n",
       "      <th>usd_per_gb</th>\n",
       "      <th>usd_per_message</th>\n",
       "      <th>usd_per_minute</th>\n",
       "      <th>plan_id</th>\n",
       "    </tr>\n",
       "  </thead>\n",
       "  <tbody>\n",
       "    <tr>\n",
       "      <th>0</th>\n",
       "      <td>50</td>\n",
       "      <td>15.0</td>\n",
       "      <td>500</td>\n",
       "      <td>20</td>\n",
       "      <td>10</td>\n",
       "      <td>0.03</td>\n",
       "      <td>0.03</td>\n",
       "      <td>surf</td>\n",
       "    </tr>\n",
       "    <tr>\n",
       "      <th>1</th>\n",
       "      <td>1000</td>\n",
       "      <td>30.0</td>\n",
       "      <td>3000</td>\n",
       "      <td>70</td>\n",
       "      <td>7</td>\n",
       "      <td>0.01</td>\n",
       "      <td>0.01</td>\n",
       "      <td>ultimate</td>\n",
       "    </tr>\n",
       "  </tbody>\n",
       "</table>\n",
       "</div>"
      ],
      "text/plain": [
       "   messages_included  gb_per_month_included  minutes_included  \\\n",
       "0                 50                   15.0               500   \n",
       "1               1000                   30.0              3000   \n",
       "\n",
       "   usd_monthly_pay  usd_per_gb  usd_per_message  usd_per_minute   plan_id  \n",
       "0               20          10             0.03            0.03      surf  \n",
       "1               70           7             0.01            0.01  ultimate  "
      ]
     },
     "execution_count": 161,
     "metadata": {},
     "output_type": "execute_result"
    }
   ],
   "source": [
    "planes# Imprime las condiciones de la tarifa y asegúrate de que te quedan claras\n",
    "\n"
   ]
  },
  {
   "cell_type": "markdown",
   "metadata": {
    "id": "hMR1tP5d0q1F"
   },
   "source": [
    "## Agregar datos por usuario\n",
    "\n",
    "[Ahora que los datos están limpios, agrega los datos por usuario y por periodo para que solo haya un registro por usuario y por periodo. Esto facilitará mucho el análisis posterior.]"
   ]
  },
  {
   "cell_type": "code",
   "execution_count": 162,
   "metadata": {
    "id": "A332cedB0q1G"
   },
   "outputs": [
    {
     "data": {
      "text/html": [
       "<div>\n",
       "<style scoped>\n",
       "    .dataframe tbody tr th:only-of-type {\n",
       "        vertical-align: middle;\n",
       "    }\n",
       "\n",
       "    .dataframe tbody tr th {\n",
       "        vertical-align: top;\n",
       "    }\n",
       "\n",
       "    .dataframe thead th {\n",
       "        text-align: right;\n",
       "    }\n",
       "</style>\n",
       "<table border=\"1\" class=\"dataframe\">\n",
       "  <thead>\n",
       "    <tr style=\"text-align: right;\">\n",
       "      <th></th>\n",
       "      <th>user_id</th>\n",
       "      <th>mes</th>\n",
       "      <th>total de llamadas</th>\n",
       "    </tr>\n",
       "  </thead>\n",
       "  <tbody>\n",
       "    <tr>\n",
       "      <th>0</th>\n",
       "      <td>1000</td>\n",
       "      <td>12</td>\n",
       "      <td>16</td>\n",
       "    </tr>\n",
       "    <tr>\n",
       "      <th>1</th>\n",
       "      <td>1001</td>\n",
       "      <td>8</td>\n",
       "      <td>27</td>\n",
       "    </tr>\n",
       "    <tr>\n",
       "      <th>2</th>\n",
       "      <td>1001</td>\n",
       "      <td>9</td>\n",
       "      <td>49</td>\n",
       "    </tr>\n",
       "    <tr>\n",
       "      <th>3</th>\n",
       "      <td>1001</td>\n",
       "      <td>10</td>\n",
       "      <td>65</td>\n",
       "    </tr>\n",
       "    <tr>\n",
       "      <th>4</th>\n",
       "      <td>1001</td>\n",
       "      <td>11</td>\n",
       "      <td>64</td>\n",
       "    </tr>\n",
       "    <tr>\n",
       "      <th>...</th>\n",
       "      <td>...</td>\n",
       "      <td>...</td>\n",
       "      <td>...</td>\n",
       "    </tr>\n",
       "    <tr>\n",
       "      <th>2253</th>\n",
       "      <td>1498</td>\n",
       "      <td>12</td>\n",
       "      <td>39</td>\n",
       "    </tr>\n",
       "    <tr>\n",
       "      <th>2254</th>\n",
       "      <td>1499</td>\n",
       "      <td>9</td>\n",
       "      <td>41</td>\n",
       "    </tr>\n",
       "    <tr>\n",
       "      <th>2255</th>\n",
       "      <td>1499</td>\n",
       "      <td>10</td>\n",
       "      <td>53</td>\n",
       "    </tr>\n",
       "    <tr>\n",
       "      <th>2256</th>\n",
       "      <td>1499</td>\n",
       "      <td>11</td>\n",
       "      <td>45</td>\n",
       "    </tr>\n",
       "    <tr>\n",
       "      <th>2257</th>\n",
       "      <td>1499</td>\n",
       "      <td>12</td>\n",
       "      <td>65</td>\n",
       "    </tr>\n",
       "  </tbody>\n",
       "</table>\n",
       "<p>2258 rows × 3 columns</p>\n",
       "</div>"
      ],
      "text/plain": [
       "      user_id  mes  total de llamadas\n",
       "0        1000   12                 16\n",
       "1        1001    8                 27\n",
       "2        1001    9                 49\n",
       "3        1001   10                 65\n",
       "4        1001   11                 64\n",
       "...       ...  ...                ...\n",
       "2253     1498   12                 39\n",
       "2254     1499    9                 41\n",
       "2255     1499   10                 53\n",
       "2256     1499   11                 45\n",
       "2257     1499   12                 65\n",
       "\n",
       "[2258 rows x 3 columns]"
      ]
     },
     "execution_count": 162,
     "metadata": {},
     "output_type": "execute_result"
    }
   ],
   "source": [
    "# Calcula el número de llamadas hechas por cada usuario al mes. Guarda el resultado.\n",
    "call_cant_usuario=llamadas.groupby([\"user_id\",\"mes\"])[\"id\"].count().reset_index()\n",
    "call_cant_usuario=call_cant_usuario.rename(columns={\"id\":\"total de llamadas\"})\n",
    "call_cant_usuario                                       "
   ]
  },
  {
   "cell_type": "code",
   "execution_count": 163,
   "metadata": {
    "id": "aw2cmuql0q1G"
   },
   "outputs": [
    {
     "data": {
      "text/html": [
       "<div>\n",
       "<style scoped>\n",
       "    .dataframe tbody tr th:only-of-type {\n",
       "        vertical-align: middle;\n",
       "    }\n",
       "\n",
       "    .dataframe tbody tr th {\n",
       "        vertical-align: top;\n",
       "    }\n",
       "\n",
       "    .dataframe thead th {\n",
       "        text-align: right;\n",
       "    }\n",
       "</style>\n",
       "<table border=\"1\" class=\"dataframe\">\n",
       "  <thead>\n",
       "    <tr style=\"text-align: right;\">\n",
       "      <th></th>\n",
       "      <th>user_id</th>\n",
       "      <th>mes</th>\n",
       "      <th>total de duracion</th>\n",
       "    </tr>\n",
       "  </thead>\n",
       "  <tbody>\n",
       "    <tr>\n",
       "      <th>0</th>\n",
       "      <td>1000</td>\n",
       "      <td>12</td>\n",
       "      <td>124</td>\n",
       "    </tr>\n",
       "    <tr>\n",
       "      <th>1</th>\n",
       "      <td>1001</td>\n",
       "      <td>8</td>\n",
       "      <td>182</td>\n",
       "    </tr>\n",
       "    <tr>\n",
       "      <th>2</th>\n",
       "      <td>1001</td>\n",
       "      <td>9</td>\n",
       "      <td>315</td>\n",
       "    </tr>\n",
       "    <tr>\n",
       "      <th>3</th>\n",
       "      <td>1001</td>\n",
       "      <td>10</td>\n",
       "      <td>393</td>\n",
       "    </tr>\n",
       "    <tr>\n",
       "      <th>4</th>\n",
       "      <td>1001</td>\n",
       "      <td>11</td>\n",
       "      <td>426</td>\n",
       "    </tr>\n",
       "    <tr>\n",
       "      <th>...</th>\n",
       "      <td>...</td>\n",
       "      <td>...</td>\n",
       "      <td>...</td>\n",
       "    </tr>\n",
       "    <tr>\n",
       "      <th>2253</th>\n",
       "      <td>1498</td>\n",
       "      <td>12</td>\n",
       "      <td>339</td>\n",
       "    </tr>\n",
       "    <tr>\n",
       "      <th>2254</th>\n",
       "      <td>1499</td>\n",
       "      <td>9</td>\n",
       "      <td>346</td>\n",
       "    </tr>\n",
       "    <tr>\n",
       "      <th>2255</th>\n",
       "      <td>1499</td>\n",
       "      <td>10</td>\n",
       "      <td>385</td>\n",
       "    </tr>\n",
       "    <tr>\n",
       "      <th>2256</th>\n",
       "      <td>1499</td>\n",
       "      <td>11</td>\n",
       "      <td>308</td>\n",
       "    </tr>\n",
       "    <tr>\n",
       "      <th>2257</th>\n",
       "      <td>1499</td>\n",
       "      <td>12</td>\n",
       "      <td>496</td>\n",
       "    </tr>\n",
       "  </tbody>\n",
       "</table>\n",
       "<p>2258 rows × 3 columns</p>\n",
       "</div>"
      ],
      "text/plain": [
       "      user_id  mes  total de duracion\n",
       "0        1000   12                124\n",
       "1        1001    8                182\n",
       "2        1001    9                315\n",
       "3        1001   10                393\n",
       "4        1001   11                426\n",
       "...       ...  ...                ...\n",
       "2253     1498   12                339\n",
       "2254     1499    9                346\n",
       "2255     1499   10                385\n",
       "2256     1499   11                308\n",
       "2257     1499   12                496\n",
       "\n",
       "[2258 rows x 3 columns]"
      ]
     },
     "execution_count": 163,
     "metadata": {},
     "output_type": "execute_result"
    }
   ],
   "source": [
    "# Calcula la cantidad de minutos usados por cada usuario al mes. Guarda el resultado.\n",
    "call_duracion_usuario=llamadas.groupby([\"user_id\",\"mes\"])[\"duration\"].sum().reset_index()\n",
    "call_duracion_usuario=call_duracion_usuario.rename(columns={\"duration\":\"total de duracion\"})\n",
    "call_duracion_usuario "
   ]
  },
  {
   "cell_type": "code",
   "execution_count": 164,
   "metadata": {},
   "outputs": [
    {
     "data": {
      "text/html": [
       "<div>\n",
       "<style scoped>\n",
       "    .dataframe tbody tr th:only-of-type {\n",
       "        vertical-align: middle;\n",
       "    }\n",
       "\n",
       "    .dataframe tbody tr th {\n",
       "        vertical-align: top;\n",
       "    }\n",
       "\n",
       "    .dataframe thead th {\n",
       "        text-align: right;\n",
       "    }\n",
       "</style>\n",
       "<table border=\"1\" class=\"dataframe\">\n",
       "  <thead>\n",
       "    <tr style=\"text-align: right;\">\n",
       "      <th></th>\n",
       "      <th>user_id</th>\n",
       "      <th>mes</th>\n",
       "      <th>total de llamadas</th>\n",
       "      <th>total de duracion</th>\n",
       "    </tr>\n",
       "  </thead>\n",
       "  <tbody>\n",
       "    <tr>\n",
       "      <th>0</th>\n",
       "      <td>1000</td>\n",
       "      <td>12</td>\n",
       "      <td>16</td>\n",
       "      <td>124</td>\n",
       "    </tr>\n",
       "    <tr>\n",
       "      <th>1</th>\n",
       "      <td>1001</td>\n",
       "      <td>8</td>\n",
       "      <td>27</td>\n",
       "      <td>182</td>\n",
       "    </tr>\n",
       "    <tr>\n",
       "      <th>2</th>\n",
       "      <td>1001</td>\n",
       "      <td>9</td>\n",
       "      <td>49</td>\n",
       "      <td>315</td>\n",
       "    </tr>\n",
       "    <tr>\n",
       "      <th>3</th>\n",
       "      <td>1001</td>\n",
       "      <td>10</td>\n",
       "      <td>65</td>\n",
       "      <td>393</td>\n",
       "    </tr>\n",
       "    <tr>\n",
       "      <th>4</th>\n",
       "      <td>1001</td>\n",
       "      <td>11</td>\n",
       "      <td>64</td>\n",
       "      <td>426</td>\n",
       "    </tr>\n",
       "    <tr>\n",
       "      <th>...</th>\n",
       "      <td>...</td>\n",
       "      <td>...</td>\n",
       "      <td>...</td>\n",
       "      <td>...</td>\n",
       "    </tr>\n",
       "    <tr>\n",
       "      <th>2253</th>\n",
       "      <td>1498</td>\n",
       "      <td>12</td>\n",
       "      <td>39</td>\n",
       "      <td>339</td>\n",
       "    </tr>\n",
       "    <tr>\n",
       "      <th>2254</th>\n",
       "      <td>1499</td>\n",
       "      <td>9</td>\n",
       "      <td>41</td>\n",
       "      <td>346</td>\n",
       "    </tr>\n",
       "    <tr>\n",
       "      <th>2255</th>\n",
       "      <td>1499</td>\n",
       "      <td>10</td>\n",
       "      <td>53</td>\n",
       "      <td>385</td>\n",
       "    </tr>\n",
       "    <tr>\n",
       "      <th>2256</th>\n",
       "      <td>1499</td>\n",
       "      <td>11</td>\n",
       "      <td>45</td>\n",
       "      <td>308</td>\n",
       "    </tr>\n",
       "    <tr>\n",
       "      <th>2257</th>\n",
       "      <td>1499</td>\n",
       "      <td>12</td>\n",
       "      <td>65</td>\n",
       "      <td>496</td>\n",
       "    </tr>\n",
       "  </tbody>\n",
       "</table>\n",
       "<p>2258 rows × 4 columns</p>\n",
       "</div>"
      ],
      "text/plain": [
       "      user_id  mes  total de llamadas  total de duracion\n",
       "0        1000   12                 16                124\n",
       "1        1001    8                 27                182\n",
       "2        1001    9                 49                315\n",
       "3        1001   10                 65                393\n",
       "4        1001   11                 64                426\n",
       "...       ...  ...                ...                ...\n",
       "2253     1498   12                 39                339\n",
       "2254     1499    9                 41                346\n",
       "2255     1499   10                 53                385\n",
       "2256     1499   11                 45                308\n",
       "2257     1499   12                 65                496\n",
       "\n",
       "[2258 rows x 4 columns]"
      ]
     },
     "execution_count": 164,
     "metadata": {},
     "output_type": "execute_result"
    }
   ],
   "source": [
    "call_cant_min=call_cant_usuario.merge(call_duracion_usuario , on=[\"user_id\",\"mes\"], how=\"outer\")\n",
    "call_cant_min"
   ]
  },
  {
   "cell_type": "code",
   "execution_count": 165,
   "metadata": {
    "id": "CcQvNHn60q1G"
   },
   "outputs": [
    {
     "data": {
      "text/html": [
       "<div>\n",
       "<style scoped>\n",
       "    .dataframe tbody tr th:only-of-type {\n",
       "        vertical-align: middle;\n",
       "    }\n",
       "\n",
       "    .dataframe tbody tr th {\n",
       "        vertical-align: top;\n",
       "    }\n",
       "\n",
       "    .dataframe thead th {\n",
       "        text-align: right;\n",
       "    }\n",
       "</style>\n",
       "<table border=\"1\" class=\"dataframe\">\n",
       "  <thead>\n",
       "    <tr style=\"text-align: right;\">\n",
       "      <th></th>\n",
       "      <th>user_id</th>\n",
       "      <th>mes</th>\n",
       "      <th>total de mensajes</th>\n",
       "    </tr>\n",
       "  </thead>\n",
       "  <tbody>\n",
       "    <tr>\n",
       "      <th>0</th>\n",
       "      <td>1000</td>\n",
       "      <td>12</td>\n",
       "      <td>11</td>\n",
       "    </tr>\n",
       "    <tr>\n",
       "      <th>1</th>\n",
       "      <td>1001</td>\n",
       "      <td>8</td>\n",
       "      <td>30</td>\n",
       "    </tr>\n",
       "    <tr>\n",
       "      <th>2</th>\n",
       "      <td>1001</td>\n",
       "      <td>9</td>\n",
       "      <td>44</td>\n",
       "    </tr>\n",
       "    <tr>\n",
       "      <th>3</th>\n",
       "      <td>1001</td>\n",
       "      <td>10</td>\n",
       "      <td>53</td>\n",
       "    </tr>\n",
       "    <tr>\n",
       "      <th>4</th>\n",
       "      <td>1001</td>\n",
       "      <td>11</td>\n",
       "      <td>36</td>\n",
       "    </tr>\n",
       "    <tr>\n",
       "      <th>...</th>\n",
       "      <td>...</td>\n",
       "      <td>...</td>\n",
       "      <td>...</td>\n",
       "    </tr>\n",
       "    <tr>\n",
       "      <th>1801</th>\n",
       "      <td>1496</td>\n",
       "      <td>9</td>\n",
       "      <td>21</td>\n",
       "    </tr>\n",
       "    <tr>\n",
       "      <th>1802</th>\n",
       "      <td>1496</td>\n",
       "      <td>10</td>\n",
       "      <td>18</td>\n",
       "    </tr>\n",
       "    <tr>\n",
       "      <th>1803</th>\n",
       "      <td>1496</td>\n",
       "      <td>11</td>\n",
       "      <td>13</td>\n",
       "    </tr>\n",
       "    <tr>\n",
       "      <th>1804</th>\n",
       "      <td>1496</td>\n",
       "      <td>12</td>\n",
       "      <td>11</td>\n",
       "    </tr>\n",
       "    <tr>\n",
       "      <th>1805</th>\n",
       "      <td>1497</td>\n",
       "      <td>12</td>\n",
       "      <td>50</td>\n",
       "    </tr>\n",
       "  </tbody>\n",
       "</table>\n",
       "<p>1806 rows × 3 columns</p>\n",
       "</div>"
      ],
      "text/plain": [
       "      user_id  mes  total de mensajes\n",
       "0        1000   12                 11\n",
       "1        1001    8                 30\n",
       "2        1001    9                 44\n",
       "3        1001   10                 53\n",
       "4        1001   11                 36\n",
       "...       ...  ...                ...\n",
       "1801     1496    9                 21\n",
       "1802     1496   10                 18\n",
       "1803     1496   11                 13\n",
       "1804     1496   12                 11\n",
       "1805     1497   12                 50\n",
       "\n",
       "[1806 rows x 3 columns]"
      ]
     },
     "execution_count": 165,
     "metadata": {},
     "output_type": "execute_result"
    }
   ],
   "source": [
    "# Calcula el número de mensajes enviados por cada usuario al mes. Guarda el resultado.\n",
    "mensajes_cant_usuario=mensajes.groupby([\"user_id\",\"mes\"])[\"id\"].count().reset_index()\n",
    "mensajes_cant_usuario=mensajes_cant_usuario.rename(columns={\"id\":\"total de mensajes\"})\n",
    "mensajes_cant_usuario"
   ]
  },
  {
   "cell_type": "code",
   "execution_count": 166,
   "metadata": {
    "id": "H1AqN2eG0q1H"
   },
   "outputs": [
    {
     "data": {
      "text/html": [
       "<div>\n",
       "<style scoped>\n",
       "    .dataframe tbody tr th:only-of-type {\n",
       "        vertical-align: middle;\n",
       "    }\n",
       "\n",
       "    .dataframe tbody tr th {\n",
       "        vertical-align: top;\n",
       "    }\n",
       "\n",
       "    .dataframe thead th {\n",
       "        text-align: right;\n",
       "    }\n",
       "</style>\n",
       "<table border=\"1\" class=\"dataframe\">\n",
       "  <thead>\n",
       "    <tr style=\"text-align: right;\">\n",
       "      <th></th>\n",
       "      <th>user_id</th>\n",
       "      <th>mes</th>\n",
       "      <th>total de datos en mb</th>\n",
       "      <th>total de datos en gb</th>\n",
       "    </tr>\n",
       "  </thead>\n",
       "  <tbody>\n",
       "    <tr>\n",
       "      <th>0</th>\n",
       "      <td>1000</td>\n",
       "      <td>12</td>\n",
       "      <td>1901.47</td>\n",
       "      <td>2.0</td>\n",
       "    </tr>\n",
       "    <tr>\n",
       "      <th>1</th>\n",
       "      <td>1001</td>\n",
       "      <td>8</td>\n",
       "      <td>6919.15</td>\n",
       "      <td>7.0</td>\n",
       "    </tr>\n",
       "    <tr>\n",
       "      <th>2</th>\n",
       "      <td>1001</td>\n",
       "      <td>9</td>\n",
       "      <td>13314.82</td>\n",
       "      <td>14.0</td>\n",
       "    </tr>\n",
       "    <tr>\n",
       "      <th>3</th>\n",
       "      <td>1001</td>\n",
       "      <td>10</td>\n",
       "      <td>22330.49</td>\n",
       "      <td>22.0</td>\n",
       "    </tr>\n",
       "    <tr>\n",
       "      <th>4</th>\n",
       "      <td>1001</td>\n",
       "      <td>11</td>\n",
       "      <td>18504.30</td>\n",
       "      <td>19.0</td>\n",
       "    </tr>\n",
       "    <tr>\n",
       "      <th>...</th>\n",
       "      <td>...</td>\n",
       "      <td>...</td>\n",
       "      <td>...</td>\n",
       "      <td>...</td>\n",
       "    </tr>\n",
       "    <tr>\n",
       "      <th>2272</th>\n",
       "      <td>1498</td>\n",
       "      <td>12</td>\n",
       "      <td>23137.69</td>\n",
       "      <td>23.0</td>\n",
       "    </tr>\n",
       "    <tr>\n",
       "      <th>2273</th>\n",
       "      <td>1499</td>\n",
       "      <td>9</td>\n",
       "      <td>12984.76</td>\n",
       "      <td>13.0</td>\n",
       "    </tr>\n",
       "    <tr>\n",
       "      <th>2274</th>\n",
       "      <td>1499</td>\n",
       "      <td>10</td>\n",
       "      <td>19492.43</td>\n",
       "      <td>20.0</td>\n",
       "    </tr>\n",
       "    <tr>\n",
       "      <th>2275</th>\n",
       "      <td>1499</td>\n",
       "      <td>11</td>\n",
       "      <td>16813.83</td>\n",
       "      <td>17.0</td>\n",
       "    </tr>\n",
       "    <tr>\n",
       "      <th>2276</th>\n",
       "      <td>1499</td>\n",
       "      <td>12</td>\n",
       "      <td>22059.21</td>\n",
       "      <td>22.0</td>\n",
       "    </tr>\n",
       "  </tbody>\n",
       "</table>\n",
       "<p>2277 rows × 4 columns</p>\n",
       "</div>"
      ],
      "text/plain": [
       "      user_id  mes  total de datos en mb  total de datos en gb\n",
       "0        1000   12               1901.47                   2.0\n",
       "1        1001    8               6919.15                   7.0\n",
       "2        1001    9              13314.82                  14.0\n",
       "3        1001   10              22330.49                  22.0\n",
       "4        1001   11              18504.30                  19.0\n",
       "...       ...  ...                   ...                   ...\n",
       "2272     1498   12              23137.69                  23.0\n",
       "2273     1499    9              12984.76                  13.0\n",
       "2274     1499   10              19492.43                  20.0\n",
       "2275     1499   11              16813.83                  17.0\n",
       "2276     1499   12              22059.21                  22.0\n",
       "\n",
       "[2277 rows x 4 columns]"
      ]
     },
     "execution_count": 166,
     "metadata": {},
     "output_type": "execute_result"
    }
   ],
   "source": [
    "# Calcula el volumen del tráfico de Internet usado por cada usuario al mes. Guarda el resultado.\n",
    "\n",
    "datos_total_usuario=datos.groupby([\"user_id\",\"mes\"])[\"mb_used\"].sum().reset_index()\n",
    "datos_total_usuario=datos_total_usuario.rename(columns={\"mb_used\":\"total de datos en mb\"})\n",
    "datos_total_usuario[\"total de datos en gb\"]=np.ceil(datos_total_usuario[\"total de datos en mb\"]/1024)\n",
    "datos_total_usuario"
   ]
  },
  {
   "cell_type": "markdown",
   "metadata": {
    "id": "VDfYXnj80q1H"
   },
   "source": [
    "[Junta los datos agregados en un DataFrame para que haya un registro que represente lo que consumió un usuario único en un mes determinado.]"
   ]
  },
  {
   "cell_type": "code",
   "execution_count": 167,
   "metadata": {
    "id": "FW99ykyf0q1H"
   },
   "outputs": [
    {
     "data": {
      "text/html": [
       "<div>\n",
       "<style scoped>\n",
       "    .dataframe tbody tr th:only-of-type {\n",
       "        vertical-align: middle;\n",
       "    }\n",
       "\n",
       "    .dataframe tbody tr th {\n",
       "        vertical-align: top;\n",
       "    }\n",
       "\n",
       "    .dataframe thead th {\n",
       "        text-align: right;\n",
       "    }\n",
       "</style>\n",
       "<table border=\"1\" class=\"dataframe\">\n",
       "  <thead>\n",
       "    <tr style=\"text-align: right;\">\n",
       "      <th></th>\n",
       "      <th>user_id</th>\n",
       "      <th>mes</th>\n",
       "      <th>total de llamadas</th>\n",
       "      <th>total de duracion</th>\n",
       "      <th>total de mensajes</th>\n",
       "      <th>total de datos en mb</th>\n",
       "      <th>total de datos en gb</th>\n",
       "    </tr>\n",
       "  </thead>\n",
       "  <tbody>\n",
       "    <tr>\n",
       "      <th>0</th>\n",
       "      <td>1000</td>\n",
       "      <td>12</td>\n",
       "      <td>16.0</td>\n",
       "      <td>124.0</td>\n",
       "      <td>11.0</td>\n",
       "      <td>1901.47</td>\n",
       "      <td>2.0</td>\n",
       "    </tr>\n",
       "    <tr>\n",
       "      <th>1</th>\n",
       "      <td>1001</td>\n",
       "      <td>8</td>\n",
       "      <td>27.0</td>\n",
       "      <td>182.0</td>\n",
       "      <td>30.0</td>\n",
       "      <td>6919.15</td>\n",
       "      <td>7.0</td>\n",
       "    </tr>\n",
       "    <tr>\n",
       "      <th>2</th>\n",
       "      <td>1001</td>\n",
       "      <td>9</td>\n",
       "      <td>49.0</td>\n",
       "      <td>315.0</td>\n",
       "      <td>44.0</td>\n",
       "      <td>13314.82</td>\n",
       "      <td>14.0</td>\n",
       "    </tr>\n",
       "    <tr>\n",
       "      <th>3</th>\n",
       "      <td>1001</td>\n",
       "      <td>10</td>\n",
       "      <td>65.0</td>\n",
       "      <td>393.0</td>\n",
       "      <td>53.0</td>\n",
       "      <td>22330.49</td>\n",
       "      <td>22.0</td>\n",
       "    </tr>\n",
       "    <tr>\n",
       "      <th>4</th>\n",
       "      <td>1001</td>\n",
       "      <td>11</td>\n",
       "      <td>64.0</td>\n",
       "      <td>426.0</td>\n",
       "      <td>36.0</td>\n",
       "      <td>18504.30</td>\n",
       "      <td>19.0</td>\n",
       "    </tr>\n",
       "    <tr>\n",
       "      <th>...</th>\n",
       "      <td>...</td>\n",
       "      <td>...</td>\n",
       "      <td>...</td>\n",
       "      <td>...</td>\n",
       "      <td>...</td>\n",
       "      <td>...</td>\n",
       "      <td>...</td>\n",
       "    </tr>\n",
       "    <tr>\n",
       "      <th>2288</th>\n",
       "      <td>1349</td>\n",
       "      <td>12</td>\n",
       "      <td>NaN</td>\n",
       "      <td>NaN</td>\n",
       "      <td>61.0</td>\n",
       "      <td>13039.91</td>\n",
       "      <td>13.0</td>\n",
       "    </tr>\n",
       "    <tr>\n",
       "      <th>2289</th>\n",
       "      <td>1361</td>\n",
       "      <td>5</td>\n",
       "      <td>NaN</td>\n",
       "      <td>NaN</td>\n",
       "      <td>2.0</td>\n",
       "      <td>1519.69</td>\n",
       "      <td>2.0</td>\n",
       "    </tr>\n",
       "    <tr>\n",
       "      <th>2290</th>\n",
       "      <td>1482</td>\n",
       "      <td>10</td>\n",
       "      <td>NaN</td>\n",
       "      <td>NaN</td>\n",
       "      <td>2.0</td>\n",
       "      <td>NaN</td>\n",
       "      <td>NaN</td>\n",
       "    </tr>\n",
       "    <tr>\n",
       "      <th>2291</th>\n",
       "      <td>1108</td>\n",
       "      <td>12</td>\n",
       "      <td>NaN</td>\n",
       "      <td>NaN</td>\n",
       "      <td>NaN</td>\n",
       "      <td>233.17</td>\n",
       "      <td>1.0</td>\n",
       "    </tr>\n",
       "    <tr>\n",
       "      <th>2292</th>\n",
       "      <td>1311</td>\n",
       "      <td>6</td>\n",
       "      <td>NaN</td>\n",
       "      <td>NaN</td>\n",
       "      <td>NaN</td>\n",
       "      <td>1498.83</td>\n",
       "      <td>2.0</td>\n",
       "    </tr>\n",
       "  </tbody>\n",
       "</table>\n",
       "<p>2293 rows × 7 columns</p>\n",
       "</div>"
      ],
      "text/plain": [
       "      user_id  mes  total de llamadas  total de duracion  total de mensajes  \\\n",
       "0        1000   12               16.0              124.0               11.0   \n",
       "1        1001    8               27.0              182.0               30.0   \n",
       "2        1001    9               49.0              315.0               44.0   \n",
       "3        1001   10               65.0              393.0               53.0   \n",
       "4        1001   11               64.0              426.0               36.0   \n",
       "...       ...  ...                ...                ...                ...   \n",
       "2288     1349   12                NaN                NaN               61.0   \n",
       "2289     1361    5                NaN                NaN                2.0   \n",
       "2290     1482   10                NaN                NaN                2.0   \n",
       "2291     1108   12                NaN                NaN                NaN   \n",
       "2292     1311    6                NaN                NaN                NaN   \n",
       "\n",
       "      total de datos en mb  total de datos en gb  \n",
       "0                  1901.47                   2.0  \n",
       "1                  6919.15                   7.0  \n",
       "2                 13314.82                  14.0  \n",
       "3                 22330.49                  22.0  \n",
       "4                 18504.30                  19.0  \n",
       "...                    ...                   ...  \n",
       "2288              13039.91                  13.0  \n",
       "2289               1519.69                   2.0  \n",
       "2290                   NaN                   NaN  \n",
       "2291                233.17                   1.0  \n",
       "2292               1498.83                   2.0  \n",
       "\n",
       "[2293 rows x 7 columns]"
      ]
     },
     "execution_count": 167,
     "metadata": {},
     "output_type": "execute_result"
    }
   ],
   "source": [
    "# Fusiona los datos de llamadas, minutos, mensajes e Internet con base en user_id y month\n",
    "llamadas_y_mensajes = call_cant_min.merge(mensajes_cant_usuario, on=[\"user_id\",\"mes\"],how=\"outer\")\n",
    "llamadas_y_mensajes_datos=llamadas_y_mensajes.merge(datos_total_usuario, on=[\"user_id\",\"mes\"],how=\"outer\")\n",
    "llamadas_y_mensajes_datos"
   ]
  },
  {
   "cell_type": "code",
   "execution_count": 168,
   "metadata": {
    "id": "0dNOXHag0q1H"
   },
   "outputs": [
    {
     "data": {
      "text/html": [
       "<div>\n",
       "<style scoped>\n",
       "    .dataframe tbody tr th:only-of-type {\n",
       "        vertical-align: middle;\n",
       "    }\n",
       "\n",
       "    .dataframe tbody tr th {\n",
       "        vertical-align: top;\n",
       "    }\n",
       "\n",
       "    .dataframe thead th {\n",
       "        text-align: right;\n",
       "    }\n",
       "</style>\n",
       "<table border=\"1\" class=\"dataframe\">\n",
       "  <thead>\n",
       "    <tr style=\"text-align: right;\">\n",
       "      <th></th>\n",
       "      <th>user_id</th>\n",
       "      <th>mes</th>\n",
       "      <th>total de llamadas</th>\n",
       "      <th>total de duracion</th>\n",
       "      <th>total de mensajes</th>\n",
       "      <th>total de datos en mb</th>\n",
       "      <th>total de datos en gb</th>\n",
       "      <th>plan_id</th>\n",
       "      <th>reg_date</th>\n",
       "      <th>city</th>\n",
       "    </tr>\n",
       "  </thead>\n",
       "  <tbody>\n",
       "    <tr>\n",
       "      <th>0</th>\n",
       "      <td>1000</td>\n",
       "      <td>12</td>\n",
       "      <td>16.0</td>\n",
       "      <td>124.0</td>\n",
       "      <td>11.0</td>\n",
       "      <td>1901.47</td>\n",
       "      <td>2.0</td>\n",
       "      <td>ultimate</td>\n",
       "      <td>2018-12-24</td>\n",
       "      <td>Atlanta-Sandy Springs-Roswell, GA MSA</td>\n",
       "    </tr>\n",
       "    <tr>\n",
       "      <th>1</th>\n",
       "      <td>1001</td>\n",
       "      <td>8</td>\n",
       "      <td>27.0</td>\n",
       "      <td>182.0</td>\n",
       "      <td>30.0</td>\n",
       "      <td>6919.15</td>\n",
       "      <td>7.0</td>\n",
       "      <td>surf</td>\n",
       "      <td>2018-08-13</td>\n",
       "      <td>Seattle-Tacoma-Bellevue, WA MSA</td>\n",
       "    </tr>\n",
       "    <tr>\n",
       "      <th>2</th>\n",
       "      <td>1001</td>\n",
       "      <td>9</td>\n",
       "      <td>49.0</td>\n",
       "      <td>315.0</td>\n",
       "      <td>44.0</td>\n",
       "      <td>13314.82</td>\n",
       "      <td>14.0</td>\n",
       "      <td>surf</td>\n",
       "      <td>2018-08-13</td>\n",
       "      <td>Seattle-Tacoma-Bellevue, WA MSA</td>\n",
       "    </tr>\n",
       "    <tr>\n",
       "      <th>3</th>\n",
       "      <td>1001</td>\n",
       "      <td>10</td>\n",
       "      <td>65.0</td>\n",
       "      <td>393.0</td>\n",
       "      <td>53.0</td>\n",
       "      <td>22330.49</td>\n",
       "      <td>22.0</td>\n",
       "      <td>surf</td>\n",
       "      <td>2018-08-13</td>\n",
       "      <td>Seattle-Tacoma-Bellevue, WA MSA</td>\n",
       "    </tr>\n",
       "    <tr>\n",
       "      <th>4</th>\n",
       "      <td>1001</td>\n",
       "      <td>11</td>\n",
       "      <td>64.0</td>\n",
       "      <td>426.0</td>\n",
       "      <td>36.0</td>\n",
       "      <td>18504.30</td>\n",
       "      <td>19.0</td>\n",
       "      <td>surf</td>\n",
       "      <td>2018-08-13</td>\n",
       "      <td>Seattle-Tacoma-Bellevue, WA MSA</td>\n",
       "    </tr>\n",
       "    <tr>\n",
       "      <th>...</th>\n",
       "      <td>...</td>\n",
       "      <td>...</td>\n",
       "      <td>...</td>\n",
       "      <td>...</td>\n",
       "      <td>...</td>\n",
       "      <td>...</td>\n",
       "      <td>...</td>\n",
       "      <td>...</td>\n",
       "      <td>...</td>\n",
       "      <td>...</td>\n",
       "    </tr>\n",
       "    <tr>\n",
       "      <th>2288</th>\n",
       "      <td>1204</td>\n",
       "      <td>12</td>\n",
       "      <td>NaN</td>\n",
       "      <td>NaN</td>\n",
       "      <td>78.0</td>\n",
       "      <td>36730.05</td>\n",
       "      <td>36.0</td>\n",
       "      <td>ultimate</td>\n",
       "      <td>2018-08-20</td>\n",
       "      <td>Chicago-Naperville-Elgin, IL-IN-WI MSA</td>\n",
       "    </tr>\n",
       "    <tr>\n",
       "      <th>2289</th>\n",
       "      <td>1349</td>\n",
       "      <td>10</td>\n",
       "      <td>NaN</td>\n",
       "      <td>NaN</td>\n",
       "      <td>76.0</td>\n",
       "      <td>13093.55</td>\n",
       "      <td>13.0</td>\n",
       "      <td>surf</td>\n",
       "      <td>2018-10-01</td>\n",
       "      <td>Boston-Cambridge-Newton, MA-NH MSA</td>\n",
       "    </tr>\n",
       "    <tr>\n",
       "      <th>2290</th>\n",
       "      <td>1349</td>\n",
       "      <td>11</td>\n",
       "      <td>NaN</td>\n",
       "      <td>NaN</td>\n",
       "      <td>72.0</td>\n",
       "      <td>17128.26</td>\n",
       "      <td>17.0</td>\n",
       "      <td>surf</td>\n",
       "      <td>2018-10-01</td>\n",
       "      <td>Boston-Cambridge-Newton, MA-NH MSA</td>\n",
       "    </tr>\n",
       "    <tr>\n",
       "      <th>2291</th>\n",
       "      <td>1349</td>\n",
       "      <td>12</td>\n",
       "      <td>NaN</td>\n",
       "      <td>NaN</td>\n",
       "      <td>61.0</td>\n",
       "      <td>13039.91</td>\n",
       "      <td>13.0</td>\n",
       "      <td>surf</td>\n",
       "      <td>2018-10-01</td>\n",
       "      <td>Boston-Cambridge-Newton, MA-NH MSA</td>\n",
       "    </tr>\n",
       "    <tr>\n",
       "      <th>2292</th>\n",
       "      <td>1108</td>\n",
       "      <td>12</td>\n",
       "      <td>NaN</td>\n",
       "      <td>NaN</td>\n",
       "      <td>NaN</td>\n",
       "      <td>233.17</td>\n",
       "      <td>1.0</td>\n",
       "      <td>ultimate</td>\n",
       "      <td>2018-12-30</td>\n",
       "      <td>Salt Lake City, UT MSA</td>\n",
       "    </tr>\n",
       "  </tbody>\n",
       "</table>\n",
       "<p>2293 rows × 10 columns</p>\n",
       "</div>"
      ],
      "text/plain": [
       "      user_id  mes  total de llamadas  total de duracion  total de mensajes  \\\n",
       "0        1000   12               16.0              124.0               11.0   \n",
       "1        1001    8               27.0              182.0               30.0   \n",
       "2        1001    9               49.0              315.0               44.0   \n",
       "3        1001   10               65.0              393.0               53.0   \n",
       "4        1001   11               64.0              426.0               36.0   \n",
       "...       ...  ...                ...                ...                ...   \n",
       "2288     1204   12                NaN                NaN               78.0   \n",
       "2289     1349   10                NaN                NaN               76.0   \n",
       "2290     1349   11                NaN                NaN               72.0   \n",
       "2291     1349   12                NaN                NaN               61.0   \n",
       "2292     1108   12                NaN                NaN                NaN   \n",
       "\n",
       "      total de datos en mb  total de datos en gb   plan_id    reg_date  \\\n",
       "0                  1901.47                   2.0  ultimate  2018-12-24   \n",
       "1                  6919.15                   7.0      surf  2018-08-13   \n",
       "2                 13314.82                  14.0      surf  2018-08-13   \n",
       "3                 22330.49                  22.0      surf  2018-08-13   \n",
       "4                 18504.30                  19.0      surf  2018-08-13   \n",
       "...                    ...                   ...       ...         ...   \n",
       "2288              36730.05                  36.0  ultimate  2018-08-20   \n",
       "2289              13093.55                  13.0      surf  2018-10-01   \n",
       "2290              17128.26                  17.0      surf  2018-10-01   \n",
       "2291              13039.91                  13.0      surf  2018-10-01   \n",
       "2292                233.17                   1.0  ultimate  2018-12-30   \n",
       "\n",
       "                                        city  \n",
       "0      Atlanta-Sandy Springs-Roswell, GA MSA  \n",
       "1            Seattle-Tacoma-Bellevue, WA MSA  \n",
       "2            Seattle-Tacoma-Bellevue, WA MSA  \n",
       "3            Seattle-Tacoma-Bellevue, WA MSA  \n",
       "4            Seattle-Tacoma-Bellevue, WA MSA  \n",
       "...                                      ...  \n",
       "2288  Chicago-Naperville-Elgin, IL-IN-WI MSA  \n",
       "2289      Boston-Cambridge-Newton, MA-NH MSA  \n",
       "2290      Boston-Cambridge-Newton, MA-NH MSA  \n",
       "2291      Boston-Cambridge-Newton, MA-NH MSA  \n",
       "2292                  Salt Lake City, UT MSA  \n",
       "\n",
       "[2293 rows x 10 columns]"
      ]
     },
     "execution_count": 168,
     "metadata": {},
     "output_type": "execute_result"
    }
   ],
   "source": [
    "# Añade la información de la tarifa\n",
    "consumo_usuario=llamadas_y_mensajes_datos.merge(usuario[[\"user_id\",\"plan_id\",\"reg_date\",\"city\"]], on=\"user_id\", how=\"inner\")\n",
    "consumo_usuario # se une las 2 dataframes "
   ]
  },
  {
   "cell_type": "code",
   "execution_count": 169,
   "metadata": {},
   "outputs": [
    {
     "data": {
      "text/html": [
       "<div>\n",
       "<style scoped>\n",
       "    .dataframe tbody tr th:only-of-type {\n",
       "        vertical-align: middle;\n",
       "    }\n",
       "\n",
       "    .dataframe tbody tr th {\n",
       "        vertical-align: top;\n",
       "    }\n",
       "\n",
       "    .dataframe thead th {\n",
       "        text-align: right;\n",
       "    }\n",
       "</style>\n",
       "<table border=\"1\" class=\"dataframe\">\n",
       "  <thead>\n",
       "    <tr style=\"text-align: right;\">\n",
       "      <th></th>\n",
       "      <th>user_id</th>\n",
       "      <th>mes</th>\n",
       "      <th>total de llamadas</th>\n",
       "      <th>total de duracion</th>\n",
       "      <th>total de mensajes</th>\n",
       "      <th>total de datos en mb</th>\n",
       "      <th>total de datos en gb</th>\n",
       "      <th>plan_id</th>\n",
       "      <th>reg_date</th>\n",
       "      <th>city</th>\n",
       "      <th>messages_included</th>\n",
       "      <th>gb_per_month_included</th>\n",
       "      <th>minutes_included</th>\n",
       "      <th>usd_monthly_pay</th>\n",
       "      <th>usd_per_gb</th>\n",
       "      <th>usd_per_message</th>\n",
       "      <th>usd_per_minute</th>\n",
       "    </tr>\n",
       "  </thead>\n",
       "  <tbody>\n",
       "    <tr>\n",
       "      <th>0</th>\n",
       "      <td>1000</td>\n",
       "      <td>12</td>\n",
       "      <td>16.0</td>\n",
       "      <td>124.0</td>\n",
       "      <td>11.0</td>\n",
       "      <td>1901.47</td>\n",
       "      <td>2.0</td>\n",
       "      <td>ultimate</td>\n",
       "      <td>2018-12-24</td>\n",
       "      <td>Atlanta-Sandy Springs-Roswell, GA MSA</td>\n",
       "      <td>1000</td>\n",
       "      <td>30.0</td>\n",
       "      <td>3000</td>\n",
       "      <td>70</td>\n",
       "      <td>7</td>\n",
       "      <td>0.01</td>\n",
       "      <td>0.01</td>\n",
       "    </tr>\n",
       "    <tr>\n",
       "      <th>1</th>\n",
       "      <td>1001</td>\n",
       "      <td>8</td>\n",
       "      <td>27.0</td>\n",
       "      <td>182.0</td>\n",
       "      <td>30.0</td>\n",
       "      <td>6919.15</td>\n",
       "      <td>7.0</td>\n",
       "      <td>surf</td>\n",
       "      <td>2018-08-13</td>\n",
       "      <td>Seattle-Tacoma-Bellevue, WA MSA</td>\n",
       "      <td>50</td>\n",
       "      <td>15.0</td>\n",
       "      <td>500</td>\n",
       "      <td>20</td>\n",
       "      <td>10</td>\n",
       "      <td>0.03</td>\n",
       "      <td>0.03</td>\n",
       "    </tr>\n",
       "    <tr>\n",
       "      <th>2</th>\n",
       "      <td>1001</td>\n",
       "      <td>9</td>\n",
       "      <td>49.0</td>\n",
       "      <td>315.0</td>\n",
       "      <td>44.0</td>\n",
       "      <td>13314.82</td>\n",
       "      <td>14.0</td>\n",
       "      <td>surf</td>\n",
       "      <td>2018-08-13</td>\n",
       "      <td>Seattle-Tacoma-Bellevue, WA MSA</td>\n",
       "      <td>50</td>\n",
       "      <td>15.0</td>\n",
       "      <td>500</td>\n",
       "      <td>20</td>\n",
       "      <td>10</td>\n",
       "      <td>0.03</td>\n",
       "      <td>0.03</td>\n",
       "    </tr>\n",
       "    <tr>\n",
       "      <th>3</th>\n",
       "      <td>1001</td>\n",
       "      <td>10</td>\n",
       "      <td>65.0</td>\n",
       "      <td>393.0</td>\n",
       "      <td>53.0</td>\n",
       "      <td>22330.49</td>\n",
       "      <td>22.0</td>\n",
       "      <td>surf</td>\n",
       "      <td>2018-08-13</td>\n",
       "      <td>Seattle-Tacoma-Bellevue, WA MSA</td>\n",
       "      <td>50</td>\n",
       "      <td>15.0</td>\n",
       "      <td>500</td>\n",
       "      <td>20</td>\n",
       "      <td>10</td>\n",
       "      <td>0.03</td>\n",
       "      <td>0.03</td>\n",
       "    </tr>\n",
       "    <tr>\n",
       "      <th>4</th>\n",
       "      <td>1001</td>\n",
       "      <td>11</td>\n",
       "      <td>64.0</td>\n",
       "      <td>426.0</td>\n",
       "      <td>36.0</td>\n",
       "      <td>18504.30</td>\n",
       "      <td>19.0</td>\n",
       "      <td>surf</td>\n",
       "      <td>2018-08-13</td>\n",
       "      <td>Seattle-Tacoma-Bellevue, WA MSA</td>\n",
       "      <td>50</td>\n",
       "      <td>15.0</td>\n",
       "      <td>500</td>\n",
       "      <td>20</td>\n",
       "      <td>10</td>\n",
       "      <td>0.03</td>\n",
       "      <td>0.03</td>\n",
       "    </tr>\n",
       "    <tr>\n",
       "      <th>...</th>\n",
       "      <td>...</td>\n",
       "      <td>...</td>\n",
       "      <td>...</td>\n",
       "      <td>...</td>\n",
       "      <td>...</td>\n",
       "      <td>...</td>\n",
       "      <td>...</td>\n",
       "      <td>...</td>\n",
       "      <td>...</td>\n",
       "      <td>...</td>\n",
       "      <td>...</td>\n",
       "      <td>...</td>\n",
       "      <td>...</td>\n",
       "      <td>...</td>\n",
       "      <td>...</td>\n",
       "      <td>...</td>\n",
       "      <td>...</td>\n",
       "    </tr>\n",
       "    <tr>\n",
       "      <th>2288</th>\n",
       "      <td>1204</td>\n",
       "      <td>12</td>\n",
       "      <td>0.0</td>\n",
       "      <td>0.0</td>\n",
       "      <td>78.0</td>\n",
       "      <td>36730.05</td>\n",
       "      <td>36.0</td>\n",
       "      <td>ultimate</td>\n",
       "      <td>2018-08-20</td>\n",
       "      <td>Chicago-Naperville-Elgin, IL-IN-WI MSA</td>\n",
       "      <td>1000</td>\n",
       "      <td>30.0</td>\n",
       "      <td>3000</td>\n",
       "      <td>70</td>\n",
       "      <td>7</td>\n",
       "      <td>0.01</td>\n",
       "      <td>0.01</td>\n",
       "    </tr>\n",
       "    <tr>\n",
       "      <th>2289</th>\n",
       "      <td>1349</td>\n",
       "      <td>10</td>\n",
       "      <td>0.0</td>\n",
       "      <td>0.0</td>\n",
       "      <td>76.0</td>\n",
       "      <td>13093.55</td>\n",
       "      <td>13.0</td>\n",
       "      <td>surf</td>\n",
       "      <td>2018-10-01</td>\n",
       "      <td>Boston-Cambridge-Newton, MA-NH MSA</td>\n",
       "      <td>50</td>\n",
       "      <td>15.0</td>\n",
       "      <td>500</td>\n",
       "      <td>20</td>\n",
       "      <td>10</td>\n",
       "      <td>0.03</td>\n",
       "      <td>0.03</td>\n",
       "    </tr>\n",
       "    <tr>\n",
       "      <th>2290</th>\n",
       "      <td>1349</td>\n",
       "      <td>11</td>\n",
       "      <td>0.0</td>\n",
       "      <td>0.0</td>\n",
       "      <td>72.0</td>\n",
       "      <td>17128.26</td>\n",
       "      <td>17.0</td>\n",
       "      <td>surf</td>\n",
       "      <td>2018-10-01</td>\n",
       "      <td>Boston-Cambridge-Newton, MA-NH MSA</td>\n",
       "      <td>50</td>\n",
       "      <td>15.0</td>\n",
       "      <td>500</td>\n",
       "      <td>20</td>\n",
       "      <td>10</td>\n",
       "      <td>0.03</td>\n",
       "      <td>0.03</td>\n",
       "    </tr>\n",
       "    <tr>\n",
       "      <th>2291</th>\n",
       "      <td>1349</td>\n",
       "      <td>12</td>\n",
       "      <td>0.0</td>\n",
       "      <td>0.0</td>\n",
       "      <td>61.0</td>\n",
       "      <td>13039.91</td>\n",
       "      <td>13.0</td>\n",
       "      <td>surf</td>\n",
       "      <td>2018-10-01</td>\n",
       "      <td>Boston-Cambridge-Newton, MA-NH MSA</td>\n",
       "      <td>50</td>\n",
       "      <td>15.0</td>\n",
       "      <td>500</td>\n",
       "      <td>20</td>\n",
       "      <td>10</td>\n",
       "      <td>0.03</td>\n",
       "      <td>0.03</td>\n",
       "    </tr>\n",
       "    <tr>\n",
       "      <th>2292</th>\n",
       "      <td>1108</td>\n",
       "      <td>12</td>\n",
       "      <td>0.0</td>\n",
       "      <td>0.0</td>\n",
       "      <td>0.0</td>\n",
       "      <td>233.17</td>\n",
       "      <td>1.0</td>\n",
       "      <td>ultimate</td>\n",
       "      <td>2018-12-30</td>\n",
       "      <td>Salt Lake City, UT MSA</td>\n",
       "      <td>1000</td>\n",
       "      <td>30.0</td>\n",
       "      <td>3000</td>\n",
       "      <td>70</td>\n",
       "      <td>7</td>\n",
       "      <td>0.01</td>\n",
       "      <td>0.01</td>\n",
       "    </tr>\n",
       "  </tbody>\n",
       "</table>\n",
       "<p>2293 rows × 17 columns</p>\n",
       "</div>"
      ],
      "text/plain": [
       "      user_id  mes  total de llamadas  total de duracion  total de mensajes  \\\n",
       "0        1000   12               16.0              124.0               11.0   \n",
       "1        1001    8               27.0              182.0               30.0   \n",
       "2        1001    9               49.0              315.0               44.0   \n",
       "3        1001   10               65.0              393.0               53.0   \n",
       "4        1001   11               64.0              426.0               36.0   \n",
       "...       ...  ...                ...                ...                ...   \n",
       "2288     1204   12                0.0                0.0               78.0   \n",
       "2289     1349   10                0.0                0.0               76.0   \n",
       "2290     1349   11                0.0                0.0               72.0   \n",
       "2291     1349   12                0.0                0.0               61.0   \n",
       "2292     1108   12                0.0                0.0                0.0   \n",
       "\n",
       "      total de datos en mb  total de datos en gb   plan_id    reg_date  \\\n",
       "0                  1901.47                   2.0  ultimate  2018-12-24   \n",
       "1                  6919.15                   7.0      surf  2018-08-13   \n",
       "2                 13314.82                  14.0      surf  2018-08-13   \n",
       "3                 22330.49                  22.0      surf  2018-08-13   \n",
       "4                 18504.30                  19.0      surf  2018-08-13   \n",
       "...                    ...                   ...       ...         ...   \n",
       "2288              36730.05                  36.0  ultimate  2018-08-20   \n",
       "2289              13093.55                  13.0      surf  2018-10-01   \n",
       "2290              17128.26                  17.0      surf  2018-10-01   \n",
       "2291              13039.91                  13.0      surf  2018-10-01   \n",
       "2292                233.17                   1.0  ultimate  2018-12-30   \n",
       "\n",
       "                                        city  messages_included  \\\n",
       "0      Atlanta-Sandy Springs-Roswell, GA MSA               1000   \n",
       "1            Seattle-Tacoma-Bellevue, WA MSA                 50   \n",
       "2            Seattle-Tacoma-Bellevue, WA MSA                 50   \n",
       "3            Seattle-Tacoma-Bellevue, WA MSA                 50   \n",
       "4            Seattle-Tacoma-Bellevue, WA MSA                 50   \n",
       "...                                      ...                ...   \n",
       "2288  Chicago-Naperville-Elgin, IL-IN-WI MSA               1000   \n",
       "2289      Boston-Cambridge-Newton, MA-NH MSA                 50   \n",
       "2290      Boston-Cambridge-Newton, MA-NH MSA                 50   \n",
       "2291      Boston-Cambridge-Newton, MA-NH MSA                 50   \n",
       "2292                  Salt Lake City, UT MSA               1000   \n",
       "\n",
       "      gb_per_month_included  minutes_included  usd_monthly_pay  usd_per_gb  \\\n",
       "0                      30.0              3000               70           7   \n",
       "1                      15.0               500               20          10   \n",
       "2                      15.0               500               20          10   \n",
       "3                      15.0               500               20          10   \n",
       "4                      15.0               500               20          10   \n",
       "...                     ...               ...              ...         ...   \n",
       "2288                   30.0              3000               70           7   \n",
       "2289                   15.0               500               20          10   \n",
       "2290                   15.0               500               20          10   \n",
       "2291                   15.0               500               20          10   \n",
       "2292                   30.0              3000               70           7   \n",
       "\n",
       "      usd_per_message  usd_per_minute  \n",
       "0                0.01            0.01  \n",
       "1                0.03            0.03  \n",
       "2                0.03            0.03  \n",
       "3                0.03            0.03  \n",
       "4                0.03            0.03  \n",
       "...               ...             ...  \n",
       "2288             0.01            0.01  \n",
       "2289             0.03            0.03  \n",
       "2290             0.03            0.03  \n",
       "2291             0.03            0.03  \n",
       "2292             0.01            0.01  \n",
       "\n",
       "[2293 rows x 17 columns]"
      ]
     },
     "execution_count": 169,
     "metadata": {},
     "output_type": "execute_result"
    }
   ],
   "source": [
    "total_consumo_plan=consumo_usuario.merge(planes,on=\"plan_id\", how=\"left\")# juntar con el dataframes de planes \n",
    "total_consumo_plan.fillna(0 ,inplace=True)\n",
    "total_consumo_plan "
   ]
  },
  {
   "cell_type": "markdown",
   "metadata": {
    "id": "1IwGo4wg0q1I"
   },
   "source": [
    "[Calcula los ingresos mensuales por usuario (resta el límite del paquete gratuito del número total de llamadas, mensajes de texto y datos; multiplica el resultado por el valor del plan de llamadas; añade la tarifa mensual en función del plan de llamadas). Nota: Dadas las condiciones del plan, ¡esto podría no ser tan trivial como un par de líneas! Así que no pasa nada si dedicas algo de tiempo a ello.]"
   ]
  },
  {
   "cell_type": "code",
   "execution_count": 170,
   "metadata": {
    "id": "5FGCf_c60q1I"
   },
   "outputs": [],
   "source": [
    "# Calcula el ingreso mensual para cada usuario\n",
    "def rentabilidad_mensual(fila):# crear funcion para la creacion de la columna de ingreso\n",
    "    ingreso_mensual_usuario= 0 \n",
    "\n",
    "    ingreso_mensajes=0\n",
    "    ingreso_datos=0\n",
    "    ingreso_llamadas=0\n",
    "\n",
    "    if fila[\"total de duracion\"]>fila[\"minutes_included\"]:\n",
    "        ingreso_llamadas=(fila[\"total de duracion\"]-fila[\"minutes_included\"])*fila[\"usd_per_minute\"]\n",
    "    if fila[\"total de mensajes\"]>fila[\"messages_included\"]:\n",
    "        ingreso_mensajes=(fila[\"total de mensajes\"]-fila[\"messages_included\"])*fila[\"usd_per_message\"]\n",
    "    if fila[\"total de datos en gb\"]>fila[\"gb_per_month_included\"]:\n",
    "        ingreso_datos=(fila[\"total de datos en gb\"]-fila[\"gb_per_month_included\"])*fila[\"usd_per_gb\"]\n",
    "\n",
    "    ingreso_mensual_usuario= fila[\"usd_monthly_pay\"]+ ingreso_mensajes + ingreso_datos + ingreso_llamadas\n",
    "\n",
    "    return ingreso_mensual_usuario\n",
    "\n",
    "\n"
   ]
  },
  {
   "cell_type": "code",
   "execution_count": 171,
   "metadata": {
    "scrolled": false
   },
   "outputs": [
    {
     "data": {
      "text/html": [
       "<div>\n",
       "<style scoped>\n",
       "    .dataframe tbody tr th:only-of-type {\n",
       "        vertical-align: middle;\n",
       "    }\n",
       "\n",
       "    .dataframe tbody tr th {\n",
       "        vertical-align: top;\n",
       "    }\n",
       "\n",
       "    .dataframe thead th {\n",
       "        text-align: right;\n",
       "    }\n",
       "</style>\n",
       "<table border=\"1\" class=\"dataframe\">\n",
       "  <thead>\n",
       "    <tr style=\"text-align: right;\">\n",
       "      <th></th>\n",
       "      <th>user_id</th>\n",
       "      <th>mes</th>\n",
       "      <th>total de llamadas</th>\n",
       "      <th>total de duracion</th>\n",
       "      <th>total de mensajes</th>\n",
       "      <th>total de datos en mb</th>\n",
       "      <th>total de datos en gb</th>\n",
       "      <th>plan_id</th>\n",
       "      <th>reg_date</th>\n",
       "      <th>city</th>\n",
       "      <th>messages_included</th>\n",
       "      <th>gb_per_month_included</th>\n",
       "      <th>minutes_included</th>\n",
       "      <th>usd_monthly_pay</th>\n",
       "      <th>usd_per_gb</th>\n",
       "      <th>usd_per_message</th>\n",
       "      <th>usd_per_minute</th>\n",
       "      <th>ingreso_mensual</th>\n",
       "    </tr>\n",
       "  </thead>\n",
       "  <tbody>\n",
       "    <tr>\n",
       "      <th>0</th>\n",
       "      <td>1000</td>\n",
       "      <td>12</td>\n",
       "      <td>16.0</td>\n",
       "      <td>124.0</td>\n",
       "      <td>11.0</td>\n",
       "      <td>1901.47</td>\n",
       "      <td>2.0</td>\n",
       "      <td>ultimate</td>\n",
       "      <td>2018-12-24</td>\n",
       "      <td>Atlanta-Sandy Springs-Roswell, GA MSA</td>\n",
       "      <td>1000</td>\n",
       "      <td>30.0</td>\n",
       "      <td>3000</td>\n",
       "      <td>70</td>\n",
       "      <td>7</td>\n",
       "      <td>0.01</td>\n",
       "      <td>0.01</td>\n",
       "      <td>70.00</td>\n",
       "    </tr>\n",
       "    <tr>\n",
       "      <th>1</th>\n",
       "      <td>1001</td>\n",
       "      <td>8</td>\n",
       "      <td>27.0</td>\n",
       "      <td>182.0</td>\n",
       "      <td>30.0</td>\n",
       "      <td>6919.15</td>\n",
       "      <td>7.0</td>\n",
       "      <td>surf</td>\n",
       "      <td>2018-08-13</td>\n",
       "      <td>Seattle-Tacoma-Bellevue, WA MSA</td>\n",
       "      <td>50</td>\n",
       "      <td>15.0</td>\n",
       "      <td>500</td>\n",
       "      <td>20</td>\n",
       "      <td>10</td>\n",
       "      <td>0.03</td>\n",
       "      <td>0.03</td>\n",
       "      <td>20.00</td>\n",
       "    </tr>\n",
       "    <tr>\n",
       "      <th>2</th>\n",
       "      <td>1001</td>\n",
       "      <td>9</td>\n",
       "      <td>49.0</td>\n",
       "      <td>315.0</td>\n",
       "      <td>44.0</td>\n",
       "      <td>13314.82</td>\n",
       "      <td>14.0</td>\n",
       "      <td>surf</td>\n",
       "      <td>2018-08-13</td>\n",
       "      <td>Seattle-Tacoma-Bellevue, WA MSA</td>\n",
       "      <td>50</td>\n",
       "      <td>15.0</td>\n",
       "      <td>500</td>\n",
       "      <td>20</td>\n",
       "      <td>10</td>\n",
       "      <td>0.03</td>\n",
       "      <td>0.03</td>\n",
       "      <td>20.00</td>\n",
       "    </tr>\n",
       "    <tr>\n",
       "      <th>3</th>\n",
       "      <td>1001</td>\n",
       "      <td>10</td>\n",
       "      <td>65.0</td>\n",
       "      <td>393.0</td>\n",
       "      <td>53.0</td>\n",
       "      <td>22330.49</td>\n",
       "      <td>22.0</td>\n",
       "      <td>surf</td>\n",
       "      <td>2018-08-13</td>\n",
       "      <td>Seattle-Tacoma-Bellevue, WA MSA</td>\n",
       "      <td>50</td>\n",
       "      <td>15.0</td>\n",
       "      <td>500</td>\n",
       "      <td>20</td>\n",
       "      <td>10</td>\n",
       "      <td>0.03</td>\n",
       "      <td>0.03</td>\n",
       "      <td>90.09</td>\n",
       "    </tr>\n",
       "    <tr>\n",
       "      <th>4</th>\n",
       "      <td>1001</td>\n",
       "      <td>11</td>\n",
       "      <td>64.0</td>\n",
       "      <td>426.0</td>\n",
       "      <td>36.0</td>\n",
       "      <td>18504.30</td>\n",
       "      <td>19.0</td>\n",
       "      <td>surf</td>\n",
       "      <td>2018-08-13</td>\n",
       "      <td>Seattle-Tacoma-Bellevue, WA MSA</td>\n",
       "      <td>50</td>\n",
       "      <td>15.0</td>\n",
       "      <td>500</td>\n",
       "      <td>20</td>\n",
       "      <td>10</td>\n",
       "      <td>0.03</td>\n",
       "      <td>0.03</td>\n",
       "      <td>60.00</td>\n",
       "    </tr>\n",
       "    <tr>\n",
       "      <th>...</th>\n",
       "      <td>...</td>\n",
       "      <td>...</td>\n",
       "      <td>...</td>\n",
       "      <td>...</td>\n",
       "      <td>...</td>\n",
       "      <td>...</td>\n",
       "      <td>...</td>\n",
       "      <td>...</td>\n",
       "      <td>...</td>\n",
       "      <td>...</td>\n",
       "      <td>...</td>\n",
       "      <td>...</td>\n",
       "      <td>...</td>\n",
       "      <td>...</td>\n",
       "      <td>...</td>\n",
       "      <td>...</td>\n",
       "      <td>...</td>\n",
       "      <td>...</td>\n",
       "    </tr>\n",
       "    <tr>\n",
       "      <th>2288</th>\n",
       "      <td>1204</td>\n",
       "      <td>12</td>\n",
       "      <td>0.0</td>\n",
       "      <td>0.0</td>\n",
       "      <td>78.0</td>\n",
       "      <td>36730.05</td>\n",
       "      <td>36.0</td>\n",
       "      <td>ultimate</td>\n",
       "      <td>2018-08-20</td>\n",
       "      <td>Chicago-Naperville-Elgin, IL-IN-WI MSA</td>\n",
       "      <td>1000</td>\n",
       "      <td>30.0</td>\n",
       "      <td>3000</td>\n",
       "      <td>70</td>\n",
       "      <td>7</td>\n",
       "      <td>0.01</td>\n",
       "      <td>0.01</td>\n",
       "      <td>112.00</td>\n",
       "    </tr>\n",
       "    <tr>\n",
       "      <th>2289</th>\n",
       "      <td>1349</td>\n",
       "      <td>10</td>\n",
       "      <td>0.0</td>\n",
       "      <td>0.0</td>\n",
       "      <td>76.0</td>\n",
       "      <td>13093.55</td>\n",
       "      <td>13.0</td>\n",
       "      <td>surf</td>\n",
       "      <td>2018-10-01</td>\n",
       "      <td>Boston-Cambridge-Newton, MA-NH MSA</td>\n",
       "      <td>50</td>\n",
       "      <td>15.0</td>\n",
       "      <td>500</td>\n",
       "      <td>20</td>\n",
       "      <td>10</td>\n",
       "      <td>0.03</td>\n",
       "      <td>0.03</td>\n",
       "      <td>20.78</td>\n",
       "    </tr>\n",
       "    <tr>\n",
       "      <th>2290</th>\n",
       "      <td>1349</td>\n",
       "      <td>11</td>\n",
       "      <td>0.0</td>\n",
       "      <td>0.0</td>\n",
       "      <td>72.0</td>\n",
       "      <td>17128.26</td>\n",
       "      <td>17.0</td>\n",
       "      <td>surf</td>\n",
       "      <td>2018-10-01</td>\n",
       "      <td>Boston-Cambridge-Newton, MA-NH MSA</td>\n",
       "      <td>50</td>\n",
       "      <td>15.0</td>\n",
       "      <td>500</td>\n",
       "      <td>20</td>\n",
       "      <td>10</td>\n",
       "      <td>0.03</td>\n",
       "      <td>0.03</td>\n",
       "      <td>40.66</td>\n",
       "    </tr>\n",
       "    <tr>\n",
       "      <th>2291</th>\n",
       "      <td>1349</td>\n",
       "      <td>12</td>\n",
       "      <td>0.0</td>\n",
       "      <td>0.0</td>\n",
       "      <td>61.0</td>\n",
       "      <td>13039.91</td>\n",
       "      <td>13.0</td>\n",
       "      <td>surf</td>\n",
       "      <td>2018-10-01</td>\n",
       "      <td>Boston-Cambridge-Newton, MA-NH MSA</td>\n",
       "      <td>50</td>\n",
       "      <td>15.0</td>\n",
       "      <td>500</td>\n",
       "      <td>20</td>\n",
       "      <td>10</td>\n",
       "      <td>0.03</td>\n",
       "      <td>0.03</td>\n",
       "      <td>20.33</td>\n",
       "    </tr>\n",
       "    <tr>\n",
       "      <th>2292</th>\n",
       "      <td>1108</td>\n",
       "      <td>12</td>\n",
       "      <td>0.0</td>\n",
       "      <td>0.0</td>\n",
       "      <td>0.0</td>\n",
       "      <td>233.17</td>\n",
       "      <td>1.0</td>\n",
       "      <td>ultimate</td>\n",
       "      <td>2018-12-30</td>\n",
       "      <td>Salt Lake City, UT MSA</td>\n",
       "      <td>1000</td>\n",
       "      <td>30.0</td>\n",
       "      <td>3000</td>\n",
       "      <td>70</td>\n",
       "      <td>7</td>\n",
       "      <td>0.01</td>\n",
       "      <td>0.01</td>\n",
       "      <td>70.00</td>\n",
       "    </tr>\n",
       "  </tbody>\n",
       "</table>\n",
       "<p>2293 rows × 18 columns</p>\n",
       "</div>"
      ],
      "text/plain": [
       "      user_id  mes  total de llamadas  total de duracion  total de mensajes  \\\n",
       "0        1000   12               16.0              124.0               11.0   \n",
       "1        1001    8               27.0              182.0               30.0   \n",
       "2        1001    9               49.0              315.0               44.0   \n",
       "3        1001   10               65.0              393.0               53.0   \n",
       "4        1001   11               64.0              426.0               36.0   \n",
       "...       ...  ...                ...                ...                ...   \n",
       "2288     1204   12                0.0                0.0               78.0   \n",
       "2289     1349   10                0.0                0.0               76.0   \n",
       "2290     1349   11                0.0                0.0               72.0   \n",
       "2291     1349   12                0.0                0.0               61.0   \n",
       "2292     1108   12                0.0                0.0                0.0   \n",
       "\n",
       "      total de datos en mb  total de datos en gb   plan_id    reg_date  \\\n",
       "0                  1901.47                   2.0  ultimate  2018-12-24   \n",
       "1                  6919.15                   7.0      surf  2018-08-13   \n",
       "2                 13314.82                  14.0      surf  2018-08-13   \n",
       "3                 22330.49                  22.0      surf  2018-08-13   \n",
       "4                 18504.30                  19.0      surf  2018-08-13   \n",
       "...                    ...                   ...       ...         ...   \n",
       "2288              36730.05                  36.0  ultimate  2018-08-20   \n",
       "2289              13093.55                  13.0      surf  2018-10-01   \n",
       "2290              17128.26                  17.0      surf  2018-10-01   \n",
       "2291              13039.91                  13.0      surf  2018-10-01   \n",
       "2292                233.17                   1.0  ultimate  2018-12-30   \n",
       "\n",
       "                                        city  messages_included  \\\n",
       "0      Atlanta-Sandy Springs-Roswell, GA MSA               1000   \n",
       "1            Seattle-Tacoma-Bellevue, WA MSA                 50   \n",
       "2            Seattle-Tacoma-Bellevue, WA MSA                 50   \n",
       "3            Seattle-Tacoma-Bellevue, WA MSA                 50   \n",
       "4            Seattle-Tacoma-Bellevue, WA MSA                 50   \n",
       "...                                      ...                ...   \n",
       "2288  Chicago-Naperville-Elgin, IL-IN-WI MSA               1000   \n",
       "2289      Boston-Cambridge-Newton, MA-NH MSA                 50   \n",
       "2290      Boston-Cambridge-Newton, MA-NH MSA                 50   \n",
       "2291      Boston-Cambridge-Newton, MA-NH MSA                 50   \n",
       "2292                  Salt Lake City, UT MSA               1000   \n",
       "\n",
       "      gb_per_month_included  minutes_included  usd_monthly_pay  usd_per_gb  \\\n",
       "0                      30.0              3000               70           7   \n",
       "1                      15.0               500               20          10   \n",
       "2                      15.0               500               20          10   \n",
       "3                      15.0               500               20          10   \n",
       "4                      15.0               500               20          10   \n",
       "...                     ...               ...              ...         ...   \n",
       "2288                   30.0              3000               70           7   \n",
       "2289                   15.0               500               20          10   \n",
       "2290                   15.0               500               20          10   \n",
       "2291                   15.0               500               20          10   \n",
       "2292                   30.0              3000               70           7   \n",
       "\n",
       "      usd_per_message  usd_per_minute  ingreso_mensual  \n",
       "0                0.01            0.01            70.00  \n",
       "1                0.03            0.03            20.00  \n",
       "2                0.03            0.03            20.00  \n",
       "3                0.03            0.03            90.09  \n",
       "4                0.03            0.03            60.00  \n",
       "...               ...             ...              ...  \n",
       "2288             0.01            0.01           112.00  \n",
       "2289             0.03            0.03            20.78  \n",
       "2290             0.03            0.03            40.66  \n",
       "2291             0.03            0.03            20.33  \n",
       "2292             0.01            0.01            70.00  \n",
       "\n",
       "[2293 rows x 18 columns]"
      ]
     },
     "execution_count": 171,
     "metadata": {},
     "output_type": "execute_result"
    }
   ],
   "source": [
    "total_consumo_plan[\"ingreso_mensual\"]=total_consumo_plan.apply(rentabilidad_mensual, axis=1)# se crea la columna de ingreso utilizando apply\n",
    "total_consumo_plan"
   ]
  },
  {
   "cell_type": "markdown",
   "metadata": {
    "id": "-jtyHzJb0q1I"
   },
   "source": [
    "## Estudia el comportamiento de usuario"
   ]
  },
  {
   "cell_type": "markdown",
   "metadata": {
    "id": "AxU3Y0N70q1J"
   },
   "source": [
    "[Calcula algunas estadísticas descriptivas para los datos agregados y fusionados que nos sean útiles y que muestren un panorama general captado por los datos. Dibuja gráficos útiles para facilitar la comprensión. Dado que la tarea principal es comparar las tarifas y decidir cuál es más rentable, las estadísticas y gráficas deben calcularse por tarifa.]\n",
    "\n",
    "[En los comentarios hallarás pistas relevantes para las llamadas, pero no las hay para los mensajes e Internet. Sin embargo, el principio del estudio estadístico que se aplica para ellos es el mismo que para las llamadas.]"
   ]
  },
  {
   "cell_type": "markdown",
   "metadata": {
    "id": "vtW4CJEe0q1J"
   },
   "source": [
    "### Llamadas"
   ]
  },
  {
   "cell_type": "code",
   "execution_count": 172,
   "metadata": {
    "id": "Jf5v5--k0q1J"
   },
   "outputs": [
    {
     "data": {
      "image/png": "[encoded data removed]",
      "text/plain": [
       "<Figure size 640x480 with 1 Axes>"
      ]
     },
     "metadata": {},
     "output_type": "display_data"
    }
   ],
   "source": [
    "# Compara la duración promedio de llamadas por cada plan y por cada mes. Traza un gráfico de barras para visualizarla.\n",
    "surf_plan= total_consumo_plan.query('plan_id==\"surf\"')\n",
    "ultimate_plan=total_consumo_plan.query('plan_id==\"ultimate\"')\n",
    "surf_promedio_llamadas=surf_plan.pivot_table(values=\"total de duracion\",index=\"mes\" ,aggfunc=\"mean\").rename(columns={\"total de duracion\":\"mean minutos surf\"})\n",
    "ultimate_promedio_llamadas=ultimate_plan.pivot_table(values=\"total de duracion\",index=\"mes\" ,aggfunc=\"mean\").rename(columns={\"total de duracion\":\"mean minutos ultimate\"})\n",
    "plan_promedio_llamadas=pd.merge(surf_promedio_llamadas,ultimate_promedio_llamadas, on=\"mes\").reset_index()\n",
    "plan_promedio_llamadas.plot(x=\"mes\", kind=\"bar\")\n",
    "plt.show()"
   ]
  },
  {
   "cell_type": "code",
   "execution_count": 173,
   "metadata": {
    "id": "QoLqW1S_0q1J"
   },
   "outputs": [
    {
     "data": {
      "image/png": "[encoded data removed]",
      "text/plain": [
       "<Figure size 640x480 with 1 Axes>"
      ]
     },
     "metadata": {},
     "output_type": "display_data"
    }
   ],
   "source": [
    "# Compara el número de minutos mensuales que necesitan los usuarios de cada plan. Traza un histograma.\n",
    "\n",
    "surf_duracion_mensual=surf_plan[\"total de duracion\"]\n",
    "ultimate_duracion_mensual=ultimate_plan[\"total de duracion\"]\n",
    "surf_duracion_mensual.hist(ax=plt.gca(),label=\"surf\",alpha=0.8, density=True, bins=30)\n",
    "ultimate_duracion_mensual.hist(ax=plt.gca(),label=\"ultimate\", alpha=0.8, density=True,bins=27)\n",
    "plt.legend(title=\"plan_name\")\n",
    "plt.title(\"distribucion de minutos usados por mes por tipo de plan\")\n",
    "plt.show()"
   ]
  },
  {
   "cell_type": "markdown",
   "metadata": {
    "id": "bLS9T8OH0q1K"
   },
   "source": [
    "[Calcula la media y la variable de la duración de las llamadas para averiguar si los usuarios de los distintos planes se comportan de forma diferente al realizar sus llamadas.]"
   ]
  },
  {
   "cell_type": "code",
   "execution_count": 174,
   "metadata": {},
   "outputs": [
    {
     "data": {
      "text/plain": [
       "plan_id\n",
       "surf        428.749523\n",
       "ultimate    430.450000\n",
       "Name: total de duracion, dtype: float64"
      ]
     },
     "execution_count": 174,
     "metadata": {},
     "output_type": "execute_result"
    }
   ],
   "source": [
    "#1 la media\n",
    "media_llamada=total_consumo_plan.groupby(\"plan_id\")[\"total de duracion\"].mean()\n",
    "media_llamada"
   ]
  },
  {
   "cell_type": "markdown",
   "metadata": {},
   "source": [
    "Vemos que no hay mucha diferencia con los promedio de los minutos de ambos planes"
   ]
  },
  {
   "cell_type": "code",
   "execution_count": 175,
   "metadata": {},
   "outputs": [
    {
     "data": {
      "text/plain": [
       "(54933.334591317485, 57764.125277777785)"
      ]
     },
     "execution_count": 175,
     "metadata": {},
     "output_type": "execute_result"
    }
   ],
   "source": [
    "#2.varianza\n",
    "varianza_llamadas_surf=np.var(surf_duracion_mensual)\n",
    "varianza_llamadas_ultimate=np.var(ultimate_duracion_mensual)\n",
    "varianza_llamadas_surf,varianza_llamadas_ultimate\n"
   ]
  },
  {
   "cell_type": "markdown",
   "metadata": {},
   "source": [
    "tampoco hay mucho dispersion entre los minutos mensuales de los usuarios de ambos planes"
   ]
  },
  {
   "cell_type": "code",
   "execution_count": 176,
   "metadata": {
    "id": "nZzoRUKc0q1K"
   },
   "outputs": [
    {
     "data": {
      "text/plain": [
       "<AxesSubplot:xlabel='total de duracion'>"
      ]
     },
     "execution_count": 176,
     "metadata": {},
     "output_type": "execute_result"
    },
    {
     "data": {
      "image/png": "[encoded data removed]",
      "text/plain": [
       "<Figure size 640x480 with 1 Axes>"
      ]
     },
     "metadata": {},
     "output_type": "display_data"
    }
   ],
   "source": [
    "# Traza un diagrama de caja para visualizar la distribución de la duración mensual de llamadas\n",
    "# caja de surf de la duracion de llamadas\n",
    "sns.boxplot(surf_duracion_mensual)"
   ]
  },
  {
   "cell_type": "code",
   "execution_count": 177,
   "metadata": {},
   "outputs": [
    {
     "data": {
      "text/plain": [
       "count    1573.000000\n",
       "mean      428.749523\n",
       "std       234.453150\n",
       "min         0.000000\n",
       "25%       272.000000\n",
       "50%       425.000000\n",
       "75%       576.000000\n",
       "max      1510.000000\n",
       "Name: total de duracion, dtype: float64"
      ]
     },
     "execution_count": 177,
     "metadata": {},
     "output_type": "execute_result"
    }
   ],
   "source": [
    "surf_duracion_mensual.describe()"
   ]
  },
  {
   "cell_type": "code",
   "execution_count": 178,
   "metadata": {},
   "outputs": [
    {
     "data": {
      "text/plain": [
       "<AxesSubplot:xlabel='total de duracion'>"
      ]
     },
     "execution_count": 178,
     "metadata": {},
     "output_type": "execute_result"
    },
    {
     "data": {
      "image/png": "[encoded data removed]",
      "text/plain": [
       "<Figure size 640x480 with 1 Axes>"
      ]
     },
     "metadata": {},
     "output_type": "display_data"
    }
   ],
   "source": [
    "sns.boxplot(ultimate_duracion_mensual)"
   ]
  },
  {
   "cell_type": "code",
   "execution_count": 179,
   "metadata": {},
   "outputs": [
    {
     "data": {
      "text/plain": [
       "count     720.000000\n",
       "mean      430.450000\n",
       "std       240.508762\n",
       "min         0.000000\n",
       "25%       260.000000\n",
       "50%       424.000000\n",
       "75%       565.250000\n",
       "max      1369.000000\n",
       "Name: total de duracion, dtype: float64"
      ]
     },
     "execution_count": 179,
     "metadata": {},
     "output_type": "execute_result"
    }
   ],
   "source": [
    "ultimate_duracion_mensual.describe()"
   ]
  },
  {
   "cell_type": "markdown",
   "metadata": {
    "id": "r627zBO50q1K"
   },
   "source": [
    "[Elabora las conclusiones sobre el comportamiento de los usuarios con respecto a las llamadas. ¿Su comportamiento varía en función del plan?]\n",
    "\n",
    "En la distribucion de los promedios no varia los promedios de minutos usados en cada mes\n",
    "En caso del histograma y caja se detalla los siguientes\n",
    "1.vemos que tampoco varia mucho los numeros usuarios que usaron minutos maximo en las llamadas\n",
    "2.Algunos usuarios del plan surf estan generando ingresos extra por excederse del plan indicado \n"
   ]
  },
  {
   "cell_type": "markdown",
   "metadata": {
    "id": "8idKy8Wh0q1L"
   },
   "source": [
    "### Mensajes"
   ]
  },
  {
   "cell_type": "code",
   "execution_count": 180,
   "metadata": {
    "id": "NXLxiTit0q1L"
   },
   "outputs": [
    {
     "data": {
      "image/png": "[encoded data removed]",
      "text/plain": [
       "<Figure size 640x480 with 1 Axes>"
      ]
     },
     "metadata": {},
     "output_type": "display_data"
    }
   ],
   "source": [
    "#promedio de mensajes por cada mes y plan\n",
    "surf_promedio_mensajes=surf_plan.pivot_table(values=\"total de mensajes\",index=\"mes\" ,aggfunc=\"mean\").rename(columns={\"total de mensajes\":\"mean mensajes surf\"})\n",
    "ultimate_promedio_mensajes=ultimate_plan.pivot_table(values=\"total de mensajes\",index=\"mes\" ,aggfunc=\"mean\").rename(columns={\"total de mensajes\":\"mean mensajes ultimate\"})\n",
    "mensajes_promedio_plan=pd.merge(surf_promedio_mensajes,ultimate_promedio_mensajes, on=\"mes\").reset_index()\n",
    "mensajes_promedio_plan.plot(x=\"mes\", kind=\"bar\")\n",
    "plt.show()\n"
   ]
  },
  {
   "cell_type": "code",
   "execution_count": 181,
   "metadata": {
    "id": "GRI_R7xF0q1L"
   },
   "outputs": [
    {
     "data": {
      "image/png": "[encoded data removed]",
      "text/plain": [
       "<Figure size 640x480 with 1 Axes>"
      ]
     },
     "metadata": {},
     "output_type": "display_data"
    }
   ],
   "source": [
    "# Comprara el número de mensajes que tienden a enviar cada mes los usuarios de cada plan\n",
    "surf_mensaje=surf_plan[\"total de mensajes\"]\n",
    "ultimate_mensaje=ultimate_plan[\"total de mensajes\"]\n",
    "surf_mensaje.hist(label=\"surf\", density=True,alpha=0.8, bins=20)# el numero de bin se adecuao el numero de bloques para comparan bien\n",
    "ultimate_mensaje.hist(label=\"ultimate\", density=True, alpha=0.5, bins=12)\n",
    "plt.legend(title=\"plan_name\")\n",
    "plt.title(\"distribucion de mensajes usados por mes por tipo de plan\")\n",
    "plt.show()\n"
   ]
  },
  {
   "cell_type": "code",
   "execution_count": 182,
   "metadata": {},
   "outputs": [
    {
     "data": {
      "text/plain": [
       "<AxesSubplot:xlabel='total de mensajes'>"
      ]
     },
     "execution_count": 182,
     "metadata": {},
     "output_type": "execute_result"
    },
    {
     "data": {
      "image/png": "[encoded data removed]",
      "text/plain": [
       "<Figure size 640x480 with 1 Axes>"
      ]
     },
     "metadata": {},
     "output_type": "display_data"
    }
   ],
   "source": [
    "sns.boxplot(surf_mensaje)"
   ]
  },
  {
   "cell_type": "code",
   "execution_count": 183,
   "metadata": {},
   "outputs": [
    {
     "data": {
      "text/plain": [
       "<AxesSubplot:xlabel='total de mensajes'>"
      ]
     },
     "execution_count": 183,
     "metadata": {},
     "output_type": "execute_result"
    },
    {
     "data": {
      "image/png": "[encoded data removed]",
      "text/plain": [
       "<Figure size 640x480 with 1 Axes>"
      ]
     },
     "metadata": {},
     "output_type": "display_data"
    }
   ],
   "source": [
    "sns.boxplot(ultimate_mensaje)"
   ]
  },
  {
   "cell_type": "code",
   "execution_count": 184,
   "metadata": {
    "id": "dtFwCGAp0q1M"
   },
   "outputs": [
    {
     "data": {
      "text/plain": [
       "count    1573.000000\n",
       "mean       31.159568\n",
       "std        33.566717\n",
       "min         0.000000\n",
       "25%         3.000000\n",
       "50%        24.000000\n",
       "75%        47.000000\n",
       "max       266.000000\n",
       "Name: total de mensajes, dtype: float64"
      ]
     },
     "execution_count": 184,
     "metadata": {},
     "output_type": "execute_result"
    }
   ],
   "source": [
    "surf_mensaje.describe()"
   ]
  },
  {
   "cell_type": "code",
   "execution_count": 185,
   "metadata": {},
   "outputs": [
    {
     "data": {
      "text/plain": [
       "count    720.000000\n",
       "mean      37.551389\n",
       "std       34.767179\n",
       "min        0.000000\n",
       "25%        7.000000\n",
       "50%       30.000000\n",
       "75%       61.000000\n",
       "max      166.000000\n",
       "Name: total de mensajes, dtype: float64"
      ]
     },
     "execution_count": 185,
     "metadata": {},
     "output_type": "execute_result"
    }
   ],
   "source": [
    "ultimate_mensaje.describe()"
   ]
  },
  {
   "cell_type": "code",
   "execution_count": 186,
   "metadata": {},
   "outputs": [
    {
     "data": {
      "text/plain": [
       "1207.0779147376543"
      ]
     },
     "execution_count": 186,
     "metadata": {},
     "output_type": "execute_result"
    }
   ],
   "source": [
    "np.var(ultimate_mensaje)"
   ]
  },
  {
   "cell_type": "code",
   "execution_count": 187,
   "metadata": {},
   "outputs": [
    {
     "data": {
      "text/plain": [
       "1126.008231726662"
      ]
     },
     "execution_count": 187,
     "metadata": {},
     "output_type": "execute_result"
    }
   ],
   "source": [
    "np.var(surf_mensaje)"
   ]
  },
  {
   "cell_type": "markdown",
   "metadata": {
    "id": "390SSL480q1M"
   },
   "source": [
    "[Elabora las conclusiones sobre el comportamiento de los usuarios con respecto a los mensajes. ¿Su comportamiento varía en función del plan?]\n",
    "\n",
    "Segun el grafico de barras el promedio por mes estan de forma ascedente pero los promedio de cada plan es diferente.\n",
    "El promedio por mes de los usuarios de ultimate cada mes gastaron mas que los usuarios de surf pero la variacion es pequeña.Podemos notar en su varianza de los valores de minutos.\n",
    "Detalle observado del histograma que no se genero ingreso extra en los usuarios de ultimate por que no conusmieron en su totalidad.\n",
    "En cambio con respecto a los usuarios del plan surf se genera un ingreso extra.\n",
    "hay usuarios de surf que usaron mas mensajes que el numero maximo de mensaje que usaron los usuarios de ultimate.\n",
    "No hay mucha diferencia en los mensajes de cada plan. \n"
   ]
  },
  {
   "cell_type": "markdown",
   "metadata": {
    "id": "42YSypXz0q1M"
   },
   "source": [
    "### Internet"
   ]
  },
  {
   "cell_type": "code",
   "execution_count": 188,
   "metadata": {
    "id": "lSuKPtjh0q1M"
   },
   "outputs": [
    {
     "data": {
      "text/plain": [
       "<Figure size 800x1000 with 0 Axes>"
      ]
     },
     "metadata": {},
     "output_type": "display_data"
    },
    {
     "data": {
      "image/png": "[encoded data removed]",
      "text/plain": [
       "<Figure size 640x480 with 1 Axes>"
      ]
     },
     "metadata": {},
     "output_type": "display_data"
    }
   ],
   "source": [
    "# comparacion de datos del promedio por plan y por mes\n",
    "surf_promedio_datos=surf_plan.pivot_table(values=\"total de datos en gb\",index=\"mes\" ,aggfunc=\"mean\").rename(columns={\"total de datos en gb\":\"mean datos surf\"})\n",
    "ultimate_promedio_datos=ultimate_plan.pivot_table(values=\"total de datos en gb\",index=\"mes\" ,aggfunc=\"mean\").rename(columns={\"total de datos en gb\":\"mean datos ultimate\"})\n",
    "datos_promedio_plan=pd.merge(surf_promedio_datos,ultimate_promedio_datos, on=\"mes\").reset_index()\n",
    "plt.figure(figsize=(8,10))\n",
    "datos_promedio_plan.plot(x=\"mes\", kind=\"bar\")\n",
    "plt.show()"
   ]
  },
  {
   "cell_type": "code",
   "execution_count": 189,
   "metadata": {
    "id": "wnh8jYXi0q1N"
   },
   "outputs": [
    {
     "data": {
      "image/png": "[encoded data removed]",
      "text/plain": [
       "<Figure size 640x480 with 1 Axes>"
      ]
     },
     "metadata": {},
     "output_type": "display_data"
    }
   ],
   "source": [
    "# Compara la cantidad de tráfico de Internet consumido por usuarios por plan\n",
    "surf_datos=surf_plan[\"total de datos en gb\"]\n",
    "ultimate_datos=ultimate_plan[\"total de datos en gb\"]\n",
    "surf_datos.hist(label=\"surf\", density=True,alpha=0.8, bins=30)\n",
    "ultimate_datos.hist(label=\"ultimate\", density=True, alpha=0.5, bins=20)\n",
    "plt.legend(title=\"plan_name\")\n",
    "plt.title(\"distribucion de gb usados por mes por tipo de plan\")\n",
    "plt.show()"
   ]
  },
  {
   "cell_type": "code",
   "execution_count": 190,
   "metadata": {
    "id": "5VlyJ9ry0q1N"
   },
   "outputs": [
    {
     "data": {
      "text/plain": [
       "count    1573.000000\n",
       "mean       16.670693\n",
       "std         7.847522\n",
       "min         0.000000\n",
       "25%        12.000000\n",
       "50%        17.000000\n",
       "75%        21.000000\n",
       "max        70.000000\n",
       "Name: total de datos en gb, dtype: float64"
      ]
     },
     "execution_count": 190,
     "metadata": {},
     "output_type": "execute_result"
    }
   ],
   "source": [
    "surf_datos.describe()"
   ]
  },
  {
   "cell_type": "code",
   "execution_count": 191,
   "metadata": {},
   "outputs": [
    {
     "data": {
      "text/plain": [
       "<AxesSubplot:xlabel='total de datos en gb'>"
      ]
     },
     "execution_count": 191,
     "metadata": {},
     "output_type": "execute_result"
    },
    {
     "data": {
      "image/png": "[encoded data removed]",
      "text/plain": [
       "<Figure size 640x480 with 1 Axes>"
      ]
     },
     "metadata": {},
     "output_type": "display_data"
    }
   ],
   "source": [
    "sns.boxplot(surf_datos)"
   ]
  },
  {
   "cell_type": "code",
   "execution_count": 192,
   "metadata": {},
   "outputs": [
    {
     "data": {
      "text/plain": [
       "count    720.000000\n",
       "mean      17.306944\n",
       "std        7.670108\n",
       "min        0.000000\n",
       "25%       13.000000\n",
       "50%       17.000000\n",
       "75%       21.000000\n",
       "max       46.000000\n",
       "Name: total de datos en gb, dtype: float64"
      ]
     },
     "execution_count": 192,
     "metadata": {},
     "output_type": "execute_result"
    }
   ],
   "source": [
    "ultimate_datos.describe()"
   ]
  },
  {
   "cell_type": "code",
   "execution_count": 193,
   "metadata": {},
   "outputs": [
    {
     "data": {
      "text/plain": [
       "<AxesSubplot:xlabel='total de datos en gb'>"
      ]
     },
     "execution_count": 193,
     "metadata": {},
     "output_type": "execute_result"
    },
    {
     "data": {
      "image/png": "[encoded data removed]",
      "text/plain": [
       "<Figure size 640x480 with 1 Axes>"
      ]
     },
     "metadata": {},
     "output_type": "display_data"
    }
   ],
   "source": [
    "sns.boxplot(ultimate_datos)"
   ]
  },
  {
   "cell_type": "code",
   "execution_count": 194,
   "metadata": {},
   "outputs": [
    {
     "data": {
      "text/plain": [
       "58.748840663580246"
      ]
     },
     "execution_count": 194,
     "metadata": {},
     "output_type": "execute_result"
    }
   ],
   "source": [
    "np.var(ultimate_datos)"
   ]
  },
  {
   "cell_type": "code",
   "execution_count": 195,
   "metadata": {},
   "outputs": [
    {
     "data": {
      "text/plain": [
       "61.54444942447023"
      ]
     },
     "execution_count": 195,
     "metadata": {},
     "output_type": "execute_result"
    }
   ],
   "source": [
    "np.var(surf_datos)"
   ]
  },
  {
   "cell_type": "markdown",
   "metadata": {
    "id": "UN9zwuMP0q1N"
   },
   "source": [
    "[Elabora las conclusiones sobre cómo los usuarios tienden a consumir el tráfico de Internet. ¿Su comportamiento varía en función del plan?]\n",
    "\n",
    "con respecto al grafico de barras los promedios mensajes por cada mes con respecto a plan utimate no varia mucho los datos usados excepto en el mes de enero en cambio en caso de usuario del surf fueron utilizando de forma ascedente.\n",
    "Con respecto al histrograma y caja \n",
    "Histogramas detalle:\n",
    "1.La mayor parte del numero de usuario del plan de surf usaron mas de 15 gb, el cual gnera mayor ingreso por exceso del plan(15gb)  \n",
    "2.Tambien hay un numero pequeño de usuario de ultimate que utilizaron mas de 30 gb pero el ingreso por exceso es poco.\n",
    "caja detalle:\n",
    "1.Ambos plan tienes usuarios que utilizaron mas del plan de gb\n",
    "2.hay mayor numero de usuario del plan surf que utilizaron mas de 35 gb\n",
    "los cantidad de gb usados el plan surf tiene mayor dispersion que los de ultimate. \n"
   ]
  },
  {
   "cell_type": "markdown",
   "metadata": {
    "id": "tCijq3260q1N"
   },
   "source": [
    "## Ingreso"
   ]
  },
  {
   "cell_type": "markdown",
   "metadata": {
    "id": "9nq5IAcy0q1O"
   },
   "source": [
    "[Del mismo modo que has estudiado el comportamiento de los usuarios, describe estadísticamente los ingresos de los planes.]"
   ]
  },
  {
   "cell_type": "code",
   "execution_count": 196,
   "metadata": {},
   "outputs": [
    {
     "data": {
      "text/plain": [
       "<Figure size 800x1000 with 0 Axes>"
      ]
     },
     "metadata": {},
     "output_type": "display_data"
    },
    {
     "data": {
      "image/png": "[encoded data removed]",
      "text/plain": [
       "<Figure size 640x480 with 1 Axes>"
      ]
     },
     "metadata": {},
     "output_type": "display_data"
    }
   ],
   "source": [
    "surf_promedio_ingreso=surf_plan.pivot_table(values=\"ingreso_mensual\",index=\"mes\" ,aggfunc=\"mean\").rename(columns={\"ingreso_mensual\":\"mean ingreso surf\"})\n",
    "ultimate_promedio_ingreso=ultimate_plan.pivot_table(values=\"ingreso_mensual\",index=\"mes\" ,aggfunc=\"mean\").rename(columns={\"ingreso_mensual\":\"mean ingreso ultimate\"})\n",
    "datos_promedio_plan=pd.merge(surf_promedio_ingreso,ultimate_promedio_ingreso, on=\"mes\").reset_index()\n",
    "plt.figure(figsize=(8,10))\n",
    "datos_promedio_plan.plot(x=\"mes\", kind=\"bar\")\n",
    "plt.show()"
   ]
  },
  {
   "cell_type": "code",
   "execution_count": 197,
   "metadata": {},
   "outputs": [
    {
     "data": {
      "text/plain": [
       "count    1573.000000\n",
       "mean       60.706408\n",
       "std        55.388042\n",
       "min        20.000000\n",
       "25%        20.000000\n",
       "50%        40.360000\n",
       "75%        80.360000\n",
       "max       590.370000\n",
       "Name: ingreso_mensual, dtype: float64"
      ]
     },
     "execution_count": 197,
     "metadata": {},
     "output_type": "execute_result"
    }
   ],
   "source": [
    "total_consumo_plan.query('plan_id==\"surf\"')[\"ingreso_mensual\"].describe()"
   ]
  },
  {
   "cell_type": "code",
   "execution_count": 198,
   "metadata": {},
   "outputs": [
    {
     "data": {
      "text/plain": [
       "<AxesSubplot:xlabel='ingreso_mensual'>"
      ]
     },
     "execution_count": 198,
     "metadata": {},
     "output_type": "execute_result"
    },
    {
     "data": {
      "image/png": "[encoded data removed]",
      "text/plain": [
       "<Figure size 640x480 with 1 Axes>"
      ]
     },
     "metadata": {},
     "output_type": "display_data"
    }
   ],
   "source": [
    "sns.boxplot(total_consumo_plan.query('plan_id==\"surf\"')[\"ingreso_mensual\"])"
   ]
  },
  {
   "cell_type": "code",
   "execution_count": 199,
   "metadata": {},
   "outputs": [
    {
     "data": {
      "text/plain": [
       "count    720.000000\n",
       "mean      72.313889\n",
       "std       11.395108\n",
       "min       70.000000\n",
       "25%       70.000000\n",
       "50%       70.000000\n",
       "75%       70.000000\n",
       "max      182.000000\n",
       "Name: ingreso_mensual, dtype: float64"
      ]
     },
     "execution_count": 199,
     "metadata": {},
     "output_type": "execute_result"
    }
   ],
   "source": [
    "total_consumo_plan.query(\"plan_id=='ultimate'\")[\"ingreso_mensual\"].describe()"
   ]
  },
  {
   "cell_type": "code",
   "execution_count": 200,
   "metadata": {},
   "outputs": [
    {
     "data": {
      "text/plain": [
       "<AxesSubplot:xlabel='ingreso_mensual'>"
      ]
     },
     "execution_count": 200,
     "metadata": {},
     "output_type": "execute_result"
    },
    {
     "data": {
      "image/png": "[encoded data removed]",
      "text/plain": [
       "<Figure size 640x480 with 1 Axes>"
      ]
     },
     "metadata": {},
     "output_type": "display_data"
    }
   ],
   "source": [
    "sns.boxplot(total_consumo_plan.query('plan_id==\"ultimate\"')[\"ingreso_mensual\"])"
   ]
  },
  {
   "cell_type": "code",
   "execution_count": 201,
   "metadata": {
    "id": "0Y1v8ZUz0q1P"
   },
   "outputs": [
    {
     "data": {
      "image/png": "[encoded data removed]",
      "text/plain": [
       "<Figure size 640x480 with 1 Axes>"
      ]
     },
     "metadata": {},
     "output_type": "display_data"
    }
   ],
   "source": [
    "surf_ingresos=surf_plan[\"ingreso_mensual\"]\n",
    "ultimate_ingresos=ultimate_plan[\"ingreso_mensual\"]\n",
    "surf_ingresos.hist(label=\"surf\", density=True,alpha=0.8, bins=20)\n",
    "ultimate_ingresos.hist(label=\"ultimate\", density=True, alpha=0.5, bins=6)\n",
    "plt.legend(title=\"plan_name\")\n",
    "plt.title(\"distribucion de los ingresos por mes por tipo de plan\")\n",
    "plt.show()"
   ]
  },
  {
   "cell_type": "code",
   "execution_count": 202,
   "metadata": {
    "id": "bYmwxyVh0q1P"
   },
   "outputs": [
    {
     "data": {
      "text/plain": [
       "3065.8848438690247"
      ]
     },
     "execution_count": 202,
     "metadata": {},
     "output_type": "execute_result"
    }
   ],
   "source": [
    "np.var(surf_ingresos)# verificar la variamza para ver que tan dispersons estan los valores"
   ]
  },
  {
   "cell_type": "code",
   "execution_count": 203,
   "metadata": {},
   "outputs": [
    {
     "data": {
      "text/plain": [
       "129.66814043209877"
      ]
     },
     "execution_count": 203,
     "metadata": {},
     "output_type": "execute_result"
    }
   ],
   "source": [
    "np.var(ultimate_ingresos)"
   ]
  },
  {
   "cell_type": "markdown",
   "metadata": {},
   "source": [
    "Hay una diferencia en las varianzas de gb usados por el cual hay una dispersion grande y los valores estan mas alejados que el promedio.Esto se debe por datos y mensajes y minutos de llamadas."
   ]
  },
  {
   "cell_type": "markdown",
   "metadata": {
    "id": "KAFidcXZ0q1P"
   },
   "source": [
    "[Elabora las conclusiones sobre cómo difiere el ingreso entre los planes.]\n",
    "\n",
    "Con respecto al Histograma la mayor parte de los usuario de ultimate gastaron un promedio de 70 dolares\n",
    "Con respecto a la caja se ve estos detalles:\n",
    "los usuarios que gastan mas y consumen son los del plan surf ya que hay algunos que estan dentro de los valores atipico.\n",
    "inclusive se ve que hay mayor dispersion de los ingresos los usuarios del plan surf y se ve que hay una diferencia con los ultimate.\n"
   ]
  },
  {
   "cell_type": "markdown",
   "metadata": {
    "id": "ajJ7VKeI0q1Q"
   },
   "source": [
    "## Prueba las hipótesis estadísticas"
   ]
  },
  {
   "cell_type": "markdown",
   "metadata": {
    "id": "AdXAZ-yL0q1Q"
   },
   "source": [
    "[Prueba la hipótesis de que son diferentes los ingresos promedio procedentes de los usuarios de los planes de llamada Ultimate y Surf.]"
   ]
  },
  {
   "cell_type": "markdown",
   "metadata": {
    "id": "IQwa_hsh0q1Q"
   },
   "source": [
    "[Elabora las hipótesis nula y alternativa, escoge la prueba estadística, determina el valor alfa.]"
   ]
  },
  {
   "cell_type": "code",
   "execution_count": 204,
   "metadata": {
    "id": "nFoPNlPq0q1R"
   },
   "outputs": [
    {
     "name": "stdout",
     "output_type": "stream",
     "text": [
      "valor p: 3.1703905481135734e-15\n",
      "rechazamos la hipotesis nula\n"
     ]
    }
   ],
   "source": [
    "# Prueba las hipótesis\n",
    "#hipotesis nula : ingresos promedio ultimate = ingresos promedio surf\n",
    "#hipoteis alternativa: ingresos promedio ultimate es difernte ingreso promedio surf\n",
    "muestra_surf_ingreso=total_consumo_plan.query('plan_id==\"surf\"')[\"ingreso_mensual\"]\n",
    "muestra_ultimate_ingreso=total_consumo_plan.query('plan_id==\"ultimate\"')[\"ingreso_mensual\"]\n",
    "alpha= 0.05\n",
    "result= st.ttest_ind(muestra_surf_ingreso,muestra_ultimate_ingreso, equal_var=False)\n",
    "print(\"valor p:\",result.pvalue)\n",
    "if (result.pvalue < alpha):\n",
    "    print (\"rechazamos la hipotesis nula\")\n",
    "else:\n",
    "    print(\"No rechazamos la hipotesis nula\")"
   ]
  },
  {
   "cell_type": "markdown",
   "metadata": {},
   "source": [
    "se comprueba que los promedios por usuario de cada plan no son iguales"
   ]
  },
  {
   "cell_type": "markdown",
   "metadata": {
    "id": "tCcAruM60q1R"
   },
   "source": [
    "[Prueba la hipótesis de que el ingreso promedio de los usuarios del área NY-NJ es diferente al de los usuarios de otras regiones.]"
   ]
  },
  {
   "cell_type": "markdown",
   "metadata": {
    "id": "LsBgitqj0q1R"
   },
   "source": [
    "[Elabora las hipótesis nula y alternativa, escoge la prueba estadística, determina el valor alfa.]"
   ]
  },
  {
   "cell_type": "code",
   "execution_count": 205,
   "metadata": {
    "id": "Cqcj7wrZ0q1S"
   },
   "outputs": [
    {
     "data": {
      "text/plain": [
       "array(['New York-Newark-Jersey City, NY-NJ-PA MSA'], dtype=object)"
      ]
     },
     "execution_count": 205,
     "metadata": {},
     "output_type": "execute_result"
    }
   ],
   "source": [
    "# Prueba las hipótesis\n",
    "total_consumo_plan[total_consumo_plan[\"city\"].str.contains(\"New York\")][\"city\"].unique()# identificar que ciudad tomar para filtar la ciudad"
   ]
  },
  {
   "cell_type": "code",
   "execution_count": 206,
   "metadata": {},
   "outputs": [],
   "source": [
    "ny_nj_zone=['New York-Newark-Jersey City, NY-NJ-PA MSA',]"
   ]
  },
  {
   "cell_type": "code",
   "execution_count": 207,
   "metadata": {},
   "outputs": [
    {
     "name": "stdout",
     "output_type": "stream",
     "text": [
      "valor p: 0.0335256158853001\n",
      "rechazamos la hipotesis nula\n"
     ]
    }
   ],
   "source": [
    "# hipotesis nula: ingreso promedio de los usuarios del área NY-NJ es IGUAL a los usuarios de otras regiones\n",
    "# hipotesis alternativa : ingreso promedio de los usuarios del área NY-NJ es DIFERENTE a los usuarios de otras regiones\n",
    "muestra_city_ingreso=total_consumo_plan[total_consumo_plan[\"city\"].isin(ny_nj_zone)][\"ingreso_mensual\"]\n",
    "muestra_city_otros=total_consumo_plan[~total_consumo_plan[\"city\"].isin(ny_nj_zone)][\"ingreso_mensual\"]\n",
    "alpha=0.05\n",
    "result_city=st.ttest_ind(muestra_city_ingreso,muestra_city_otros,equal_var=False)\n",
    "print(\"valor p:\",result_city.pvalue)\n",
    "if (result_city.pvalue<alpha):\n",
    "    print (\"rechazamos la hipotesis nula\")\n",
    "else:\n",
    "    print(\"No rechazamos la hipotesis nula\")"
   ]
  },
  {
   "cell_type": "markdown",
   "metadata": {
    "id": "bbTR8UQO0q1T"
   },
   "source": [
    "## Conclusión general\n",
    "\n",
    "[En esta sección final, enumera tus conclusiones importantes. Asegúrate de que estas abarquen todas las decisiones (suposiciones) importantes que adoptaste y que determinaron la forma elegida para procesar y analizar los datos.]"
   ]
  },
  {
   "cell_type": "markdown",
   "metadata": {},
   "source": [
    "Puntos importantes:\n",
    "#Obervacion\n",
    "#1.Se pudo notar que tienen diferentes numero de usuarios en surf y ultimate\n",
    "#2.los numero usuarios de Surf es mayor al numero de usuario de ultimate\n",
    "#3.En comparacion quien genera mas ingreso es evidente que el plan surf genera mas ingreso y no por el numero de usuario ya que promedio del ingreso por usuario se ha incrementado  \n",
    "#4.El promedio de ingreso por usuario del surf es menor que el promedio de ingreso por usuario de ultimate, pero estadisticamente al tener mayor numero de usuario que gasta mas minutos y sms y datos afecta enormemente en el promedio del ingreso surf por usuario. \n",
    "#5.El motivo de que el promedio de ingreso por usuario_surf aumenta, es que los usuarios surf gastan mas gb que los usuarios de ultimate y eso sube su ingreso y por ende el promedio de ingreso por usuario por afecta en general \n",
    "#6. Con relacion a las llamadas y mensajes de los usuarios surf gasta mas que los de ultimate y al ver mayor numeros de usuarios en ese plan beneficia mucho\n",
    "En conclusion:\n",
    "el plan surf genera mayor rentabilidad\n",
    "#Me beneficia mayor el plan surf pero recomendaria que se pasen estos usuarios(los que generan mayor ingreso al plan surf)a pasarse al plan ultimate"
   ]
  }
 ],
 "metadata": {
  "ExecuteTimeLog": [
   {
    "duration": 828,
    "start_time": "2021-11-16T09:21:11.304Z"
   },
   {
    "duration": 893,
    "start_time": "2021-11-16T09:21:17.728Z"
   },
   {
    "duration": 1150,
    "start_time": "2021-11-16T09:21:29.568Z"
   },
   {
    "duration": 3,
    "start_time": "2021-11-16T09:24:14.495Z"
   },
   {
    "duration": 120,
    "start_time": "2021-11-16T09:24:46.630Z"
   },
   {
    "duration": 3,
    "start_time": "2021-11-16T09:28:27.882Z"
   },
   {
    "duration": 4,
    "start_time": "2021-11-16T09:29:54.281Z"
   },
   {
    "duration": 3,
    "start_time": "2021-11-16T09:30:45.936Z"
   },
   {
    "duration": 4,
    "start_time": "2021-11-16T09:31:06.300Z"
   },
   {
    "duration": 113,
    "start_time": "2021-11-16T09:31:37.208Z"
   },
   {
    "duration": 143,
    "start_time": "2021-11-16T09:31:48.656Z"
   },
   {
    "duration": 98,
    "start_time": "2021-11-16T09:31:55.678Z"
   },
   {
    "duration": 3,
    "start_time": "2021-11-16T09:32:08.535Z"
   },
   {
    "duration": 111,
    "start_time": "2021-11-16T09:32:10.120Z"
   },
   {
    "duration": 3,
    "start_time": "2021-11-16T09:32:15.732Z"
   },
   {
    "duration": 4,
    "start_time": "2021-11-16T09:32:29.423Z"
   },
   {
    "duration": 3,
    "start_time": "2021-11-16T10:03:03.074Z"
   },
   {
    "duration": 3,
    "start_time": "2021-11-16T10:10:01.288Z"
   },
   {
    "duration": 3,
    "start_time": "2021-11-16T10:10:46.923Z"
   },
   {
    "duration": 121,
    "start_time": "2021-11-16T10:37:46.494Z"
   },
   {
    "duration": 125,
    "start_time": "2021-11-16T10:38:20.632Z"
   },
   {
    "duration": 112,
    "start_time": "2021-11-16T10:46:53.001Z"
   },
   {
    "duration": 110,
    "start_time": "2021-11-16T10:48:25.775Z"
   },
   {
    "duration": 3,
    "start_time": "2021-11-16T10:50:18.720Z"
   },
   {
    "duration": 4,
    "start_time": "2021-11-16T10:50:37.649Z"
   },
   {
    "duration": 2,
    "start_time": "2021-11-16T10:50:51.884Z"
   },
   {
    "duration": 3,
    "start_time": "2021-11-16T10:51:56.237Z"
   },
   {
    "duration": 101,
    "start_time": "2021-11-16T10:53:13.791Z"
   },
   {
    "duration": 3,
    "start_time": "2021-11-16T10:55:59.186Z"
   },
   {
    "duration": 3,
    "start_time": "2021-11-16T10:56:10.751Z"
   },
   {
    "duration": 3,
    "start_time": "2021-11-16T10:56:49.038Z"
   },
   {
    "duration": 3,
    "start_time": "2021-11-16T10:56:49.174Z"
   },
   {
    "duration": 4,
    "start_time": "2021-11-16T10:56:49.414Z"
   },
   {
    "duration": 3,
    "start_time": "2021-11-16T10:56:49.680Z"
   },
   {
    "duration": 3,
    "start_time": "2021-11-16T10:56:50.370Z"
   },
   {
    "duration": 114,
    "start_time": "2021-11-16T10:59:34.518Z"
   },
   {
    "duration": 3,
    "start_time": "2021-11-16T11:01:41.201Z"
   },
   {
    "duration": 116,
    "start_time": "2021-11-16T11:01:48.754Z"
   },
   {
    "duration": 3,
    "start_time": "2021-11-16T11:02:16.685Z"
   },
   {
    "duration": 3,
    "start_time": "2021-11-16T11:02:19.479Z"
   },
   {
    "duration": 3,
    "start_time": "2021-11-16T11:02:47.067Z"
   },
   {
    "duration": 3,
    "start_time": "2021-11-16T11:02:49.353Z"
   },
   {
    "duration": 3,
    "start_time": "2021-11-16T11:03:07.835Z"
   },
   {
    "duration": 3,
    "start_time": "2021-11-16T11:03:07.953Z"
   },
   {
    "duration": 112,
    "start_time": "2021-11-16T11:07:52.072Z"
   },
   {
    "duration": 187,
    "start_time": "2021-11-16T11:09:23.468Z"
   },
   {
    "duration": 4,
    "start_time": "2021-11-16T11:10:01.455Z"
   },
   {
    "duration": 3,
    "start_time": "2021-11-16T11:10:05.069Z"
   },
   {
    "duration": 4,
    "start_time": "2021-11-16T11:10:13.376Z"
   },
   {
    "duration": 3,
    "start_time": "2021-11-16T11:10:14.434Z"
   },
   {
    "duration": 3,
    "start_time": "2021-11-16T11:10:22.853Z"
   },
   {
    "duration": 4,
    "start_time": "2021-11-16T11:27:29.279Z"
   },
   {
    "duration": 4,
    "start_time": "2021-11-16T11:29:08.919Z"
   },
   {
    "duration": 118,
    "start_time": "2021-11-16T11:29:46.703Z"
   },
   {
    "duration": 437,
    "start_time": "2021-11-16T11:36:02.181Z"
   },
   {
    "duration": 157,
    "start_time": "2021-11-16T11:36:14.388Z"
   },
   {
    "duration": 207,
    "start_time": "2021-11-16T11:47:15.898Z"
   },
   {
    "duration": 3,
    "start_time": "2021-11-16T11:53:52.092Z"
   },
   {
    "duration": 3,
    "start_time": "2021-11-16T11:53:52.236Z"
   },
   {
    "duration": 3,
    "start_time": "2021-11-16T11:59:12.005Z"
   },
   {
    "duration": 112,
    "start_time": "2021-11-16T12:00:33.446Z"
   },
   {
    "duration": 3,
    "start_time": "2021-11-16T12:02:14.453Z"
   },
   {
    "duration": 3,
    "start_time": "2021-11-16T12:02:39.512Z"
   },
   {
    "duration": 106,
    "start_time": "2021-11-16T12:03:03.460Z"
   },
   {
    "duration": 3,
    "start_time": "2021-11-17T20:37:21.139Z"
   },
   {
    "duration": 3,
    "start_time": "2021-11-17T20:37:22.229Z"
   },
   {
    "duration": 3,
    "start_time": "2021-11-17T20:38:38.806Z"
   },
   {
    "duration": 3,
    "start_time": "2021-11-17T20:38:41.958Z"
   },
   {
    "duration": 3,
    "start_time": "2021-11-17T20:43:46.551Z"
   },
   {
    "duration": 4,
    "start_time": "2021-11-17T20:58:21.835Z"
   },
   {
    "duration": 3,
    "start_time": "2021-11-17T20:59:21.872Z"
   },
   {
    "duration": 4,
    "start_time": "2021-11-17T20:59:45.352Z"
   },
   {
    "duration": 4,
    "start_time": "2021-11-17T20:59:49.646Z"
   },
   {
    "duration": 159,
    "start_time": "2021-11-17T21:02:26.949Z"
   },
   {
    "duration": 3,
    "start_time": "2021-11-17T21:03:53.461Z"
   },
   {
    "duration": 3,
    "start_time": "2021-11-17T21:03:53.694Z"
   },
   {
    "duration": 3,
    "start_time": "2021-11-17T21:05:28.145Z"
   },
   {
    "duration": 116,
    "start_time": "2021-11-17T21:05:57.787Z"
   },
   {
    "duration": 3,
    "start_time": "2021-11-17T21:06:37.993Z"
   },
   {
    "duration": 3,
    "start_time": "2021-11-17T21:06:38.261Z"
   },
   {
    "duration": 3,
    "start_time": "2021-11-17T21:11:54.358Z"
   },
   {
    "duration": 3,
    "start_time": "2021-11-17T21:12:43.846Z"
   },
   {
    "duration": 4,
    "start_time": "2021-11-17T21:13:08.773Z"
   },
   {
    "duration": 3,
    "start_time": "2021-11-17T21:14:44.441Z"
   },
   {
    "duration": 3,
    "start_time": "2021-11-17T21:15:42.059Z"
   },
   {
    "duration": 4,
    "start_time": "2021-11-17T21:15:51.995Z"
   },
   {
    "duration": 3,
    "start_time": "2021-11-17T21:15:53.923Z"
   },
   {
    "duration": 3,
    "start_time": "2021-11-17T21:15:55.282Z"
   },
   {
    "duration": 3,
    "start_time": "2021-11-17T21:16:28.492Z"
   },
   {
    "duration": 3,
    "start_time": "2021-11-17T21:16:32.603Z"
   },
   {
    "duration": 3,
    "start_time": "2021-11-17T21:17:06.941Z"
   },
   {
    "duration": 98,
    "start_time": "2021-11-17T21:18:05.733Z"
   },
   {
    "duration": 4,
    "start_time": "2021-11-17T21:21:35.255Z"
   },
   {
    "duration": 3,
    "start_time": "2021-11-17T21:21:37.804Z"
   },
   {
    "duration": 4,
    "start_time": "2021-11-17T21:23:06.071Z"
   },
   {
    "duration": 3,
    "start_time": "2021-11-17T21:23:24.799Z"
   },
   {
    "duration": 3,
    "start_time": "2021-11-17T21:23:32.591Z"
   },
   {
    "duration": 98,
    "start_time": "2021-11-17T21:28:31.559Z"
   },
   {
    "duration": 3,
    "start_time": "2021-11-17T21:28:45.448Z"
   },
   {
    "duration": 3,
    "start_time": "2021-11-17T21:29:17.303Z"
   },
   {
    "duration": 3,
    "start_time": "2021-11-17T21:29:29.617Z"
   },
   {
    "duration": 3,
    "start_time": "2021-11-17T21:29:32.681Z"
   },
   {
    "duration": 3,
    "start_time": "2021-11-17T21:36:11.474Z"
   },
   {
    "duration": 3,
    "start_time": "2021-11-17T21:36:14.791Z"
   },
   {
    "duration": 3,
    "start_time": "2021-11-17T21:36:53.943Z"
   },
   {
    "duration": 3,
    "start_time": "2021-11-17T21:36:56.165Z"
   },
   {
    "duration": 4,
    "start_time": "2021-11-17T21:37:16.590Z"
   },
   {
    "duration": 3,
    "start_time": "2021-11-17T21:37:22.702Z"
   },
   {
    "duration": 4,
    "start_time": "2021-11-17T21:38:03.479Z"
   },
   {
    "duration": 3,
    "start_time": "2021-11-17T21:38:08.601Z"
   },
   {
    "duration": 3,
    "start_time": "2021-11-17T21:38:12.928Z"
   },
   {
    "duration": 3,
    "start_time": "2021-11-17T21:38:48.896Z"
   },
   {
    "duration": 2,
    "start_time": "2021-11-17T21:38:49.171Z"
   },
   {
    "duration": 4,
    "start_time": "2021-11-17T21:39:57.889Z"
   },
   {
    "duration": 3,
    "start_time": "2021-11-17T21:39:58.057Z"
   },
   {
    "duration": 3,
    "start_time": "2021-11-17T21:41:20.108Z"
   },
   {
    "duration": 3,
    "start_time": "2021-11-17T21:41:20.629Z"
   },
   {
    "duration": 3,
    "start_time": "2021-11-17T21:42:49.136Z"
   },
   {
    "duration": 3,
    "start_time": "2021-11-17T21:43:15.137Z"
   },
   {
    "duration": 4,
    "start_time": "2021-11-17T21:43:16.766Z"
   },
   {
    "duration": 4,
    "start_time": "2021-11-17T21:43:31.711Z"
   },
   {
    "duration": 3,
    "start_time": "2021-11-17T21:43:36.312Z"
   },
   {
    "duration": 4,
    "start_time": "2021-11-17T21:45:08.825Z"
   },
   {
    "duration": 4,
    "start_time": "2021-11-17T21:45:10.119Z"
   },
   {
    "duration": 4,
    "start_time": "2021-11-17T21:45:13.748Z"
   },
   {
    "duration": 3,
    "start_time": "2021-11-17T21:45:22.219Z"
   },
   {
    "duration": 3,
    "start_time": "2021-11-17T21:45:33.412Z"
   },
   {
    "duration": 2,
    "start_time": "2021-11-17T21:46:01.885Z"
   },
   {
    "duration": 3,
    "start_time": "2021-11-17T21:46:03.628Z"
   },
   {
    "duration": 107,
    "start_time": "2021-11-17T21:47:32.512Z"
   },
   {
    "duration": 103,
    "start_time": "2021-11-17T21:50:36.243Z"
   },
   {
    "duration": 3,
    "start_time": "2021-11-18T06:28:31.440Z"
   },
   {
    "duration": 3,
    "start_time": "2021-11-18T06:29:00.168Z"
   },
   {
    "duration": 3,
    "start_time": "2021-11-18T06:31:27.008Z"
   },
   {
    "duration": 2,
    "start_time": "2021-11-18T06:35:34.288Z"
   },
   {
    "duration": 2,
    "start_time": "2021-11-18T06:38:04.527Z"
   },
   {
    "duration": 463,
    "start_time": "2024-08-14T16:05:32.410Z"
   },
   {
    "duration": 7,
    "start_time": "2024-08-14T16:07:39.246Z"
   },
   {
    "duration": 177,
    "start_time": "2024-08-14T16:07:53.869Z"
   },
   {
    "duration": 126,
    "start_time": "2024-08-14T16:08:26.725Z"
   },
   {
    "duration": 236,
    "start_time": "2024-08-14T16:09:37.644Z"
   },
   {
    "duration": 219,
    "start_time": "2024-08-14T16:09:49.814Z"
   },
   {
    "duration": 301,
    "start_time": "2024-08-14T16:12:53.055Z"
   },
   {
    "duration": 332,
    "start_time": "2024-08-14T16:14:39.097Z"
   },
   {
    "duration": 12,
    "start_time": "2024-08-14T16:14:50.149Z"
   },
   {
    "duration": 12,
    "start_time": "2024-08-14T16:15:21.312Z"
   },
   {
    "duration": 452,
    "start_time": "2024-08-14T20:41:58.939Z"
   },
   {
    "duration": 367,
    "start_time": "2024-08-14T20:41:59.920Z"
   },
   {
    "duration": 18,
    "start_time": "2024-08-14T20:42:02.683Z"
   },
   {
    "duration": 15,
    "start_time": "2024-08-14T20:50:51.243Z"
   },
   {
    "duration": 13,
    "start_time": "2024-08-14T20:51:03.803Z"
   },
   {
    "duration": 332,
    "start_time": "2024-08-14T21:23:14.014Z"
   },
   {
    "duration": 17,
    "start_time": "2024-08-14T21:23:30.120Z"
   },
   {
    "duration": 11,
    "start_time": "2024-08-14T21:27:28.881Z"
   },
   {
    "duration": 15,
    "start_time": "2024-08-14T21:46:07.734Z"
   },
   {
    "duration": 327,
    "start_time": "2024-08-14T21:46:17.360Z"
   },
   {
    "duration": 50,
    "start_time": "2024-08-14T21:46:45.316Z"
   },
   {
    "duration": 105,
    "start_time": "2024-08-14T21:47:10.948Z"
   },
   {
    "duration": 50,
    "start_time": "2024-08-14T21:47:43.120Z"
   },
   {
    "duration": 6,
    "start_time": "2024-08-14T21:47:47.260Z"
   },
   {
    "duration": 4,
    "start_time": "2024-08-14T21:48:05.762Z"
   },
   {
    "duration": 278,
    "start_time": "2024-08-14T21:48:07.984Z"
   },
   {
    "duration": 14,
    "start_time": "2024-08-14T21:48:10.904Z"
   },
   {
    "duration": 14,
    "start_time": "2024-08-14T21:48:15.989Z"
   },
   {
    "duration": 13,
    "start_time": "2024-08-14T21:48:19.969Z"
   },
   {
    "duration": 14,
    "start_time": "2024-08-14T21:49:59.578Z"
   },
   {
    "duration": 823,
    "start_time": "2024-08-14T21:50:28.922Z"
   },
   {
    "duration": 81,
    "start_time": "2024-08-14T21:50:45.342Z"
   },
   {
    "duration": 12,
    "start_time": "2024-08-14T21:50:51.903Z"
   },
   {
    "duration": 77,
    "start_time": "2024-08-14T21:51:08.456Z"
   },
   {
    "duration": 11,
    "start_time": "2024-08-14T21:51:12.799Z"
   },
   {
    "duration": 4,
    "start_time": "2024-08-14T21:51:28.719Z"
   },
   {
    "duration": 319,
    "start_time": "2024-08-14T21:51:29.671Z"
   },
   {
    "duration": 14,
    "start_time": "2024-08-14T21:51:32.478Z"
   },
   {
    "duration": 12,
    "start_time": "2024-08-14T21:51:36.270Z"
   },
   {
    "duration": 12,
    "start_time": "2024-08-14T21:51:42.787Z"
   },
   {
    "duration": 15,
    "start_time": "2024-08-14T21:51:50.625Z"
   },
   {
    "duration": 13,
    "start_time": "2024-08-14T21:52:08.416Z"
   },
   {
    "duration": 13,
    "start_time": "2024-08-14T21:52:19.973Z"
   },
   {
    "duration": 12,
    "start_time": "2024-08-14T21:52:33.159Z"
   },
   {
    "duration": 12,
    "start_time": "2024-08-14T21:52:40.724Z"
   },
   {
    "duration": 13,
    "start_time": "2024-08-14T21:53:00.886Z"
   },
   {
    "duration": 4,
    "start_time": "2024-08-14T21:53:13.238Z"
   },
   {
    "duration": 264,
    "start_time": "2024-08-14T21:53:14.757Z"
   },
   {
    "duration": 19,
    "start_time": "2024-08-14T21:53:17.992Z"
   },
   {
    "duration": 12,
    "start_time": "2024-08-14T21:53:19.207Z"
   },
   {
    "duration": 6,
    "start_time": "2024-08-14T21:53:43.059Z"
   },
   {
    "duration": 51,
    "start_time": "2024-08-14T21:53:50.407Z"
   },
   {
    "duration": 54,
    "start_time": "2024-08-14T21:53:56.772Z"
   },
   {
    "duration": 51,
    "start_time": "2024-08-14T21:54:30.744Z"
   },
   {
    "duration": 3,
    "start_time": "2024-08-14T21:54:44.150Z"
   },
   {
    "duration": 267,
    "start_time": "2024-08-14T21:54:46.905Z"
   },
   {
    "duration": 15,
    "start_time": "2024-08-14T21:54:50.301Z"
   },
   {
    "duration": 12,
    "start_time": "2024-08-14T21:54:53.914Z"
   },
   {
    "duration": 18,
    "start_time": "2024-08-14T21:54:57.766Z"
   },
   {
    "duration": 74,
    "start_time": "2024-08-14T21:56:23.769Z"
   },
   {
    "duration": 3,
    "start_time": "2024-08-14T21:57:22.893Z"
   },
   {
    "duration": 263,
    "start_time": "2024-08-14T21:57:25.239Z"
   },
   {
    "duration": 15,
    "start_time": "2024-08-14T21:57:27.465Z"
   },
   {
    "duration": 11,
    "start_time": "2024-08-14T21:57:28.301Z"
   },
   {
    "duration": 14,
    "start_time": "2024-08-14T21:57:32.102Z"
   },
   {
    "duration": 75,
    "start_time": "2024-08-14T21:57:36.944Z"
   },
   {
    "duration": 70,
    "start_time": "2024-08-14T21:58:10.379Z"
   },
   {
    "duration": 30,
    "start_time": "2024-08-14T21:59:33.324Z"
   },
   {
    "duration": 25,
    "start_time": "2024-08-14T21:59:55.160Z"
   },
   {
    "duration": 3,
    "start_time": "2024-08-14T22:00:00.811Z"
   },
   {
    "duration": 266,
    "start_time": "2024-08-14T22:00:01.579Z"
   },
   {
    "duration": 14,
    "start_time": "2024-08-14T22:00:03.647Z"
   },
   {
    "duration": 13,
    "start_time": "2024-08-14T22:00:04.391Z"
   },
   {
    "duration": 14,
    "start_time": "2024-08-14T22:00:07.861Z"
   },
   {
    "duration": 18,
    "start_time": "2024-08-14T22:00:15.919Z"
   },
   {
    "duration": 30,
    "start_time": "2024-08-14T22:01:31.847Z"
   },
   {
    "duration": 14,
    "start_time": "2024-08-14T22:06:27.405Z"
   },
   {
    "duration": 20,
    "start_time": "2024-08-14T22:10:00.758Z"
   },
   {
    "duration": 15,
    "start_time": "2024-08-14T22:10:15.399Z"
   },
   {
    "duration": 439,
    "start_time": "2024-08-14T23:14:52.301Z"
   },
   {
    "duration": 362,
    "start_time": "2024-08-14T23:14:53.539Z"
   },
   {
    "duration": 15,
    "start_time": "2024-08-14T23:14:56.788Z"
   },
   {
    "duration": 20,
    "start_time": "2024-08-14T23:14:57.669Z"
   },
   {
    "duration": 16,
    "start_time": "2024-08-14T23:15:01.550Z"
   },
   {
    "duration": 12,
    "start_time": "2024-08-14T23:15:04.842Z"
   },
   {
    "duration": 14,
    "start_time": "2024-08-14T23:15:07.497Z"
   },
   {
    "duration": 348,
    "start_time": "2024-08-14T23:18:33.603Z"
   },
   {
    "duration": 21,
    "start_time": "2024-08-14T23:18:39.931Z"
   },
   {
    "duration": 6,
    "start_time": "2024-08-14T23:25:54.504Z"
   },
   {
    "duration": 7,
    "start_time": "2024-08-14T23:45:57.473Z"
   },
   {
    "duration": 676,
    "start_time": "2024-08-14T23:46:08.213Z"
   },
   {
    "duration": 26,
    "start_time": "2024-08-14T23:55:34.827Z"
   },
   {
    "duration": 14,
    "start_time": "2024-08-14T23:55:45.396Z"
   },
   {
    "duration": 14,
    "start_time": "2024-08-14T23:56:40.581Z"
   },
   {
    "duration": 15,
    "start_time": "2024-08-14T23:57:07.889Z"
   },
   {
    "duration": 8,
    "start_time": "2024-08-14T23:59:07.632Z"
   },
   {
    "duration": 6,
    "start_time": "2024-08-14T23:59:16.645Z"
   },
   {
    "duration": 5,
    "start_time": "2024-08-14T23:59:21.875Z"
   },
   {
    "duration": 22,
    "start_time": "2024-08-14T23:59:30.588Z"
   },
   {
    "duration": 33,
    "start_time": "2024-08-15T00:00:18.447Z"
   },
   {
    "duration": 17,
    "start_time": "2024-08-15T00:02:18.889Z"
   },
   {
    "duration": 6,
    "start_time": "2024-08-15T00:07:33.404Z"
   },
   {
    "duration": 20,
    "start_time": "2024-08-15T00:07:38.226Z"
   },
   {
    "duration": 23,
    "start_time": "2024-08-15T00:07:50.663Z"
   },
   {
    "duration": 28,
    "start_time": "2024-08-15T00:08:03.803Z"
   },
   {
    "duration": 22,
    "start_time": "2024-08-15T00:08:08.707Z"
   },
   {
    "duration": 20,
    "start_time": "2024-08-15T00:08:43.321Z"
   },
   {
    "duration": 17,
    "start_time": "2024-08-15T00:08:56.913Z"
   },
   {
    "duration": 18,
    "start_time": "2024-08-15T00:15:27.052Z"
   },
   {
    "duration": 18,
    "start_time": "2024-08-15T00:15:35.233Z"
   },
   {
    "duration": 17,
    "start_time": "2024-08-15T00:20:33.530Z"
   },
   {
    "duration": 19,
    "start_time": "2024-08-15T00:21:31.324Z"
   },
   {
    "duration": 25,
    "start_time": "2024-08-15T00:21:37.851Z"
   },
   {
    "duration": 22,
    "start_time": "2024-08-15T00:21:44.575Z"
   },
   {
    "duration": 17,
    "start_time": "2024-08-15T00:21:51.362Z"
   },
   {
    "duration": 18,
    "start_time": "2024-08-15T00:23:23.455Z"
   },
   {
    "duration": 26,
    "start_time": "2024-08-15T00:24:18.804Z"
   },
   {
    "duration": 25,
    "start_time": "2024-08-15T00:24:23.362Z"
   },
   {
    "duration": 19,
    "start_time": "2024-08-15T00:24:29.130Z"
   },
   {
    "duration": 19,
    "start_time": "2024-08-15T00:27:37.807Z"
   },
   {
    "duration": 18,
    "start_time": "2024-08-15T00:27:55.330Z"
   },
   {
    "duration": 19,
    "start_time": "2024-08-15T00:28:08.550Z"
   },
   {
    "duration": 17,
    "start_time": "2024-08-15T00:28:25.049Z"
   },
   {
    "duration": 3,
    "start_time": "2024-08-15T00:28:44.799Z"
   },
   {
    "duration": 270,
    "start_time": "2024-08-15T00:28:45.263Z"
   },
   {
    "duration": 14,
    "start_time": "2024-08-15T00:28:46.058Z"
   },
   {
    "duration": 11,
    "start_time": "2024-08-15T00:28:46.241Z"
   },
   {
    "duration": 15,
    "start_time": "2024-08-15T00:28:46.958Z"
   },
   {
    "duration": 13,
    "start_time": "2024-08-15T00:28:47.554Z"
   },
   {
    "duration": 14,
    "start_time": "2024-08-15T00:28:48.007Z"
   },
   {
    "duration": 21,
    "start_time": "2024-08-15T00:28:49.313Z"
   },
   {
    "duration": 16,
    "start_time": "2024-08-15T00:28:52.982Z"
   },
   {
    "duration": 22,
    "start_time": "2024-08-15T00:28:55.858Z"
   },
   {
    "duration": 25,
    "start_time": "2024-08-15T00:28:58.281Z"
   },
   {
    "duration": 22,
    "start_time": "2024-08-15T00:28:59.695Z"
   },
   {
    "duration": 17,
    "start_time": "2024-08-15T00:29:12.298Z"
   },
   {
    "duration": 18,
    "start_time": "2024-08-15T00:29:48.077Z"
   },
   {
    "duration": 19,
    "start_time": "2024-08-15T00:30:21.495Z"
   },
   {
    "duration": 36,
    "start_time": "2024-08-15T01:04:03.647Z"
   },
   {
    "duration": 20,
    "start_time": "2024-08-15T01:04:42.975Z"
   },
   {
    "duration": 14,
    "start_time": "2024-08-15T01:05:21.848Z"
   },
   {
    "duration": 25,
    "start_time": "2024-08-15T01:16:40.856Z"
   },
   {
    "duration": 24,
    "start_time": "2024-08-15T01:18:03.820Z"
   },
   {
    "duration": 17,
    "start_time": "2024-08-15T01:19:10.146Z"
   },
   {
    "duration": 31,
    "start_time": "2024-08-15T01:59:33.851Z"
   },
   {
    "duration": 61,
    "start_time": "2024-08-15T02:04:58.908Z"
   },
   {
    "duration": 31,
    "start_time": "2024-08-15T02:06:13.009Z"
   },
   {
    "duration": 4,
    "start_time": "2024-08-15T02:06:38.724Z"
   },
   {
    "duration": 274,
    "start_time": "2024-08-15T02:06:39.446Z"
   },
   {
    "duration": 14,
    "start_time": "2024-08-15T02:06:41.239Z"
   },
   {
    "duration": 11,
    "start_time": "2024-08-15T02:06:41.499Z"
   },
   {
    "duration": 15,
    "start_time": "2024-08-15T02:06:42.808Z"
   },
   {
    "duration": 14,
    "start_time": "2024-08-15T02:06:44.193Z"
   },
   {
    "duration": 13,
    "start_time": "2024-08-15T02:06:44.688Z"
   },
   {
    "duration": 21,
    "start_time": "2024-08-15T02:06:44.922Z"
   },
   {
    "duration": 15,
    "start_time": "2024-08-15T02:06:46.048Z"
   },
   {
    "duration": 22,
    "start_time": "2024-08-15T02:06:46.846Z"
   },
   {
    "duration": 25,
    "start_time": "2024-08-15T02:06:47.450Z"
   },
   {
    "duration": 19,
    "start_time": "2024-08-15T02:06:47.742Z"
   },
   {
    "duration": 19,
    "start_time": "2024-08-15T02:06:48.882Z"
   },
   {
    "duration": 51,
    "start_time": "2024-08-15T02:06:49.690Z"
   },
   {
    "duration": 20,
    "start_time": "2024-08-15T02:06:50.268Z"
   },
   {
    "duration": 19,
    "start_time": "2024-08-15T02:06:50.536Z"
   },
   {
    "duration": 28,
    "start_time": "2024-08-15T02:06:51.722Z"
   },
   {
    "duration": 23,
    "start_time": "2024-08-15T02:06:53.460Z"
   },
   {
    "duration": 17,
    "start_time": "2024-08-15T02:06:53.750Z"
   },
   {
    "duration": 30,
    "start_time": "2024-08-15T02:06:55.462Z"
   },
   {
    "duration": 31,
    "start_time": "2024-08-15T02:06:57.148Z"
   },
   {
    "duration": 18,
    "start_time": "2024-08-15T02:07:06.079Z"
   },
   {
    "duration": 30,
    "start_time": "2024-08-15T02:07:54.494Z"
   },
   {
    "duration": 21,
    "start_time": "2024-08-15T02:09:36.383Z"
   },
   {
    "duration": 4,
    "start_time": "2024-08-15T02:09:46.954Z"
   },
   {
    "duration": 272,
    "start_time": "2024-08-15T02:09:47.545Z"
   },
   {
    "duration": 14,
    "start_time": "2024-08-15T02:09:48.665Z"
   },
   {
    "duration": 15,
    "start_time": "2024-08-15T02:09:48.855Z"
   },
   {
    "duration": 14,
    "start_time": "2024-08-15T02:09:50.207Z"
   },
   {
    "duration": 12,
    "start_time": "2024-08-15T02:09:51.209Z"
   },
   {
    "duration": 14,
    "start_time": "2024-08-15T02:09:51.716Z"
   },
   {
    "duration": 33,
    "start_time": "2024-08-15T02:09:51.959Z"
   },
   {
    "duration": 18,
    "start_time": "2024-08-15T02:09:53.064Z"
   },
   {
    "duration": 22,
    "start_time": "2024-08-15T02:09:53.757Z"
   },
   {
    "duration": 24,
    "start_time": "2024-08-15T02:09:54.548Z"
   },
   {
    "duration": 16,
    "start_time": "2024-08-15T02:09:55.025Z"
   },
   {
    "duration": 22,
    "start_time": "2024-08-15T02:09:57.855Z"
   },
   {
    "duration": 36,
    "start_time": "2024-08-15T02:09:59.793Z"
   },
   {
    "duration": 24,
    "start_time": "2024-08-15T02:10:01.134Z"
   },
   {
    "duration": 14,
    "start_time": "2024-08-15T02:10:01.814Z"
   },
   {
    "duration": 26,
    "start_time": "2024-08-15T02:10:04.790Z"
   },
   {
    "duration": 23,
    "start_time": "2024-08-15T02:10:07.854Z"
   },
   {
    "duration": 17,
    "start_time": "2024-08-15T02:10:08.535Z"
   },
   {
    "duration": 31,
    "start_time": "2024-08-15T02:10:10.530Z"
   },
   {
    "duration": 20,
    "start_time": "2024-08-15T02:10:13.710Z"
   },
   {
    "duration": 12,
    "start_time": "2024-08-15T02:25:56.486Z"
   },
   {
    "duration": 24,
    "start_time": "2024-08-15T02:31:57.165Z"
   },
   {
    "duration": 29,
    "start_time": "2024-08-15T02:34:16.583Z"
   },
   {
    "duration": 13,
    "start_time": "2024-08-15T02:34:44.399Z"
   },
   {
    "duration": 8,
    "start_time": "2024-08-15T02:35:31.493Z"
   },
   {
    "duration": 15,
    "start_time": "2024-08-15T02:35:49.592Z"
   },
   {
    "duration": 28,
    "start_time": "2024-08-15T02:36:03.101Z"
   },
   {
    "duration": 30,
    "start_time": "2024-08-15T02:36:34.920Z"
   },
   {
    "duration": 26,
    "start_time": "2024-08-15T02:55:19.431Z"
   },
   {
    "duration": 7,
    "start_time": "2024-08-15T02:55:45.250Z"
   },
   {
    "duration": 21,
    "start_time": "2024-08-15T02:56:13.103Z"
   },
   {
    "duration": 21,
    "start_time": "2024-08-15T02:56:49.319Z"
   },
   {
    "duration": 79,
    "start_time": "2024-08-15T02:57:32.772Z"
   },
   {
    "duration": 14,
    "start_time": "2024-08-15T03:00:01.386Z"
   },
   {
    "duration": 20,
    "start_time": "2024-08-15T03:00:13.168Z"
   },
   {
    "duration": 6,
    "start_time": "2024-08-15T03:03:43.033Z"
   },
   {
    "duration": 6,
    "start_time": "2024-08-15T03:04:36.154Z"
   },
   {
    "duration": 6,
    "start_time": "2024-08-15T03:06:06.620Z"
   },
   {
    "duration": 15,
    "start_time": "2024-08-15T03:06:28.938Z"
   },
   {
    "duration": 6,
    "start_time": "2024-08-15T03:07:13.517Z"
   },
   {
    "duration": 25,
    "start_time": "2024-08-15T03:07:21.257Z"
   },
   {
    "duration": 81,
    "start_time": "2024-08-15T03:11:03.315Z"
   },
   {
    "duration": 48,
    "start_time": "2024-08-15T03:14:02.053Z"
   },
   {
    "duration": 7584,
    "start_time": "2024-08-15T03:14:56.353Z"
   },
   {
    "duration": 52,
    "start_time": "2024-08-15T03:15:11.287Z"
   },
   {
    "duration": 286,
    "start_time": "2024-08-15T03:33:04.417Z"
   },
   {
    "duration": 4,
    "start_time": "2024-08-15T03:33:29.627Z"
   },
   {
    "duration": 267,
    "start_time": "2024-08-15T03:33:32.673Z"
   },
   {
    "duration": 15,
    "start_time": "2024-08-15T03:33:34.014Z"
   },
   {
    "duration": 11,
    "start_time": "2024-08-15T03:33:34.209Z"
   },
   {
    "duration": 14,
    "start_time": "2024-08-15T03:33:40.851Z"
   },
   {
    "duration": 13,
    "start_time": "2024-08-15T03:33:43.296Z"
   },
   {
    "duration": 15,
    "start_time": "2024-08-15T03:33:48.422Z"
   },
   {
    "duration": 21,
    "start_time": "2024-08-15T03:33:49.533Z"
   },
   {
    "duration": 15,
    "start_time": "2024-08-15T03:33:52.621Z"
   },
   {
    "duration": 36,
    "start_time": "2024-08-15T03:33:55.696Z"
   },
   {
    "duration": 25,
    "start_time": "2024-08-15T03:33:58.725Z"
   },
   {
    "duration": 17,
    "start_time": "2024-08-15T03:34:04.538Z"
   },
   {
    "duration": 19,
    "start_time": "2024-08-15T03:34:09.961Z"
   },
   {
    "duration": 159,
    "start_time": "2024-08-15T03:34:12.483Z"
   },
   {
    "duration": 168,
    "start_time": "2024-08-15T03:34:47.617Z"
   },
   {
    "duration": 19,
    "start_time": "2024-08-15T03:43:42.935Z"
   },
   {
    "duration": 17,
    "start_time": "2024-08-15T03:43:48.719Z"
   },
   {
    "duration": 243,
    "start_time": "2024-08-15T03:43:59.939Z"
   },
   {
    "duration": 513,
    "start_time": "2024-08-15T15:00:39.253Z"
   },
   {
    "duration": 389,
    "start_time": "2024-08-15T15:00:39.935Z"
   },
   {
    "duration": 14,
    "start_time": "2024-08-15T15:00:40.959Z"
   },
   {
    "duration": 20,
    "start_time": "2024-08-15T15:00:41.169Z"
   },
   {
    "duration": 15,
    "start_time": "2024-08-15T15:00:42.299Z"
   },
   {
    "duration": 12,
    "start_time": "2024-08-15T15:00:44.594Z"
   },
   {
    "duration": 21,
    "start_time": "2024-08-15T15:00:45.943Z"
   },
   {
    "duration": 20,
    "start_time": "2024-08-15T15:00:47.713Z"
   },
   {
    "duration": 17,
    "start_time": "2024-08-15T15:00:50.193Z"
   },
   {
    "duration": 22,
    "start_time": "2024-08-15T15:00:53.684Z"
   },
   {
    "duration": 24,
    "start_time": "2024-08-15T15:00:55.199Z"
   },
   {
    "duration": 16,
    "start_time": "2024-08-15T15:00:55.849Z"
   },
   {
    "duration": 23,
    "start_time": "2024-08-15T15:01:00.044Z"
   },
   {
    "duration": 593,
    "start_time": "2024-08-15T15:01:02.430Z"
   },
   {
    "duration": 44,
    "start_time": "2024-08-15T15:02:50.614Z"
   },
   {
    "duration": 27,
    "start_time": "2024-08-15T15:13:59.480Z"
   },
   {
    "duration": 30,
    "start_time": "2024-08-15T15:14:13.902Z"
   },
   {
    "duration": 40,
    "start_time": "2024-08-15T15:15:52.863Z"
   },
   {
    "duration": 43,
    "start_time": "2024-08-15T15:16:00.128Z"
   },
   {
    "duration": 27,
    "start_time": "2024-08-15T15:16:29.656Z"
   },
   {
    "duration": 28,
    "start_time": "2024-08-15T15:16:37.683Z"
   },
   {
    "duration": 27,
    "start_time": "2024-08-15T15:16:48.047Z"
   },
   {
    "duration": 19,
    "start_time": "2024-08-15T15:16:56.604Z"
   },
   {
    "duration": 14,
    "start_time": "2024-08-15T15:16:56.820Z"
   },
   {
    "duration": 17,
    "start_time": "2024-08-15T15:17:28.830Z"
   },
   {
    "duration": 810,
    "start_time": "2024-08-15T15:19:37.125Z"
   },
   {
    "duration": 73,
    "start_time": "2024-08-15T15:20:15.146Z"
   },
   {
    "duration": 30,
    "start_time": "2024-08-15T15:20:47.815Z"
   },
   {
    "duration": 74,
    "start_time": "2024-08-15T15:23:06.620Z"
   },
   {
    "duration": 21,
    "start_time": "2024-08-15T15:23:15.290Z"
   },
   {
    "duration": 23,
    "start_time": "2024-08-15T15:23:27.478Z"
   },
   {
    "duration": 16,
    "start_time": "2024-08-15T15:23:30.718Z"
   },
   {
    "duration": 36,
    "start_time": "2024-08-15T15:25:36.658Z"
   },
   {
    "duration": 103,
    "start_time": "2024-08-15T15:26:30.435Z"
   },
   {
    "duration": 25,
    "start_time": "2024-08-15T15:28:49.928Z"
   },
   {
    "duration": 28,
    "start_time": "2024-08-15T15:28:59.303Z"
   },
   {
    "duration": 12,
    "start_time": "2024-08-15T15:29:05.756Z"
   },
   {
    "duration": 21,
    "start_time": "2024-08-15T15:29:23.055Z"
   },
   {
    "duration": 18,
    "start_time": "2024-08-15T15:31:05.153Z"
   },
   {
    "duration": 25,
    "start_time": "2024-08-15T15:31:28.414Z"
   },
   {
    "duration": 26,
    "start_time": "2024-08-15T15:31:50.498Z"
   },
   {
    "duration": 26,
    "start_time": "2024-08-15T15:35:15.149Z"
   },
   {
    "duration": 34,
    "start_time": "2024-08-15T15:37:48.670Z"
   },
   {
    "duration": 39,
    "start_time": "2024-08-15T15:39:06.790Z"
   },
   {
    "duration": 49,
    "start_time": "2024-08-15T15:39:28.899Z"
   },
   {
    "duration": 41,
    "start_time": "2024-08-15T15:39:44.530Z"
   },
   {
    "duration": 36,
    "start_time": "2024-08-15T15:39:54.608Z"
   },
   {
    "duration": 39,
    "start_time": "2024-08-15T15:40:09.746Z"
   },
   {
    "duration": 29,
    "start_time": "2024-08-15T15:40:46.974Z"
   },
   {
    "duration": 32,
    "start_time": "2024-08-15T15:41:03.168Z"
   },
   {
    "duration": 24,
    "start_time": "2024-08-15T15:41:42.786Z"
   },
   {
    "duration": 32,
    "start_time": "2024-08-15T15:42:12.996Z"
   },
   {
    "duration": 29,
    "start_time": "2024-08-15T15:43:02.489Z"
   },
   {
    "duration": 3,
    "start_time": "2024-08-15T15:55:01.833Z"
   },
   {
    "duration": 287,
    "start_time": "2024-08-15T15:55:02.987Z"
   },
   {
    "duration": 4,
    "start_time": "2024-08-15T15:55:51.417Z"
   },
   {
    "duration": 263,
    "start_time": "2024-08-15T15:55:51.771Z"
   },
   {
    "duration": 14,
    "start_time": "2024-08-15T15:55:52.671Z"
   },
   {
    "duration": 13,
    "start_time": "2024-08-15T15:55:53.029Z"
   },
   {
    "duration": 18,
    "start_time": "2024-08-15T15:55:54.042Z"
   },
   {
    "duration": 13,
    "start_time": "2024-08-15T15:55:54.987Z"
   },
   {
    "duration": 15,
    "start_time": "2024-08-15T15:55:56.088Z"
   },
   {
    "duration": 20,
    "start_time": "2024-08-15T15:55:56.761Z"
   },
   {
    "duration": 14,
    "start_time": "2024-08-15T15:56:04.279Z"
   },
   {
    "duration": 21,
    "start_time": "2024-08-15T15:56:11.292Z"
   },
   {
    "duration": 23,
    "start_time": "2024-08-15T15:56:14.338Z"
   },
   {
    "duration": 17,
    "start_time": "2024-08-15T15:56:16.380Z"
   },
   {
    "duration": 18,
    "start_time": "2024-08-15T15:56:42.210Z"
   },
   {
    "duration": 43,
    "start_time": "2024-08-15T15:56:46.876Z"
   },
   {
    "duration": 27,
    "start_time": "2024-08-15T15:56:47.097Z"
   },
   {
    "duration": 19,
    "start_time": "2024-08-15T15:56:48.045Z"
   },
   {
    "duration": 14,
    "start_time": "2024-08-15T15:56:48.292Z"
   },
   {
    "duration": 30,
    "start_time": "2024-08-15T15:56:49.282Z"
   },
   {
    "duration": 25,
    "start_time": "2024-08-15T15:56:49.924Z"
   },
   {
    "duration": 22,
    "start_time": "2024-08-15T15:56:52.957Z"
   },
   {
    "duration": 17,
    "start_time": "2024-08-15T15:56:53.400Z"
   },
   {
    "duration": 39,
    "start_time": "2024-08-15T15:56:54.899Z"
   },
   {
    "duration": 27,
    "start_time": "2024-08-15T15:56:56.113Z"
   },
   {
    "duration": 22,
    "start_time": "2024-08-15T15:56:56.321Z"
   },
   {
    "duration": 12,
    "start_time": "2024-08-15T15:56:57.294Z"
   },
   {
    "duration": 18,
    "start_time": "2024-08-15T15:56:58.269Z"
   },
   {
    "duration": 28,
    "start_time": "2024-08-15T15:56:58.866Z"
   },
   {
    "duration": 27,
    "start_time": "2024-08-15T16:06:05.084Z"
   },
   {
    "duration": 7,
    "start_time": "2024-08-15T16:36:04.771Z"
   },
   {
    "duration": 27,
    "start_time": "2024-08-15T16:36:20.968Z"
   },
   {
    "duration": 27,
    "start_time": "2024-08-15T16:38:37.163Z"
   },
   {
    "duration": 28,
    "start_time": "2024-08-15T16:40:07.691Z"
   },
   {
    "duration": 7,
    "start_time": "2024-08-15T16:44:17.142Z"
   },
   {
    "duration": 23,
    "start_time": "2024-08-15T16:44:48.390Z"
   },
   {
    "duration": 346,
    "start_time": "2024-08-15T16:51:30.847Z"
   },
   {
    "duration": 87,
    "start_time": "2024-08-15T16:52:48.359Z"
   },
   {
    "duration": 23,
    "start_time": "2024-08-15T16:53:13.242Z"
   },
   {
    "duration": 4,
    "start_time": "2024-08-15T16:54:21.748Z"
   },
   {
    "duration": 261,
    "start_time": "2024-08-15T16:54:22.124Z"
   },
   {
    "duration": 14,
    "start_time": "2024-08-15T16:54:23.073Z"
   },
   {
    "duration": 12,
    "start_time": "2024-08-15T16:54:23.259Z"
   },
   {
    "duration": 13,
    "start_time": "2024-08-15T16:54:24.310Z"
   },
   {
    "duration": 12,
    "start_time": "2024-08-15T16:54:25.930Z"
   },
   {
    "duration": 21,
    "start_time": "2024-08-15T16:54:28.560Z"
   },
   {
    "duration": 31,
    "start_time": "2024-08-15T16:54:29.062Z"
   },
   {
    "duration": 14,
    "start_time": "2024-08-15T16:54:31.618Z"
   },
   {
    "duration": 21,
    "start_time": "2024-08-15T16:54:33.925Z"
   },
   {
    "duration": 23,
    "start_time": "2024-08-15T16:54:36.588Z"
   },
   {
    "duration": 16,
    "start_time": "2024-08-15T16:54:37.118Z"
   },
   {
    "duration": 19,
    "start_time": "2024-08-15T16:54:39.909Z"
   },
   {
    "duration": 42,
    "start_time": "2024-08-15T16:54:44.939Z"
   },
   {
    "duration": 26,
    "start_time": "2024-08-15T16:54:45.697Z"
   },
   {
    "duration": 19,
    "start_time": "2024-08-15T16:54:48.554Z"
   },
   {
    "duration": 17,
    "start_time": "2024-08-15T16:54:49.546Z"
   },
   {
    "duration": 28,
    "start_time": "2024-08-15T16:54:52.386Z"
   },
   {
    "duration": 22,
    "start_time": "2024-08-15T16:54:57.119Z"
   },
   {
    "duration": 25,
    "start_time": "2024-08-15T16:54:59.490Z"
   },
   {
    "duration": 17,
    "start_time": "2024-08-15T16:54:59.666Z"
   },
   {
    "duration": 42,
    "start_time": "2024-08-15T16:55:00.337Z"
   },
   {
    "duration": 25,
    "start_time": "2024-08-15T16:55:01.010Z"
   },
   {
    "duration": 22,
    "start_time": "2024-08-15T16:55:01.208Z"
   },
   {
    "duration": 12,
    "start_time": "2024-08-15T16:55:01.915Z"
   },
   {
    "duration": 18,
    "start_time": "2024-08-15T16:55:02.297Z"
   },
   {
    "duration": 31,
    "start_time": "2024-08-15T16:55:02.895Z"
   },
   {
    "duration": 27,
    "start_time": "2024-08-15T16:55:03.088Z"
   },
   {
    "duration": 81,
    "start_time": "2024-08-15T16:55:03.271Z"
   },
   {
    "duration": 3,
    "start_time": "2024-08-15T16:55:03.460Z"
   },
   {
    "duration": 82,
    "start_time": "2024-08-15T16:55:16.257Z"
   },
   {
    "duration": 89,
    "start_time": "2024-08-15T16:55:26.538Z"
   },
   {
    "duration": 32,
    "start_time": "2024-08-15T16:55:44.831Z"
   },
   {
    "duration": 28,
    "start_time": "2024-08-15T16:55:52.345Z"
   },
   {
    "duration": 24,
    "start_time": "2024-08-15T16:56:03.812Z"
   },
   {
    "duration": 81,
    "start_time": "2024-08-15T17:00:13.842Z"
   },
   {
    "duration": 25,
    "start_time": "2024-08-15T17:00:50.606Z"
   },
   {
    "duration": 4,
    "start_time": "2024-08-15T17:01:12.243Z"
   },
   {
    "duration": 257,
    "start_time": "2024-08-15T17:01:12.628Z"
   },
   {
    "duration": 14,
    "start_time": "2024-08-15T17:01:13.360Z"
   },
   {
    "duration": 12,
    "start_time": "2024-08-15T17:01:13.546Z"
   },
   {
    "duration": 14,
    "start_time": "2024-08-15T17:01:14.323Z"
   },
   {
    "duration": 13,
    "start_time": "2024-08-15T17:01:14.895Z"
   },
   {
    "duration": 14,
    "start_time": "2024-08-15T17:01:15.301Z"
   },
   {
    "duration": 20,
    "start_time": "2024-08-15T17:01:15.489Z"
   },
   {
    "duration": 16,
    "start_time": "2024-08-15T17:01:16.295Z"
   },
   {
    "duration": 21,
    "start_time": "2024-08-15T17:01:16.913Z"
   },
   {
    "duration": 25,
    "start_time": "2024-08-15T17:01:17.303Z"
   },
   {
    "duration": 18,
    "start_time": "2024-08-15T17:01:17.511Z"
   },
   {
    "duration": 22,
    "start_time": "2024-08-15T17:01:18.374Z"
   },
   {
    "duration": 44,
    "start_time": "2024-08-15T17:01:19.021Z"
   },
   {
    "duration": 31,
    "start_time": "2024-08-15T17:01:19.250Z"
   },
   {
    "duration": 24,
    "start_time": "2024-08-15T17:01:19.674Z"
   },
   {
    "duration": 18,
    "start_time": "2024-08-15T17:01:19.866Z"
   },
   {
    "duration": 28,
    "start_time": "2024-08-15T17:01:20.735Z"
   },
   {
    "duration": 21,
    "start_time": "2024-08-15T17:01:21.376Z"
   },
   {
    "duration": 22,
    "start_time": "2024-08-15T17:01:21.785Z"
   },
   {
    "duration": 15,
    "start_time": "2024-08-15T17:01:21.981Z"
   },
   {
    "duration": 35,
    "start_time": "2024-08-15T17:01:22.798Z"
   },
   {
    "duration": 25,
    "start_time": "2024-08-15T17:01:23.426Z"
   },
   {
    "duration": 24,
    "start_time": "2024-08-15T17:01:23.619Z"
   },
   {
    "duration": 12,
    "start_time": "2024-08-15T17:01:24.170Z"
   },
   {
    "duration": 23,
    "start_time": "2024-08-15T17:01:24.559Z"
   },
   {
    "duration": 33,
    "start_time": "2024-08-15T17:01:24.744Z"
   },
   {
    "duration": 35,
    "start_time": "2024-08-15T17:01:24.936Z"
   },
   {
    "duration": 30,
    "start_time": "2024-08-15T17:01:25.129Z"
   },
   {
    "duration": 88,
    "start_time": "2024-08-15T17:01:25.531Z"
   },
   {
    "duration": 3,
    "start_time": "2024-08-15T17:01:26.006Z"
   },
   {
    "duration": 257,
    "start_time": "2024-08-15T17:01:36.728Z"
   },
   {
    "duration": 41,
    "start_time": "2024-08-15T17:03:47.331Z"
   },
   {
    "duration": 21,
    "start_time": "2024-08-15T17:05:07.080Z"
   },
   {
    "duration": 22,
    "start_time": "2024-08-15T17:05:45.813Z"
   },
   {
    "duration": 28,
    "start_time": "2024-08-15T17:07:07.511Z"
   },
   {
    "duration": 23,
    "start_time": "2024-08-15T17:07:52.142Z"
   },
   {
    "duration": 22,
    "start_time": "2024-08-15T17:08:12.192Z"
   },
   {
    "duration": 480,
    "start_time": "2024-08-15T19:38:14.924Z"
   },
   {
    "duration": 329,
    "start_time": "2024-08-15T19:38:15.644Z"
   },
   {
    "duration": 16,
    "start_time": "2024-08-15T19:38:17.960Z"
   },
   {
    "duration": 20,
    "start_time": "2024-08-15T19:38:18.385Z"
   },
   {
    "duration": 15,
    "start_time": "2024-08-15T19:38:20.527Z"
   },
   {
    "duration": 13,
    "start_time": "2024-08-15T19:38:21.110Z"
   },
   {
    "duration": 15,
    "start_time": "2024-08-15T19:38:21.511Z"
   },
   {
    "duration": 22,
    "start_time": "2024-08-15T19:38:21.708Z"
   },
   {
    "duration": 16,
    "start_time": "2024-08-15T19:38:22.950Z"
   },
   {
    "duration": 26,
    "start_time": "2024-08-15T19:38:23.658Z"
   },
   {
    "duration": 24,
    "start_time": "2024-08-15T19:38:24.091Z"
   },
   {
    "duration": 16,
    "start_time": "2024-08-15T19:38:24.293Z"
   },
   {
    "duration": 18,
    "start_time": "2024-08-15T19:38:25.429Z"
   },
   {
    "duration": 45,
    "start_time": "2024-08-15T19:38:27.326Z"
   },
   {
    "duration": 27,
    "start_time": "2024-08-15T19:38:28.101Z"
   },
   {
    "duration": 24,
    "start_time": "2024-08-15T19:38:28.923Z"
   },
   {
    "duration": 16,
    "start_time": "2024-08-15T19:38:29.146Z"
   },
   {
    "duration": 32,
    "start_time": "2024-08-15T19:38:30.463Z"
   },
   {
    "duration": 22,
    "start_time": "2024-08-15T19:38:31.555Z"
   },
   {
    "duration": 22,
    "start_time": "2024-08-15T19:38:32.227Z"
   },
   {
    "duration": 16,
    "start_time": "2024-08-15T19:38:32.665Z"
   },
   {
    "duration": 37,
    "start_time": "2024-08-15T19:38:34.048Z"
   },
   {
    "duration": 25,
    "start_time": "2024-08-15T19:38:35.153Z"
   },
   {
    "duration": 22,
    "start_time": "2024-08-15T19:38:35.719Z"
   },
   {
    "duration": 12,
    "start_time": "2024-08-15T19:38:38.847Z"
   },
   {
    "duration": 22,
    "start_time": "2024-08-15T19:38:39.365Z"
   },
   {
    "duration": 371,
    "start_time": "2024-08-15T19:38:39.714Z"
   },
   {
    "duration": 0,
    "start_time": "2024-08-15T19:38:40.088Z"
   },
   {
    "duration": 24,
    "start_time": "2024-08-15T19:38:40.230Z"
   },
   {
    "duration": 26,
    "start_time": "2024-08-15T19:38:40.763Z"
   },
   {
    "duration": 6,
    "start_time": "2024-08-15T19:38:42.964Z"
   },
   {
    "duration": 41,
    "start_time": "2024-08-15T19:39:20.430Z"
   },
   {
    "duration": 31,
    "start_time": "2024-08-15T19:40:00.883Z"
   },
   {
    "duration": 27,
    "start_time": "2024-08-15T19:40:07.300Z"
   },
   {
    "duration": 26,
    "start_time": "2024-08-15T19:40:12.393Z"
   },
   {
    "duration": 25,
    "start_time": "2024-08-15T19:41:51.578Z"
   },
   {
    "duration": 35,
    "start_time": "2024-08-15T19:45:53.078Z"
   },
   {
    "duration": 34,
    "start_time": "2024-08-15T19:47:26.413Z"
   },
   {
    "duration": 34,
    "start_time": "2024-08-15T19:47:34.354Z"
   },
   {
    "duration": 30,
    "start_time": "2024-08-15T19:47:59.752Z"
   },
   {
    "duration": 4,
    "start_time": "2024-08-15T19:51:52.254Z"
   },
   {
    "duration": 265,
    "start_time": "2024-08-15T19:51:52.842Z"
   },
   {
    "duration": 14,
    "start_time": "2024-08-15T19:51:53.717Z"
   },
   {
    "duration": 11,
    "start_time": "2024-08-15T19:51:53.899Z"
   },
   {
    "duration": 15,
    "start_time": "2024-08-15T19:51:54.627Z"
   },
   {
    "duration": 13,
    "start_time": "2024-08-15T19:51:55.138Z"
   },
   {
    "duration": 15,
    "start_time": "2024-08-15T19:51:55.491Z"
   },
   {
    "duration": 20,
    "start_time": "2024-08-15T19:51:55.684Z"
   },
   {
    "duration": 14,
    "start_time": "2024-08-15T19:51:56.420Z"
   },
   {
    "duration": 21,
    "start_time": "2024-08-15T19:51:56.993Z"
   },
   {
    "duration": 26,
    "start_time": "2024-08-15T19:51:57.387Z"
   },
   {
    "duration": 17,
    "start_time": "2024-08-15T19:51:57.580Z"
   },
   {
    "duration": 24,
    "start_time": "2024-08-15T19:51:58.457Z"
   },
   {
    "duration": 43,
    "start_time": "2024-08-15T19:51:59.124Z"
   },
   {
    "duration": 28,
    "start_time": "2024-08-15T19:51:59.391Z"
   },
   {
    "duration": 21,
    "start_time": "2024-08-15T19:52:00.014Z"
   },
   {
    "duration": 15,
    "start_time": "2024-08-15T19:52:00.287Z"
   },
   {
    "duration": 31,
    "start_time": "2024-08-15T19:52:01.565Z"
   },
   {
    "duration": 22,
    "start_time": "2024-08-15T19:52:02.417Z"
   },
   {
    "duration": 21,
    "start_time": "2024-08-15T19:52:02.913Z"
   },
   {
    "duration": 20,
    "start_time": "2024-08-15T19:52:03.238Z"
   },
   {
    "duration": 37,
    "start_time": "2024-08-15T19:52:04.453Z"
   },
   {
    "duration": 25,
    "start_time": "2024-08-15T19:52:05.072Z"
   },
   {
    "duration": 12,
    "start_time": "2024-08-15T19:52:05.713Z"
   },
   {
    "duration": 19,
    "start_time": "2024-08-15T19:52:06.103Z"
   },
   {
    "duration": 31,
    "start_time": "2024-08-15T19:52:06.382Z"
   },
   {
    "duration": 27,
    "start_time": "2024-08-15T19:52:06.656Z"
   },
   {
    "duration": 28,
    "start_time": "2024-08-15T19:52:07.491Z"
   },
   {
    "duration": 258,
    "start_time": "2024-08-15T19:52:07.740Z"
   },
   {
    "duration": 2,
    "start_time": "2024-08-15T19:52:08.431Z"
   },
   {
    "duration": 24,
    "start_time": "2024-08-15T19:52:38.383Z"
   },
   {
    "duration": 25,
    "start_time": "2024-08-15T19:53:36.756Z"
   },
   {
    "duration": 25,
    "start_time": "2024-08-15T19:53:46.260Z"
   },
   {
    "duration": 28,
    "start_time": "2024-08-15T20:01:59.956Z"
   },
   {
    "duration": 21,
    "start_time": "2024-08-15T20:09:56.854Z"
   },
   {
    "duration": 3,
    "start_time": "2024-08-15T20:10:57.068Z"
   },
   {
    "duration": 282,
    "start_time": "2024-08-15T20:10:57.497Z"
   },
   {
    "duration": 14,
    "start_time": "2024-08-15T20:11:00.064Z"
   },
   {
    "duration": 12,
    "start_time": "2024-08-15T20:11:00.330Z"
   },
   {
    "duration": 20,
    "start_time": "2024-08-15T20:11:01.463Z"
   },
   {
    "duration": 13,
    "start_time": "2024-08-15T20:11:02.158Z"
   },
   {
    "duration": 14,
    "start_time": "2024-08-15T20:11:02.564Z"
   },
   {
    "duration": 22,
    "start_time": "2024-08-15T20:11:02.763Z"
   },
   {
    "duration": 16,
    "start_time": "2024-08-15T20:11:03.863Z"
   },
   {
    "duration": 21,
    "start_time": "2024-08-15T20:11:04.487Z"
   },
   {
    "duration": 24,
    "start_time": "2024-08-15T20:11:05.142Z"
   },
   {
    "duration": 16,
    "start_time": "2024-08-15T20:11:05.336Z"
   },
   {
    "duration": 18,
    "start_time": "2024-08-15T20:11:06.458Z"
   },
   {
    "duration": 43,
    "start_time": "2024-08-15T20:11:07.132Z"
   },
   {
    "duration": 27,
    "start_time": "2024-08-15T20:11:07.337Z"
   },
   {
    "duration": 19,
    "start_time": "2024-08-15T20:11:07.747Z"
   },
   {
    "duration": 16,
    "start_time": "2024-08-15T20:11:07.976Z"
   },
   {
    "duration": 31,
    "start_time": "2024-08-15T20:11:08.973Z"
   },
   {
    "duration": 23,
    "start_time": "2024-08-15T20:11:09.620Z"
   },
   {
    "duration": 23,
    "start_time": "2024-08-15T20:11:10.062Z"
   },
   {
    "duration": 16,
    "start_time": "2024-08-15T20:11:10.298Z"
   },
   {
    "duration": 36,
    "start_time": "2024-08-15T20:11:11.120Z"
   },
   {
    "duration": 25,
    "start_time": "2024-08-15T20:11:11.907Z"
   },
   {
    "duration": 11,
    "start_time": "2024-08-15T20:11:12.642Z"
   },
   {
    "duration": 31,
    "start_time": "2024-08-15T20:11:13.005Z"
   },
   {
    "duration": 27,
    "start_time": "2024-08-15T20:11:13.226Z"
   },
   {
    "duration": 24,
    "start_time": "2024-08-15T20:11:13.468Z"
   },
   {
    "duration": 26,
    "start_time": "2024-08-15T20:11:13.788Z"
   },
   {
    "duration": 7,
    "start_time": "2024-08-15T20:11:14.281Z"
   },
   {
    "duration": 5,
    "start_time": "2024-08-15T20:12:45.968Z"
   },
   {
    "duration": 22,
    "start_time": "2024-08-15T20:13:06.842Z"
   },
   {
    "duration": 32,
    "start_time": "2024-08-15T20:15:29.074Z"
   },
   {
    "duration": 5,
    "start_time": "2024-08-15T20:47:05.234Z"
   },
   {
    "duration": 6,
    "start_time": "2024-08-15T20:47:37.576Z"
   },
   {
    "duration": 18,
    "start_time": "2024-08-15T20:48:32.670Z"
   },
   {
    "duration": 32,
    "start_time": "2024-08-15T20:49:01.745Z"
   },
   {
    "duration": 31,
    "start_time": "2024-08-15T20:49:39.087Z"
   },
   {
    "duration": 26,
    "start_time": "2024-08-15T20:49:40.916Z"
   },
   {
    "duration": 19,
    "start_time": "2024-08-15T20:49:41.110Z"
   },
   {
    "duration": 23,
    "start_time": "2024-08-15T20:49:41.730Z"
   },
   {
    "duration": 26,
    "start_time": "2024-08-15T20:49:41.935Z"
   },
   {
    "duration": 34,
    "start_time": "2024-08-15T20:49:42.754Z"
   },
   {
    "duration": 4,
    "start_time": "2024-08-15T20:49:48.075Z"
   },
   {
    "duration": 24,
    "start_time": "2024-08-15T21:23:26.812Z"
   },
   {
    "duration": 24,
    "start_time": "2024-08-15T21:24:19.226Z"
   },
   {
    "duration": 73,
    "start_time": "2024-08-15T21:27:43.878Z"
   },
   {
    "duration": 772,
    "start_time": "2024-08-15T21:27:50.492Z"
   },
   {
    "duration": 33,
    "start_time": "2024-08-15T21:28:52.750Z"
   },
   {
    "duration": 32,
    "start_time": "2024-08-15T21:30:01.575Z"
   },
   {
    "duration": 25,
    "start_time": "2024-08-15T21:44:52.613Z"
   },
   {
    "duration": 5,
    "start_time": "2024-08-15T21:55:13.057Z"
   },
   {
    "duration": 5,
    "start_time": "2024-08-15T21:56:32.648Z"
   },
   {
    "duration": 5,
    "start_time": "2024-08-15T21:56:42.100Z"
   },
   {
    "duration": 4,
    "start_time": "2024-08-15T21:57:32.771Z"
   },
   {
    "duration": 14,
    "start_time": "2024-08-15T21:57:47.758Z"
   },
   {
    "duration": 6,
    "start_time": "2024-08-15T21:58:23.851Z"
   },
   {
    "duration": 13,
    "start_time": "2024-08-15T22:00:19.170Z"
   },
   {
    "duration": 13,
    "start_time": "2024-08-15T22:00:43.948Z"
   },
   {
    "duration": 42,
    "start_time": "2024-08-15T22:01:28.133Z"
   },
   {
    "duration": 350,
    "start_time": "2024-08-15T22:01:37.631Z"
   },
   {
    "duration": 8,
    "start_time": "2024-08-15T22:01:55.851Z"
   },
   {
    "duration": 265,
    "start_time": "2024-08-15T22:01:56.182Z"
   },
   {
    "duration": 15,
    "start_time": "2024-08-15T22:01:56.887Z"
   },
   {
    "duration": 11,
    "start_time": "2024-08-15T22:01:57.087Z"
   },
   {
    "duration": 18,
    "start_time": "2024-08-15T22:01:57.817Z"
   },
   {
    "duration": 14,
    "start_time": "2024-08-15T22:01:58.391Z"
   },
   {
    "duration": 14,
    "start_time": "2024-08-15T22:01:58.805Z"
   },
   {
    "duration": 22,
    "start_time": "2024-08-15T22:01:59.018Z"
   },
   {
    "duration": 31,
    "start_time": "2024-08-15T22:01:59.869Z"
   },
   {
    "duration": 22,
    "start_time": "2024-08-15T22:02:00.435Z"
   },
   {
    "duration": 25,
    "start_time": "2024-08-15T22:02:00.824Z"
   },
   {
    "duration": 16,
    "start_time": "2024-08-15T22:02:01.041Z"
   },
   {
    "duration": 18,
    "start_time": "2024-08-15T22:02:02.018Z"
   },
   {
    "duration": 45,
    "start_time": "2024-08-15T22:02:02.825Z"
   },
   {
    "duration": 27,
    "start_time": "2024-08-15T22:02:03.026Z"
   },
   {
    "duration": 19,
    "start_time": "2024-08-15T22:02:03.751Z"
   },
   {
    "duration": 16,
    "start_time": "2024-08-15T22:02:04.082Z"
   },
   {
    "duration": 29,
    "start_time": "2024-08-15T22:02:05.451Z"
   },
   {
    "duration": 21,
    "start_time": "2024-08-15T22:02:05.999Z"
   },
   {
    "duration": 22,
    "start_time": "2024-08-15T22:02:06.365Z"
   },
   {
    "duration": 17,
    "start_time": "2024-08-15T22:02:06.573Z"
   },
   {
    "duration": 36,
    "start_time": "2024-08-15T22:02:07.397Z"
   },
   {
    "duration": 28,
    "start_time": "2024-08-15T22:02:08.020Z"
   },
   {
    "duration": 13,
    "start_time": "2024-08-15T22:02:09.463Z"
   },
   {
    "duration": 32,
    "start_time": "2024-08-15T22:02:09.944Z"
   },
   {
    "duration": 28,
    "start_time": "2024-08-15T22:02:10.328Z"
   },
   {
    "duration": 20,
    "start_time": "2024-08-15T22:02:10.768Z"
   },
   {
    "duration": 23,
    "start_time": "2024-08-15T22:02:11.294Z"
   },
   {
    "duration": 29,
    "start_time": "2024-08-15T22:02:11.698Z"
   },
   {
    "duration": 35,
    "start_time": "2024-08-15T22:02:12.116Z"
   },
   {
    "duration": 71,
    "start_time": "2024-08-15T22:02:17.638Z"
   },
   {
    "duration": 37,
    "start_time": "2024-08-15T22:02:18.083Z"
   },
   {
    "duration": 29,
    "start_time": "2024-08-15T22:02:33.345Z"
   },
   {
    "duration": 34,
    "start_time": "2024-08-15T22:02:40.049Z"
   },
   {
    "duration": 43,
    "start_time": "2024-08-15T22:03:12.978Z"
   },
   {
    "duration": 30,
    "start_time": "2024-08-15T22:33:29.680Z"
   },
   {
    "duration": 40,
    "start_time": "2024-08-15T22:33:37.120Z"
   },
   {
    "duration": 48,
    "start_time": "2024-08-15T22:36:09.293Z"
   },
   {
    "duration": 43,
    "start_time": "2024-08-15T22:41:54.274Z"
   },
   {
    "duration": 39,
    "start_time": "2024-08-15T22:42:18.340Z"
   },
   {
    "duration": 4,
    "start_time": "2024-08-15T22:42:40.689Z"
   },
   {
    "duration": 272,
    "start_time": "2024-08-15T22:42:41.371Z"
   },
   {
    "duration": 13,
    "start_time": "2024-08-15T22:42:42.106Z"
   },
   {
    "duration": 12,
    "start_time": "2024-08-15T22:42:42.305Z"
   },
   {
    "duration": 14,
    "start_time": "2024-08-15T22:42:43.067Z"
   },
   {
    "duration": 12,
    "start_time": "2024-08-15T22:42:43.636Z"
   },
   {
    "duration": 14,
    "start_time": "2024-08-15T22:42:44.047Z"
   },
   {
    "duration": 21,
    "start_time": "2024-08-15T22:42:44.258Z"
   },
   {
    "duration": 22,
    "start_time": "2024-08-15T22:42:45.393Z"
   },
   {
    "duration": 23,
    "start_time": "2024-08-15T22:42:46.189Z"
   },
   {
    "duration": 25,
    "start_time": "2024-08-15T22:42:46.757Z"
   },
   {
    "duration": 16,
    "start_time": "2024-08-15T22:42:47.034Z"
   },
   {
    "duration": 18,
    "start_time": "2024-08-15T22:42:48.407Z"
   },
   {
    "duration": 43,
    "start_time": "2024-08-15T22:42:49.302Z"
   },
   {
    "duration": 27,
    "start_time": "2024-08-15T22:42:49.567Z"
   },
   {
    "duration": 19,
    "start_time": "2024-08-15T22:42:50.416Z"
   },
   {
    "duration": 13,
    "start_time": "2024-08-15T22:42:50.841Z"
   },
   {
    "duration": 30,
    "start_time": "2024-08-15T22:42:52.295Z"
   },
   {
    "duration": 21,
    "start_time": "2024-08-15T22:42:53.000Z"
   },
   {
    "duration": 22,
    "start_time": "2024-08-15T22:42:53.557Z"
   },
   {
    "duration": 16,
    "start_time": "2024-08-15T22:42:53.859Z"
   },
   {
    "duration": 39,
    "start_time": "2024-08-15T22:42:55.525Z"
   },
   {
    "duration": 25,
    "start_time": "2024-08-15T22:42:56.679Z"
   },
   {
    "duration": 12,
    "start_time": "2024-08-15T22:42:57.845Z"
   },
   {
    "duration": 31,
    "start_time": "2024-08-15T22:42:58.338Z"
   },
   {
    "duration": 27,
    "start_time": "2024-08-15T22:42:58.618Z"
   },
   {
    "duration": 18,
    "start_time": "2024-08-15T22:42:59.051Z"
   },
   {
    "duration": 23,
    "start_time": "2024-08-15T22:42:59.571Z"
   },
   {
    "duration": 27,
    "start_time": "2024-08-15T22:43:00.100Z"
   },
   {
    "duration": 33,
    "start_time": "2024-08-15T22:43:00.959Z"
   },
   {
    "duration": 30,
    "start_time": "2024-08-15T22:43:01.333Z"
   },
   {
    "duration": 39,
    "start_time": "2024-08-15T22:43:01.816Z"
   },
   {
    "duration": 3,
    "start_time": "2024-08-15T22:43:02.777Z"
   },
   {
    "duration": 42,
    "start_time": "2024-08-15T22:45:55.580Z"
   },
   {
    "duration": 29,
    "start_time": "2024-08-15T22:46:31.364Z"
   },
   {
    "duration": 39,
    "start_time": "2024-08-15T22:46:46.533Z"
   },
   {
    "duration": 432,
    "start_time": "2024-08-16T14:39:51.205Z"
   },
   {
    "duration": 358,
    "start_time": "2024-08-16T14:39:51.641Z"
   },
   {
    "duration": 14,
    "start_time": "2024-08-16T14:39:52.301Z"
   },
   {
    "duration": 18,
    "start_time": "2024-08-16T14:39:52.485Z"
   },
   {
    "duration": 16,
    "start_time": "2024-08-16T14:39:53.232Z"
   },
   {
    "duration": 13,
    "start_time": "2024-08-16T14:39:53.810Z"
   },
   {
    "duration": 15,
    "start_time": "2024-08-16T14:39:54.171Z"
   },
   {
    "duration": 22,
    "start_time": "2024-08-16T14:39:54.338Z"
   },
   {
    "duration": 24,
    "start_time": "2024-08-16T14:39:55.100Z"
   },
   {
    "duration": 23,
    "start_time": "2024-08-16T14:39:55.923Z"
   },
   {
    "duration": 25,
    "start_time": "2024-08-16T14:39:56.295Z"
   },
   {
    "duration": 17,
    "start_time": "2024-08-16T14:39:56.489Z"
   },
   {
    "duration": 20,
    "start_time": "2024-08-16T14:39:57.269Z"
   },
   {
    "duration": 45,
    "start_time": "2024-08-16T14:39:57.861Z"
   },
   {
    "duration": 28,
    "start_time": "2024-08-16T14:39:58.063Z"
   },
   {
    "duration": 20,
    "start_time": "2024-08-16T14:39:58.477Z"
   },
   {
    "duration": 16,
    "start_time": "2024-08-16T14:39:58.683Z"
   },
   {
    "duration": 36,
    "start_time": "2024-08-16T14:39:59.544Z"
   },
   {
    "duration": 24,
    "start_time": "2024-08-16T14:40:00.231Z"
   },
   {
    "duration": 23,
    "start_time": "2024-08-16T14:40:00.694Z"
   },
   {
    "duration": 17,
    "start_time": "2024-08-16T14:40:00.922Z"
   },
   {
    "duration": 38,
    "start_time": "2024-08-16T14:40:01.808Z"
   },
   {
    "duration": 27,
    "start_time": "2024-08-16T14:40:02.651Z"
   },
   {
    "duration": 16,
    "start_time": "2024-08-16T14:40:03.380Z"
   },
   {
    "duration": 32,
    "start_time": "2024-08-16T14:40:03.880Z"
   },
   {
    "duration": 28,
    "start_time": "2024-08-16T14:40:04.154Z"
   },
   {
    "duration": 21,
    "start_time": "2024-08-16T14:40:04.707Z"
   },
   {
    "duration": 24,
    "start_time": "2024-08-16T14:40:05.561Z"
   },
   {
    "duration": 29,
    "start_time": "2024-08-16T14:40:06.136Z"
   },
   {
    "duration": 32,
    "start_time": "2024-08-16T14:40:06.984Z"
   },
   {
    "duration": 33,
    "start_time": "2024-08-16T14:40:07.233Z"
   },
   {
    "duration": 40,
    "start_time": "2024-08-16T14:40:07.678Z"
   },
   {
    "duration": 10,
    "start_time": "2024-08-16T14:59:35.670Z"
   },
   {
    "duration": 41,
    "start_time": "2024-08-16T15:02:46.426Z"
   },
   {
    "duration": 8,
    "start_time": "2024-08-16T15:04:00.821Z"
   },
   {
    "duration": 8,
    "start_time": "2024-08-16T15:09:59.486Z"
   },
   {
    "duration": 3,
    "start_time": "2024-08-16T15:10:25.328Z"
   },
   {
    "duration": 277,
    "start_time": "2024-08-16T15:10:25.815Z"
   },
   {
    "duration": 14,
    "start_time": "2024-08-16T15:10:26.582Z"
   },
   {
    "duration": 11,
    "start_time": "2024-08-16T15:10:26.767Z"
   },
   {
    "duration": 14,
    "start_time": "2024-08-16T15:10:27.539Z"
   },
   {
    "duration": 14,
    "start_time": "2024-08-16T15:10:28.118Z"
   },
   {
    "duration": 15,
    "start_time": "2024-08-16T15:10:28.503Z"
   },
   {
    "duration": 26,
    "start_time": "2024-08-16T15:10:28.691Z"
   },
   {
    "duration": 24,
    "start_time": "2024-08-16T15:10:29.515Z"
   },
   {
    "duration": 23,
    "start_time": "2024-08-16T15:10:30.146Z"
   },
   {
    "duration": 24,
    "start_time": "2024-08-16T15:10:30.560Z"
   },
   {
    "duration": 17,
    "start_time": "2024-08-16T15:10:30.867Z"
   },
   {
    "duration": 23,
    "start_time": "2024-08-16T15:10:31.753Z"
   },
   {
    "duration": 44,
    "start_time": "2024-08-16T15:10:32.398Z"
   },
   {
    "duration": 27,
    "start_time": "2024-08-16T15:10:32.618Z"
   },
   {
    "duration": 21,
    "start_time": "2024-08-16T15:10:33.032Z"
   },
   {
    "duration": 15,
    "start_time": "2024-08-16T15:10:33.244Z"
   },
   {
    "duration": 29,
    "start_time": "2024-08-16T15:10:34.113Z"
   },
   {
    "duration": 22,
    "start_time": "2024-08-16T15:10:34.796Z"
   },
   {
    "duration": 23,
    "start_time": "2024-08-16T15:10:35.242Z"
   },
   {
    "duration": 16,
    "start_time": "2024-08-16T15:10:35.476Z"
   },
   {
    "duration": 43,
    "start_time": "2024-08-16T15:10:36.533Z"
   },
   {
    "duration": 25,
    "start_time": "2024-08-16T15:10:37.225Z"
   },
   {
    "duration": 12,
    "start_time": "2024-08-16T15:10:37.930Z"
   },
   {
    "duration": 34,
    "start_time": "2024-08-16T15:10:38.557Z"
   },
   {
    "duration": 28,
    "start_time": "2024-08-16T15:10:38.885Z"
   },
   {
    "duration": 21,
    "start_time": "2024-08-16T15:10:39.244Z"
   },
   {
    "duration": 34,
    "start_time": "2024-08-16T15:10:39.570Z"
   },
   {
    "duration": 36,
    "start_time": "2024-08-16T15:10:39.915Z"
   },
   {
    "duration": 33,
    "start_time": "2024-08-16T15:10:40.502Z"
   },
   {
    "duration": 28,
    "start_time": "2024-08-16T15:10:40.721Z"
   },
   {
    "duration": 40,
    "start_time": "2024-08-16T15:10:40.965Z"
   },
   {
    "duration": 8,
    "start_time": "2024-08-16T15:10:41.872Z"
   },
   {
    "duration": 10,
    "start_time": "2024-08-16T15:11:29.036Z"
   },
   {
    "duration": 8,
    "start_time": "2024-08-16T15:11:30.687Z"
   },
   {
    "duration": 8,
    "start_time": "2024-08-16T15:12:12.525Z"
   },
   {
    "duration": 7,
    "start_time": "2024-08-16T15:12:16.587Z"
   },
   {
    "duration": 8,
    "start_time": "2024-08-16T15:13:24.988Z"
   },
   {
    "duration": 9,
    "start_time": "2024-08-16T15:13:43.022Z"
   },
   {
    "duration": 7,
    "start_time": "2024-08-16T15:14:47.355Z"
   },
   {
    "duration": 7,
    "start_time": "2024-08-16T15:15:14.777Z"
   },
   {
    "duration": 157,
    "start_time": "2024-08-16T15:15:16.662Z"
   },
   {
    "duration": 37,
    "start_time": "2024-08-16T15:53:44.520Z"
   },
   {
    "duration": 40,
    "start_time": "2024-08-16T15:54:32.494Z"
   },
   {
    "duration": 11,
    "start_time": "2024-08-16T16:27:01.494Z"
   },
   {
    "duration": 63,
    "start_time": "2024-08-16T16:27:57.537Z"
   },
   {
    "duration": 14,
    "start_time": "2024-08-16T16:28:14.454Z"
   },
   {
    "duration": 16,
    "start_time": "2024-08-16T16:28:46.784Z"
   },
   {
    "duration": 4565,
    "start_time": "2024-08-16T19:33:52.068Z"
   },
   {
    "duration": 388,
    "start_time": "2024-08-16T19:33:56.638Z"
   },
   {
    "duration": 16,
    "start_time": "2024-08-16T19:33:57.030Z"
   },
   {
    "duration": 20,
    "start_time": "2024-08-16T19:33:57.052Z"
   },
   {
    "duration": 54,
    "start_time": "2024-08-16T19:33:57.074Z"
   },
   {
    "duration": 15,
    "start_time": "2024-08-16T19:33:57.131Z"
   },
   {
    "duration": 14,
    "start_time": "2024-08-16T19:33:57.149Z"
   },
   {
    "duration": 60,
    "start_time": "2024-08-16T19:33:57.167Z"
   },
   {
    "duration": 27,
    "start_time": "2024-08-16T19:33:57.230Z"
   },
   {
    "duration": 26,
    "start_time": "2024-08-16T19:33:57.263Z"
   },
   {
    "duration": 40,
    "start_time": "2024-08-16T19:33:57.444Z"
   },
   {
    "duration": 20,
    "start_time": "2024-08-16T19:33:57.696Z"
   },
   {
    "duration": 21,
    "start_time": "2024-08-16T19:33:58.818Z"
   },
   {
    "duration": 46,
    "start_time": "2024-08-16T19:33:59.688Z"
   },
   {
    "duration": 27,
    "start_time": "2024-08-16T19:33:59.942Z"
   },
   {
    "duration": 21,
    "start_time": "2024-08-16T19:34:00.498Z"
   },
   {
    "duration": 18,
    "start_time": "2024-08-16T19:34:00.712Z"
   },
   {
    "duration": 38,
    "start_time": "2024-08-16T19:34:02.225Z"
   },
   {
    "duration": 26,
    "start_time": "2024-08-16T19:34:03.163Z"
   },
   {
    "duration": 31,
    "start_time": "2024-08-16T19:34:03.877Z"
   },
   {
    "duration": 16,
    "start_time": "2024-08-16T19:34:05.160Z"
   },
   {
    "duration": 38,
    "start_time": "2024-08-16T19:34:07.055Z"
   },
   {
    "duration": 27,
    "start_time": "2024-08-16T19:34:08.304Z"
   },
   {
    "duration": 14,
    "start_time": "2024-08-16T19:34:09.084Z"
   },
   {
    "duration": 34,
    "start_time": "2024-08-16T19:34:09.475Z"
   },
   {
    "duration": 35,
    "start_time": "2024-08-16T19:34:09.666Z"
   },
   {
    "duration": 24,
    "start_time": "2024-08-16T19:34:09.856Z"
   },
   {
    "duration": 30,
    "start_time": "2024-08-16T19:34:10.035Z"
   },
   {
    "duration": 28,
    "start_time": "2024-08-16T19:34:10.215Z"
   },
   {
    "duration": 41,
    "start_time": "2024-08-16T19:34:10.584Z"
   },
   {
    "duration": 30,
    "start_time": "2024-08-16T19:34:10.784Z"
   },
   {
    "duration": 41,
    "start_time": "2024-08-16T19:34:10.973Z"
   },
   {
    "duration": 12,
    "start_time": "2024-08-16T19:34:11.448Z"
   },
   {
    "duration": 162,
    "start_time": "2024-08-16T19:34:12.061Z"
   },
   {
    "duration": 13,
    "start_time": "2024-08-16T19:34:14.401Z"
   },
   {
    "duration": 244,
    "start_time": "2024-08-16T19:37:02.282Z"
   },
   {
    "duration": 240,
    "start_time": "2024-08-16T19:38:54.941Z"
   },
   {
    "duration": 380,
    "start_time": "2024-08-16T19:40:05.030Z"
   },
   {
    "duration": 9,
    "start_time": "2024-08-16T19:42:13.700Z"
   },
   {
    "duration": 323,
    "start_time": "2024-08-16T19:42:20.348Z"
   },
   {
    "duration": 328,
    "start_time": "2024-08-16T19:42:40.304Z"
   },
   {
    "duration": 24056,
    "start_time": "2024-08-16T20:15:16.524Z"
   },
   {
    "duration": 10,
    "start_time": "2024-08-16T20:16:36.671Z"
   },
   {
    "duration": 38,
    "start_time": "2024-08-16T20:18:22.589Z"
   },
   {
    "duration": 38,
    "start_time": "2024-08-16T20:19:05.389Z"
   },
   {
    "duration": 37,
    "start_time": "2024-08-16T20:19:48.102Z"
   },
   {
    "duration": 14,
    "start_time": "2024-08-16T20:20:39.497Z"
   },
   {
    "duration": 15,
    "start_time": "2024-08-16T20:22:20.815Z"
   },
   {
    "duration": 30,
    "start_time": "2024-08-16T20:26:04.685Z"
   },
   {
    "duration": 1926,
    "start_time": "2024-08-16T20:29:07.131Z"
   },
   {
    "duration": 130,
    "start_time": "2024-08-16T20:30:13.259Z"
   },
   {
    "duration": 29,
    "start_time": "2024-08-16T20:31:04.766Z"
   },
   {
    "duration": 305,
    "start_time": "2024-08-16T20:34:13.721Z"
   },
   {
    "duration": 28,
    "start_time": "2024-08-16T20:34:24.898Z"
   },
   {
    "duration": 289,
    "start_time": "2024-08-16T20:39:51.643Z"
   },
   {
    "duration": 14,
    "start_time": "2024-08-16T20:44:35.523Z"
   },
   {
    "duration": 19,
    "start_time": "2024-08-16T20:45:07.143Z"
   },
   {
    "duration": 20,
    "start_time": "2024-08-16T20:46:32.523Z"
   },
   {
    "duration": 22,
    "start_time": "2024-08-16T20:46:51.080Z"
   },
   {
    "duration": 9,
    "start_time": "2024-08-16T21:00:45.781Z"
   },
   {
    "duration": 6,
    "start_time": "2024-08-16T21:01:01.867Z"
   },
   {
    "duration": 6,
    "start_time": "2024-08-16T21:01:40.222Z"
   },
   {
    "duration": 18,
    "start_time": "2024-08-16T21:01:51.815Z"
   },
   {
    "duration": 543,
    "start_time": "2024-08-16T21:02:19.248Z"
   },
   {
    "duration": 117,
    "start_time": "2024-08-16T21:03:22.494Z"
   },
   {
    "duration": 114,
    "start_time": "2024-08-16T21:04:17.766Z"
   },
   {
    "duration": 118,
    "start_time": "2024-08-16T21:06:07.685Z"
   },
   {
    "duration": 167,
    "start_time": "2024-08-16T21:07:13.532Z"
   },
   {
    "duration": 168,
    "start_time": "2024-08-16T21:09:55.720Z"
   },
   {
    "duration": 124,
    "start_time": "2024-08-16T21:10:54.932Z"
   },
   {
    "duration": 125,
    "start_time": "2024-08-16T21:11:44.775Z"
   },
   {
    "duration": 24,
    "start_time": "2024-08-16T21:13:03.469Z"
   },
   {
    "duration": 129,
    "start_time": "2024-08-16T21:14:02.573Z"
   },
   {
    "duration": 140,
    "start_time": "2024-08-16T21:15:43.898Z"
   },
   {
    "duration": 123,
    "start_time": "2024-08-16T21:15:50.713Z"
   },
   {
    "duration": 125,
    "start_time": "2024-08-16T21:16:32.780Z"
   },
   {
    "duration": 135,
    "start_time": "2024-08-16T21:16:36.065Z"
   },
   {
    "duration": 23,
    "start_time": "2024-08-16T21:17:37.347Z"
   },
   {
    "duration": 23,
    "start_time": "2024-08-16T21:18:31.728Z"
   },
   {
    "duration": 36,
    "start_time": "2024-08-16T21:19:52.387Z"
   },
   {
    "duration": 307,
    "start_time": "2024-08-16T21:19:58.426Z"
   },
   {
    "duration": 291,
    "start_time": "2024-08-16T21:20:44.844Z"
   },
   {
    "duration": 4589,
    "start_time": "2024-08-16T22:06:29.270Z"
   },
   {
    "duration": 385,
    "start_time": "2024-08-16T22:06:33.864Z"
   },
   {
    "duration": 18,
    "start_time": "2024-08-16T22:06:34.253Z"
   },
   {
    "duration": 20,
    "start_time": "2024-08-16T22:06:34.276Z"
   },
   {
    "duration": 22,
    "start_time": "2024-08-16T22:06:37.234Z"
   },
   {
    "duration": 14,
    "start_time": "2024-08-16T22:06:37.786Z"
   },
   {
    "duration": 19,
    "start_time": "2024-08-16T22:06:38.143Z"
   },
   {
    "duration": 28,
    "start_time": "2024-08-16T22:06:38.335Z"
   },
   {
    "duration": 25,
    "start_time": "2024-08-16T22:06:39.231Z"
   },
   {
    "duration": 25,
    "start_time": "2024-08-16T22:06:39.919Z"
   },
   {
    "duration": 26,
    "start_time": "2024-08-16T22:06:40.319Z"
   },
   {
    "duration": 17,
    "start_time": "2024-08-16T22:06:40.522Z"
   },
   {
    "duration": 19,
    "start_time": "2024-08-16T22:06:41.292Z"
   },
   {
    "duration": 45,
    "start_time": "2024-08-16T22:06:41.874Z"
   },
   {
    "duration": 27,
    "start_time": "2024-08-16T22:06:42.072Z"
   },
   {
    "duration": 19,
    "start_time": "2024-08-16T22:06:42.458Z"
   },
   {
    "duration": 14,
    "start_time": "2024-08-16T22:06:42.667Z"
   },
   {
    "duration": 29,
    "start_time": "2024-08-16T22:06:43.431Z"
   },
   {
    "duration": 24,
    "start_time": "2024-08-16T22:06:44.063Z"
   },
   {
    "duration": 22,
    "start_time": "2024-08-16T22:06:44.461Z"
   },
   {
    "duration": 17,
    "start_time": "2024-08-16T22:06:44.660Z"
   },
   {
    "duration": 37,
    "start_time": "2024-08-16T22:06:45.458Z"
   },
   {
    "duration": 25,
    "start_time": "2024-08-16T22:06:46.083Z"
   },
   {
    "duration": 12,
    "start_time": "2024-08-16T22:06:46.711Z"
   },
   {
    "duration": 32,
    "start_time": "2024-08-16T22:06:47.189Z"
   },
   {
    "duration": 27,
    "start_time": "2024-08-16T22:06:47.399Z"
   },
   {
    "duration": 19,
    "start_time": "2024-08-16T22:06:47.627Z"
   },
   {
    "duration": 25,
    "start_time": "2024-08-16T22:06:47.843Z"
   },
   {
    "duration": 26,
    "start_time": "2024-08-16T22:06:48.042Z"
   },
   {
    "duration": 38,
    "start_time": "2024-08-16T22:06:48.465Z"
   },
   {
    "duration": 28,
    "start_time": "2024-08-16T22:06:48.680Z"
   },
   {
    "duration": 40,
    "start_time": "2024-08-16T22:06:48.883Z"
   },
   {
    "duration": 6,
    "start_time": "2024-08-16T22:06:49.299Z"
   },
   {
    "duration": 156,
    "start_time": "2024-08-16T22:06:49.531Z"
   },
   {
    "duration": 309,
    "start_time": "2024-08-16T22:06:50.767Z"
   },
   {
    "duration": 341,
    "start_time": "2024-08-16T22:08:12.579Z"
   },
   {
    "duration": 37,
    "start_time": "2024-08-16T22:39:03.613Z"
   },
   {
    "duration": 13,
    "start_time": "2024-08-16T22:39:42.252Z"
   },
   {
    "duration": 16,
    "start_time": "2024-08-16T22:55:55.116Z"
   },
   {
    "duration": 242,
    "start_time": "2024-08-16T23:04:41.927Z"
   },
   {
    "duration": 9,
    "start_time": "2024-08-16T23:12:01.753Z"
   },
   {
    "duration": 8,
    "start_time": "2024-08-16T23:12:25.727Z"
   },
   {
    "duration": 13,
    "start_time": "2024-08-16T23:12:32.156Z"
   },
   {
    "duration": 9,
    "start_time": "2024-08-16T23:13:01.489Z"
   },
   {
    "duration": 240,
    "start_time": "2024-08-16T23:14:33.170Z"
   },
   {
    "duration": 233,
    "start_time": "2024-08-16T23:16:54.844Z"
   },
   {
    "duration": 1490,
    "start_time": "2024-08-16T23:17:58.191Z"
   },
   {
    "duration": 239,
    "start_time": "2024-08-16T23:18:11.433Z"
   },
   {
    "duration": 242,
    "start_time": "2024-08-16T23:18:28.851Z"
   },
   {
    "duration": 328,
    "start_time": "2024-08-16T23:18:41.420Z"
   },
   {
    "duration": 299,
    "start_time": "2024-08-16T23:22:53.011Z"
   },
   {
    "duration": 7,
    "start_time": "2024-08-16T23:34:47.526Z"
   },
   {
    "duration": 55,
    "start_time": "2024-08-16T23:36:20.731Z"
   },
   {
    "duration": 4,
    "start_time": "2024-08-16T23:36:23.635Z"
   },
   {
    "duration": 9,
    "start_time": "2024-08-16T23:36:48.052Z"
   },
   {
    "duration": 6,
    "start_time": "2024-08-16T23:37:47.074Z"
   },
   {
    "duration": 6,
    "start_time": "2024-08-16T23:37:59.287Z"
   },
   {
    "duration": 578,
    "start_time": "2024-08-16T23:39:38.924Z"
   },
   {
    "duration": 163,
    "start_time": "2024-08-16T23:40:27.212Z"
   },
   {
    "duration": 327,
    "start_time": "2024-08-16T23:44:22.689Z"
   },
   {
    "duration": 16,
    "start_time": "2024-08-16T23:44:31.487Z"
   },
   {
    "duration": 15,
    "start_time": "2024-08-16T23:44:34.136Z"
   },
   {
    "duration": 294,
    "start_time": "2024-08-16T23:44:57.642Z"
   },
   {
    "duration": 8,
    "start_time": "2024-08-16T23:45:10.989Z"
   },
   {
    "duration": 146,
    "start_time": "2024-08-16T23:45:17.650Z"
   },
   {
    "duration": 388,
    "start_time": "2024-08-16T23:50:50.509Z"
   },
   {
    "duration": 277,
    "start_time": "2024-08-16T23:51:20.190Z"
   },
   {
    "duration": 4899,
    "start_time": "2024-08-17T00:56:32.409Z"
   },
   {
    "duration": 363,
    "start_time": "2024-08-17T00:56:37.314Z"
   },
   {
    "duration": 16,
    "start_time": "2024-08-17T00:56:37.680Z"
   },
   {
    "duration": 23,
    "start_time": "2024-08-17T00:56:37.700Z"
   },
   {
    "duration": 16,
    "start_time": "2024-08-17T00:56:39.062Z"
   },
   {
    "duration": 13,
    "start_time": "2024-08-17T00:56:53.481Z"
   },
   {
    "duration": 16,
    "start_time": "2024-08-17T00:56:54.103Z"
   },
   {
    "duration": 21,
    "start_time": "2024-08-17T00:56:54.421Z"
   },
   {
    "duration": 21,
    "start_time": "2024-08-17T00:56:55.555Z"
   },
   {
    "duration": 23,
    "start_time": "2024-08-17T00:56:56.115Z"
   },
   {
    "duration": 24,
    "start_time": "2024-08-17T00:56:56.537Z"
   },
   {
    "duration": 17,
    "start_time": "2024-08-17T00:56:56.723Z"
   },
   {
    "duration": 21,
    "start_time": "2024-08-17T00:56:57.476Z"
   },
   {
    "duration": 44,
    "start_time": "2024-08-17T00:56:58.033Z"
   },
   {
    "duration": 27,
    "start_time": "2024-08-17T00:56:58.231Z"
   },
   {
    "duration": 22,
    "start_time": "2024-08-17T00:56:58.580Z"
   },
   {
    "duration": 15,
    "start_time": "2024-08-17T00:56:58.769Z"
   },
   {
    "duration": 30,
    "start_time": "2024-08-17T00:56:59.764Z"
   },
   {
    "duration": 23,
    "start_time": "2024-08-17T00:57:00.350Z"
   },
   {
    "duration": 22,
    "start_time": "2024-08-17T00:57:00.696Z"
   },
   {
    "duration": 21,
    "start_time": "2024-08-17T00:57:00.896Z"
   },
   {
    "duration": 36,
    "start_time": "2024-08-17T00:57:01.651Z"
   },
   {
    "duration": 26,
    "start_time": "2024-08-17T00:57:02.287Z"
   },
   {
    "duration": 12,
    "start_time": "2024-08-17T00:57:02.841Z"
   },
   {
    "duration": 36,
    "start_time": "2024-08-17T00:57:03.204Z"
   },
   {
    "duration": 27,
    "start_time": "2024-08-17T00:57:03.407Z"
   },
   {
    "duration": 22,
    "start_time": "2024-08-17T00:57:03.602Z"
   },
   {
    "duration": 25,
    "start_time": "2024-08-17T00:57:03.778Z"
   },
   {
    "duration": 28,
    "start_time": "2024-08-17T00:57:03.951Z"
   },
   {
    "duration": 32,
    "start_time": "2024-08-17T00:57:04.339Z"
   },
   {
    "duration": 30,
    "start_time": "2024-08-17T00:57:04.539Z"
   },
   {
    "duration": 42,
    "start_time": "2024-08-17T00:57:04.738Z"
   },
   {
    "duration": 6,
    "start_time": "2024-08-17T00:57:05.143Z"
   },
   {
    "duration": 152,
    "start_time": "2024-08-17T00:57:05.366Z"
   },
   {
    "duration": 319,
    "start_time": "2024-08-17T00:57:06.343Z"
   },
   {
    "duration": 14,
    "start_time": "2024-08-17T00:57:06.666Z"
   },
   {
    "duration": 14,
    "start_time": "2024-08-17T00:57:06.820Z"
   },
   {
    "duration": 279,
    "start_time": "2024-08-17T00:57:07.119Z"
   },
   {
    "duration": 6,
    "start_time": "2024-08-17T00:57:07.873Z"
   },
   {
    "duration": 152,
    "start_time": "2024-08-17T00:57:08.840Z"
   },
   {
    "duration": 284,
    "start_time": "2024-08-17T01:02:41.321Z"
   },
   {
    "duration": 12,
    "start_time": "2024-08-17T01:04:17.129Z"
   },
   {
    "duration": 253,
    "start_time": "2024-08-17T01:08:32.942Z"
   },
   {
    "duration": 273,
    "start_time": "2024-08-17T01:08:43.414Z"
   },
   {
    "duration": 335,
    "start_time": "2024-08-17T01:09:04.739Z"
   },
   {
    "duration": 279,
    "start_time": "2024-08-17T01:09:46.353Z"
   },
   {
    "duration": 339,
    "start_time": "2024-08-17T01:10:30.039Z"
   },
   {
    "duration": 339,
    "start_time": "2024-08-17T01:10:50.675Z"
   },
   {
    "duration": 294,
    "start_time": "2024-08-17T01:11:02.038Z"
   },
   {
    "duration": 299,
    "start_time": "2024-08-17T01:12:30.171Z"
   },
   {
    "duration": 339,
    "start_time": "2024-08-17T01:13:03.151Z"
   },
   {
    "duration": 385,
    "start_time": "2024-08-17T01:13:26.830Z"
   },
   {
    "duration": 496,
    "start_time": "2024-08-17T01:18:17.197Z"
   },
   {
    "duration": 296,
    "start_time": "2024-08-17T01:18:54.947Z"
   },
   {
    "duration": 289,
    "start_time": "2024-08-17T01:19:50.164Z"
   },
   {
    "duration": 313,
    "start_time": "2024-08-17T01:19:57.430Z"
   },
   {
    "duration": 299,
    "start_time": "2024-08-17T01:20:16.443Z"
   },
   {
    "duration": 311,
    "start_time": "2024-08-17T01:20:28.289Z"
   },
   {
    "duration": 400,
    "start_time": "2024-08-17T01:20:39.989Z"
   },
   {
    "duration": 303,
    "start_time": "2024-08-17T01:20:55.763Z"
   },
   {
    "duration": 300,
    "start_time": "2024-08-17T01:21:06.925Z"
   },
   {
    "duration": 302,
    "start_time": "2024-08-17T01:21:17.296Z"
   },
   {
    "duration": 321,
    "start_time": "2024-08-17T01:21:37.319Z"
   },
   {
    "duration": 300,
    "start_time": "2024-08-17T01:21:47.234Z"
   },
   {
    "duration": 299,
    "start_time": "2024-08-17T01:22:14.900Z"
   },
   {
    "duration": 313,
    "start_time": "2024-08-17T01:22:23.970Z"
   },
   {
    "duration": 304,
    "start_time": "2024-08-17T01:23:49.584Z"
   },
   {
    "duration": 313,
    "start_time": "2024-08-17T01:25:14.275Z"
   },
   {
    "duration": 325,
    "start_time": "2024-08-17T01:26:26.897Z"
   },
   {
    "duration": 11,
    "start_time": "2024-08-17T02:17:07.868Z"
   },
   {
    "duration": 482,
    "start_time": "2024-08-17T02:30:00.011Z"
   },
   {
    "duration": 739,
    "start_time": "2024-08-17T02:32:22.504Z"
   },
   {
    "duration": 325,
    "start_time": "2024-08-17T02:32:58.466Z"
   },
   {
    "duration": 225,
    "start_time": "2024-08-17T02:33:04.008Z"
   },
   {
    "duration": 9,
    "start_time": "2024-08-17T02:33:52.300Z"
   },
   {
    "duration": 115,
    "start_time": "2024-08-17T02:34:04.254Z"
   },
   {
    "duration": 5,
    "start_time": "2024-08-17T02:36:50.352Z"
   },
   {
    "duration": 13,
    "start_time": "2024-08-17T02:36:57.017Z"
   },
   {
    "duration": 10,
    "start_time": "2024-08-17T02:37:44.185Z"
   },
   {
    "duration": 14,
    "start_time": "2024-08-17T02:39:07.598Z"
   },
   {
    "duration": 148,
    "start_time": "2024-08-17T02:39:31.839Z"
   },
   {
    "duration": 8,
    "start_time": "2024-08-17T02:40:19.093Z"
   },
   {
    "duration": 8,
    "start_time": "2024-08-17T02:40:36.402Z"
   },
   {
    "duration": 7,
    "start_time": "2024-08-17T02:40:48.101Z"
   },
   {
    "duration": 11,
    "start_time": "2024-08-17T02:41:27.974Z"
   },
   {
    "duration": 15,
    "start_time": "2024-08-17T02:42:06.100Z"
   },
   {
    "duration": 15,
    "start_time": "2024-08-17T02:43:11.913Z"
   },
   {
    "duration": 14,
    "start_time": "2024-08-17T02:44:14.586Z"
   },
   {
    "duration": 12,
    "start_time": "2024-08-17T02:45:45.858Z"
   },
   {
    "duration": 172,
    "start_time": "2024-08-17T02:46:40.120Z"
   },
   {
    "duration": 145,
    "start_time": "2024-08-17T02:48:00.153Z"
   },
   {
    "duration": 148,
    "start_time": "2024-08-17T02:48:55.712Z"
   },
   {
    "duration": 340,
    "start_time": "2024-08-17T02:52:36.895Z"
   },
   {
    "duration": 34,
    "start_time": "2024-08-17T03:26:29.281Z"
   },
   {
    "duration": 4,
    "start_time": "2024-08-17T03:27:14.450Z"
   },
   {
    "duration": 36,
    "start_time": "2024-08-17T03:27:22.719Z"
   },
   {
    "duration": 4,
    "start_time": "2024-08-17T03:27:41.678Z"
   },
   {
    "duration": 33,
    "start_time": "2024-08-17T03:29:52.609Z"
   },
   {
    "duration": 15,
    "start_time": "2024-08-17T03:30:06.029Z"
   },
   {
    "duration": 336,
    "start_time": "2024-08-17T03:43:57.664Z"
   },
   {
    "duration": 22,
    "start_time": "2024-08-17T03:44:22.524Z"
   },
   {
    "duration": 9,
    "start_time": "2024-08-17T03:45:08.483Z"
   },
   {
    "duration": 12,
    "start_time": "2024-08-17T03:46:31.776Z"
   },
   {
    "duration": 30,
    "start_time": "2024-08-17T03:51:29.500Z"
   },
   {
    "duration": 4,
    "start_time": "2024-08-17T03:51:42.914Z"
   },
   {
    "duration": 279,
    "start_time": "2024-08-17T03:51:43.633Z"
   },
   {
    "duration": 15,
    "start_time": "2024-08-17T03:51:44.556Z"
   },
   {
    "duration": 14,
    "start_time": "2024-08-17T03:51:44.752Z"
   },
   {
    "duration": 14,
    "start_time": "2024-08-17T03:51:46.033Z"
   },
   {
    "duration": 13,
    "start_time": "2024-08-17T03:51:47.480Z"
   },
   {
    "duration": 15,
    "start_time": "2024-08-17T03:51:48.316Z"
   },
   {
    "duration": 22,
    "start_time": "2024-08-17T03:51:48.574Z"
   },
   {
    "duration": 21,
    "start_time": "2024-08-17T03:51:49.962Z"
   },
   {
    "duration": 23,
    "start_time": "2024-08-17T03:51:51.154Z"
   },
   {
    "duration": 28,
    "start_time": "2024-08-17T03:51:51.581Z"
   },
   {
    "duration": 18,
    "start_time": "2024-08-17T03:51:51.822Z"
   },
   {
    "duration": 19,
    "start_time": "2024-08-17T03:51:53.101Z"
   },
   {
    "duration": 45,
    "start_time": "2024-08-17T03:51:53.824Z"
   },
   {
    "duration": 27,
    "start_time": "2024-08-17T03:51:54.086Z"
   },
   {
    "duration": 20,
    "start_time": "2024-08-17T03:51:54.584Z"
   },
   {
    "duration": 14,
    "start_time": "2024-08-17T03:51:54.840Z"
   },
   {
    "duration": 28,
    "start_time": "2024-08-17T03:51:55.942Z"
   },
   {
    "duration": 23,
    "start_time": "2024-08-17T03:51:56.633Z"
   },
   {
    "duration": 22,
    "start_time": "2024-08-17T03:51:57.121Z"
   },
   {
    "duration": 20,
    "start_time": "2024-08-17T03:51:57.352Z"
   },
   {
    "duration": 36,
    "start_time": "2024-08-17T03:51:58.333Z"
   },
   {
    "duration": 24,
    "start_time": "2024-08-17T03:51:59.386Z"
   },
   {
    "duration": 13,
    "start_time": "2024-08-17T03:52:00.265Z"
   },
   {
    "duration": 33,
    "start_time": "2024-08-17T03:52:00.644Z"
   },
   {
    "duration": 27,
    "start_time": "2024-08-17T03:52:00.893Z"
   },
   {
    "duration": 18,
    "start_time": "2024-08-17T03:52:01.196Z"
   },
   {
    "duration": 27,
    "start_time": "2024-08-17T03:52:01.496Z"
   },
   {
    "duration": 27,
    "start_time": "2024-08-17T03:52:01.789Z"
   },
   {
    "duration": 32,
    "start_time": "2024-08-17T03:52:02.332Z"
   },
   {
    "duration": 31,
    "start_time": "2024-08-17T03:52:02.610Z"
   },
   {
    "duration": 40,
    "start_time": "2024-08-17T03:52:02.900Z"
   },
   {
    "duration": 6,
    "start_time": "2024-08-17T03:52:03.577Z"
   },
   {
    "duration": 167,
    "start_time": "2024-08-17T03:52:04.005Z"
   },
   {
    "duration": 289,
    "start_time": "2024-08-17T03:52:05.015Z"
   },
   {
    "duration": 355,
    "start_time": "2024-08-17T03:52:05.338Z"
   },
   {
    "duration": 6,
    "start_time": "2024-08-17T03:52:05.808Z"
   },
   {
    "duration": 152,
    "start_time": "2024-08-17T03:52:06.088Z"
   },
   {
    "duration": 285,
    "start_time": "2024-08-17T03:52:06.965Z"
   },
   {
    "duration": 437,
    "start_time": "2024-08-17T03:52:07.256Z"
   },
   {
    "duration": 298,
    "start_time": "2024-08-17T03:52:08.901Z"
   },
   {
    "duration": 324,
    "start_time": "2024-08-17T03:52:09.292Z"
   },
   {
    "duration": 16,
    "start_time": "2024-08-17T03:52:17.833Z"
   },
   {
    "duration": 153,
    "start_time": "2024-08-17T03:52:18.092Z"
   },
   {
    "duration": 16,
    "start_time": "2024-08-17T03:52:18.558Z"
   },
   {
    "duration": 137,
    "start_time": "2024-08-17T03:52:19.141Z"
   },
   {
    "duration": 354,
    "start_time": "2024-08-17T03:52:19.609Z"
   },
   {
    "duration": 14,
    "start_time": "2024-08-17T03:52:22.908Z"
   },
   {
    "duration": 10,
    "start_time": "2024-08-17T03:59:43.081Z"
   },
   {
    "duration": 3,
    "start_time": "2024-08-17T04:09:12.285Z"
   },
   {
    "duration": 6,
    "start_time": "2024-08-17T04:11:55.709Z"
   },
   {
    "duration": 30,
    "start_time": "2024-08-17T04:35:13.757Z"
   },
   {
    "duration": 33,
    "start_time": "2024-08-17T04:35:34.173Z"
   },
   {
    "duration": 27,
    "start_time": "2024-08-17T04:35:51.000Z"
   },
   {
    "duration": 31,
    "start_time": "2024-08-17T04:41:07.337Z"
   },
   {
    "duration": 10,
    "start_time": "2024-08-17T04:41:18.042Z"
   },
   {
    "duration": 10,
    "start_time": "2024-08-17T04:42:48.531Z"
   },
   {
    "duration": 7,
    "start_time": "2024-08-17T04:43:46.417Z"
   },
   {
    "duration": 8,
    "start_time": "2024-08-17T04:43:57.883Z"
   },
   {
    "duration": 8,
    "start_time": "2024-08-17T04:44:50.418Z"
   },
   {
    "duration": 8,
    "start_time": "2024-08-17T04:45:33.877Z"
   },
   {
    "duration": 37,
    "start_time": "2024-08-17T04:46:19.928Z"
   },
   {
    "duration": 296,
    "start_time": "2024-08-17T04:46:54.585Z"
   },
   {
    "duration": 36,
    "start_time": "2024-08-17T04:47:36.138Z"
   },
   {
    "duration": 5,
    "start_time": "2024-08-17T04:48:25.311Z"
   },
   {
    "duration": 60,
    "start_time": "2024-08-17T04:48:35.545Z"
   },
   {
    "duration": 4,
    "start_time": "2024-08-17T04:49:12.047Z"
   },
   {
    "duration": 4,
    "start_time": "2024-08-17T04:49:53.238Z"
   },
   {
    "duration": 60,
    "start_time": "2024-08-17T04:49:56.792Z"
   },
   {
    "duration": 7,
    "start_time": "2024-08-17T04:51:09.446Z"
   },
   {
    "duration": 37,
    "start_time": "2024-08-17T04:51:38.162Z"
   },
   {
    "duration": 12,
    "start_time": "2024-08-17T04:52:05.692Z"
   },
   {
    "duration": 12,
    "start_time": "2024-08-17T04:52:49.449Z"
   },
   {
    "duration": 10,
    "start_time": "2024-08-17T04:53:12.695Z"
   },
   {
    "duration": 7,
    "start_time": "2024-08-17T04:53:58.782Z"
   },
   {
    "duration": 4907,
    "start_time": "2024-08-17T15:42:41.027Z"
   },
   {
    "duration": 363,
    "start_time": "2024-08-17T15:42:45.938Z"
   },
   {
    "duration": 16,
    "start_time": "2024-08-17T15:42:46.304Z"
   },
   {
    "duration": 16,
    "start_time": "2024-08-17T15:42:46.598Z"
   },
   {
    "duration": 17,
    "start_time": "2024-08-17T15:42:47.980Z"
   },
   {
    "duration": 13,
    "start_time": "2024-08-17T15:42:48.549Z"
   },
   {
    "duration": 14,
    "start_time": "2024-08-17T15:42:49.087Z"
   },
   {
    "duration": 21,
    "start_time": "2024-08-17T15:42:49.282Z"
   },
   {
    "duration": 22,
    "start_time": "2024-08-17T15:42:50.090Z"
   },
   {
    "duration": 22,
    "start_time": "2024-08-17T15:42:50.703Z"
   },
   {
    "duration": 24,
    "start_time": "2024-08-17T15:42:51.103Z"
   },
   {
    "duration": 17,
    "start_time": "2024-08-17T15:42:51.311Z"
   },
   {
    "duration": 19,
    "start_time": "2024-08-17T15:42:52.181Z"
   },
   {
    "duration": 47,
    "start_time": "2024-08-17T15:42:52.833Z"
   },
   {
    "duration": 27,
    "start_time": "2024-08-17T15:42:53.055Z"
   },
   {
    "duration": 19,
    "start_time": "2024-08-17T15:42:53.505Z"
   },
   {
    "duration": 15,
    "start_time": "2024-08-17T15:42:53.734Z"
   },
   {
    "duration": 30,
    "start_time": "2024-08-17T15:42:54.759Z"
   },
   {
    "duration": 22,
    "start_time": "2024-08-17T15:42:55.572Z"
   },
   {
    "duration": 23,
    "start_time": "2024-08-17T15:42:56.111Z"
   },
   {
    "duration": 17,
    "start_time": "2024-08-17T15:42:56.349Z"
   },
   {
    "duration": 37,
    "start_time": "2024-08-17T15:42:57.342Z"
   },
   {
    "duration": 26,
    "start_time": "2024-08-17T15:42:58.187Z"
   },
   {
    "duration": 12,
    "start_time": "2024-08-17T15:42:59.033Z"
   },
   {
    "duration": 31,
    "start_time": "2024-08-17T15:42:59.524Z"
   },
   {
    "duration": 27,
    "start_time": "2024-08-17T15:42:59.756Z"
   },
   {
    "duration": 21,
    "start_time": "2024-08-17T15:43:00.019Z"
   },
   {
    "duration": 25,
    "start_time": "2024-08-17T15:43:00.222Z"
   },
   {
    "duration": 26,
    "start_time": "2024-08-17T15:43:00.443Z"
   },
   {
    "duration": 33,
    "start_time": "2024-08-17T15:43:00.849Z"
   },
   {
    "duration": 37,
    "start_time": "2024-08-17T15:43:01.060Z"
   },
   {
    "duration": 42,
    "start_time": "2024-08-17T15:43:01.267Z"
   },
   {
    "duration": 6,
    "start_time": "2024-08-17T15:43:01.841Z"
   },
   {
    "duration": 160,
    "start_time": "2024-08-17T15:43:02.121Z"
   },
   {
    "duration": 313,
    "start_time": "2024-08-17T15:43:03.143Z"
   },
   {
    "duration": 378,
    "start_time": "2024-08-17T15:43:03.460Z"
   },
   {
    "duration": 7,
    "start_time": "2024-08-17T15:43:04.172Z"
   },
   {
    "duration": 154,
    "start_time": "2024-08-17T15:43:04.434Z"
   },
   {
    "duration": 277,
    "start_time": "2024-08-17T15:43:05.388Z"
   },
   {
    "duration": 390,
    "start_time": "2024-08-17T15:43:05.672Z"
   },
   {
    "duration": 311,
    "start_time": "2024-08-17T15:43:08.048Z"
   },
   {
    "duration": 347,
    "start_time": "2024-08-17T15:43:08.365Z"
   },
   {
    "duration": 15,
    "start_time": "2024-08-17T15:43:11.513Z"
   },
   {
    "duration": 145,
    "start_time": "2024-08-17T15:43:12.218Z"
   },
   {
    "duration": 16,
    "start_time": "2024-08-17T15:43:12.999Z"
   },
   {
    "duration": 142,
    "start_time": "2024-08-17T15:43:13.786Z"
   },
   {
    "duration": 353,
    "start_time": "2024-08-17T15:43:14.350Z"
   },
   {
    "duration": 14,
    "start_time": "2024-08-17T15:43:23.676Z"
   },
   {
    "duration": 10,
    "start_time": "2024-08-17T15:43:24.332Z"
   },
   {
    "duration": 4,
    "start_time": "2024-08-17T15:43:24.577Z"
   },
   {
    "duration": 7,
    "start_time": "2024-08-17T15:43:25.259Z"
   },
   {
    "duration": 10,
    "start_time": "2024-08-17T15:43:35.189Z"
   },
   {
    "duration": 415,
    "start_time": "2024-08-17T15:47:39.802Z"
   },
   {
    "duration": 24,
    "start_time": "2024-08-17T15:47:48.671Z"
   },
   {
    "duration": 9,
    "start_time": "2024-08-17T15:48:32.414Z"
   },
   {
    "duration": 196,
    "start_time": "2024-08-17T15:50:08.067Z"
   },
   {
    "duration": 23,
    "start_time": "2024-08-17T15:50:53.832Z"
   },
   {
    "duration": 4,
    "start_time": "2024-08-17T15:51:02.211Z"
   },
   {
    "duration": 9,
    "start_time": "2024-08-17T15:51:47.128Z"
   },
   {
    "duration": 6,
    "start_time": "2024-08-17T15:51:50.538Z"
   },
   {
    "duration": 6,
    "start_time": "2024-08-17T15:52:23.475Z"
   },
   {
    "duration": 6,
    "start_time": "2024-08-17T15:55:09.735Z"
   },
   {
    "duration": 170,
    "start_time": "2024-08-17T15:55:26.194Z"
   },
   {
    "duration": 10,
    "start_time": "2024-08-17T15:57:16.195Z"
   },
   {
    "duration": 9,
    "start_time": "2024-08-17T15:57:36.925Z"
   },
   {
    "duration": 9,
    "start_time": "2024-08-17T15:58:00.529Z"
   },
   {
    "duration": 9,
    "start_time": "2024-08-17T15:58:22.158Z"
   },
   {
    "duration": 10,
    "start_time": "2024-08-17T15:58:45.607Z"
   },
   {
    "duration": 4858,
    "start_time": "2024-08-17T16:56:24.073Z"
   },
   {
    "duration": 368,
    "start_time": "2024-08-17T16:56:28.935Z"
   },
   {
    "duration": 16,
    "start_time": "2024-08-17T16:56:29.306Z"
   },
   {
    "duration": 16,
    "start_time": "2024-08-17T16:56:29.327Z"
   },
   {
    "duration": 17,
    "start_time": "2024-08-17T16:56:29.345Z"
   },
   {
    "duration": 13,
    "start_time": "2024-08-17T16:56:29.365Z"
   },
   {
    "duration": 53,
    "start_time": "2024-08-17T16:56:29.382Z"
   },
   {
    "duration": 22,
    "start_time": "2024-08-17T16:56:29.438Z"
   },
   {
    "duration": 24,
    "start_time": "2024-08-17T16:56:29.462Z"
   },
   {
    "duration": 21,
    "start_time": "2024-08-17T16:56:29.526Z"
   },
   {
    "duration": 29,
    "start_time": "2024-08-17T16:56:29.862Z"
   },
   {
    "duration": 16,
    "start_time": "2024-08-17T16:56:30.067Z"
   },
   {
    "duration": 19,
    "start_time": "2024-08-17T16:56:30.839Z"
   },
   {
    "duration": 50,
    "start_time": "2024-08-17T16:56:31.397Z"
   },
   {
    "duration": 27,
    "start_time": "2024-08-17T16:56:31.583Z"
   },
   {
    "duration": 20,
    "start_time": "2024-08-17T16:56:32.012Z"
   },
   {
    "duration": 14,
    "start_time": "2024-08-17T16:56:32.209Z"
   },
   {
    "duration": 30,
    "start_time": "2024-08-17T16:56:33.068Z"
   },
   {
    "duration": 21,
    "start_time": "2024-08-17T16:56:33.708Z"
   },
   {
    "duration": 23,
    "start_time": "2024-08-17T16:56:34.164Z"
   },
   {
    "duration": 17,
    "start_time": "2024-08-17T16:56:34.378Z"
   },
   {
    "duration": 40,
    "start_time": "2024-08-17T16:56:35.604Z"
   },
   {
    "duration": 25,
    "start_time": "2024-08-17T16:56:36.471Z"
   },
   {
    "duration": 12,
    "start_time": "2024-08-17T16:56:37.872Z"
   },
   {
    "duration": 36,
    "start_time": "2024-08-17T16:56:39.341Z"
   },
   {
    "duration": 28,
    "start_time": "2024-08-17T16:56:39.563Z"
   },
   {
    "duration": 18,
    "start_time": "2024-08-17T16:56:39.756Z"
   },
   {
    "duration": 23,
    "start_time": "2024-08-17T16:56:39.944Z"
   },
   {
    "duration": 27,
    "start_time": "2024-08-17T16:56:40.160Z"
   },
   {
    "duration": 33,
    "start_time": "2024-08-17T16:56:40.502Z"
   },
   {
    "duration": 30,
    "start_time": "2024-08-17T16:56:40.670Z"
   },
   {
    "duration": 42,
    "start_time": "2024-08-17T16:56:40.850Z"
   },
   {
    "duration": 6,
    "start_time": "2024-08-17T16:56:41.214Z"
   },
   {
    "duration": 148,
    "start_time": "2024-08-17T16:56:41.461Z"
   },
   {
    "duration": 314,
    "start_time": "2024-08-17T16:56:42.334Z"
   },
   {
    "duration": 376,
    "start_time": "2024-08-17T16:56:42.652Z"
   },
   {
    "duration": 9,
    "start_time": "2024-08-17T16:56:43.031Z"
   },
   {
    "duration": 7,
    "start_time": "2024-08-17T16:56:43.204Z"
   },
   {
    "duration": 154,
    "start_time": "2024-08-17T16:56:43.413Z"
   },
   {
    "duration": 273,
    "start_time": "2024-08-17T16:56:44.013Z"
   },
   {
    "duration": 321,
    "start_time": "2024-08-17T16:56:44.289Z"
   },
   {
    "duration": 297,
    "start_time": "2024-08-17T16:56:45.024Z"
   },
   {
    "duration": 341,
    "start_time": "2024-08-17T16:56:45.327Z"
   },
   {
    "duration": 14,
    "start_time": "2024-08-17T16:56:46.335Z"
   },
   {
    "duration": 220,
    "start_time": "2024-08-17T16:56:46.562Z"
   },
   {
    "duration": 15,
    "start_time": "2024-08-17T16:56:46.785Z"
   },
   {
    "duration": 144,
    "start_time": "2024-08-17T16:56:46.976Z"
   },
   {
    "duration": 362,
    "start_time": "2024-08-17T16:56:47.186Z"
   },
   {
    "duration": 15,
    "start_time": "2024-08-17T16:56:48.557Z"
   },
   {
    "duration": 10,
    "start_time": "2024-08-17T16:56:49.386Z"
   },
   {
    "duration": 4,
    "start_time": "2024-08-17T16:56:49.653Z"
   },
   {
    "duration": 14,
    "start_time": "2024-08-17T16:56:49.869Z"
   },
   {
    "duration": 35,
    "start_time": "2024-08-17T16:58:43.331Z"
   },
   {
    "duration": 9,
    "start_time": "2024-08-17T16:59:06.774Z"
   },
   {
    "duration": 1036,
    "start_time": "2024-08-17T17:00:23.539Z"
   },
   {
    "duration": 99,
    "start_time": "2024-08-17T17:00:39.296Z"
   },
   {
    "duration": 8,
    "start_time": "2024-08-17T17:00:54.890Z"
   },
   {
    "duration": 6,
    "start_time": "2024-08-17T17:01:44.714Z"
   },
   {
    "duration": 7,
    "start_time": "2024-08-17T17:02:12.356Z"
   },
   {
    "duration": 7,
    "start_time": "2024-08-17T17:04:27.717Z"
   },
   {
    "duration": 7,
    "start_time": "2024-08-17T17:05:13.010Z"
   },
   {
    "duration": 12,
    "start_time": "2024-08-17T17:05:19.503Z"
   },
   {
    "duration": 11,
    "start_time": "2024-08-17T17:05:51.907Z"
   },
   {
    "duration": 547,
    "start_time": "2024-08-17T17:06:33.675Z"
   },
   {
    "duration": 149,
    "start_time": "2024-08-17T17:07:18.787Z"
   },
   {
    "duration": 246,
    "start_time": "2024-08-17T17:09:03.916Z"
   },
   {
    "duration": 8,
    "start_time": "2024-08-17T17:10:54.735Z"
   },
   {
    "duration": 8,
    "start_time": "2024-08-17T17:11:17.278Z"
   },
   {
    "duration": 407,
    "start_time": "2024-08-17T18:03:34.764Z"
   },
   {
    "duration": 4,
    "start_time": "2024-08-17T18:38:33.960Z"
   },
   {
    "duration": 262,
    "start_time": "2024-08-17T18:38:34.289Z"
   },
   {
    "duration": 16,
    "start_time": "2024-08-17T18:38:34.967Z"
   },
   {
    "duration": 12,
    "start_time": "2024-08-17T18:38:35.139Z"
   },
   {
    "duration": 14,
    "start_time": "2024-08-17T18:38:35.849Z"
   },
   {
    "duration": 15,
    "start_time": "2024-08-17T18:38:36.376Z"
   },
   {
    "duration": 14,
    "start_time": "2024-08-17T18:38:36.745Z"
   },
   {
    "duration": 22,
    "start_time": "2024-08-17T18:38:36.929Z"
   },
   {
    "duration": 23,
    "start_time": "2024-08-17T18:38:37.656Z"
   },
   {
    "duration": 24,
    "start_time": "2024-08-17T18:38:38.194Z"
   },
   {
    "duration": 27,
    "start_time": "2024-08-17T18:38:38.549Z"
   },
   {
    "duration": 19,
    "start_time": "2024-08-17T18:38:38.740Z"
   },
   {
    "duration": 23,
    "start_time": "2024-08-17T18:38:39.432Z"
   },
   {
    "duration": 55,
    "start_time": "2024-08-17T18:38:39.961Z"
   },
   {
    "duration": 44,
    "start_time": "2024-08-17T18:38:40.140Z"
   },
   {
    "duration": 37,
    "start_time": "2024-08-17T18:38:40.482Z"
   },
   {
    "duration": 21,
    "start_time": "2024-08-17T18:38:40.673Z"
   },
   {
    "duration": 36,
    "start_time": "2024-08-17T18:38:41.528Z"
   },
   {
    "duration": 23,
    "start_time": "2024-08-17T18:38:42.090Z"
   },
   {
    "duration": 24,
    "start_time": "2024-08-17T18:38:42.476Z"
   },
   {
    "duration": 18,
    "start_time": "2024-08-17T18:38:42.657Z"
   },
   {
    "duration": 39,
    "start_time": "2024-08-17T18:38:43.398Z"
   },
   {
    "duration": 27,
    "start_time": "2024-08-17T18:38:43.945Z"
   },
   {
    "duration": 16,
    "start_time": "2024-08-17T18:38:44.504Z"
   },
   {
    "duration": 37,
    "start_time": "2024-08-17T18:38:44.894Z"
   },
   {
    "duration": 28,
    "start_time": "2024-08-17T18:38:45.462Z"
   },
   {
    "duration": 18,
    "start_time": "2024-08-17T18:38:45.655Z"
   },
   {
    "duration": 28,
    "start_time": "2024-08-17T18:38:45.842Z"
   },
   {
    "duration": 33,
    "start_time": "2024-08-17T18:38:46.045Z"
   },
   {
    "duration": 33,
    "start_time": "2024-08-17T18:38:46.462Z"
   },
   {
    "duration": 31,
    "start_time": "2024-08-17T18:38:46.663Z"
   },
   {
    "duration": 41,
    "start_time": "2024-08-17T18:38:46.869Z"
   },
   {
    "duration": 9,
    "start_time": "2024-08-17T18:38:47.317Z"
   },
   {
    "duration": 167,
    "start_time": "2024-08-17T18:38:47.585Z"
   },
   {
    "duration": 296,
    "start_time": "2024-08-17T18:38:48.385Z"
   },
   {
    "duration": 420,
    "start_time": "2024-08-17T18:38:48.685Z"
   },
   {
    "duration": 18,
    "start_time": "2024-08-17T18:38:49.109Z"
   },
   {
    "duration": 6,
    "start_time": "2024-08-17T18:38:49.139Z"
   },
   {
    "duration": 10,
    "start_time": "2024-08-17T18:38:49.331Z"
   },
   {
    "duration": 8,
    "start_time": "2024-08-17T18:38:49.524Z"
   },
   {
    "duration": 11,
    "start_time": "2024-08-17T18:38:49.714Z"
   },
   {
    "duration": 158,
    "start_time": "2024-08-17T18:38:49.920Z"
   },
   {
    "duration": 167,
    "start_time": "2024-08-17T18:38:50.129Z"
   },
   {
    "duration": 279,
    "start_time": "2024-08-17T18:38:50.839Z"
   },
   {
    "duration": 332,
    "start_time": "2024-08-17T18:38:51.121Z"
   },
   {
    "duration": 309,
    "start_time": "2024-08-17T18:38:53.559Z"
   },
   {
    "duration": 346,
    "start_time": "2024-08-17T18:38:53.872Z"
   },
   {
    "duration": 16,
    "start_time": "2024-08-17T18:38:54.940Z"
   },
   {
    "duration": 181,
    "start_time": "2024-08-17T18:38:55.123Z"
   },
   {
    "duration": 15,
    "start_time": "2024-08-17T18:38:55.537Z"
   },
   {
    "duration": 146,
    "start_time": "2024-08-17T18:38:55.752Z"
   },
   {
    "duration": 485,
    "start_time": "2024-08-17T18:38:55.944Z"
   },
   {
    "duration": 18,
    "start_time": "2024-08-17T18:38:57.534Z"
   },
   {
    "duration": 10,
    "start_time": "2024-08-17T18:38:59.148Z"
   },
   {
    "duration": 9,
    "start_time": "2024-08-17T18:38:59.581Z"
   },
   {
    "duration": 12,
    "start_time": "2024-08-17T18:39:00.418Z"
   },
   {
    "duration": 396,
    "start_time": "2024-08-17T18:41:31.885Z"
   },
   {
    "duration": 416,
    "start_time": "2024-08-17T18:42:23.648Z"
   },
   {
    "duration": 4849,
    "start_time": "2024-08-17T20:05:40.976Z"
   },
   {
    "duration": 359,
    "start_time": "2024-08-17T20:05:45.828Z"
   },
   {
    "duration": 16,
    "start_time": "2024-08-17T20:05:46.191Z"
   },
   {
    "duration": 16,
    "start_time": "2024-08-17T20:05:46.211Z"
   },
   {
    "duration": 15,
    "start_time": "2024-08-17T20:05:47.819Z"
   },
   {
    "duration": 14,
    "start_time": "2024-08-17T20:05:50.247Z"
   },
   {
    "duration": 14,
    "start_time": "2024-08-17T20:05:55.427Z"
   },
   {
    "duration": 20,
    "start_time": "2024-08-17T20:05:55.643Z"
   },
   {
    "duration": 23,
    "start_time": "2024-08-17T20:05:56.492Z"
   },
   {
    "duration": 22,
    "start_time": "2024-08-17T20:05:57.089Z"
   },
   {
    "duration": 24,
    "start_time": "2024-08-17T20:05:57.507Z"
   },
   {
    "duration": 16,
    "start_time": "2024-08-17T20:05:57.712Z"
   },
   {
    "duration": 20,
    "start_time": "2024-08-17T20:05:58.619Z"
   },
   {
    "duration": 46,
    "start_time": "2024-08-17T20:05:59.387Z"
   },
   {
    "duration": 32,
    "start_time": "2024-08-17T20:05:59.698Z"
   },
   {
    "duration": 21,
    "start_time": "2024-08-17T20:06:00.428Z"
   },
   {
    "duration": 14,
    "start_time": "2024-08-17T20:06:00.669Z"
   },
   {
    "duration": 30,
    "start_time": "2024-08-17T20:06:01.651Z"
   },
   {
    "duration": 22,
    "start_time": "2024-08-17T20:06:02.253Z"
   },
   {
    "duration": 21,
    "start_time": "2024-08-17T20:06:02.630Z"
   },
   {
    "duration": 17,
    "start_time": "2024-08-17T20:06:02.840Z"
   },
   {
    "duration": 38,
    "start_time": "2024-08-17T20:06:03.629Z"
   },
   {
    "duration": 33,
    "start_time": "2024-08-17T20:06:04.252Z"
   },
   {
    "duration": 13,
    "start_time": "2024-08-17T20:06:04.883Z"
   },
   {
    "duration": 33,
    "start_time": "2024-08-17T20:06:05.320Z"
   },
   {
    "duration": 28,
    "start_time": "2024-08-17T20:06:05.552Z"
   },
   {
    "duration": 20,
    "start_time": "2024-08-17T20:06:05.786Z"
   },
   {
    "duration": 27,
    "start_time": "2024-08-17T20:06:06.028Z"
   },
   {
    "duration": 26,
    "start_time": "2024-08-17T20:06:06.321Z"
   },
   {
    "duration": 33,
    "start_time": "2024-08-17T20:06:06.811Z"
   },
   {
    "duration": 30,
    "start_time": "2024-08-17T20:06:07.029Z"
   },
   {
    "duration": 42,
    "start_time": "2024-08-17T20:06:07.248Z"
   },
   {
    "duration": 8,
    "start_time": "2024-08-17T20:06:07.667Z"
   },
   {
    "duration": 153,
    "start_time": "2024-08-17T20:06:07.947Z"
   },
   {
    "duration": 314,
    "start_time": "2024-08-17T20:06:09.002Z"
   },
   {
    "duration": 435,
    "start_time": "2024-08-17T20:06:09.322Z"
   },
   {
    "duration": 10,
    "start_time": "2024-08-17T20:06:11.288Z"
   },
   {
    "duration": 6,
    "start_time": "2024-08-17T20:06:11.502Z"
   },
   {
    "duration": 11,
    "start_time": "2024-08-17T20:06:11.826Z"
   },
   {
    "duration": 6,
    "start_time": "2024-08-17T20:06:12.091Z"
   },
   {
    "duration": 11,
    "start_time": "2024-08-17T20:06:12.342Z"
   },
   {
    "duration": 151,
    "start_time": "2024-08-17T20:06:12.559Z"
   },
   {
    "duration": 147,
    "start_time": "2024-08-17T20:06:12.778Z"
   },
   {
    "duration": 287,
    "start_time": "2024-08-17T20:06:13.474Z"
   },
   {
    "duration": 391,
    "start_time": "2024-08-17T20:06:13.765Z"
   },
   {
    "duration": 307,
    "start_time": "2024-08-17T20:06:15.037Z"
   },
   {
    "duration": 346,
    "start_time": "2024-08-17T20:06:15.347Z"
   },
   {
    "duration": 15,
    "start_time": "2024-08-17T20:06:16.884Z"
   },
   {
    "duration": 146,
    "start_time": "2024-08-17T20:06:17.132Z"
   },
   {
    "duration": 16,
    "start_time": "2024-08-17T20:06:17.332Z"
   },
   {
    "duration": 142,
    "start_time": "2024-08-17T20:06:17.544Z"
   },
   {
    "duration": 351,
    "start_time": "2024-08-17T20:06:17.753Z"
   },
   {
    "duration": 16,
    "start_time": "2024-08-17T20:06:19.237Z"
   },
   {
    "duration": 10,
    "start_time": "2024-08-17T20:06:20.255Z"
   },
   {
    "duration": 4,
    "start_time": "2024-08-17T20:06:20.524Z"
   },
   {
    "duration": 11,
    "start_time": "2024-08-17T20:06:20.773Z"
   },
   {
    "duration": 305,
    "start_time": "2024-08-17T20:10:57.746Z"
   },
   {
    "duration": 342,
    "start_time": "2024-08-17T20:15:59.240Z"
   },
   {
    "duration": 471,
    "start_time": "2024-08-17T20:16:45.014Z"
   },
   {
    "duration": 388,
    "start_time": "2024-08-17T20:16:57.294Z"
   },
   {
    "duration": 408,
    "start_time": "2024-08-17T20:17:07.050Z"
   },
   {
    "duration": 392,
    "start_time": "2024-08-17T20:17:34.080Z"
   },
   {
    "duration": 376,
    "start_time": "2024-08-17T20:17:55.651Z"
   },
   {
    "duration": 413,
    "start_time": "2024-08-17T20:18:09.603Z"
   },
   {
    "duration": 467,
    "start_time": "2024-08-17T20:18:40.006Z"
   },
   {
    "duration": 345,
    "start_time": "2024-08-17T20:18:59.822Z"
   },
   {
    "duration": 316,
    "start_time": "2024-08-17T20:19:25.085Z"
   },
   {
    "duration": 327,
    "start_time": "2024-08-17T20:19:39.053Z"
   },
   {
    "duration": 313,
    "start_time": "2024-08-17T20:19:54.270Z"
   },
   {
    "duration": 347,
    "start_time": "2024-08-17T20:20:24.576Z"
   },
   {
    "duration": 414,
    "start_time": "2024-08-17T20:21:25.347Z"
   },
   {
    "duration": 400,
    "start_time": "2024-08-17T20:22:31.589Z"
   },
   {
    "duration": 320,
    "start_time": "2024-08-17T20:25:56.143Z"
   },
   {
    "duration": 307,
    "start_time": "2024-08-17T20:26:58.029Z"
   },
   {
    "duration": 322,
    "start_time": "2024-08-17T20:28:23.224Z"
   },
   {
    "duration": 307,
    "start_time": "2024-08-17T20:28:45.121Z"
   },
   {
    "duration": 353,
    "start_time": "2024-08-17T20:36:39.501Z"
   },
   {
    "duration": 303,
    "start_time": "2024-08-17T20:38:28.935Z"
   },
   {
    "duration": 359,
    "start_time": "2024-08-17T20:41:04.784Z"
   },
   {
    "duration": 346,
    "start_time": "2024-08-17T20:41:19.970Z"
   },
   {
    "duration": 348,
    "start_time": "2024-08-17T20:42:28.662Z"
   },
   {
    "duration": 483,
    "start_time": "2024-08-17T20:42:55.187Z"
   },
   {
    "duration": 285,
    "start_time": "2024-08-17T20:44:08.902Z"
   },
   {
    "duration": 289,
    "start_time": "2024-08-17T20:44:33.778Z"
   },
   {
    "duration": 13,
    "start_time": "2024-08-17T20:45:48.883Z"
   },
   {
    "duration": 12,
    "start_time": "2024-08-17T20:46:09.684Z"
   },
   {
    "duration": 356,
    "start_time": "2024-08-17T20:47:06.692Z"
   },
   {
    "duration": 350,
    "start_time": "2024-08-17T20:47:42.542Z"
   },
   {
    "duration": 136,
    "start_time": "2024-08-17T20:52:15.047Z"
   },
   {
    "duration": 136,
    "start_time": "2024-08-17T20:53:10.765Z"
   },
   {
    "duration": 143,
    "start_time": "2024-08-17T21:04:35.407Z"
   },
   {
    "duration": 268,
    "start_time": "2024-08-17T21:44:24.172Z"
   },
   {
    "duration": 11,
    "start_time": "2024-08-17T21:51:23.338Z"
   },
   {
    "duration": 10,
    "start_time": "2024-08-17T21:51:43.129Z"
   },
   {
    "duration": 349,
    "start_time": "2024-08-17T21:53:01.618Z"
   },
   {
    "duration": 327,
    "start_time": "2024-08-17T21:53:40.217Z"
   },
   {
    "duration": 273,
    "start_time": "2024-08-17T21:54:53.949Z"
   },
   {
    "duration": 356,
    "start_time": "2024-08-17T21:55:36.869Z"
   },
   {
    "duration": 317,
    "start_time": "2024-08-17T21:56:48.679Z"
   },
   {
    "duration": 169,
    "start_time": "2024-08-17T21:57:50.461Z"
   },
   {
    "duration": 11,
    "start_time": "2024-08-17T21:58:00.230Z"
   },
   {
    "duration": 138,
    "start_time": "2024-08-17T21:58:37.240Z"
   },
   {
    "duration": 14,
    "start_time": "2024-08-17T22:53:49.881Z"
   },
   {
    "duration": 299,
    "start_time": "2024-08-17T22:59:30.932Z"
   },
   {
    "duration": 327,
    "start_time": "2024-08-17T23:01:28.024Z"
   },
   {
    "duration": 267,
    "start_time": "2024-08-17T23:02:51.358Z"
   },
   {
    "duration": 17,
    "start_time": "2024-08-17T23:10:51.427Z"
   },
   {
    "duration": 16,
    "start_time": "2024-08-17T23:11:44.439Z"
   },
   {
    "duration": 372,
    "start_time": "2024-08-17T23:11:54.324Z"
   },
   {
    "duration": 15,
    "start_time": "2024-08-17T23:11:58.597Z"
   },
   {
    "duration": 15,
    "start_time": "2024-08-17T23:12:46.083Z"
   },
   {
    "duration": 14,
    "start_time": "2024-08-17T23:12:53.004Z"
   },
   {
    "duration": 318,
    "start_time": "2024-08-17T23:31:10.243Z"
   },
   {
    "duration": 304,
    "start_time": "2024-08-17T23:31:43.987Z"
   },
   {
    "duration": 201,
    "start_time": "2024-08-18T01:06:27.827Z"
   },
   {
    "duration": 10,
    "start_time": "2024-08-18T01:06:51.142Z"
   },
   {
    "duration": 8,
    "start_time": "2024-08-18T01:07:09.073Z"
   },
   {
    "duration": 9,
    "start_time": "2024-08-18T01:10:27.084Z"
   },
   {
    "duration": 9,
    "start_time": "2024-08-18T01:11:11.629Z"
   },
   {
    "duration": 8,
    "start_time": "2024-08-18T01:12:16.942Z"
   },
   {
    "duration": 8,
    "start_time": "2024-08-18T01:13:33.933Z"
   },
   {
    "duration": 771,
    "start_time": "2024-08-18T01:42:13.419Z"
   },
   {
    "duration": 9,
    "start_time": "2024-08-18T01:43:31.811Z"
   },
   {
    "duration": 12,
    "start_time": "2024-08-18T01:44:13.855Z"
   },
   {
    "duration": 7,
    "start_time": "2024-08-18T01:46:31.760Z"
   },
   {
    "duration": 6,
    "start_time": "2024-08-18T01:46:46.496Z"
   },
   {
    "duration": 11,
    "start_time": "2024-08-18T01:51:50.187Z"
   },
   {
    "duration": 12,
    "start_time": "2024-08-18T01:52:10.007Z"
   },
   {
    "duration": 7,
    "start_time": "2024-08-18T02:21:21.695Z"
   },
   {
    "duration": 7,
    "start_time": "2024-08-18T02:21:54.155Z"
   },
   {
    "duration": 8,
    "start_time": "2024-08-18T02:25:51.678Z"
   },
   {
    "duration": 7,
    "start_time": "2024-08-18T02:26:52.680Z"
   },
   {
    "duration": 7,
    "start_time": "2024-08-18T02:29:13.073Z"
   },
   {
    "duration": 6,
    "start_time": "2024-08-18T02:29:27.436Z"
   },
   {
    "duration": 143,
    "start_time": "2024-08-18T02:37:35.628Z"
   },
   {
    "duration": 7,
    "start_time": "2024-08-18T02:38:02.162Z"
   },
   {
    "duration": 6,
    "start_time": "2024-08-18T02:38:33.023Z"
   },
   {
    "duration": 4,
    "start_time": "2024-08-18T02:53:41.630Z"
   },
   {
    "duration": 264,
    "start_time": "2024-08-18T02:53:42.020Z"
   },
   {
    "duration": 13,
    "start_time": "2024-08-18T02:53:42.924Z"
   },
   {
    "duration": 12,
    "start_time": "2024-08-18T02:53:43.104Z"
   },
   {
    "duration": 15,
    "start_time": "2024-08-18T02:53:43.860Z"
   },
   {
    "duration": 13,
    "start_time": "2024-08-18T02:53:44.440Z"
   },
   {
    "duration": 14,
    "start_time": "2024-08-18T02:53:45.134Z"
   },
   {
    "duration": 21,
    "start_time": "2024-08-18T02:53:45.364Z"
   },
   {
    "duration": 21,
    "start_time": "2024-08-18T02:53:46.503Z"
   },
   {
    "duration": 29,
    "start_time": "2024-08-18T02:53:47.078Z"
   },
   {
    "duration": 26,
    "start_time": "2024-08-18T02:53:47.455Z"
   },
   {
    "duration": 19,
    "start_time": "2024-08-18T02:53:47.646Z"
   },
   {
    "duration": 21,
    "start_time": "2024-08-18T02:53:48.429Z"
   },
   {
    "duration": 52,
    "start_time": "2024-08-18T02:53:49.022Z"
   },
   {
    "duration": 27,
    "start_time": "2024-08-18T02:53:49.227Z"
   },
   {
    "duration": 20,
    "start_time": "2024-08-18T02:53:49.620Z"
   },
   {
    "duration": 14,
    "start_time": "2024-08-18T02:53:49.810Z"
   },
   {
    "duration": 35,
    "start_time": "2024-08-18T02:53:50.612Z"
   },
   {
    "duration": 21,
    "start_time": "2024-08-18T02:53:51.229Z"
   },
   {
    "duration": 23,
    "start_time": "2024-08-18T02:53:51.638Z"
   },
   {
    "duration": 17,
    "start_time": "2024-08-18T02:53:51.836Z"
   },
   {
    "duration": 35,
    "start_time": "2024-08-18T02:53:52.663Z"
   },
   {
    "duration": 27,
    "start_time": "2024-08-18T02:53:53.301Z"
   },
   {
    "duration": 12,
    "start_time": "2024-08-18T02:53:53.897Z"
   },
   {
    "duration": 31,
    "start_time": "2024-08-18T02:53:54.481Z"
   },
   {
    "duration": 27,
    "start_time": "2024-08-18T02:53:54.690Z"
   },
   {
    "duration": 19,
    "start_time": "2024-08-18T02:53:54.890Z"
   },
   {
    "duration": 23,
    "start_time": "2024-08-18T02:53:55.094Z"
   },
   {
    "duration": 30,
    "start_time": "2024-08-18T02:53:55.312Z"
   },
   {
    "duration": 34,
    "start_time": "2024-08-18T02:53:55.729Z"
   },
   {
    "duration": 30,
    "start_time": "2024-08-18T02:53:55.927Z"
   },
   {
    "duration": 43,
    "start_time": "2024-08-18T02:53:56.129Z"
   },
   {
    "duration": 6,
    "start_time": "2024-08-18T02:53:56.891Z"
   },
   {
    "duration": 153,
    "start_time": "2024-08-18T02:53:57.103Z"
   },
   {
    "duration": 292,
    "start_time": "2024-08-18T02:53:57.933Z"
   },
   {
    "duration": 365,
    "start_time": "2024-08-18T02:53:58.230Z"
   },
   {
    "duration": 25,
    "start_time": "2024-08-18T02:53:58.598Z"
   },
   {
    "duration": 8,
    "start_time": "2024-08-18T02:53:58.985Z"
   },
   {
    "duration": 165,
    "start_time": "2024-08-18T02:53:59.425Z"
   },
   {
    "duration": 11,
    "start_time": "2024-08-18T02:53:59.642Z"
   },
   {
    "duration": 160,
    "start_time": "2024-08-18T02:53:59.883Z"
   },
   {
    "duration": 11,
    "start_time": "2024-08-18T02:54:00.101Z"
   },
   {
    "duration": 282,
    "start_time": "2024-08-18T02:54:00.964Z"
   },
   {
    "duration": 304,
    "start_time": "2024-08-18T02:54:01.250Z"
   },
   {
    "duration": 156,
    "start_time": "2024-08-18T02:54:01.558Z"
   },
   {
    "duration": 155,
    "start_time": "2024-08-18T02:54:01.724Z"
   },
   {
    "duration": 12,
    "start_time": "2024-08-18T02:54:01.883Z"
   },
   {
    "duration": 11,
    "start_time": "2024-08-18T02:54:02.031Z"
   },
   {
    "duration": 6,
    "start_time": "2024-08-18T02:54:02.235Z"
   },
   {
    "duration": 7,
    "start_time": "2024-08-18T02:54:02.452Z"
   },
   {
    "duration": 304,
    "start_time": "2024-08-18T02:54:03.102Z"
   },
   {
    "duration": 368,
    "start_time": "2024-08-18T02:54:03.410Z"
   },
   {
    "duration": 12,
    "start_time": "2024-08-18T02:54:03.782Z"
   },
   {
    "duration": 181,
    "start_time": "2024-08-18T02:54:03.798Z"
   },
   {
    "duration": 11,
    "start_time": "2024-08-18T02:54:03.983Z"
   },
   {
    "duration": 134,
    "start_time": "2024-08-18T02:54:04.140Z"
   },
   {
    "duration": 6,
    "start_time": "2024-08-18T02:54:04.339Z"
   },
   {
    "duration": 7,
    "start_time": "2024-08-18T02:54:04.555Z"
   },
   {
    "duration": 439,
    "start_time": "2024-08-18T02:54:05.389Z"
   },
   {
    "duration": 15,
    "start_time": "2024-08-18T02:54:05.831Z"
   },
   {
    "duration": 179,
    "start_time": "2024-08-18T02:54:05.849Z"
   },
   {
    "duration": 14,
    "start_time": "2024-08-18T02:54:06.043Z"
   },
   {
    "duration": 141,
    "start_time": "2024-08-18T02:54:06.265Z"
   },
   {
    "duration": 275,
    "start_time": "2024-08-18T02:54:06.474Z"
   },
   {
    "duration": 7,
    "start_time": "2024-08-18T02:54:06.753Z"
   },
   {
    "duration": 7,
    "start_time": "2024-08-18T02:54:06.896Z"
   },
   {
    "duration": 14,
    "start_time": "2024-08-18T02:54:10.484Z"
   },
   {
    "duration": 11,
    "start_time": "2024-08-18T02:54:11.097Z"
   },
   {
    "duration": 4,
    "start_time": "2024-08-18T02:54:11.292Z"
   },
   {
    "duration": 11,
    "start_time": "2024-08-18T02:54:11.531Z"
   },
   {
    "duration": 15,
    "start_time": "2024-08-19T21:30:11.415Z"
   }
  ],
  "colab": {
   "provenance": []
  },
  "kernelspec": {
   "display_name": "Python 3 (ipykernel)",
   "language": "python",
   "name": "python3"
  },
  "language_info": {
   "codemirror_mode": {
    "name": "ipython",
    "version": 3
   },
   "file_extension": ".py",
   "mimetype": "text/x-python",
   "name": "python",
   "nbconvert_exporter": "python",
   "pygments_lexer": "ipython3",
   "version": "3.9.19"
  },
  "toc": {
   "base_numbering": 1,
   "nav_menu": {},
   "number_sections": true,
   "sideBar": true,
   "skip_h1_title": false,
   "title_cell": "Table of Contents",
   "title_sidebar": "Contents",
   "toc_cell": false,
   "toc_position": {
    "height": "calc(100% - 180px)",
    "left": "10px",
    "top": "150px",
    "width": "165px"
   },
   "toc_section_display": true,
   "toc_window_display": true
  }
 },
 "nbformat": 4,
 "nbformat_minor": 1
}
